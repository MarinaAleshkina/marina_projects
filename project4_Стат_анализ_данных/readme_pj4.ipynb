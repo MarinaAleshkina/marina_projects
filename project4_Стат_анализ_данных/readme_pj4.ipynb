{
 "cells": [
  {
   "cell_type": "markdown",
   "id": "26f20c38",
   "metadata": {},
   "source": [
    "###  Данные\n",
    "\n",
    "В наличии данные о клиентах двух тарифных планов компании. Есть следующая информация:\n",
    "- звонки(время, продолжительность)\n",
    "- использование интернета \n",
    "- смс\n",
    "- данные, характеризующие пользователя\n",
    "- информация о самих тарифах\n",
    "\n",
    "### Задача\n",
    "Необходимо проверить следующие статистические гипотезы:\n",
    "- средняя выручка пользователей тарифов различается\n",
    "- пользователи из Москвы приносят больше выручки, чем пользователи из других городов\n",
    "\n",
    "### Используемые библиотеки\n",
    "pandas, matplotlib.pyplot, numpy, seaborn, scipy.stats"
   ]
  }
 ],
 "metadata": {
  "kernelspec": {
   "display_name": "Python 3 (ipykernel)",
   "language": "python",
   "name": "python3"
  },
  "language_info": {
   "codemirror_mode": {
    "name": "ipython",
    "version": 3
   },
   "file_extension": ".py",
   "mimetype": "text/x-python",
   "name": "python",
   "nbconvert_exporter": "python",
   "pygments_lexer": "ipython3",
   "version": "3.9.12"
  }
 },
 "nbformat": 4,
 "nbformat_minor": 5
}
