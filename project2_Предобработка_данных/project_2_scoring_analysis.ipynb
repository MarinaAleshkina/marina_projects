{
 "cells": [
  {
   "cell_type": "markdown",
   "id": "e048fee6",
   "metadata": {
    "deletable": false,
    "editable": false,
    "id": "c81daeeb"
   },
   "source": [
    "# Исследование надежности заемщиков\n"
   ]
  },
  {
   "cell_type": "markdown",
   "id": "2f870c2a",
   "metadata": {
    "deletable": false,
    "editable": false,
    "id": "827c20bf"
   },
   "source": [
    "Во второй части проекта вы выполните шаги 3 и 4. Их вручную проверит ревьюер.\n",
    "Чтобы вам не пришлось писать код заново для шагов 1 и 2, мы добавили авторские решения в ячейки с кодом. \n",
    "\n"
   ]
  },
  {
   "cell_type": "markdown",
   "id": "eac86adc",
   "metadata": {},
   "source": [
    "## Описание проекта \n",
    "   \n",
    "   Есть данные от кредитного отдела банка, содержащие статистику платежеспособности клиентов. \n",
    "   \n",
    "    \n",
    "   Нужно проверить гипотезы о том, что количество детей, семейное положение, уровень дохода и цель кредита влияют на факт погашения задолженности в срок.\n",
    "    \n",
    "    \n",
    "   Результаты исследования будут учтены при построении модели кредитного скоринга — специальной системы, которая оценивает способность потенциального заёмщика вернуть кредит банку.\n",
    "   "
   ]
  },
  {
   "cell_type": "markdown",
   "id": "1c79dd51",
   "metadata": {
    "deletable": false,
    "editable": false,
    "id": "744d7639"
   },
   "source": [
    "## Откройте таблицу и изучите общую информацию о данных"
   ]
  },
  {
   "cell_type": "markdown",
   "id": "67b0fb05",
   "metadata": {
    "deletable": false,
    "editable": false,
    "id": "e7a14c31"
   },
   "source": [
    "**Задание 1. Импортируйте библиотеку pandas. Считайте данные из csv-файла в датафрейм и сохраните в переменную `data`. Путь к файлу:**\n",
    "\n",
    "`/datasets/data.csv`"
   ]
  },
  {
   "cell_type": "code",
   "execution_count": 1,
   "id": "5356d6c9",
   "metadata": {
    "deletable": false,
    "id": "7bcf75c9"
   },
   "outputs": [],
   "source": [
    "import pandas as pd\n",
    "\n",
    "try:\n",
    "    data = pd.read_csv('/datasets/data.csv')\n",
    "except:\n",
    "    data = pd.read_csv('https://code.s3.yandex.net/datasets/data.csv')"
   ]
  },
  {
   "cell_type": "markdown",
   "id": "2883fa2b",
   "metadata": {
    "deletable": false,
    "editable": false,
    "id": "b8038fe3"
   },
   "source": [
    "**Задание 2. Выведите первые 20 строчек датафрейма `data` на экран.**"
   ]
  },
  {
   "cell_type": "code",
   "execution_count": 2,
   "id": "920641da",
   "metadata": {
    "deletable": false,
    "id": "2a7cab99",
    "outputId": "1a8f3ef2-d323-4ec2-ddf7-89670b5944c4",
    "scrolled": true
   },
   "outputs": [
    {
     "data": {
      "text/html": [
       "<div>\n",
       "<style scoped>\n",
       "    .dataframe tbody tr th:only-of-type {\n",
       "        vertical-align: middle;\n",
       "    }\n",
       "\n",
       "    .dataframe tbody tr th {\n",
       "        vertical-align: top;\n",
       "    }\n",
       "\n",
       "    .dataframe thead th {\n",
       "        text-align: right;\n",
       "    }\n",
       "</style>\n",
       "<table border=\"1\" class=\"dataframe\">\n",
       "  <thead>\n",
       "    <tr style=\"text-align: right;\">\n",
       "      <th></th>\n",
       "      <th>children</th>\n",
       "      <th>days_employed</th>\n",
       "      <th>dob_years</th>\n",
       "      <th>education</th>\n",
       "      <th>education_id</th>\n",
       "      <th>family_status</th>\n",
       "      <th>family_status_id</th>\n",
       "      <th>gender</th>\n",
       "      <th>income_type</th>\n",
       "      <th>debt</th>\n",
       "      <th>total_income</th>\n",
       "      <th>purpose</th>\n",
       "    </tr>\n",
       "  </thead>\n",
       "  <tbody>\n",
       "    <tr>\n",
       "      <th>0</th>\n",
       "      <td>1</td>\n",
       "      <td>-8437.673028</td>\n",
       "      <td>42</td>\n",
       "      <td>высшее</td>\n",
       "      <td>0</td>\n",
       "      <td>женат / замужем</td>\n",
       "      <td>0</td>\n",
       "      <td>F</td>\n",
       "      <td>сотрудник</td>\n",
       "      <td>0</td>\n",
       "      <td>253875.639453</td>\n",
       "      <td>покупка жилья</td>\n",
       "    </tr>\n",
       "    <tr>\n",
       "      <th>1</th>\n",
       "      <td>1</td>\n",
       "      <td>-4024.803754</td>\n",
       "      <td>36</td>\n",
       "      <td>среднее</td>\n",
       "      <td>1</td>\n",
       "      <td>женат / замужем</td>\n",
       "      <td>0</td>\n",
       "      <td>F</td>\n",
       "      <td>сотрудник</td>\n",
       "      <td>0</td>\n",
       "      <td>112080.014102</td>\n",
       "      <td>приобретение автомобиля</td>\n",
       "    </tr>\n",
       "    <tr>\n",
       "      <th>2</th>\n",
       "      <td>0</td>\n",
       "      <td>-5623.422610</td>\n",
       "      <td>33</td>\n",
       "      <td>Среднее</td>\n",
       "      <td>1</td>\n",
       "      <td>женат / замужем</td>\n",
       "      <td>0</td>\n",
       "      <td>M</td>\n",
       "      <td>сотрудник</td>\n",
       "      <td>0</td>\n",
       "      <td>145885.952297</td>\n",
       "      <td>покупка жилья</td>\n",
       "    </tr>\n",
       "    <tr>\n",
       "      <th>3</th>\n",
       "      <td>3</td>\n",
       "      <td>-4124.747207</td>\n",
       "      <td>32</td>\n",
       "      <td>среднее</td>\n",
       "      <td>1</td>\n",
       "      <td>женат / замужем</td>\n",
       "      <td>0</td>\n",
       "      <td>M</td>\n",
       "      <td>сотрудник</td>\n",
       "      <td>0</td>\n",
       "      <td>267628.550329</td>\n",
       "      <td>дополнительное образование</td>\n",
       "    </tr>\n",
       "    <tr>\n",
       "      <th>4</th>\n",
       "      <td>0</td>\n",
       "      <td>340266.072047</td>\n",
       "      <td>53</td>\n",
       "      <td>среднее</td>\n",
       "      <td>1</td>\n",
       "      <td>гражданский брак</td>\n",
       "      <td>1</td>\n",
       "      <td>F</td>\n",
       "      <td>пенсионер</td>\n",
       "      <td>0</td>\n",
       "      <td>158616.077870</td>\n",
       "      <td>сыграть свадьбу</td>\n",
       "    </tr>\n",
       "    <tr>\n",
       "      <th>5</th>\n",
       "      <td>0</td>\n",
       "      <td>-926.185831</td>\n",
       "      <td>27</td>\n",
       "      <td>высшее</td>\n",
       "      <td>0</td>\n",
       "      <td>гражданский брак</td>\n",
       "      <td>1</td>\n",
       "      <td>M</td>\n",
       "      <td>компаньон</td>\n",
       "      <td>0</td>\n",
       "      <td>255763.565419</td>\n",
       "      <td>покупка жилья</td>\n",
       "    </tr>\n",
       "    <tr>\n",
       "      <th>6</th>\n",
       "      <td>0</td>\n",
       "      <td>-2879.202052</td>\n",
       "      <td>43</td>\n",
       "      <td>высшее</td>\n",
       "      <td>0</td>\n",
       "      <td>женат / замужем</td>\n",
       "      <td>0</td>\n",
       "      <td>F</td>\n",
       "      <td>компаньон</td>\n",
       "      <td>0</td>\n",
       "      <td>240525.971920</td>\n",
       "      <td>операции с жильем</td>\n",
       "    </tr>\n",
       "    <tr>\n",
       "      <th>7</th>\n",
       "      <td>0</td>\n",
       "      <td>-152.779569</td>\n",
       "      <td>50</td>\n",
       "      <td>СРЕДНЕЕ</td>\n",
       "      <td>1</td>\n",
       "      <td>женат / замужем</td>\n",
       "      <td>0</td>\n",
       "      <td>M</td>\n",
       "      <td>сотрудник</td>\n",
       "      <td>0</td>\n",
       "      <td>135823.934197</td>\n",
       "      <td>образование</td>\n",
       "    </tr>\n",
       "    <tr>\n",
       "      <th>8</th>\n",
       "      <td>2</td>\n",
       "      <td>-6929.865299</td>\n",
       "      <td>35</td>\n",
       "      <td>ВЫСШЕЕ</td>\n",
       "      <td>0</td>\n",
       "      <td>гражданский брак</td>\n",
       "      <td>1</td>\n",
       "      <td>F</td>\n",
       "      <td>сотрудник</td>\n",
       "      <td>0</td>\n",
       "      <td>95856.832424</td>\n",
       "      <td>на проведение свадьбы</td>\n",
       "    </tr>\n",
       "    <tr>\n",
       "      <th>9</th>\n",
       "      <td>0</td>\n",
       "      <td>-2188.756445</td>\n",
       "      <td>41</td>\n",
       "      <td>среднее</td>\n",
       "      <td>1</td>\n",
       "      <td>женат / замужем</td>\n",
       "      <td>0</td>\n",
       "      <td>M</td>\n",
       "      <td>сотрудник</td>\n",
       "      <td>0</td>\n",
       "      <td>144425.938277</td>\n",
       "      <td>покупка жилья для семьи</td>\n",
       "    </tr>\n",
       "    <tr>\n",
       "      <th>10</th>\n",
       "      <td>2</td>\n",
       "      <td>-4171.483647</td>\n",
       "      <td>36</td>\n",
       "      <td>высшее</td>\n",
       "      <td>0</td>\n",
       "      <td>женат / замужем</td>\n",
       "      <td>0</td>\n",
       "      <td>M</td>\n",
       "      <td>компаньон</td>\n",
       "      <td>0</td>\n",
       "      <td>113943.491460</td>\n",
       "      <td>покупка недвижимости</td>\n",
       "    </tr>\n",
       "    <tr>\n",
       "      <th>11</th>\n",
       "      <td>0</td>\n",
       "      <td>-792.701887</td>\n",
       "      <td>40</td>\n",
       "      <td>среднее</td>\n",
       "      <td>1</td>\n",
       "      <td>женат / замужем</td>\n",
       "      <td>0</td>\n",
       "      <td>F</td>\n",
       "      <td>сотрудник</td>\n",
       "      <td>0</td>\n",
       "      <td>77069.234271</td>\n",
       "      <td>покупка коммерческой недвижимости</td>\n",
       "    </tr>\n",
       "    <tr>\n",
       "      <th>12</th>\n",
       "      <td>0</td>\n",
       "      <td>NaN</td>\n",
       "      <td>65</td>\n",
       "      <td>среднее</td>\n",
       "      <td>1</td>\n",
       "      <td>гражданский брак</td>\n",
       "      <td>1</td>\n",
       "      <td>M</td>\n",
       "      <td>пенсионер</td>\n",
       "      <td>0</td>\n",
       "      <td>NaN</td>\n",
       "      <td>сыграть свадьбу</td>\n",
       "    </tr>\n",
       "    <tr>\n",
       "      <th>13</th>\n",
       "      <td>0</td>\n",
       "      <td>-1846.641941</td>\n",
       "      <td>54</td>\n",
       "      <td>неоконченное высшее</td>\n",
       "      <td>2</td>\n",
       "      <td>женат / замужем</td>\n",
       "      <td>0</td>\n",
       "      <td>F</td>\n",
       "      <td>сотрудник</td>\n",
       "      <td>0</td>\n",
       "      <td>130458.228857</td>\n",
       "      <td>приобретение автомобиля</td>\n",
       "    </tr>\n",
       "    <tr>\n",
       "      <th>14</th>\n",
       "      <td>0</td>\n",
       "      <td>-1844.956182</td>\n",
       "      <td>56</td>\n",
       "      <td>высшее</td>\n",
       "      <td>0</td>\n",
       "      <td>гражданский брак</td>\n",
       "      <td>1</td>\n",
       "      <td>F</td>\n",
       "      <td>компаньон</td>\n",
       "      <td>1</td>\n",
       "      <td>165127.911772</td>\n",
       "      <td>покупка жилой недвижимости</td>\n",
       "    </tr>\n",
       "    <tr>\n",
       "      <th>15</th>\n",
       "      <td>1</td>\n",
       "      <td>-972.364419</td>\n",
       "      <td>26</td>\n",
       "      <td>среднее</td>\n",
       "      <td>1</td>\n",
       "      <td>женат / замужем</td>\n",
       "      <td>0</td>\n",
       "      <td>F</td>\n",
       "      <td>сотрудник</td>\n",
       "      <td>0</td>\n",
       "      <td>116820.904450</td>\n",
       "      <td>строительство собственной недвижимости</td>\n",
       "    </tr>\n",
       "    <tr>\n",
       "      <th>16</th>\n",
       "      <td>0</td>\n",
       "      <td>-1719.934226</td>\n",
       "      <td>35</td>\n",
       "      <td>среднее</td>\n",
       "      <td>1</td>\n",
       "      <td>женат / замужем</td>\n",
       "      <td>0</td>\n",
       "      <td>F</td>\n",
       "      <td>сотрудник</td>\n",
       "      <td>0</td>\n",
       "      <td>289202.704229</td>\n",
       "      <td>недвижимость</td>\n",
       "    </tr>\n",
       "    <tr>\n",
       "      <th>17</th>\n",
       "      <td>0</td>\n",
       "      <td>-2369.999720</td>\n",
       "      <td>33</td>\n",
       "      <td>высшее</td>\n",
       "      <td>0</td>\n",
       "      <td>гражданский брак</td>\n",
       "      <td>1</td>\n",
       "      <td>M</td>\n",
       "      <td>сотрудник</td>\n",
       "      <td>0</td>\n",
       "      <td>90410.586745</td>\n",
       "      <td>строительство недвижимости</td>\n",
       "    </tr>\n",
       "    <tr>\n",
       "      <th>18</th>\n",
       "      <td>0</td>\n",
       "      <td>400281.136913</td>\n",
       "      <td>53</td>\n",
       "      <td>среднее</td>\n",
       "      <td>1</td>\n",
       "      <td>вдовец / вдова</td>\n",
       "      <td>2</td>\n",
       "      <td>F</td>\n",
       "      <td>пенсионер</td>\n",
       "      <td>0</td>\n",
       "      <td>56823.777243</td>\n",
       "      <td>на покупку подержанного автомобиля</td>\n",
       "    </tr>\n",
       "    <tr>\n",
       "      <th>19</th>\n",
       "      <td>0</td>\n",
       "      <td>-10038.818549</td>\n",
       "      <td>48</td>\n",
       "      <td>СРЕДНЕЕ</td>\n",
       "      <td>1</td>\n",
       "      <td>в разводе</td>\n",
       "      <td>3</td>\n",
       "      <td>F</td>\n",
       "      <td>сотрудник</td>\n",
       "      <td>0</td>\n",
       "      <td>242831.107982</td>\n",
       "      <td>на покупку своего автомобиля</td>\n",
       "    </tr>\n",
       "  </tbody>\n",
       "</table>\n",
       "</div>"
      ],
      "text/plain": [
       "    children  days_employed  dob_years            education  education_id  \\\n",
       "0          1   -8437.673028         42               высшее             0   \n",
       "1          1   -4024.803754         36              среднее             1   \n",
       "2          0   -5623.422610         33              Среднее             1   \n",
       "3          3   -4124.747207         32              среднее             1   \n",
       "4          0  340266.072047         53              среднее             1   \n",
       "5          0    -926.185831         27               высшее             0   \n",
       "6          0   -2879.202052         43               высшее             0   \n",
       "7          0    -152.779569         50              СРЕДНЕЕ             1   \n",
       "8          2   -6929.865299         35               ВЫСШЕЕ             0   \n",
       "9          0   -2188.756445         41              среднее             1   \n",
       "10         2   -4171.483647         36               высшее             0   \n",
       "11         0    -792.701887         40              среднее             1   \n",
       "12         0            NaN         65              среднее             1   \n",
       "13         0   -1846.641941         54  неоконченное высшее             2   \n",
       "14         0   -1844.956182         56               высшее             0   \n",
       "15         1    -972.364419         26              среднее             1   \n",
       "16         0   -1719.934226         35              среднее             1   \n",
       "17         0   -2369.999720         33               высшее             0   \n",
       "18         0  400281.136913         53              среднее             1   \n",
       "19         0  -10038.818549         48              СРЕДНЕЕ             1   \n",
       "\n",
       "       family_status  family_status_id gender income_type  debt  \\\n",
       "0    женат / замужем                 0      F   сотрудник     0   \n",
       "1    женат / замужем                 0      F   сотрудник     0   \n",
       "2    женат / замужем                 0      M   сотрудник     0   \n",
       "3    женат / замужем                 0      M   сотрудник     0   \n",
       "4   гражданский брак                 1      F   пенсионер     0   \n",
       "5   гражданский брак                 1      M   компаньон     0   \n",
       "6    женат / замужем                 0      F   компаньон     0   \n",
       "7    женат / замужем                 0      M   сотрудник     0   \n",
       "8   гражданский брак                 1      F   сотрудник     0   \n",
       "9    женат / замужем                 0      M   сотрудник     0   \n",
       "10   женат / замужем                 0      M   компаньон     0   \n",
       "11   женат / замужем                 0      F   сотрудник     0   \n",
       "12  гражданский брак                 1      M   пенсионер     0   \n",
       "13   женат / замужем                 0      F   сотрудник     0   \n",
       "14  гражданский брак                 1      F   компаньон     1   \n",
       "15   женат / замужем                 0      F   сотрудник     0   \n",
       "16   женат / замужем                 0      F   сотрудник     0   \n",
       "17  гражданский брак                 1      M   сотрудник     0   \n",
       "18    вдовец / вдова                 2      F   пенсионер     0   \n",
       "19         в разводе                 3      F   сотрудник     0   \n",
       "\n",
       "     total_income                                 purpose  \n",
       "0   253875.639453                           покупка жилья  \n",
       "1   112080.014102                 приобретение автомобиля  \n",
       "2   145885.952297                           покупка жилья  \n",
       "3   267628.550329              дополнительное образование  \n",
       "4   158616.077870                         сыграть свадьбу  \n",
       "5   255763.565419                           покупка жилья  \n",
       "6   240525.971920                       операции с жильем  \n",
       "7   135823.934197                             образование  \n",
       "8    95856.832424                   на проведение свадьбы  \n",
       "9   144425.938277                 покупка жилья для семьи  \n",
       "10  113943.491460                    покупка недвижимости  \n",
       "11   77069.234271       покупка коммерческой недвижимости  \n",
       "12            NaN                         сыграть свадьбу  \n",
       "13  130458.228857                 приобретение автомобиля  \n",
       "14  165127.911772              покупка жилой недвижимости  \n",
       "15  116820.904450  строительство собственной недвижимости  \n",
       "16  289202.704229                            недвижимость  \n",
       "17   90410.586745              строительство недвижимости  \n",
       "18   56823.777243      на покупку подержанного автомобиля  \n",
       "19  242831.107982            на покупку своего автомобиля  "
      ]
     },
     "execution_count": 2,
     "metadata": {},
     "output_type": "execute_result"
    }
   ],
   "source": [
    "data.head(20)\n"
   ]
  },
  {
   "cell_type": "code",
   "execution_count": 3,
   "id": "a9dc2ec9",
   "metadata": {
    "scrolled": true
   },
   "outputs": [
    {
     "data": {
      "text/plain": [
       "children               0\n",
       "days_employed       2174\n",
       "dob_years              0\n",
       "education              0\n",
       "education_id           0\n",
       "family_status          0\n",
       "family_status_id       0\n",
       "gender                 0\n",
       "income_type            0\n",
       "debt                   0\n",
       "total_income        2174\n",
       "purpose                0\n",
       "dtype: int64"
      ]
     },
     "execution_count": 3,
     "metadata": {},
     "output_type": "execute_result"
    }
   ],
   "source": [
    "data.isna().sum()"
   ]
  },
  {
   "cell_type": "markdown",
   "id": "f86b0c0b",
   "metadata": {
    "deletable": false,
    "editable": false,
    "id": "1c12e233"
   },
   "source": [
    "**Задание 3. Выведите основную информацию о датафрейме с помощью метода `info()`.**"
   ]
  },
  {
   "cell_type": "code",
   "execution_count": 4,
   "id": "ade218e7",
   "metadata": {
    "deletable": false,
    "id": "2b757bca",
    "outputId": "15376089-8dad-46c9-b520-c05248d43158"
   },
   "outputs": [
    {
     "name": "stdout",
     "output_type": "stream",
     "text": [
      "<class 'pandas.core.frame.DataFrame'>\n",
      "RangeIndex: 21525 entries, 0 to 21524\n",
      "Data columns (total 12 columns):\n",
      " #   Column            Non-Null Count  Dtype  \n",
      "---  ------            --------------  -----  \n",
      " 0   children          21525 non-null  int64  \n",
      " 1   days_employed     19351 non-null  float64\n",
      " 2   dob_years         21525 non-null  int64  \n",
      " 3   education         21525 non-null  object \n",
      " 4   education_id      21525 non-null  int64  \n",
      " 5   family_status     21525 non-null  object \n",
      " 6   family_status_id  21525 non-null  int64  \n",
      " 7   gender            21525 non-null  object \n",
      " 8   income_type       21525 non-null  object \n",
      " 9   debt              21525 non-null  int64  \n",
      " 10  total_income      19351 non-null  float64\n",
      " 11  purpose           21525 non-null  object \n",
      "dtypes: float64(2), int64(5), object(5)\n",
      "memory usage: 2.0+ MB\n"
     ]
    }
   ],
   "source": [
    "data.info()"
   ]
  },
  {
   "cell_type": "markdown",
   "id": "0103f89f",
   "metadata": {
    "deletable": false,
    "editable": false,
    "id": "333ec665"
   },
   "source": [
    "## Предобработка данных"
   ]
  },
  {
   "cell_type": "markdown",
   "id": "fc0f73cf",
   "metadata": {
    "deletable": false,
    "editable": false,
    "id": "02d92d53"
   },
   "source": [
    "### Удаление пропусков"
   ]
  },
  {
   "cell_type": "markdown",
   "id": "762c941e",
   "metadata": {
    "deletable": false,
    "editable": false,
    "id": "cd84967c"
   },
   "source": [
    "**Задание 4. Выведите количество пропущенных значений для каждого столбца. Используйте комбинацию двух методов.**"
   ]
  },
  {
   "cell_type": "code",
   "execution_count": 5,
   "id": "7de81983",
   "metadata": {
    "deletable": false,
    "id": "7f9b2309",
    "outputId": "81f4d817-781c-465c-ed15-91ce4446810d"
   },
   "outputs": [
    {
     "data": {
      "text/plain": [
       "children               0\n",
       "days_employed       2174\n",
       "dob_years              0\n",
       "education              0\n",
       "education_id           0\n",
       "family_status          0\n",
       "family_status_id       0\n",
       "gender                 0\n",
       "income_type            0\n",
       "debt                   0\n",
       "total_income        2174\n",
       "purpose                0\n",
       "dtype: int64"
      ]
     },
     "execution_count": 5,
     "metadata": {},
     "output_type": "execute_result"
    }
   ],
   "source": [
    "data.isna().sum()"
   ]
  },
  {
   "cell_type": "markdown",
   "id": "c6c65595",
   "metadata": {
    "deletable": false,
    "editable": false,
    "id": "db86e27b"
   },
   "source": [
    "**Задание 5. В двух столбцах есть пропущенные значения. Один из них — `days_employed`. Пропуски в этом столбце вы обработаете на следующем этапе. Другой столбец с пропущенными значениями — `total_income` — хранит данные о доходах. На сумму дохода сильнее всего влияет тип занятости, поэтому заполнить пропуски в этом столбце нужно медианным значением по каждому типу из столбца `income_type`. Например, у человека с типом занятости `сотрудник` пропуск в столбце `total_income` должен быть заполнен медианным доходом среди всех записей с тем же типом.**"
   ]
  },
  {
   "cell_type": "code",
   "execution_count": 6,
   "id": "45074896",
   "metadata": {
    "deletable": false,
    "id": "42006a93"
   },
   "outputs": [],
   "source": [
    "for t in data['income_type'].unique():\n",
    "    data.loc[(data['income_type'] == t) & (data['total_income'].isna()), 'total_income'] = \\\n",
    "    data.loc[(data['income_type'] == t), 'total_income'].median()"
   ]
  },
  {
   "cell_type": "markdown",
   "id": "490b10e0",
   "metadata": {
    "deletable": false,
    "editable": false,
    "id": "89da5ece"
   },
   "source": [
    "### Обработка аномальных значений"
   ]
  },
  {
   "cell_type": "markdown",
   "id": "1e4b4354",
   "metadata": {
    "deletable": false,
    "editable": false,
    "id": "57964554"
   },
   "source": [
    "**Задание 6. В данных могут встречаться артефакты (аномалии) — значения, которые не отражают действительность и появились по какой-то ошибке. таким артефактом будет отрицательное количество дней трудового стажа в столбце `days_employed`. Для реальных данных это нормально. Обработайте значения в этом столбце: замените все отрицательные значения положительными с помощью метода `abs()`.**"
   ]
  },
  {
   "cell_type": "code",
   "execution_count": 7,
   "id": "19b2476c",
   "metadata": {
    "deletable": false,
    "id": "f6f055bf"
   },
   "outputs": [],
   "source": [
    "data['days_employed'] = data['days_employed'].abs()"
   ]
  },
  {
   "cell_type": "markdown",
   "id": "0fa75dcc",
   "metadata": {
    "deletable": false,
    "editable": false,
    "id": "6107dd2f"
   },
   "source": [
    "**Задание 7. Для каждого типа занятости выведите медианное значение трудового стажа `days_employed` в днях.**"
   ]
  },
  {
   "cell_type": "code",
   "execution_count": 8,
   "id": "5bdd3c24",
   "metadata": {
    "deletable": false,
    "id": "85a5faf6",
    "outputId": "801ef80e-522b-4668-f34e-565af7432bcf"
   },
   "outputs": [
    {
     "data": {
      "text/plain": [
       "income_type\n",
       "безработный        366413.652744\n",
       "в декрете            3296.759962\n",
       "госслужащий          2689.368353\n",
       "компаньон            1547.382223\n",
       "пенсионер          365213.306266\n",
       "предприниматель       520.848083\n",
       "сотрудник            1574.202821\n",
       "студент               578.751554\n",
       "Name: days_employed, dtype: float64"
      ]
     },
     "execution_count": 8,
     "metadata": {},
     "output_type": "execute_result"
    }
   ],
   "source": [
    "data.groupby('income_type')['days_employed'].agg('median')"
   ]
  },
  {
   "cell_type": "markdown",
   "id": "9f2b9ecd",
   "metadata": {
    "deletable": false,
    "editable": false,
    "id": "38d1a030"
   },
   "source": [
    "У двух типов (безработные и пенсионеры) получатся аномально большие значения. Исправить такие значения сложно, поэтому оставьте их как есть. Тем более этот столбец не понадобится вам для исследования."
   ]
  },
  {
   "cell_type": "markdown",
   "id": "c7c3d791",
   "metadata": {
    "deletable": false,
    "editable": false,
    "id": "d8a9f147"
   },
   "source": [
    "**Задание 8. Выведите перечень уникальных значений столбца `children`.**"
   ]
  },
  {
   "cell_type": "code",
   "execution_count": 9,
   "id": "48d9021d",
   "metadata": {
    "deletable": false,
    "id": "ef5056eb",
    "outputId": "6975b15c-7f95-4697-d16d-a0c79b657b03"
   },
   "outputs": [
    {
     "data": {
      "text/plain": [
       "array([ 1,  0,  3,  2, -1,  4, 20,  5])"
      ]
     },
     "execution_count": 9,
     "metadata": {},
     "output_type": "execute_result"
    }
   ],
   "source": [
    "data['children'].unique()"
   ]
  },
  {
   "cell_type": "markdown",
   "id": "bdf9bc01",
   "metadata": {
    "deletable": false,
    "editable": false,
    "id": "40b9ebf2"
   },
   "source": [
    "**Задание 9. В столбце `children` есть два аномальных значения. Удалите строки, в которых встречаются такие аномальные значения из датафрейма `data`.**"
   ]
  },
  {
   "cell_type": "code",
   "execution_count": 10,
   "id": "d26a9ef5",
   "metadata": {
    "deletable": false,
    "id": "3ff9801d"
   },
   "outputs": [],
   "source": [
    "data = data[(data['children'] != -1) & (data['children'] != 20)]"
   ]
  },
  {
   "cell_type": "markdown",
   "id": "547e79fe",
   "metadata": {
    "deletable": false,
    "editable": false,
    "id": "bbc4d0ce"
   },
   "source": [
    "**Задание 10. Ещё раз выведите перечень уникальных значений столбца `children`, чтобы убедиться, что артефакты удалены.**"
   ]
  },
  {
   "cell_type": "code",
   "execution_count": 11,
   "id": "8eb76da7",
   "metadata": {
    "deletable": false,
    "id": "ad4fa8b7",
    "outputId": "b2097101-d49d-44d9-901b-32a65c9463d1"
   },
   "outputs": [
    {
     "data": {
      "text/plain": [
       "array([1, 0, 3, 2, 4, 5])"
      ]
     },
     "execution_count": 11,
     "metadata": {},
     "output_type": "execute_result"
    }
   ],
   "source": [
    "data['children'].unique()"
   ]
  },
  {
   "cell_type": "markdown",
   "id": "badcca9d",
   "metadata": {
    "deletable": false,
    "editable": false,
    "id": "75440b63"
   },
   "source": [
    "### Удаление пропусков (продолжение)"
   ]
  },
  {
   "cell_type": "markdown",
   "id": "1eced55b",
   "metadata": {
    "deletable": false,
    "editable": false,
    "id": "f4ea573f"
   },
   "source": [
    "**Задание 11. Заполните пропуски в столбце `days_employed` медианными значениями по каждого типа занятости `income_type`.**"
   ]
  },
  {
   "cell_type": "code",
   "execution_count": 12,
   "id": "ac7c0590",
   "metadata": {
    "deletable": false,
    "id": "af6b1a7e"
   },
   "outputs": [],
   "source": [
    "for t in data['income_type'].unique():\n",
    "    data.loc[(data['income_type'] == t) & (data['days_employed'].isna()), 'days_employed'] = \\\n",
    "    data.loc[(data['income_type'] == t), 'days_employed'].median()"
   ]
  },
  {
   "cell_type": "markdown",
   "id": "13a26c11",
   "metadata": {
    "deletable": false,
    "editable": false,
    "id": "2753f40d"
   },
   "source": [
    "**Задание 12. Убедитесь, что все пропуски заполнены. Проверьте себя и ещё раз выведите количество пропущенных значений для каждого столбца с помощью двух методов.**"
   ]
  },
  {
   "cell_type": "code",
   "execution_count": 13,
   "id": "7383ce65",
   "metadata": {
    "deletable": false,
    "id": "55f78bc2",
    "outputId": "8da1e4e1-358e-4e87-98c9-f261bce0a7b2"
   },
   "outputs": [
    {
     "data": {
      "text/plain": [
       "children            0\n",
       "days_employed       0\n",
       "dob_years           0\n",
       "education           0\n",
       "education_id        0\n",
       "family_status       0\n",
       "family_status_id    0\n",
       "gender              0\n",
       "income_type         0\n",
       "debt                0\n",
       "total_income        0\n",
       "purpose             0\n",
       "dtype: int64"
      ]
     },
     "execution_count": 13,
     "metadata": {},
     "output_type": "execute_result"
    }
   ],
   "source": [
    "data.isna().sum()"
   ]
  },
  {
   "cell_type": "markdown",
   "id": "4fb56bb0",
   "metadata": {
    "deletable": false,
    "editable": false,
    "id": "ddc81e43"
   },
   "source": [
    "### Изменение типов данных"
   ]
  },
  {
   "cell_type": "markdown",
   "id": "0da1925c",
   "metadata": {
    "deletable": false,
    "editable": false,
    "id": "42d19d24"
   },
   "source": [
    "**Задание 13. Замените вещественный тип данных в столбце `total_income` на целочисленный с помощью метода `astype()`.**"
   ]
  },
  {
   "cell_type": "code",
   "execution_count": 14,
   "id": "93ba87eb",
   "metadata": {
    "deletable": false,
    "id": "920b65ad"
   },
   "outputs": [],
   "source": [
    "data['total_income'] = data['total_income'].astype(int)"
   ]
  },
  {
   "cell_type": "markdown",
   "id": "a11326f2",
   "metadata": {
    "deletable": false,
    "editable": false,
    "id": "80c420ba"
   },
   "source": [
    "### Обработка дубликатов"
   ]
  },
  {
   "cell_type": "markdown",
   "id": "62c57e79",
   "metadata": {
    "deletable": false,
    "editable": false
   },
   "source": [
    "**Задание 14. Обработайте неявные дубликаты в столбце `education`. В этом столбце есть одни и те же значения, но записанные по-разному: с использованием заглавных и строчных букв. Приведите их к нижнему регистру. Проверьте остальные столбцы.**"
   ]
  },
  {
   "cell_type": "code",
   "execution_count": 15,
   "id": "8cee9856",
   "metadata": {
    "deletable": false
   },
   "outputs": [],
   "source": [
    "data['education'] = data['education'].str.lower()"
   ]
  },
  {
   "cell_type": "markdown",
   "id": "7c2ab2af",
   "metadata": {
    "deletable": false,
    "editable": false,
    "id": "dc587695"
   },
   "source": [
    "**Задание 15. Выведите на экран количество строк-дубликатов в данных. Если такие строки присутствуют, удалите их.**"
   ]
  },
  {
   "cell_type": "code",
   "execution_count": 16,
   "id": "51b4de1b",
   "metadata": {
    "deletable": false,
    "id": "3ee445e4",
    "outputId": "9684deba-1934-42d1-99e1-cda61740f822"
   },
   "outputs": [
    {
     "data": {
      "text/plain": [
       "71"
      ]
     },
     "execution_count": 16,
     "metadata": {},
     "output_type": "execute_result"
    }
   ],
   "source": [
    "data.duplicated().sum()"
   ]
  },
  {
   "cell_type": "code",
   "execution_count": 17,
   "id": "fd93e4b9",
   "metadata": {
    "deletable": false,
    "id": "8575fe05"
   },
   "outputs": [],
   "source": [
    "data = data.drop_duplicates()"
   ]
  },
  {
   "cell_type": "markdown",
   "id": "6edfff22",
   "metadata": {
    "deletable": false,
    "editable": false,
    "id": "9904cf55"
   },
   "source": [
    "### Категоризация данных"
   ]
  },
  {
   "cell_type": "markdown",
   "id": "34a16d50",
   "metadata": {
    "deletable": false,
    "editable": false,
    "id": "72fcc8a2"
   },
   "source": [
    "**Задание 16. На основании диапазонов, указанных ниже, создайте в датафрейме `data` столбец `total_income_category` с категориями:**\n",
    "\n",
    "- 0–30000 — `'E'`;\n",
    "- 30001–50000 — `'D'`;\n",
    "- 50001–200000 — `'C'`;\n",
    "- 200001–1000000 — `'B'`;\n",
    "- 1000001 и выше — `'A'`.\n",
    "\n",
    "\n",
    "**Например, кредитополучателю с доходом 25000 нужно назначить категорию `'E'`, а клиенту, получающему 235000, — `'B'`. Используйте собственную функцию с именем `categorize_income()` и метод `apply()`.**"
   ]
  },
  {
   "cell_type": "code",
   "execution_count": 18,
   "id": "0529cd4d",
   "metadata": {
    "deletable": false,
    "id": "e1771346"
   },
   "outputs": [],
   "source": [
    "def categorize_income(income):\n",
    "    try:\n",
    "        if 0 <= income <= 30000:\n",
    "            return 'E'\n",
    "        elif 30001 <= income <= 50000:\n",
    "            return 'D'\n",
    "        elif 50001 <= income <= 200000:\n",
    "            return 'C'\n",
    "        elif 200001 <= income <= 1000000:\n",
    "            return 'B'\n",
    "        elif income >= 1000001:\n",
    "            return 'A'\n",
    "    except:\n",
    "        pass"
   ]
  },
  {
   "cell_type": "code",
   "execution_count": 19,
   "id": "e143508c",
   "metadata": {
    "deletable": false,
    "id": "d5f3586d"
   },
   "outputs": [],
   "source": [
    "data['total_income_category'] = data['total_income'].apply(categorize_income)"
   ]
  },
  {
   "cell_type": "markdown",
   "id": "1a3470a5",
   "metadata": {
    "deletable": false,
    "editable": false,
    "id": "dde49b5c"
   },
   "source": [
    "**Задание 17. Выведите на экран перечень уникальных целей взятия кредита из столбца `purpose`.**"
   ]
  },
  {
   "cell_type": "code",
   "execution_count": 20,
   "id": "c7adc329",
   "metadata": {
    "deletable": false,
    "id": "f67ce9b3",
    "outputId": "673c12d9-7d7e-4ae0-9812-c622c89dd244"
   },
   "outputs": [
    {
     "data": {
      "text/plain": [
       "array(['покупка жилья', 'приобретение автомобиля',\n",
       "       'дополнительное образование', 'сыграть свадьбу',\n",
       "       'операции с жильем', 'образование', 'на проведение свадьбы',\n",
       "       'покупка жилья для семьи', 'покупка недвижимости',\n",
       "       'покупка коммерческой недвижимости', 'покупка жилой недвижимости',\n",
       "       'строительство собственной недвижимости', 'недвижимость',\n",
       "       'строительство недвижимости', 'на покупку подержанного автомобиля',\n",
       "       'на покупку своего автомобиля',\n",
       "       'операции с коммерческой недвижимостью',\n",
       "       'строительство жилой недвижимости', 'жилье',\n",
       "       'операции со своей недвижимостью', 'автомобили',\n",
       "       'заняться образованием', 'сделка с подержанным автомобилем',\n",
       "       'получение образования', 'автомобиль', 'свадьба',\n",
       "       'получение дополнительного образования', 'покупка своего жилья',\n",
       "       'операции с недвижимостью', 'получение высшего образования',\n",
       "       'свой автомобиль', 'сделка с автомобилем',\n",
       "       'профильное образование', 'высшее образование',\n",
       "       'покупка жилья для сдачи', 'на покупку автомобиля', 'ремонт жилью',\n",
       "       'заняться высшим образованием'], dtype=object)"
      ]
     },
     "execution_count": 20,
     "metadata": {},
     "output_type": "execute_result"
    }
   ],
   "source": [
    "data['purpose'].unique()"
   ]
  },
  {
   "cell_type": "markdown",
   "id": "caa37ab8",
   "metadata": {
    "deletable": false,
    "editable": false,
    "id": "85d0aef0"
   },
   "source": [
    "**Задание 18. Создайте функцию, которая на основании данных из столбца `purpose` сформирует новый столбец `purpose_category`, в который войдут следующие категории:**\n",
    "\n",
    "- `'операции с автомобилем'`,\n",
    "- `'операции с недвижимостью'`,\n",
    "- `'проведение свадьбы'`,\n",
    "- `'получение образования'`.\n",
    "\n",
    "**Например, если в столбце `purpose` находится подстрока `'на покупку автомобиля'`, то в столбце `purpose_category` должна появиться строка `'операции с автомобилем'`.**\n",
    "\n",
    "**Используйте собственную функцию с именем `categorize_purpose()` и метод `apply()`. Изучите данные в столбце `purpose` и определите, какие подстроки помогут вам правильно определить категорию.**"
   ]
  },
  {
   "cell_type": "code",
   "execution_count": 21,
   "id": "3576b5ac",
   "metadata": {
    "deletable": false,
    "id": "e149fab4"
   },
   "outputs": [],
   "source": [
    "def categorize_purpose(row):\n",
    "    try:\n",
    "        if 'автом' in row:\n",
    "            return 'операции с автомобилем'\n",
    "        elif 'жил' in row or 'недвиж' in row:\n",
    "            return 'операции с недвижимостью'\n",
    "        elif 'свад' in row:\n",
    "            return 'проведение свадьбы'\n",
    "        elif 'образов' in row:\n",
    "            return 'получение образования'\n",
    "    except:\n",
    "        return 'нет категории'"
   ]
  },
  {
   "cell_type": "code",
   "execution_count": 22,
   "id": "5b4e605b",
   "metadata": {
    "deletable": false,
    "id": "bf36e69b"
   },
   "outputs": [],
   "source": [
    "data['purpose_category'] = data['purpose'].apply(categorize_purpose)"
   ]
  },
  {
   "cell_type": "markdown",
   "id": "02bce396",
   "metadata": {
    "deletable": false,
    "editable": false,
    "id": "09b242bf"
   },
   "source": [
    "### Шаг 3. Исследуйте данные и ответьте на вопросы"
   ]
  },
  {
   "cell_type": "markdown",
   "id": "1d696d21",
   "metadata": {
    "deletable": false,
    "editable": false,
    "id": "c5d66278"
   },
   "source": [
    "#### 3.1 Есть ли зависимость между количеством детей и возвратом кредита в срок?"
   ]
  },
  {
   "cell_type": "code",
   "execution_count": 23,
   "id": "547555aa",
   "metadata": {
    "scrolled": true
   },
   "outputs": [
    {
     "data": {
      "text/html": [
       "<div>\n",
       "<style scoped>\n",
       "    .dataframe tbody tr th:only-of-type {\n",
       "        vertical-align: middle;\n",
       "    }\n",
       "\n",
       "    .dataframe tbody tr th {\n",
       "        vertical-align: top;\n",
       "    }\n",
       "\n",
       "    .dataframe thead tr th {\n",
       "        text-align: left;\n",
       "    }\n",
       "\n",
       "    .dataframe thead tr:last-of-type th {\n",
       "        text-align: right;\n",
       "    }\n",
       "</style>\n",
       "<table border=\"1\" class=\"dataframe\">\n",
       "  <thead>\n",
       "    <tr>\n",
       "      <th></th>\n",
       "      <th>total_loans</th>\n",
       "      <th>debts</th>\n",
       "      <th>overdue_ratio</th>\n",
       "    </tr>\n",
       "    <tr>\n",
       "      <th></th>\n",
       "      <th></th>\n",
       "      <th></th>\n",
       "      <th></th>\n",
       "    </tr>\n",
       "    <tr>\n",
       "      <th>children</th>\n",
       "      <th></th>\n",
       "      <th></th>\n",
       "      <th></th>\n",
       "    </tr>\n",
       "  </thead>\n",
       "  <tbody>\n",
       "    <tr>\n",
       "      <th>0</th>\n",
       "      <td>14091</td>\n",
       "      <td>1063</td>\n",
       "      <td>7.543822</td>\n",
       "    </tr>\n",
       "    <tr>\n",
       "      <th>1</th>\n",
       "      <td>4808</td>\n",
       "      <td>444</td>\n",
       "      <td>9.234609</td>\n",
       "    </tr>\n",
       "    <tr>\n",
       "      <th>2</th>\n",
       "      <td>2052</td>\n",
       "      <td>194</td>\n",
       "      <td>9.454191</td>\n",
       "    </tr>\n",
       "    <tr>\n",
       "      <th>3</th>\n",
       "      <td>330</td>\n",
       "      <td>27</td>\n",
       "      <td>8.181818</td>\n",
       "    </tr>\n",
       "    <tr>\n",
       "      <th>4</th>\n",
       "      <td>41</td>\n",
       "      <td>4</td>\n",
       "      <td>9.756098</td>\n",
       "    </tr>\n",
       "    <tr>\n",
       "      <th>5</th>\n",
       "      <td>9</td>\n",
       "      <td>0</td>\n",
       "      <td>0.000000</td>\n",
       "    </tr>\n",
       "  </tbody>\n",
       "</table>\n",
       "</div>"
      ],
      "text/plain": [
       "         total_loans debts overdue_ratio\n",
       "                                        \n",
       "children                                \n",
       "0              14091  1063      7.543822\n",
       "1               4808   444      9.234609\n",
       "2               2052   194      9.454191\n",
       "3                330    27      8.181818\n",
       "4                 41     4      9.756098\n",
       "5                  9     0      0.000000"
      ]
     },
     "execution_count": 23,
     "metadata": {},
     "output_type": "execute_result"
    }
   ],
   "source": [
    "#построим сводную таблицу, сгруппировав данные по количеству детей\n",
    "#для каждой группы подсчитаем общее количество выданных кредитов (метод count применяем к столбцу debt)\n",
    "# и количество кредитов с просроченной задолженностью (метод sum применяем к столбцу debt)\n",
    "\n",
    "data_pivot_children =  data.pivot_table(index='children', values = 'debt', aggfunc=['count', 'sum'])\n",
    "\n",
    "# к сводной таблице добавим столбец с показателями overdue_ratio - долей просроченной задолженности в общем объеме кредитов\n",
    "# поскольку все пропуски данных были ранее обработаны, деление на 0 в данном случае невозможно\n",
    "# умножим показатель overdue_ratio на 100, чтобы получить данные в %\n",
    "\n",
    "data_pivot_children['overdue_ratio'] = (data_pivot_children['sum'] / data_pivot_children['count'])*100 \n",
    "\n",
    "# переименуем столбцы сводной таблицы для наглядности представления\n",
    "# total_loans - общее количество выданных кредитов, debt - количество кредитов с просроченной задолженностью\n",
    "\n",
    "data_pivot_children = data_pivot_children.rename(columns = {'count' : 'total_loans', 'sum': 'debts', 'debt':' '})\n",
    "data_pivot_children"
   ]
  },
  {
   "cell_type": "code",
   "execution_count": 24,
   "id": "6e03ed2b",
   "metadata": {
    "deletable": false,
    "id": "2cacfc4a",
    "scrolled": true
   },
   "outputs": [
    {
     "data": {
      "text/plain": [
       "Text(0.5, 1.0, 'Зависимость между количеством детей и возвратом кредита в срок')"
      ]
     },
     "execution_count": 24,
     "metadata": {},
     "output_type": "execute_result"
    },
    {
     "data": {
      "image/png": "[encoded data removed]",
      "text/plain": [
       "<Figure size 432x288 with 1 Axes>"
      ]
     },
     "metadata": {
      "needs_background": "light"
     },
     "output_type": "display_data"
    }
   ],
   "source": [
    "# построим гистограмму по сводным данным таблицы\n",
    "\n",
    "import seaborn as sns\n",
    "children = [0, 1, 2, 3, 4, 5]\n",
    "overdue_ratio =  list(data_pivot_children['overdue_ratio'])\n",
    "ax = sns.barplot(x=children, y= overdue_ratio)\n",
    "ax.set_xlabel('Количество детей')\n",
    "ax.set_ylabel('Доля просченной задолженности')\n",
    "ax.set_title('Зависимость между количеством детей и возвратом кредита в срок')"
   ]
  },
  {
   "cell_type": "markdown",
   "id": "b31fa7dd",
   "metadata": {
    "deletable": false,
    "id": "3a6b99ec"
   },
   "source": [
    "**Вывод:** \n",
    "1) Люди, у которых нет детей, в два раза чаще брали кредит по сравнению остальными \n",
    "\n",
    "2) Доля просроченной задолженности в общем объеме выданных займов у бездетных людей самая низкая ~ 7,5%                          (если не брать в расчет людей с 5 детьми, но по ним выборка данных очень мала и не является репрезентативной). \n",
    "\n",
    "3) Для заемщиков с одним, двумя и четырьмя детьми процент просрочки по кредитам сравним и составляет ~ 9,5%\n",
    "\n",
    "4) У заемщиков с тремя детьми доля кредитов, не возвращенных в срок, ниже, чем у остальных категорий заемщиков с детьми, она составляет ~ 8,2%\n",
    "\n",
    "Таким образом, гипотеза о зависимости количества детей и возврата кредита в срок частично оправдалась. Люди с детьми действительно чаще имеют просроченную задолженность. Однако прямой зависимости между количеством детей и долей невозвратов в срок не наблюдается."
   ]
  },
  {
   "cell_type": "markdown",
   "id": "96a1e73e",
   "metadata": {
    "deletable": false,
    "editable": false,
    "id": "97be82ca"
   },
   "source": [
    "#### 3.2 Есть ли зависимость между семейным положением и возвратом кредита в срок?"
   ]
  },
  {
   "cell_type": "code",
   "execution_count": 25,
   "id": "35898100",
   "metadata": {
    "deletable": false,
    "id": "dc3f7ee8",
    "scrolled": false
   },
   "outputs": [
    {
     "data": {
      "text/html": [
       "<div>\n",
       "<style scoped>\n",
       "    .dataframe tbody tr th:only-of-type {\n",
       "        vertical-align: middle;\n",
       "    }\n",
       "\n",
       "    .dataframe tbody tr th {\n",
       "        vertical-align: top;\n",
       "    }\n",
       "\n",
       "    .dataframe thead tr th {\n",
       "        text-align: left;\n",
       "    }\n",
       "\n",
       "    .dataframe thead tr:last-of-type th {\n",
       "        text-align: right;\n",
       "    }\n",
       "</style>\n",
       "<table border=\"1\" class=\"dataframe\">\n",
       "  <thead>\n",
       "    <tr>\n",
       "      <th></th>\n",
       "      <th>total_loans</th>\n",
       "      <th>debts</th>\n",
       "      <th>overdue_ratio</th>\n",
       "    </tr>\n",
       "    <tr>\n",
       "      <th></th>\n",
       "      <th></th>\n",
       "      <th></th>\n",
       "      <th></th>\n",
       "    </tr>\n",
       "    <tr>\n",
       "      <th>family_status</th>\n",
       "      <th></th>\n",
       "      <th></th>\n",
       "      <th></th>\n",
       "    </tr>\n",
       "  </thead>\n",
       "  <tbody>\n",
       "    <tr>\n",
       "      <th>вдовец / вдова</th>\n",
       "      <td>951</td>\n",
       "      <td>63</td>\n",
       "      <td>6.624606</td>\n",
       "    </tr>\n",
       "    <tr>\n",
       "      <th>в разводе</th>\n",
       "      <td>1189</td>\n",
       "      <td>84</td>\n",
       "      <td>7.064760</td>\n",
       "    </tr>\n",
       "    <tr>\n",
       "      <th>женат / замужем</th>\n",
       "      <td>12261</td>\n",
       "      <td>927</td>\n",
       "      <td>7.560558</td>\n",
       "    </tr>\n",
       "    <tr>\n",
       "      <th>гражданский брак</th>\n",
       "      <td>4134</td>\n",
       "      <td>385</td>\n",
       "      <td>9.313014</td>\n",
       "    </tr>\n",
       "    <tr>\n",
       "      <th>Не женат / не замужем</th>\n",
       "      <td>2796</td>\n",
       "      <td>273</td>\n",
       "      <td>9.763948</td>\n",
       "    </tr>\n",
       "  </tbody>\n",
       "</table>\n",
       "</div>"
      ],
      "text/plain": [
       "                      total_loans debts overdue_ratio\n",
       "                                                     \n",
       "family_status                                        \n",
       "вдовец / вдова                951    63      6.624606\n",
       "в разводе                    1189    84      7.064760\n",
       "женат / замужем             12261   927      7.560558\n",
       "гражданский брак             4134   385      9.313014\n",
       "Не женат / не замужем        2796   273      9.763948"
      ]
     },
     "execution_count": 25,
     "metadata": {},
     "output_type": "execute_result"
    }
   ],
   "source": [
    "#строим сводную таблицу по данным, сгруппированным по семейному положению (family status) \n",
    "# количеству выданных кредитов и просроченной задолженности\n",
    "data_pivot_family_status =  data.pivot_table(index='family_status', values = 'debt', aggfunc=['count', 'sum'])\n",
    "\n",
    "#добавим столбец overdue_ratio, домножим на 100, чтобы получить данные в %\n",
    "data_pivot_family_status['overdue_ratio'] = (data_pivot_family_status['sum'] / data_pivot_family_status['count'])*100 \n",
    "\n",
    "# переименуем столбцы для наглядности представления\n",
    "data_pivot_family_status = data_pivot_family_status.rename(columns = {'count' : 'total_loans', 'sum': 'debts', 'debt':' '})\n",
    "\n",
    "#выведем сводную таблицу, отсортированную по столбцу overdue_ratio\n",
    "data_pivot_family_status_sorted = data_pivot_family_status.sort_values(by='overdue_ratio')\n",
    "data_pivot_family_status_sorted"
   ]
  },
  {
   "cell_type": "code",
   "execution_count": 26,
   "id": "f1ea2652",
   "metadata": {},
   "outputs": [
    {
     "data": {
      "text/plain": [
       "Text(0.5, 1.0, 'Зависимость между семейным положением и возвратом кредита в срок')"
      ]
     },
     "execution_count": 26,
     "metadata": {},
     "output_type": "execute_result"
    },
    {
     "data": {
      "image/png": "[encoded data removed]",
      "text/plain": [
       "<Figure size 432x288 with 1 Axes>"
      ]
     },
     "metadata": {
      "needs_background": "light"
     },
     "output_type": "display_data"
    }
   ],
   "source": [
    "# построим гистограмму по сводным данным отсортированной таблицы\n",
    "\n",
    "family_status = ['вдовец / вдова', 'в разводе', 'женат / замужем', 'гражданский брак', 'Не женат / не замужем']\n",
    "overdue_ratio =  list(data_pivot_family_status_sorted['overdue_ratio'])\n",
    "ax = sns.barplot(y = family_status, x = overdue_ratio)\n",
    "ax.set_ylabel('Семейное положение')\n",
    "ax.set_xlabel('Доля просченной задолженности')\n",
    "ax.set_title('Зависимость между семейным положением и возвратом кредита в срок')"
   ]
  },
  {
   "cell_type": "markdown",
   "id": "06952f11",
   "metadata": {
    "deletable": false,
    "id": "1cef7837"
   },
   "source": [
    "**Вывод:** \n",
    "    \n",
    "    Люди, состоящие в браке на момент получения кредита (категория 'женат/замужем') или состоявшие в браке ранее (категории 'вдовец/вдова' и 'в разводе'), имеют более низкий процент невозвратов по кредитам (от 6,62% до 7,52%), по сравнению с остальными заемщиками (категории 'гражданский брак' - 9,31% и 'не женат/не замужем' - 9,76%).\n",
    "    \n",
    "    Гипотеза о наличии взаимосвязи между семейным положением и возвратом кредита в срок оправдалась."
   ]
  },
  {
   "cell_type": "markdown",
   "id": "210f3e3a",
   "metadata": {
    "deletable": false,
    "editable": false,
    "id": "1e8b2fca"
   },
   "source": [
    "#### 3.3 Есть ли зависимость между уровнем дохода и возвратом кредита в срок?"
   ]
  },
  {
   "cell_type": "code",
   "execution_count": 27,
   "id": "cf89f71f",
   "metadata": {
    "deletable": false,
    "id": "cd7e3720",
    "scrolled": true
   },
   "outputs": [
    {
     "data": {
      "text/html": [
       "<div>\n",
       "<style scoped>\n",
       "    .dataframe tbody tr th:only-of-type {\n",
       "        vertical-align: middle;\n",
       "    }\n",
       "\n",
       "    .dataframe tbody tr th {\n",
       "        vertical-align: top;\n",
       "    }\n",
       "\n",
       "    .dataframe thead tr th {\n",
       "        text-align: left;\n",
       "    }\n",
       "\n",
       "    .dataframe thead tr:last-of-type th {\n",
       "        text-align: right;\n",
       "    }\n",
       "</style>\n",
       "<table border=\"1\" class=\"dataframe\">\n",
       "  <thead>\n",
       "    <tr>\n",
       "      <th></th>\n",
       "      <th>total_loans</th>\n",
       "      <th>debts</th>\n",
       "      <th>overdue_ratio</th>\n",
       "    </tr>\n",
       "    <tr>\n",
       "      <th></th>\n",
       "      <th></th>\n",
       "      <th></th>\n",
       "      <th></th>\n",
       "    </tr>\n",
       "    <tr>\n",
       "      <th>total_income_category</th>\n",
       "      <th></th>\n",
       "      <th></th>\n",
       "      <th></th>\n",
       "    </tr>\n",
       "  </thead>\n",
       "  <tbody>\n",
       "    <tr>\n",
       "      <th>A</th>\n",
       "      <td>25</td>\n",
       "      <td>2</td>\n",
       "      <td>8.000000</td>\n",
       "    </tr>\n",
       "    <tr>\n",
       "      <th>B</th>\n",
       "      <td>5014</td>\n",
       "      <td>354</td>\n",
       "      <td>7.060231</td>\n",
       "    </tr>\n",
       "    <tr>\n",
       "      <th>C</th>\n",
       "      <td>15921</td>\n",
       "      <td>1353</td>\n",
       "      <td>8.498210</td>\n",
       "    </tr>\n",
       "    <tr>\n",
       "      <th>D</th>\n",
       "      <td>349</td>\n",
       "      <td>21</td>\n",
       "      <td>6.017192</td>\n",
       "    </tr>\n",
       "    <tr>\n",
       "      <th>E</th>\n",
       "      <td>22</td>\n",
       "      <td>2</td>\n",
       "      <td>9.090909</td>\n",
       "    </tr>\n",
       "  </tbody>\n",
       "</table>\n",
       "</div>"
      ],
      "text/plain": [
       "                      total_loans debts overdue_ratio\n",
       "                                                     \n",
       "total_income_category                                \n",
       "A                              25     2      8.000000\n",
       "B                            5014   354      7.060231\n",
       "C                           15921  1353      8.498210\n",
       "D                             349    21      6.017192\n",
       "E                              22     2      9.090909"
      ]
     },
     "execution_count": 27,
     "metadata": {},
     "output_type": "execute_result"
    }
   ],
   "source": [
    "#строим сводную таблицу по данным, сгруппированным по категории дохода заемщика (total_income_category) \n",
    "# количеству выданных кредитов и просроченной задолженности\n",
    "data_pivot_total_income_category =  data.pivot_table(index='total_income_category', values = 'debt', aggfunc=['count', 'sum'])\n",
    "\n",
    "#добавим столбец overdue_ratio, домножим на 100, чтобы получить данные в %\n",
    "data_pivot_total_income_category['overdue_ratio'] = (data_pivot_total_income_category['sum'] / data_pivot_total_income_category['count'])*100 \n",
    "\n",
    "# переименуем столбцы для наглядности представления\n",
    "data_pivot_total_income_category = data_pivot_total_income_category.rename(columns = {'count' : 'total_loans', 'sum': 'debts', 'debt':' '})\n",
    "data_pivot_total_income_category"
   ]
  },
  {
   "cell_type": "markdown",
   "id": "d23e6496",
   "metadata": {},
   "source": [
    "\n",
    "Согласно данным сводной таблицы, более 98% выданных кредитов приходятся на заемщиков с категориями доходов B и С. \n",
    "При этом категория заемщиков с доходом уровня С (доход: 50001–200000) является наиболее рисковой (доля невозвратов по ней составила ~ 8,5%) \n",
    "по сравнению с заемщиками с уровнем B (доход 200001–1000000). Доля просроченных задолженностей этой категории составила ~ 7,1%\n",
    "\n",
    "Оставшиеся 2% кредитов приходятся на категории A, D и E. \n",
    "Выборки для этих категорий очень малы и недостаточно репрезентативны для проведения анализа данных.\n"
   ]
  },
  {
   "cell_type": "code",
   "execution_count": 28,
   "id": "eff76f0a",
   "metadata": {},
   "outputs": [
    {
     "data": {
      "text/plain": [
       "Text(0.5, 1.0, 'Зависимость между уровнем дохода и возвратом кредита в срок')"
      ]
     },
     "execution_count": 28,
     "metadata": {},
     "output_type": "execute_result"
    },
    {
     "data": {
      "image/png": "[encoded data removed]",
      "text/plain": [
       "<Figure size 432x288 with 1 Axes>"
      ]
     },
     "metadata": {
      "needs_background": "light"
     },
     "output_type": "display_data"
    }
   ],
   "source": [
    "# построим гистограмму по сводным данным таблицы для тех групп заемщиков, выборка по которым является репрезентативной\n",
    "\n",
    "total_income_category = ['B','C']\n",
    "overdue_ratio =  [7.06, 8.50]\n",
    "ax = sns.barplot(x = total_income_category, y = overdue_ratio)\n",
    "ax.set_ylabel('Категория дохода заемщика')\n",
    "ax.set_xlabel('Доля просченной задолженности')\n",
    "ax.set_title('Зависимость между уровнем дохода и возвратом кредита в срок')"
   ]
  },
  {
   "cell_type": "markdown",
   "id": "e1e48f7e",
   "metadata": {
    "deletable": false,
    "id": "e8593def"
   },
   "source": [
    " <b> Вывод: </b>\n",
    "\n",
    " Гипотеза о наличии взаимосвязи уровнем дохода и возвратом кредита в срок оправдалась частично.\n",
    " Выборка оказалась репрезентативной только для двух категорий заемщиков.\n",
    " Среди них можно выделить наиболее рискованную с точки зрения невозврата займа категорию - это заемщики с уровнем дохода C\n",
    " (доход от 50001 до 200000). Группа B явлется менее рисковой (доход от 200001 до 1000000).\n",
    "    \n",
    " Об остальных группах заемщиков сделать выводы по имеющимся данным не представляется возможным.\n"
   ]
  },
  {
   "cell_type": "markdown",
   "id": "7c97632e",
   "metadata": {
    "deletable": false,
    "editable": false,
    "id": "99ecbd1f"
   },
   "source": [
    "#### 3.4 Как разные цели кредита влияют на его возврат в срок?"
   ]
  },
  {
   "cell_type": "code",
   "execution_count": 29,
   "id": "1f03f10b",
   "metadata": {
    "deletable": false,
    "id": "2b687290",
    "scrolled": true
   },
   "outputs": [
    {
     "data": {
      "text/html": [
       "<div>\n",
       "<style scoped>\n",
       "    .dataframe tbody tr th:only-of-type {\n",
       "        vertical-align: middle;\n",
       "    }\n",
       "\n",
       "    .dataframe tbody tr th {\n",
       "        vertical-align: top;\n",
       "    }\n",
       "\n",
       "    .dataframe thead tr th {\n",
       "        text-align: left;\n",
       "    }\n",
       "\n",
       "    .dataframe thead tr:last-of-type th {\n",
       "        text-align: right;\n",
       "    }\n",
       "</style>\n",
       "<table border=\"1\" class=\"dataframe\">\n",
       "  <thead>\n",
       "    <tr>\n",
       "      <th></th>\n",
       "      <th>total_loans</th>\n",
       "      <th>debts</th>\n",
       "      <th>overdue_ratio</th>\n",
       "    </tr>\n",
       "    <tr>\n",
       "      <th></th>\n",
       "      <th></th>\n",
       "      <th></th>\n",
       "      <th></th>\n",
       "    </tr>\n",
       "    <tr>\n",
       "      <th>purpose_category</th>\n",
       "      <th></th>\n",
       "      <th></th>\n",
       "      <th></th>\n",
       "    </tr>\n",
       "  </thead>\n",
       "  <tbody>\n",
       "    <tr>\n",
       "      <th>операции с недвижимостью</th>\n",
       "      <td>10751</td>\n",
       "      <td>780</td>\n",
       "      <td>7.255139</td>\n",
       "    </tr>\n",
       "    <tr>\n",
       "      <th>проведение свадьбы</th>\n",
       "      <td>2313</td>\n",
       "      <td>183</td>\n",
       "      <td>7.911803</td>\n",
       "    </tr>\n",
       "    <tr>\n",
       "      <th>получение образования</th>\n",
       "      <td>3988</td>\n",
       "      <td>369</td>\n",
       "      <td>9.252758</td>\n",
       "    </tr>\n",
       "    <tr>\n",
       "      <th>операции с автомобилем</th>\n",
       "      <td>4279</td>\n",
       "      <td>400</td>\n",
       "      <td>9.347978</td>\n",
       "    </tr>\n",
       "  </tbody>\n",
       "</table>\n",
       "</div>"
      ],
      "text/plain": [
       "                         total_loans debts overdue_ratio\n",
       "                                                        \n",
       "purpose_category                                        \n",
       "операции с недвижимостью       10751   780      7.255139\n",
       "проведение свадьбы              2313   183      7.911803\n",
       "получение образования           3988   369      9.252758\n",
       "операции с автомобилем          4279   400      9.347978"
      ]
     },
     "execution_count": 29,
     "metadata": {},
     "output_type": "execute_result"
    }
   ],
   "source": [
    "#строим сводную таблицу по данным, сгруппированным по категории цели займа (purpose_category) \n",
    "# количеству выданных кредитов и просроченной задолженности\n",
    "data_pivot_purpose_category =  data.pivot_table(index='purpose_category', values = 'debt', aggfunc=['count', 'sum'])\n",
    "\n",
    "#добавим столбец overdue_ratio, домножим на 100, чтобы получить данные в %\n",
    "data_pivot_purpose_category['overdue_ratio'] = (data_pivot_purpose_category['sum'] / data_pivot_purpose_category['count'])*100 \n",
    "\n",
    "# переименуем столбцы для наглядности представления\n",
    "data_pivot_purpose_category = data_pivot_purpose_category.rename(columns = {'count' : 'total_loans', 'sum': 'debts', 'debt':' '})\n",
    "\n",
    "#выведем сводную таблицу, отсортированную по столбцу overdue_ratio\n",
    "data_pivot_purpose_category_sorted = data_pivot_purpose_category.sort_values(by='overdue_ratio')\n",
    "\n",
    "data_pivot_purpose_category_sorted "
   ]
  },
  {
   "cell_type": "code",
   "execution_count": 30,
   "id": "ea676e66",
   "metadata": {},
   "outputs": [
    {
     "data": {
      "text/plain": [
       "Text(0.5, 1.0, 'Зависимость между целью кредита и возвратом кредита в срок')"
      ]
     },
     "execution_count": 30,
     "metadata": {},
     "output_type": "execute_result"
    },
    {
     "data": {
      "image/png": "[encoded data removed]",
      "text/plain": [
       "<Figure size 432x288 with 1 Axes>"
      ]
     },
     "metadata": {
      "needs_background": "light"
     },
     "output_type": "display_data"
    }
   ],
   "source": [
    "# построим гистограмму по сводным данным отсортированной таблицы\n",
    "\n",
    "purpose_category = ['операции с недвижимостью', 'проведение свадьбы', 'получение образования', 'операции с автомобилем']\n",
    "overdue_ratio =  list(data_pivot_purpose_category_sorted['overdue_ratio'])\n",
    "ax = sns.barplot(y = purpose_category, x = overdue_ratio)\n",
    "ax.set_ylabel('Цель кредита')\n",
    "ax.set_xlabel('Доля просченной задолженности')\n",
    "ax.set_title('Зависимость между целью кредита и возвратом кредита в срок')"
   ]
  },
  {
   "cell_type": "markdown",
   "id": "77404c7d",
   "metadata": {
    "deletable": false,
    "id": "b4bb2ce6"
   },
   "source": [
    "**Вывод:** \n",
    "\n",
    "Чаще всего заемщики брали кредит с целью проведения операций с недвижимостью (примерно половина всего исследуемого объема данных), при этом для банка данные займы были наименее рискованными, так как процент невозвратов по ним минимальный по выборке (7,26 %). Также достаточно низкий риск невозврата наблюдается по займам категории \"проведение свадьбы\", доля просроченной задолженности составила 7,91%, однако эта категория кредитов наименее популярна.\n",
    "\n",
    "Востребованными и при этом достаточно рискованными для банка категориями займов являются кредиты с целью получения образования и проведения операций с автомобилем. Доля просроченной задолженности по ним составила 9,25% и 9,35% соответственно."
   ]
  },
  {
   "cell_type": "markdown",
   "id": "237dc01d",
   "metadata": {
    "deletable": false,
    "editable": false,
    "id": "09c3ac4c"
   },
   "source": [
    "#### 3.5 Приведите возможные причины появления пропусков в исходных данных."
   ]
  },
  {
   "cell_type": "markdown",
   "id": "df103c85",
   "metadata": {
    "deletable": false,
    "id": "9da2ceda"
   },
   "source": [
    "*Ответ:* \n",
    "\n",
    "Пропуски присутствуют в столбцах days_employed (трудовой стаж) и total_income (ежемесячный доход).\n",
    "\n",
    "Причины появления пропусков могут быть следующие:\n",
    "1. Ошибки ввода данных\n",
    "2. Намеренное сокрытие информации о занятости и доходах\n",
    "3. Недостаток информации (например, нет необходимых справок с рабочего места при подтверждении получения кредита)\n",
    "4. Потеря части данных при переносе информации с одного носителя на другой\n",
    "5. Технологические ошибки обработки данных "
   ]
  },
  {
   "cell_type": "markdown",
   "id": "d551173a",
   "metadata": {
    "deletable": false,
    "editable": false,
    "id": "7b0487d6"
   },
   "source": [
    "#### 3.6 Объясните, почему заполнить пропуски медианным значением — лучшее решение для количественных переменных."
   ]
  },
  {
   "cell_type": "markdown",
   "id": "ef096309",
   "metadata": {
    "deletable": false,
    "id": "7ecf2b8e"
   },
   "source": [
    "*Ответ:* \n",
    "\n",
    "Выбирая из простых методов работы с пропусками, заполнение пропусков медианой в данном случае наиболее целесообразно, поскольку позволяет:\n",
    "- сохранить весь объем данных (выборка сократилась бы более чем на 10%, если бы строки с пропущенными данными были удалены)\n",
    "\n",
    "\n",
    "- избежать влияния выбросов на результаты исследования (Артефакты есть, например, в столбце со значениями трудового стажа days_employed. Такие выбросы сильно смещают значение среднего показателя, поэтому замена пропуска средним также менее предпочтительна)\n",
    "\n",
    "\n",
    "- в меньшей степени исказить статистические свойства набора данных (Данные группируются, замена происходит с учетом группы. Данные столбца days_employed не влияют на результаты исследования, а пропущенные данные столбца total_income заменяются медианой группы, что приводит к большей репрезентативности метрик выборки).\n",
    "    "
   ]
  },
  {
   "cell_type": "markdown",
   "id": "cf6e1e38",
   "metadata": {
    "deletable": false,
    "editable": false,
    "id": "6db5255a"
   },
   "source": [
    "### Шаг 4: общий вывод."
   ]
  },
  {
   "cell_type": "markdown",
   "id": "1a5aad30",
   "metadata": {
    "deletable": false,
    "id": "bad65432"
   },
   "source": [
    "Напишите ваш общий вывод."
   ]
  },
  {
   "cell_type": "markdown",
   "id": "b4bcbe6c",
   "metadata": {},
   "source": [
    "Мы исследовали статистику о платёжеспособности клиентов для определения факторов, влияющих на возврат кредита в срок, с целью построения модели кредитного скоринга.\n",
    "\n",
    "На этапе предобработки данных столкнулись с проблемой пропусков данных, а также наличия явных и неявных дубликатов. \n",
    "Пропуски было решено заменить медианным значением по сгруппированным данным. \n",
    "Явные дубликаты были удалены, неявные - приведены к единому формату.\n",
    "\n",
    "Далее были проверены гипотезы, и сделаны следующие выводы:\n",
    "\n",
    "    1. Есть зависимость между количеством детей и возвратом кредита в срок\n",
    "    \n",
    "    Гипотеза подтвердилась частично. Люди с детьми чаще имеют просроченную задолженность, \n",
    "    но прямой зависимости между количеством детей и долей невозвратов в срок не наблюдается.\n",
    "    \n",
    "    2. Есть зависимость между семейным положением и возвратом кредита в срок\n",
    "    Гипотеза подтвердилась. Люди, состоящие в браке или когда-либо состоявшие в браке ранее, \n",
    "    являются менее рискованной категорией заемщиков по сравнению с теми, кто официально одинок.\n",
    "    \n",
    "    3. Есть зависимость между уровнем дохода и возвратом кредита в срок\n",
    "    Гипотеза подтвердилась частично. Выборка является репрезентативной только для двух категорий заемщиков, среди них \n",
    "    найдена наиболее рискованная - это заемщики с доходом уровня C (доход от 50001 до 200000).\n",
    "    \n",
    "    4. Цель кредита влияет на его возрат в срок\n",
    "    Гипотеза подтвердилась. \n",
    "    Выданные займы можно ранжировать как менеее рискованные или более рискованные для банка в зависимости от их цели.\n",
    "    \n",
    "<b> Рекомендации </b>\n",
    "\n",
    "При проведении кредитного скоринга  потенциального заемщика следует оценить следующие параметры:\n",
    "- наличие/отсутствие у заемщика детей (бездетный, 1-2 ребенка или многодетный)\n",
    "- семейное положение (находится ли в браке на текущий момент или был когда-либо в браке ранее)\n",
    "- принадлежит ли к рисковой группе по уровню дохода\n",
    "- цель кредита\n",
    "\n",
    "Кроме того, если это возможно, следует увеличить изучаемую выборку данных для улучшения репрезентативности результатов исследований по различным группам заемщиков."
   ]
  }
 ],
 "metadata": {
  "ExecuteTimeLog": [
   {
    "duration": 55,
    "start_time": "2022-09-09T12:48:30.001Z"
   },
   {
    "duration": 502,
    "start_time": "2022-09-09T12:48:47.253Z"
   },
   {
    "duration": 23,
    "start_time": "2022-09-09T12:48:47.757Z"
   },
   {
    "duration": 29,
    "start_time": "2022-09-09T12:48:47.781Z"
   },
   {
    "duration": 12,
    "start_time": "2022-09-09T12:48:47.813Z"
   },
   {
    "duration": 36,
    "start_time": "2022-09-09T12:48:47.826Z"
   },
   {
    "duration": 3,
    "start_time": "2022-09-09T12:48:47.864Z"
   },
   {
    "duration": 12,
    "start_time": "2022-09-09T12:48:47.892Z"
   },
   {
    "duration": 11,
    "start_time": "2022-09-09T12:48:47.906Z"
   },
   {
    "duration": 11,
    "start_time": "2022-09-09T12:48:47.919Z"
   },
   {
    "duration": 5,
    "start_time": "2022-09-09T12:48:47.932Z"
   },
   {
    "duration": 56,
    "start_time": "2022-09-09T12:48:47.939Z"
   },
   {
    "duration": 17,
    "start_time": "2022-09-09T12:48:47.997Z"
   },
   {
    "duration": 6,
    "start_time": "2022-09-09T12:48:48.017Z"
   },
   {
    "duration": 13,
    "start_time": "2022-09-09T12:48:48.025Z"
   },
   {
    "duration": 24,
    "start_time": "2022-09-09T12:48:48.040Z"
   },
   {
    "duration": 31,
    "start_time": "2022-09-09T12:48:48.066Z"
   },
   {
    "duration": 4,
    "start_time": "2022-09-09T12:48:48.099Z"
   },
   {
    "duration": 19,
    "start_time": "2022-09-09T12:48:48.105Z"
   },
   {
    "duration": 10,
    "start_time": "2022-09-09T12:48:48.125Z"
   },
   {
    "duration": 5,
    "start_time": "2022-09-09T12:48:48.137Z"
   },
   {
    "duration": 11,
    "start_time": "2022-09-09T12:48:48.144Z"
   },
   {
    "duration": 7,
    "start_time": "2022-09-09T12:48:48.156Z"
   },
   {
    "duration": 28,
    "start_time": "2022-09-09T12:48:48.165Z"
   },
   {
    "duration": 13,
    "start_time": "2022-09-09T12:48:48.196Z"
   },
   {
    "duration": 7,
    "start_time": "2022-09-09T12:48:48.212Z"
   },
   {
    "duration": 80,
    "start_time": "2022-09-09T12:52:06.788Z"
   },
   {
    "duration": 73,
    "start_time": "2022-09-09T12:52:56.940Z"
   },
   {
    "duration": 81,
    "start_time": "2022-09-09T12:53:04.556Z"
   },
   {
    "duration": 104,
    "start_time": "2022-09-09T12:53:09.511Z"
   },
   {
    "duration": 76,
    "start_time": "2022-09-09T12:55:30.079Z"
   },
   {
    "duration": 88,
    "start_time": "2022-09-09T18:31:38.364Z"
   },
   {
    "duration": 954,
    "start_time": "2022-09-09T18:31:51.305Z"
   },
   {
    "duration": 21,
    "start_time": "2022-09-09T18:31:52.261Z"
   },
   {
    "duration": 13,
    "start_time": "2022-09-09T18:31:52.283Z"
   },
   {
    "duration": 8,
    "start_time": "2022-09-09T18:31:52.298Z"
   },
   {
    "duration": 65,
    "start_time": "2022-09-09T18:31:52.307Z"
   },
   {
    "duration": 3,
    "start_time": "2022-09-09T18:31:52.374Z"
   },
   {
    "duration": 10,
    "start_time": "2022-09-09T18:31:52.378Z"
   },
   {
    "duration": 4,
    "start_time": "2022-09-09T18:31:52.389Z"
   },
   {
    "duration": 8,
    "start_time": "2022-09-09T18:31:52.395Z"
   },
   {
    "duration": 14,
    "start_time": "2022-09-09T18:31:52.406Z"
   },
   {
    "duration": 65,
    "start_time": "2022-09-09T18:31:52.422Z"
   },
   {
    "duration": 8,
    "start_time": "2022-09-09T18:31:52.489Z"
   },
   {
    "duration": 3,
    "start_time": "2022-09-09T18:31:52.498Z"
   },
   {
    "duration": 19,
    "start_time": "2022-09-09T18:31:52.503Z"
   },
   {
    "duration": 50,
    "start_time": "2022-09-09T18:31:52.523Z"
   },
   {
    "duration": 18,
    "start_time": "2022-09-09T18:31:52.575Z"
   },
   {
    "duration": 4,
    "start_time": "2022-09-09T18:31:52.594Z"
   },
   {
    "duration": 59,
    "start_time": "2022-09-09T18:31:52.599Z"
   },
   {
    "duration": 8,
    "start_time": "2022-09-09T18:31:52.660Z"
   },
   {
    "duration": 4,
    "start_time": "2022-09-09T18:31:52.670Z"
   },
   {
    "duration": 11,
    "start_time": "2022-09-09T18:31:52.675Z"
   },
   {
    "duration": 6,
    "start_time": "2022-09-09T18:31:52.688Z"
   },
   {
    "duration": 3,
    "start_time": "2022-09-09T18:31:52.696Z"
   },
   {
    "duration": 4,
    "start_time": "2022-09-09T18:31:52.700Z"
   },
   {
    "duration": 42,
    "start_time": "2022-09-09T18:31:52.705Z"
   },
   {
    "duration": 83,
    "start_time": "2022-09-09T18:44:28.124Z"
   },
   {
    "duration": 39,
    "start_time": "2022-09-09T18:44:44.000Z"
   },
   {
    "duration": 23,
    "start_time": "2022-09-09T18:45:41.737Z"
   },
   {
    "duration": 15,
    "start_time": "2022-09-09T18:50:40.975Z"
   },
   {
    "duration": 1357,
    "start_time": "2022-09-09T18:58:00.796Z"
   },
   {
    "duration": 1189,
    "start_time": "2022-09-09T18:59:38.603Z"
   },
   {
    "duration": 2611,
    "start_time": "2022-09-09T19:00:03.460Z"
   },
   {
    "duration": 1631,
    "start_time": "2022-09-09T19:01:16.977Z"
   },
   {
    "duration": 1122,
    "start_time": "2022-09-09T19:01:38.951Z"
   },
   {
    "duration": 20,
    "start_time": "2022-09-09T19:02:20.068Z"
   },
   {
    "duration": 29,
    "start_time": "2022-09-09T19:03:16.853Z"
   },
   {
    "duration": 26,
    "start_time": "2022-09-09T19:03:26.728Z"
   },
   {
    "duration": 91,
    "start_time": "2022-09-09T19:03:47.199Z"
   },
   {
    "duration": 38,
    "start_time": "2022-09-09T19:03:59.298Z"
   },
   {
    "duration": 10,
    "start_time": "2022-09-09T19:06:03.729Z"
   },
   {
    "duration": 11,
    "start_time": "2022-09-09T19:16:27.853Z"
   },
   {
    "duration": 13,
    "start_time": "2022-09-09T19:16:38.089Z"
   },
   {
    "duration": 17,
    "start_time": "2022-09-09T19:16:44.899Z"
   },
   {
    "duration": 25,
    "start_time": "2022-09-09T19:21:12.306Z"
   },
   {
    "duration": 38,
    "start_time": "2022-09-09T19:25:16.646Z"
   },
   {
    "duration": 16,
    "start_time": "2022-09-09T19:26:13.134Z"
   },
   {
    "duration": 16,
    "start_time": "2022-09-09T19:49:53.159Z"
   },
   {
    "duration": 24,
    "start_time": "2022-09-09T19:57:11.617Z"
   },
   {
    "duration": 26,
    "start_time": "2022-09-09T20:03:25.332Z"
   },
   {
    "duration": 30,
    "start_time": "2022-09-09T20:03:52.640Z"
   },
   {
    "duration": 22,
    "start_time": "2022-09-09T20:04:12.997Z"
   },
   {
    "duration": 27,
    "start_time": "2022-09-09T20:10:25.624Z"
   },
   {
    "duration": 48,
    "start_time": "2022-09-10T17:37:21.490Z"
   },
   {
    "duration": 660,
    "start_time": "2022-09-10T17:37:37.020Z"
   },
   {
    "duration": 25,
    "start_time": "2022-09-10T17:37:37.682Z"
   },
   {
    "duration": 18,
    "start_time": "2022-09-10T17:37:37.709Z"
   },
   {
    "duration": 25,
    "start_time": "2022-09-10T17:37:37.728Z"
   },
   {
    "duration": 36,
    "start_time": "2022-09-10T17:37:37.754Z"
   },
   {
    "duration": 3,
    "start_time": "2022-09-10T17:37:37.791Z"
   },
   {
    "duration": 30,
    "start_time": "2022-09-10T17:37:37.796Z"
   },
   {
    "duration": 13,
    "start_time": "2022-09-10T17:37:37.828Z"
   },
   {
    "duration": 25,
    "start_time": "2022-09-10T17:37:37.842Z"
   },
   {
    "duration": 15,
    "start_time": "2022-09-10T17:37:37.869Z"
   },
   {
    "duration": 52,
    "start_time": "2022-09-10T17:37:37.886Z"
   },
   {
    "duration": 10,
    "start_time": "2022-09-10T17:37:37.940Z"
   },
   {
    "duration": 13,
    "start_time": "2022-09-10T17:37:37.952Z"
   },
   {
    "duration": 21,
    "start_time": "2022-09-10T17:37:37.966Z"
   },
   {
    "duration": 28,
    "start_time": "2022-09-10T17:37:37.989Z"
   },
   {
    "duration": 21,
    "start_time": "2022-09-10T17:37:38.019Z"
   },
   {
    "duration": 4,
    "start_time": "2022-09-10T17:37:38.042Z"
   },
   {
    "duration": 29,
    "start_time": "2022-09-10T17:37:38.047Z"
   },
   {
    "duration": 36,
    "start_time": "2022-09-10T17:37:38.077Z"
   },
   {
    "duration": 8,
    "start_time": "2022-09-10T17:37:38.114Z"
   },
   {
    "duration": 15,
    "start_time": "2022-09-10T17:37:38.123Z"
   },
   {
    "duration": 34,
    "start_time": "2022-09-10T17:37:38.139Z"
   },
   {
    "duration": 13,
    "start_time": "2022-09-10T17:37:38.174Z"
   },
   {
    "duration": 14,
    "start_time": "2022-09-10T17:37:38.188Z"
   },
   {
    "duration": 2,
    "start_time": "2022-09-10T17:37:38.204Z"
   },
   {
    "duration": 31,
    "start_time": "2022-09-10T17:38:10.988Z"
   },
   {
    "duration": 34,
    "start_time": "2022-09-10T17:41:27.166Z"
   },
   {
    "duration": 95,
    "start_time": "2022-09-10T17:43:09.769Z"
   },
   {
    "duration": 33,
    "start_time": "2022-09-10T17:44:22.585Z"
   },
   {
    "duration": 52,
    "start_time": "2022-09-11T11:42:27.377Z"
   },
   {
    "duration": 558,
    "start_time": "2022-09-11T11:43:02.651Z"
   },
   {
    "duration": 24,
    "start_time": "2022-09-11T11:43:03.210Z"
   },
   {
    "duration": 15,
    "start_time": "2022-09-11T11:43:03.236Z"
   },
   {
    "duration": 13,
    "start_time": "2022-09-11T11:43:03.253Z"
   },
   {
    "duration": 37,
    "start_time": "2022-09-11T11:43:03.268Z"
   },
   {
    "duration": 4,
    "start_time": "2022-09-11T11:43:03.306Z"
   },
   {
    "duration": 11,
    "start_time": "2022-09-11T11:43:03.312Z"
   },
   {
    "duration": 4,
    "start_time": "2022-09-11T11:43:03.325Z"
   },
   {
    "duration": 8,
    "start_time": "2022-09-11T11:43:03.331Z"
   },
   {
    "duration": 28,
    "start_time": "2022-09-11T11:43:03.342Z"
   },
   {
    "duration": 42,
    "start_time": "2022-09-11T11:43:03.372Z"
   },
   {
    "duration": 9,
    "start_time": "2022-09-11T11:43:03.416Z"
   },
   {
    "duration": 5,
    "start_time": "2022-09-11T11:43:03.426Z"
   },
   {
    "duration": 38,
    "start_time": "2022-09-11T11:43:03.433Z"
   },
   {
    "duration": 22,
    "start_time": "2022-09-11T11:43:03.472Z"
   },
   {
    "duration": 17,
    "start_time": "2022-09-11T11:43:03.496Z"
   },
   {
    "duration": 4,
    "start_time": "2022-09-11T11:43:03.514Z"
   },
   {
    "duration": 16,
    "start_time": "2022-09-11T11:43:03.520Z"
   },
   {
    "duration": 10,
    "start_time": "2022-09-11T11:43:03.537Z"
   },
   {
    "duration": 20,
    "start_time": "2022-09-11T11:43:03.549Z"
   },
   {
    "duration": 14,
    "start_time": "2022-09-11T11:43:03.570Z"
   },
   {
    "duration": 44,
    "start_time": "2022-09-11T11:43:03.586Z"
   },
   {
    "duration": 13,
    "start_time": "2022-09-11T11:43:03.632Z"
   },
   {
    "duration": 14,
    "start_time": "2022-09-11T11:43:03.667Z"
   },
   {
    "duration": 2,
    "start_time": "2022-09-11T11:43:03.682Z"
   },
   {
    "duration": 39,
    "start_time": "2022-09-11T11:43:48.841Z"
   },
   {
    "duration": 507,
    "start_time": "2022-09-11T13:42:53.292Z"
   },
   {
    "duration": 22,
    "start_time": "2022-09-11T13:42:53.801Z"
   },
   {
    "duration": 16,
    "start_time": "2022-09-11T13:42:53.825Z"
   },
   {
    "duration": 29,
    "start_time": "2022-09-11T13:42:53.842Z"
   },
   {
    "duration": 41,
    "start_time": "2022-09-11T13:42:53.874Z"
   },
   {
    "duration": 3,
    "start_time": "2022-09-11T13:42:53.917Z"
   },
   {
    "duration": 10,
    "start_time": "2022-09-11T13:42:53.921Z"
   },
   {
    "duration": 4,
    "start_time": "2022-09-11T13:42:53.933Z"
   },
   {
    "duration": 33,
    "start_time": "2022-09-11T13:42:53.938Z"
   },
   {
    "duration": 6,
    "start_time": "2022-09-11T13:42:53.973Z"
   },
   {
    "duration": 46,
    "start_time": "2022-09-11T13:42:53.986Z"
   },
   {
    "duration": 9,
    "start_time": "2022-09-11T13:42:54.034Z"
   },
   {
    "duration": 5,
    "start_time": "2022-09-11T13:42:54.045Z"
   },
   {
    "duration": 22,
    "start_time": "2022-09-11T13:42:54.053Z"
   },
   {
    "duration": 38,
    "start_time": "2022-09-11T13:42:54.077Z"
   },
   {
    "duration": 16,
    "start_time": "2022-09-11T13:42:54.117Z"
   },
   {
    "duration": 4,
    "start_time": "2022-09-11T13:42:54.135Z"
   },
   {
    "duration": 11,
    "start_time": "2022-09-11T13:42:54.140Z"
   },
   {
    "duration": 9,
    "start_time": "2022-09-11T13:42:54.153Z"
   },
   {
    "duration": 7,
    "start_time": "2022-09-11T13:42:54.164Z"
   },
   {
    "duration": 34,
    "start_time": "2022-09-11T13:42:54.173Z"
   },
   {
    "duration": 6,
    "start_time": "2022-09-11T13:42:54.209Z"
   },
   {
    "duration": 85,
    "start_time": "2022-09-11T13:42:54.216Z"
   },
   {
    "duration": 0,
    "start_time": "2022-09-11T13:42:54.303Z"
   },
   {
    "duration": 0,
    "start_time": "2022-09-11T13:42:54.304Z"
   },
   {
    "duration": 0,
    "start_time": "2022-09-11T13:42:54.305Z"
   },
   {
    "duration": 0,
    "start_time": "2022-09-11T13:42:54.306Z"
   },
   {
    "duration": 18,
    "start_time": "2022-09-11T13:43:23.004Z"
   },
   {
    "duration": 6,
    "start_time": "2022-09-11T13:43:38.019Z"
   },
   {
    "duration": 20,
    "start_time": "2022-09-11T13:43:40.937Z"
   },
   {
    "duration": 23,
    "start_time": "2022-09-11T13:43:58.004Z"
   },
   {
    "duration": 0,
    "start_time": "2022-09-11T13:52:07.352Z"
   },
   {
    "duration": 20,
    "start_time": "2022-09-11T13:53:53.592Z"
   },
   {
    "duration": 1464,
    "start_time": "2022-09-11T13:56:36.527Z"
   },
   {
    "duration": 1686,
    "start_time": "2022-09-11T13:56:39.358Z"
   },
   {
    "duration": 1429,
    "start_time": "2022-09-11T13:56:55.211Z"
   },
   {
    "duration": 1524,
    "start_time": "2022-09-11T13:57:15.558Z"
   },
   {
    "duration": 1507,
    "start_time": "2022-09-11T13:57:17.736Z"
   },
   {
    "duration": 1187,
    "start_time": "2022-09-11T13:58:10.677Z"
   },
   {
    "duration": 518,
    "start_time": "2022-09-11T13:58:25.682Z"
   },
   {
    "duration": 26,
    "start_time": "2022-09-11T13:58:26.202Z"
   },
   {
    "duration": 15,
    "start_time": "2022-09-11T13:58:26.229Z"
   },
   {
    "duration": 36,
    "start_time": "2022-09-11T13:58:26.247Z"
   },
   {
    "duration": 33,
    "start_time": "2022-09-11T13:58:26.285Z"
   },
   {
    "duration": 3,
    "start_time": "2022-09-11T13:58:26.320Z"
   },
   {
    "duration": 10,
    "start_time": "2022-09-11T13:58:26.325Z"
   },
   {
    "duration": 5,
    "start_time": "2022-09-11T13:58:26.336Z"
   },
   {
    "duration": 8,
    "start_time": "2022-09-11T13:58:26.342Z"
   },
   {
    "duration": 7,
    "start_time": "2022-09-11T13:58:26.378Z"
   },
   {
    "duration": 41,
    "start_time": "2022-09-11T13:58:26.387Z"
   },
   {
    "duration": 9,
    "start_time": "2022-09-11T13:58:26.430Z"
   },
   {
    "duration": 5,
    "start_time": "2022-09-11T13:58:26.441Z"
   },
   {
    "duration": 39,
    "start_time": "2022-09-11T13:58:26.448Z"
   },
   {
    "duration": 19,
    "start_time": "2022-09-11T13:58:26.489Z"
   },
   {
    "duration": 19,
    "start_time": "2022-09-11T13:58:26.510Z"
   },
   {
    "duration": 5,
    "start_time": "2022-09-11T13:58:26.531Z"
   },
   {
    "duration": 24,
    "start_time": "2022-09-11T13:58:26.538Z"
   },
   {
    "duration": 21,
    "start_time": "2022-09-11T13:58:26.574Z"
   },
   {
    "duration": 4,
    "start_time": "2022-09-11T13:58:26.597Z"
   },
   {
    "duration": 19,
    "start_time": "2022-09-11T13:58:26.602Z"
   },
   {
    "duration": 23,
    "start_time": "2022-09-11T13:58:26.623Z"
   },
   {
    "duration": 35,
    "start_time": "2022-09-11T13:58:26.647Z"
   },
   {
    "duration": 43,
    "start_time": "2022-09-11T13:58:26.685Z"
   },
   {
    "duration": 2305,
    "start_time": "2022-09-11T13:58:26.730Z"
   },
   {
    "duration": 0,
    "start_time": "2022-09-11T13:58:29.036Z"
   },
   {
    "duration": 0,
    "start_time": "2022-09-11T13:58:29.037Z"
   },
   {
    "duration": 0,
    "start_time": "2022-09-11T13:58:29.038Z"
   },
   {
    "duration": 1206,
    "start_time": "2022-09-11T13:59:10.985Z"
   },
   {
    "duration": 2133,
    "start_time": "2022-09-11T14:00:00.652Z"
   },
   {
    "duration": 53,
    "start_time": "2022-09-11T14:00:27.282Z"
   },
   {
    "duration": 1267,
    "start_time": "2022-09-11T14:02:03.832Z"
   },
   {
    "duration": 1388,
    "start_time": "2022-09-11T14:02:11.809Z"
   },
   {
    "duration": 78,
    "start_time": "2022-09-11T14:07:44.847Z"
   },
   {
    "duration": 9,
    "start_time": "2022-09-11T14:08:19.654Z"
   },
   {
    "duration": 73,
    "start_time": "2022-09-11T14:08:31.690Z"
   },
   {
    "duration": 10,
    "start_time": "2022-09-11T14:08:58.895Z"
   },
   {
    "duration": 20,
    "start_time": "2022-09-11T14:09:19.128Z"
   },
   {
    "duration": 25,
    "start_time": "2022-09-11T14:09:39.966Z"
   },
   {
    "duration": 43,
    "start_time": "2022-09-11T14:11:56.739Z"
   },
   {
    "duration": 25,
    "start_time": "2022-09-11T14:12:18.937Z"
   },
   {
    "duration": 473,
    "start_time": "2022-09-11T14:13:40.099Z"
   },
   {
    "duration": 24,
    "start_time": "2022-09-11T14:13:40.582Z"
   },
   {
    "duration": 14,
    "start_time": "2022-09-11T14:13:40.608Z"
   },
   {
    "duration": 8,
    "start_time": "2022-09-11T14:13:40.624Z"
   },
   {
    "duration": 51,
    "start_time": "2022-09-11T14:13:40.633Z"
   },
   {
    "duration": 3,
    "start_time": "2022-09-11T14:13:40.686Z"
   },
   {
    "duration": 11,
    "start_time": "2022-09-11T14:13:40.690Z"
   },
   {
    "duration": 4,
    "start_time": "2022-09-11T14:13:40.703Z"
   },
   {
    "duration": 8,
    "start_time": "2022-09-11T14:13:40.709Z"
   },
   {
    "duration": 6,
    "start_time": "2022-09-11T14:13:40.719Z"
   },
   {
    "duration": 68,
    "start_time": "2022-09-11T14:13:40.726Z"
   },
   {
    "duration": 12,
    "start_time": "2022-09-11T14:13:40.796Z"
   },
   {
    "duration": 4,
    "start_time": "2022-09-11T14:13:40.810Z"
   },
   {
    "duration": 19,
    "start_time": "2022-09-11T14:13:40.816Z"
   },
   {
    "duration": 47,
    "start_time": "2022-09-11T14:13:40.836Z"
   },
   {
    "duration": 18,
    "start_time": "2022-09-11T14:13:40.884Z"
   },
   {
    "duration": 4,
    "start_time": "2022-09-11T14:13:40.904Z"
   },
   {
    "duration": 20,
    "start_time": "2022-09-11T14:13:40.909Z"
   },
   {
    "duration": 21,
    "start_time": "2022-09-11T14:13:40.931Z"
   },
   {
    "duration": 10,
    "start_time": "2022-09-11T14:13:40.954Z"
   },
   {
    "duration": 46,
    "start_time": "2022-09-11T14:13:40.965Z"
   },
   {
    "duration": 58,
    "start_time": "2022-09-11T14:13:41.013Z"
   },
   {
    "duration": 17,
    "start_time": "2022-09-11T14:13:41.078Z"
   },
   {
    "duration": 13,
    "start_time": "2022-09-11T14:13:41.097Z"
   },
   {
    "duration": 2,
    "start_time": "2022-09-11T14:13:41.111Z"
   },
   {
    "duration": 29,
    "start_time": "2022-09-11T14:17:03.419Z"
   },
   {
    "duration": 33,
    "start_time": "2022-09-11T14:18:18.567Z"
   },
   {
    "duration": 91,
    "start_time": "2022-09-11T14:18:59.402Z"
   },
   {
    "duration": 27,
    "start_time": "2022-09-11T14:19:07.915Z"
   },
   {
    "duration": 34,
    "start_time": "2022-09-11T14:19:18.740Z"
   },
   {
    "duration": 27,
    "start_time": "2022-09-11T14:19:30.289Z"
   },
   {
    "duration": 29,
    "start_time": "2022-09-11T14:19:41.281Z"
   },
   {
    "duration": 21,
    "start_time": "2022-09-11T14:21:55.929Z"
   },
   {
    "duration": 23,
    "start_time": "2022-09-11T14:22:02.871Z"
   },
   {
    "duration": 14,
    "start_time": "2022-09-11T14:22:18.911Z"
   },
   {
    "duration": 15,
    "start_time": "2022-09-11T14:22:30.151Z"
   },
   {
    "duration": 31,
    "start_time": "2022-09-11T14:24:04.057Z"
   },
   {
    "duration": 29,
    "start_time": "2022-09-11T14:26:10.860Z"
   },
   {
    "duration": 25,
    "start_time": "2022-09-11T14:29:34.433Z"
   },
   {
    "duration": 40,
    "start_time": "2022-09-11T14:29:53.733Z"
   },
   {
    "duration": 26,
    "start_time": "2022-09-11T14:30:21.693Z"
   },
   {
    "duration": 31,
    "start_time": "2022-09-11T14:31:24.991Z"
   },
   {
    "duration": 33,
    "start_time": "2022-09-11T14:32:03.309Z"
   },
   {
    "duration": 24,
    "start_time": "2022-09-11T14:32:50.952Z"
   },
   {
    "duration": 27,
    "start_time": "2022-09-11T14:33:06.088Z"
   },
   {
    "duration": 38,
    "start_time": "2022-09-11T14:33:45.978Z"
   },
   {
    "duration": 31,
    "start_time": "2022-09-11T14:35:27.512Z"
   },
   {
    "duration": 2063,
    "start_time": "2022-09-12T10:40:08.282Z"
   },
   {
    "duration": 11,
    "start_time": "2022-09-12T10:40:22.166Z"
   },
   {
    "duration": 964,
    "start_time": "2022-09-12T10:40:28.995Z"
   },
   {
    "duration": 23,
    "start_time": "2022-09-12T10:40:29.961Z"
   },
   {
    "duration": 15,
    "start_time": "2022-09-12T10:40:29.986Z"
   },
   {
    "duration": 13,
    "start_time": "2022-09-12T10:40:30.003Z"
   },
   {
    "duration": 67,
    "start_time": "2022-09-12T10:40:30.018Z"
   },
   {
    "duration": 3,
    "start_time": "2022-09-12T10:40:30.087Z"
   },
   {
    "duration": 47,
    "start_time": "2022-09-12T10:40:30.092Z"
   },
   {
    "duration": 27,
    "start_time": "2022-09-12T10:40:30.146Z"
   },
   {
    "duration": 30,
    "start_time": "2022-09-12T10:40:30.175Z"
   },
   {
    "duration": 20,
    "start_time": "2022-09-12T10:40:30.208Z"
   },
   {
    "duration": 76,
    "start_time": "2022-09-12T10:40:30.240Z"
   },
   {
    "duration": 54,
    "start_time": "2022-09-12T10:40:30.318Z"
   },
   {
    "duration": 63,
    "start_time": "2022-09-12T10:40:30.374Z"
   },
   {
    "duration": 58,
    "start_time": "2022-09-12T10:40:30.450Z"
   },
   {
    "duration": 88,
    "start_time": "2022-09-12T10:40:30.510Z"
   },
   {
    "duration": 77,
    "start_time": "2022-09-12T10:40:30.600Z"
   },
   {
    "duration": 91,
    "start_time": "2022-09-12T10:40:30.679Z"
   },
   {
    "duration": 28,
    "start_time": "2022-09-12T10:40:30.772Z"
   },
   {
    "duration": 89,
    "start_time": "2022-09-12T10:40:30.801Z"
   },
   {
    "duration": 65,
    "start_time": "2022-09-12T10:40:30.892Z"
   },
   {
    "duration": 32,
    "start_time": "2022-09-12T10:40:30.960Z"
   },
   {
    "duration": 55,
    "start_time": "2022-09-12T10:40:30.993Z"
   },
   {
    "duration": 1115,
    "start_time": "2022-09-12T10:40:31.050Z"
   },
   {
    "duration": 0,
    "start_time": "2022-09-12T10:40:32.167Z"
   },
   {
    "duration": 0,
    "start_time": "2022-09-12T10:40:32.169Z"
   },
   {
    "duration": 0,
    "start_time": "2022-09-12T10:40:32.170Z"
   },
   {
    "duration": 58,
    "start_time": "2022-09-12T10:45:48.558Z"
   },
   {
    "duration": 1187,
    "start_time": "2022-09-12T10:45:59.722Z"
   },
   {
    "duration": 26,
    "start_time": "2022-09-12T10:46:24.862Z"
   },
   {
    "duration": 1239,
    "start_time": "2022-09-12T10:47:01.848Z"
   },
   {
    "duration": 1170,
    "start_time": "2022-09-12T10:47:26.914Z"
   },
   {
    "duration": 818,
    "start_time": "2022-09-12T10:47:42.750Z"
   },
   {
    "duration": 1174,
    "start_time": "2022-09-12T10:48:20.693Z"
   },
   {
    "duration": 989,
    "start_time": "2022-09-12T10:48:46.810Z"
   },
   {
    "duration": 157,
    "start_time": "2022-09-12T10:51:29.312Z"
   },
   {
    "duration": 182,
    "start_time": "2022-09-12T10:56:11.889Z"
   },
   {
    "duration": 161,
    "start_time": "2022-09-12T10:57:19.421Z"
   },
   {
    "duration": 133,
    "start_time": "2022-09-12T10:59:57.373Z"
   },
   {
    "duration": 154,
    "start_time": "2022-09-12T11:00:36.546Z"
   },
   {
    "duration": 166,
    "start_time": "2022-09-12T11:00:49.666Z"
   },
   {
    "duration": 159,
    "start_time": "2022-09-12T11:01:17.380Z"
   },
   {
    "duration": 165,
    "start_time": "2022-09-12T11:01:25.448Z"
   },
   {
    "duration": 132,
    "start_time": "2022-09-12T11:02:32.080Z"
   },
   {
    "duration": 217,
    "start_time": "2022-09-12T11:02:38.505Z"
   },
   {
    "duration": 139,
    "start_time": "2022-09-12T11:02:52.188Z"
   },
   {
    "duration": 156,
    "start_time": "2022-09-12T11:02:56.752Z"
   },
   {
    "duration": 151,
    "start_time": "2022-09-12T11:03:08.433Z"
   },
   {
    "duration": 953,
    "start_time": "2022-09-12T11:06:45.582Z"
   },
   {
    "duration": 144,
    "start_time": "2022-09-12T11:07:27.443Z"
   },
   {
    "duration": 33,
    "start_time": "2022-09-12T11:23:42.461Z"
   },
   {
    "duration": 12,
    "start_time": "2022-09-12T11:26:42.302Z"
   },
   {
    "duration": 159,
    "start_time": "2022-09-12T11:26:51.824Z"
   },
   {
    "duration": 12,
    "start_time": "2022-09-12T11:28:05.414Z"
   },
   {
    "duration": 162,
    "start_time": "2022-09-12T11:28:18.708Z"
   },
   {
    "duration": 158,
    "start_time": "2022-09-12T11:28:24.015Z"
   },
   {
    "duration": 13,
    "start_time": "2022-09-12T11:28:31.297Z"
   },
   {
    "duration": 154,
    "start_time": "2022-09-12T11:28:36.028Z"
   },
   {
    "duration": 161,
    "start_time": "2022-09-12T11:29:13.261Z"
   },
   {
    "duration": 154,
    "start_time": "2022-09-12T11:29:20.536Z"
   },
   {
    "duration": 140,
    "start_time": "2022-09-12T11:29:29.658Z"
   },
   {
    "duration": 142,
    "start_time": "2022-09-12T11:29:34.957Z"
   },
   {
    "duration": 260,
    "start_time": "2022-09-12T11:29:46.396Z"
   },
   {
    "duration": 146,
    "start_time": "2022-09-12T11:50:12.492Z"
   },
   {
    "duration": 12,
    "start_time": "2022-09-12T11:51:34.209Z"
   },
   {
    "duration": 30,
    "start_time": "2022-09-12T11:52:34.373Z"
   },
   {
    "duration": 32,
    "start_time": "2022-09-12T11:52:41.641Z"
   },
   {
    "duration": 31,
    "start_time": "2022-09-12T11:52:47.982Z"
   },
   {
    "duration": 31,
    "start_time": "2022-09-12T11:52:54.767Z"
   },
   {
    "duration": 29,
    "start_time": "2022-09-12T11:53:10.076Z"
   },
   {
    "duration": 31,
    "start_time": "2022-09-12T11:54:13.786Z"
   },
   {
    "duration": 158,
    "start_time": "2022-09-12T11:54:20.385Z"
   },
   {
    "duration": 30,
    "start_time": "2022-09-12T11:55:54.787Z"
   },
   {
    "duration": 155,
    "start_time": "2022-09-12T11:56:58.427Z"
   },
   {
    "duration": 27,
    "start_time": "2022-09-12T12:29:24.575Z"
   },
   {
    "duration": 138,
    "start_time": "2022-09-12T12:32:21.414Z"
   },
   {
    "duration": 33,
    "start_time": "2022-09-12T12:50:11.045Z"
   },
   {
    "duration": 10,
    "start_time": "2022-09-12T12:52:23.175Z"
   },
   {
    "duration": 935,
    "start_time": "2022-09-12T12:52:35.228Z"
   },
   {
    "duration": 815,
    "start_time": "2022-09-12T12:52:57.547Z"
   },
   {
    "duration": 924,
    "start_time": "2022-09-12T12:53:19.893Z"
   },
   {
    "duration": 22,
    "start_time": "2022-09-12T12:55:05.409Z"
   },
   {
    "duration": 21,
    "start_time": "2022-09-12T12:55:13.001Z"
   },
   {
    "duration": 20,
    "start_time": "2022-09-12T12:55:20.139Z"
   },
   {
    "duration": 19,
    "start_time": "2022-09-12T12:55:46.123Z"
   },
   {
    "duration": 146,
    "start_time": "2022-09-12T12:56:18.530Z"
   },
   {
    "duration": 713,
    "start_time": "2022-09-13T12:09:06.393Z"
   },
   {
    "duration": 21,
    "start_time": "2022-09-13T12:09:07.108Z"
   },
   {
    "duration": 13,
    "start_time": "2022-09-13T12:09:07.131Z"
   },
   {
    "duration": 9,
    "start_time": "2022-09-13T12:09:07.146Z"
   },
   {
    "duration": 54,
    "start_time": "2022-09-13T12:09:07.156Z"
   },
   {
    "duration": 3,
    "start_time": "2022-09-13T12:09:07.212Z"
   },
   {
    "duration": 10,
    "start_time": "2022-09-13T12:09:07.217Z"
   },
   {
    "duration": 5,
    "start_time": "2022-09-13T12:09:07.229Z"
   },
   {
    "duration": 8,
    "start_time": "2022-09-13T12:09:07.235Z"
   },
   {
    "duration": 5,
    "start_time": "2022-09-13T12:09:07.248Z"
   },
   {
    "duration": 72,
    "start_time": "2022-09-13T12:09:07.254Z"
   },
   {
    "duration": 10,
    "start_time": "2022-09-13T12:09:07.327Z"
   },
   {
    "duration": 4,
    "start_time": "2022-09-13T12:09:07.338Z"
   },
   {
    "duration": 12,
    "start_time": "2022-09-13T12:09:07.343Z"
   },
   {
    "duration": 36,
    "start_time": "2022-09-13T12:09:07.356Z"
   },
   {
    "duration": 23,
    "start_time": "2022-09-13T12:09:07.394Z"
   },
   {
    "duration": 4,
    "start_time": "2022-09-13T12:09:07.418Z"
   },
   {
    "duration": 14,
    "start_time": "2022-09-13T12:09:07.424Z"
   },
   {
    "duration": 6,
    "start_time": "2022-09-13T12:09:07.440Z"
   },
   {
    "duration": 13,
    "start_time": "2022-09-13T12:09:07.447Z"
   },
   {
    "duration": 24,
    "start_time": "2022-09-13T12:09:07.462Z"
   },
   {
    "duration": 34,
    "start_time": "2022-09-13T12:09:07.487Z"
   },
   {
    "duration": 1016,
    "start_time": "2022-09-13T12:09:07.523Z"
   },
   {
    "duration": 33,
    "start_time": "2022-09-13T12:09:08.541Z"
   },
   {
    "duration": 149,
    "start_time": "2022-09-13T12:09:08.576Z"
   },
   {
    "duration": 22,
    "start_time": "2022-09-13T12:09:08.727Z"
   },
   {
    "duration": 142,
    "start_time": "2022-09-13T12:09:08.751Z"
   },
   {
    "duration": 32,
    "start_time": "2022-09-13T12:09:08.896Z"
   },
   {
    "duration": 137,
    "start_time": "2022-09-13T12:09:08.929Z"
   },
   {
    "duration": 1397,
    "start_time": "2022-09-13T12:23:47.904Z"
   },
   {
    "duration": 24,
    "start_time": "2022-09-13T12:24:15.098Z"
   },
   {
    "duration": 16,
    "start_time": "2022-09-13T12:24:47.986Z"
   },
   {
    "duration": 11,
    "start_time": "2022-09-13T12:25:06.646Z"
   },
   {
    "duration": 46,
    "start_time": "2022-09-13T12:25:32.970Z"
   },
   {
    "duration": 9,
    "start_time": "2022-09-13T12:25:46.110Z"
   },
   {
    "duration": 7,
    "start_time": "2022-09-13T12:26:16.902Z"
   },
   {
    "duration": 9,
    "start_time": "2022-09-13T12:27:15.114Z"
   },
   {
    "duration": 4,
    "start_time": "2022-09-13T12:27:43.149Z"
   },
   {
    "duration": 8,
    "start_time": "2022-09-13T12:27:49.310Z"
   },
   {
    "duration": 63,
    "start_time": "2022-09-13T12:29:13.353Z"
   },
   {
    "duration": 24,
    "start_time": "2022-09-13T12:29:36.280Z"
   },
   {
    "duration": 22,
    "start_time": "2022-09-13T12:30:22.757Z"
   },
   {
    "duration": 8,
    "start_time": "2022-09-13T12:31:07.372Z"
   },
   {
    "duration": 104,
    "start_time": "2022-09-13T12:32:21.015Z"
   },
   {
    "duration": 9,
    "start_time": "2022-09-13T12:32:24.915Z"
   },
   {
    "duration": 23,
    "start_time": "2022-09-13T12:32:47.874Z"
   },
   {
    "duration": 19,
    "start_time": "2022-09-13T12:33:57.305Z"
   },
   {
    "duration": 16,
    "start_time": "2022-09-13T12:34:11.665Z"
   },
   {
    "duration": 424,
    "start_time": "2022-09-13T12:55:22.055Z"
   },
   {
    "duration": 20,
    "start_time": "2022-09-13T12:55:22.481Z"
   },
   {
    "duration": 15,
    "start_time": "2022-09-13T12:55:22.502Z"
   },
   {
    "duration": 9,
    "start_time": "2022-09-13T12:55:22.519Z"
   },
   {
    "duration": 34,
    "start_time": "2022-09-13T12:55:22.531Z"
   },
   {
    "duration": 4,
    "start_time": "2022-09-13T12:55:22.566Z"
   },
   {
    "duration": 21,
    "start_time": "2022-09-13T12:55:22.571Z"
   },
   {
    "duration": 15,
    "start_time": "2022-09-13T12:55:22.594Z"
   },
   {
    "duration": 9,
    "start_time": "2022-09-13T12:55:22.611Z"
   },
   {
    "duration": 5,
    "start_time": "2022-09-13T12:55:22.622Z"
   },
   {
    "duration": 39,
    "start_time": "2022-09-13T12:55:22.628Z"
   },
   {
    "duration": 10,
    "start_time": "2022-09-13T12:55:22.669Z"
   },
   {
    "duration": 4,
    "start_time": "2022-09-13T12:55:22.680Z"
   },
   {
    "duration": 27,
    "start_time": "2022-09-13T12:55:22.687Z"
   },
   {
    "duration": 19,
    "start_time": "2022-09-13T12:55:22.716Z"
   },
   {
    "duration": 15,
    "start_time": "2022-09-13T12:55:22.737Z"
   },
   {
    "duration": 4,
    "start_time": "2022-09-13T12:55:22.754Z"
   },
   {
    "duration": 13,
    "start_time": "2022-09-13T12:55:22.759Z"
   },
   {
    "duration": 16,
    "start_time": "2022-09-13T12:55:22.774Z"
   },
   {
    "duration": 16,
    "start_time": "2022-09-13T12:55:22.792Z"
   },
   {
    "duration": 13,
    "start_time": "2022-09-13T12:55:22.810Z"
   },
   {
    "duration": 27,
    "start_time": "2022-09-13T12:55:22.824Z"
   },
   {
    "duration": 793,
    "start_time": "2022-09-13T12:55:22.853Z"
   },
   {
    "duration": 29,
    "start_time": "2022-09-13T12:55:23.647Z"
   },
   {
    "duration": 143,
    "start_time": "2022-09-13T12:55:23.677Z"
   },
   {
    "duration": 23,
    "start_time": "2022-09-13T12:55:23.822Z"
   },
   {
    "duration": 128,
    "start_time": "2022-09-13T12:55:23.847Z"
   },
   {
    "duration": 33,
    "start_time": "2022-09-13T12:55:23.977Z"
   },
   {
    "duration": 127,
    "start_time": "2022-09-13T12:55:24.011Z"
   },
   {
    "duration": 9,
    "start_time": "2022-09-13T12:57:05.358Z"
   },
   {
    "duration": 8,
    "start_time": "2022-09-13T12:58:15.070Z"
   },
   {
    "duration": 7,
    "start_time": "2022-09-13T12:58:58.398Z"
   },
   {
    "duration": 6,
    "start_time": "2022-09-13T12:59:18.803Z"
   },
   {
    "duration": 8,
    "start_time": "2022-09-13T12:59:40.760Z"
   },
   {
    "duration": 9,
    "start_time": "2022-09-13T13:00:08.911Z"
   },
   {
    "duration": 116,
    "start_time": "2022-09-13T13:00:25.350Z"
   },
   {
    "duration": 32,
    "start_time": "2022-09-13T13:00:39.113Z"
   },
   {
    "duration": 5,
    "start_time": "2022-09-13T13:01:17.686Z"
   },
   {
    "duration": 5,
    "start_time": "2022-09-13T13:01:28.468Z"
   },
   {
    "duration": 11,
    "start_time": "2022-09-13T13:01:42.321Z"
   },
   {
    "duration": 14,
    "start_time": "2022-09-13T13:02:00.355Z"
   },
   {
    "duration": 488,
    "start_time": "2022-09-13T13:02:23.133Z"
   },
   {
    "duration": 29,
    "start_time": "2022-09-13T13:02:23.623Z"
   },
   {
    "duration": 13,
    "start_time": "2022-09-13T13:02:23.654Z"
   },
   {
    "duration": 27,
    "start_time": "2022-09-13T13:02:23.669Z"
   },
   {
    "duration": 19,
    "start_time": "2022-09-13T13:02:23.697Z"
   },
   {
    "duration": 42,
    "start_time": "2022-09-13T13:02:23.718Z"
   },
   {
    "duration": 4,
    "start_time": "2022-09-13T13:02:23.761Z"
   },
   {
    "duration": 17,
    "start_time": "2022-09-13T13:02:23.767Z"
   },
   {
    "duration": 9,
    "start_time": "2022-09-13T13:02:23.786Z"
   },
   {
    "duration": 9,
    "start_time": "2022-09-13T13:02:23.810Z"
   },
   {
    "duration": 15,
    "start_time": "2022-09-13T13:02:23.821Z"
   },
   {
    "duration": 46,
    "start_time": "2022-09-13T13:02:23.838Z"
   },
   {
    "duration": 10,
    "start_time": "2022-09-13T13:02:23.886Z"
   },
   {
    "duration": 11,
    "start_time": "2022-09-13T13:02:23.898Z"
   },
   {
    "duration": 17,
    "start_time": "2022-09-13T13:02:23.911Z"
   },
   {
    "duration": 19,
    "start_time": "2022-09-13T13:02:23.930Z"
   },
   {
    "duration": 22,
    "start_time": "2022-09-13T13:02:23.950Z"
   },
   {
    "duration": 4,
    "start_time": "2022-09-13T13:02:23.974Z"
   },
   {
    "duration": 34,
    "start_time": "2022-09-13T13:02:23.980Z"
   },
   {
    "duration": 9,
    "start_time": "2022-09-13T13:02:24.016Z"
   },
   {
    "duration": 8,
    "start_time": "2022-09-13T13:02:24.027Z"
   },
   {
    "duration": 30,
    "start_time": "2022-09-13T13:02:24.037Z"
   },
   {
    "duration": 43,
    "start_time": "2022-09-13T13:02:24.069Z"
   },
   {
    "duration": 911,
    "start_time": "2022-09-13T13:02:24.113Z"
   },
   {
    "duration": 30,
    "start_time": "2022-09-13T13:02:25.026Z"
   },
   {
    "duration": 160,
    "start_time": "2022-09-13T13:02:25.057Z"
   },
   {
    "duration": 34,
    "start_time": "2022-09-13T13:02:25.218Z"
   },
   {
    "duration": 156,
    "start_time": "2022-09-13T13:02:25.255Z"
   },
   {
    "duration": 34,
    "start_time": "2022-09-13T13:02:25.413Z"
   },
   {
    "duration": 160,
    "start_time": "2022-09-13T13:02:25.449Z"
   },
   {
    "duration": 8,
    "start_time": "2022-09-13T13:04:03.862Z"
   },
   {
    "duration": 12,
    "start_time": "2022-09-13T13:04:11.955Z"
   },
   {
    "duration": 11,
    "start_time": "2022-09-13T13:04:29.653Z"
   },
   {
    "duration": 485,
    "start_time": "2022-09-13T13:04:38.899Z"
   },
   {
    "duration": 30,
    "start_time": "2022-09-13T13:04:39.386Z"
   },
   {
    "duration": 9,
    "start_time": "2022-09-13T13:04:39.418Z"
   },
   {
    "duration": 19,
    "start_time": "2022-09-13T13:04:39.428Z"
   },
   {
    "duration": 9,
    "start_time": "2022-09-13T13:04:39.450Z"
   },
   {
    "duration": 65,
    "start_time": "2022-09-13T13:04:39.461Z"
   },
   {
    "duration": 3,
    "start_time": "2022-09-13T13:04:39.527Z"
   },
   {
    "duration": 11,
    "start_time": "2022-09-13T13:04:39.532Z"
   },
   {
    "duration": 9,
    "start_time": "2022-09-13T13:04:39.545Z"
   },
   {
    "duration": 9,
    "start_time": "2022-09-13T13:04:39.555Z"
   },
   {
    "duration": 4,
    "start_time": "2022-09-13T13:04:39.565Z"
   },
   {
    "duration": 52,
    "start_time": "2022-09-13T13:04:39.570Z"
   },
   {
    "duration": 9,
    "start_time": "2022-09-13T13:04:39.624Z"
   },
   {
    "duration": 7,
    "start_time": "2022-09-13T13:04:39.635Z"
   },
   {
    "duration": 12,
    "start_time": "2022-09-13T13:04:39.644Z"
   },
   {
    "duration": 19,
    "start_time": "2022-09-13T13:04:39.657Z"
   },
   {
    "duration": 39,
    "start_time": "2022-09-13T13:04:39.678Z"
   },
   {
    "duration": 4,
    "start_time": "2022-09-13T13:04:39.719Z"
   },
   {
    "duration": 15,
    "start_time": "2022-09-13T13:04:39.725Z"
   },
   {
    "duration": 11,
    "start_time": "2022-09-13T13:04:39.741Z"
   },
   {
    "duration": 5,
    "start_time": "2022-09-13T13:04:39.754Z"
   },
   {
    "duration": 14,
    "start_time": "2022-09-13T13:04:39.760Z"
   },
   {
    "duration": 49,
    "start_time": "2022-09-13T13:04:39.776Z"
   },
   {
    "duration": 1013,
    "start_time": "2022-09-13T13:04:39.827Z"
   },
   {
    "duration": 28,
    "start_time": "2022-09-13T13:04:40.841Z"
   },
   {
    "duration": 151,
    "start_time": "2022-09-13T13:04:40.871Z"
   },
   {
    "duration": 26,
    "start_time": "2022-09-13T13:04:41.024Z"
   },
   {
    "duration": 140,
    "start_time": "2022-09-13T13:04:41.052Z"
   },
   {
    "duration": 35,
    "start_time": "2022-09-13T13:04:41.194Z"
   },
   {
    "duration": 161,
    "start_time": "2022-09-13T13:04:41.230Z"
   },
   {
    "duration": 51,
    "start_time": "2022-09-13T13:31:32.473Z"
   },
   {
    "duration": 698,
    "start_time": "2022-09-14T12:03:19.263Z"
   },
   {
    "duration": 22,
    "start_time": "2022-09-14T12:03:19.963Z"
   },
   {
    "duration": 9,
    "start_time": "2022-09-14T12:03:19.986Z"
   },
   {
    "duration": 16,
    "start_time": "2022-09-14T12:03:19.997Z"
   },
   {
    "duration": 16,
    "start_time": "2022-09-14T12:03:20.014Z"
   },
   {
    "duration": 71,
    "start_time": "2022-09-14T12:03:20.031Z"
   },
   {
    "duration": 3,
    "start_time": "2022-09-14T12:03:20.104Z"
   },
   {
    "duration": 31,
    "start_time": "2022-09-14T12:03:20.109Z"
   },
   {
    "duration": 19,
    "start_time": "2022-09-14T12:03:20.141Z"
   },
   {
    "duration": 15,
    "start_time": "2022-09-14T12:03:20.163Z"
   },
   {
    "duration": 9,
    "start_time": "2022-09-14T12:03:20.179Z"
   },
   {
    "duration": 35,
    "start_time": "2022-09-14T12:03:20.190Z"
   },
   {
    "duration": 9,
    "start_time": "2022-09-14T12:03:20.226Z"
   },
   {
    "duration": 13,
    "start_time": "2022-09-14T12:03:20.236Z"
   },
   {
    "duration": 22,
    "start_time": "2022-09-14T12:03:20.250Z"
   },
   {
    "duration": 25,
    "start_time": "2022-09-14T12:03:20.274Z"
   },
   {
    "duration": 14,
    "start_time": "2022-09-14T12:03:20.301Z"
   },
   {
    "duration": 3,
    "start_time": "2022-09-14T12:03:20.317Z"
   },
   {
    "duration": 21,
    "start_time": "2022-09-14T12:03:20.321Z"
   },
   {
    "duration": 23,
    "start_time": "2022-09-14T12:03:20.343Z"
   },
   {
    "duration": 6,
    "start_time": "2022-09-14T12:03:20.368Z"
   },
   {
    "duration": 14,
    "start_time": "2022-09-14T12:03:20.375Z"
   },
   {
    "duration": 34,
    "start_time": "2022-09-14T12:03:20.391Z"
   },
   {
    "duration": 1043,
    "start_time": "2022-09-14T12:03:20.427Z"
   },
   {
    "duration": 29,
    "start_time": "2022-09-14T12:03:21.471Z"
   },
   {
    "duration": 161,
    "start_time": "2022-09-14T12:03:21.502Z"
   },
   {
    "duration": 25,
    "start_time": "2022-09-14T12:03:21.664Z"
   },
   {
    "duration": 147,
    "start_time": "2022-09-14T12:03:21.692Z"
   },
   {
    "duration": 27,
    "start_time": "2022-09-14T12:03:21.841Z"
   },
   {
    "duration": 148,
    "start_time": "2022-09-14T12:03:21.870Z"
   },
   {
    "duration": 76,
    "start_time": "2022-09-14T12:08:54.735Z"
   },
   {
    "duration": 155,
    "start_time": "2022-09-14T12:09:05.115Z"
   },
   {
    "duration": 54,
    "start_time": "2022-09-14T12:09:13.650Z"
   },
   {
    "duration": 54,
    "start_time": "2022-09-14T12:09:34.797Z"
   },
   {
    "duration": 95,
    "start_time": "2022-09-14T12:10:48.891Z"
   },
   {
    "duration": 135,
    "start_time": "2022-09-14T12:10:53.566Z"
   },
   {
    "duration": 94,
    "start_time": "2022-09-14T12:18:43.915Z"
   },
   {
    "duration": 4,
    "start_time": "2022-09-14T12:18:57.270Z"
   },
   {
    "duration": 86,
    "start_time": "2022-09-14T12:30:44.260Z"
   },
   {
    "duration": 84,
    "start_time": "2022-09-14T12:30:54.303Z"
   },
   {
    "duration": 98,
    "start_time": "2022-09-14T12:31:15.283Z"
   },
   {
    "duration": 29,
    "start_time": "2022-09-14T12:33:53.745Z"
   },
   {
    "duration": 25,
    "start_time": "2022-09-14T12:34:53.437Z"
   },
   {
    "duration": 24,
    "start_time": "2022-09-14T12:35:38.347Z"
   },
   {
    "duration": 22,
    "start_time": "2022-09-14T12:36:06.164Z"
   },
   {
    "duration": 139,
    "start_time": "2022-09-14T12:37:16.131Z"
   },
   {
    "duration": 32,
    "start_time": "2022-09-14T12:37:57.678Z"
   },
   {
    "duration": 24,
    "start_time": "2022-09-14T12:39:18.636Z"
   },
   {
    "duration": 132,
    "start_time": "2022-09-14T12:39:25.475Z"
   },
   {
    "duration": 48,
    "start_time": "2022-09-14T12:43:06.015Z"
   },
   {
    "duration": 52,
    "start_time": "2022-09-14T12:58:56.729Z"
   },
   {
    "duration": 120,
    "start_time": "2022-09-14T13:02:56.728Z"
   },
   {
    "duration": 196,
    "start_time": "2022-09-14T13:03:12.077Z"
   },
   {
    "duration": 110,
    "start_time": "2022-09-14T13:04:42.399Z"
   },
   {
    "duration": 116,
    "start_time": "2022-09-14T13:04:45.150Z"
   },
   {
    "duration": 123,
    "start_time": "2022-09-14T13:05:15.732Z"
   },
   {
    "duration": 95,
    "start_time": "2022-09-14T13:05:20.501Z"
   },
   {
    "duration": 120,
    "start_time": "2022-09-14T13:05:26.383Z"
   },
   {
    "duration": 121,
    "start_time": "2022-09-14T13:05:36.262Z"
   },
   {
    "duration": 117,
    "start_time": "2022-09-14T13:05:43.220Z"
   },
   {
    "duration": 94,
    "start_time": "2022-09-14T13:06:40.855Z"
   },
   {
    "duration": 143,
    "start_time": "2022-09-14T13:06:47.074Z"
   },
   {
    "duration": 113,
    "start_time": "2022-09-14T13:06:50.226Z"
   },
   {
    "duration": 139,
    "start_time": "2022-09-14T13:27:54.143Z"
   },
   {
    "duration": 90,
    "start_time": "2022-09-14T13:30:38.645Z"
   },
   {
    "duration": 463,
    "start_time": "2022-09-14T13:52:38.438Z"
   },
   {
    "duration": 21,
    "start_time": "2022-09-14T13:52:38.903Z"
   },
   {
    "duration": 9,
    "start_time": "2022-09-14T13:52:38.925Z"
   },
   {
    "duration": 14,
    "start_time": "2022-09-14T13:52:38.936Z"
   },
   {
    "duration": 9,
    "start_time": "2022-09-14T13:52:38.951Z"
   },
   {
    "duration": 31,
    "start_time": "2022-09-14T13:52:38.962Z"
   },
   {
    "duration": 3,
    "start_time": "2022-09-14T13:52:38.995Z"
   },
   {
    "duration": 9,
    "start_time": "2022-09-14T13:52:39.000Z"
   },
   {
    "duration": 28,
    "start_time": "2022-09-14T13:52:39.011Z"
   },
   {
    "duration": 7,
    "start_time": "2022-09-14T13:52:39.043Z"
   },
   {
    "duration": 4,
    "start_time": "2022-09-14T13:52:39.051Z"
   },
   {
    "duration": 34,
    "start_time": "2022-09-14T13:52:39.056Z"
   },
   {
    "duration": 9,
    "start_time": "2022-09-14T13:52:39.091Z"
   },
   {
    "duration": 3,
    "start_time": "2022-09-14T13:52:39.101Z"
   },
   {
    "duration": 12,
    "start_time": "2022-09-14T13:52:39.136Z"
   },
   {
    "duration": 27,
    "start_time": "2022-09-14T13:52:39.150Z"
   },
   {
    "duration": 15,
    "start_time": "2022-09-14T13:52:39.179Z"
   },
   {
    "duration": 4,
    "start_time": "2022-09-14T13:52:39.196Z"
   },
   {
    "duration": 14,
    "start_time": "2022-09-14T13:52:39.201Z"
   },
   {
    "duration": 21,
    "start_time": "2022-09-14T13:52:39.216Z"
   },
   {
    "duration": 3,
    "start_time": "2022-09-14T13:52:39.239Z"
   },
   {
    "duration": 10,
    "start_time": "2022-09-14T13:52:39.243Z"
   },
   {
    "duration": 24,
    "start_time": "2022-09-14T13:52:39.254Z"
   },
   {
    "duration": 882,
    "start_time": "2022-09-14T13:52:39.279Z"
   },
   {
    "duration": 27,
    "start_time": "2022-09-14T13:52:40.163Z"
   },
   {
    "duration": 147,
    "start_time": "2022-09-14T13:52:40.191Z"
   },
   {
    "duration": 24,
    "start_time": "2022-09-14T13:52:40.340Z"
   },
   {
    "duration": 128,
    "start_time": "2022-09-14T13:52:40.368Z"
   },
   {
    "duration": 28,
    "start_time": "2022-09-14T13:52:40.497Z"
   },
   {
    "duration": 139,
    "start_time": "2022-09-14T13:52:40.527Z"
   }
  ],
  "colab": {
   "name": "dpp_template_part2.ipynb",
   "provenance": []
  },
  "kernelspec": {
   "display_name": "Python 3 (ipykernel)",
   "language": "python",
   "name": "python3"
  },
  "language_info": {
   "codemirror_mode": {
    "name": "ipython",
    "version": 3
   },
   "file_extension": ".py",
   "mimetype": "text/x-python",
   "name": "python",
   "nbconvert_exporter": "python",
   "pygments_lexer": "ipython3",
   "version": "3.9.12"
  },
  "toc": {
   "base_numbering": 1,
   "nav_menu": {},
   "number_sections": true,
   "sideBar": true,
   "skip_h1_title": true,
   "title_cell": "Table of Contents",
   "title_sidebar": "Contents",
   "toc_cell": false,
   "toc_position": {},
   "toc_section_display": true,
   "toc_window_display": true
  }
 },
 "nbformat": 4,
 "nbformat_minor": 5
}
