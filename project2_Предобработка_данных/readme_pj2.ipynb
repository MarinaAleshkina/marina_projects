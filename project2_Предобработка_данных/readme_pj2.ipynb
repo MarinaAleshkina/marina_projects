{
 "cells": [
  {
   "cell_type": "markdown",
   "id": "26f20c38",
   "metadata": {},
   "source": [
    "###  Данные\n",
    "\n",
    "В наличии были следующие данные от кредитного отдела банка, содержащие статистику платежеспособности клиентов\n",
    "\n",
    "### Задача\n",
    "Нужно проверить гипотезы о том, что количество детей, семейное положение, уровень дохода и цель кредита влияют на факт погашения задолженности в срок.\n",
    "\n",
    "Результаты исследования будут учтены при построении модели кредитного скоринга — специальной системы, которая оценивает способность потенциального заёмщика вернуть кредит банку.\n",
    "\n",
    "### Используемые библиотеки\n",
    "pandas, seaborn"
   ]
  }
 ],
 "metadata": {
  "kernelspec": {
   "display_name": "Python 3 (ipykernel)",
   "language": "python",
   "name": "python3"
  },
  "language_info": {
   "codemirror_mode": {
    "name": "ipython",
    "version": 3
   },
   "file_extension": ".py",
   "mimetype": "text/x-python",
   "name": "python",
   "nbconvert_exporter": "python",
   "pygments_lexer": "ipython3",
   "version": "3.9.12"
  }
 },
 "nbformat": 4,
 "nbformat_minor": 5
}
