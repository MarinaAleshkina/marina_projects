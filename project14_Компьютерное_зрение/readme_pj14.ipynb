{
 "cells": [
  {
   "cell_type": "markdown",
   "id": "26f20c38",
   "metadata": {},
   "source": [
    "###  Данные\n",
    "Сетевой супермаркет «Хлеб-Соль» внедряет систему компьютерного зрения для обработки фотографий покупателей. Фотофиксация в прикассовой зоне поможет определять возраст клиентов, чтобы:\n",
    "  - Анализировать покупки и предлагать товары, которые могут заинтересовать покупателей этой возрастной группы;\n",
    "  - Контролировать добросовестность кассиров при продаже алкоголя.\n",
    "\n",
    " В распоряжении набор фотографий людей с указанием возраста. Количество фотографий в датасете 7591.\n",
    "\n",
    "\n",
    "\n",
    "### Задача\n",
    "Необходимо построить модель, которая по фотографии определит приблизительный возраст человека. \n",
    "\n",
    "\n",
    "### Используемые библиотеки\n",
    "pandas, tensorflow, PIL, matplotlib"
   ]
  },
  {
   "cell_type": "code",
   "execution_count": null,
   "id": "00d95e62",
   "metadata": {},
   "outputs": [],
   "source": []
  }
 ],
 "metadata": {
  "kernelspec": {
   "display_name": "Python 3 (ipykernel)",
   "language": "python",
   "name": "python3"
  },
  "language_info": {
   "codemirror_mode": {
    "name": "ipython",
    "version": 3
   },
   "file_extension": ".py",
   "mimetype": "text/x-python",
   "name": "python",
   "nbconvert_exporter": "python",
   "pygments_lexer": "ipython3",
   "version": "3.9.12"
  }
 },
 "nbformat": 4,
 "nbformat_minor": 5
}
