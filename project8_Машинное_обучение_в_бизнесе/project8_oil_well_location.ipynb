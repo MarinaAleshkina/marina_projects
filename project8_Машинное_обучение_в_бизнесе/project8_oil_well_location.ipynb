{
 "cells": [
  {
   "cell_type": "markdown",
   "metadata": {},
   "source": [
    "# Выбор локации для скважины"
   ]
  },
  {
   "cell_type": "markdown",
   "metadata": {},
   "source": [
    "Допустим, вы работаете в добывающей компании «ГлавРосГосНефть». Нужно решить, где бурить новую скважину.\n",
    "\n",
    "Вам предоставлены пробы нефти в трёх регионах: в каждом 10 000 месторождений, где измерили качество нефти и объём её запасов. Постройте модель машинного обучения, которая поможет определить регион, где добыча принесёт наибольшую прибыль. Проанализируйте возможную прибыль и риски техникой *Bootstrap.*\n",
    "\n",
    "Шаги для выбора локации:\n",
    "\n",
    "- В избранном регионе ищут месторождения, для каждого определяют значения признаков;\n",
    "- Строят модель и оценивают объём запасов;\n",
    "- Выбирают месторождения с самым высокими оценками значений. Количество месторождений зависит от бюджета компании и стоимости разработки одной скважины;\n",
    "- Прибыль равна суммарной прибыли отобранных месторождений."
   ]
  },
  {
   "cell_type": "markdown",
   "metadata": {},
   "source": [
    "## Загрузка и подготовка данных"
   ]
  },
  {
   "cell_type": "code",
   "execution_count": 1,
   "metadata": {},
   "outputs": [],
   "source": [
    "import pandas as pd\n",
    "import matplotlib.pyplot as plt\n",
    "import numpy as np\n",
    "from sklearn.model_selection import train_test_split\n",
    "from sklearn.preprocessing import StandardScaler, MinMaxScaler\n",
    "from sklearn.linear_model import LinearRegression\n",
    "from sklearn.metrics import mean_squared_error\n",
    "import warnings\n",
    "warnings.filterwarnings('ignore')"
   ]
  },
  {
   "cell_type": "markdown",
   "metadata": {},
   "source": [
    "Загрузим данные по каждому региону."
   ]
  },
  {
   "cell_type": "code",
   "execution_count": 2,
   "metadata": {},
   "outputs": [],
   "source": [
    "data_geo_0 = pd.read_csv('https://code.s3.yandex.net/datasets/geo_data_0.csv')\n",
    "data_geo_1 = pd.read_csv('https://code.s3.yandex.net/datasets/geo_data_1.csv')\n",
    "data_geo_2 = pd.read_csv('https://code.s3.yandex.net/datasets/geo_data_2.csv')"
   ]
  },
  {
   "cell_type": "markdown",
   "metadata": {},
   "source": [
    "Посмотрим на основные данные по каждому региону: количество скважин, набор признаков их отличающих, типы данных."
   ]
  },
  {
   "cell_type": "code",
   "execution_count": 3,
   "metadata": {},
   "outputs": [
    {
     "data": {
      "text/html": [
       "<div>\n",
       "<style scoped>\n",
       "    .dataframe tbody tr th:only-of-type {\n",
       "        vertical-align: middle;\n",
       "    }\n",
       "\n",
       "    .dataframe tbody tr th {\n",
       "        vertical-align: top;\n",
       "    }\n",
       "\n",
       "    .dataframe thead th {\n",
       "        text-align: right;\n",
       "    }\n",
       "</style>\n",
       "<table border=\"1\" class=\"dataframe\">\n",
       "  <thead>\n",
       "    <tr style=\"text-align: right;\">\n",
       "      <th></th>\n",
       "      <th>id</th>\n",
       "      <th>f0</th>\n",
       "      <th>f1</th>\n",
       "      <th>f2</th>\n",
       "      <th>product</th>\n",
       "    </tr>\n",
       "  </thead>\n",
       "  <tbody>\n",
       "    <tr>\n",
       "      <th>0</th>\n",
       "      <td>txEyH</td>\n",
       "      <td>0.705745</td>\n",
       "      <td>-0.497823</td>\n",
       "      <td>1.221170</td>\n",
       "      <td>105.280062</td>\n",
       "    </tr>\n",
       "    <tr>\n",
       "      <th>1</th>\n",
       "      <td>2acmU</td>\n",
       "      <td>1.334711</td>\n",
       "      <td>-0.340164</td>\n",
       "      <td>4.365080</td>\n",
       "      <td>73.037750</td>\n",
       "    </tr>\n",
       "    <tr>\n",
       "      <th>2</th>\n",
       "      <td>409Wp</td>\n",
       "      <td>1.022732</td>\n",
       "      <td>0.151990</td>\n",
       "      <td>1.419926</td>\n",
       "      <td>85.265647</td>\n",
       "    </tr>\n",
       "    <tr>\n",
       "      <th>3</th>\n",
       "      <td>iJLyR</td>\n",
       "      <td>-0.032172</td>\n",
       "      <td>0.139033</td>\n",
       "      <td>2.978566</td>\n",
       "      <td>168.620776</td>\n",
       "    </tr>\n",
       "    <tr>\n",
       "      <th>4</th>\n",
       "      <td>Xdl7t</td>\n",
       "      <td>1.988431</td>\n",
       "      <td>0.155413</td>\n",
       "      <td>4.751769</td>\n",
       "      <td>154.036647</td>\n",
       "    </tr>\n",
       "  </tbody>\n",
       "</table>\n",
       "</div>"
      ],
      "text/plain": [
       "      id        f0        f1        f2     product\n",
       "0  txEyH  0.705745 -0.497823  1.221170  105.280062\n",
       "1  2acmU  1.334711 -0.340164  4.365080   73.037750\n",
       "2  409Wp  1.022732  0.151990  1.419926   85.265647\n",
       "3  iJLyR -0.032172  0.139033  2.978566  168.620776\n",
       "4  Xdl7t  1.988431  0.155413  4.751769  154.036647"
      ]
     },
     "execution_count": 3,
     "metadata": {},
     "output_type": "execute_result"
    }
   ],
   "source": [
    " data_geo_0.head()"
   ]
  },
  {
   "cell_type": "code",
   "execution_count": 4,
   "metadata": {},
   "outputs": [
    {
     "name": "stdout",
     "output_type": "stream",
     "text": [
      "<class 'pandas.core.frame.DataFrame'>\n",
      "RangeIndex: 100000 entries, 0 to 99999\n",
      "Data columns (total 5 columns):\n",
      " #   Column   Non-Null Count   Dtype  \n",
      "---  ------   --------------   -----  \n",
      " 0   id       100000 non-null  object \n",
      " 1   f0       100000 non-null  float64\n",
      " 2   f1       100000 non-null  float64\n",
      " 3   f2       100000 non-null  float64\n",
      " 4   product  100000 non-null  float64\n",
      "dtypes: float64(4), object(1)\n",
      "memory usage: 3.8+ MB\n"
     ]
    }
   ],
   "source": [
    "data_geo_0.info()"
   ]
  },
  {
   "cell_type": "markdown",
   "metadata": {},
   "source": [
    "Посмотрим на описательную статистику датасета."
   ]
  },
  {
   "cell_type": "code",
   "execution_count": 5,
   "metadata": {},
   "outputs": [
    {
     "data": {
      "text/html": [
       "<div>\n",
       "<style scoped>\n",
       "    .dataframe tbody tr th:only-of-type {\n",
       "        vertical-align: middle;\n",
       "    }\n",
       "\n",
       "    .dataframe tbody tr th {\n",
       "        vertical-align: top;\n",
       "    }\n",
       "\n",
       "    .dataframe thead th {\n",
       "        text-align: right;\n",
       "    }\n",
       "</style>\n",
       "<table border=\"1\" class=\"dataframe\">\n",
       "  <thead>\n",
       "    <tr style=\"text-align: right;\">\n",
       "      <th></th>\n",
       "      <th>f0</th>\n",
       "      <th>f1</th>\n",
       "      <th>f2</th>\n",
       "      <th>product</th>\n",
       "    </tr>\n",
       "  </thead>\n",
       "  <tbody>\n",
       "    <tr>\n",
       "      <th>count</th>\n",
       "      <td>100000.000000</td>\n",
       "      <td>100000.000000</td>\n",
       "      <td>100000.000000</td>\n",
       "      <td>100000.000000</td>\n",
       "    </tr>\n",
       "    <tr>\n",
       "      <th>mean</th>\n",
       "      <td>0.500419</td>\n",
       "      <td>0.250143</td>\n",
       "      <td>2.502647</td>\n",
       "      <td>92.500000</td>\n",
       "    </tr>\n",
       "    <tr>\n",
       "      <th>std</th>\n",
       "      <td>0.871832</td>\n",
       "      <td>0.504433</td>\n",
       "      <td>3.248248</td>\n",
       "      <td>44.288691</td>\n",
       "    </tr>\n",
       "    <tr>\n",
       "      <th>min</th>\n",
       "      <td>-1.408605</td>\n",
       "      <td>-0.848218</td>\n",
       "      <td>-12.088328</td>\n",
       "      <td>0.000000</td>\n",
       "    </tr>\n",
       "    <tr>\n",
       "      <th>25%</th>\n",
       "      <td>-0.072580</td>\n",
       "      <td>-0.200881</td>\n",
       "      <td>0.287748</td>\n",
       "      <td>56.497507</td>\n",
       "    </tr>\n",
       "    <tr>\n",
       "      <th>50%</th>\n",
       "      <td>0.502360</td>\n",
       "      <td>0.250252</td>\n",
       "      <td>2.515969</td>\n",
       "      <td>91.849972</td>\n",
       "    </tr>\n",
       "    <tr>\n",
       "      <th>75%</th>\n",
       "      <td>1.073581</td>\n",
       "      <td>0.700646</td>\n",
       "      <td>4.715088</td>\n",
       "      <td>128.564089</td>\n",
       "    </tr>\n",
       "    <tr>\n",
       "      <th>max</th>\n",
       "      <td>2.362331</td>\n",
       "      <td>1.343769</td>\n",
       "      <td>16.003790</td>\n",
       "      <td>185.364347</td>\n",
       "    </tr>\n",
       "  </tbody>\n",
       "</table>\n",
       "</div>"
      ],
      "text/plain": [
       "                  f0             f1             f2        product\n",
       "count  100000.000000  100000.000000  100000.000000  100000.000000\n",
       "mean        0.500419       0.250143       2.502647      92.500000\n",
       "std         0.871832       0.504433       3.248248      44.288691\n",
       "min        -1.408605      -0.848218     -12.088328       0.000000\n",
       "25%        -0.072580      -0.200881       0.287748      56.497507\n",
       "50%         0.502360       0.250252       2.515969      91.849972\n",
       "75%         1.073581       0.700646       4.715088     128.564089\n",
       "max         2.362331       1.343769      16.003790     185.364347"
      ]
     },
     "execution_count": 5,
     "metadata": {},
     "output_type": "execute_result"
    }
   ],
   "source": [
    "data_geo_0.describe()"
   ]
  },
  {
   "cell_type": "markdown",
   "metadata": {},
   "source": [
    "Проверим наличие явных дубликатов (вместе с идентификатором скважины)."
   ]
  },
  {
   "cell_type": "code",
   "execution_count": 6,
   "metadata": {},
   "outputs": [
    {
     "data": {
      "text/plain": [
       "0"
      ]
     },
     "execution_count": 6,
     "metadata": {},
     "output_type": "execute_result"
    }
   ],
   "source": [
    "data_geo_0.duplicated().sum()"
   ]
  },
  {
   "cell_type": "markdown",
   "metadata": {},
   "source": [
    "Проверим наличие пропусков."
   ]
  },
  {
   "cell_type": "code",
   "execution_count": 7,
   "metadata": {},
   "outputs": [
    {
     "data": {
      "text/plain": [
       "id         0\n",
       "f0         0\n",
       "f1         0\n",
       "f2         0\n",
       "product    0\n",
       "dtype: int64"
      ]
     },
     "execution_count": 7,
     "metadata": {},
     "output_type": "execute_result"
    }
   ],
   "source": [
    "data_geo_0.isna().sum()"
   ]
  },
  {
   "cell_type": "markdown",
   "metadata": {},
   "source": [
    "Удалим столбец с id скважины, так как данная информация не является значимой для будущей модели."
   ]
  },
  {
   "cell_type": "code",
   "execution_count": 8,
   "metadata": {},
   "outputs": [],
   "source": [
    "data_geo_0 = data_geo_0.drop(['id'], axis=1)"
   ]
  },
  {
   "cell_type": "markdown",
   "metadata": {},
   "source": [
    "Проверим корреляцию признаков, чтобы избежать проблемы мультиколлинеарности."
   ]
  },
  {
   "cell_type": "code",
   "execution_count": 9,
   "metadata": {},
   "outputs": [
    {
     "data": {
      "text/html": [
       "<div>\n",
       "<style scoped>\n",
       "    .dataframe tbody tr th:only-of-type {\n",
       "        vertical-align: middle;\n",
       "    }\n",
       "\n",
       "    .dataframe tbody tr th {\n",
       "        vertical-align: top;\n",
       "    }\n",
       "\n",
       "    .dataframe thead th {\n",
       "        text-align: right;\n",
       "    }\n",
       "</style>\n",
       "<table border=\"1\" class=\"dataframe\">\n",
       "  <thead>\n",
       "    <tr style=\"text-align: right;\">\n",
       "      <th></th>\n",
       "      <th>f0</th>\n",
       "      <th>f1</th>\n",
       "      <th>f2</th>\n",
       "      <th>product</th>\n",
       "    </tr>\n",
       "  </thead>\n",
       "  <tbody>\n",
       "    <tr>\n",
       "      <th>f0</th>\n",
       "      <td>1.000000</td>\n",
       "      <td>-0.440723</td>\n",
       "      <td>-0.003153</td>\n",
       "      <td>0.143536</td>\n",
       "    </tr>\n",
       "    <tr>\n",
       "      <th>f1</th>\n",
       "      <td>-0.440723</td>\n",
       "      <td>1.000000</td>\n",
       "      <td>0.001724</td>\n",
       "      <td>-0.192356</td>\n",
       "    </tr>\n",
       "    <tr>\n",
       "      <th>f2</th>\n",
       "      <td>-0.003153</td>\n",
       "      <td>0.001724</td>\n",
       "      <td>1.000000</td>\n",
       "      <td>0.483663</td>\n",
       "    </tr>\n",
       "    <tr>\n",
       "      <th>product</th>\n",
       "      <td>0.143536</td>\n",
       "      <td>-0.192356</td>\n",
       "      <td>0.483663</td>\n",
       "      <td>1.000000</td>\n",
       "    </tr>\n",
       "  </tbody>\n",
       "</table>\n",
       "</div>"
      ],
      "text/plain": [
       "               f0        f1        f2   product\n",
       "f0       1.000000 -0.440723 -0.003153  0.143536\n",
       "f1      -0.440723  1.000000  0.001724 -0.192356\n",
       "f2      -0.003153  0.001724  1.000000  0.483663\n",
       "product  0.143536 -0.192356  0.483663  1.000000"
      ]
     },
     "execution_count": 9,
     "metadata": {},
     "output_type": "execute_result"
    }
   ],
   "source": [
    "data_geo_0.corr()"
   ]
  },
  {
   "cell_type": "markdown",
   "metadata": {},
   "source": [
    "Построим гисторамму распределения целевого признака по региону."
   ]
  },
  {
   "cell_type": "code",
   "execution_count": 10,
   "metadata": {},
   "outputs": [
    {
     "data": {
      "image/png": "[encoded data removed]",
      "text/plain": [
       "<Figure size 720x576 with 1 Axes>"
      ]
     },
     "metadata": {
      "needs_background": "light"
     },
     "output_type": "display_data"
    }
   ],
   "source": [
    "data_geo_0['product'].hist(figsize=(10,8),bins=50)\n",
    "plt.xlabel('объём запасов нефти в скважине (тыс. баррелей)')\n",
    "plt.ylabel('Количество скважин')\n",
    "plt.title('Распредение объемов запасов сырья по первому региону')\n",
    "plt.show()"
   ]
  },
  {
   "cell_type": "markdown",
   "metadata": {},
   "source": [
    "Проделаем все шаги анализа для следующих двух регионов."
   ]
  },
  {
   "cell_type": "code",
   "execution_count": 11,
   "metadata": {},
   "outputs": [
    {
     "data": {
      "text/html": [
       "<div>\n",
       "<style scoped>\n",
       "    .dataframe tbody tr th:only-of-type {\n",
       "        vertical-align: middle;\n",
       "    }\n",
       "\n",
       "    .dataframe tbody tr th {\n",
       "        vertical-align: top;\n",
       "    }\n",
       "\n",
       "    .dataframe thead th {\n",
       "        text-align: right;\n",
       "    }\n",
       "</style>\n",
       "<table border=\"1\" class=\"dataframe\">\n",
       "  <thead>\n",
       "    <tr style=\"text-align: right;\">\n",
       "      <th></th>\n",
       "      <th>id</th>\n",
       "      <th>f0</th>\n",
       "      <th>f1</th>\n",
       "      <th>f2</th>\n",
       "      <th>product</th>\n",
       "    </tr>\n",
       "  </thead>\n",
       "  <tbody>\n",
       "    <tr>\n",
       "      <th>0</th>\n",
       "      <td>kBEdx</td>\n",
       "      <td>-15.001348</td>\n",
       "      <td>-8.276000</td>\n",
       "      <td>-0.005876</td>\n",
       "      <td>3.179103</td>\n",
       "    </tr>\n",
       "    <tr>\n",
       "      <th>1</th>\n",
       "      <td>62mP7</td>\n",
       "      <td>14.272088</td>\n",
       "      <td>-3.475083</td>\n",
       "      <td>0.999183</td>\n",
       "      <td>26.953261</td>\n",
       "    </tr>\n",
       "    <tr>\n",
       "      <th>2</th>\n",
       "      <td>vyE1P</td>\n",
       "      <td>6.263187</td>\n",
       "      <td>-5.948386</td>\n",
       "      <td>5.001160</td>\n",
       "      <td>134.766305</td>\n",
       "    </tr>\n",
       "    <tr>\n",
       "      <th>3</th>\n",
       "      <td>KcrkZ</td>\n",
       "      <td>-13.081196</td>\n",
       "      <td>-11.506057</td>\n",
       "      <td>4.999415</td>\n",
       "      <td>137.945408</td>\n",
       "    </tr>\n",
       "    <tr>\n",
       "      <th>4</th>\n",
       "      <td>AHL4O</td>\n",
       "      <td>12.702195</td>\n",
       "      <td>-8.147433</td>\n",
       "      <td>5.004363</td>\n",
       "      <td>134.766305</td>\n",
       "    </tr>\n",
       "  </tbody>\n",
       "</table>\n",
       "</div>"
      ],
      "text/plain": [
       "      id         f0         f1        f2     product\n",
       "0  kBEdx -15.001348  -8.276000 -0.005876    3.179103\n",
       "1  62mP7  14.272088  -3.475083  0.999183   26.953261\n",
       "2  vyE1P   6.263187  -5.948386  5.001160  134.766305\n",
       "3  KcrkZ -13.081196 -11.506057  4.999415  137.945408\n",
       "4  AHL4O  12.702195  -8.147433  5.004363  134.766305"
      ]
     },
     "execution_count": 11,
     "metadata": {},
     "output_type": "execute_result"
    }
   ],
   "source": [
    "data_geo_1.head()"
   ]
  },
  {
   "cell_type": "code",
   "execution_count": 12,
   "metadata": {},
   "outputs": [
    {
     "name": "stdout",
     "output_type": "stream",
     "text": [
      "<class 'pandas.core.frame.DataFrame'>\n",
      "RangeIndex: 100000 entries, 0 to 99999\n",
      "Data columns (total 5 columns):\n",
      " #   Column   Non-Null Count   Dtype  \n",
      "---  ------   --------------   -----  \n",
      " 0   id       100000 non-null  object \n",
      " 1   f0       100000 non-null  float64\n",
      " 2   f1       100000 non-null  float64\n",
      " 3   f2       100000 non-null  float64\n",
      " 4   product  100000 non-null  float64\n",
      "dtypes: float64(4), object(1)\n",
      "memory usage: 3.8+ MB\n"
     ]
    }
   ],
   "source": [
    "data_geo_1.info()"
   ]
  },
  {
   "cell_type": "code",
   "execution_count": 13,
   "metadata": {},
   "outputs": [
    {
     "data": {
      "text/html": [
       "<div>\n",
       "<style scoped>\n",
       "    .dataframe tbody tr th:only-of-type {\n",
       "        vertical-align: middle;\n",
       "    }\n",
       "\n",
       "    .dataframe tbody tr th {\n",
       "        vertical-align: top;\n",
       "    }\n",
       "\n",
       "    .dataframe thead th {\n",
       "        text-align: right;\n",
       "    }\n",
       "</style>\n",
       "<table border=\"1\" class=\"dataframe\">\n",
       "  <thead>\n",
       "    <tr style=\"text-align: right;\">\n",
       "      <th></th>\n",
       "      <th>f0</th>\n",
       "      <th>f1</th>\n",
       "      <th>f2</th>\n",
       "      <th>product</th>\n",
       "    </tr>\n",
       "  </thead>\n",
       "  <tbody>\n",
       "    <tr>\n",
       "      <th>count</th>\n",
       "      <td>100000.000000</td>\n",
       "      <td>100000.000000</td>\n",
       "      <td>100000.000000</td>\n",
       "      <td>100000.000000</td>\n",
       "    </tr>\n",
       "    <tr>\n",
       "      <th>mean</th>\n",
       "      <td>1.141296</td>\n",
       "      <td>-4.796579</td>\n",
       "      <td>2.494541</td>\n",
       "      <td>68.825000</td>\n",
       "    </tr>\n",
       "    <tr>\n",
       "      <th>std</th>\n",
       "      <td>8.965932</td>\n",
       "      <td>5.119872</td>\n",
       "      <td>1.703572</td>\n",
       "      <td>45.944423</td>\n",
       "    </tr>\n",
       "    <tr>\n",
       "      <th>min</th>\n",
       "      <td>-31.609576</td>\n",
       "      <td>-26.358598</td>\n",
       "      <td>-0.018144</td>\n",
       "      <td>0.000000</td>\n",
       "    </tr>\n",
       "    <tr>\n",
       "      <th>25%</th>\n",
       "      <td>-6.298551</td>\n",
       "      <td>-8.267985</td>\n",
       "      <td>1.000021</td>\n",
       "      <td>26.953261</td>\n",
       "    </tr>\n",
       "    <tr>\n",
       "      <th>50%</th>\n",
       "      <td>1.153055</td>\n",
       "      <td>-4.813172</td>\n",
       "      <td>2.011479</td>\n",
       "      <td>57.085625</td>\n",
       "    </tr>\n",
       "    <tr>\n",
       "      <th>75%</th>\n",
       "      <td>8.621015</td>\n",
       "      <td>-1.332816</td>\n",
       "      <td>3.999904</td>\n",
       "      <td>107.813044</td>\n",
       "    </tr>\n",
       "    <tr>\n",
       "      <th>max</th>\n",
       "      <td>29.421755</td>\n",
       "      <td>18.734063</td>\n",
       "      <td>5.019721</td>\n",
       "      <td>137.945408</td>\n",
       "    </tr>\n",
       "  </tbody>\n",
       "</table>\n",
       "</div>"
      ],
      "text/plain": [
       "                  f0             f1             f2        product\n",
       "count  100000.000000  100000.000000  100000.000000  100000.000000\n",
       "mean        1.141296      -4.796579       2.494541      68.825000\n",
       "std         8.965932       5.119872       1.703572      45.944423\n",
       "min       -31.609576     -26.358598      -0.018144       0.000000\n",
       "25%        -6.298551      -8.267985       1.000021      26.953261\n",
       "50%         1.153055      -4.813172       2.011479      57.085625\n",
       "75%         8.621015      -1.332816       3.999904     107.813044\n",
       "max        29.421755      18.734063       5.019721     137.945408"
      ]
     },
     "execution_count": 13,
     "metadata": {},
     "output_type": "execute_result"
    }
   ],
   "source": [
    "data_geo_1.describe()"
   ]
  },
  {
   "cell_type": "code",
   "execution_count": 14,
   "metadata": {},
   "outputs": [
    {
     "data": {
      "text/plain": [
       "0"
      ]
     },
     "execution_count": 14,
     "metadata": {},
     "output_type": "execute_result"
    }
   ],
   "source": [
    "data_geo_1.duplicated().sum()"
   ]
  },
  {
   "cell_type": "code",
   "execution_count": 15,
   "metadata": {},
   "outputs": [],
   "source": [
    "data_geo_1 = data_geo_1.drop(['id'], axis=1)"
   ]
  },
  {
   "cell_type": "code",
   "execution_count": 16,
   "metadata": {},
   "outputs": [
    {
     "data": {
      "text/html": [
       "<div>\n",
       "<style scoped>\n",
       "    .dataframe tbody tr th:only-of-type {\n",
       "        vertical-align: middle;\n",
       "    }\n",
       "\n",
       "    .dataframe tbody tr th {\n",
       "        vertical-align: top;\n",
       "    }\n",
       "\n",
       "    .dataframe thead th {\n",
       "        text-align: right;\n",
       "    }\n",
       "</style>\n",
       "<table border=\"1\" class=\"dataframe\">\n",
       "  <thead>\n",
       "    <tr style=\"text-align: right;\">\n",
       "      <th></th>\n",
       "      <th>f0</th>\n",
       "      <th>f1</th>\n",
       "      <th>f2</th>\n",
       "      <th>product</th>\n",
       "    </tr>\n",
       "  </thead>\n",
       "  <tbody>\n",
       "    <tr>\n",
       "      <th>f0</th>\n",
       "      <td>1.000000</td>\n",
       "      <td>0.182287</td>\n",
       "      <td>-0.001777</td>\n",
       "      <td>-0.030491</td>\n",
       "    </tr>\n",
       "    <tr>\n",
       "      <th>f1</th>\n",
       "      <td>0.182287</td>\n",
       "      <td>1.000000</td>\n",
       "      <td>-0.002595</td>\n",
       "      <td>-0.010155</td>\n",
       "    </tr>\n",
       "    <tr>\n",
       "      <th>f2</th>\n",
       "      <td>-0.001777</td>\n",
       "      <td>-0.002595</td>\n",
       "      <td>1.000000</td>\n",
       "      <td>0.999397</td>\n",
       "    </tr>\n",
       "    <tr>\n",
       "      <th>product</th>\n",
       "      <td>-0.030491</td>\n",
       "      <td>-0.010155</td>\n",
       "      <td>0.999397</td>\n",
       "      <td>1.000000</td>\n",
       "    </tr>\n",
       "  </tbody>\n",
       "</table>\n",
       "</div>"
      ],
      "text/plain": [
       "               f0        f1        f2   product\n",
       "f0       1.000000  0.182287 -0.001777 -0.030491\n",
       "f1       0.182287  1.000000 -0.002595 -0.010155\n",
       "f2      -0.001777 -0.002595  1.000000  0.999397\n",
       "product -0.030491 -0.010155  0.999397  1.000000"
      ]
     },
     "execution_count": 16,
     "metadata": {},
     "output_type": "execute_result"
    }
   ],
   "source": [
    "data_geo_1.corr()"
   ]
  },
  {
   "cell_type": "code",
   "execution_count": 17,
   "metadata": {},
   "outputs": [
    {
     "data": {
      "image/png": "[encoded data removed]",
      "text/plain": [
       "<Figure size 720x576 with 1 Axes>"
      ]
     },
     "metadata": {
      "needs_background": "light"
     },
     "output_type": "display_data"
    }
   ],
   "source": [
    "data_geo_1['product'].hist(figsize=(10,8),bins=50)\n",
    "plt.xlabel('объём запасов нефти в скважине (тыс. баррелей)')\n",
    "plt.ylabel('Количество скважин')\n",
    "plt.title('Распредение объемов запасов сырья по первому региону')\n",
    "plt.show()"
   ]
  },
  {
   "cell_type": "code",
   "execution_count": 18,
   "metadata": {},
   "outputs": [
    {
     "data": {
      "text/html": [
       "<div>\n",
       "<style scoped>\n",
       "    .dataframe tbody tr th:only-of-type {\n",
       "        vertical-align: middle;\n",
       "    }\n",
       "\n",
       "    .dataframe tbody tr th {\n",
       "        vertical-align: top;\n",
       "    }\n",
       "\n",
       "    .dataframe thead th {\n",
       "        text-align: right;\n",
       "    }\n",
       "</style>\n",
       "<table border=\"1\" class=\"dataframe\">\n",
       "  <thead>\n",
       "    <tr style=\"text-align: right;\">\n",
       "      <th></th>\n",
       "      <th>id</th>\n",
       "      <th>f0</th>\n",
       "      <th>f1</th>\n",
       "      <th>f2</th>\n",
       "      <th>product</th>\n",
       "    </tr>\n",
       "  </thead>\n",
       "  <tbody>\n",
       "    <tr>\n",
       "      <th>0</th>\n",
       "      <td>fwXo0</td>\n",
       "      <td>-1.146987</td>\n",
       "      <td>0.963328</td>\n",
       "      <td>-0.828965</td>\n",
       "      <td>27.758673</td>\n",
       "    </tr>\n",
       "    <tr>\n",
       "      <th>1</th>\n",
       "      <td>WJtFt</td>\n",
       "      <td>0.262778</td>\n",
       "      <td>0.269839</td>\n",
       "      <td>-2.530187</td>\n",
       "      <td>56.069697</td>\n",
       "    </tr>\n",
       "    <tr>\n",
       "      <th>2</th>\n",
       "      <td>ovLUW</td>\n",
       "      <td>0.194587</td>\n",
       "      <td>0.289035</td>\n",
       "      <td>-5.586433</td>\n",
       "      <td>62.871910</td>\n",
       "    </tr>\n",
       "    <tr>\n",
       "      <th>3</th>\n",
       "      <td>q6cA6</td>\n",
       "      <td>2.236060</td>\n",
       "      <td>-0.553760</td>\n",
       "      <td>0.930038</td>\n",
       "      <td>114.572842</td>\n",
       "    </tr>\n",
       "    <tr>\n",
       "      <th>4</th>\n",
       "      <td>WPMUX</td>\n",
       "      <td>-0.515993</td>\n",
       "      <td>1.716266</td>\n",
       "      <td>5.899011</td>\n",
       "      <td>149.600746</td>\n",
       "    </tr>\n",
       "  </tbody>\n",
       "</table>\n",
       "</div>"
      ],
      "text/plain": [
       "      id        f0        f1        f2     product\n",
       "0  fwXo0 -1.146987  0.963328 -0.828965   27.758673\n",
       "1  WJtFt  0.262778  0.269839 -2.530187   56.069697\n",
       "2  ovLUW  0.194587  0.289035 -5.586433   62.871910\n",
       "3  q6cA6  2.236060 -0.553760  0.930038  114.572842\n",
       "4  WPMUX -0.515993  1.716266  5.899011  149.600746"
      ]
     },
     "execution_count": 18,
     "metadata": {},
     "output_type": "execute_result"
    }
   ],
   "source": [
    "data_geo_2.head()"
   ]
  },
  {
   "cell_type": "code",
   "execution_count": 19,
   "metadata": {},
   "outputs": [
    {
     "name": "stdout",
     "output_type": "stream",
     "text": [
      "<class 'pandas.core.frame.DataFrame'>\n",
      "RangeIndex: 100000 entries, 0 to 99999\n",
      "Data columns (total 5 columns):\n",
      " #   Column   Non-Null Count   Dtype  \n",
      "---  ------   --------------   -----  \n",
      " 0   id       100000 non-null  object \n",
      " 1   f0       100000 non-null  float64\n",
      " 2   f1       100000 non-null  float64\n",
      " 3   f2       100000 non-null  float64\n",
      " 4   product  100000 non-null  float64\n",
      "dtypes: float64(4), object(1)\n",
      "memory usage: 3.8+ MB\n"
     ]
    }
   ],
   "source": [
    "data_geo_2.info()"
   ]
  },
  {
   "cell_type": "code",
   "execution_count": 20,
   "metadata": {},
   "outputs": [
    {
     "data": {
      "text/html": [
       "<div>\n",
       "<style scoped>\n",
       "    .dataframe tbody tr th:only-of-type {\n",
       "        vertical-align: middle;\n",
       "    }\n",
       "\n",
       "    .dataframe tbody tr th {\n",
       "        vertical-align: top;\n",
       "    }\n",
       "\n",
       "    .dataframe thead th {\n",
       "        text-align: right;\n",
       "    }\n",
       "</style>\n",
       "<table border=\"1\" class=\"dataframe\">\n",
       "  <thead>\n",
       "    <tr style=\"text-align: right;\">\n",
       "      <th></th>\n",
       "      <th>f0</th>\n",
       "      <th>f1</th>\n",
       "      <th>f2</th>\n",
       "      <th>product</th>\n",
       "    </tr>\n",
       "  </thead>\n",
       "  <tbody>\n",
       "    <tr>\n",
       "      <th>count</th>\n",
       "      <td>100000.000000</td>\n",
       "      <td>100000.000000</td>\n",
       "      <td>100000.000000</td>\n",
       "      <td>100000.000000</td>\n",
       "    </tr>\n",
       "    <tr>\n",
       "      <th>mean</th>\n",
       "      <td>0.002023</td>\n",
       "      <td>-0.002081</td>\n",
       "      <td>2.495128</td>\n",
       "      <td>95.000000</td>\n",
       "    </tr>\n",
       "    <tr>\n",
       "      <th>std</th>\n",
       "      <td>1.732045</td>\n",
       "      <td>1.730417</td>\n",
       "      <td>3.473445</td>\n",
       "      <td>44.749921</td>\n",
       "    </tr>\n",
       "    <tr>\n",
       "      <th>min</th>\n",
       "      <td>-8.760004</td>\n",
       "      <td>-7.084020</td>\n",
       "      <td>-11.970335</td>\n",
       "      <td>0.000000</td>\n",
       "    </tr>\n",
       "    <tr>\n",
       "      <th>25%</th>\n",
       "      <td>-1.162288</td>\n",
       "      <td>-1.174820</td>\n",
       "      <td>0.130359</td>\n",
       "      <td>59.450441</td>\n",
       "    </tr>\n",
       "    <tr>\n",
       "      <th>50%</th>\n",
       "      <td>0.009424</td>\n",
       "      <td>-0.009482</td>\n",
       "      <td>2.484236</td>\n",
       "      <td>94.925613</td>\n",
       "    </tr>\n",
       "    <tr>\n",
       "      <th>75%</th>\n",
       "      <td>1.158535</td>\n",
       "      <td>1.163678</td>\n",
       "      <td>4.858794</td>\n",
       "      <td>130.595027</td>\n",
       "    </tr>\n",
       "    <tr>\n",
       "      <th>max</th>\n",
       "      <td>7.238262</td>\n",
       "      <td>7.844801</td>\n",
       "      <td>16.739402</td>\n",
       "      <td>190.029838</td>\n",
       "    </tr>\n",
       "  </tbody>\n",
       "</table>\n",
       "</div>"
      ],
      "text/plain": [
       "                  f0             f1             f2        product\n",
       "count  100000.000000  100000.000000  100000.000000  100000.000000\n",
       "mean        0.002023      -0.002081       2.495128      95.000000\n",
       "std         1.732045       1.730417       3.473445      44.749921\n",
       "min        -8.760004      -7.084020     -11.970335       0.000000\n",
       "25%        -1.162288      -1.174820       0.130359      59.450441\n",
       "50%         0.009424      -0.009482       2.484236      94.925613\n",
       "75%         1.158535       1.163678       4.858794     130.595027\n",
       "max         7.238262       7.844801      16.739402     190.029838"
      ]
     },
     "execution_count": 20,
     "metadata": {},
     "output_type": "execute_result"
    }
   ],
   "source": [
    "data_geo_2.describe()"
   ]
  },
  {
   "cell_type": "code",
   "execution_count": 21,
   "metadata": {},
   "outputs": [
    {
     "data": {
      "text/plain": [
       "0"
      ]
     },
     "execution_count": 21,
     "metadata": {},
     "output_type": "execute_result"
    }
   ],
   "source": [
    "data_geo_2.duplicated().sum()"
   ]
  },
  {
   "cell_type": "code",
   "execution_count": 22,
   "metadata": {},
   "outputs": [],
   "source": [
    "data_geo_2 = data_geo_2.drop(['id'], axis=1)"
   ]
  },
  {
   "cell_type": "code",
   "execution_count": 23,
   "metadata": {},
   "outputs": [
    {
     "data": {
      "text/html": [
       "<div>\n",
       "<style scoped>\n",
       "    .dataframe tbody tr th:only-of-type {\n",
       "        vertical-align: middle;\n",
       "    }\n",
       "\n",
       "    .dataframe tbody tr th {\n",
       "        vertical-align: top;\n",
       "    }\n",
       "\n",
       "    .dataframe thead th {\n",
       "        text-align: right;\n",
       "    }\n",
       "</style>\n",
       "<table border=\"1\" class=\"dataframe\">\n",
       "  <thead>\n",
       "    <tr style=\"text-align: right;\">\n",
       "      <th></th>\n",
       "      <th>f0</th>\n",
       "      <th>f1</th>\n",
       "      <th>f2</th>\n",
       "      <th>product</th>\n",
       "    </tr>\n",
       "  </thead>\n",
       "  <tbody>\n",
       "    <tr>\n",
       "      <th>f0</th>\n",
       "      <td>1.000000</td>\n",
       "      <td>0.000528</td>\n",
       "      <td>-0.000448</td>\n",
       "      <td>-0.001987</td>\n",
       "    </tr>\n",
       "    <tr>\n",
       "      <th>f1</th>\n",
       "      <td>0.000528</td>\n",
       "      <td>1.000000</td>\n",
       "      <td>0.000779</td>\n",
       "      <td>-0.001012</td>\n",
       "    </tr>\n",
       "    <tr>\n",
       "      <th>f2</th>\n",
       "      <td>-0.000448</td>\n",
       "      <td>0.000779</td>\n",
       "      <td>1.000000</td>\n",
       "      <td>0.445871</td>\n",
       "    </tr>\n",
       "    <tr>\n",
       "      <th>product</th>\n",
       "      <td>-0.001987</td>\n",
       "      <td>-0.001012</td>\n",
       "      <td>0.445871</td>\n",
       "      <td>1.000000</td>\n",
       "    </tr>\n",
       "  </tbody>\n",
       "</table>\n",
       "</div>"
      ],
      "text/plain": [
       "               f0        f1        f2   product\n",
       "f0       1.000000  0.000528 -0.000448 -0.001987\n",
       "f1       0.000528  1.000000  0.000779 -0.001012\n",
       "f2      -0.000448  0.000779  1.000000  0.445871\n",
       "product -0.001987 -0.001012  0.445871  1.000000"
      ]
     },
     "execution_count": 23,
     "metadata": {},
     "output_type": "execute_result"
    }
   ],
   "source": [
    "data_geo_2.corr()"
   ]
  },
  {
   "cell_type": "code",
   "execution_count": 24,
   "metadata": {},
   "outputs": [
    {
     "data": {
      "image/png": "[encoded data removed]",
      "text/plain": [
       "<Figure size 720x576 with 1 Axes>"
      ]
     },
     "metadata": {
      "needs_background": "light"
     },
     "output_type": "display_data"
    }
   ],
   "source": [
    "data_geo_2['product'].hist(figsize=(10,8),bins=50)\n",
    "plt.xlabel('объём запасов нефти в скважине (тыс. баррелей)')\n",
    "plt.ylabel('Количество скважин')\n",
    "plt.title('Распредение объемов запасов сырья по первому региону')\n",
    "plt.show()"
   ]
  },
  {
   "cell_type": "markdown",
   "metadata": {},
   "source": [
    "<div class=\"alert alert-info\"> \n",
    "<b> ВЫВОД:</b>\n",
    "\n",
    "Выборка по каждому из трех регионов состоит из 100000 объектов. Есть информация по 5 признакам.\n",
    "из них значимыми для модели могут быть 4 (включая, целевой признак).\n",
    "\n",
    "Все признаки количественные, включая целевой. Целевой признак: объем нефти в скважине. \n",
    "Таким образом, перед моделью будет стоять задача регрессии.\n",
    "\n",
    "Согласно описательной статистике признаки имеют различный разброс и нуждаются в масштабировании.\n",
    "\n",
    "В выборке не обнаружены полные дубликаты и пропуски.\n",
    "\n",
    "Признаки проверены на мультиколлинеарность, проблема не обнаружена.\n",
    "\n",
    "Согласно гистораммам распределения значений целевого признака для первого и третьего признака можно говорить о распредении близком к нормальному.\n",
    "Для второго региона имеет место дискретное распределение.\n",
    "\n",
    "</div>"
   ]
  },
  {
   "cell_type": "markdown",
   "metadata": {},
   "source": [
    "## Обучение и проверка модели"
   ]
  },
  {
   "cell_type": "markdown",
   "metadata": {},
   "source": [
    "Разделим выборки по каждому из регионов на обучающую и валидационную в соотношении 75%:25%"
   ]
  },
  {
   "cell_type": "code",
   "execution_count": 25,
   "metadata": {},
   "outputs": [],
   "source": [
    "# функция для разбивки датасета на обучающую и валидационную выборки\n",
    "\n",
    "def split(data, target):\n",
    "    features = data.drop([target], axis = 1)\n",
    "    target = data[target]\n",
    "    \n",
    "    features_train, features_valid, target_train, target_valid = train_test_split(features, target, \\\n",
    "                                                                                  test_size=0.25, random_state=12345)\n",
    "    \n",
    "    return features_train, features_valid, target_train, target_valid"
   ]
  },
  {
   "cell_type": "code",
   "execution_count": 26,
   "metadata": {},
   "outputs": [],
   "source": [
    "features_train_0, features_valid_0, target_train_0, target_valid_0 = split(data_geo_0, 'product')"
   ]
  },
  {
   "cell_type": "code",
   "execution_count": 27,
   "metadata": {},
   "outputs": [],
   "source": [
    "features_train_1, features_valid_1, target_train_1, target_valid_1 = split(data_geo_1, 'product')"
   ]
  },
  {
   "cell_type": "code",
   "execution_count": 28,
   "metadata": {},
   "outputs": [],
   "source": [
    "features_train_2, features_valid_2, target_train_2, target_valid_2 = split(data_geo_2, 'product')"
   ]
  },
  {
   "cell_type": "markdown",
   "metadata": {},
   "source": [
    "Проверим размеры получившихся выборок на примере первого региона."
   ]
  },
  {
   "cell_type": "code",
   "execution_count": 29,
   "metadata": {},
   "outputs": [
    {
     "data": {
      "text/plain": [
       "(75000, 3)"
      ]
     },
     "execution_count": 29,
     "metadata": {},
     "output_type": "execute_result"
    }
   ],
   "source": [
    "features_train_0.shape"
   ]
  },
  {
   "cell_type": "code",
   "execution_count": 30,
   "metadata": {},
   "outputs": [
    {
     "data": {
      "text/plain": [
       "(25000, 3)"
      ]
     },
     "execution_count": 30,
     "metadata": {},
     "output_type": "execute_result"
    }
   ],
   "source": [
    "features_valid_0.shape"
   ]
  },
  {
   "cell_type": "markdown",
   "metadata": {},
   "source": [
    "Проведем масштабирование признаков для первого и третьего региона с помощью Standardscaler (так как распределение целевого признака близко к нормальному), для второго региона используем MinMaxScaler, чтобы сохранить изначальное распределение."
   ]
  },
  {
   "cell_type": "code",
   "execution_count": 31,
   "metadata": {},
   "outputs": [],
   "source": [
    "scaler = StandardScaler()\n",
    "features_train_0 = scaler.fit_transform(features_train_0) \n",
    "features_valid_0 = scaler.transform(features_valid_0)"
   ]
  },
  {
   "cell_type": "code",
   "execution_count": 32,
   "metadata": {},
   "outputs": [],
   "source": [
    "scaler = MinMaxScaler()\n",
    "features_train_1 = scaler.fit_transform(features_train_1) \n",
    "features_valid_1 = scaler.transform(features_valid_1)"
   ]
  },
  {
   "cell_type": "code",
   "execution_count": 33,
   "metadata": {},
   "outputs": [],
   "source": [
    "scaler = StandardScaler()\n",
    "features_train_2 = scaler.fit_transform(features_train_2) \n",
    "features_valid_2 = scaler.transform(features_valid_2)"
   ]
  },
  {
   "cell_type": "markdown",
   "metadata": {},
   "source": [
    "Проведем моделирование при помощи линейной регрессии, оценим качество модели метрикой RMSE для каждого из регионов."
   ]
  },
  {
   "cell_type": "code",
   "execution_count": 34,
   "metadata": {},
   "outputs": [],
   "source": [
    "# функция построения модели линейной регрессии и оценки ее качества на валидационной выборке\n",
    "\n",
    "def LinReg(features_train, target_train, features_valid, target_valid):\n",
    "    model = LinearRegression()\n",
    "    model.fit(features_train, target_train)\n",
    "    predictions_valid = model.predict(features_valid)\n",
    "    df = pd.DataFrame({'real_product' : target_valid, 'predicted_product' : predictions_valid},\\\n",
    "                      columns = ['real_product', 'predicted_product'])\n",
    "    rmse = mean_squared_error(target_valid, predictions_valid, squared=False)\n",
    "    return df, rmse"
   ]
  },
  {
   "cell_type": "code",
   "execution_count": 35,
   "metadata": {},
   "outputs": [],
   "source": [
    "df_0, rmse_0 = LinReg(features_train_0, target_train_0, features_valid_0, target_valid_0)"
   ]
  },
  {
   "cell_type": "code",
   "execution_count": 36,
   "metadata": {},
   "outputs": [
    {
     "data": {
      "text/html": [
       "<div>\n",
       "<style scoped>\n",
       "    .dataframe tbody tr th:only-of-type {\n",
       "        vertical-align: middle;\n",
       "    }\n",
       "\n",
       "    .dataframe tbody tr th {\n",
       "        vertical-align: top;\n",
       "    }\n",
       "\n",
       "    .dataframe thead th {\n",
       "        text-align: right;\n",
       "    }\n",
       "</style>\n",
       "<table border=\"1\" class=\"dataframe\">\n",
       "  <thead>\n",
       "    <tr style=\"text-align: right;\">\n",
       "      <th></th>\n",
       "      <th>real_product</th>\n",
       "      <th>predicted_product</th>\n",
       "    </tr>\n",
       "  </thead>\n",
       "  <tbody>\n",
       "    <tr>\n",
       "      <th>71751</th>\n",
       "      <td>10.038645</td>\n",
       "      <td>95.894952</td>\n",
       "    </tr>\n",
       "    <tr>\n",
       "      <th>80493</th>\n",
       "      <td>114.551489</td>\n",
       "      <td>77.572583</td>\n",
       "    </tr>\n",
       "    <tr>\n",
       "      <th>2655</th>\n",
       "      <td>132.603635</td>\n",
       "      <td>77.892640</td>\n",
       "    </tr>\n",
       "    <tr>\n",
       "      <th>53233</th>\n",
       "      <td>169.072125</td>\n",
       "      <td>90.175134</td>\n",
       "    </tr>\n",
       "    <tr>\n",
       "      <th>91141</th>\n",
       "      <td>122.325180</td>\n",
       "      <td>70.510088</td>\n",
       "    </tr>\n",
       "    <tr>\n",
       "      <th>9539</th>\n",
       "      <td>37.735331</td>\n",
       "      <td>69.127076</td>\n",
       "    </tr>\n",
       "    <tr>\n",
       "      <th>8482</th>\n",
       "      <td>139.227191</td>\n",
       "      <td>125.106759</td>\n",
       "    </tr>\n",
       "    <tr>\n",
       "      <th>30284</th>\n",
       "      <td>72.491987</td>\n",
       "      <td>87.643849</td>\n",
       "    </tr>\n",
       "    <tr>\n",
       "      <th>66393</th>\n",
       "      <td>11.465993</td>\n",
       "      <td>86.035871</td>\n",
       "    </tr>\n",
       "    <tr>\n",
       "      <th>99584</th>\n",
       "      <td>110.562031</td>\n",
       "      <td>98.655311</td>\n",
       "    </tr>\n",
       "  </tbody>\n",
       "</table>\n",
       "</div>"
      ],
      "text/plain": [
       "       real_product  predicted_product\n",
       "71751     10.038645          95.894952\n",
       "80493    114.551489          77.572583\n",
       "2655     132.603635          77.892640\n",
       "53233    169.072125          90.175134\n",
       "91141    122.325180          70.510088\n",
       "9539      37.735331          69.127076\n",
       "8482     139.227191         125.106759\n",
       "30284     72.491987          87.643849\n",
       "66393     11.465993          86.035871\n",
       "99584    110.562031          98.655311"
      ]
     },
     "execution_count": 36,
     "metadata": {},
     "output_type": "execute_result"
    }
   ],
   "source": [
    "df_0.head(10)"
   ]
  },
  {
   "cell_type": "code",
   "execution_count": 37,
   "metadata": {},
   "outputs": [
    {
     "name": "stdout",
     "output_type": "stream",
     "text": [
      "Средний запас предсказанного сырья по первому региону = 92.59256778438035 тыс.баррелей\n",
      "RMSE модели по первому региону = 37.5794217150813\n"
     ]
    }
   ],
   "source": [
    "print('Средний запас предсказанного сырья по первому региону =', df_0['predicted_product'].mean(), 'тыс.баррелей')\n",
    "print('RMSE модели по первому региону =', rmse_0)"
   ]
  },
  {
   "cell_type": "code",
   "execution_count": 38,
   "metadata": {},
   "outputs": [],
   "source": [
    "df_1, rmse_1 = LinReg(features_train_1, target_train_1, features_valid_1, target_valid_1)"
   ]
  },
  {
   "cell_type": "code",
   "execution_count": 39,
   "metadata": {},
   "outputs": [
    {
     "name": "stdout",
     "output_type": "stream",
     "text": [
      "Средний запас предсказанного сырья по второму  региону = 68.72854689544603 тыс.баррелей\n",
      "RMSE модели по второму региону = 0.893099286775617\n"
     ]
    }
   ],
   "source": [
    "print('Средний запас предсказанного сырья по второму  региону =', df_1['predicted_product'].mean(), 'тыс.баррелей')\n",
    "print('RMSE модели по второму региону =', rmse_1)"
   ]
  },
  {
   "cell_type": "code",
   "execution_count": 40,
   "metadata": {},
   "outputs": [],
   "source": [
    "df_2, rmse_2 = LinReg(features_train_2, target_train_2, features_valid_2, target_valid_2)"
   ]
  },
  {
   "cell_type": "code",
   "execution_count": 41,
   "metadata": {},
   "outputs": [
    {
     "name": "stdout",
     "output_type": "stream",
     "text": [
      "Средний запас предсказанного сырья по третьему региону = 94.96504596800489 тыс.баррелей\n",
      "RMSE модели по третьему региону = 40.02970873393434\n"
     ]
    }
   ],
   "source": [
    "print('Средний запас предсказанного сырья по третьему региону =', df_2['predicted_product'].mean(), 'тыс.баррелей')\n",
    "print('RMSE модели по третьему региону =', rmse_2)"
   ]
  },
  {
   "cell_type": "markdown",
   "metadata": {},
   "source": [
    "<div class=\"alert alert-info\"> \n",
    "<b> ВЫВОД:</b>\n",
    "\n",
    "На данном этапе были разделены выборки каждого из регионов на обучающую и валидационную части в соотношении 75%:25%.\n",
    "Затем проведено масштабирование признаков при помощи StandardScaler и MinMaxScaler.\n",
    "Построены модели линейной регрессии, проведена оценка качества при помощи метрики RMSE.\n",
    "\n",
    "Наибольший средний запас сырья наблюдаем в третьем регионе, затем - первый регион, наименьшие средние показатели у второго региона.\n",
    "Однако по данному региону модель делает наиболее точные предсказания (минимальное значение среднеквадратической ошибки).\n",
    "Кроме того, для данного региона наблюдается дискретная форма распределения значений целевого признака. Есть выбросы в объемах запасов сырья, показатели могут сильно отличаться от среднего.\n",
    "\n",
    "RMSE модели линейной регрессии для первого и третьего регионов достаточно высокие, особенно в сравнении с данной метрикой на втором регионе.\n",
    "    \n",
    "Расчитаем прибыль и риски каждого из регионов для окончательного выбора региона.\n",
    "\n",
    "</div>"
   ]
  },
  {
   "cell_type": "markdown",
   "metadata": {},
   "source": [
    "## Подготовка к расчёту прибыли"
   ]
  },
  {
   "cell_type": "markdown",
   "metadata": {},
   "source": [
    "Создадим отдельные переменные для ключевых значений расчетов. BUDGET - совокупный бюджет на разработку скважин в регионе, TOTAL_POINTS - общее количество исследуемых скважин, BEST_POINTS - количество лучших по объему сырья скважин, которые будут разрабатываться, BARREL_PRICE - цена за один баррель нефти."
   ]
  },
  {
   "cell_type": "code",
   "execution_count": 42,
   "metadata": {},
   "outputs": [],
   "source": [
    "BUDGET = 10000000000\n",
    "TOTAL_POINTS = 500\n",
    "BEST_POINTS = 200\n",
    "BARREL_PRICE = 450"
   ]
  },
  {
   "cell_type": "markdown",
   "metadata": {},
   "source": [
    "Рассчитаем достаточный объём сырья для безубыточной разработки скважины."
   ]
  },
  {
   "cell_type": "code",
   "execution_count": 43,
   "metadata": {},
   "outputs": [],
   "source": [
    "min_product_per_point = BUDGET/(BEST_POINTS*BARREL_PRICE*1000)"
   ]
  },
  {
   "cell_type": "code",
   "execution_count": 44,
   "metadata": {},
   "outputs": [
    {
     "name": "stdout",
     "output_type": "stream",
     "text": [
      "Минимально достаточный объем сырья для безубыточной разработки новой скважины = 111.11 тыс. баррелей\n"
     ]
    }
   ],
   "source": [
    "print(f'Минимально достаточный объем сырья для безубыточной разработки новой скважины =\\\n",
    "{min_product_per_point: .2f} тыс. баррелей')"
   ]
  },
  {
   "cell_type": "markdown",
   "metadata": {},
   "source": [
    "Сравним полученный объём сырья со средним запасом в каждом регионе."
   ]
  },
  {
   "cell_type": "code",
   "execution_count": 45,
   "metadata": {},
   "outputs": [
    {
     "name": "stdout",
     "output_type": "stream",
     "text": [
      "Средний фактический запас нефти в первом регине:  92.50 тыс. баррелей\n",
      "Средний фактический запас нефти во втором регине:  68.83 тыс. баррелей\n",
      "Средний фактический запас нефти в третьем регине:  95.00 тыс. баррелей\n"
     ]
    }
   ],
   "source": [
    "mean_product_geo_0 = data_geo_0['product'].mean()\n",
    "mean_product_geo_1 = data_geo_1['product'].mean()\n",
    "mean_product_geo_2 = data_geo_2['product'].mean()\n",
    "print(f'Средний фактический запас нефти в первом регине: {mean_product_geo_0 : .2f} тыс. баррелей')\n",
    "print(f'Средний фактический запас нефти во втором регине: {mean_product_geo_1 : .2f} тыс. баррелей')\n",
    "print(f'Средний фактический запас нефти в третьем регине: {mean_product_geo_2 : .2f} тыс. баррелей')"
   ]
  },
  {
   "cell_type": "markdown",
   "metadata": {},
   "source": [
    "<div class=\"alert alert-info\"> \n",
    "<b> ВЫВОД:</b>\n",
    "\n",
    "На данном этапе осуществлена подготовка к расчету прибыли потенциально разрабатываемых скважин: \n",
    "введены необходимые переменные, рассчитан минимальный объем сырья для безубыточной разработки скважины,\n",
    "а также рассчитаны средние показатели запаса сырья в скважине в каждом из регионов.\n",
    "    \n",
    "Полученные результаты средних значений запасов ниже минимального безубыточного объема по каждому из регионов. \n",
    "При этом в первом и третьем регионах средний запас сырья в скважинах близок к минимально безубыточному, \n",
    "для второго региона средний фактический запас гораздо ниже минимально достаточного запаса для нулевой прибыли.\n",
    "\n",
    "Результаты говорят о том, что необходимо выбирать скважины для разработки неслучайным образом, а например, при помощи предварительного исследования их признаков и предсказания при помощи модели потенциального запаса сырья в скважине, который будет выше безубыточного.\n",
    "\n",
    "На следующем этапе проведем расчет средней прибыли, доверительного интервала для показателя прибыли и рисков для каждого региона.\n",
    "\n",
    "\n",
    "</div>"
   ]
  },
  {
   "cell_type": "markdown",
   "metadata": {},
   "source": [
    "## Расчёт прибыли и рисков "
   ]
  },
  {
   "cell_type": "markdown",
   "metadata": {},
   "source": [
    "Создадим функцию расчета прибыли разрабатываемых скважин:\n",
    "\n",
    "    - Выберем скважины с максимальными значениями предсказаний\n",
    "    - Просуммируем целевое значение объёма сырья, соответствующее этим предсказаниям\n",
    "    - Рассчитаем прибыль для полученного объёма сырья"
   ]
  },
  {
   "cell_type": "code",
   "execution_count": 46,
   "metadata": {},
   "outputs": [],
   "source": [
    "# функция расчета прибыли\n",
    "\n",
    "def profit_oil(target, predictions, points):\n",
    "    predictions_sorted = predictions.sort_values(ascending=False)\n",
    "    profit = target[predictions_sorted.index][:points].sum()*BARREL_PRICE*1000 - BUDGET\n",
    "    return profit"
   ]
  },
  {
   "cell_type": "markdown",
   "metadata": {},
   "source": [
    "Посчитаем риски и прибыль для каждого региона:\n",
    "\n",
    "    - создадим функцию Bootstrap с 1000 выборок\n",
    "    - будем отбирать 500 скважин по целевым и предсказанным объемам сырья\n",
    "    - для 200 лучших по предсказанным объемам сырья скважинам будем считать прибыль\n",
    "    - получим распределение прибыли, расчитаем ее среднее значение и 95%-й доверительный интервал\n",
    "    - расчитаем уровень риска для каждого из регионов(как процент отрицательных прибылей в полученном распределении прибыли)"
   ]
  },
  {
   "cell_type": "code",
   "execution_count": 47,
   "metadata": {},
   "outputs": [],
   "source": [
    "def bootstrap(target, predictions):\n",
    "    state = np.random.RandomState(12345)\n",
    "    values = []\n",
    "    lost = 0\n",
    "    for i in range(1000):\n",
    "        target_subsample = target.sample(n = TOTAL_POINTS, replace=True, random_state=state)\n",
    "        predictions_subsample = predictions[target_subsample.index]\n",
    "        values.append(profit_oil(target_subsample, predictions_subsample, BEST_POINTS))\n",
    "       \n",
    "    values = pd.Series(values)\n",
    "    lower = values.quantile(.025)\n",
    "    upper = values.quantile(.975)\n",
    "\n",
    "    mean = values.mean()\n",
    "    risk = values[values<0].count()/len(values)\n",
    "    \n",
    "    return mean, lower, upper, risk"
   ]
  },
  {
   "cell_type": "code",
   "execution_count": 48,
   "metadata": {},
   "outputs": [],
   "source": [
    "mean_0, lower_0, upper_0, risk_0 = bootstrap(df_0['real_product'], df_0['predicted_product'])"
   ]
  },
  {
   "cell_type": "code",
   "execution_count": 49,
   "metadata": {},
   "outputs": [
    {
     "name": "stdout",
     "output_type": "stream",
     "text": [
      "Первый регион\n",
      "Средняя прибыль по региону:  425938.53 тыс.руб.\n",
      "95% доверительный интервал от -102090.09 до 947976.35 тыс.руб.\n",
      "Процент риска 6.00%\n"
     ]
    }
   ],
   "source": [
    "print('Первый регион')\n",
    "print(f'Средняя прибыль по региону: {mean_0/1000 : .2f} тыс.руб.')\n",
    "print(f'95% доверительный интервал от {lower_0/1000:.2f} до {upper_0/1000:.2f} тыс.руб.')\n",
    "print(f'Процент риска {risk_0:.2%}')"
   ]
  },
  {
   "cell_type": "code",
   "execution_count": 50,
   "metadata": {},
   "outputs": [],
   "source": [
    "mean_1, lower_1, upper_1, risk_1 = bootstrap(df_1['real_product'], df_1['predicted_product'])"
   ]
  },
  {
   "cell_type": "code",
   "execution_count": 51,
   "metadata": {},
   "outputs": [
    {
     "name": "stdout",
     "output_type": "stream",
     "text": [
      "Второй регион\n",
      "Средняя прибыль по региону:  515222.77 тыс.руб.\n",
      "95% доверительный интервал от 68873.2254 до 931547.5913 тыс.руб.\n",
      "Процент риска 1.00%\n"
     ]
    }
   ],
   "source": [
    "print('Второй регион')\n",
    "print(f'Средняя прибыль по региону: {mean_1/1000 : .2f} тыс.руб.')\n",
    "print(f'95% доверительный интервал от {lower_1/1000:.4f} до {upper_1/1000:.4f} тыс.руб.')\n",
    "print(f'Процент риска {risk_1:.2%}')"
   ]
  },
  {
   "cell_type": "code",
   "execution_count": 52,
   "metadata": {},
   "outputs": [],
   "source": [
    "mean_2, lower_2, upper_2, risk_2 = bootstrap(df_2['real_product'], df_2['predicted_product'])"
   ]
  },
  {
   "cell_type": "code",
   "execution_count": 53,
   "metadata": {},
   "outputs": [
    {
     "name": "stdout",
     "output_type": "stream",
     "text": [
      "Третий регион\n",
      "Средняя прибыль по региону:  435008.3628 тыс.руб.\n",
      "95% доверительный интервал от -128880.5473 до 969706.9542 тыс.руб.\n",
      "Процент риска 6.40%\n"
     ]
    }
   ],
   "source": [
    "print('Третий регион')\n",
    "print(f'Средняя прибыль по региону: {mean_2/1000: .4f} тыс.руб.')\n",
    "print(f'95% доверительный интервал от {lower_2/1000:.4f} до {upper_2/1000:.4f} тыс.руб.')\n",
    "print(f'Процент риска {risk_2:.2%}')"
   ]
  },
  {
   "cell_type": "markdown",
   "metadata": {},
   "source": [
    "<div class=\"alert alert-info\"> \n",
    "<b> ВЫВОД:</b>\n",
    "\n",
    "Используя технику Bootstrap с 1000 выборок удалось посмотреть на распределение прибыли от добычи нефти в каждом из регионов.\n",
    "Судя по результатам, наиболее перспективным оказался второй регион. В этом регионе наблюдаем максимальную среднюю прибыль и самый низкий процент риска (1%).\n",
    " \n",
    "Пороговое значение уровня риска 2,5%, ни первый, ни третий регион не подходят под данный критерий. Кроме того, среднее значение прибыли для данных регионов ниже по сравнению со вторым регионом.\n",
    "    \n",
    "Доверительный интервал для значения прибыли от разработки скважин для второго региона показывает,что даже в случае неудачного выбора скважин для разработки, компания не понесет убытки с 95% вероятностью.\n",
    "    \n",
    "</div>"
   ]
  },
  {
   "cell_type": "markdown",
   "metadata": {},
   "source": [
    "## Итоговый вывод"
   ]
  },
  {
   "cell_type": "markdown",
   "metadata": {},
   "source": [
    "В ходе данного проекта были выполнены следующие шаги:\n",
    "\n",
    "   - изучены данные по каждому из трех регионов, выявлены закономерности, проведена подготовка к моделированию\n",
    "    \n",
    "   - построена модель линейной регрессии и проведена оценка ее качества\n",
    "   - сделаны предварительные выводы о том, что наилучшим образом модель работает на втором регионе: RMSE модели минимальна\n",
    "   - проведен расчет точки безубыточности и сравнение ее со средними показателями объемов сырья в скважине по каждому из регионов\n",
    "   - сделан вывод о том, что минимальный безубыточный объем добычи нефти выше любого среднего запаса сырья в каждом из регионов, что подтверждает факт необходимости неслучайного выбора потенциального места разработки\n",
    "   - с помощью техники Bootstrap построено распределение показателя прибыли по регионам, расчитан 95%-й доверительный интервал для прибыли, оценен уровень риска\n",
    "   - второй регион выбран как наиболее перспективный для разработки месторождений: несмотря на самые низкие средние показатели запасов сырья, данный регион характеризуется  максимальной прибылью, минимальным риском и сложностью уйти в убыток даже при неудачном выборе скважин. Это еще раз подтверждает факт важности граммотного построения модели с максимальной метрикой качества для предсказания объемов запасов сырья в скважинах.\n"
   ]
  },
  {
   "cell_type": "markdown",
   "metadata": {},
   "source": [
    "## Чек-лист готовности проекта"
   ]
  },
  {
   "cell_type": "markdown",
   "metadata": {},
   "source": [
    "Поставьте 'x' в выполненных пунктах. Далее нажмите Shift+Enter."
   ]
  },
  {
   "cell_type": "markdown",
   "metadata": {},
   "source": [
    "- [x]  Jupyter Notebook открыт\n",
    "- [x]  Весь код выполняется без ошибок\n",
    "- [x]  Ячейки с кодом расположены в порядке исполнения\n",
    "- [x]  Выполнен шаг 1: данные подготовлены\n",
    "- [x]  Выполнен шаг 2: модели обучены и проверены\n",
    "    - [x]  Данные корректно разбиты на обучающую и валидационную выборки\n",
    "    - [x]  Модели обучены, предсказания сделаны\n",
    "    - [x]  Предсказания и правильные ответы на валидационной выборке сохранены\n",
    "    - [x]  На экране напечатаны результаты\n",
    "    - [x]  Сделаны выводы\n",
    "- [x]  Выполнен шаг 3: проведена подготовка к расчёту прибыли\n",
    "    - [x]  Для всех ключевых значений созданы константы Python\n",
    "    - [x]  Посчитано минимальное среднее количество продукта в месторождениях региона, достаточное для разработки\n",
    "    - [x]  По предыдущему пункту сделаны выводы\n",
    "    - [x]  Написана функция расчёта прибыли\n",
    "- [x]  Выполнен шаг 4: посчитаны риски и прибыль\n",
    "    - [x]  Проведена процедура *Bootstrap*\n",
    "    - [x]  Все параметры бутстрепа соответствуют условию\n",
    "    - [x]  Найдены все нужные величины\n",
    "    - [x]  Предложен регион для разработки месторождения\n",
    "    - [x]  Выбор региона обоснован"
   ]
  },
  {
   "cell_type": "code",
   "execution_count": null,
   "metadata": {},
   "outputs": [],
   "source": []
  }
 ],
 "metadata": {
  "ExecuteTimeLog": [
   {
    "duration": 1583,
    "start_time": "2022-12-12T12:10:02.721Z"
   },
   {
    "duration": 1135,
    "start_time": "2022-12-12T12:10:04.306Z"
   },
   {
    "duration": 15,
    "start_time": "2022-12-12T12:10:05.442Z"
   },
   {
    "duration": 18,
    "start_time": "2022-12-12T12:10:05.459Z"
   },
   {
    "duration": 68,
    "start_time": "2022-12-12T12:10:05.479Z"
   },
   {
    "duration": 51,
    "start_time": "2022-12-12T12:10:05.549Z"
   },
   {
    "duration": 10,
    "start_time": "2022-12-12T12:10:05.613Z"
   },
   {
    "duration": 4,
    "start_time": "2022-12-12T12:10:05.625Z"
   },
   {
    "duration": 18,
    "start_time": "2022-12-12T12:10:05.631Z"
   },
   {
    "duration": 262,
    "start_time": "2022-12-12T12:10:05.651Z"
   },
   {
    "duration": 10,
    "start_time": "2022-12-12T12:10:05.914Z"
   },
   {
    "duration": 17,
    "start_time": "2022-12-12T12:10:05.926Z"
   },
   {
    "duration": 33,
    "start_time": "2022-12-12T12:10:05.945Z"
   },
   {
    "duration": 86,
    "start_time": "2022-12-12T12:10:05.980Z"
   },
   {
    "duration": 4,
    "start_time": "2022-12-12T12:10:06.068Z"
   },
   {
    "duration": 18,
    "start_time": "2022-12-12T12:10:06.074Z"
   },
   {
    "duration": 260,
    "start_time": "2022-12-12T12:10:06.094Z"
   },
   {
    "duration": 10,
    "start_time": "2022-12-12T12:10:06.356Z"
   },
   {
    "duration": 17,
    "start_time": "2022-12-12T12:10:06.367Z"
   },
   {
    "duration": 57,
    "start_time": "2022-12-12T12:10:06.385Z"
   },
   {
    "duration": 43,
    "start_time": "2022-12-12T12:10:06.443Z"
   },
   {
    "duration": 4,
    "start_time": "2022-12-12T12:10:06.488Z"
   },
   {
    "duration": 33,
    "start_time": "2022-12-12T12:10:06.494Z"
   },
   {
    "duration": 224,
    "start_time": "2022-12-12T12:10:06.529Z"
   },
   {
    "duration": 4,
    "start_time": "2022-12-12T12:10:06.754Z"
   },
   {
    "duration": 14,
    "start_time": "2022-12-12T12:10:06.759Z"
   },
   {
    "duration": 12,
    "start_time": "2022-12-12T12:10:06.775Z"
   },
   {
    "duration": 25,
    "start_time": "2022-12-12T12:10:06.790Z"
   },
   {
    "duration": 4,
    "start_time": "2022-12-12T12:10:06.817Z"
   },
   {
    "duration": 7,
    "start_time": "2022-12-12T12:10:06.823Z"
   },
   {
    "duration": 13,
    "start_time": "2022-12-12T12:10:06.832Z"
   },
   {
    "duration": 9,
    "start_time": "2022-12-12T12:10:06.847Z"
   },
   {
    "duration": 12,
    "start_time": "2022-12-12T12:10:06.858Z"
   },
   {
    "duration": 4,
    "start_time": "2022-12-12T12:10:06.872Z"
   },
   {
    "duration": 57,
    "start_time": "2022-12-12T12:10:06.878Z"
   },
   {
    "duration": 244,
    "start_time": "2022-12-12T12:10:06.937Z"
   },
   {
    "duration": 5,
    "start_time": "2022-12-12T12:10:07.183Z"
   },
   {
    "duration": 30,
    "start_time": "2022-12-12T12:10:07.190Z"
   },
   {
    "duration": 91,
    "start_time": "2022-12-12T12:10:07.222Z"
   },
   {
    "duration": 107,
    "start_time": "2022-12-12T12:10:07.315Z"
   },
   {
    "duration": 87,
    "start_time": "2022-12-12T12:10:07.427Z"
   },
   {
    "duration": 99,
    "start_time": "2022-12-12T12:10:07.515Z"
   },
   {
    "duration": 6,
    "start_time": "2022-12-12T12:10:07.616Z"
   },
   {
    "duration": 6,
    "start_time": "2022-12-12T12:10:07.624Z"
   },
   {
    "duration": 11,
    "start_time": "2022-12-12T12:10:07.631Z"
   },
   {
    "duration": 6,
    "start_time": "2022-12-12T12:10:07.644Z"
   },
   {
    "duration": 8,
    "start_time": "2022-12-12T12:10:07.652Z"
   },
   {
    "duration": 1356,
    "start_time": "2022-12-12T12:10:07.661Z"
   },
   {
    "duration": 6,
    "start_time": "2022-12-12T12:10:09.019Z"
   },
   {
    "duration": 1362,
    "start_time": "2022-12-12T12:10:09.027Z"
   },
   {
    "duration": 5,
    "start_time": "2022-12-12T12:10:10.391Z"
   },
   {
    "duration": 1323,
    "start_time": "2022-12-12T12:10:10.398Z"
   },
   {
    "duration": 4,
    "start_time": "2022-12-12T12:10:11.723Z"
   },
   {
    "duration": 1395,
    "start_time": "2022-12-12T12:10:37.699Z"
   },
   {
    "duration": 964,
    "start_time": "2022-12-12T12:10:39.096Z"
   },
   {
    "duration": 17,
    "start_time": "2022-12-12T12:10:40.062Z"
   },
   {
    "duration": 18,
    "start_time": "2022-12-12T12:10:40.081Z"
   },
   {
    "duration": 53,
    "start_time": "2022-12-12T12:10:40.112Z"
   },
   {
    "duration": 64,
    "start_time": "2022-12-12T12:10:40.167Z"
   },
   {
    "duration": 13,
    "start_time": "2022-12-12T12:10:40.233Z"
   },
   {
    "duration": 9,
    "start_time": "2022-12-12T12:10:40.248Z"
   },
   {
    "duration": 23,
    "start_time": "2022-12-12T12:10:40.260Z"
   },
   {
    "duration": 305,
    "start_time": "2022-12-12T12:10:40.287Z"
   },
   {
    "duration": 10,
    "start_time": "2022-12-12T12:10:40.594Z"
   },
   {
    "duration": 13,
    "start_time": "2022-12-12T12:10:40.614Z"
   },
   {
    "duration": 38,
    "start_time": "2022-12-12T12:10:40.629Z"
   },
   {
    "duration": 64,
    "start_time": "2022-12-12T12:10:40.669Z"
   },
   {
    "duration": 5,
    "start_time": "2022-12-12T12:10:40.734Z"
   },
   {
    "duration": 39,
    "start_time": "2022-12-12T12:10:40.741Z"
   },
   {
    "duration": 245,
    "start_time": "2022-12-12T12:10:40.782Z"
   },
   {
    "duration": 10,
    "start_time": "2022-12-12T12:10:41.029Z"
   },
   {
    "duration": 23,
    "start_time": "2022-12-12T12:10:41.041Z"
   },
   {
    "duration": 50,
    "start_time": "2022-12-12T12:10:41.066Z"
   },
   {
    "duration": 44,
    "start_time": "2022-12-12T12:10:41.118Z"
   },
   {
    "duration": 4,
    "start_time": "2022-12-12T12:10:41.164Z"
   },
   {
    "duration": 36,
    "start_time": "2022-12-12T12:10:41.170Z"
   },
   {
    "duration": 237,
    "start_time": "2022-12-12T12:10:41.208Z"
   },
   {
    "duration": 4,
    "start_time": "2022-12-12T12:10:41.446Z"
   },
   {
    "duration": 17,
    "start_time": "2022-12-12T12:10:41.451Z"
   },
   {
    "duration": 17,
    "start_time": "2022-12-12T12:10:41.470Z"
   },
   {
    "duration": 23,
    "start_time": "2022-12-12T12:10:41.491Z"
   },
   {
    "duration": 4,
    "start_time": "2022-12-12T12:10:41.516Z"
   },
   {
    "duration": 8,
    "start_time": "2022-12-12T12:10:41.521Z"
   },
   {
    "duration": 16,
    "start_time": "2022-12-12T12:10:41.530Z"
   },
   {
    "duration": 8,
    "start_time": "2022-12-12T12:10:41.548Z"
   },
   {
    "duration": 21,
    "start_time": "2022-12-12T12:10:41.558Z"
   },
   {
    "duration": 4,
    "start_time": "2022-12-12T12:10:41.581Z"
   },
   {
    "duration": 35,
    "start_time": "2022-12-12T12:10:41.587Z"
   },
   {
    "duration": 244,
    "start_time": "2022-12-12T12:10:41.625Z"
   },
   {
    "duration": 16,
    "start_time": "2022-12-12T12:10:41.871Z"
   },
   {
    "duration": 28,
    "start_time": "2022-12-12T12:10:41.888Z"
   },
   {
    "duration": 5,
    "start_time": "2022-12-12T12:10:41.918Z"
   },
   {
    "duration": 195,
    "start_time": "2022-12-12T12:10:41.925Z"
   },
   {
    "duration": 91,
    "start_time": "2022-12-12T12:10:42.124Z"
   },
   {
    "duration": 98,
    "start_time": "2022-12-12T12:10:42.217Z"
   },
   {
    "duration": 6,
    "start_time": "2022-12-12T12:10:42.317Z"
   },
   {
    "duration": 10,
    "start_time": "2022-12-12T12:10:42.325Z"
   },
   {
    "duration": 15,
    "start_time": "2022-12-12T12:10:42.338Z"
   },
   {
    "duration": 11,
    "start_time": "2022-12-12T12:10:42.354Z"
   },
   {
    "duration": 9,
    "start_time": "2022-12-12T12:10:42.367Z"
   },
   {
    "duration": 1360,
    "start_time": "2022-12-12T12:10:42.378Z"
   },
   {
    "duration": 4,
    "start_time": "2022-12-12T12:10:43.740Z"
   },
   {
    "duration": 1325,
    "start_time": "2022-12-12T12:10:43.745Z"
   },
   {
    "duration": 4,
    "start_time": "2022-12-12T12:10:45.073Z"
   },
   {
    "duration": 1291,
    "start_time": "2022-12-12T12:10:45.079Z"
   },
   {
    "duration": 4,
    "start_time": "2022-12-12T12:10:46.372Z"
   }
  ],
  "kernelspec": {
   "display_name": "Python 3 (ipykernel)",
   "language": "python",
   "name": "python3"
  },
  "language_info": {
   "codemirror_mode": {
    "name": "ipython",
    "version": 3
   },
   "file_extension": ".py",
   "mimetype": "text/x-python",
   "name": "python",
   "nbconvert_exporter": "python",
   "pygments_lexer": "ipython3",
   "version": "3.9.12"
  },
  "toc": {
   "base_numbering": 1,
   "nav_menu": {},
   "number_sections": true,
   "sideBar": true,
   "skip_h1_title": true,
   "title_cell": "Table of Contents",
   "title_sidebar": "Contents",
   "toc_cell": false,
   "toc_position": {},
   "toc_section_display": true,
   "toc_window_display": false
  }
 },
 "nbformat": 4,
 "nbformat_minor": 2
}
