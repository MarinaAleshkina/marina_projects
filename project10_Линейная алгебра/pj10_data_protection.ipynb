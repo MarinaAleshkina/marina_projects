{
 "cells": [
  {
   "cell_type": "markdown",
   "metadata": {
    "toc": true
   },
   "source": [
    "<h1>Содержание<span class=\"tocSkip\"></span></h1>\n",
    "<div class=\"toc\"><ul class=\"toc-item\"><li><span><a href=\"#Загрузка-данных\" data-toc-modified-id=\"Загрузка-данных-1\"><span class=\"toc-item-num\">1&nbsp;&nbsp;</span>Загрузка данных</a></span></li><li><span><a href=\"#Умножение-матриц\" data-toc-modified-id=\"Умножение-матриц-2\"><span class=\"toc-item-num\">2&nbsp;&nbsp;</span>Умножение матриц</a></span></li><li><span><a href=\"#Алгоритм-преобразования\" data-toc-modified-id=\"Алгоритм-преобразования-3\"><span class=\"toc-item-num\">3&nbsp;&nbsp;</span>Алгоритм преобразования</a></span></li><li><span><a href=\"#Проверка-алгоритма\" data-toc-modified-id=\"Проверка-алгоритма-4\"><span class=\"toc-item-num\">4&nbsp;&nbsp;</span>Проверка алгоритма</a></span></li><li><span><a href=\"#Итоговый-вывод\" data-toc-modified-id=\"Итоговый-вывод-5\"><span class=\"toc-item-num\">5&nbsp;&nbsp;</span>Итоговый вывод</a></span></li><li><span><a href=\"#Чек-лист-проверки\" data-toc-modified-id=\"Чек-лист-проверки-6\"><span class=\"toc-item-num\">6&nbsp;&nbsp;</span>Чек-лист проверки</a></span></li></ul></div>"
   ]
  },
  {
   "cell_type": "markdown",
   "metadata": {},
   "source": [
    "# Защита персональных данных клиентов"
   ]
  },
  {
   "cell_type": "markdown",
   "metadata": {},
   "source": [
    "Вам нужно защитить данные клиентов страховой компании «Хоть потоп». Разработайте такой метод преобразования данных, чтобы по ним было сложно восстановить персональную информацию. Обоснуйте корректность его работы.\n",
    "\n",
    "Нужно защитить данные, чтобы при преобразовании качество моделей машинного обучения не ухудшилось. Подбирать наилучшую модель не требуется."
   ]
  },
  {
   "cell_type": "markdown",
   "metadata": {},
   "source": [
    "## Загрузка данных"
   ]
  },
  {
   "cell_type": "code",
   "execution_count": 1,
   "metadata": {},
   "outputs": [],
   "source": [
    "import pandas as pd\n",
    "import numpy as np\n",
    "from sklearn.model_selection import train_test_split\n",
    "from sklearn.linear_model import LinearRegression\n",
    "from sklearn.metrics import r2_score"
   ]
  },
  {
   "cell_type": "markdown",
   "metadata": {},
   "source": [
    "Загрузим и проанализируем имеющиеся данные"
   ]
  },
  {
   "cell_type": "code",
   "execution_count": 2,
   "metadata": {},
   "outputs": [],
   "source": [
    "data = pd.read_csv('https://code.s3.yandex.net/datasets/insurance.csv')"
   ]
  },
  {
   "cell_type": "code",
   "execution_count": 3,
   "metadata": {},
   "outputs": [
    {
     "data": {
      "text/html": [
       "<div>\n",
       "<style scoped>\n",
       "    .dataframe tbody tr th:only-of-type {\n",
       "        vertical-align: middle;\n",
       "    }\n",
       "\n",
       "    .dataframe tbody tr th {\n",
       "        vertical-align: top;\n",
       "    }\n",
       "\n",
       "    .dataframe thead th {\n",
       "        text-align: right;\n",
       "    }\n",
       "</style>\n",
       "<table border=\"1\" class=\"dataframe\">\n",
       "  <thead>\n",
       "    <tr style=\"text-align: right;\">\n",
       "      <th></th>\n",
       "      <th>Пол</th>\n",
       "      <th>Возраст</th>\n",
       "      <th>Зарплата</th>\n",
       "      <th>Члены семьи</th>\n",
       "      <th>Страховые выплаты</th>\n",
       "    </tr>\n",
       "  </thead>\n",
       "  <tbody>\n",
       "    <tr>\n",
       "      <th>0</th>\n",
       "      <td>1</td>\n",
       "      <td>41.0</td>\n",
       "      <td>49600.0</td>\n",
       "      <td>1</td>\n",
       "      <td>0</td>\n",
       "    </tr>\n",
       "    <tr>\n",
       "      <th>1</th>\n",
       "      <td>0</td>\n",
       "      <td>46.0</td>\n",
       "      <td>38000.0</td>\n",
       "      <td>1</td>\n",
       "      <td>1</td>\n",
       "    </tr>\n",
       "    <tr>\n",
       "      <th>2</th>\n",
       "      <td>0</td>\n",
       "      <td>29.0</td>\n",
       "      <td>21000.0</td>\n",
       "      <td>0</td>\n",
       "      <td>0</td>\n",
       "    </tr>\n",
       "    <tr>\n",
       "      <th>3</th>\n",
       "      <td>0</td>\n",
       "      <td>21.0</td>\n",
       "      <td>41700.0</td>\n",
       "      <td>2</td>\n",
       "      <td>0</td>\n",
       "    </tr>\n",
       "    <tr>\n",
       "      <th>4</th>\n",
       "      <td>1</td>\n",
       "      <td>28.0</td>\n",
       "      <td>26100.0</td>\n",
       "      <td>0</td>\n",
       "      <td>0</td>\n",
       "    </tr>\n",
       "    <tr>\n",
       "      <th>5</th>\n",
       "      <td>1</td>\n",
       "      <td>43.0</td>\n",
       "      <td>41000.0</td>\n",
       "      <td>2</td>\n",
       "      <td>1</td>\n",
       "    </tr>\n",
       "    <tr>\n",
       "      <th>6</th>\n",
       "      <td>1</td>\n",
       "      <td>39.0</td>\n",
       "      <td>39700.0</td>\n",
       "      <td>2</td>\n",
       "      <td>0</td>\n",
       "    </tr>\n",
       "    <tr>\n",
       "      <th>7</th>\n",
       "      <td>1</td>\n",
       "      <td>25.0</td>\n",
       "      <td>38600.0</td>\n",
       "      <td>4</td>\n",
       "      <td>0</td>\n",
       "    </tr>\n",
       "    <tr>\n",
       "      <th>8</th>\n",
       "      <td>1</td>\n",
       "      <td>36.0</td>\n",
       "      <td>49700.0</td>\n",
       "      <td>1</td>\n",
       "      <td>0</td>\n",
       "    </tr>\n",
       "    <tr>\n",
       "      <th>9</th>\n",
       "      <td>1</td>\n",
       "      <td>32.0</td>\n",
       "      <td>51700.0</td>\n",
       "      <td>1</td>\n",
       "      <td>0</td>\n",
       "    </tr>\n",
       "    <tr>\n",
       "      <th>10</th>\n",
       "      <td>1</td>\n",
       "      <td>25.0</td>\n",
       "      <td>36600.0</td>\n",
       "      <td>1</td>\n",
       "      <td>0</td>\n",
       "    </tr>\n",
       "    <tr>\n",
       "      <th>11</th>\n",
       "      <td>1</td>\n",
       "      <td>38.0</td>\n",
       "      <td>29300.0</td>\n",
       "      <td>0</td>\n",
       "      <td>0</td>\n",
       "    </tr>\n",
       "    <tr>\n",
       "      <th>12</th>\n",
       "      <td>0</td>\n",
       "      <td>23.0</td>\n",
       "      <td>39500.0</td>\n",
       "      <td>3</td>\n",
       "      <td>0</td>\n",
       "    </tr>\n",
       "    <tr>\n",
       "      <th>13</th>\n",
       "      <td>0</td>\n",
       "      <td>21.0</td>\n",
       "      <td>55000.0</td>\n",
       "      <td>0</td>\n",
       "      <td>0</td>\n",
       "    </tr>\n",
       "    <tr>\n",
       "      <th>14</th>\n",
       "      <td>0</td>\n",
       "      <td>40.0</td>\n",
       "      <td>43700.0</td>\n",
       "      <td>1</td>\n",
       "      <td>0</td>\n",
       "    </tr>\n",
       "  </tbody>\n",
       "</table>\n",
       "</div>"
      ],
      "text/plain": [
       "    Пол  Возраст  Зарплата  Члены семьи  Страховые выплаты\n",
       "0     1     41.0   49600.0            1                  0\n",
       "1     0     46.0   38000.0            1                  1\n",
       "2     0     29.0   21000.0            0                  0\n",
       "3     0     21.0   41700.0            2                  0\n",
       "4     1     28.0   26100.0            0                  0\n",
       "5     1     43.0   41000.0            2                  1\n",
       "6     1     39.0   39700.0            2                  0\n",
       "7     1     25.0   38600.0            4                  0\n",
       "8     1     36.0   49700.0            1                  0\n",
       "9     1     32.0   51700.0            1                  0\n",
       "10    1     25.0   36600.0            1                  0\n",
       "11    1     38.0   29300.0            0                  0\n",
       "12    0     23.0   39500.0            3                  0\n",
       "13    0     21.0   55000.0            0                  0\n",
       "14    0     40.0   43700.0            1                  0"
      ]
     },
     "execution_count": 3,
     "metadata": {},
     "output_type": "execute_result"
    }
   ],
   "source": [
    "data.head(15)"
   ]
  },
  {
   "cell_type": "code",
   "execution_count": 4,
   "metadata": {},
   "outputs": [
    {
     "name": "stdout",
     "output_type": "stream",
     "text": [
      "<class 'pandas.core.frame.DataFrame'>\n",
      "RangeIndex: 5000 entries, 0 to 4999\n",
      "Data columns (total 5 columns):\n",
      " #   Column             Non-Null Count  Dtype  \n",
      "---  ------             --------------  -----  \n",
      " 0   Пол                5000 non-null   int64  \n",
      " 1   Возраст            5000 non-null   float64\n",
      " 2   Зарплата           5000 non-null   float64\n",
      " 3   Члены семьи        5000 non-null   int64  \n",
      " 4   Страховые выплаты  5000 non-null   int64  \n",
      "dtypes: float64(2), int64(3)\n",
      "memory usage: 195.4 KB\n"
     ]
    }
   ],
   "source": [
    "data.info()"
   ]
  },
  {
   "cell_type": "markdown",
   "metadata": {},
   "source": [
    "Проверим наличие пропусков в данных"
   ]
  },
  {
   "cell_type": "code",
   "execution_count": 5,
   "metadata": {},
   "outputs": [
    {
     "data": {
      "text/plain": [
       "Пол                  0\n",
       "Возраст              0\n",
       "Зарплата             0\n",
       "Члены семьи          0\n",
       "Страховые выплаты    0\n",
       "dtype: int64"
      ]
     },
     "execution_count": 5,
     "metadata": {},
     "output_type": "execute_result"
    }
   ],
   "source": [
    "data.isna().sum()"
   ]
  },
  {
   "cell_type": "markdown",
   "metadata": {},
   "source": [
    "Проверим наличие полных дубликатов"
   ]
  },
  {
   "cell_type": "code",
   "execution_count": 6,
   "metadata": {},
   "outputs": [
    {
     "data": {
      "text/plain": [
       "153"
      ]
     },
     "execution_count": 6,
     "metadata": {},
     "output_type": "execute_result"
    }
   ],
   "source": [
    "data.duplicated().sum()"
   ]
  },
  {
   "cell_type": "markdown",
   "metadata": {},
   "source": [
    "Посмотрим на описательную статистику "
   ]
  },
  {
   "cell_type": "code",
   "execution_count": 7,
   "metadata": {},
   "outputs": [
    {
     "data": {
      "text/html": [
       "<div>\n",
       "<style scoped>\n",
       "    .dataframe tbody tr th:only-of-type {\n",
       "        vertical-align: middle;\n",
       "    }\n",
       "\n",
       "    .dataframe tbody tr th {\n",
       "        vertical-align: top;\n",
       "    }\n",
       "\n",
       "    .dataframe thead th {\n",
       "        text-align: right;\n",
       "    }\n",
       "</style>\n",
       "<table border=\"1\" class=\"dataframe\">\n",
       "  <thead>\n",
       "    <tr style=\"text-align: right;\">\n",
       "      <th></th>\n",
       "      <th>Пол</th>\n",
       "      <th>Возраст</th>\n",
       "      <th>Зарплата</th>\n",
       "      <th>Члены семьи</th>\n",
       "      <th>Страховые выплаты</th>\n",
       "    </tr>\n",
       "  </thead>\n",
       "  <tbody>\n",
       "    <tr>\n",
       "      <th>count</th>\n",
       "      <td>5000.000000</td>\n",
       "      <td>5000.000000</td>\n",
       "      <td>5000.000000</td>\n",
       "      <td>5000.000000</td>\n",
       "      <td>5000.000000</td>\n",
       "    </tr>\n",
       "    <tr>\n",
       "      <th>mean</th>\n",
       "      <td>0.499000</td>\n",
       "      <td>30.952800</td>\n",
       "      <td>39916.360000</td>\n",
       "      <td>1.194200</td>\n",
       "      <td>0.148000</td>\n",
       "    </tr>\n",
       "    <tr>\n",
       "      <th>std</th>\n",
       "      <td>0.500049</td>\n",
       "      <td>8.440807</td>\n",
       "      <td>9900.083569</td>\n",
       "      <td>1.091387</td>\n",
       "      <td>0.463183</td>\n",
       "    </tr>\n",
       "    <tr>\n",
       "      <th>min</th>\n",
       "      <td>0.000000</td>\n",
       "      <td>18.000000</td>\n",
       "      <td>5300.000000</td>\n",
       "      <td>0.000000</td>\n",
       "      <td>0.000000</td>\n",
       "    </tr>\n",
       "    <tr>\n",
       "      <th>25%</th>\n",
       "      <td>0.000000</td>\n",
       "      <td>24.000000</td>\n",
       "      <td>33300.000000</td>\n",
       "      <td>0.000000</td>\n",
       "      <td>0.000000</td>\n",
       "    </tr>\n",
       "    <tr>\n",
       "      <th>50%</th>\n",
       "      <td>0.000000</td>\n",
       "      <td>30.000000</td>\n",
       "      <td>40200.000000</td>\n",
       "      <td>1.000000</td>\n",
       "      <td>0.000000</td>\n",
       "    </tr>\n",
       "    <tr>\n",
       "      <th>75%</th>\n",
       "      <td>1.000000</td>\n",
       "      <td>37.000000</td>\n",
       "      <td>46600.000000</td>\n",
       "      <td>2.000000</td>\n",
       "      <td>0.000000</td>\n",
       "    </tr>\n",
       "    <tr>\n",
       "      <th>max</th>\n",
       "      <td>1.000000</td>\n",
       "      <td>65.000000</td>\n",
       "      <td>79000.000000</td>\n",
       "      <td>6.000000</td>\n",
       "      <td>5.000000</td>\n",
       "    </tr>\n",
       "  </tbody>\n",
       "</table>\n",
       "</div>"
      ],
      "text/plain": [
       "               Пол      Возраст      Зарплата  Члены семьи  Страховые выплаты\n",
       "count  5000.000000  5000.000000   5000.000000  5000.000000        5000.000000\n",
       "mean      0.499000    30.952800  39916.360000     1.194200           0.148000\n",
       "std       0.500049     8.440807   9900.083569     1.091387           0.463183\n",
       "min       0.000000    18.000000   5300.000000     0.000000           0.000000\n",
       "25%       0.000000    24.000000  33300.000000     0.000000           0.000000\n",
       "50%       0.000000    30.000000  40200.000000     1.000000           0.000000\n",
       "75%       1.000000    37.000000  46600.000000     2.000000           0.000000\n",
       "max       1.000000    65.000000  79000.000000     6.000000           5.000000"
      ]
     },
     "execution_count": 7,
     "metadata": {},
     "output_type": "execute_result"
    }
   ],
   "source": [
    "data.describe()"
   ]
  },
  {
   "cell_type": "markdown",
   "metadata": {},
   "source": [
    "Проверим количественные признаки на мультиколлинеарность."
   ]
  },
  {
   "cell_type": "code",
   "execution_count": 8,
   "metadata": {},
   "outputs": [
    {
     "data": {
      "text/html": [
       "<div>\n",
       "<style scoped>\n",
       "    .dataframe tbody tr th:only-of-type {\n",
       "        vertical-align: middle;\n",
       "    }\n",
       "\n",
       "    .dataframe tbody tr th {\n",
       "        vertical-align: top;\n",
       "    }\n",
       "\n",
       "    .dataframe thead th {\n",
       "        text-align: right;\n",
       "    }\n",
       "</style>\n",
       "<table border=\"1\" class=\"dataframe\">\n",
       "  <thead>\n",
       "    <tr style=\"text-align: right;\">\n",
       "      <th></th>\n",
       "      <th>Возраст</th>\n",
       "      <th>Зарплата</th>\n",
       "      <th>Члены семьи</th>\n",
       "    </tr>\n",
       "  </thead>\n",
       "  <tbody>\n",
       "    <tr>\n",
       "      <th>Возраст</th>\n",
       "      <td>1.000000</td>\n",
       "      <td>-0.019093</td>\n",
       "      <td>-0.006692</td>\n",
       "    </tr>\n",
       "    <tr>\n",
       "      <th>Зарплата</th>\n",
       "      <td>-0.019093</td>\n",
       "      <td>1.000000</td>\n",
       "      <td>-0.030296</td>\n",
       "    </tr>\n",
       "    <tr>\n",
       "      <th>Члены семьи</th>\n",
       "      <td>-0.006692</td>\n",
       "      <td>-0.030296</td>\n",
       "      <td>1.000000</td>\n",
       "    </tr>\n",
       "  </tbody>\n",
       "</table>\n",
       "</div>"
      ],
      "text/plain": [
       "              Возраст  Зарплата  Члены семьи\n",
       "Возраст      1.000000 -0.019093    -0.006692\n",
       "Зарплата    -0.019093  1.000000    -0.030296\n",
       "Члены семьи -0.006692 -0.030296     1.000000"
      ]
     },
     "execution_count": 8,
     "metadata": {},
     "output_type": "execute_result"
    }
   ],
   "source": [
    "data.drop(['Пол', 'Страховые выплаты'], axis=1).corr()"
   ]
  },
  {
   "cell_type": "markdown",
   "metadata": {},
   "source": [
    "<div class=\"alert alert-info\"> \n",
    "<b> ВЫВОД:</b>\n",
    "\n",
    "Выборка состоит из 5000 объектов. Есть информация по 4 признакам (включая, целевой).\n",
    "\n",
    "Признаки качественные (пол) и количественные(возраст, зарплата, количество членов семьи).\n",
    "Целевой признак количественный - количество страховых выплат клиенту за последние 5 лет. \n",
    "\n",
    "Нет пропусков и выбросов.\n",
    "Обнаружены полные дубликаты, для данной выборки это возможно. Их обрабатывать не будем.\n",
    "\n",
    "Признаки проверены на мультиколлинеарность, проблема не обнаружена.\n",
    "Данные изучены,можно провести дальнейшее исследование.   \n",
    "</div>"
   ]
  },
  {
   "cell_type": "markdown",
   "metadata": {},
   "source": [
    "## Умножение матриц"
   ]
  },
  {
   "cell_type": "markdown",
   "metadata": {},
   "source": [
    "В этом задании вы можете записывать формулы в *Jupyter Notebook.*\n",
    "\n",
    "Чтобы записать формулу внутри текста, окружите её символами доллара \\\\$; если снаружи —  двойными символами \\\\$\\\\$. Эти формулы записываются на языке вёрстки *LaTeX.* \n",
    "\n",
    "Для примера мы записали формулы линейной регрессии. Можете их скопировать и отредактировать, чтобы решить задачу.\n",
    "\n",
    "Работать в *LaTeX* необязательно."
   ]
  },
  {
   "cell_type": "markdown",
   "metadata": {},
   "source": [
    "Обозначения:\n",
    "\n",
    "- $X$ — матрица признаков (нулевой столбец состоит из единиц)\n",
    "\n",
    "- $y$ — вектор целевого признака\n",
    "\n",
    "- $P$ — матрица, на которую умножаются признаки\n",
    "\n",
    "- $w$ — вектор весов линейной регрессии (нулевой элемент равен сдвигу)"
   ]
  },
  {
   "cell_type": "markdown",
   "metadata": {},
   "source": [
    "Предсказания:\n",
    "\n",
    "$$\n",
    "a = Xw\n",
    "$$\n",
    "\n",
    "Задача обучения:\n",
    "\n",
    "$$\n",
    "w = \\arg\\min_w MSE(Xw, y)\n",
    "$$\n",
    "\n",
    "Формула обучения:\n",
    "\n",
    "$$\n",
    "w = (X^T X)^{-1} X^T y\n",
    "$$"
   ]
  },
  {
   "cell_type": "markdown",
   "metadata": {},
   "source": [
    "**Признаки умножают на обратимую матрицу. Изменится ли качество линейной регрессии?**  \n",
    "\n",
    "**Ответ:** Качество не изменится.\n",
    "\n",
    "**Обоснование:** \n",
    "\n",
    "В доказательстве будем применять следующие свойства операций над матрицами:  \n",
    "\n",
    "   1. $ AA^{-1}=E $\n",
    "   2. $ (AB)^T = B^T A^T $\n",
    "   3. $(AB)^{-1} = B^{-1} A^{-1} $ \n",
    "   \n",
    "Последнее свойство применимо для квадратных матриц. Матрица P обратимая, соответвенно квадратная (как и $ P^T $).  \n",
    "Матрица $ X^TX $ также будет являться квадратной.\n",
    "\n",
    "Доказательство:\n",
    "\n",
    "$$\n",
    "a' = X'w'\n",
    "$$\n",
    "\n",
    "$$\n",
    "a'= XPw' = XP ((XP)^T XP)^{-1} (XP)^T y = \\\\ \n",
    "= XP (P^T X ^T X P)^{-1} P^T X^T y = XP P^{-1} (P^T X^T X)^{-1} P^T X^T y = \\\\ \n",
    "= XP P^{-1} (X^T X)^{-1} (P^T)^{-1} P^T X^T y = X E (X^TX)^{-1} E X^T y = \\\\ = X (X^TX)^{-1}X^Ty = Xw = a\n",
    "$$\n"
   ]
  },
  {
   "cell_type": "markdown",
   "metadata": {},
   "source": [
    "Посмотрим, как связаны параметры линейной регрессии в исходной задаче и преобразованной. Найдем соотношение $w$ и $w'$.\n",
    "\n",
    "$$\n",
    "w = (X^T X)^{-1} X^T y\n",
    "$$\n",
    "\n",
    "$$\n",
    "w' = ((XP)^T XP)^{-1} (XP)^T y = \\\\\n",
    "= (P^T X ^T X P)^{-1} P^T X^T y = P^{-1} (P^T X^T X)^{-1} P^T X^T y = \\\\ \n",
    "= P^{-1}(X^T X)^{-1}(P^T)^{-1}P^T X^T y = P^{-1}(X^T X)^{-1}E X^T y = P^{-1}(X^T X)^{-1} X^T y = P^{-1}w\n",
    "$$\n",
    "\n",
    "$$\n",
    "w' = P^{-1}w\n",
    "$$\n"
   ]
  },
  {
   "cell_type": "markdown",
   "metadata": {},
   "source": [
    "<div class=\"alert alert-info\"> \n",
    "<b> ВЫВОД:</b>\n",
    "\n",
    "Таким образом, для защиты данных клиентов можно использовать умножение матрицы признаков на произвольную обратимую матрицу. \n",
    "При использовании данного метода не должно ухудшаться качество моделей машинного обучения.\n",
    "\n",
    "Напишем и протестируем алгоритм преобразования далее.\n",
    "</div>"
   ]
  },
  {
   "cell_type": "markdown",
   "metadata": {},
   "source": [
    "## Алгоритм преобразования"
   ]
  },
  {
   "cell_type": "markdown",
   "metadata": {},
   "source": [
    "**Алгоритм**\n",
    "\n",
    "1. Создается произвольная квадратная матрица размерностью, равной количеству признаков в модели.\n",
    "2. Матрица проверяется на обратимость\n",
    "3. Если матрица необратима, то повторяются пункты 1,2 до тех пор, пока не будет найдена обратимая матрица\n",
    "4. Матрица признаков модели умножается на найденную ранее произвольную обратимую матрицу."
   ]
  },
  {
   "cell_type": "markdown",
   "metadata": {},
   "source": [
    "**Обоснование**\n",
    "\n",
    "Данный алгоритм будет работать согласно доказательству, приведенному в исследовании выше. Умножение матрицы признаков на произвольную обратимую матрицу не скажется на качестве модели регрессии, но позволит закодировать данные клиентов компании."
   ]
  },
  {
   "cell_type": "markdown",
   "metadata": {},
   "source": [
    "## Проверка алгоритма"
   ]
  },
  {
   "cell_type": "markdown",
   "metadata": {},
   "source": [
    "Создадим произвольную квадратную матрицу размерностью, равной количеству признаков, то есть в данном случае 4х4. Проверим ее на обратимость. Если матрица проходит проверку, то используем ее. Если нет, генерируем новую матрицу, до тех пор пока не найдем подходящую матрицу."
   ]
  },
  {
   "cell_type": "code",
   "execution_count": 9,
   "metadata": {},
   "outputs": [],
   "source": [
    "def create_matrix(mean, std, n):\n",
    "    matrix = np.random.normal(mean, std, (n, n))\n",
    "    det = np.linalg.det(matrix)\n",
    "    while det == 0:\n",
    "        matrix = np.random.normal(mean, std, (n, n))\n",
    "        det = np.linalg.det(matrix)\n",
    "    return matrix"
   ]
  },
  {
   "cell_type": "code",
   "execution_count": 10,
   "metadata": {},
   "outputs": [
    {
     "data": {
      "text/plain": [
       "array([[2.97786498, 1.7567967 , 2.15885101, 3.23619155],\n",
       "       [2.44175558, 3.55375468, 2.61656919, 2.69415045],\n",
       "       [2.21464729, 2.42224948, 3.48321526, 3.10085157],\n",
       "       [1.92618925, 2.20954552, 3.78175624, 3.25358441]])"
      ]
     },
     "execution_count": 10,
     "metadata": {},
     "output_type": "execute_result"
    }
   ],
   "source": [
    "matrix = create_matrix(3,1,4)\n",
    "matrix"
   ]
  },
  {
   "cell_type": "markdown",
   "metadata": {},
   "source": [
    "Выделим признаки и целевое значение."
   ]
  },
  {
   "cell_type": "code",
   "execution_count": 11,
   "metadata": {},
   "outputs": [],
   "source": [
    "features = data.drop(['Страховые выплаты'], axis = 1)\n",
    "\n",
    "target = data['Страховые выплаты']"
   ]
  },
  {
   "cell_type": "markdown",
   "metadata": {},
   "source": [
    "Разделим выборку на обучающую и тестовую в соотношении 75%:25%."
   ]
  },
  {
   "cell_type": "code",
   "execution_count": 12,
   "metadata": {},
   "outputs": [],
   "source": [
    "features_train, features_test, target_train, target_test = train_test_split(features, target, test_size = 0.25,\\\n",
    "                                                                            random_state = 1234)"
   ]
  },
  {
   "cell_type": "markdown",
   "metadata": {},
   "source": [
    "Обучим модель линейной регрессии на имеющихся данных, затем получим предсказания на тестовых данных и подсчитаем метрику r2."
   ]
  },
  {
   "cell_type": "code",
   "execution_count": 13,
   "metadata": {},
   "outputs": [],
   "source": [
    "model = LinearRegression()"
   ]
  },
  {
   "cell_type": "code",
   "execution_count": 14,
   "metadata": {},
   "outputs": [
    {
     "name": "stdout",
     "output_type": "stream",
     "text": [
      "Коэффициент детерминации на обычных данных = 0.42496205427835687\n"
     ]
    }
   ],
   "source": [
    "model.fit(features_train, target_train)\n",
    "predictions = model.predict(features_test)\n",
    "r2 = r2_score(target_test, predictions)\n",
    "print('Коэффициент детерминации на обычных данных =', r2)"
   ]
  },
  {
   "cell_type": "markdown",
   "metadata": {},
   "source": [
    "Закодируем данные путем умножения матрицы признаков (features_train и features_test) на произвольную обратимую матрицу (matrix).\n",
    "Затем заново обучим линейную регрессию и рассчитаем r2."
   ]
  },
  {
   "cell_type": "code",
   "execution_count": 15,
   "metadata": {},
   "outputs": [],
   "source": [
    "features_train_new = np.dot(features_train, matrix)\n",
    "features_test_new = np.dot(features_test, matrix)"
   ]
  },
  {
   "cell_type": "code",
   "execution_count": 16,
   "metadata": {},
   "outputs": [
    {
     "name": "stdout",
     "output_type": "stream",
     "text": [
      "Коэффициент детерминации на закодированных данных = 0.424962054278345\n"
     ]
    }
   ],
   "source": [
    "model.fit(features_train_new, target_train)\n",
    "predictions_new = model.predict(features_test_new)\n",
    "r2_new = r2_score(target_test, predictions_new)\n",
    "print('Коэффициент детерминации на закодированных данных =', r2_new)"
   ]
  },
  {
   "cell_type": "markdown",
   "metadata": {},
   "source": [
    "<div class=\"alert alert-info\"> \n",
    "<b> ВЫВОД:</b>\n",
    "Алгоритм кодирования данных путем умножения матрицы признаков на произвольную обратимую матрицу успешно работает, \n",
    "качество линейной регрессии не ухудшается.\n",
    "Таким образом, данный метод может успешно применяться с целью защиты исходных данных клиентов.\n",
    "</div>"
   ]
  },
  {
   "cell_type": "markdown",
   "metadata": {},
   "source": [
    "## Итоговый вывод\n",
    "    "
   ]
  },
  {
   "cell_type": "markdown",
   "metadata": {},
   "source": [
    "В ходе проекта были выполнены <b> следующие шаги </b>:\n",
    "    \n",
    "  \n",
    "  1. Загружены и проанализированы имеющиеся данные.\n",
    "  2. Приведено точное математическое доказательство взаимосвязи \n",
    "  коэффициентов линейной регрессии при умножении матрицы \n",
    "  признаков на произвольную обратимую матрицу.\n",
    "  3. Создан алгоритм кодирования данных.\n",
    "  4. Алгоритм проверен на модели линейной регрессии, его можно успешно применять.\n",
    "    \n",
    "<b> Целью проекта </b> была разработка такого метода преобразования данных, \n",
    "чтобы по ним было сложно восстановить персональную информацию и чтобы при преобразовании качество моделей машинного обучения не ухудшилось.\n",
    "\n",
    "Таким методом может является умножение матрицы признаков на произвольную обратимую матрицу.\n",
    "\n",
    "Чтобы восстановить перноначальные данные, нужно знать матрицу-ключ и умножить данные на матрицу, обратную матрице-ключу.\n",
    "\n",
    "<b> Основное преимущество данного метода </b> - это простота и понятность, <b>недостатки</b> могут возникнуть при работе с большим количеством признаков,\n",
    "в этом случае придется генерировать матрицу-ключ большого размера, и проверять ее на вырожденность станет сложнее."
   ]
  },
  {
   "cell_type": "markdown",
   "metadata": {},
   "source": []
  },
  {
   "cell_type": "markdown",
   "metadata": {},
   "source": [
    "## Чек-лист проверки"
   ]
  },
  {
   "cell_type": "markdown",
   "metadata": {},
   "source": [
    "Поставьте 'x' в выполненных пунктах. Далее нажмите Shift+Enter."
   ]
  },
  {
   "cell_type": "markdown",
   "metadata": {},
   "source": [
    "- [x]  Jupyter Notebook открыт\n",
    "- [x]  Весь код выполняется без ошибок\n",
    "- [x]  Ячейки с кодом расположены в порядке исполнения\n",
    "- [x]  Выполнен шаг 1: данные загружены\n",
    "- [x]  Выполнен шаг 2: получен ответ на вопрос об умножении матриц\n",
    "    - [x]  Указан правильный вариант ответа\n",
    "    - [x]  Вариант обоснован\n",
    "- [x]  Выполнен шаг 3: предложен алгоритм преобразования\n",
    "    - [x]  Алгоритм описан\n",
    "    - [x]  Алгоритм обоснован\n",
    "- [x]  Выполнен шаг 4: алгоритм проверен\n",
    "    - [x]  Алгоритм реализован\n",
    "    - [x]  Проведено сравнение качества моделей до и после преобразования"
   ]
  },
  {
   "cell_type": "code",
   "execution_count": null,
   "metadata": {},
   "outputs": [],
   "source": []
  }
 ],
 "metadata": {
  "ExecuteTimeLog": [
   {
    "duration": 1935,
    "start_time": "2023-01-18T06:54:29.643Z"
   },
   {
    "duration": 160,
    "start_time": "2023-01-18T06:54:31.580Z"
   },
   {
    "duration": 17,
    "start_time": "2023-01-18T06:54:31.742Z"
   },
   {
    "duration": 12,
    "start_time": "2023-01-18T06:54:31.761Z"
   },
   {
    "duration": 6,
    "start_time": "2023-01-18T06:54:31.774Z"
   },
   {
    "duration": 12,
    "start_time": "2023-01-18T06:54:31.781Z"
   },
   {
    "duration": 26,
    "start_time": "2023-01-18T06:54:31.795Z"
   },
   {
    "duration": 3,
    "start_time": "2023-01-18T06:54:31.822Z"
   },
   {
    "duration": 8,
    "start_time": "2023-01-18T06:54:31.826Z"
   },
   {
    "duration": 8,
    "start_time": "2023-01-18T06:54:31.836Z"
   },
   {
    "duration": 16,
    "start_time": "2023-01-18T06:54:31.846Z"
   },
   {
    "duration": 4,
    "start_time": "2023-01-18T06:54:31.864Z"
   },
   {
    "duration": 12,
    "start_time": "2023-01-18T06:54:31.870Z"
   },
   {
    "duration": 15,
    "start_time": "2023-01-18T06:54:31.883Z"
   },
   {
    "duration": 7,
    "start_time": "2023-01-18T06:54:31.899Z"
   },
   {
    "duration": 51,
    "start_time": "2023-01-19T20:26:04.689Z"
   },
   {
    "duration": 46,
    "start_time": "2023-01-19T20:29:30.306Z"
   },
   {
    "duration": 1015,
    "start_time": "2023-01-19T20:29:37.640Z"
   },
   {
    "duration": 59,
    "start_time": "2023-01-19T20:29:38.658Z"
   },
   {
    "duration": 20,
    "start_time": "2023-01-19T20:29:38.719Z"
   },
   {
    "duration": 12,
    "start_time": "2023-01-19T20:29:38.741Z"
   },
   {
    "duration": 10,
    "start_time": "2023-01-19T20:29:38.755Z"
   },
   {
    "duration": 7,
    "start_time": "2023-01-19T20:29:38.767Z"
   },
   {
    "duration": 33,
    "start_time": "2023-01-19T20:29:38.776Z"
   },
   {
    "duration": 9,
    "start_time": "2023-01-19T20:29:38.811Z"
   },
   {
    "duration": 4,
    "start_time": "2023-01-19T20:29:38.821Z"
   },
   {
    "duration": 13,
    "start_time": "2023-01-19T20:29:38.826Z"
   },
   {
    "duration": 12,
    "start_time": "2023-01-19T20:29:38.841Z"
   },
   {
    "duration": 12,
    "start_time": "2023-01-19T20:29:38.855Z"
   },
   {
    "duration": 9,
    "start_time": "2023-01-19T20:29:38.868Z"
   },
   {
    "duration": 10,
    "start_time": "2023-01-19T20:29:38.891Z"
   },
   {
    "duration": 18,
    "start_time": "2023-01-19T20:29:38.902Z"
   },
   {
    "duration": 7,
    "start_time": "2023-01-19T20:29:38.922Z"
   },
   {
    "duration": 52,
    "start_time": "2023-01-19T20:34:34.654Z"
   },
   {
    "duration": 47,
    "start_time": "2023-01-19T20:36:44.032Z"
   },
   {
    "duration": 46,
    "start_time": "2023-01-19T20:37:46.726Z"
   },
   {
    "duration": 1148,
    "start_time": "2023-01-19T20:38:09.787Z"
   },
   {
    "duration": 55,
    "start_time": "2023-01-19T20:38:10.937Z"
   },
   {
    "duration": 18,
    "start_time": "2023-01-19T20:38:10.993Z"
   },
   {
    "duration": 11,
    "start_time": "2023-01-19T20:38:11.013Z"
   },
   {
    "duration": 12,
    "start_time": "2023-01-19T20:38:11.026Z"
   },
   {
    "duration": 28,
    "start_time": "2023-01-19T20:38:11.039Z"
   },
   {
    "duration": 37,
    "start_time": "2023-01-19T20:38:11.068Z"
   },
   {
    "duration": 16,
    "start_time": "2023-01-19T20:38:11.108Z"
   },
   {
    "duration": 4,
    "start_time": "2023-01-19T20:38:11.126Z"
   },
   {
    "duration": 12,
    "start_time": "2023-01-19T20:38:11.132Z"
   },
   {
    "duration": 8,
    "start_time": "2023-01-19T20:38:11.145Z"
   },
   {
    "duration": 9,
    "start_time": "2023-01-19T20:38:11.155Z"
   },
   {
    "duration": 3,
    "start_time": "2023-01-19T20:38:11.165Z"
   },
   {
    "duration": 23,
    "start_time": "2023-01-19T20:38:11.170Z"
   },
   {
    "duration": 5,
    "start_time": "2023-01-19T20:38:11.195Z"
   },
   {
    "duration": 11,
    "start_time": "2023-01-19T20:38:11.202Z"
   }
  ],
  "kernelspec": {
   "display_name": "Python 3 (ipykernel)",
   "language": "python",
   "name": "python3"
  },
  "language_info": {
   "codemirror_mode": {
    "name": "ipython",
    "version": 3
   },
   "file_extension": ".py",
   "mimetype": "text/x-python",
   "name": "python",
   "nbconvert_exporter": "python",
   "pygments_lexer": "ipython3",
   "version": "3.9.12"
  },
  "toc": {
   "base_numbering": 1,
   "nav_menu": {},
   "number_sections": true,
   "sideBar": true,
   "skip_h1_title": true,
   "title_cell": "Содержание",
   "title_sidebar": "Contents",
   "toc_cell": true,
   "toc_position": {},
   "toc_section_display": true,
   "toc_window_display": false
  }
 },
 "nbformat": 4,
 "nbformat_minor": 2
}
