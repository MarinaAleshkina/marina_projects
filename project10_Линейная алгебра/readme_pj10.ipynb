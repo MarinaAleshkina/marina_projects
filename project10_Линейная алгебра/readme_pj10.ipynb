{
 "cells": [
  {
   "cell_type": "markdown",
   "id": "26f20c38",
   "metadata": {},
   "source": [
    "###  Данные\n",
    "В распоряжении данные клиентов страховой компании:\n",
    "- Пол\t\n",
    "- Возраст\t\n",
    "- Зарплата\t\n",
    "- Количество членов семьи\t\n",
    "- Были ли страховые выплаты\n",
    "\n",
    "### Задача\n",
    "Необходимо защитить данные клиентов страховой компании «Хоть потоп». \n",
    "Нужно разработать такой метод преобразования данных, чтобы по ним было сложно восстановить персональную информацию. Обосновать корректность его работы.\n",
    "\n",
    "### Используемые библиотеки\n",
    "pandas, numpy, sklearn"
   ]
  }
 ],
 "metadata": {
  "kernelspec": {
   "display_name": "Python 3 (ipykernel)",
   "language": "python",
   "name": "python3"
  },
  "language_info": {
   "codemirror_mode": {
    "name": "ipython",
    "version": 3
   },
   "file_extension": ".py",
   "mimetype": "text/x-python",
   "name": "python",
   "nbconvert_exporter": "python",
   "pygments_lexer": "ipython3",
   "version": "3.9.12"
  }
 },
 "nbformat": 4,
 "nbformat_minor": 5
}
