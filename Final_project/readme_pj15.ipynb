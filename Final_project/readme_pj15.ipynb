{
 "cells": [
  {
   "cell_type": "markdown",
   "id": "26f20c38",
   "metadata": {},
   "source": [
    "###  Данные\n",
    "Металлургический комбинат ООО «Так закаляем сталь» решил уменьшить потребление электроэнергии на этапе обработки стали. \n",
    "Данные состоят из файлов, полученных из разных источников:\n",
    "\n",
    "data_arc.csv — данные об электродах;\n",
    "data_bulk.csv — данные о подаче сыпучих материалов (объём);\n",
    "data_bulk_time.csv — данные о подаче сыпучих материалов (время);\n",
    "data_gas.csv — данные о продувке сплава газом;\n",
    "data_temp.csv — результаты измерения температуры;\n",
    "data_wire.csv — данные о проволочных материалах (объём);\n",
    "data_wire_time.csv — данные о проволочных материалах (время).\n",
    "Во всех файлах столбец key содержит номер партии. В файлах может быть несколько строк с одинаковым значением key: они соответствуют разным итерациям обработки.\n",
    "\n",
    "### Задача\n",
    "Необходимо построить модель, которая предскажет температуру стали, с целью оптимизации производственных издержек компании.\n",
    "\n",
    "\n",
    "### Используемые библиотеки\n",
    "pandas, matplotlib, numpy, sklearn, catboost, lightgbm"
   ]
  }
 ],
 "metadata": {
  "kernelspec": {
   "display_name": "Python 3 (ipykernel)",
   "language": "python",
   "name": "python3"
  },
  "language_info": {
   "codemirror_mode": {
    "name": "ipython",
    "version": 3
   },
   "file_extension": ".py",
   "mimetype": "text/x-python",
   "name": "python",
   "nbconvert_exporter": "python",
   "pygments_lexer": "ipython3",
   "version": "3.9.12"
  }
 },
 "nbformat": 4,
 "nbformat_minor": 5
}
