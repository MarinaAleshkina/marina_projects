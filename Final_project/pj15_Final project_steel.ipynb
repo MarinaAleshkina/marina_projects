{
 "cells": [
  {
   "cell_type": "markdown",
   "id": "92ce214b",
   "metadata": {},
   "source": [
    "## Задача\n",
    "Металлургический комбинат ООО «Так закаляем сталь» решил уменьшить потребление электроэнергии на этапе обработки стали.  Необходимо построить модель, которая предскажет температуру стали, с целью оптимизации производственных издержек компании.\n",
    "\n",
    "### Описание этапа обработки\n",
    "\n",
    "Сталь обрабатывают в металлическом ковше вместимостью около 100 тонн. Чтобы ковш выдерживал высокие температуры, изнутри его облицовывают огнеупорным кирпичом. Расплавленную сталь заливают в ковш и подогревают до нужной температуры графитовыми электродами. Они установлены в крышке ковша. \n",
    "\n",
    "Из сплава выводится сера (десульфурация), добавлением примесей корректируется химический состав и отбираются пробы. Сталь легируют — изменяют её состав — подавая куски сплава из бункера для сыпучих материалов или проволоку через специальный трайб-аппарат (англ. tribe, «масса»).\n",
    "\n",
    "Перед тем как первый раз ввести легирующие добавки, измеряют температуру стали и производят её химический анализ. Потом температуру на несколько минут повышают, добавляют легирующие материалы и продувают сплав инертным газом. Затем его перемешивают и снова проводят измерения. Такой цикл повторяется до достижения целевого химического состава и оптимальной температуры плавки.\n",
    "\n",
    "Тогда расплавленная сталь отправляется на доводку металла или поступает в машину непрерывной разливки. Оттуда готовый продукт выходит в виде заготовок-слябов (англ. *slab*, «плита»).\n",
    "\n",
    "### Данные\n",
    "Данные состоят из файлов, полученных из разных источников:\n",
    "\n",
    "- `data_arc.csv` — данные об электродах;\n",
    "- `data_bulk.csv` — данные о подаче сыпучих материалов (объём);\n",
    "- `data_bulk_time.csv` *—* данные о подаче сыпучих материалов (время);\n",
    "- `data_gas.csv` — данные о продувке сплава газом;\n",
    "- `data_temp.csv` — результаты измерения температуры;\n",
    "- `data_wire.csv` — данные о проволочных материалах (объём);\n",
    "- `data_wire_time.csv` — данные о проволочных материалах (время).\n",
    "\n",
    "Во всех файлах столбец `key` содержит номер партии. В файлах может быть несколько строк с одинаковым значением `key`: они соответствуют разным итерациям обработки.\n",
    "\n"
   ]
  },
  {
   "cell_type": "markdown",
   "id": "84c546d4",
   "metadata": {},
   "source": [
    "### План работы над проектом:\n",
    "\n",
    "<b> 1. Провести исследовательский анализ данных: </b>\n",
    "\n",
    "   - посмотреть на выборку данных по каждому из источников\n",
    "   - проверить форматы данных\n",
    "   - проверить наличие пропусков, аномалий и дубликатов\n",
    "   - посмотреть на статистические показатели количественных признаков\n",
    "   - выявить основные закономерности в данных\n",
    "   - визуализировать имеющиеся данные и закономерности в них\n",
    "   - сформулировать уточняющие вопросы по дальнейшим этапам\n",
    "    \n",
    "    \n",
    "<b> 2. Провести предобработку данных:</b>\n",
    "\n",
    "   - решить, как с наименьшими потерями обработать пропуски и аномалии\n",
    "   - отобрать признаки, которые будут информативными для дальнейшего моделирования\n",
    "   - возможно, удалить часть признаков или сгенерировать новые признаки на основе имеющихся\n",
    "   - соединить данные по ключевым признакам в единую таблицу\n",
    "   - для каждой партии построить технологический цикл обработки металла по временной шкале\n",
    "   - проверить признаки на наличие мультиколлинеарности\n",
    "   - разделить выборку на обучающую и тестовую части\n",
    "    \n",
    "    \n",
    "<b> 3. Машинное обучение</b>\n",
    "\n",
    "   - выбрать несколько моделей для решения задачи регрессии\n",
    "   - провести необходимую подготовку к моделированию при помощи выбранного регрессора (нормализация данных, например)\n",
    "   - подсчитать целевую метрику для каждой из моделей с использованием кросс-валидации и подбором гиперпараметров\n",
    "   - выбрать наилучшую модель по целевому показателю\n",
    "   - провести анализ важности признаков у модели-победителя\n",
    "   \n",
    "\n",
    "\n",
    "<b> 4. Тестирование модели:</b>\n",
    "   - наилучшую модель на обучающей выборке использовать на тестовой части данных\n",
    "   - сравнить показатель тестовой выборки с baseline моделью\n",
    "   - сформулировать вывод\n",
    "\n",
    "\n",
    "<b> 5. Отчет:</b>\n",
    "   - написать отчет о проделанной работе с подробными выводами о рекоммендациями в соотвествии с поставленной в начале проекта целью\n",
    "    "
   ]
  },
  {
   "cell_type": "markdown",
   "id": "b8dc8e79",
   "metadata": {},
   "source": [
    "## Исследовательский анализ данных."
   ]
  },
  {
   "cell_type": "markdown",
   "id": "2c7e33eb",
   "metadata": {},
   "source": [
    "Загрузим необходимые библиотеки для исследовательского анализа и предобработки имеющихся данных."
   ]
  },
  {
   "cell_type": "code",
   "execution_count": 1,
   "id": "83c02450",
   "metadata": {},
   "outputs": [],
   "source": [
    "import pandas as pd\n",
    "import matplotlib.pyplot as plt\n",
    "import numpy as np"
   ]
  },
  {
   "cell_type": "markdown",
   "id": "27228c86",
   "metadata": {},
   "source": [
    "### Данные об электродах"
   ]
  },
  {
   "cell_type": "code",
   "execution_count": 2,
   "id": "218f1940",
   "metadata": {},
   "outputs": [],
   "source": [
    "try:\n",
    "    data_arc = pd.read_csv(r'C:\\Users\\Марина\\Downloads\\final_steel\\final_steel\\data_arc.csv')\n",
    "except:\n",
    "    data_arc = pd.read_csv('/datasets/final_steel/data_arc.csv')"
   ]
  },
  {
   "cell_type": "code",
   "execution_count": 3,
   "id": "a7f82415",
   "metadata": {},
   "outputs": [
    {
     "data": {
      "text/html": [
       "<div>\n",
       "<style scoped>\n",
       "    .dataframe tbody tr th:only-of-type {\n",
       "        vertical-align: middle;\n",
       "    }\n",
       "\n",
       "    .dataframe tbody tr th {\n",
       "        vertical-align: top;\n",
       "    }\n",
       "\n",
       "    .dataframe thead th {\n",
       "        text-align: right;\n",
       "    }\n",
       "</style>\n",
       "<table border=\"1\" class=\"dataframe\">\n",
       "  <thead>\n",
       "    <tr style=\"text-align: right;\">\n",
       "      <th></th>\n",
       "      <th>key</th>\n",
       "      <th>Начало нагрева дугой</th>\n",
       "      <th>Конец нагрева дугой</th>\n",
       "      <th>Активная мощность</th>\n",
       "      <th>Реактивная мощность</th>\n",
       "    </tr>\n",
       "  </thead>\n",
       "  <tbody>\n",
       "    <tr>\n",
       "      <th>14094</th>\n",
       "      <td>3064</td>\n",
       "      <td>2019-08-26 12:08:29</td>\n",
       "      <td>2019-08-26 12:11:42</td>\n",
       "      <td>0.656645</td>\n",
       "      <td>0.510317</td>\n",
       "    </tr>\n",
       "    <tr>\n",
       "      <th>14810</th>\n",
       "      <td>3226</td>\n",
       "      <td>2019-08-31 16:00:42</td>\n",
       "      <td>2019-08-31 16:02:49</td>\n",
       "      <td>0.578378</td>\n",
       "      <td>0.378031</td>\n",
       "    </tr>\n",
       "    <tr>\n",
       "      <th>13537</th>\n",
       "      <td>2938</td>\n",
       "      <td>2019-08-22 01:26:36</td>\n",
       "      <td>2019-08-22 01:31:02</td>\n",
       "      <td>1.152435</td>\n",
       "      <td>0.854794</td>\n",
       "    </tr>\n",
       "    <tr>\n",
       "      <th>5534</th>\n",
       "      <td>1203</td>\n",
       "      <td>2019-06-15 22:47:02</td>\n",
       "      <td>2019-06-15 22:54:00</td>\n",
       "      <td>1.814637</td>\n",
       "      <td>1.310490</td>\n",
       "    </tr>\n",
       "    <tr>\n",
       "      <th>7550</th>\n",
       "      <td>1643</td>\n",
       "      <td>2019-07-01 03:22:58</td>\n",
       "      <td>2019-07-01 03:25:10</td>\n",
       "      <td>0.511314</td>\n",
       "      <td>0.396548</td>\n",
       "    </tr>\n",
       "    <tr>\n",
       "      <th>4135</th>\n",
       "      <td>890</td>\n",
       "      <td>2019-06-05 05:43:52</td>\n",
       "      <td>2019-06-05 05:45:57</td>\n",
       "      <td>0.428124</td>\n",
       "      <td>0.354508</td>\n",
       "    </tr>\n",
       "    <tr>\n",
       "      <th>12373</th>\n",
       "      <td>2689</td>\n",
       "      <td>2019-08-12 19:28:59</td>\n",
       "      <td>2019-08-12 19:31:12</td>\n",
       "      <td>0.502196</td>\n",
       "      <td>0.367265</td>\n",
       "    </tr>\n",
       "    <tr>\n",
       "      <th>3057</th>\n",
       "      <td>663</td>\n",
       "      <td>2019-05-27 23:00:21</td>\n",
       "      <td>2019-05-27 23:03:27</td>\n",
       "      <td>0.810008</td>\n",
       "      <td>0.599180</td>\n",
       "    </tr>\n",
       "    <tr>\n",
       "      <th>2061</th>\n",
       "      <td>443</td>\n",
       "      <td>2019-05-19 17:49:14</td>\n",
       "      <td>2019-05-19 17:50:37</td>\n",
       "      <td>0.279523</td>\n",
       "      <td>0.182081</td>\n",
       "    </tr>\n",
       "    <tr>\n",
       "      <th>240</th>\n",
       "      <td>51</td>\n",
       "      <td>2019-05-05 06:01:34</td>\n",
       "      <td>2019-05-05 06:09:39</td>\n",
       "      <td>2.152518</td>\n",
       "      <td>1.434526</td>\n",
       "    </tr>\n",
       "    <tr>\n",
       "      <th>8662</th>\n",
       "      <td>1885</td>\n",
       "      <td>2019-07-09 11:47:51</td>\n",
       "      <td>2019-07-09 11:49:53</td>\n",
       "      <td>0.403864</td>\n",
       "      <td>0.303375</td>\n",
       "    </tr>\n",
       "    <tr>\n",
       "      <th>9124</th>\n",
       "      <td>1977</td>\n",
       "      <td>2019-07-18 19:11:15</td>\n",
       "      <td>2019-07-18 19:13:56</td>\n",
       "      <td>0.728817</td>\n",
       "      <td>0.486095</td>\n",
       "    </tr>\n",
       "    <tr>\n",
       "      <th>4636</th>\n",
       "      <td>1001</td>\n",
       "      <td>2019-06-09 01:39:55</td>\n",
       "      <td>2019-06-09 01:42:04</td>\n",
       "      <td>0.446005</td>\n",
       "      <td>0.293166</td>\n",
       "    </tr>\n",
       "    <tr>\n",
       "      <th>6470</th>\n",
       "      <td>1408</td>\n",
       "      <td>2019-06-23 02:50:43</td>\n",
       "      <td>2019-06-23 02:52:57</td>\n",
       "      <td>0.495795</td>\n",
       "      <td>0.436362</td>\n",
       "    </tr>\n",
       "    <tr>\n",
       "      <th>12870</th>\n",
       "      <td>2799</td>\n",
       "      <td>2019-08-17 00:44:44</td>\n",
       "      <td>2019-08-17 00:50:42</td>\n",
       "      <td>1.196122</td>\n",
       "      <td>0.905610</td>\n",
       "    </tr>\n",
       "  </tbody>\n",
       "</table>\n",
       "</div>"
      ],
      "text/plain": [
       "        key Начало нагрева дугой  Конец нагрева дугой  Активная мощность  \\\n",
       "14094  3064  2019-08-26 12:08:29  2019-08-26 12:11:42           0.656645   \n",
       "14810  3226  2019-08-31 16:00:42  2019-08-31 16:02:49           0.578378   \n",
       "13537  2938  2019-08-22 01:26:36  2019-08-22 01:31:02           1.152435   \n",
       "5534   1203  2019-06-15 22:47:02  2019-06-15 22:54:00           1.814637   \n",
       "7550   1643  2019-07-01 03:22:58  2019-07-01 03:25:10           0.511314   \n",
       "4135    890  2019-06-05 05:43:52  2019-06-05 05:45:57           0.428124   \n",
       "12373  2689  2019-08-12 19:28:59  2019-08-12 19:31:12           0.502196   \n",
       "3057    663  2019-05-27 23:00:21  2019-05-27 23:03:27           0.810008   \n",
       "2061    443  2019-05-19 17:49:14  2019-05-19 17:50:37           0.279523   \n",
       "240      51  2019-05-05 06:01:34  2019-05-05 06:09:39           2.152518   \n",
       "8662   1885  2019-07-09 11:47:51  2019-07-09 11:49:53           0.403864   \n",
       "9124   1977  2019-07-18 19:11:15  2019-07-18 19:13:56           0.728817   \n",
       "4636   1001  2019-06-09 01:39:55  2019-06-09 01:42:04           0.446005   \n",
       "6470   1408  2019-06-23 02:50:43  2019-06-23 02:52:57           0.495795   \n",
       "12870  2799  2019-08-17 00:44:44  2019-08-17 00:50:42           1.196122   \n",
       "\n",
       "       Реактивная мощность  \n",
       "14094             0.510317  \n",
       "14810             0.378031  \n",
       "13537             0.854794  \n",
       "5534              1.310490  \n",
       "7550              0.396548  \n",
       "4135              0.354508  \n",
       "12373             0.367265  \n",
       "3057              0.599180  \n",
       "2061              0.182081  \n",
       "240               1.434526  \n",
       "8662              0.303375  \n",
       "9124              0.486095  \n",
       "4636              0.293166  \n",
       "6470              0.436362  \n",
       "12870             0.905610  "
      ]
     },
     "execution_count": 3,
     "metadata": {},
     "output_type": "execute_result"
    }
   ],
   "source": [
    "data_arc.sample(15)"
   ]
  },
  {
   "cell_type": "code",
   "execution_count": 4,
   "id": "c51b7290",
   "metadata": {},
   "outputs": [
    {
     "name": "stdout",
     "output_type": "stream",
     "text": [
      "<class 'pandas.core.frame.DataFrame'>\n",
      "RangeIndex: 14876 entries, 0 to 14875\n",
      "Data columns (total 5 columns):\n",
      " #   Column                Non-Null Count  Dtype  \n",
      "---  ------                --------------  -----  \n",
      " 0   key                   14876 non-null  int64  \n",
      " 1   Начало нагрева дугой  14876 non-null  object \n",
      " 2   Конец нагрева дугой   14876 non-null  object \n",
      " 3   Активная мощность     14876 non-null  float64\n",
      " 4   Реактивная мощность   14876 non-null  float64\n",
      "dtypes: float64(2), int64(1), object(2)\n",
      "memory usage: 581.2+ KB\n"
     ]
    }
   ],
   "source": [
    "data_arc.info()"
   ]
  },
  {
   "cell_type": "markdown",
   "id": "c7d632b6",
   "metadata": {},
   "source": [
    "Данные о времени хранятся в неверном формате. Проверим наличие пропусков."
   ]
  },
  {
   "cell_type": "code",
   "execution_count": 5,
   "id": "376f48b5",
   "metadata": {},
   "outputs": [
    {
     "data": {
      "text/plain": [
       "key                     0\n",
       "Начало нагрева дугой    0\n",
       "Конец нагрева дугой     0\n",
       "Активная мощность       0\n",
       "Реактивная мощность     0\n",
       "dtype: int64"
      ]
     },
     "execution_count": 5,
     "metadata": {},
     "output_type": "execute_result"
    }
   ],
   "source": [
    "data_arc.isna().sum()"
   ]
  },
  {
   "cell_type": "markdown",
   "id": "14e8a1e6",
   "metadata": {},
   "source": [
    "Пропусков нет. Посмотрим наличие дубликатов."
   ]
  },
  {
   "cell_type": "code",
   "execution_count": 6,
   "id": "d92239bf",
   "metadata": {},
   "outputs": [
    {
     "data": {
      "text/plain": [
       "0"
      ]
     },
     "execution_count": 6,
     "metadata": {},
     "output_type": "execute_result"
    }
   ],
   "source": [
    "data_arc.duplicated().sum()"
   ]
  },
  {
   "cell_type": "markdown",
   "id": "cde0b390",
   "metadata": {},
   "source": [
    "Полностью дублирующихся строк нет, проверим статистику распределения данных активной и реативной мощности."
   ]
  },
  {
   "cell_type": "code",
   "execution_count": 7,
   "id": "e135a903",
   "metadata": {},
   "outputs": [
    {
     "data": {
      "text/html": [
       "<div>\n",
       "<style scoped>\n",
       "    .dataframe tbody tr th:only-of-type {\n",
       "        vertical-align: middle;\n",
       "    }\n",
       "\n",
       "    .dataframe tbody tr th {\n",
       "        vertical-align: top;\n",
       "    }\n",
       "\n",
       "    .dataframe thead th {\n",
       "        text-align: right;\n",
       "    }\n",
       "</style>\n",
       "<table border=\"1\" class=\"dataframe\">\n",
       "  <thead>\n",
       "    <tr style=\"text-align: right;\">\n",
       "      <th></th>\n",
       "      <th>key</th>\n",
       "      <th>Активная мощность</th>\n",
       "      <th>Реактивная мощность</th>\n",
       "    </tr>\n",
       "  </thead>\n",
       "  <tbody>\n",
       "    <tr>\n",
       "      <th>count</th>\n",
       "      <td>14876.000000</td>\n",
       "      <td>14876.000000</td>\n",
       "      <td>14876.000000</td>\n",
       "    </tr>\n",
       "    <tr>\n",
       "      <th>mean</th>\n",
       "      <td>1615.220422</td>\n",
       "      <td>0.670441</td>\n",
       "      <td>0.452592</td>\n",
       "    </tr>\n",
       "    <tr>\n",
       "      <th>std</th>\n",
       "      <td>934.571502</td>\n",
       "      <td>0.408159</td>\n",
       "      <td>5.878702</td>\n",
       "    </tr>\n",
       "    <tr>\n",
       "      <th>min</th>\n",
       "      <td>1.000000</td>\n",
       "      <td>0.030002</td>\n",
       "      <td>-715.504924</td>\n",
       "    </tr>\n",
       "    <tr>\n",
       "      <th>25%</th>\n",
       "      <td>806.000000</td>\n",
       "      <td>0.395297</td>\n",
       "      <td>0.290991</td>\n",
       "    </tr>\n",
       "    <tr>\n",
       "      <th>50%</th>\n",
       "      <td>1617.000000</td>\n",
       "      <td>0.555517</td>\n",
       "      <td>0.415962</td>\n",
       "    </tr>\n",
       "    <tr>\n",
       "      <th>75%</th>\n",
       "      <td>2429.000000</td>\n",
       "      <td>0.857034</td>\n",
       "      <td>0.637371</td>\n",
       "    </tr>\n",
       "    <tr>\n",
       "      <th>max</th>\n",
       "      <td>3241.000000</td>\n",
       "      <td>3.731596</td>\n",
       "      <td>2.676388</td>\n",
       "    </tr>\n",
       "  </tbody>\n",
       "</table>\n",
       "</div>"
      ],
      "text/plain": [
       "                key  Активная мощность  Реактивная мощность\n",
       "count  14876.000000       14876.000000         14876.000000\n",
       "mean    1615.220422           0.670441             0.452592\n",
       "std      934.571502           0.408159             5.878702\n",
       "min        1.000000           0.030002          -715.504924\n",
       "25%      806.000000           0.395297             0.290991\n",
       "50%     1617.000000           0.555517             0.415962\n",
       "75%     2429.000000           0.857034             0.637371\n",
       "max     3241.000000           3.731596             2.676388"
      ]
     },
     "execution_count": 7,
     "metadata": {},
     "output_type": "execute_result"
    }
   ],
   "source": [
    "data_arc.describe()"
   ]
  },
  {
   "cell_type": "markdown",
   "id": "49bfa421",
   "metadata": {},
   "source": [
    "В глаза бросается очень низкое отрицательное значение реактивной мощности. Посмотрим на диаграммы размаха мощностей и гистограммы их распределения."
   ]
  },
  {
   "cell_type": "code",
   "execution_count": 8,
   "id": "a02c533e",
   "metadata": {},
   "outputs": [
    {
     "data": {
      "image/png": "[encoded data removed]",
      "text/plain": [
       "<Figure size 1296x576 with 2 Axes>"
      ]
     },
     "metadata": {
      "needs_background": "light"
     },
     "output_type": "display_data"
    },
    {
     "data": {
      "image/png": "[encoded data removed]",
      "text/plain": [
       "<Figure size 1296x576 with 2 Axes>"
      ]
     },
     "metadata": {
      "needs_background": "light"
     },
     "output_type": "display_data"
    }
   ],
   "source": [
    "list = ['Активная мощность', 'Реактивная мощность']\n",
    "for column in list:\n",
    "    fig, ax = plt.subplots(1,2, figsize=(18,8))\n",
    "    data_arc[column].plot(kind='hist', title = column, ylabel = 'frequency', bins=100,grid=True, ax=ax[0])   \n",
    "    data_arc[column].plot(kind = 'box', title= column, grid=True,ax=ax[1])\n",
    "    plt.show()"
   ]
  },
  {
   "cell_type": "markdown",
   "id": "c0a0be47",
   "metadata": {},
   "source": [
    "Единственное отрицательное значение реактивной мощности можно отнести к выбросу в данных. Предлагается удалить целиком данные о партии с имеющимся аномальным значением. Построим графики для реактивной мощностей без аномально низких измерений."
   ]
  },
  {
   "cell_type": "code",
   "execution_count": 9,
   "id": "012a7462",
   "metadata": {},
   "outputs": [
    {
     "data": {
      "image/png": "[encoded data removed]",
      "text/plain": [
       "<Figure size 1296x576 with 2 Axes>"
      ]
     },
     "metadata": {
      "needs_background": "light"
     },
     "output_type": "display_data"
    }
   ],
   "source": [
    "fig, ax = plt.subplots(1,2, figsize=(18,8))\n",
    "data_arc[data_arc['Реактивная мощность']>0]['Реактивная мощность'].plot(kind='hist', title = column, ylabel = 'frequency', bins=100,grid=True, ax=ax[0])\n",
    "data_arc[data_arc['Реактивная мощность']>0]['Реактивная мощность'].plot(kind = 'box', title= column, grid=True,ax=ax[1])\n",
    "plt.show()\n"
   ]
  },
  {
   "cell_type": "markdown",
   "id": "42f9e7db",
   "metadata": {},
   "source": [
    "Распределение величин явлется нормальным скошенным влево.\n",
    "Проведем следующую предобработку данных:\n",
    "- приведем признаки к верному формату\n",
    "- переименуем названия столбцов"
   ]
  },
  {
   "cell_type": "code",
   "execution_count": 10,
   "id": "03391f73",
   "metadata": {},
   "outputs": [
    {
     "name": "stdout",
     "output_type": "stream",
     "text": [
      "<class 'pandas.core.frame.DataFrame'>\n",
      "RangeIndex: 14876 entries, 0 to 14875\n",
      "Data columns (total 5 columns):\n",
      " #   Column                Non-Null Count  Dtype         \n",
      "---  ------                --------------  -----         \n",
      " 0   key                   14876 non-null  int64         \n",
      " 1   Начало нагрева дугой  14876 non-null  datetime64[ns]\n",
      " 2   Конец нагрева дугой   14876 non-null  datetime64[ns]\n",
      " 3   Активная мощность     14876 non-null  float64       \n",
      " 4   Реактивная мощность   14876 non-null  float64       \n",
      "dtypes: datetime64[ns](2), float64(2), int64(1)\n",
      "memory usage: 581.2 KB\n"
     ]
    }
   ],
   "source": [
    "# Приведение данных к нужному формату\n",
    "\n",
    "data_arc['Начало нагрева дугой'] = pd.to_datetime(data_arc['Начало нагрева дугой'])\n",
    "data_arc['Конец нагрева дугой'] = pd.to_datetime(data_arc['Конец нагрева дугой'])\n",
    "data_arc.info()"
   ]
  },
  {
   "cell_type": "code",
   "execution_count": 11,
   "id": "c122a43e",
   "metadata": {},
   "outputs": [
    {
     "data": {
      "text/html": [
       "<div>\n",
       "<style scoped>\n",
       "    .dataframe tbody tr th:only-of-type {\n",
       "        vertical-align: middle;\n",
       "    }\n",
       "\n",
       "    .dataframe tbody tr th {\n",
       "        vertical-align: top;\n",
       "    }\n",
       "\n",
       "    .dataframe thead th {\n",
       "        text-align: right;\n",
       "    }\n",
       "</style>\n",
       "<table border=\"1\" class=\"dataframe\">\n",
       "  <thead>\n",
       "    <tr style=\"text-align: right;\">\n",
       "      <th></th>\n",
       "      <th>key</th>\n",
       "      <th>start_heat</th>\n",
       "      <th>end_heat</th>\n",
       "      <th>active_power</th>\n",
       "      <th>reactive_power</th>\n",
       "    </tr>\n",
       "  </thead>\n",
       "  <tbody>\n",
       "    <tr>\n",
       "      <th>0</th>\n",
       "      <td>1</td>\n",
       "      <td>2019-05-03 11:02:14</td>\n",
       "      <td>2019-05-03 11:06:02</td>\n",
       "      <td>0.976059</td>\n",
       "      <td>0.687084</td>\n",
       "    </tr>\n",
       "    <tr>\n",
       "      <th>1</th>\n",
       "      <td>1</td>\n",
       "      <td>2019-05-03 11:07:28</td>\n",
       "      <td>2019-05-03 11:10:33</td>\n",
       "      <td>0.805607</td>\n",
       "      <td>0.520285</td>\n",
       "    </tr>\n",
       "    <tr>\n",
       "      <th>2</th>\n",
       "      <td>1</td>\n",
       "      <td>2019-05-03 11:11:44</td>\n",
       "      <td>2019-05-03 11:14:36</td>\n",
       "      <td>0.744363</td>\n",
       "      <td>0.498805</td>\n",
       "    </tr>\n",
       "    <tr>\n",
       "      <th>3</th>\n",
       "      <td>1</td>\n",
       "      <td>2019-05-03 11:18:14</td>\n",
       "      <td>2019-05-03 11:24:19</td>\n",
       "      <td>1.659363</td>\n",
       "      <td>1.062669</td>\n",
       "    </tr>\n",
       "    <tr>\n",
       "      <th>4</th>\n",
       "      <td>1</td>\n",
       "      <td>2019-05-03 11:26:09</td>\n",
       "      <td>2019-05-03 11:28:37</td>\n",
       "      <td>0.692755</td>\n",
       "      <td>0.414397</td>\n",
       "    </tr>\n",
       "  </tbody>\n",
       "</table>\n",
       "</div>"
      ],
      "text/plain": [
       "   key          start_heat            end_heat  active_power  reactive_power\n",
       "0    1 2019-05-03 11:02:14 2019-05-03 11:06:02      0.976059        0.687084\n",
       "1    1 2019-05-03 11:07:28 2019-05-03 11:10:33      0.805607        0.520285\n",
       "2    1 2019-05-03 11:11:44 2019-05-03 11:14:36      0.744363        0.498805\n",
       "3    1 2019-05-03 11:18:14 2019-05-03 11:24:19      1.659363        1.062669\n",
       "4    1 2019-05-03 11:26:09 2019-05-03 11:28:37      0.692755        0.414397"
      ]
     },
     "execution_count": 11,
     "metadata": {},
     "output_type": "execute_result"
    }
   ],
   "source": [
    "# Переименование столбцов\n",
    "\n",
    "data_arc.columns = ['key', 'start_heat', 'end_heat', 'active_power', 'reactive_power']\n",
    "\n",
    "data_arc.head()"
   ]
  },
  {
   "cell_type": "markdown",
   "id": "bb80bddb",
   "metadata": {},
   "source": [
    "<div class=\"alert alert-success\" style=\"border-color: green; border-radius: 5px\">\n",
    "    <p><u><b>✅ КОММЕНТАРИЙ ТИМЛИДА</b></u></p>ОК"
   ]
  },
  {
   "cell_type": "markdown",
   "id": "ed9f14ea",
   "metadata": {},
   "source": [
    "Посмотрим, какое количество раз чаще всего партия подвергается нагреву."
   ]
  },
  {
   "cell_type": "code",
   "execution_count": 12,
   "id": "002b1152",
   "metadata": {},
   "outputs": [
    {
     "data": {
      "image/png": "[encoded data removed]",
      "text/plain": [
       "<Figure size 720x432 with 1 Axes>"
      ]
     },
     "metadata": {
      "needs_background": "light"
     },
     "output_type": "display_data"
    }
   ],
   "source": [
    "plt.figure(figsize=(10,6))\n",
    "plt.hist(data_arc.groupby('key')['active_power'].count(), bins=16)\n",
    "plt.grid()\n",
    "plt.xlabel('Количество нагревов')\n",
    "plt.ylabel('Частота')\n",
    "plt.title('Распределение количества нагревов партий металла')\n",
    "plt.show()\n"
   ]
  },
  {
   "cell_type": "markdown",
   "id": "b4f6d600",
   "metadata": {},
   "source": [
    "Чаще всего партию металла нагревают 4-5 раз."
   ]
  },
  {
   "cell_type": "markdown",
   "id": "aafe8a53",
   "metadata": {},
   "source": [
    "<b> ВЫВОД: Исследованы данные об электродах, есть информация о времени нагрева, а также об активной и реактивной мощности. \n",
    "    Отсутствуют пропуски, но есть аномальные значения и неверные форматы данных. Данные изучены, приведены к нужному формату.\n",
    "</b>"
   ]
  },
  {
   "cell_type": "markdown",
   "id": "f77aa576",
   "metadata": {},
   "source": [
    "### Данные о подаче сыпучих материалов (объём)"
   ]
  },
  {
   "cell_type": "code",
   "execution_count": 13,
   "id": "bed6164b",
   "metadata": {},
   "outputs": [],
   "source": [
    "try:\n",
    "    data_bulk = pd.read_csv(r'C:\\Users\\Марина\\Downloads\\final_steel\\final_steel\\data_bulk.csv')\n",
    "except:\n",
    "    data_bulk = pd.read_csv('/datasets/final_steel/data_bulk.csv')"
   ]
  },
  {
   "cell_type": "code",
   "execution_count": 14,
   "id": "f6578e55",
   "metadata": {},
   "outputs": [
    {
     "data": {
      "text/html": [
       "<div>\n",
       "<style scoped>\n",
       "    .dataframe tbody tr th:only-of-type {\n",
       "        vertical-align: middle;\n",
       "    }\n",
       "\n",
       "    .dataframe tbody tr th {\n",
       "        vertical-align: top;\n",
       "    }\n",
       "\n",
       "    .dataframe thead th {\n",
       "        text-align: right;\n",
       "    }\n",
       "</style>\n",
       "<table border=\"1\" class=\"dataframe\">\n",
       "  <thead>\n",
       "    <tr style=\"text-align: right;\">\n",
       "      <th></th>\n",
       "      <th>key</th>\n",
       "      <th>Bulk 1</th>\n",
       "      <th>Bulk 2</th>\n",
       "      <th>Bulk 3</th>\n",
       "      <th>Bulk 4</th>\n",
       "      <th>Bulk 5</th>\n",
       "      <th>Bulk 6</th>\n",
       "      <th>Bulk 7</th>\n",
       "      <th>Bulk 8</th>\n",
       "      <th>Bulk 9</th>\n",
       "      <th>Bulk 10</th>\n",
       "      <th>Bulk 11</th>\n",
       "      <th>Bulk 12</th>\n",
       "      <th>Bulk 13</th>\n",
       "      <th>Bulk 14</th>\n",
       "      <th>Bulk 15</th>\n",
       "    </tr>\n",
       "  </thead>\n",
       "  <tbody>\n",
       "    <tr>\n",
       "      <th>2119</th>\n",
       "      <td>2191</td>\n",
       "      <td>NaN</td>\n",
       "      <td>NaN</td>\n",
       "      <td>NaN</td>\n",
       "      <td>184.0</td>\n",
       "      <td>NaN</td>\n",
       "      <td>NaN</td>\n",
       "      <td>NaN</td>\n",
       "      <td>NaN</td>\n",
       "      <td>NaN</td>\n",
       "      <td>NaN</td>\n",
       "      <td>NaN</td>\n",
       "      <td>332.0</td>\n",
       "      <td>NaN</td>\n",
       "      <td>186.0</td>\n",
       "      <td>183.0</td>\n",
       "    </tr>\n",
       "    <tr>\n",
       "      <th>916</th>\n",
       "      <td>955</td>\n",
       "      <td>NaN</td>\n",
       "      <td>NaN</td>\n",
       "      <td>NaN</td>\n",
       "      <td>NaN</td>\n",
       "      <td>NaN</td>\n",
       "      <td>NaN</td>\n",
       "      <td>NaN</td>\n",
       "      <td>NaN</td>\n",
       "      <td>NaN</td>\n",
       "      <td>NaN</td>\n",
       "      <td>NaN</td>\n",
       "      <td>155.0</td>\n",
       "      <td>NaN</td>\n",
       "      <td>102.0</td>\n",
       "      <td>104.0</td>\n",
       "    </tr>\n",
       "    <tr>\n",
       "      <th>1676</th>\n",
       "      <td>1736</td>\n",
       "      <td>NaN</td>\n",
       "      <td>NaN</td>\n",
       "      <td>NaN</td>\n",
       "      <td>71.0</td>\n",
       "      <td>NaN</td>\n",
       "      <td>NaN</td>\n",
       "      <td>NaN</td>\n",
       "      <td>NaN</td>\n",
       "      <td>NaN</td>\n",
       "      <td>NaN</td>\n",
       "      <td>NaN</td>\n",
       "      <td>255.0</td>\n",
       "      <td>NaN</td>\n",
       "      <td>119.0</td>\n",
       "      <td>202.0</td>\n",
       "    </tr>\n",
       "    <tr>\n",
       "      <th>2731</th>\n",
       "      <td>2834</td>\n",
       "      <td>NaN</td>\n",
       "      <td>NaN</td>\n",
       "      <td>182.0</td>\n",
       "      <td>NaN</td>\n",
       "      <td>NaN</td>\n",
       "      <td>NaN</td>\n",
       "      <td>NaN</td>\n",
       "      <td>NaN</td>\n",
       "      <td>NaN</td>\n",
       "      <td>NaN</td>\n",
       "      <td>NaN</td>\n",
       "      <td>230.0</td>\n",
       "      <td>NaN</td>\n",
       "      <td>100.0</td>\n",
       "      <td>104.0</td>\n",
       "    </tr>\n",
       "    <tr>\n",
       "      <th>1531</th>\n",
       "      <td>1589</td>\n",
       "      <td>NaN</td>\n",
       "      <td>NaN</td>\n",
       "      <td>NaN</td>\n",
       "      <td>101.0</td>\n",
       "      <td>NaN</td>\n",
       "      <td>NaN</td>\n",
       "      <td>NaN</td>\n",
       "      <td>NaN</td>\n",
       "      <td>NaN</td>\n",
       "      <td>NaN</td>\n",
       "      <td>NaN</td>\n",
       "      <td>185.0</td>\n",
       "      <td>NaN</td>\n",
       "      <td>193.0</td>\n",
       "      <td>124.0</td>\n",
       "    </tr>\n",
       "    <tr>\n",
       "      <th>2246</th>\n",
       "      <td>2327</td>\n",
       "      <td>NaN</td>\n",
       "      <td>NaN</td>\n",
       "      <td>113.0</td>\n",
       "      <td>NaN</td>\n",
       "      <td>NaN</td>\n",
       "      <td>NaN</td>\n",
       "      <td>NaN</td>\n",
       "      <td>NaN</td>\n",
       "      <td>NaN</td>\n",
       "      <td>NaN</td>\n",
       "      <td>NaN</td>\n",
       "      <td>206.0</td>\n",
       "      <td>NaN</td>\n",
       "      <td>110.0</td>\n",
       "      <td>204.0</td>\n",
       "    </tr>\n",
       "    <tr>\n",
       "      <th>2372</th>\n",
       "      <td>2459</td>\n",
       "      <td>NaN</td>\n",
       "      <td>NaN</td>\n",
       "      <td>NaN</td>\n",
       "      <td>NaN</td>\n",
       "      <td>NaN</td>\n",
       "      <td>NaN</td>\n",
       "      <td>NaN</td>\n",
       "      <td>NaN</td>\n",
       "      <td>NaN</td>\n",
       "      <td>NaN</td>\n",
       "      <td>20.0</td>\n",
       "      <td>157.0</td>\n",
       "      <td>NaN</td>\n",
       "      <td>146.0</td>\n",
       "      <td>106.0</td>\n",
       "    </tr>\n",
       "    <tr>\n",
       "      <th>839</th>\n",
       "      <td>875</td>\n",
       "      <td>NaN</td>\n",
       "      <td>NaN</td>\n",
       "      <td>352.0</td>\n",
       "      <td>NaN</td>\n",
       "      <td>NaN</td>\n",
       "      <td>NaN</td>\n",
       "      <td>NaN</td>\n",
       "      <td>NaN</td>\n",
       "      <td>NaN</td>\n",
       "      <td>NaN</td>\n",
       "      <td>NaN</td>\n",
       "      <td>408.0</td>\n",
       "      <td>NaN</td>\n",
       "      <td>254.0</td>\n",
       "      <td>203.0</td>\n",
       "    </tr>\n",
       "    <tr>\n",
       "      <th>1281</th>\n",
       "      <td>1332</td>\n",
       "      <td>NaN</td>\n",
       "      <td>NaN</td>\n",
       "      <td>NaN</td>\n",
       "      <td>129.0</td>\n",
       "      <td>NaN</td>\n",
       "      <td>NaN</td>\n",
       "      <td>NaN</td>\n",
       "      <td>NaN</td>\n",
       "      <td>NaN</td>\n",
       "      <td>NaN</td>\n",
       "      <td>NaN</td>\n",
       "      <td>291.0</td>\n",
       "      <td>NaN</td>\n",
       "      <td>129.0</td>\n",
       "      <td>227.0</td>\n",
       "    </tr>\n",
       "    <tr>\n",
       "      <th>667</th>\n",
       "      <td>699</td>\n",
       "      <td>NaN</td>\n",
       "      <td>NaN</td>\n",
       "      <td>137.0</td>\n",
       "      <td>NaN</td>\n",
       "      <td>NaN</td>\n",
       "      <td>NaN</td>\n",
       "      <td>NaN</td>\n",
       "      <td>NaN</td>\n",
       "      <td>NaN</td>\n",
       "      <td>NaN</td>\n",
       "      <td>NaN</td>\n",
       "      <td>204.0</td>\n",
       "      <td>NaN</td>\n",
       "      <td>154.0</td>\n",
       "      <td>157.0</td>\n",
       "    </tr>\n",
       "    <tr>\n",
       "      <th>1653</th>\n",
       "      <td>1713</td>\n",
       "      <td>NaN</td>\n",
       "      <td>NaN</td>\n",
       "      <td>NaN</td>\n",
       "      <td>NaN</td>\n",
       "      <td>NaN</td>\n",
       "      <td>NaN</td>\n",
       "      <td>NaN</td>\n",
       "      <td>NaN</td>\n",
       "      <td>NaN</td>\n",
       "      <td>81.0</td>\n",
       "      <td>NaN</td>\n",
       "      <td>NaN</td>\n",
       "      <td>NaN</td>\n",
       "      <td>NaN</td>\n",
       "      <td>NaN</td>\n",
       "    </tr>\n",
       "    <tr>\n",
       "      <th>807</th>\n",
       "      <td>842</td>\n",
       "      <td>NaN</td>\n",
       "      <td>NaN</td>\n",
       "      <td>102.0</td>\n",
       "      <td>NaN</td>\n",
       "      <td>NaN</td>\n",
       "      <td>NaN</td>\n",
       "      <td>NaN</td>\n",
       "      <td>NaN</td>\n",
       "      <td>NaN</td>\n",
       "      <td>NaN</td>\n",
       "      <td>NaN</td>\n",
       "      <td>204.0</td>\n",
       "      <td>NaN</td>\n",
       "      <td>132.0</td>\n",
       "      <td>101.0</td>\n",
       "    </tr>\n",
       "    <tr>\n",
       "      <th>2349</th>\n",
       "      <td>2435</td>\n",
       "      <td>NaN</td>\n",
       "      <td>NaN</td>\n",
       "      <td>116.0</td>\n",
       "      <td>141.0</td>\n",
       "      <td>NaN</td>\n",
       "      <td>NaN</td>\n",
       "      <td>NaN</td>\n",
       "      <td>NaN</td>\n",
       "      <td>NaN</td>\n",
       "      <td>NaN</td>\n",
       "      <td>NaN</td>\n",
       "      <td>310.0</td>\n",
       "      <td>NaN</td>\n",
       "      <td>189.0</td>\n",
       "      <td>207.0</td>\n",
       "    </tr>\n",
       "    <tr>\n",
       "      <th>938</th>\n",
       "      <td>981</td>\n",
       "      <td>NaN</td>\n",
       "      <td>NaN</td>\n",
       "      <td>NaN</td>\n",
       "      <td>NaN</td>\n",
       "      <td>NaN</td>\n",
       "      <td>NaN</td>\n",
       "      <td>NaN</td>\n",
       "      <td>NaN</td>\n",
       "      <td>NaN</td>\n",
       "      <td>NaN</td>\n",
       "      <td>NaN</td>\n",
       "      <td>256.0</td>\n",
       "      <td>NaN</td>\n",
       "      <td>120.0</td>\n",
       "      <td>206.0</td>\n",
       "    </tr>\n",
       "    <tr>\n",
       "      <th>1200</th>\n",
       "      <td>1249</td>\n",
       "      <td>NaN</td>\n",
       "      <td>NaN</td>\n",
       "      <td>NaN</td>\n",
       "      <td>105.0</td>\n",
       "      <td>NaN</td>\n",
       "      <td>NaN</td>\n",
       "      <td>NaN</td>\n",
       "      <td>NaN</td>\n",
       "      <td>NaN</td>\n",
       "      <td>NaN</td>\n",
       "      <td>NaN</td>\n",
       "      <td>NaN</td>\n",
       "      <td>NaN</td>\n",
       "      <td>NaN</td>\n",
       "      <td>NaN</td>\n",
       "    </tr>\n",
       "  </tbody>\n",
       "</table>\n",
       "</div>"
      ],
      "text/plain": [
       "       key  Bulk 1  Bulk 2  Bulk 3  Bulk 4  Bulk 5  Bulk 6  Bulk 7  Bulk 8  \\\n",
       "2119  2191     NaN     NaN     NaN   184.0     NaN     NaN     NaN     NaN   \n",
       "916    955     NaN     NaN     NaN     NaN     NaN     NaN     NaN     NaN   \n",
       "1676  1736     NaN     NaN     NaN    71.0     NaN     NaN     NaN     NaN   \n",
       "2731  2834     NaN     NaN   182.0     NaN     NaN     NaN     NaN     NaN   \n",
       "1531  1589     NaN     NaN     NaN   101.0     NaN     NaN     NaN     NaN   \n",
       "2246  2327     NaN     NaN   113.0     NaN     NaN     NaN     NaN     NaN   \n",
       "2372  2459     NaN     NaN     NaN     NaN     NaN     NaN     NaN     NaN   \n",
       "839    875     NaN     NaN   352.0     NaN     NaN     NaN     NaN     NaN   \n",
       "1281  1332     NaN     NaN     NaN   129.0     NaN     NaN     NaN     NaN   \n",
       "667    699     NaN     NaN   137.0     NaN     NaN     NaN     NaN     NaN   \n",
       "1653  1713     NaN     NaN     NaN     NaN     NaN     NaN     NaN     NaN   \n",
       "807    842     NaN     NaN   102.0     NaN     NaN     NaN     NaN     NaN   \n",
       "2349  2435     NaN     NaN   116.0   141.0     NaN     NaN     NaN     NaN   \n",
       "938    981     NaN     NaN     NaN     NaN     NaN     NaN     NaN     NaN   \n",
       "1200  1249     NaN     NaN     NaN   105.0     NaN     NaN     NaN     NaN   \n",
       "\n",
       "      Bulk 9  Bulk 10  Bulk 11  Bulk 12  Bulk 13  Bulk 14  Bulk 15  \n",
       "2119     NaN      NaN      NaN    332.0      NaN    186.0    183.0  \n",
       "916      NaN      NaN      NaN    155.0      NaN    102.0    104.0  \n",
       "1676     NaN      NaN      NaN    255.0      NaN    119.0    202.0  \n",
       "2731     NaN      NaN      NaN    230.0      NaN    100.0    104.0  \n",
       "1531     NaN      NaN      NaN    185.0      NaN    193.0    124.0  \n",
       "2246     NaN      NaN      NaN    206.0      NaN    110.0    204.0  \n",
       "2372     NaN      NaN     20.0    157.0      NaN    146.0    106.0  \n",
       "839      NaN      NaN      NaN    408.0      NaN    254.0    203.0  \n",
       "1281     NaN      NaN      NaN    291.0      NaN    129.0    227.0  \n",
       "667      NaN      NaN      NaN    204.0      NaN    154.0    157.0  \n",
       "1653     NaN     81.0      NaN      NaN      NaN      NaN      NaN  \n",
       "807      NaN      NaN      NaN    204.0      NaN    132.0    101.0  \n",
       "2349     NaN      NaN      NaN    310.0      NaN    189.0    207.0  \n",
       "938      NaN      NaN      NaN    256.0      NaN    120.0    206.0  \n",
       "1200     NaN      NaN      NaN      NaN      NaN      NaN      NaN  "
      ]
     },
     "execution_count": 14,
     "metadata": {},
     "output_type": "execute_result"
    }
   ],
   "source": [
    "data_bulk.sample(15)"
   ]
  },
  {
   "cell_type": "code",
   "execution_count": 15,
   "id": "2d0e2f74",
   "metadata": {},
   "outputs": [
    {
     "name": "stdout",
     "output_type": "stream",
     "text": [
      "<class 'pandas.core.frame.DataFrame'>\n",
      "RangeIndex: 3129 entries, 0 to 3128\n",
      "Data columns (total 16 columns):\n",
      " #   Column   Non-Null Count  Dtype  \n",
      "---  ------   --------------  -----  \n",
      " 0   key      3129 non-null   int64  \n",
      " 1   Bulk 1   252 non-null    float64\n",
      " 2   Bulk 2   22 non-null     float64\n",
      " 3   Bulk 3   1298 non-null   float64\n",
      " 4   Bulk 4   1014 non-null   float64\n",
      " 5   Bulk 5   77 non-null     float64\n",
      " 6   Bulk 6   576 non-null    float64\n",
      " 7   Bulk 7   25 non-null     float64\n",
      " 8   Bulk 8   1 non-null      float64\n",
      " 9   Bulk 9   19 non-null     float64\n",
      " 10  Bulk 10  176 non-null    float64\n",
      " 11  Bulk 11  177 non-null    float64\n",
      " 12  Bulk 12  2450 non-null   float64\n",
      " 13  Bulk 13  18 non-null     float64\n",
      " 14  Bulk 14  2806 non-null   float64\n",
      " 15  Bulk 15  2248 non-null   float64\n",
      "dtypes: float64(15), int64(1)\n",
      "memory usage: 391.2 KB\n"
     ]
    }
   ],
   "source": [
    "data_bulk.info()"
   ]
  },
  {
   "cell_type": "code",
   "execution_count": 16,
   "id": "b1e155db",
   "metadata": {},
   "outputs": [
    {
     "data": {
      "text/plain": [
       "key           0\n",
       "Bulk 1     2877\n",
       "Bulk 2     3107\n",
       "Bulk 3     1831\n",
       "Bulk 4     2115\n",
       "Bulk 5     3052\n",
       "Bulk 6     2553\n",
       "Bulk 7     3104\n",
       "Bulk 8     3128\n",
       "Bulk 9     3110\n",
       "Bulk 10    2953\n",
       "Bulk 11    2952\n",
       "Bulk 12     679\n",
       "Bulk 13    3111\n",
       "Bulk 14     323\n",
       "Bulk 15     881\n",
       "dtype: int64"
      ]
     },
     "execution_count": 16,
     "metadata": {},
     "output_type": "execute_result"
    }
   ],
   "source": [
    "data_bulk.isna().sum()"
   ]
  },
  {
   "cell_type": "markdown",
   "id": "3b36b1cc",
   "metadata": {},
   "source": [
    "Бросается в глаза наличие большого количества пропусков. Проверим уникальность номера партии."
   ]
  },
  {
   "cell_type": "code",
   "execution_count": 17,
   "id": "fe393eae",
   "metadata": {},
   "outputs": [
    {
     "data": {
      "text/plain": [
       "3129"
      ]
     },
     "execution_count": 17,
     "metadata": {},
     "output_type": "execute_result"
    }
   ],
   "source": [
    "len(data_bulk['key'].unique())"
   ]
  },
  {
   "cell_type": "markdown",
   "id": "56225adf",
   "metadata": {},
   "source": [
    "Все номера партий уникальны. Вероятно, пропуски в данных означают, что тот или иной сыпучий материал не был добавлен в сплав. \n",
    "Посмотрим, какие из материалов были добавлены в сплав наиболее и наименее часто."
   ]
  },
  {
   "cell_type": "code",
   "execution_count": 18,
   "id": "cd6a0b7b",
   "metadata": {},
   "outputs": [
    {
     "data": {
      "image/png": "[encoded data removed]",
      "text/plain": [
       "<Figure size 720x576 with 1 Axes>"
      ]
     },
     "metadata": {
      "needs_background": "light"
     },
     "output_type": "display_data"
    }
   ],
   "source": [
    "plt.figure(figsize=(10,8))\n",
    "(data_bulk.drop(['key'], axis=1).isna()==False).mean().sort_values().plot(kind='bar', grid=True)\n",
    "plt.axhline(0.05, color='r', linestyle='--')\n",
    "plt.xlabel('Вид сыпучего материала')\n",
    "plt.ylabel('Частота использования')\n",
    "plt.title('Распределение частоты использования сыпучих материалов')\n",
    "plt.show()"
   ]
  },
  {
   "cell_type": "markdown",
   "id": "eb038def",
   "metadata": {},
   "source": [
    "Судя по графику, есть сыпучие материалы, которые используются менее, чем в 5% случаев. Возможно, данные о подаче таких материалов могут быть не информативны при моделировании.\n",
    "Создадим список редких присадок."
   ]
  },
  {
   "cell_type": "code",
   "execution_count": 19,
   "id": "3b3d98fa",
   "metadata": {},
   "outputs": [
    {
     "data": {
      "text/plain": [
       "Bulk 8      True\n",
       "Bulk 13     True\n",
       "Bulk 9      True\n",
       "Bulk 2      True\n",
       "Bulk 7      True\n",
       "Bulk 5      True\n",
       "Bulk 10    False\n",
       "Bulk 11    False\n",
       "Bulk 1     False\n",
       "Bulk 6     False\n",
       "Bulk 4     False\n",
       "Bulk 3     False\n",
       "Bulk 15    False\n",
       "Bulk 12    False\n",
       "Bulk 14    False\n",
       "dtype: bool"
      ]
     },
     "execution_count": 19,
     "metadata": {},
     "output_type": "execute_result"
    }
   ],
   "source": [
    "(data_bulk.drop(['key'], axis=1).isna()==False).mean().sort_values()<0.05"
   ]
  },
  {
   "cell_type": "code",
   "execution_count": 20,
   "id": "42bf0e0b",
   "metadata": {},
   "outputs": [],
   "source": [
    "rare_bulks = ['Bulk 8', 'Bulk 13', 'Bulk 9', 'Bulk 2', 'Bulk 7', 'Bulk 5'] "
   ]
  },
  {
   "cell_type": "markdown",
   "id": "5460d090",
   "metadata": {},
   "source": [
    "Заменим пропуски наиболее вероятным значением - нулем, то есть материал не подавался для обработки партии."
   ]
  },
  {
   "cell_type": "code",
   "execution_count": 21,
   "id": "2051eafe",
   "metadata": {},
   "outputs": [],
   "source": [
    "data_bulk = data_bulk.fillna(0)"
   ]
  },
  {
   "cell_type": "code",
   "execution_count": 22,
   "id": "a5f67d6b",
   "metadata": {},
   "outputs": [
    {
     "data": {
      "text/html": [
       "<div>\n",
       "<style scoped>\n",
       "    .dataframe tbody tr th:only-of-type {\n",
       "        vertical-align: middle;\n",
       "    }\n",
       "\n",
       "    .dataframe tbody tr th {\n",
       "        vertical-align: top;\n",
       "    }\n",
       "\n",
       "    .dataframe thead th {\n",
       "        text-align: right;\n",
       "    }\n",
       "</style>\n",
       "<table border=\"1\" class=\"dataframe\">\n",
       "  <thead>\n",
       "    <tr style=\"text-align: right;\">\n",
       "      <th></th>\n",
       "      <th>key</th>\n",
       "      <th>Bulk 1</th>\n",
       "      <th>Bulk 2</th>\n",
       "      <th>Bulk 3</th>\n",
       "      <th>Bulk 4</th>\n",
       "      <th>Bulk 5</th>\n",
       "      <th>Bulk 6</th>\n",
       "      <th>Bulk 7</th>\n",
       "      <th>Bulk 8</th>\n",
       "      <th>Bulk 9</th>\n",
       "      <th>Bulk 10</th>\n",
       "      <th>Bulk 11</th>\n",
       "      <th>Bulk 12</th>\n",
       "      <th>Bulk 13</th>\n",
       "      <th>Bulk 14</th>\n",
       "      <th>Bulk 15</th>\n",
       "    </tr>\n",
       "  </thead>\n",
       "  <tbody>\n",
       "    <tr>\n",
       "      <th>0</th>\n",
       "      <td>1</td>\n",
       "      <td>0.0</td>\n",
       "      <td>0.0</td>\n",
       "      <td>0.0</td>\n",
       "      <td>43.0</td>\n",
       "      <td>0.0</td>\n",
       "      <td>0.0</td>\n",
       "      <td>0.0</td>\n",
       "      <td>0.0</td>\n",
       "      <td>0.0</td>\n",
       "      <td>0.0</td>\n",
       "      <td>0.0</td>\n",
       "      <td>206.0</td>\n",
       "      <td>0.0</td>\n",
       "      <td>150.0</td>\n",
       "      <td>154.0</td>\n",
       "    </tr>\n",
       "    <tr>\n",
       "      <th>1</th>\n",
       "      <td>2</td>\n",
       "      <td>0.0</td>\n",
       "      <td>0.0</td>\n",
       "      <td>0.0</td>\n",
       "      <td>73.0</td>\n",
       "      <td>0.0</td>\n",
       "      <td>0.0</td>\n",
       "      <td>0.0</td>\n",
       "      <td>0.0</td>\n",
       "      <td>0.0</td>\n",
       "      <td>0.0</td>\n",
       "      <td>0.0</td>\n",
       "      <td>206.0</td>\n",
       "      <td>0.0</td>\n",
       "      <td>149.0</td>\n",
       "      <td>154.0</td>\n",
       "    </tr>\n",
       "    <tr>\n",
       "      <th>2</th>\n",
       "      <td>3</td>\n",
       "      <td>0.0</td>\n",
       "      <td>0.0</td>\n",
       "      <td>0.0</td>\n",
       "      <td>34.0</td>\n",
       "      <td>0.0</td>\n",
       "      <td>0.0</td>\n",
       "      <td>0.0</td>\n",
       "      <td>0.0</td>\n",
       "      <td>0.0</td>\n",
       "      <td>0.0</td>\n",
       "      <td>0.0</td>\n",
       "      <td>205.0</td>\n",
       "      <td>0.0</td>\n",
       "      <td>152.0</td>\n",
       "      <td>153.0</td>\n",
       "    </tr>\n",
       "    <tr>\n",
       "      <th>3</th>\n",
       "      <td>4</td>\n",
       "      <td>0.0</td>\n",
       "      <td>0.0</td>\n",
       "      <td>0.0</td>\n",
       "      <td>81.0</td>\n",
       "      <td>0.0</td>\n",
       "      <td>0.0</td>\n",
       "      <td>0.0</td>\n",
       "      <td>0.0</td>\n",
       "      <td>0.0</td>\n",
       "      <td>0.0</td>\n",
       "      <td>0.0</td>\n",
       "      <td>207.0</td>\n",
       "      <td>0.0</td>\n",
       "      <td>153.0</td>\n",
       "      <td>154.0</td>\n",
       "    </tr>\n",
       "    <tr>\n",
       "      <th>4</th>\n",
       "      <td>5</td>\n",
       "      <td>0.0</td>\n",
       "      <td>0.0</td>\n",
       "      <td>0.0</td>\n",
       "      <td>78.0</td>\n",
       "      <td>0.0</td>\n",
       "      <td>0.0</td>\n",
       "      <td>0.0</td>\n",
       "      <td>0.0</td>\n",
       "      <td>0.0</td>\n",
       "      <td>0.0</td>\n",
       "      <td>0.0</td>\n",
       "      <td>203.0</td>\n",
       "      <td>0.0</td>\n",
       "      <td>151.0</td>\n",
       "      <td>152.0</td>\n",
       "    </tr>\n",
       "  </tbody>\n",
       "</table>\n",
       "</div>"
      ],
      "text/plain": [
       "   key  Bulk 1  Bulk 2  Bulk 3  Bulk 4  Bulk 5  Bulk 6  Bulk 7  Bulk 8  \\\n",
       "0    1     0.0     0.0     0.0    43.0     0.0     0.0     0.0     0.0   \n",
       "1    2     0.0     0.0     0.0    73.0     0.0     0.0     0.0     0.0   \n",
       "2    3     0.0     0.0     0.0    34.0     0.0     0.0     0.0     0.0   \n",
       "3    4     0.0     0.0     0.0    81.0     0.0     0.0     0.0     0.0   \n",
       "4    5     0.0     0.0     0.0    78.0     0.0     0.0     0.0     0.0   \n",
       "\n",
       "   Bulk 9  Bulk 10  Bulk 11  Bulk 12  Bulk 13  Bulk 14  Bulk 15  \n",
       "0     0.0      0.0      0.0    206.0      0.0    150.0    154.0  \n",
       "1     0.0      0.0      0.0    206.0      0.0    149.0    154.0  \n",
       "2     0.0      0.0      0.0    205.0      0.0    152.0    153.0  \n",
       "3     0.0      0.0      0.0    207.0      0.0    153.0    154.0  \n",
       "4     0.0      0.0      0.0    203.0      0.0    151.0    152.0  "
      ]
     },
     "execution_count": 22,
     "metadata": {},
     "output_type": "execute_result"
    }
   ],
   "source": [
    "data_bulk.head()"
   ]
  },
  {
   "cell_type": "markdown",
   "id": "63fa8e23",
   "metadata": {},
   "source": [
    "<b> ВЫВОД: Исследованы данные об объемах сыпучих материалов. В данных присутствует много пропусков. Наиболее вероятно, что пропуск данных означает, что материал не был использован. Было решено заменить пропуски нулями. Также исследована частота использования того или иного материала. Есть материалы, которые используются очень редко. Возможно информация об их подаче не будет информативна для дальнейшего моделирования.\n",
    "</b>"
   ]
  },
  {
   "cell_type": "markdown",
   "id": "3a5ccf04",
   "metadata": {},
   "source": [
    "### Данные о подаче сыпучих материалов (время)"
   ]
  },
  {
   "cell_type": "code",
   "execution_count": 23,
   "id": "803e6ea0",
   "metadata": {},
   "outputs": [],
   "source": [
    "try:\n",
    "    data_bulk_time = pd.read_csv(r'C:\\Users\\Марина\\Downloads\\final_steel\\final_steel\\data_bulk_time.csv')\n",
    "except:\n",
    "    data_bulk_time = pd.read_csv('/datasets/final_steel/data_bulk_time.csv')"
   ]
  },
  {
   "cell_type": "code",
   "execution_count": 24,
   "id": "0aaed8a2",
   "metadata": {},
   "outputs": [
    {
     "data": {
      "text/html": [
       "<div>\n",
       "<style scoped>\n",
       "    .dataframe tbody tr th:only-of-type {\n",
       "        vertical-align: middle;\n",
       "    }\n",
       "\n",
       "    .dataframe tbody tr th {\n",
       "        vertical-align: top;\n",
       "    }\n",
       "\n",
       "    .dataframe thead th {\n",
       "        text-align: right;\n",
       "    }\n",
       "</style>\n",
       "<table border=\"1\" class=\"dataframe\">\n",
       "  <thead>\n",
       "    <tr style=\"text-align: right;\">\n",
       "      <th></th>\n",
       "      <th>key</th>\n",
       "      <th>Bulk 1</th>\n",
       "      <th>Bulk 2</th>\n",
       "      <th>Bulk 3</th>\n",
       "      <th>Bulk 4</th>\n",
       "      <th>Bulk 5</th>\n",
       "      <th>Bulk 6</th>\n",
       "      <th>Bulk 7</th>\n",
       "      <th>Bulk 8</th>\n",
       "      <th>Bulk 9</th>\n",
       "      <th>Bulk 10</th>\n",
       "      <th>Bulk 11</th>\n",
       "      <th>Bulk 12</th>\n",
       "      <th>Bulk 13</th>\n",
       "      <th>Bulk 14</th>\n",
       "      <th>Bulk 15</th>\n",
       "    </tr>\n",
       "  </thead>\n",
       "  <tbody>\n",
       "    <tr>\n",
       "      <th>1368</th>\n",
       "      <td>1421</td>\n",
       "      <td>2019-06-23 12:23:06</td>\n",
       "      <td>NaN</td>\n",
       "      <td>2019-06-23 12:26:22</td>\n",
       "      <td>2019-06-23 12:46:28</td>\n",
       "      <td>NaN</td>\n",
       "      <td>NaN</td>\n",
       "      <td>NaN</td>\n",
       "      <td>NaN</td>\n",
       "      <td>NaN</td>\n",
       "      <td>NaN</td>\n",
       "      <td>NaN</td>\n",
       "      <td>2019-06-23 12:23:06</td>\n",
       "      <td>NaN</td>\n",
       "      <td>2019-06-23 12:23:06</td>\n",
       "      <td>2019-06-23 12:23:06</td>\n",
       "    </tr>\n",
       "    <tr>\n",
       "      <th>567</th>\n",
       "      <td>596</td>\n",
       "      <td>NaN</td>\n",
       "      <td>NaN</td>\n",
       "      <td>NaN</td>\n",
       "      <td>2019-05-25 09:59:24</td>\n",
       "      <td>NaN</td>\n",
       "      <td>NaN</td>\n",
       "      <td>NaN</td>\n",
       "      <td>NaN</td>\n",
       "      <td>NaN</td>\n",
       "      <td>NaN</td>\n",
       "      <td>NaN</td>\n",
       "      <td>2019-05-25 09:48:45</td>\n",
       "      <td>NaN</td>\n",
       "      <td>2019-05-25 09:48:45</td>\n",
       "      <td>2019-05-25 09:48:45</td>\n",
       "    </tr>\n",
       "    <tr>\n",
       "      <th>2307</th>\n",
       "      <td>2391</td>\n",
       "      <td>NaN</td>\n",
       "      <td>NaN</td>\n",
       "      <td>NaN</td>\n",
       "      <td>NaN</td>\n",
       "      <td>NaN</td>\n",
       "      <td>NaN</td>\n",
       "      <td>NaN</td>\n",
       "      <td>NaN</td>\n",
       "      <td>NaN</td>\n",
       "      <td>NaN</td>\n",
       "      <td>NaN</td>\n",
       "      <td>2019-08-02 08:48:37</td>\n",
       "      <td>NaN</td>\n",
       "      <td>2019-08-02 08:48:37</td>\n",
       "      <td>NaN</td>\n",
       "    </tr>\n",
       "    <tr>\n",
       "      <th>1554</th>\n",
       "      <td>1612</td>\n",
       "      <td>NaN</td>\n",
       "      <td>NaN</td>\n",
       "      <td>NaN</td>\n",
       "      <td>NaN</td>\n",
       "      <td>NaN</td>\n",
       "      <td>2019-06-30 05:51:04</td>\n",
       "      <td>NaN</td>\n",
       "      <td>NaN</td>\n",
       "      <td>NaN</td>\n",
       "      <td>NaN</td>\n",
       "      <td>NaN</td>\n",
       "      <td>NaN</td>\n",
       "      <td>NaN</td>\n",
       "      <td>2019-06-30 05:44:05</td>\n",
       "      <td>NaN</td>\n",
       "    </tr>\n",
       "    <tr>\n",
       "      <th>303</th>\n",
       "      <td>322</td>\n",
       "      <td>2019-05-15 09:27:40</td>\n",
       "      <td>NaN</td>\n",
       "      <td>2019-05-15 09:35:53</td>\n",
       "      <td>2019-05-15 09:58:38</td>\n",
       "      <td>NaN</td>\n",
       "      <td>NaN</td>\n",
       "      <td>2019-05-15 09:35:53</td>\n",
       "      <td>NaN</td>\n",
       "      <td>NaN</td>\n",
       "      <td>NaN</td>\n",
       "      <td>NaN</td>\n",
       "      <td>2019-05-15 09:22:19</td>\n",
       "      <td>NaN</td>\n",
       "      <td>2019-05-15 09:22:19</td>\n",
       "      <td>NaN</td>\n",
       "    </tr>\n",
       "    <tr>\n",
       "      <th>2199</th>\n",
       "      <td>2279</td>\n",
       "      <td>NaN</td>\n",
       "      <td>NaN</td>\n",
       "      <td>NaN</td>\n",
       "      <td>2019-07-29 04:53:05</td>\n",
       "      <td>NaN</td>\n",
       "      <td>NaN</td>\n",
       "      <td>NaN</td>\n",
       "      <td>NaN</td>\n",
       "      <td>NaN</td>\n",
       "      <td>NaN</td>\n",
       "      <td>NaN</td>\n",
       "      <td>2019-07-29 04:28:20</td>\n",
       "      <td>NaN</td>\n",
       "      <td>2019-07-29 04:28:20</td>\n",
       "      <td>2019-07-29 04:28:20</td>\n",
       "    </tr>\n",
       "    <tr>\n",
       "      <th>2821</th>\n",
       "      <td>2927</td>\n",
       "      <td>NaN</td>\n",
       "      <td>NaN</td>\n",
       "      <td>2019-08-21 15:37:35</td>\n",
       "      <td>NaN</td>\n",
       "      <td>NaN</td>\n",
       "      <td>2019-08-21 15:37:35</td>\n",
       "      <td>NaN</td>\n",
       "      <td>NaN</td>\n",
       "      <td>NaN</td>\n",
       "      <td>NaN</td>\n",
       "      <td>NaN</td>\n",
       "      <td>2019-08-21 15:30:34</td>\n",
       "      <td>NaN</td>\n",
       "      <td>2019-08-21 15:30:35</td>\n",
       "      <td>2019-08-21 15:30:34</td>\n",
       "    </tr>\n",
       "    <tr>\n",
       "      <th>1563</th>\n",
       "      <td>1621</td>\n",
       "      <td>2019-06-30 12:27:16</td>\n",
       "      <td>NaN</td>\n",
       "      <td>2019-06-30 12:32:12</td>\n",
       "      <td>NaN</td>\n",
       "      <td>NaN</td>\n",
       "      <td>NaN</td>\n",
       "      <td>NaN</td>\n",
       "      <td>NaN</td>\n",
       "      <td>NaN</td>\n",
       "      <td>NaN</td>\n",
       "      <td>NaN</td>\n",
       "      <td>2019-06-30 12:27:16</td>\n",
       "      <td>NaN</td>\n",
       "      <td>2019-06-30 12:27:16</td>\n",
       "      <td>NaN</td>\n",
       "    </tr>\n",
       "    <tr>\n",
       "      <th>986</th>\n",
       "      <td>1031</td>\n",
       "      <td>NaN</td>\n",
       "      <td>NaN</td>\n",
       "      <td>2019-06-10 06:02:18</td>\n",
       "      <td>NaN</td>\n",
       "      <td>NaN</td>\n",
       "      <td>NaN</td>\n",
       "      <td>NaN</td>\n",
       "      <td>NaN</td>\n",
       "      <td>NaN</td>\n",
       "      <td>NaN</td>\n",
       "      <td>NaN</td>\n",
       "      <td>2019-06-10 05:56:38</td>\n",
       "      <td>NaN</td>\n",
       "      <td>2019-06-10 05:56:38</td>\n",
       "      <td>2019-06-10 05:56:38</td>\n",
       "    </tr>\n",
       "    <tr>\n",
       "      <th>1682</th>\n",
       "      <td>1742</td>\n",
       "      <td>NaN</td>\n",
       "      <td>NaN</td>\n",
       "      <td>NaN</td>\n",
       "      <td>2019-07-04 03:40:57</td>\n",
       "      <td>NaN</td>\n",
       "      <td>NaN</td>\n",
       "      <td>NaN</td>\n",
       "      <td>NaN</td>\n",
       "      <td>NaN</td>\n",
       "      <td>NaN</td>\n",
       "      <td>NaN</td>\n",
       "      <td>2019-07-04 03:33:32</td>\n",
       "      <td>NaN</td>\n",
       "      <td>2019-07-04 03:33:32</td>\n",
       "      <td>2019-07-04 03:33:32</td>\n",
       "    </tr>\n",
       "    <tr>\n",
       "      <th>1429</th>\n",
       "      <td>1483</td>\n",
       "      <td>NaN</td>\n",
       "      <td>NaN</td>\n",
       "      <td>2019-06-25 22:28:19</td>\n",
       "      <td>2019-06-25 22:17:11</td>\n",
       "      <td>NaN</td>\n",
       "      <td>NaN</td>\n",
       "      <td>NaN</td>\n",
       "      <td>NaN</td>\n",
       "      <td>NaN</td>\n",
       "      <td>NaN</td>\n",
       "      <td>NaN</td>\n",
       "      <td>2019-06-25 21:55:30</td>\n",
       "      <td>NaN</td>\n",
       "      <td>2019-06-25 21:55:30</td>\n",
       "      <td>2019-06-25 21:55:30</td>\n",
       "    </tr>\n",
       "    <tr>\n",
       "      <th>497</th>\n",
       "      <td>524</td>\n",
       "      <td>NaN</td>\n",
       "      <td>NaN</td>\n",
       "      <td>NaN</td>\n",
       "      <td>NaN</td>\n",
       "      <td>NaN</td>\n",
       "      <td>2019-05-22 19:14:40</td>\n",
       "      <td>NaN</td>\n",
       "      <td>NaN</td>\n",
       "      <td>NaN</td>\n",
       "      <td>NaN</td>\n",
       "      <td>2019-05-22 19:14:40</td>\n",
       "      <td>2019-05-22 19:09:15</td>\n",
       "      <td>NaN</td>\n",
       "      <td>2019-05-22 19:09:15</td>\n",
       "      <td>NaN</td>\n",
       "    </tr>\n",
       "    <tr>\n",
       "      <th>862</th>\n",
       "      <td>898</td>\n",
       "      <td>NaN</td>\n",
       "      <td>NaN</td>\n",
       "      <td>NaN</td>\n",
       "      <td>2019-06-05 12:05:24</td>\n",
       "      <td>NaN</td>\n",
       "      <td>NaN</td>\n",
       "      <td>NaN</td>\n",
       "      <td>NaN</td>\n",
       "      <td>NaN</td>\n",
       "      <td>NaN</td>\n",
       "      <td>NaN</td>\n",
       "      <td>2019-06-05 11:42:28</td>\n",
       "      <td>NaN</td>\n",
       "      <td>2019-06-05 11:42:28</td>\n",
       "      <td>2019-06-05 11:42:28</td>\n",
       "    </tr>\n",
       "    <tr>\n",
       "      <th>3077</th>\n",
       "      <td>3187</td>\n",
       "      <td>2019-08-30 10:15:46</td>\n",
       "      <td>NaN</td>\n",
       "      <td>2019-08-30 10:24:11</td>\n",
       "      <td>NaN</td>\n",
       "      <td>NaN</td>\n",
       "      <td>NaN</td>\n",
       "      <td>NaN</td>\n",
       "      <td>NaN</td>\n",
       "      <td>NaN</td>\n",
       "      <td>NaN</td>\n",
       "      <td>NaN</td>\n",
       "      <td>2019-08-30 10:15:46</td>\n",
       "      <td>NaN</td>\n",
       "      <td>2019-08-30 10:15:46</td>\n",
       "      <td>NaN</td>\n",
       "    </tr>\n",
       "    <tr>\n",
       "      <th>1132</th>\n",
       "      <td>1180</td>\n",
       "      <td>NaN</td>\n",
       "      <td>NaN</td>\n",
       "      <td>NaN</td>\n",
       "      <td>NaN</td>\n",
       "      <td>NaN</td>\n",
       "      <td>2019-06-15 03:24:25</td>\n",
       "      <td>NaN</td>\n",
       "      <td>NaN</td>\n",
       "      <td>NaN</td>\n",
       "      <td>NaN</td>\n",
       "      <td>NaN</td>\n",
       "      <td>2019-06-15 03:18:37</td>\n",
       "      <td>NaN</td>\n",
       "      <td>2019-06-15 03:18:37</td>\n",
       "      <td>2019-06-15 03:18:37</td>\n",
       "    </tr>\n",
       "  </tbody>\n",
       "</table>\n",
       "</div>"
      ],
      "text/plain": [
       "       key               Bulk 1 Bulk 2               Bulk 3  \\\n",
       "1368  1421  2019-06-23 12:23:06    NaN  2019-06-23 12:26:22   \n",
       "567    596                  NaN    NaN                  NaN   \n",
       "2307  2391                  NaN    NaN                  NaN   \n",
       "1554  1612                  NaN    NaN                  NaN   \n",
       "303    322  2019-05-15 09:27:40    NaN  2019-05-15 09:35:53   \n",
       "2199  2279                  NaN    NaN                  NaN   \n",
       "2821  2927                  NaN    NaN  2019-08-21 15:37:35   \n",
       "1563  1621  2019-06-30 12:27:16    NaN  2019-06-30 12:32:12   \n",
       "986   1031                  NaN    NaN  2019-06-10 06:02:18   \n",
       "1682  1742                  NaN    NaN                  NaN   \n",
       "1429  1483                  NaN    NaN  2019-06-25 22:28:19   \n",
       "497    524                  NaN    NaN                  NaN   \n",
       "862    898                  NaN    NaN                  NaN   \n",
       "3077  3187  2019-08-30 10:15:46    NaN  2019-08-30 10:24:11   \n",
       "1132  1180                  NaN    NaN                  NaN   \n",
       "\n",
       "                   Bulk 4 Bulk 5               Bulk 6               Bulk 7  \\\n",
       "1368  2019-06-23 12:46:28    NaN                  NaN                  NaN   \n",
       "567   2019-05-25 09:59:24    NaN                  NaN                  NaN   \n",
       "2307                  NaN    NaN                  NaN                  NaN   \n",
       "1554                  NaN    NaN  2019-06-30 05:51:04                  NaN   \n",
       "303   2019-05-15 09:58:38    NaN                  NaN  2019-05-15 09:35:53   \n",
       "2199  2019-07-29 04:53:05    NaN                  NaN                  NaN   \n",
       "2821                  NaN    NaN  2019-08-21 15:37:35                  NaN   \n",
       "1563                  NaN    NaN                  NaN                  NaN   \n",
       "986                   NaN    NaN                  NaN                  NaN   \n",
       "1682  2019-07-04 03:40:57    NaN                  NaN                  NaN   \n",
       "1429  2019-06-25 22:17:11    NaN                  NaN                  NaN   \n",
       "497                   NaN    NaN  2019-05-22 19:14:40                  NaN   \n",
       "862   2019-06-05 12:05:24    NaN                  NaN                  NaN   \n",
       "3077                  NaN    NaN                  NaN                  NaN   \n",
       "1132                  NaN    NaN  2019-06-15 03:24:25                  NaN   \n",
       "\n",
       "     Bulk 8 Bulk 9 Bulk 10              Bulk 11              Bulk 12 Bulk 13  \\\n",
       "1368    NaN    NaN     NaN                  NaN  2019-06-23 12:23:06     NaN   \n",
       "567     NaN    NaN     NaN                  NaN  2019-05-25 09:48:45     NaN   \n",
       "2307    NaN    NaN     NaN                  NaN  2019-08-02 08:48:37     NaN   \n",
       "1554    NaN    NaN     NaN                  NaN                  NaN     NaN   \n",
       "303     NaN    NaN     NaN                  NaN  2019-05-15 09:22:19     NaN   \n",
       "2199    NaN    NaN     NaN                  NaN  2019-07-29 04:28:20     NaN   \n",
       "2821    NaN    NaN     NaN                  NaN  2019-08-21 15:30:34     NaN   \n",
       "1563    NaN    NaN     NaN                  NaN  2019-06-30 12:27:16     NaN   \n",
       "986     NaN    NaN     NaN                  NaN  2019-06-10 05:56:38     NaN   \n",
       "1682    NaN    NaN     NaN                  NaN  2019-07-04 03:33:32     NaN   \n",
       "1429    NaN    NaN     NaN                  NaN  2019-06-25 21:55:30     NaN   \n",
       "497     NaN    NaN     NaN  2019-05-22 19:14:40  2019-05-22 19:09:15     NaN   \n",
       "862     NaN    NaN     NaN                  NaN  2019-06-05 11:42:28     NaN   \n",
       "3077    NaN    NaN     NaN                  NaN  2019-08-30 10:15:46     NaN   \n",
       "1132    NaN    NaN     NaN                  NaN  2019-06-15 03:18:37     NaN   \n",
       "\n",
       "                  Bulk 14              Bulk 15  \n",
       "1368  2019-06-23 12:23:06  2019-06-23 12:23:06  \n",
       "567   2019-05-25 09:48:45  2019-05-25 09:48:45  \n",
       "2307  2019-08-02 08:48:37                  NaN  \n",
       "1554  2019-06-30 05:44:05                  NaN  \n",
       "303   2019-05-15 09:22:19                  NaN  \n",
       "2199  2019-07-29 04:28:20  2019-07-29 04:28:20  \n",
       "2821  2019-08-21 15:30:35  2019-08-21 15:30:34  \n",
       "1563  2019-06-30 12:27:16                  NaN  \n",
       "986   2019-06-10 05:56:38  2019-06-10 05:56:38  \n",
       "1682  2019-07-04 03:33:32  2019-07-04 03:33:32  \n",
       "1429  2019-06-25 21:55:30  2019-06-25 21:55:30  \n",
       "497   2019-05-22 19:09:15                  NaN  \n",
       "862   2019-06-05 11:42:28  2019-06-05 11:42:28  \n",
       "3077  2019-08-30 10:15:46                  NaN  \n",
       "1132  2019-06-15 03:18:37  2019-06-15 03:18:37  "
      ]
     },
     "execution_count": 24,
     "metadata": {},
     "output_type": "execute_result"
    }
   ],
   "source": [
    "data_bulk_time.sample(15)"
   ]
  },
  {
   "cell_type": "code",
   "execution_count": 25,
   "id": "80c1a71e",
   "metadata": {},
   "outputs": [
    {
     "name": "stdout",
     "output_type": "stream",
     "text": [
      "<class 'pandas.core.frame.DataFrame'>\n",
      "RangeIndex: 3129 entries, 0 to 3128\n",
      "Data columns (total 16 columns):\n",
      " #   Column   Non-Null Count  Dtype \n",
      "---  ------   --------------  ----- \n",
      " 0   key      3129 non-null   int64 \n",
      " 1   Bulk 1   252 non-null    object\n",
      " 2   Bulk 2   22 non-null     object\n",
      " 3   Bulk 3   1298 non-null   object\n",
      " 4   Bulk 4   1014 non-null   object\n",
      " 5   Bulk 5   77 non-null     object\n",
      " 6   Bulk 6   576 non-null    object\n",
      " 7   Bulk 7   25 non-null     object\n",
      " 8   Bulk 8   1 non-null      object\n",
      " 9   Bulk 9   19 non-null     object\n",
      " 10  Bulk 10  176 non-null    object\n",
      " 11  Bulk 11  177 non-null    object\n",
      " 12  Bulk 12  2450 non-null   object\n",
      " 13  Bulk 13  18 non-null     object\n",
      " 14  Bulk 14  2806 non-null   object\n",
      " 15  Bulk 15  2248 non-null   object\n",
      "dtypes: int64(1), object(15)\n",
      "memory usage: 391.2+ KB\n"
     ]
    }
   ],
   "source": [
    "data_bulk_time.info()"
   ]
  },
  {
   "cell_type": "code",
   "execution_count": 26,
   "id": "0260c72c",
   "metadata": {},
   "outputs": [
    {
     "data": {
      "text/plain": [
       "key        0\n",
       "Bulk 1     0\n",
       "Bulk 2     0\n",
       "Bulk 3     0\n",
       "Bulk 4     0\n",
       "Bulk 5     0\n",
       "Bulk 6     0\n",
       "Bulk 7     0\n",
       "Bulk 8     0\n",
       "Bulk 9     0\n",
       "Bulk 10    0\n",
       "Bulk 11    0\n",
       "Bulk 12    0\n",
       "Bulk 13    0\n",
       "Bulk 14    0\n",
       "Bulk 15    0\n",
       "dtype: int64"
      ]
     },
     "execution_count": 26,
     "metadata": {},
     "output_type": "execute_result"
    }
   ],
   "source": [
    "data_bulk.isna().sum()"
   ]
  },
  {
   "cell_type": "code",
   "execution_count": 27,
   "id": "21bb7faa",
   "metadata": {},
   "outputs": [
    {
     "data": {
      "text/plain": [
       "3129"
      ]
     },
     "execution_count": 27,
     "metadata": {},
     "output_type": "execute_result"
    }
   ],
   "source": [
    "len(data_bulk_time['key'].unique())"
   ]
  },
  {
   "cell_type": "markdown",
   "id": "89b9feed",
   "metadata": {},
   "source": [
    "Данные о времени подачи сыпучих материалов имеют ту же структуру, что данные об объеме их подачи. Предлагается объединить таблицу по объему и времени подачи сыпучих материалов в единую."
   ]
  },
  {
   "cell_type": "markdown",
   "id": "d04bd8df",
   "metadata": {},
   "source": [
    "<b> ВЫВОД: Исследованы данные об времени подачи сыпучих материалов. В данных присутствует много пропусков. Наиболее вероятно, что пропуск данных означает, что материал не был использован. Структура данных повторяет таблицу по объему подачи сыпучих материлов, таблицы можно будет объединить.\n",
    "</b>"
   ]
  },
  {
   "cell_type": "markdown",
   "id": "a274f8f8",
   "metadata": {},
   "source": [
    "### Данные о продувке сплава газом"
   ]
  },
  {
   "cell_type": "code",
   "execution_count": 28,
   "id": "be6017c7",
   "metadata": {},
   "outputs": [],
   "source": [
    "try:\n",
    "    data_gas = pd.read_csv(r'C:\\Users\\Марина\\Downloads\\final_steel\\final_steel\\data_gas.csv')\n",
    "except:\n",
    "    data_gas = pd.read_csv('/datasets/final_steel/data_gas.csv')"
   ]
  },
  {
   "cell_type": "code",
   "execution_count": 29,
   "id": "0550d305",
   "metadata": {},
   "outputs": [
    {
     "data": {
      "text/html": [
       "<div>\n",
       "<style scoped>\n",
       "    .dataframe tbody tr th:only-of-type {\n",
       "        vertical-align: middle;\n",
       "    }\n",
       "\n",
       "    .dataframe tbody tr th {\n",
       "        vertical-align: top;\n",
       "    }\n",
       "\n",
       "    .dataframe thead th {\n",
       "        text-align: right;\n",
       "    }\n",
       "</style>\n",
       "<table border=\"1\" class=\"dataframe\">\n",
       "  <thead>\n",
       "    <tr style=\"text-align: right;\">\n",
       "      <th></th>\n",
       "      <th>key</th>\n",
       "      <th>Газ 1</th>\n",
       "    </tr>\n",
       "  </thead>\n",
       "  <tbody>\n",
       "    <tr>\n",
       "      <th>0</th>\n",
       "      <td>1</td>\n",
       "      <td>29.749986</td>\n",
       "    </tr>\n",
       "    <tr>\n",
       "      <th>1</th>\n",
       "      <td>2</td>\n",
       "      <td>12.555561</td>\n",
       "    </tr>\n",
       "    <tr>\n",
       "      <th>2</th>\n",
       "      <td>3</td>\n",
       "      <td>28.554793</td>\n",
       "    </tr>\n",
       "    <tr>\n",
       "      <th>3</th>\n",
       "      <td>4</td>\n",
       "      <td>18.841219</td>\n",
       "    </tr>\n",
       "    <tr>\n",
       "      <th>4</th>\n",
       "      <td>5</td>\n",
       "      <td>5.413692</td>\n",
       "    </tr>\n",
       "    <tr>\n",
       "      <th>5</th>\n",
       "      <td>6</td>\n",
       "      <td>11.273392</td>\n",
       "    </tr>\n",
       "    <tr>\n",
       "      <th>6</th>\n",
       "      <td>7</td>\n",
       "      <td>9.836267</td>\n",
       "    </tr>\n",
       "    <tr>\n",
       "      <th>7</th>\n",
       "      <td>8</td>\n",
       "      <td>15.171553</td>\n",
       "    </tr>\n",
       "    <tr>\n",
       "      <th>8</th>\n",
       "      <td>9</td>\n",
       "      <td>8.216623</td>\n",
       "    </tr>\n",
       "    <tr>\n",
       "      <th>9</th>\n",
       "      <td>10</td>\n",
       "      <td>6.529891</td>\n",
       "    </tr>\n",
       "  </tbody>\n",
       "</table>\n",
       "</div>"
      ],
      "text/plain": [
       "   key      Газ 1\n",
       "0    1  29.749986\n",
       "1    2  12.555561\n",
       "2    3  28.554793\n",
       "3    4  18.841219\n",
       "4    5   5.413692\n",
       "5    6  11.273392\n",
       "6    7   9.836267\n",
       "7    8  15.171553\n",
       "8    9   8.216623\n",
       "9   10   6.529891"
      ]
     },
     "execution_count": 29,
     "metadata": {},
     "output_type": "execute_result"
    }
   ],
   "source": [
    "data_gas.head(10)"
   ]
  },
  {
   "cell_type": "code",
   "execution_count": 30,
   "id": "41a15403",
   "metadata": {},
   "outputs": [
    {
     "name": "stdout",
     "output_type": "stream",
     "text": [
      "<class 'pandas.core.frame.DataFrame'>\n",
      "RangeIndex: 3239 entries, 0 to 3238\n",
      "Data columns (total 2 columns):\n",
      " #   Column  Non-Null Count  Dtype  \n",
      "---  ------  --------------  -----  \n",
      " 0   key     3239 non-null   int64  \n",
      " 1   Газ 1   3239 non-null   float64\n",
      "dtypes: float64(1), int64(1)\n",
      "memory usage: 50.7 KB\n"
     ]
    }
   ],
   "source": [
    "data_gas.info()"
   ]
  },
  {
   "cell_type": "code",
   "execution_count": 31,
   "id": "3adfeb0f",
   "metadata": {},
   "outputs": [
    {
     "data": {
      "text/html": [
       "<div>\n",
       "<style scoped>\n",
       "    .dataframe tbody tr th:only-of-type {\n",
       "        vertical-align: middle;\n",
       "    }\n",
       "\n",
       "    .dataframe tbody tr th {\n",
       "        vertical-align: top;\n",
       "    }\n",
       "\n",
       "    .dataframe thead th {\n",
       "        text-align: right;\n",
       "    }\n",
       "</style>\n",
       "<table border=\"1\" class=\"dataframe\">\n",
       "  <thead>\n",
       "    <tr style=\"text-align: right;\">\n",
       "      <th></th>\n",
       "      <th>key</th>\n",
       "      <th>Газ 1</th>\n",
       "    </tr>\n",
       "  </thead>\n",
       "  <tbody>\n",
       "    <tr>\n",
       "      <th>count</th>\n",
       "      <td>3239.000000</td>\n",
       "      <td>3239.000000</td>\n",
       "    </tr>\n",
       "    <tr>\n",
       "      <th>mean</th>\n",
       "      <td>1621.861377</td>\n",
       "      <td>11.002062</td>\n",
       "    </tr>\n",
       "    <tr>\n",
       "      <th>std</th>\n",
       "      <td>935.386334</td>\n",
       "      <td>6.220327</td>\n",
       "    </tr>\n",
       "    <tr>\n",
       "      <th>min</th>\n",
       "      <td>1.000000</td>\n",
       "      <td>0.008399</td>\n",
       "    </tr>\n",
       "    <tr>\n",
       "      <th>25%</th>\n",
       "      <td>812.500000</td>\n",
       "      <td>7.043089</td>\n",
       "    </tr>\n",
       "    <tr>\n",
       "      <th>50%</th>\n",
       "      <td>1622.000000</td>\n",
       "      <td>9.836267</td>\n",
       "    </tr>\n",
       "    <tr>\n",
       "      <th>75%</th>\n",
       "      <td>2431.500000</td>\n",
       "      <td>13.769915</td>\n",
       "    </tr>\n",
       "    <tr>\n",
       "      <th>max</th>\n",
       "      <td>3241.000000</td>\n",
       "      <td>77.995040</td>\n",
       "    </tr>\n",
       "  </tbody>\n",
       "</table>\n",
       "</div>"
      ],
      "text/plain": [
       "               key        Газ 1\n",
       "count  3239.000000  3239.000000\n",
       "mean   1621.861377    11.002062\n",
       "std     935.386334     6.220327\n",
       "min       1.000000     0.008399\n",
       "25%     812.500000     7.043089\n",
       "50%    1622.000000     9.836267\n",
       "75%    2431.500000    13.769915\n",
       "max    3241.000000    77.995040"
      ]
     },
     "execution_count": 31,
     "metadata": {},
     "output_type": "execute_result"
    }
   ],
   "source": [
    "data_gas.describe()"
   ]
  },
  {
   "cell_type": "code",
   "execution_count": 32,
   "id": "a22b453c",
   "metadata": {},
   "outputs": [
    {
     "data": {
      "text/plain": [
       "3239"
      ]
     },
     "execution_count": 32,
     "metadata": {},
     "output_type": "execute_result"
    }
   ],
   "source": [
    "len(data_gas['key'].unique())"
   ]
  },
  {
   "cell_type": "code",
   "execution_count": 33,
   "id": "2fb43b05",
   "metadata": {},
   "outputs": [
    {
     "data": {
      "image/png": "[encoded data removed]",
      "text/plain": [
       "<Figure size 864x576 with 1 Axes>"
      ]
     },
     "metadata": {
      "needs_background": "light"
     },
     "output_type": "display_data"
    }
   ],
   "source": [
    "plt.figure(figsize=(12,8))\n",
    "plt.hist(data_gas['Газ 1'], bins=78)\n",
    "plt.grid()\n",
    "plt.title('Изменение объема подачи газа')\n",
    "plt.show()"
   ]
  },
  {
   "cell_type": "code",
   "execution_count": 34,
   "id": "734d0553",
   "metadata": {},
   "outputs": [],
   "source": [
    "data_gas.columns=['key', 'gas']"
   ]
  },
  {
   "cell_type": "code",
   "execution_count": 35,
   "id": "00cf5bda",
   "metadata": {},
   "outputs": [
    {
     "data": {
      "text/html": [
       "<div>\n",
       "<style scoped>\n",
       "    .dataframe tbody tr th:only-of-type {\n",
       "        vertical-align: middle;\n",
       "    }\n",
       "\n",
       "    .dataframe tbody tr th {\n",
       "        vertical-align: top;\n",
       "    }\n",
       "\n",
       "    .dataframe thead th {\n",
       "        text-align: right;\n",
       "    }\n",
       "</style>\n",
       "<table border=\"1\" class=\"dataframe\">\n",
       "  <thead>\n",
       "    <tr style=\"text-align: right;\">\n",
       "      <th></th>\n",
       "      <th>key</th>\n",
       "      <th>gas</th>\n",
       "    </tr>\n",
       "  </thead>\n",
       "  <tbody>\n",
       "    <tr>\n",
       "      <th>0</th>\n",
       "      <td>1</td>\n",
       "      <td>29.749986</td>\n",
       "    </tr>\n",
       "    <tr>\n",
       "      <th>1</th>\n",
       "      <td>2</td>\n",
       "      <td>12.555561</td>\n",
       "    </tr>\n",
       "    <tr>\n",
       "      <th>2</th>\n",
       "      <td>3</td>\n",
       "      <td>28.554793</td>\n",
       "    </tr>\n",
       "    <tr>\n",
       "      <th>3</th>\n",
       "      <td>4</td>\n",
       "      <td>18.841219</td>\n",
       "    </tr>\n",
       "    <tr>\n",
       "      <th>4</th>\n",
       "      <td>5</td>\n",
       "      <td>5.413692</td>\n",
       "    </tr>\n",
       "  </tbody>\n",
       "</table>\n",
       "</div>"
      ],
      "text/plain": [
       "   key        gas\n",
       "0    1  29.749986\n",
       "1    2  12.555561\n",
       "2    3  28.554793\n",
       "3    4  18.841219\n",
       "4    5   5.413692"
      ]
     },
     "execution_count": 35,
     "metadata": {},
     "output_type": "execute_result"
    }
   ],
   "source": [
    "data_gas.head()"
   ]
  },
  {
   "cell_type": "markdown",
   "id": "0f9ec11f",
   "metadata": {},
   "source": [
    "<b> ВЫВОД: Исследованы данные о продувке сплава газом. В данных нет пропусков, распределение близкое к нормальному, скошенное влево. Каждой партии соответствует одна запись о продувке газом. Нет временного диапозона продувки газом, в отличие от остальных величин.\n",
    "</b>"
   ]
  },
  {
   "cell_type": "markdown",
   "id": "ea8783cc",
   "metadata": {},
   "source": [
    "### Результаты измерения температуры"
   ]
  },
  {
   "cell_type": "code",
   "execution_count": 36,
   "id": "9fd12a20",
   "metadata": {},
   "outputs": [],
   "source": [
    "try:\n",
    "    data_temp = pd.read_csv(r'C:\\Users\\Марина\\Downloads\\final_steel\\final_steel\\data_temp.csv')\n",
    "except:\n",
    "    data_temp = pd.read_csv('/datasets/final_steel/data_temp.csv')"
   ]
  },
  {
   "cell_type": "code",
   "execution_count": 37,
   "id": "3829aab6",
   "metadata": {},
   "outputs": [
    {
     "data": {
      "text/html": [
       "<div>\n",
       "<style scoped>\n",
       "    .dataframe tbody tr th:only-of-type {\n",
       "        vertical-align: middle;\n",
       "    }\n",
       "\n",
       "    .dataframe tbody tr th {\n",
       "        vertical-align: top;\n",
       "    }\n",
       "\n",
       "    .dataframe thead th {\n",
       "        text-align: right;\n",
       "    }\n",
       "</style>\n",
       "<table border=\"1\" class=\"dataframe\">\n",
       "  <thead>\n",
       "    <tr style=\"text-align: right;\">\n",
       "      <th></th>\n",
       "      <th>key</th>\n",
       "      <th>Время замера</th>\n",
       "      <th>Температура</th>\n",
       "    </tr>\n",
       "  </thead>\n",
       "  <tbody>\n",
       "    <tr>\n",
       "      <th>3110</th>\n",
       "      <td>613</td>\n",
       "      <td>2019-05-25 23:37:37</td>\n",
       "      <td>1600.0</td>\n",
       "    </tr>\n",
       "    <tr>\n",
       "      <th>9580</th>\n",
       "      <td>1942</td>\n",
       "      <td>2019-07-17 02:40:03</td>\n",
       "      <td>1611.0</td>\n",
       "    </tr>\n",
       "    <tr>\n",
       "      <th>15588</th>\n",
       "      <td>3169</td>\n",
       "      <td>2019-08-29 19:00:54</td>\n",
       "      <td>NaN</td>\n",
       "    </tr>\n",
       "    <tr>\n",
       "      <th>1161</th>\n",
       "      <td>207</td>\n",
       "      <td>2019-05-10 22:56:24</td>\n",
       "      <td>1586.0</td>\n",
       "    </tr>\n",
       "    <tr>\n",
       "      <th>2831</th>\n",
       "      <td>547</td>\n",
       "      <td>2019-05-23 17:31:55</td>\n",
       "      <td>1592.0</td>\n",
       "    </tr>\n",
       "    <tr>\n",
       "      <th>3058</th>\n",
       "      <td>600</td>\n",
       "      <td>2019-05-25 12:11:18</td>\n",
       "      <td>1596.0</td>\n",
       "    </tr>\n",
       "    <tr>\n",
       "      <th>7738</th>\n",
       "      <td>1570</td>\n",
       "      <td>2019-06-28 22:45:01</td>\n",
       "      <td>1585.0</td>\n",
       "    </tr>\n",
       "    <tr>\n",
       "      <th>10788</th>\n",
       "      <td>2185</td>\n",
       "      <td>2019-07-26 04:08:56</td>\n",
       "      <td>1557.0</td>\n",
       "    </tr>\n",
       "    <tr>\n",
       "      <th>7040</th>\n",
       "      <td>1430</td>\n",
       "      <td>2019-06-23 19:16:27</td>\n",
       "      <td>1613.0</td>\n",
       "    </tr>\n",
       "    <tr>\n",
       "      <th>14246</th>\n",
       "      <td>2893</td>\n",
       "      <td>2019-08-20 08:51:41</td>\n",
       "      <td>NaN</td>\n",
       "    </tr>\n",
       "    <tr>\n",
       "      <th>9152</th>\n",
       "      <td>1864</td>\n",
       "      <td>2019-07-08 13:02:27</td>\n",
       "      <td>1582.0</td>\n",
       "    </tr>\n",
       "    <tr>\n",
       "      <th>1487</th>\n",
       "      <td>264</td>\n",
       "      <td>2019-05-13 07:04:23</td>\n",
       "      <td>1584.0</td>\n",
       "    </tr>\n",
       "    <tr>\n",
       "      <th>9215</th>\n",
       "      <td>1878</td>\n",
       "      <td>2019-07-09 01:33:08</td>\n",
       "      <td>1598.0</td>\n",
       "    </tr>\n",
       "    <tr>\n",
       "      <th>11372</th>\n",
       "      <td>2315</td>\n",
       "      <td>2019-07-30 12:57:32</td>\n",
       "      <td>1585.0</td>\n",
       "    </tr>\n",
       "    <tr>\n",
       "      <th>9894</th>\n",
       "      <td>2003</td>\n",
       "      <td>2019-07-20 00:01:58</td>\n",
       "      <td>1580.0</td>\n",
       "    </tr>\n",
       "  </tbody>\n",
       "</table>\n",
       "</div>"
      ],
      "text/plain": [
       "        key         Время замера  Температура\n",
       "3110    613  2019-05-25 23:37:37       1600.0\n",
       "9580   1942  2019-07-17 02:40:03       1611.0\n",
       "15588  3169  2019-08-29 19:00:54          NaN\n",
       "1161    207  2019-05-10 22:56:24       1586.0\n",
       "2831    547  2019-05-23 17:31:55       1592.0\n",
       "3058    600  2019-05-25 12:11:18       1596.0\n",
       "7738   1570  2019-06-28 22:45:01       1585.0\n",
       "10788  2185  2019-07-26 04:08:56       1557.0\n",
       "7040   1430  2019-06-23 19:16:27       1613.0\n",
       "14246  2893  2019-08-20 08:51:41          NaN\n",
       "9152   1864  2019-07-08 13:02:27       1582.0\n",
       "1487    264  2019-05-13 07:04:23       1584.0\n",
       "9215   1878  2019-07-09 01:33:08       1598.0\n",
       "11372  2315  2019-07-30 12:57:32       1585.0\n",
       "9894   2003  2019-07-20 00:01:58       1580.0"
      ]
     },
     "execution_count": 37,
     "metadata": {},
     "output_type": "execute_result"
    }
   ],
   "source": [
    "data_temp.sample(15)"
   ]
  },
  {
   "cell_type": "code",
   "execution_count": 38,
   "id": "0eadc170",
   "metadata": {},
   "outputs": [
    {
     "name": "stdout",
     "output_type": "stream",
     "text": [
      "<class 'pandas.core.frame.DataFrame'>\n",
      "RangeIndex: 15907 entries, 0 to 15906\n",
      "Data columns (total 3 columns):\n",
      " #   Column        Non-Null Count  Dtype  \n",
      "---  ------        --------------  -----  \n",
      " 0   key           15907 non-null  int64  \n",
      " 1   Время замера  15907 non-null  object \n",
      " 2   Температура   13006 non-null  float64\n",
      "dtypes: float64(1), int64(1), object(1)\n",
      "memory usage: 372.9+ KB\n"
     ]
    }
   ],
   "source": [
    "data_temp.info()"
   ]
  },
  {
   "cell_type": "code",
   "execution_count": 39,
   "id": "f64677ee",
   "metadata": {},
   "outputs": [
    {
     "data": {
      "text/plain": [
       "key                0\n",
       "Время замера       0\n",
       "Температура     2901\n",
       "dtype: int64"
      ]
     },
     "execution_count": 39,
     "metadata": {},
     "output_type": "execute_result"
    }
   ],
   "source": [
    "data_temp.isna().sum()"
   ]
  },
  {
   "cell_type": "markdown",
   "id": "badf0cd7",
   "metadata": {},
   "source": [
    "Присутсвуют партии, у которых не была замерена температура. Посмотрим на статистику целевого признака."
   ]
  },
  {
   "cell_type": "code",
   "execution_count": 40,
   "id": "208042f9",
   "metadata": {},
   "outputs": [
    {
     "data": {
      "text/html": [
       "<div>\n",
       "<style scoped>\n",
       "    .dataframe tbody tr th:only-of-type {\n",
       "        vertical-align: middle;\n",
       "    }\n",
       "\n",
       "    .dataframe tbody tr th {\n",
       "        vertical-align: top;\n",
       "    }\n",
       "\n",
       "    .dataframe thead th {\n",
       "        text-align: right;\n",
       "    }\n",
       "</style>\n",
       "<table border=\"1\" class=\"dataframe\">\n",
       "  <thead>\n",
       "    <tr style=\"text-align: right;\">\n",
       "      <th></th>\n",
       "      <th>key</th>\n",
       "      <th>Температура</th>\n",
       "    </tr>\n",
       "  </thead>\n",
       "  <tbody>\n",
       "    <tr>\n",
       "      <th>count</th>\n",
       "      <td>15907.000000</td>\n",
       "      <td>13006.000000</td>\n",
       "    </tr>\n",
       "    <tr>\n",
       "      <th>mean</th>\n",
       "      <td>1607.880870</td>\n",
       "      <td>1591.840920</td>\n",
       "    </tr>\n",
       "    <tr>\n",
       "      <th>std</th>\n",
       "      <td>942.212073</td>\n",
       "      <td>21.375851</td>\n",
       "    </tr>\n",
       "    <tr>\n",
       "      <th>min</th>\n",
       "      <td>1.000000</td>\n",
       "      <td>1191.000000</td>\n",
       "    </tr>\n",
       "    <tr>\n",
       "      <th>25%</th>\n",
       "      <td>790.000000</td>\n",
       "      <td>1581.000000</td>\n",
       "    </tr>\n",
       "    <tr>\n",
       "      <th>50%</th>\n",
       "      <td>1618.000000</td>\n",
       "      <td>1591.000000</td>\n",
       "    </tr>\n",
       "    <tr>\n",
       "      <th>75%</th>\n",
       "      <td>2427.000000</td>\n",
       "      <td>1601.000000</td>\n",
       "    </tr>\n",
       "    <tr>\n",
       "      <th>max</th>\n",
       "      <td>3241.000000</td>\n",
       "      <td>1705.000000</td>\n",
       "    </tr>\n",
       "  </tbody>\n",
       "</table>\n",
       "</div>"
      ],
      "text/plain": [
       "                key   Температура\n",
       "count  15907.000000  13006.000000\n",
       "mean    1607.880870   1591.840920\n",
       "std      942.212073     21.375851\n",
       "min        1.000000   1191.000000\n",
       "25%      790.000000   1581.000000\n",
       "50%     1618.000000   1591.000000\n",
       "75%     2427.000000   1601.000000\n",
       "max     3241.000000   1705.000000"
      ]
     },
     "execution_count": 40,
     "metadata": {},
     "output_type": "execute_result"
    }
   ],
   "source": [
    "data_temp.describe()"
   ]
  },
  {
   "cell_type": "markdown",
   "id": "08aecfeb",
   "metadata": {},
   "source": [
    "Проверим наличие явных дубликатов."
   ]
  },
  {
   "cell_type": "code",
   "execution_count": 41,
   "id": "fb596951",
   "metadata": {},
   "outputs": [
    {
     "data": {
      "text/plain": [
       "0"
      ]
     },
     "execution_count": 41,
     "metadata": {},
     "output_type": "execute_result"
    }
   ],
   "source": [
    "data_temp.duplicated().sum()"
   ]
  },
  {
   "cell_type": "markdown",
   "id": "abe4aeee",
   "metadata": {},
   "source": [
    "Явных дубликатов не обнаружено. Посмотрим на график распределения температуры партии металла. Построим гистограмму распределения и диаграмму размаха."
   ]
  },
  {
   "cell_type": "code",
   "execution_count": 42,
   "id": "8d274c47",
   "metadata": {},
   "outputs": [
    {
     "data": {
      "image/png": "[encoded data removed]",
      "text/plain": [
       "<Figure size 1296x576 with 2 Axes>"
      ]
     },
     "metadata": {
      "needs_background": "light"
     },
     "output_type": "display_data"
    }
   ],
   "source": [
    "fig, ax = plt.subplots(1,2, figsize=(18,8))\n",
    "data_temp['Температура'].plot(kind='hist', bins=1000, title = 'Температура',grid=True, ax=ax[0])\n",
    "data_temp['Температура'].plot(kind = 'box', title= 'Температура', grid=True,ax=ax[1])\n",
    "plt.show()"
   ]
  },
  {
   "cell_type": "markdown",
   "id": "6b1386e8",
   "metadata": {},
   "source": [
    "Судя по графикам распределение близко к нормальному, есть небольшое количество аномально низких и высоких температур."
   ]
  },
  {
   "cell_type": "markdown",
   "id": "50f34a43",
   "metadata": {},
   "source": [
    "Отлельно посмотрим на пропуски в данных."
   ]
  },
  {
   "cell_type": "code",
   "execution_count": 43,
   "id": "238c02c0",
   "metadata": {},
   "outputs": [],
   "source": [
    "data_temp_isna = data_temp[data_temp['Температура'].isna()==True]"
   ]
  },
  {
   "cell_type": "code",
   "execution_count": 44,
   "id": "058bf229",
   "metadata": {
    "scrolled": true
   },
   "outputs": [
    {
     "data": {
      "text/html": [
       "<div>\n",
       "<style scoped>\n",
       "    .dataframe tbody tr th:only-of-type {\n",
       "        vertical-align: middle;\n",
       "    }\n",
       "\n",
       "    .dataframe tbody tr th {\n",
       "        vertical-align: top;\n",
       "    }\n",
       "\n",
       "    .dataframe thead th {\n",
       "        text-align: right;\n",
       "    }\n",
       "</style>\n",
       "<table border=\"1\" class=\"dataframe\">\n",
       "  <thead>\n",
       "    <tr style=\"text-align: right;\">\n",
       "      <th></th>\n",
       "      <th>key</th>\n",
       "      <th>Время замера</th>\n",
       "      <th>Температура</th>\n",
       "    </tr>\n",
       "  </thead>\n",
       "  <tbody>\n",
       "    <tr>\n",
       "      <th>12268</th>\n",
       "      <td>2500</td>\n",
       "      <td>2019-08-06 03:24:43</td>\n",
       "      <td>NaN</td>\n",
       "    </tr>\n",
       "    <tr>\n",
       "      <th>12269</th>\n",
       "      <td>2500</td>\n",
       "      <td>2019-08-06 03:25:16</td>\n",
       "      <td>NaN</td>\n",
       "    </tr>\n",
       "    <tr>\n",
       "      <th>12270</th>\n",
       "      <td>2500</td>\n",
       "      <td>2019-08-06 03:28:21</td>\n",
       "      <td>NaN</td>\n",
       "    </tr>\n",
       "    <tr>\n",
       "      <th>12272</th>\n",
       "      <td>2501</td>\n",
       "      <td>2019-08-06 04:01:59</td>\n",
       "      <td>NaN</td>\n",
       "    </tr>\n",
       "    <tr>\n",
       "      <th>12273</th>\n",
       "      <td>2501</td>\n",
       "      <td>2019-08-06 04:14:35</td>\n",
       "      <td>NaN</td>\n",
       "    </tr>\n",
       "    <tr>\n",
       "      <th>12274</th>\n",
       "      <td>2501</td>\n",
       "      <td>2019-08-06 04:22:14</td>\n",
       "      <td>NaN</td>\n",
       "    </tr>\n",
       "    <tr>\n",
       "      <th>12275</th>\n",
       "      <td>2501</td>\n",
       "      <td>2019-08-06 04:31:14</td>\n",
       "      <td>NaN</td>\n",
       "    </tr>\n",
       "    <tr>\n",
       "      <th>12277</th>\n",
       "      <td>2502</td>\n",
       "      <td>2019-08-06 04:46:04</td>\n",
       "      <td>NaN</td>\n",
       "    </tr>\n",
       "    <tr>\n",
       "      <th>12278</th>\n",
       "      <td>2502</td>\n",
       "      <td>2019-08-06 04:52:32</td>\n",
       "      <td>NaN</td>\n",
       "    </tr>\n",
       "    <tr>\n",
       "      <th>12279</th>\n",
       "      <td>2502</td>\n",
       "      <td>2019-08-06 04:57:30</td>\n",
       "      <td>NaN</td>\n",
       "    </tr>\n",
       "    <tr>\n",
       "      <th>12280</th>\n",
       "      <td>2502</td>\n",
       "      <td>2019-08-06 05:04:16</td>\n",
       "      <td>NaN</td>\n",
       "    </tr>\n",
       "    <tr>\n",
       "      <th>12281</th>\n",
       "      <td>2502</td>\n",
       "      <td>2019-08-06 05:11:38</td>\n",
       "      <td>NaN</td>\n",
       "    </tr>\n",
       "    <tr>\n",
       "      <th>12282</th>\n",
       "      <td>2502</td>\n",
       "      <td>2019-08-06 05:12:20</td>\n",
       "      <td>NaN</td>\n",
       "    </tr>\n",
       "    <tr>\n",
       "      <th>12284</th>\n",
       "      <td>2503</td>\n",
       "      <td>2019-08-06 05:50:37</td>\n",
       "      <td>NaN</td>\n",
       "    </tr>\n",
       "    <tr>\n",
       "      <th>12285</th>\n",
       "      <td>2503</td>\n",
       "      <td>2019-08-06 06:00:36</td>\n",
       "      <td>NaN</td>\n",
       "    </tr>\n",
       "    <tr>\n",
       "      <th>12286</th>\n",
       "      <td>2503</td>\n",
       "      <td>2019-08-06 06:07:35</td>\n",
       "      <td>NaN</td>\n",
       "    </tr>\n",
       "    <tr>\n",
       "      <th>12288</th>\n",
       "      <td>2504</td>\n",
       "      <td>2019-08-06 06:52:14</td>\n",
       "      <td>NaN</td>\n",
       "    </tr>\n",
       "    <tr>\n",
       "      <th>12289</th>\n",
       "      <td>2504</td>\n",
       "      <td>2019-08-06 07:04:16</td>\n",
       "      <td>NaN</td>\n",
       "    </tr>\n",
       "    <tr>\n",
       "      <th>12291</th>\n",
       "      <td>2505</td>\n",
       "      <td>2019-08-06 07:26:08</td>\n",
       "      <td>NaN</td>\n",
       "    </tr>\n",
       "    <tr>\n",
       "      <th>12292</th>\n",
       "      <td>2505</td>\n",
       "      <td>2019-08-06 07:34:58</td>\n",
       "      <td>NaN</td>\n",
       "    </tr>\n",
       "  </tbody>\n",
       "</table>\n",
       "</div>"
      ],
      "text/plain": [
       "        key         Время замера  Температура\n",
       "12268  2500  2019-08-06 03:24:43          NaN\n",
       "12269  2500  2019-08-06 03:25:16          NaN\n",
       "12270  2500  2019-08-06 03:28:21          NaN\n",
       "12272  2501  2019-08-06 04:01:59          NaN\n",
       "12273  2501  2019-08-06 04:14:35          NaN\n",
       "12274  2501  2019-08-06 04:22:14          NaN\n",
       "12275  2501  2019-08-06 04:31:14          NaN\n",
       "12277  2502  2019-08-06 04:46:04          NaN\n",
       "12278  2502  2019-08-06 04:52:32          NaN\n",
       "12279  2502  2019-08-06 04:57:30          NaN\n",
       "12280  2502  2019-08-06 05:04:16          NaN\n",
       "12281  2502  2019-08-06 05:11:38          NaN\n",
       "12282  2502  2019-08-06 05:12:20          NaN\n",
       "12284  2503  2019-08-06 05:50:37          NaN\n",
       "12285  2503  2019-08-06 06:00:36          NaN\n",
       "12286  2503  2019-08-06 06:07:35          NaN\n",
       "12288  2504  2019-08-06 06:52:14          NaN\n",
       "12289  2504  2019-08-06 07:04:16          NaN\n",
       "12291  2505  2019-08-06 07:26:08          NaN\n",
       "12292  2505  2019-08-06 07:34:58          NaN"
      ]
     },
     "execution_count": 44,
     "metadata": {},
     "output_type": "execute_result"
    }
   ],
   "source": [
    "data_temp_isna.head(20)"
   ]
  },
  {
   "cell_type": "code",
   "execution_count": 45,
   "id": "b1d2fc13",
   "metadata": {
    "scrolled": true
   },
   "outputs": [
    {
     "data": {
      "text/plain": [
       "array([2500, 2501, 2502, 2503, 2504, 2505, 2506, 2507, 2508, 2509, 2510,\n",
       "       2511, 2512, 2513, 2514, 2515, 2516, 2517, 2518, 2519, 2520, 2521,\n",
       "       2522, 2523, 2524, 2525, 2526, 2527, 2528, 2529, 2530, 2531, 2532,\n",
       "       2533, 2534, 2535, 2536, 2537, 2538, 2539, 2540, 2541, 2542, 2543,\n",
       "       2544, 2545, 2546, 2547, 2548, 2549, 2550, 2551, 2552, 2553, 2554,\n",
       "       2555, 2556, 2557, 2558, 2559, 2560, 2561, 2562, 2563, 2564, 2565,\n",
       "       2566, 2567, 2568, 2569, 2570, 2571, 2572, 2573, 2574, 2575, 2576,\n",
       "       2577, 2578, 2579, 2580, 2581, 2582, 2583, 2584, 2585, 2586, 2587,\n",
       "       2588, 2589, 2590, 2591, 2592, 2593, 2594, 2595, 2596, 2597, 2598,\n",
       "       2599, 2600, 2601, 2602, 2603, 2604, 2605, 2606, 2607, 2608, 2609,\n",
       "       2610, 2611, 2612, 2613, 2614, 2615, 2616, 2617, 2618, 2619, 2620,\n",
       "       2621, 2622, 2623, 2624, 2625, 2626, 2627, 2628, 2629, 2630, 2631,\n",
       "       2632, 2633, 2634, 2635, 2636, 2637, 2638, 2639, 2640, 2641, 2642,\n",
       "       2643, 2644, 2645, 2646, 2647, 2648, 2649, 2650, 2651, 2652, 2653,\n",
       "       2654, 2655, 2656, 2657, 2658, 2659, 2660, 2661, 2662, 2663, 2664,\n",
       "       2665, 2666, 2667, 2668, 2669, 2670, 2671, 2672, 2673, 2674, 2675,\n",
       "       2676, 2677, 2678, 2679, 2680, 2681, 2682, 2684, 2685, 2686, 2687,\n",
       "       2688, 2689, 2690, 2691, 2692, 2693, 2694, 2695, 2696, 2697, 2698,\n",
       "       2699, 2700, 2701, 2702, 2703, 2704, 2705, 2706, 2707, 2708, 2709,\n",
       "       2710, 2711, 2712, 2713, 2714, 2715, 2716, 2717, 2718, 2719, 2720,\n",
       "       2721, 2722, 2723, 2724, 2725, 2726, 2727, 2728, 2729, 2730, 2731,\n",
       "       2732, 2733, 2734, 2735, 2736, 2737, 2738, 2739, 2740, 2741, 2742,\n",
       "       2743, 2744, 2745, 2746, 2747, 2748, 2749, 2750, 2751, 2752, 2753,\n",
       "       2754, 2755, 2756, 2757, 2758, 2759, 2760, 2761, 2762, 2763, 2764,\n",
       "       2765, 2766, 2767, 2768, 2769, 2770, 2771, 2772, 2773, 2774, 2775,\n",
       "       2776, 2777, 2778, 2779, 2780, 2781, 2782, 2783, 2784, 2785, 2786,\n",
       "       2787, 2788, 2789, 2790, 2791, 2792, 2793, 2794, 2795, 2796, 2797,\n",
       "       2798, 2799, 2800, 2801, 2802, 2803, 2804, 2805, 2806, 2807, 2808,\n",
       "       2809, 2810, 2811, 2812, 2813, 2814, 2815, 2816, 2817, 2818, 2819,\n",
       "       2820, 2821, 2822, 2823, 2824, 2825, 2826, 2827, 2828, 2829, 2830,\n",
       "       2831, 2832, 2833, 2834, 2835, 2836, 2837, 2838, 2839, 2840, 2841,\n",
       "       2842, 2843, 2844, 2845, 2846, 2847, 2848, 2849, 2850, 2851, 2852,\n",
       "       2853, 2854, 2855, 2856, 2857, 2858, 2859, 2860, 2861, 2862, 2863,\n",
       "       2864, 2865, 2866, 2867, 2868, 2869, 2870, 2871, 2872, 2873, 2874,\n",
       "       2875, 2876, 2877, 2878, 2879, 2880, 2881, 2882, 2883, 2884, 2885,\n",
       "       2886, 2887, 2888, 2889, 2890, 2891, 2892, 2893, 2894, 2895, 2896,\n",
       "       2897, 2898, 2899, 2900, 2901, 2902, 2903, 2904, 2905, 2906, 2907,\n",
       "       2908, 2909, 2910, 2911, 2912, 2913, 2914, 2915, 2916, 2917, 2918,\n",
       "       2919, 2920, 2921, 2922, 2923, 2924, 2925, 2926, 2927, 2928, 2929,\n",
       "       2930, 2931, 2932, 2933, 2934, 2935, 2936, 2937, 2938, 2939, 2940,\n",
       "       2941, 2942, 2943, 2944, 2945, 2946, 2947, 2948, 2949, 2950, 2951,\n",
       "       2952, 2953, 2954, 2955, 2956, 2957, 2958, 2959, 2960, 2961, 2962,\n",
       "       2963, 2964, 2965, 2966, 2967, 2968, 2969, 2970, 2971, 2972, 2973,\n",
       "       2974, 2975, 2976, 2977, 2978, 2979, 2980, 2981, 2982, 2983, 2984,\n",
       "       2985, 2986, 2987, 2988, 2989, 2990, 2991, 2992, 2993, 2994, 2995,\n",
       "       2996, 2997, 2998, 2999, 3000, 3001, 3002, 3003, 3004, 3005, 3006,\n",
       "       3007, 3008, 3009, 3010, 3011, 3012, 3013, 3014, 3015, 3016, 3017,\n",
       "       3018, 3019, 3020, 3021, 3022, 3023, 3024, 3025, 3026, 3027, 3028,\n",
       "       3029, 3030, 3031, 3032, 3033, 3034, 3035, 3036, 3037, 3038, 3039,\n",
       "       3040, 3041, 3042, 3043, 3044, 3045, 3046, 3047, 3048, 3049, 3050,\n",
       "       3051, 3052, 3053, 3054, 3055, 3056, 3057, 3058, 3059, 3060, 3061,\n",
       "       3062, 3063, 3064, 3065, 3066, 3067, 3068, 3069, 3070, 3071, 3072,\n",
       "       3073, 3074, 3075, 3076, 3077, 3078, 3079, 3080, 3081, 3082, 3083,\n",
       "       3084, 3085, 3086, 3087, 3088, 3089, 3090, 3091, 3092, 3093, 3094,\n",
       "       3095, 3096, 3097, 3098, 3099, 3100, 3101, 3102, 3103, 3104, 3105,\n",
       "       3106, 3107, 3108, 3109, 3110, 3111, 3112, 3113, 3114, 3115, 3116,\n",
       "       3117, 3118, 3119, 3120, 3121, 3122, 3123, 3124, 3125, 3126, 3127,\n",
       "       3128, 3129, 3130, 3131, 3132, 3133, 3134, 3135, 3136, 3137, 3138,\n",
       "       3139, 3140, 3141, 3142, 3143, 3144, 3145, 3146, 3147, 3148, 3149,\n",
       "       3150, 3151, 3152, 3153, 3154, 3155, 3156, 3157, 3158, 3159, 3160,\n",
       "       3161, 3162, 3163, 3164, 3165, 3166, 3167, 3168, 3169, 3170, 3171,\n",
       "       3172, 3173, 3174, 3175, 3176, 3177, 3178, 3179, 3180, 3181, 3182,\n",
       "       3183, 3184, 3185, 3186, 3187, 3188, 3189, 3190, 3191, 3192, 3193,\n",
       "       3194, 3195, 3196, 3197, 3198, 3199, 3201, 3202, 3203, 3204, 3205,\n",
       "       3206, 3208, 3209, 3210, 3211, 3212, 3213, 3214, 3215, 3216, 3217,\n",
       "       3218, 3219, 3220, 3221, 3222, 3223, 3224, 3225, 3226, 3227, 3228,\n",
       "       3229, 3230, 3231, 3232, 3233, 3234, 3235, 3236, 3237, 3238, 3239,\n",
       "       3240, 3241])"
      ]
     },
     "execution_count": 45,
     "metadata": {},
     "output_type": "execute_result"
    }
   ],
   "source": [
    "data_temp_isna['key'].unique()"
   ]
  },
  {
   "cell_type": "code",
   "execution_count": 46,
   "id": "980fc87c",
   "metadata": {},
   "outputs": [
    {
     "data": {
      "text/plain": [
       "739"
      ]
     },
     "execution_count": 46,
     "metadata": {},
     "output_type": "execute_result"
    }
   ],
   "source": [
    "len(data_temp_isna['key'].unique())"
   ]
  },
  {
   "cell_type": "markdown",
   "id": "9995b0ff",
   "metadata": {},
   "source": [
    "Пропущены значения в 739 партиях, начиная с 2500ой. Посмотрим на долю пропущенных значений температуры в общем количестве замеров для партии."
   ]
  },
  {
   "cell_type": "markdown",
   "id": "aa7bd946",
   "metadata": {},
   "source": []
  },
  {
   "cell_type": "code",
   "execution_count": 47,
   "id": "5a4670c7",
   "metadata": {},
   "outputs": [
    {
     "data": {
      "text/html": [
       "<div>\n",
       "<style scoped>\n",
       "    .dataframe tbody tr th:only-of-type {\n",
       "        vertical-align: middle;\n",
       "    }\n",
       "\n",
       "    .dataframe tbody tr th {\n",
       "        vertical-align: top;\n",
       "    }\n",
       "\n",
       "    .dataframe thead th {\n",
       "        text-align: right;\n",
       "    }\n",
       "</style>\n",
       "<table border=\"1\" class=\"dataframe\">\n",
       "  <thead>\n",
       "    <tr style=\"text-align: right;\">\n",
       "      <th></th>\n",
       "      <th>Время замера</th>\n",
       "      <th>Температура</th>\n",
       "    </tr>\n",
       "    <tr>\n",
       "      <th>key</th>\n",
       "      <th></th>\n",
       "      <th></th>\n",
       "    </tr>\n",
       "  </thead>\n",
       "  <tbody>\n",
       "    <tr>\n",
       "      <th>181</th>\n",
       "      <td>7</td>\n",
       "      <td>7</td>\n",
       "    </tr>\n",
       "    <tr>\n",
       "      <th>490</th>\n",
       "      <td>4</td>\n",
       "      <td>4</td>\n",
       "    </tr>\n",
       "    <tr>\n",
       "      <th>1625</th>\n",
       "      <td>5</td>\n",
       "      <td>5</td>\n",
       "    </tr>\n",
       "    <tr>\n",
       "      <th>896</th>\n",
       "      <td>5</td>\n",
       "      <td>5</td>\n",
       "    </tr>\n",
       "    <tr>\n",
       "      <th>2183</th>\n",
       "      <td>4</td>\n",
       "      <td>4</td>\n",
       "    </tr>\n",
       "    <tr>\n",
       "      <th>2802</th>\n",
       "      <td>4</td>\n",
       "      <td>1</td>\n",
       "    </tr>\n",
       "    <tr>\n",
       "      <th>962</th>\n",
       "      <td>5</td>\n",
       "      <td>5</td>\n",
       "    </tr>\n",
       "    <tr>\n",
       "      <th>1335</th>\n",
       "      <td>6</td>\n",
       "      <td>6</td>\n",
       "    </tr>\n",
       "    <tr>\n",
       "      <th>1538</th>\n",
       "      <td>6</td>\n",
       "      <td>6</td>\n",
       "    </tr>\n",
       "    <tr>\n",
       "      <th>1734</th>\n",
       "      <td>2</td>\n",
       "      <td>2</td>\n",
       "    </tr>\n",
       "  </tbody>\n",
       "</table>\n",
       "</div>"
      ],
      "text/plain": [
       "      Время замера  Температура\n",
       "key                            \n",
       "181              7            7\n",
       "490              4            4\n",
       "1625             5            5\n",
       "896              5            5\n",
       "2183             4            4\n",
       "2802             4            1\n",
       "962              5            5\n",
       "1335             6            6\n",
       "1538             6            6\n",
       "1734             2            2"
      ]
     },
     "execution_count": 47,
     "metadata": {},
     "output_type": "execute_result"
    }
   ],
   "source": [
    "data_temp_group = data_temp.groupby(['key']).count()\n",
    "data_temp_group.sample(10)"
   ]
  },
  {
   "cell_type": "code",
   "execution_count": 48,
   "id": "a74b628a",
   "metadata": {},
   "outputs": [
    {
     "data": {
      "text/plain": [
       "14      1\n",
       "13      1\n",
       "15      2\n",
       "16      4\n",
       "12     12\n",
       "11     16\n",
       "10     21\n",
       "9      43\n",
       "2      56\n",
       "8     100\n",
       "7     182\n",
       "6     370\n",
       "3     432\n",
       "5     585\n",
       "4     650\n",
       "1     741\n",
       "Name: Температура, dtype: int64"
      ]
     },
     "execution_count": 48,
     "metadata": {},
     "output_type": "execute_result"
    }
   ],
   "source": [
    "data_temp_group['Температура'].value_counts().sort_values()"
   ]
  },
  {
   "cell_type": "code",
   "execution_count": 49,
   "id": "076d85fe",
   "metadata": {},
   "outputs": [
    {
     "data": {
      "image/png": "[encoded data removed]",
      "text/plain": [
       "<Figure size 432x288 with 1 Axes>"
      ]
     },
     "metadata": {
      "needs_background": "light"
     },
     "output_type": "display_data"
    }
   ],
   "source": [
    "data_temp_group['ratio'] = (data_temp_group['Температура']/data_temp_group['Время замера'])\n",
    "plt.hist(data_temp_group['ratio'])\n",
    "plt.grid()\n",
    "plt.xlabel('Доля данных без пропусков в измерении температуры')\n",
    "plt.ylabel('Количество партий')\n",
    "plt.show()"
   ]
  },
  {
   "cell_type": "markdown",
   "id": "79c42510",
   "metadata": {},
   "source": [
    "В большинстве случаев есть все значения температурных измерения. Но также есть партии с единичным замером температуры, есть партии с пропущенными значениями температуры в середине технологического процесса."
   ]
  },
  {
   "cell_type": "markdown",
   "id": "6e769478",
   "metadata": {},
   "source": [
    "Переименуем столбцы исходной таблицы."
   ]
  },
  {
   "cell_type": "code",
   "execution_count": 50,
   "id": "86c705de",
   "metadata": {},
   "outputs": [],
   "source": [
    "data_temp.columns=['key', 'time', 'temp']"
   ]
  },
  {
   "cell_type": "code",
   "execution_count": 51,
   "id": "1d3f7779",
   "metadata": {},
   "outputs": [
    {
     "data": {
      "text/html": [
       "<div>\n",
       "<style scoped>\n",
       "    .dataframe tbody tr th:only-of-type {\n",
       "        vertical-align: middle;\n",
       "    }\n",
       "\n",
       "    .dataframe tbody tr th {\n",
       "        vertical-align: top;\n",
       "    }\n",
       "\n",
       "    .dataframe thead th {\n",
       "        text-align: right;\n",
       "    }\n",
       "</style>\n",
       "<table border=\"1\" class=\"dataframe\">\n",
       "  <thead>\n",
       "    <tr style=\"text-align: right;\">\n",
       "      <th></th>\n",
       "      <th>key</th>\n",
       "      <th>time</th>\n",
       "      <th>temp</th>\n",
       "    </tr>\n",
       "  </thead>\n",
       "  <tbody>\n",
       "    <tr>\n",
       "      <th>0</th>\n",
       "      <td>1</td>\n",
       "      <td>2019-05-03 11:16:18</td>\n",
       "      <td>1571.0</td>\n",
       "    </tr>\n",
       "    <tr>\n",
       "      <th>1</th>\n",
       "      <td>1</td>\n",
       "      <td>2019-05-03 11:25:53</td>\n",
       "      <td>1604.0</td>\n",
       "    </tr>\n",
       "    <tr>\n",
       "      <th>2</th>\n",
       "      <td>1</td>\n",
       "      <td>2019-05-03 11:29:11</td>\n",
       "      <td>1618.0</td>\n",
       "    </tr>\n",
       "    <tr>\n",
       "      <th>3</th>\n",
       "      <td>1</td>\n",
       "      <td>2019-05-03 11:30:01</td>\n",
       "      <td>1601.0</td>\n",
       "    </tr>\n",
       "    <tr>\n",
       "      <th>4</th>\n",
       "      <td>1</td>\n",
       "      <td>2019-05-03 11:30:39</td>\n",
       "      <td>1613.0</td>\n",
       "    </tr>\n",
       "  </tbody>\n",
       "</table>\n",
       "</div>"
      ],
      "text/plain": [
       "   key                 time    temp\n",
       "0    1  2019-05-03 11:16:18  1571.0\n",
       "1    1  2019-05-03 11:25:53  1604.0\n",
       "2    1  2019-05-03 11:29:11  1618.0\n",
       "3    1  2019-05-03 11:30:01  1601.0\n",
       "4    1  2019-05-03 11:30:39  1613.0"
      ]
     },
     "execution_count": 51,
     "metadata": {},
     "output_type": "execute_result"
    }
   ],
   "source": [
    "data_temp.head()"
   ]
  },
  {
   "cell_type": "markdown",
   "id": "bbc232cc",
   "metadata": {},
   "source": [
    "<b> ВЫВОД: Исследованы данные об измерениях температуры сплавов. Распределение целевого признака (температуры металла) близко к нормальному. Есть пропуски. Предлагается удалить пропущенные значения, а также те партии, в которых присутствует только одно измерение температуры сплава, либо нет конечного измерения. Для этого необходимо будет восстановить технологический процесс для каждой партии поэтапно.\n",
    "</b>"
   ]
  },
  {
   "cell_type": "markdown",
   "id": "34eec1bd",
   "metadata": {},
   "source": [
    "### Данные о проволочных материалах (объём)"
   ]
  },
  {
   "cell_type": "code",
   "execution_count": 52,
   "id": "a492acc4",
   "metadata": {},
   "outputs": [],
   "source": [
    "try:\n",
    "    data_wire = pd.read_csv(r'C:\\Users\\Марина\\Downloads\\final_steel\\final_steel\\data_wire.csv')\n",
    "except:\n",
    "    data_wire = pd.read_csv('/datasets/final_steel/data_wire.csv')"
   ]
  },
  {
   "cell_type": "code",
   "execution_count": 53,
   "id": "2cc01103",
   "metadata": {},
   "outputs": [
    {
     "data": {
      "text/html": [
       "<div>\n",
       "<style scoped>\n",
       "    .dataframe tbody tr th:only-of-type {\n",
       "        vertical-align: middle;\n",
       "    }\n",
       "\n",
       "    .dataframe tbody tr th {\n",
       "        vertical-align: top;\n",
       "    }\n",
       "\n",
       "    .dataframe thead th {\n",
       "        text-align: right;\n",
       "    }\n",
       "</style>\n",
       "<table border=\"1\" class=\"dataframe\">\n",
       "  <thead>\n",
       "    <tr style=\"text-align: right;\">\n",
       "      <th></th>\n",
       "      <th>key</th>\n",
       "      <th>Wire 1</th>\n",
       "      <th>Wire 2</th>\n",
       "      <th>Wire 3</th>\n",
       "      <th>Wire 4</th>\n",
       "      <th>Wire 5</th>\n",
       "      <th>Wire 6</th>\n",
       "      <th>Wire 7</th>\n",
       "      <th>Wire 8</th>\n",
       "      <th>Wire 9</th>\n",
       "    </tr>\n",
       "  </thead>\n",
       "  <tbody>\n",
       "    <tr>\n",
       "      <th>1508</th>\n",
       "      <td>1587</td>\n",
       "      <td>78.109196</td>\n",
       "      <td>120.187599</td>\n",
       "      <td>NaN</td>\n",
       "      <td>NaN</td>\n",
       "      <td>NaN</td>\n",
       "      <td>NaN</td>\n",
       "      <td>NaN</td>\n",
       "      <td>NaN</td>\n",
       "      <td>NaN</td>\n",
       "    </tr>\n",
       "    <tr>\n",
       "      <th>2338</th>\n",
       "      <td>2463</td>\n",
       "      <td>126.016800</td>\n",
       "      <td>175.501037</td>\n",
       "      <td>NaN</td>\n",
       "      <td>NaN</td>\n",
       "      <td>NaN</td>\n",
       "      <td>NaN</td>\n",
       "      <td>NaN</td>\n",
       "      <td>NaN</td>\n",
       "      <td>NaN</td>\n",
       "    </tr>\n",
       "    <tr>\n",
       "      <th>2062</th>\n",
       "      <td>2160</td>\n",
       "      <td>95.135040</td>\n",
       "      <td>NaN</td>\n",
       "      <td>NaN</td>\n",
       "      <td>NaN</td>\n",
       "      <td>NaN</td>\n",
       "      <td>NaN</td>\n",
       "      <td>NaN</td>\n",
       "      <td>NaN</td>\n",
       "      <td>NaN</td>\n",
       "    </tr>\n",
       "    <tr>\n",
       "      <th>1971</th>\n",
       "      <td>2068</td>\n",
       "      <td>154.103042</td>\n",
       "      <td>46.205120</td>\n",
       "      <td>NaN</td>\n",
       "      <td>NaN</td>\n",
       "      <td>NaN</td>\n",
       "      <td>NaN</td>\n",
       "      <td>NaN</td>\n",
       "      <td>NaN</td>\n",
       "      <td>NaN</td>\n",
       "    </tr>\n",
       "    <tr>\n",
       "      <th>442</th>\n",
       "      <td>474</td>\n",
       "      <td>77.220001</td>\n",
       "      <td>NaN</td>\n",
       "      <td>NaN</td>\n",
       "      <td>NaN</td>\n",
       "      <td>NaN</td>\n",
       "      <td>NaN</td>\n",
       "      <td>NaN</td>\n",
       "      <td>NaN</td>\n",
       "      <td>NaN</td>\n",
       "    </tr>\n",
       "    <tr>\n",
       "      <th>1000</th>\n",
       "      <td>1060</td>\n",
       "      <td>166.701602</td>\n",
       "      <td>NaN</td>\n",
       "      <td>NaN</td>\n",
       "      <td>NaN</td>\n",
       "      <td>NaN</td>\n",
       "      <td>NaN</td>\n",
       "      <td>NaN</td>\n",
       "      <td>NaN</td>\n",
       "      <td>NaN</td>\n",
       "    </tr>\n",
       "    <tr>\n",
       "      <th>2954</th>\n",
       "      <td>3113</td>\n",
       "      <td>102.080162</td>\n",
       "      <td>NaN</td>\n",
       "      <td>NaN</td>\n",
       "      <td>NaN</td>\n",
       "      <td>NaN</td>\n",
       "      <td>NaN</td>\n",
       "      <td>NaN</td>\n",
       "      <td>NaN</td>\n",
       "      <td>NaN</td>\n",
       "    </tr>\n",
       "    <tr>\n",
       "      <th>1700</th>\n",
       "      <td>1787</td>\n",
       "      <td>165.157196</td>\n",
       "      <td>42.314480</td>\n",
       "      <td>NaN</td>\n",
       "      <td>NaN</td>\n",
       "      <td>NaN</td>\n",
       "      <td>NaN</td>\n",
       "      <td>NaN</td>\n",
       "      <td>NaN</td>\n",
       "      <td>NaN</td>\n",
       "    </tr>\n",
       "    <tr>\n",
       "      <th>2473</th>\n",
       "      <td>2600</td>\n",
       "      <td>30.750720</td>\n",
       "      <td>NaN</td>\n",
       "      <td>NaN</td>\n",
       "      <td>NaN</td>\n",
       "      <td>NaN</td>\n",
       "      <td>NaN</td>\n",
       "      <td>NaN</td>\n",
       "      <td>NaN</td>\n",
       "      <td>NaN</td>\n",
       "    </tr>\n",
       "    <tr>\n",
       "      <th>2065</th>\n",
       "      <td>2163</td>\n",
       "      <td>75.042236</td>\n",
       "      <td>NaN</td>\n",
       "      <td>NaN</td>\n",
       "      <td>NaN</td>\n",
       "      <td>NaN</td>\n",
       "      <td>NaN</td>\n",
       "      <td>NaN</td>\n",
       "      <td>NaN</td>\n",
       "      <td>NaN</td>\n",
       "    </tr>\n",
       "  </tbody>\n",
       "</table>\n",
       "</div>"
      ],
      "text/plain": [
       "       key      Wire 1      Wire 2  Wire 3  Wire 4  Wire 5  Wire 6  Wire 7  \\\n",
       "1508  1587   78.109196  120.187599     NaN     NaN     NaN     NaN     NaN   \n",
       "2338  2463  126.016800  175.501037     NaN     NaN     NaN     NaN     NaN   \n",
       "2062  2160   95.135040         NaN     NaN     NaN     NaN     NaN     NaN   \n",
       "1971  2068  154.103042   46.205120     NaN     NaN     NaN     NaN     NaN   \n",
       "442    474   77.220001         NaN     NaN     NaN     NaN     NaN     NaN   \n",
       "1000  1060  166.701602         NaN     NaN     NaN     NaN     NaN     NaN   \n",
       "2954  3113  102.080162         NaN     NaN     NaN     NaN     NaN     NaN   \n",
       "1700  1787  165.157196   42.314480     NaN     NaN     NaN     NaN     NaN   \n",
       "2473  2600   30.750720         NaN     NaN     NaN     NaN     NaN     NaN   \n",
       "2065  2163   75.042236         NaN     NaN     NaN     NaN     NaN     NaN   \n",
       "\n",
       "      Wire 8  Wire 9  \n",
       "1508     NaN     NaN  \n",
       "2338     NaN     NaN  \n",
       "2062     NaN     NaN  \n",
       "1971     NaN     NaN  \n",
       "442      NaN     NaN  \n",
       "1000     NaN     NaN  \n",
       "2954     NaN     NaN  \n",
       "1700     NaN     NaN  \n",
       "2473     NaN     NaN  \n",
       "2065     NaN     NaN  "
      ]
     },
     "execution_count": 53,
     "metadata": {},
     "output_type": "execute_result"
    }
   ],
   "source": [
    "data_wire.sample(10)"
   ]
  },
  {
   "cell_type": "code",
   "execution_count": 54,
   "id": "368a4e00",
   "metadata": {},
   "outputs": [
    {
     "name": "stdout",
     "output_type": "stream",
     "text": [
      "<class 'pandas.core.frame.DataFrame'>\n",
      "RangeIndex: 3081 entries, 0 to 3080\n",
      "Data columns (total 10 columns):\n",
      " #   Column  Non-Null Count  Dtype  \n",
      "---  ------  --------------  -----  \n",
      " 0   key     3081 non-null   int64  \n",
      " 1   Wire 1  3055 non-null   float64\n",
      " 2   Wire 2  1079 non-null   float64\n",
      " 3   Wire 3  63 non-null     float64\n",
      " 4   Wire 4  14 non-null     float64\n",
      " 5   Wire 5  1 non-null      float64\n",
      " 6   Wire 6  73 non-null     float64\n",
      " 7   Wire 7  11 non-null     float64\n",
      " 8   Wire 8  19 non-null     float64\n",
      " 9   Wire 9  29 non-null     float64\n",
      "dtypes: float64(9), int64(1)\n",
      "memory usage: 240.8 KB\n"
     ]
    }
   ],
   "source": [
    "data_wire.info()"
   ]
  },
  {
   "cell_type": "code",
   "execution_count": 55,
   "id": "b2e39828",
   "metadata": {},
   "outputs": [
    {
     "data": {
      "text/plain": [
       "key          0\n",
       "Wire 1      26\n",
       "Wire 2    2002\n",
       "Wire 3    3018\n",
       "Wire 4    3067\n",
       "Wire 5    3080\n",
       "Wire 6    3008\n",
       "Wire 7    3070\n",
       "Wire 8    3062\n",
       "Wire 9    3052\n",
       "dtype: int64"
      ]
     },
     "execution_count": 55,
     "metadata": {},
     "output_type": "execute_result"
    }
   ],
   "source": [
    "data_wire.isna().sum()"
   ]
  },
  {
   "cell_type": "code",
   "execution_count": 56,
   "id": "e67bdae4",
   "metadata": {},
   "outputs": [
    {
     "data": {
      "text/html": [
       "<div>\n",
       "<style scoped>\n",
       "    .dataframe tbody tr th:only-of-type {\n",
       "        vertical-align: middle;\n",
       "    }\n",
       "\n",
       "    .dataframe tbody tr th {\n",
       "        vertical-align: top;\n",
       "    }\n",
       "\n",
       "    .dataframe thead th {\n",
       "        text-align: right;\n",
       "    }\n",
       "</style>\n",
       "<table border=\"1\" class=\"dataframe\">\n",
       "  <thead>\n",
       "    <tr style=\"text-align: right;\">\n",
       "      <th></th>\n",
       "      <th>key</th>\n",
       "      <th>Wire 1</th>\n",
       "      <th>Wire 2</th>\n",
       "      <th>Wire 3</th>\n",
       "      <th>Wire 4</th>\n",
       "      <th>Wire 5</th>\n",
       "      <th>Wire 6</th>\n",
       "      <th>Wire 7</th>\n",
       "      <th>Wire 8</th>\n",
       "      <th>Wire 9</th>\n",
       "    </tr>\n",
       "  </thead>\n",
       "  <tbody>\n",
       "    <tr>\n",
       "      <th>count</th>\n",
       "      <td>3081.000000</td>\n",
       "      <td>3055.000000</td>\n",
       "      <td>1079.000000</td>\n",
       "      <td>63.000000</td>\n",
       "      <td>14.000000</td>\n",
       "      <td>1.000</td>\n",
       "      <td>73.000000</td>\n",
       "      <td>11.000000</td>\n",
       "      <td>19.000000</td>\n",
       "      <td>29.000000</td>\n",
       "    </tr>\n",
       "    <tr>\n",
       "      <th>mean</th>\n",
       "      <td>1623.426485</td>\n",
       "      <td>100.895853</td>\n",
       "      <td>50.577323</td>\n",
       "      <td>189.482681</td>\n",
       "      <td>57.442841</td>\n",
       "      <td>15.132</td>\n",
       "      <td>48.016974</td>\n",
       "      <td>10.039007</td>\n",
       "      <td>53.625193</td>\n",
       "      <td>34.155752</td>\n",
       "    </tr>\n",
       "    <tr>\n",
       "      <th>std</th>\n",
       "      <td>932.996726</td>\n",
       "      <td>42.012518</td>\n",
       "      <td>39.320216</td>\n",
       "      <td>99.513444</td>\n",
       "      <td>28.824667</td>\n",
       "      <td>NaN</td>\n",
       "      <td>33.919845</td>\n",
       "      <td>8.610584</td>\n",
       "      <td>16.881728</td>\n",
       "      <td>19.931616</td>\n",
       "    </tr>\n",
       "    <tr>\n",
       "      <th>min</th>\n",
       "      <td>1.000000</td>\n",
       "      <td>1.918800</td>\n",
       "      <td>0.030160</td>\n",
       "      <td>0.144144</td>\n",
       "      <td>24.148801</td>\n",
       "      <td>15.132</td>\n",
       "      <td>0.034320</td>\n",
       "      <td>0.234208</td>\n",
       "      <td>45.076721</td>\n",
       "      <td>4.622800</td>\n",
       "    </tr>\n",
       "    <tr>\n",
       "      <th>25%</th>\n",
       "      <td>823.000000</td>\n",
       "      <td>72.115684</td>\n",
       "      <td>20.193680</td>\n",
       "      <td>95.135044</td>\n",
       "      <td>40.807002</td>\n",
       "      <td>15.132</td>\n",
       "      <td>25.053600</td>\n",
       "      <td>6.762756</td>\n",
       "      <td>46.094879</td>\n",
       "      <td>22.058401</td>\n",
       "    </tr>\n",
       "    <tr>\n",
       "      <th>50%</th>\n",
       "      <td>1619.000000</td>\n",
       "      <td>100.158234</td>\n",
       "      <td>40.142956</td>\n",
       "      <td>235.194977</td>\n",
       "      <td>45.234282</td>\n",
       "      <td>15.132</td>\n",
       "      <td>42.076324</td>\n",
       "      <td>9.017009</td>\n",
       "      <td>46.279999</td>\n",
       "      <td>30.066399</td>\n",
       "    </tr>\n",
       "    <tr>\n",
       "      <th>75%</th>\n",
       "      <td>2434.000000</td>\n",
       "      <td>126.060483</td>\n",
       "      <td>70.227558</td>\n",
       "      <td>276.252014</td>\n",
       "      <td>76.124619</td>\n",
       "      <td>15.132</td>\n",
       "      <td>64.212723</td>\n",
       "      <td>11.886057</td>\n",
       "      <td>48.089603</td>\n",
       "      <td>43.862003</td>\n",
       "    </tr>\n",
       "    <tr>\n",
       "      <th>max</th>\n",
       "      <td>3241.000000</td>\n",
       "      <td>330.314424</td>\n",
       "      <td>282.780152</td>\n",
       "      <td>385.008668</td>\n",
       "      <td>113.231044</td>\n",
       "      <td>15.132</td>\n",
       "      <td>180.454575</td>\n",
       "      <td>32.847674</td>\n",
       "      <td>102.762401</td>\n",
       "      <td>90.053604</td>\n",
       "    </tr>\n",
       "  </tbody>\n",
       "</table>\n",
       "</div>"
      ],
      "text/plain": [
       "               key       Wire 1       Wire 2      Wire 3      Wire 4  Wire 5  \\\n",
       "count  3081.000000  3055.000000  1079.000000   63.000000   14.000000   1.000   \n",
       "mean   1623.426485   100.895853    50.577323  189.482681   57.442841  15.132   \n",
       "std     932.996726    42.012518    39.320216   99.513444   28.824667     NaN   \n",
       "min       1.000000     1.918800     0.030160    0.144144   24.148801  15.132   \n",
       "25%     823.000000    72.115684    20.193680   95.135044   40.807002  15.132   \n",
       "50%    1619.000000   100.158234    40.142956  235.194977   45.234282  15.132   \n",
       "75%    2434.000000   126.060483    70.227558  276.252014   76.124619  15.132   \n",
       "max    3241.000000   330.314424   282.780152  385.008668  113.231044  15.132   \n",
       "\n",
       "           Wire 6     Wire 7      Wire 8     Wire 9  \n",
       "count   73.000000  11.000000   19.000000  29.000000  \n",
       "mean    48.016974  10.039007   53.625193  34.155752  \n",
       "std     33.919845   8.610584   16.881728  19.931616  \n",
       "min      0.034320   0.234208   45.076721   4.622800  \n",
       "25%     25.053600   6.762756   46.094879  22.058401  \n",
       "50%     42.076324   9.017009   46.279999  30.066399  \n",
       "75%     64.212723  11.886057   48.089603  43.862003  \n",
       "max    180.454575  32.847674  102.762401  90.053604  "
      ]
     },
     "execution_count": 56,
     "metadata": {},
     "output_type": "execute_result"
    }
   ],
   "source": [
    "data_wire.describe()"
   ]
  },
  {
   "cell_type": "markdown",
   "id": "c75f2e5a",
   "metadata": {},
   "source": [
    "Посмотрим на гистограмму распределения и диаграмму размаха объема подачи проволочных материалов."
   ]
  },
  {
   "cell_type": "code",
   "execution_count": 57,
   "id": "e2fc5b76",
   "metadata": {
    "scrolled": false
   },
   "outputs": [
    {
     "data": {
      "image/png": "[encoded data removed]",
      "text/plain": [
       "<Figure size 864x360 with 2 Axes>"
      ]
     },
     "metadata": {
      "needs_background": "light"
     },
     "output_type": "display_data"
    },
    {
     "data": {
      "image/png": "[encoded data removed]",
      "text/plain": [
       "<Figure size 864x360 with 2 Axes>"
      ]
     },
     "metadata": {
      "needs_background": "light"
     },
     "output_type": "display_data"
    },
    {
     "data": {
      "image/png": "[encoded data removed]",
      "text/plain": [
       "<Figure size 864x360 with 2 Axes>"
      ]
     },
     "metadata": {
      "needs_background": "light"
     },
     "output_type": "display_data"
    },
    {
     "data": {
      "image/png": "[encoded data removed]",
      "text/plain": [
       "<Figure size 864x360 with 2 Axes>"
      ]
     },
     "metadata": {
      "needs_background": "light"
     },
     "output_type": "display_data"
    },
    {
     "data": {
      "image/png": "[encoded data removed]",
      "text/plain": [
       "<Figure size 864x360 with 2 Axes>"
      ]
     },
     "metadata": {
      "needs_background": "light"
     },
     "output_type": "display_data"
    },
    {
     "data": {
      "image/png": "[encoded data removed]",
      "text/plain": [
       "<Figure size 864x360 with 2 Axes>"
      ]
     },
     "metadata": {
      "needs_background": "light"
     },
     "output_type": "display_data"
    },
    {
     "data": {
      "image/png": "[encoded data removed]",
      "text/plain": [
       "<Figure size 864x360 with 2 Axes>"
      ]
     },
     "metadata": {
      "needs_background": "light"
     },
     "output_type": "display_data"
    }
   ],
   "source": [
    "fig, ax = plt.subplots(1,2, figsize=(12,5))\n",
    "data_wire['Wire 1'].plot(kind='hist', title = 'Wire 1', ylabel = 'frequency', bins=100,grid=True, ax=ax[0])\n",
    "data_wire['Wire 1'].plot(kind = 'box', title= 'Wire 1', grid=True,ax=ax[1])\n",
    "plt.show()\n",
    "\n",
    "list = ['Wire 2', 'Wire 3', 'Wire 4', 'Wire 5', 'Wire 6', 'Wire 7']\n",
    "for column in list:\n",
    "    fig, ax = plt.subplots(1,2, figsize=(12,5))\n",
    "    data_wire[column].plot(kind='hist', title = column, ylabel = 'frequency', bins=100,grid=True, xlim =[-5, 150], \\\n",
    "                                                                                      ylim =[-5, 400], ax=ax[0])\n",
    "    data_wire[column].plot(kind = 'box', title= column, grid=True,ax=ax[1])\n",
    "    \n",
    "    plt.show()\n",
    "    "
   ]
  },
  {
   "cell_type": "markdown",
   "id": "d4ed7995",
   "metadata": {},
   "source": [
    "Судя по графикам чаще всего используются проволочные материалы wire 1 и wire 2. Распределение их подачи wire 1 близко  к нормальному. Для остальных проволочных материалов видим либо около нулевые значения объема подачи, либо очень редкие. Посмотрим на частоту подачи каждого из материалов."
   ]
  },
  {
   "cell_type": "code",
   "execution_count": 58,
   "id": "1a6e0517",
   "metadata": {},
   "outputs": [
    {
     "data": {
      "image/png": "[encoded data removed]",
      "text/plain": [
       "<Figure size 720x576 with 1 Axes>"
      ]
     },
     "metadata": {
      "needs_background": "light"
     },
     "output_type": "display_data"
    }
   ],
   "source": [
    "plt.figure(figsize=(10,8))\n",
    "(data_wire.drop(['key'], axis=1).isna()==False).mean().sort_values().plot(kind='bar', grid=True)\n",
    "plt.axhline(0.05, color='r', linestyle='--')\n",
    "plt.xlabel('Вид проволочного материала')\n",
    "plt.ylabel('Частота использования')\n",
    "plt.title('Распределение частоты использования проволочных материалов')\n",
    "plt.show()"
   ]
  },
  {
   "cell_type": "markdown",
   "id": "0fdea6d5",
   "metadata": {},
   "source": [
    "Составим список материалов, что были использованы менее чем в 5% партий."
   ]
  },
  {
   "cell_type": "code",
   "execution_count": 59,
   "id": "d1976e8d",
   "metadata": {},
   "outputs": [
    {
     "data": {
      "text/plain": [
       "Wire 5     True\n",
       "Wire 7     True\n",
       "Wire 4     True\n",
       "Wire 8     True\n",
       "Wire 9     True\n",
       "Wire 3     True\n",
       "Wire 6     True\n",
       "Wire 2    False\n",
       "Wire 1    False\n",
       "dtype: bool"
      ]
     },
     "execution_count": 59,
     "metadata": {},
     "output_type": "execute_result"
    }
   ],
   "source": [
    "(data_wire.drop(['key'], axis=1).isna()==False).mean().sort_values()<0.05"
   ]
  },
  {
   "cell_type": "code",
   "execution_count": 60,
   "id": "6fd4cb80",
   "metadata": {},
   "outputs": [],
   "source": [
    "rare_wires = ['Wire 3', 'Wire 4', 'Wire 5', 'Wire 6', 'Wire 7', 'Wire 8', 'Wire 9' ]"
   ]
  },
  {
   "cell_type": "markdown",
   "id": "05d465e5",
   "metadata": {},
   "source": [
    "Заменим пропуски в данных нулями, как наиболее вероятными значениями."
   ]
  },
  {
   "cell_type": "code",
   "execution_count": 61,
   "id": "260f0d6a",
   "metadata": {},
   "outputs": [],
   "source": [
    "data_wire = data_wire.fillna(0)"
   ]
  },
  {
   "cell_type": "code",
   "execution_count": 62,
   "id": "1bfa683f",
   "metadata": {},
   "outputs": [
    {
     "data": {
      "text/html": [
       "<div>\n",
       "<style scoped>\n",
       "    .dataframe tbody tr th:only-of-type {\n",
       "        vertical-align: middle;\n",
       "    }\n",
       "\n",
       "    .dataframe tbody tr th {\n",
       "        vertical-align: top;\n",
       "    }\n",
       "\n",
       "    .dataframe thead th {\n",
       "        text-align: right;\n",
       "    }\n",
       "</style>\n",
       "<table border=\"1\" class=\"dataframe\">\n",
       "  <thead>\n",
       "    <tr style=\"text-align: right;\">\n",
       "      <th></th>\n",
       "      <th>key</th>\n",
       "      <th>Wire 1</th>\n",
       "      <th>Wire 2</th>\n",
       "      <th>Wire 3</th>\n",
       "      <th>Wire 4</th>\n",
       "      <th>Wire 5</th>\n",
       "      <th>Wire 6</th>\n",
       "      <th>Wire 7</th>\n",
       "      <th>Wire 8</th>\n",
       "      <th>Wire 9</th>\n",
       "    </tr>\n",
       "  </thead>\n",
       "  <tbody>\n",
       "    <tr>\n",
       "      <th>0</th>\n",
       "      <td>1</td>\n",
       "      <td>60.059998</td>\n",
       "      <td>0.00000</td>\n",
       "      <td>0.0</td>\n",
       "      <td>0.0</td>\n",
       "      <td>0.0</td>\n",
       "      <td>0.0</td>\n",
       "      <td>0.0</td>\n",
       "      <td>0.0</td>\n",
       "      <td>0.0</td>\n",
       "    </tr>\n",
       "    <tr>\n",
       "      <th>1</th>\n",
       "      <td>2</td>\n",
       "      <td>96.052315</td>\n",
       "      <td>0.00000</td>\n",
       "      <td>0.0</td>\n",
       "      <td>0.0</td>\n",
       "      <td>0.0</td>\n",
       "      <td>0.0</td>\n",
       "      <td>0.0</td>\n",
       "      <td>0.0</td>\n",
       "      <td>0.0</td>\n",
       "    </tr>\n",
       "    <tr>\n",
       "      <th>2</th>\n",
       "      <td>3</td>\n",
       "      <td>91.160157</td>\n",
       "      <td>0.00000</td>\n",
       "      <td>0.0</td>\n",
       "      <td>0.0</td>\n",
       "      <td>0.0</td>\n",
       "      <td>0.0</td>\n",
       "      <td>0.0</td>\n",
       "      <td>0.0</td>\n",
       "      <td>0.0</td>\n",
       "    </tr>\n",
       "    <tr>\n",
       "      <th>3</th>\n",
       "      <td>4</td>\n",
       "      <td>89.063515</td>\n",
       "      <td>0.00000</td>\n",
       "      <td>0.0</td>\n",
       "      <td>0.0</td>\n",
       "      <td>0.0</td>\n",
       "      <td>0.0</td>\n",
       "      <td>0.0</td>\n",
       "      <td>0.0</td>\n",
       "      <td>0.0</td>\n",
       "    </tr>\n",
       "    <tr>\n",
       "      <th>4</th>\n",
       "      <td>5</td>\n",
       "      <td>89.238236</td>\n",
       "      <td>9.11456</td>\n",
       "      <td>0.0</td>\n",
       "      <td>0.0</td>\n",
       "      <td>0.0</td>\n",
       "      <td>0.0</td>\n",
       "      <td>0.0</td>\n",
       "      <td>0.0</td>\n",
       "      <td>0.0</td>\n",
       "    </tr>\n",
       "  </tbody>\n",
       "</table>\n",
       "</div>"
      ],
      "text/plain": [
       "   key     Wire 1   Wire 2  Wire 3  Wire 4  Wire 5  Wire 6  Wire 7  Wire 8  \\\n",
       "0    1  60.059998  0.00000     0.0     0.0     0.0     0.0     0.0     0.0   \n",
       "1    2  96.052315  0.00000     0.0     0.0     0.0     0.0     0.0     0.0   \n",
       "2    3  91.160157  0.00000     0.0     0.0     0.0     0.0     0.0     0.0   \n",
       "3    4  89.063515  0.00000     0.0     0.0     0.0     0.0     0.0     0.0   \n",
       "4    5  89.238236  9.11456     0.0     0.0     0.0     0.0     0.0     0.0   \n",
       "\n",
       "   Wire 9  \n",
       "0     0.0  \n",
       "1     0.0  \n",
       "2     0.0  \n",
       "3     0.0  \n",
       "4     0.0  "
      ]
     },
     "execution_count": 62,
     "metadata": {},
     "output_type": "execute_result"
    }
   ],
   "source": [
    "data_wire.head()"
   ]
  },
  {
   "cell_type": "markdown",
   "id": "c513c698",
   "metadata": {},
   "source": [
    "<b> ВЫВОД: Исследованы данные об объемах проволочных материалов. В данных присутствует много пропусков. Наиболее вероятно, что пропуск данных означает, что материал не был использован. Было решено заменить пропуски нулями. Также исследована частота использования того или иного материала. Есть материалы, которые используются очень редко. Возможно информация об их подаче не будет информативна для дальнейшего моделирования.\n",
    "</b>"
   ]
  },
  {
   "cell_type": "markdown",
   "id": "d39f4638",
   "metadata": {},
   "source": [
    "### Данные о проволочных материалах (время)"
   ]
  },
  {
   "cell_type": "code",
   "execution_count": 63,
   "id": "8fb5a519",
   "metadata": {},
   "outputs": [],
   "source": [
    "try:\n",
    "    data_wire_time = pd.read_csv(r'C:\\Users\\Марина\\Downloads\\final_steel\\final_steel\\data_wire_time.csv')\n",
    "except:\n",
    "    data_wire_time = pd.read_csv('/datasets/final_steel/data_wire_time.csv')"
   ]
  },
  {
   "cell_type": "code",
   "execution_count": 64,
   "id": "3e1fc50b",
   "metadata": {},
   "outputs": [
    {
     "data": {
      "text/html": [
       "<div>\n",
       "<style scoped>\n",
       "    .dataframe tbody tr th:only-of-type {\n",
       "        vertical-align: middle;\n",
       "    }\n",
       "\n",
       "    .dataframe tbody tr th {\n",
       "        vertical-align: top;\n",
       "    }\n",
       "\n",
       "    .dataframe thead th {\n",
       "        text-align: right;\n",
       "    }\n",
       "</style>\n",
       "<table border=\"1\" class=\"dataframe\">\n",
       "  <thead>\n",
       "    <tr style=\"text-align: right;\">\n",
       "      <th></th>\n",
       "      <th>key</th>\n",
       "      <th>Wire 1</th>\n",
       "      <th>Wire 2</th>\n",
       "      <th>Wire 3</th>\n",
       "      <th>Wire 4</th>\n",
       "      <th>Wire 5</th>\n",
       "      <th>Wire 6</th>\n",
       "      <th>Wire 7</th>\n",
       "      <th>Wire 8</th>\n",
       "      <th>Wire 9</th>\n",
       "    </tr>\n",
       "  </thead>\n",
       "  <tbody>\n",
       "    <tr>\n",
       "      <th>3030</th>\n",
       "      <td>3189</td>\n",
       "      <td>2019-08-30 12:23:18</td>\n",
       "      <td>NaN</td>\n",
       "      <td>NaN</td>\n",
       "      <td>NaN</td>\n",
       "      <td>NaN</td>\n",
       "      <td>NaN</td>\n",
       "      <td>NaN</td>\n",
       "      <td>NaN</td>\n",
       "      <td>NaN</td>\n",
       "    </tr>\n",
       "    <tr>\n",
       "      <th>2509</th>\n",
       "      <td>2642</td>\n",
       "      <td>2019-08-11 04:41:32</td>\n",
       "      <td>NaN</td>\n",
       "      <td>NaN</td>\n",
       "      <td>NaN</td>\n",
       "      <td>NaN</td>\n",
       "      <td>NaN</td>\n",
       "      <td>NaN</td>\n",
       "      <td>NaN</td>\n",
       "      <td>NaN</td>\n",
       "    </tr>\n",
       "    <tr>\n",
       "      <th>374</th>\n",
       "      <td>406</td>\n",
       "      <td>2019-05-18 12:44:53</td>\n",
       "      <td>2019-05-18 12:47:26</td>\n",
       "      <td>2019-05-18 13:04:48</td>\n",
       "      <td>NaN</td>\n",
       "      <td>NaN</td>\n",
       "      <td>NaN</td>\n",
       "      <td>NaN</td>\n",
       "      <td>NaN</td>\n",
       "      <td>NaN</td>\n",
       "    </tr>\n",
       "    <tr>\n",
       "      <th>3061</th>\n",
       "      <td>3222</td>\n",
       "      <td>2019-08-31 12:11:32</td>\n",
       "      <td>NaN</td>\n",
       "      <td>NaN</td>\n",
       "      <td>NaN</td>\n",
       "      <td>NaN</td>\n",
       "      <td>NaN</td>\n",
       "      <td>NaN</td>\n",
       "      <td>NaN</td>\n",
       "      <td>NaN</td>\n",
       "    </tr>\n",
       "    <tr>\n",
       "      <th>2238</th>\n",
       "      <td>2349</td>\n",
       "      <td>2019-07-31 15:27:11</td>\n",
       "      <td>NaN</td>\n",
       "      <td>NaN</td>\n",
       "      <td>NaN</td>\n",
       "      <td>NaN</td>\n",
       "      <td>NaN</td>\n",
       "      <td>NaN</td>\n",
       "      <td>NaN</td>\n",
       "      <td>NaN</td>\n",
       "    </tr>\n",
       "    <tr>\n",
       "      <th>629</th>\n",
       "      <td>665</td>\n",
       "      <td>2019-05-28 00:10:06</td>\n",
       "      <td>NaN</td>\n",
       "      <td>NaN</td>\n",
       "      <td>NaN</td>\n",
       "      <td>NaN</td>\n",
       "      <td>NaN</td>\n",
       "      <td>NaN</td>\n",
       "      <td>NaN</td>\n",
       "      <td>NaN</td>\n",
       "    </tr>\n",
       "    <tr>\n",
       "      <th>849</th>\n",
       "      <td>903</td>\n",
       "      <td>2019-06-05 15:50:43</td>\n",
       "      <td>NaN</td>\n",
       "      <td>NaN</td>\n",
       "      <td>NaN</td>\n",
       "      <td>NaN</td>\n",
       "      <td>NaN</td>\n",
       "      <td>NaN</td>\n",
       "      <td>NaN</td>\n",
       "      <td>NaN</td>\n",
       "    </tr>\n",
       "    <tr>\n",
       "      <th>175</th>\n",
       "      <td>191</td>\n",
       "      <td>2019-05-10 10:32:25</td>\n",
       "      <td>NaN</td>\n",
       "      <td>NaN</td>\n",
       "      <td>NaN</td>\n",
       "      <td>NaN</td>\n",
       "      <td>NaN</td>\n",
       "      <td>NaN</td>\n",
       "      <td>NaN</td>\n",
       "      <td>NaN</td>\n",
       "    </tr>\n",
       "    <tr>\n",
       "      <th>71</th>\n",
       "      <td>80</td>\n",
       "      <td>2019-05-06 05:33:41</td>\n",
       "      <td>NaN</td>\n",
       "      <td>NaN</td>\n",
       "      <td>NaN</td>\n",
       "      <td>NaN</td>\n",
       "      <td>NaN</td>\n",
       "      <td>NaN</td>\n",
       "      <td>NaN</td>\n",
       "      <td>NaN</td>\n",
       "    </tr>\n",
       "    <tr>\n",
       "      <th>1442</th>\n",
       "      <td>1514</td>\n",
       "      <td>2019-06-26 20:52:26</td>\n",
       "      <td>NaN</td>\n",
       "      <td>NaN</td>\n",
       "      <td>NaN</td>\n",
       "      <td>NaN</td>\n",
       "      <td>NaN</td>\n",
       "      <td>NaN</td>\n",
       "      <td>NaN</td>\n",
       "      <td>NaN</td>\n",
       "    </tr>\n",
       "    <tr>\n",
       "      <th>1053</th>\n",
       "      <td>1119</td>\n",
       "      <td>2019-06-13 02:08:24</td>\n",
       "      <td>NaN</td>\n",
       "      <td>NaN</td>\n",
       "      <td>NaN</td>\n",
       "      <td>NaN</td>\n",
       "      <td>NaN</td>\n",
       "      <td>NaN</td>\n",
       "      <td>NaN</td>\n",
       "      <td>NaN</td>\n",
       "    </tr>\n",
       "    <tr>\n",
       "      <th>731</th>\n",
       "      <td>779</td>\n",
       "      <td>2019-06-01 08:04:27</td>\n",
       "      <td>2019-06-01 08:05:40</td>\n",
       "      <td>NaN</td>\n",
       "      <td>NaN</td>\n",
       "      <td>NaN</td>\n",
       "      <td>NaN</td>\n",
       "      <td>NaN</td>\n",
       "      <td>NaN</td>\n",
       "      <td>NaN</td>\n",
       "    </tr>\n",
       "    <tr>\n",
       "      <th>2409</th>\n",
       "      <td>2536</td>\n",
       "      <td>2019-08-07 06:25:34</td>\n",
       "      <td>NaN</td>\n",
       "      <td>NaN</td>\n",
       "      <td>NaN</td>\n",
       "      <td>NaN</td>\n",
       "      <td>NaN</td>\n",
       "      <td>NaN</td>\n",
       "      <td>NaN</td>\n",
       "      <td>NaN</td>\n",
       "    </tr>\n",
       "    <tr>\n",
       "      <th>2396</th>\n",
       "      <td>2523</td>\n",
       "      <td>2019-08-06 20:45:43</td>\n",
       "      <td>2019-08-06 20:47:10</td>\n",
       "      <td>NaN</td>\n",
       "      <td>NaN</td>\n",
       "      <td>NaN</td>\n",
       "      <td>NaN</td>\n",
       "      <td>NaN</td>\n",
       "      <td>NaN</td>\n",
       "      <td>NaN</td>\n",
       "    </tr>\n",
       "    <tr>\n",
       "      <th>1554</th>\n",
       "      <td>1633</td>\n",
       "      <td>2019-06-30 20:26:50</td>\n",
       "      <td>2019-06-30 20:30:21</td>\n",
       "      <td>NaN</td>\n",
       "      <td>NaN</td>\n",
       "      <td>NaN</td>\n",
       "      <td>NaN</td>\n",
       "      <td>NaN</td>\n",
       "      <td>NaN</td>\n",
       "      <td>NaN</td>\n",
       "    </tr>\n",
       "  </tbody>\n",
       "</table>\n",
       "</div>"
      ],
      "text/plain": [
       "       key               Wire 1               Wire 2               Wire 3  \\\n",
       "3030  3189  2019-08-30 12:23:18                  NaN                  NaN   \n",
       "2509  2642  2019-08-11 04:41:32                  NaN                  NaN   \n",
       "374    406  2019-05-18 12:44:53  2019-05-18 12:47:26  2019-05-18 13:04:48   \n",
       "3061  3222  2019-08-31 12:11:32                  NaN                  NaN   \n",
       "2238  2349  2019-07-31 15:27:11                  NaN                  NaN   \n",
       "629    665  2019-05-28 00:10:06                  NaN                  NaN   \n",
       "849    903  2019-06-05 15:50:43                  NaN                  NaN   \n",
       "175    191  2019-05-10 10:32:25                  NaN                  NaN   \n",
       "71      80  2019-05-06 05:33:41                  NaN                  NaN   \n",
       "1442  1514  2019-06-26 20:52:26                  NaN                  NaN   \n",
       "1053  1119  2019-06-13 02:08:24                  NaN                  NaN   \n",
       "731    779  2019-06-01 08:04:27  2019-06-01 08:05:40                  NaN   \n",
       "2409  2536  2019-08-07 06:25:34                  NaN                  NaN   \n",
       "2396  2523  2019-08-06 20:45:43  2019-08-06 20:47:10                  NaN   \n",
       "1554  1633  2019-06-30 20:26:50  2019-06-30 20:30:21                  NaN   \n",
       "\n",
       "     Wire 4 Wire 5 Wire 6 Wire 7 Wire 8 Wire 9  \n",
       "3030    NaN    NaN    NaN    NaN    NaN    NaN  \n",
       "2509    NaN    NaN    NaN    NaN    NaN    NaN  \n",
       "374     NaN    NaN    NaN    NaN    NaN    NaN  \n",
       "3061    NaN    NaN    NaN    NaN    NaN    NaN  \n",
       "2238    NaN    NaN    NaN    NaN    NaN    NaN  \n",
       "629     NaN    NaN    NaN    NaN    NaN    NaN  \n",
       "849     NaN    NaN    NaN    NaN    NaN    NaN  \n",
       "175     NaN    NaN    NaN    NaN    NaN    NaN  \n",
       "71      NaN    NaN    NaN    NaN    NaN    NaN  \n",
       "1442    NaN    NaN    NaN    NaN    NaN    NaN  \n",
       "1053    NaN    NaN    NaN    NaN    NaN    NaN  \n",
       "731     NaN    NaN    NaN    NaN    NaN    NaN  \n",
       "2409    NaN    NaN    NaN    NaN    NaN    NaN  \n",
       "2396    NaN    NaN    NaN    NaN    NaN    NaN  \n",
       "1554    NaN    NaN    NaN    NaN    NaN    NaN  "
      ]
     },
     "execution_count": 64,
     "metadata": {},
     "output_type": "execute_result"
    }
   ],
   "source": [
    "data_wire_time.sample(15)"
   ]
  },
  {
   "cell_type": "code",
   "execution_count": 65,
   "id": "b090007c",
   "metadata": {},
   "outputs": [
    {
     "name": "stdout",
     "output_type": "stream",
     "text": [
      "<class 'pandas.core.frame.DataFrame'>\n",
      "RangeIndex: 3081 entries, 0 to 3080\n",
      "Data columns (total 10 columns):\n",
      " #   Column  Non-Null Count  Dtype \n",
      "---  ------  --------------  ----- \n",
      " 0   key     3081 non-null   int64 \n",
      " 1   Wire 1  3055 non-null   object\n",
      " 2   Wire 2  1079 non-null   object\n",
      " 3   Wire 3  63 non-null     object\n",
      " 4   Wire 4  14 non-null     object\n",
      " 5   Wire 5  1 non-null      object\n",
      " 6   Wire 6  73 non-null     object\n",
      " 7   Wire 7  11 non-null     object\n",
      " 8   Wire 8  19 non-null     object\n",
      " 9   Wire 9  29 non-null     object\n",
      "dtypes: int64(1), object(9)\n",
      "memory usage: 240.8+ KB\n"
     ]
    }
   ],
   "source": [
    "data_wire_time.info()"
   ]
  },
  {
   "cell_type": "code",
   "execution_count": 66,
   "id": "a2b63749",
   "metadata": {},
   "outputs": [
    {
     "data": {
      "text/plain": [
       "key          0\n",
       "Wire 1      26\n",
       "Wire 2    2002\n",
       "Wire 3    3018\n",
       "Wire 4    3067\n",
       "Wire 5    3080\n",
       "Wire 6    3008\n",
       "Wire 7    3070\n",
       "Wire 8    3062\n",
       "Wire 9    3052\n",
       "dtype: int64"
      ]
     },
     "execution_count": 66,
     "metadata": {},
     "output_type": "execute_result"
    }
   ],
   "source": [
    "data_wire_time.isna().sum()"
   ]
  },
  {
   "cell_type": "markdown",
   "id": "5210ff27",
   "metadata": {},
   "source": [
    "<b> ВЫВОД: Исследованы данные об времени подачи сыпучих материалов. В данных присутствует много пропусков. Наиболее вероятно, что пропуск данных означает, что материал не был использован. Структура данных повторяет таблицу по объему подачи сыпучих материлов, таблицы можно будет объединить.\n",
    "</b>"
   ]
  },
  {
   "cell_type": "markdown",
   "id": "08b31ffc",
   "metadata": {},
   "source": [
    "### ВЫВОД. Исследовательский анализ данных:\n",
    "    Исследованы данные по каждому доступному источнику. Выявлены следующие особенности и закономерности:\n",
    "    \n",
    "    - Присутствуют пропуски в данных о замерах температуры (целевой признак), данных об объемах и времени подачи сыпучих и проволочных материалов\n",
    "    - Есть аномалии в измерении реактивной мощности\n",
    "    - Чаще всего неверный форматы даты и времени\n",
    "    - Есть сыпучие и проволочные материалы, которые используюся очень редко (менее чем в 5% партий)\n",
    "    - Данные можно объединить и восстановить технологический процесс обработки по времени для каждой партии  \n",
    "    - Все количественные признаки распределены нормально без смещения, либо со смещением влево\n",
    "    - Данные требуют дальнейшей предобработки, а также группировки по номеру партии."
   ]
  },
  {
   "cell_type": "markdown",
   "id": "20720bf7",
   "metadata": {},
   "source": [
    "### Вопросы \n",
    "В ходе исследовательского анализа данных и изучения задачи проекта возникли следующие вопросы:\n",
    "\n",
    "1. Наша цель - построить модель регрессии для предсказания температуры металла для уменьшения издержек компании. Как конкретно предсказанная температура поможет снизить технологические издержки? \n",
    "\n",
    "2. Каковы целевые метрики работы модели для заказчика?\n",
    "\n",
    "3. Какие модели предпочтительнее использовать? С какой базовой моделью будем сравнивать вменяемость нашей модели?\n",
    "\n",
    "4. Допустимо ли убрать данные об объемах и времени подачи сыпучих и проволочных материалов, которые используются в техлогическом процессе очень редко? и каков порог редкого использования (5-10% партий)?\n",
    "\n",
    "5. Правильно ли, что в целевом признаке нас интересуют только те партии, в которых присутствуют более одного замера температуры и есть конечный замер температуры (после финального нагрева)? Иначе мы не сможем зафиксировать рост издержек компании на нагрев?\n",
    "\n",
    "6. Каким образом восстановить технологический процесс обработки металла, если не везде есть время (например, в данных о подаче газа)?\n",
    "\n",
    "7. С точки зрения процесса обработки важна ли нам и активная, и реактивная мощность? или можно оставить активную можность как мощность \"полезную\"\n",
    "\n",
    "8. Целесообразноо ли генеривание фичей на основе имещихся данных (например, общий объем используемых сыпучих материалов на партию или разница во времени нагрева и т.д.)?\n",
    "\n",
    "Спасибо заранее :)\n",
    "\n"
   ]
  },
  {
   "cell_type": "markdown",
   "id": "81d45a72",
   "metadata": {},
   "source": [
    "## Предобработка данных."
   ]
  },
  {
   "cell_type": "markdown",
   "id": "29f9c856",
   "metadata": {},
   "source": [
    "### Обработка данных об измерениях температуры"
   ]
  },
  {
   "cell_type": "markdown",
   "id": "69a68322",
   "metadata": {},
   "source": [
    "Целевым признаком будущей модели является конечная температура металла в ковше. Проведем предобработку данных data_temp:\n",
    "    \n",
    "   - оставим только те партии, в которых есть информация о целевом признаке (есть финальный замер температуры)\n",
    "   - оставим партии, где есть начальная температура нагрева и конечная температура металла (то есть присутствуют хотя бы два замера температуры)"
   ]
  },
  {
   "cell_type": "markdown",
   "id": "3fd86246",
   "metadata": {},
   "source": [
    "Сгруппируем данные об измерении температуры по партиям, найдем первое и последнее время измерения температуры."
   ]
  },
  {
   "cell_type": "code",
   "execution_count": 67,
   "id": "1d596953",
   "metadata": {},
   "outputs": [
    {
     "data": {
      "text/html": [
       "<div>\n",
       "<style scoped>\n",
       "    .dataframe tbody tr th:only-of-type {\n",
       "        vertical-align: middle;\n",
       "    }\n",
       "\n",
       "    .dataframe tbody tr th {\n",
       "        vertical-align: top;\n",
       "    }\n",
       "\n",
       "    .dataframe thead th {\n",
       "        text-align: right;\n",
       "    }\n",
       "</style>\n",
       "<table border=\"1\" class=\"dataframe\">\n",
       "  <thead>\n",
       "    <tr style=\"text-align: right;\">\n",
       "      <th></th>\n",
       "      <th>min_time</th>\n",
       "      <th>max_time</th>\n",
       "    </tr>\n",
       "    <tr>\n",
       "      <th>key</th>\n",
       "      <th></th>\n",
       "      <th></th>\n",
       "    </tr>\n",
       "  </thead>\n",
       "  <tbody>\n",
       "    <tr>\n",
       "      <th>1</th>\n",
       "      <td>2019-05-03 11:16:18</td>\n",
       "      <td>2019-05-03 11:30:39</td>\n",
       "    </tr>\n",
       "    <tr>\n",
       "      <th>2</th>\n",
       "      <td>2019-05-03 11:37:27</td>\n",
       "      <td>2019-05-03 11:59:12</td>\n",
       "    </tr>\n",
       "    <tr>\n",
       "      <th>3</th>\n",
       "      <td>2019-05-03 12:13:17</td>\n",
       "      <td>2019-05-03 12:34:57</td>\n",
       "    </tr>\n",
       "    <tr>\n",
       "      <th>4</th>\n",
       "      <td>2019-05-03 12:52:57</td>\n",
       "      <td>2019-05-03 12:59:25</td>\n",
       "    </tr>\n",
       "    <tr>\n",
       "      <th>5</th>\n",
       "      <td>2019-05-03 13:23:19</td>\n",
       "      <td>2019-05-03 13:36:01</td>\n",
       "    </tr>\n",
       "  </tbody>\n",
       "</table>\n",
       "</div>"
      ],
      "text/plain": [
       "                min_time             max_time\n",
       "key                                          \n",
       "1    2019-05-03 11:16:18  2019-05-03 11:30:39\n",
       "2    2019-05-03 11:37:27  2019-05-03 11:59:12\n",
       "3    2019-05-03 12:13:17  2019-05-03 12:34:57\n",
       "4    2019-05-03 12:52:57  2019-05-03 12:59:25\n",
       "5    2019-05-03 13:23:19  2019-05-03 13:36:01"
      ]
     },
     "execution_count": 67,
     "metadata": {},
     "output_type": "execute_result"
    }
   ],
   "source": [
    "data_temp_gr = data_temp.groupby('key')['time'].agg(['min', 'max'])\n",
    "data_temp_gr.columns=['min_time', 'max_time']\n",
    "data_temp_gr.head()"
   ]
  },
  {
   "cell_type": "markdown",
   "id": "406439a5",
   "metadata": {},
   "source": [
    "Подтянем измерения температуры к найденным минимальному и максимальному времени замера, получим данные о начальной и конечной температурах меттала в ковше."
   ]
  },
  {
   "cell_type": "code",
   "execution_count": 68,
   "id": "3c2dde56",
   "metadata": {},
   "outputs": [
    {
     "data": {
      "text/html": [
       "<div>\n",
       "<style scoped>\n",
       "    .dataframe tbody tr th:only-of-type {\n",
       "        vertical-align: middle;\n",
       "    }\n",
       "\n",
       "    .dataframe tbody tr th {\n",
       "        vertical-align: top;\n",
       "    }\n",
       "\n",
       "    .dataframe thead th {\n",
       "        text-align: right;\n",
       "    }\n",
       "</style>\n",
       "<table border=\"1\" class=\"dataframe\">\n",
       "  <thead>\n",
       "    <tr style=\"text-align: right;\">\n",
       "      <th></th>\n",
       "      <th>time</th>\n",
       "      <th>temp</th>\n",
       "    </tr>\n",
       "    <tr>\n",
       "      <th>key</th>\n",
       "      <th></th>\n",
       "      <th></th>\n",
       "    </tr>\n",
       "  </thead>\n",
       "  <tbody>\n",
       "    <tr>\n",
       "      <th>1</th>\n",
       "      <td>2019-05-03 11:16:18</td>\n",
       "      <td>1571.0</td>\n",
       "    </tr>\n",
       "    <tr>\n",
       "      <th>1</th>\n",
       "      <td>2019-05-03 11:25:53</td>\n",
       "      <td>1604.0</td>\n",
       "    </tr>\n",
       "    <tr>\n",
       "      <th>1</th>\n",
       "      <td>2019-05-03 11:29:11</td>\n",
       "      <td>1618.0</td>\n",
       "    </tr>\n",
       "    <tr>\n",
       "      <th>1</th>\n",
       "      <td>2019-05-03 11:30:01</td>\n",
       "      <td>1601.0</td>\n",
       "    </tr>\n",
       "    <tr>\n",
       "      <th>1</th>\n",
       "      <td>2019-05-03 11:30:39</td>\n",
       "      <td>1613.0</td>\n",
       "    </tr>\n",
       "  </tbody>\n",
       "</table>\n",
       "</div>"
      ],
      "text/plain": [
       "                    time    temp\n",
       "key                             \n",
       "1    2019-05-03 11:16:18  1571.0\n",
       "1    2019-05-03 11:25:53  1604.0\n",
       "1    2019-05-03 11:29:11  1618.0\n",
       "1    2019-05-03 11:30:01  1601.0\n",
       "1    2019-05-03 11:30:39  1613.0"
      ]
     },
     "execution_count": 68,
     "metadata": {},
     "output_type": "execute_result"
    }
   ],
   "source": [
    "data_temp =  data_temp.set_index('key')\n",
    "data_temp.head()"
   ]
  },
  {
   "cell_type": "code",
   "execution_count": 69,
   "id": "bc0ea1d9",
   "metadata": {},
   "outputs": [],
   "source": [
    "a = data_temp_gr['min_time'].tolist()\n",
    "b = data_temp_gr['max_time'].tolist()"
   ]
  },
  {
   "cell_type": "code",
   "execution_count": 70,
   "id": "59739008",
   "metadata": {},
   "outputs": [
    {
     "data": {
      "text/html": [
       "<div>\n",
       "<style scoped>\n",
       "    .dataframe tbody tr th:only-of-type {\n",
       "        vertical-align: middle;\n",
       "    }\n",
       "\n",
       "    .dataframe tbody tr th {\n",
       "        vertical-align: top;\n",
       "    }\n",
       "\n",
       "    .dataframe thead th {\n",
       "        text-align: right;\n",
       "    }\n",
       "</style>\n",
       "<table border=\"1\" class=\"dataframe\">\n",
       "  <thead>\n",
       "    <tr style=\"text-align: right;\">\n",
       "      <th></th>\n",
       "      <th>min_time</th>\n",
       "      <th>max_time</th>\n",
       "      <th>start_temp</th>\n",
       "      <th>final_temp</th>\n",
       "    </tr>\n",
       "    <tr>\n",
       "      <th>key</th>\n",
       "      <th></th>\n",
       "      <th></th>\n",
       "      <th></th>\n",
       "      <th></th>\n",
       "    </tr>\n",
       "  </thead>\n",
       "  <tbody>\n",
       "    <tr>\n",
       "      <th>1</th>\n",
       "      <td>2019-05-03 11:16:18</td>\n",
       "      <td>2019-05-03 11:30:39</td>\n",
       "      <td>1571.0</td>\n",
       "      <td>1613.0</td>\n",
       "    </tr>\n",
       "    <tr>\n",
       "      <th>2</th>\n",
       "      <td>2019-05-03 11:37:27</td>\n",
       "      <td>2019-05-03 11:59:12</td>\n",
       "      <td>1581.0</td>\n",
       "      <td>1602.0</td>\n",
       "    </tr>\n",
       "    <tr>\n",
       "      <th>3</th>\n",
       "      <td>2019-05-03 12:13:17</td>\n",
       "      <td>2019-05-03 12:34:57</td>\n",
       "      <td>1596.0</td>\n",
       "      <td>1599.0</td>\n",
       "    </tr>\n",
       "    <tr>\n",
       "      <th>4</th>\n",
       "      <td>2019-05-03 12:52:57</td>\n",
       "      <td>2019-05-03 12:59:25</td>\n",
       "      <td>1601.0</td>\n",
       "      <td>1625.0</td>\n",
       "    </tr>\n",
       "    <tr>\n",
       "      <th>5</th>\n",
       "      <td>2019-05-03 13:23:19</td>\n",
       "      <td>2019-05-03 13:36:01</td>\n",
       "      <td>1576.0</td>\n",
       "      <td>1602.0</td>\n",
       "    </tr>\n",
       "  </tbody>\n",
       "</table>\n",
       "</div>"
      ],
      "text/plain": [
       "                min_time             max_time  start_temp  final_temp\n",
       "key                                                                  \n",
       "1    2019-05-03 11:16:18  2019-05-03 11:30:39      1571.0      1613.0\n",
       "2    2019-05-03 11:37:27  2019-05-03 11:59:12      1581.0      1602.0\n",
       "3    2019-05-03 12:13:17  2019-05-03 12:34:57      1596.0      1599.0\n",
       "4    2019-05-03 12:52:57  2019-05-03 12:59:25      1601.0      1625.0\n",
       "5    2019-05-03 13:23:19  2019-05-03 13:36:01      1576.0      1602.0"
      ]
     },
     "execution_count": 70,
     "metadata": {},
     "output_type": "execute_result"
    }
   ],
   "source": [
    "data_temp_gr['start_temp'] = data_temp.query('time in @a')['temp']\n",
    "data_temp_gr['final_temp'] = data_temp.query('time in @b')['temp']\n",
    "data_temp_gr.head()"
   ]
  },
  {
   "cell_type": "markdown",
   "id": "2266c637",
   "metadata": {},
   "source": [
    "Удалим все партии с пропусками в финальном замере температуры, таких значений 739."
   ]
  },
  {
   "cell_type": "code",
   "execution_count": 71,
   "id": "bfc5dd2a",
   "metadata": {},
   "outputs": [
    {
     "data": {
      "text/html": [
       "<div>\n",
       "<style scoped>\n",
       "    .dataframe tbody tr th:only-of-type {\n",
       "        vertical-align: middle;\n",
       "    }\n",
       "\n",
       "    .dataframe tbody tr th {\n",
       "        vertical-align: top;\n",
       "    }\n",
       "\n",
       "    .dataframe thead th {\n",
       "        text-align: right;\n",
       "    }\n",
       "</style>\n",
       "<table border=\"1\" class=\"dataframe\">\n",
       "  <thead>\n",
       "    <tr style=\"text-align: right;\">\n",
       "      <th></th>\n",
       "      <th>min_time</th>\n",
       "      <th>max_time</th>\n",
       "      <th>start_temp</th>\n",
       "      <th>final_temp</th>\n",
       "    </tr>\n",
       "    <tr>\n",
       "      <th>key</th>\n",
       "      <th></th>\n",
       "      <th></th>\n",
       "      <th></th>\n",
       "      <th></th>\n",
       "    </tr>\n",
       "  </thead>\n",
       "  <tbody>\n",
       "    <tr>\n",
       "      <th>2500</th>\n",
       "      <td>2019-08-06 03:11:31</td>\n",
       "      <td>2019-08-06 03:28:21</td>\n",
       "      <td>1539.0</td>\n",
       "      <td>NaN</td>\n",
       "    </tr>\n",
       "    <tr>\n",
       "      <th>2501</th>\n",
       "      <td>2019-08-06 03:44:42</td>\n",
       "      <td>2019-08-06 04:31:14</td>\n",
       "      <td>1587.0</td>\n",
       "      <td>NaN</td>\n",
       "    </tr>\n",
       "    <tr>\n",
       "      <th>2502</th>\n",
       "      <td>2019-08-06 04:45:26</td>\n",
       "      <td>2019-08-06 05:12:20</td>\n",
       "      <td>1583.0</td>\n",
       "      <td>NaN</td>\n",
       "    </tr>\n",
       "    <tr>\n",
       "      <th>2503</th>\n",
       "      <td>2019-08-06 05:32:06</td>\n",
       "      <td>2019-08-06 06:07:35</td>\n",
       "      <td>1603.0</td>\n",
       "      <td>NaN</td>\n",
       "    </tr>\n",
       "    <tr>\n",
       "      <th>2504</th>\n",
       "      <td>2019-08-06 06:35:39</td>\n",
       "      <td>2019-08-06 07:04:16</td>\n",
       "      <td>1583.0</td>\n",
       "      <td>NaN</td>\n",
       "    </tr>\n",
       "    <tr>\n",
       "      <th>...</th>\n",
       "      <td>...</td>\n",
       "      <td>...</td>\n",
       "      <td>...</td>\n",
       "      <td>...</td>\n",
       "    </tr>\n",
       "    <tr>\n",
       "      <th>3237</th>\n",
       "      <td>2019-08-31 22:44:04</td>\n",
       "      <td>2019-08-31 23:05:43</td>\n",
       "      <td>1569.0</td>\n",
       "      <td>NaN</td>\n",
       "    </tr>\n",
       "    <tr>\n",
       "      <th>3238</th>\n",
       "      <td>2019-08-31 23:30:31</td>\n",
       "      <td>2019-08-31 23:43:00</td>\n",
       "      <td>1584.0</td>\n",
       "      <td>NaN</td>\n",
       "    </tr>\n",
       "    <tr>\n",
       "      <th>3239</th>\n",
       "      <td>2019-09-01 01:31:47</td>\n",
       "      <td>2019-09-01 02:24:15</td>\n",
       "      <td>1598.0</td>\n",
       "      <td>NaN</td>\n",
       "    </tr>\n",
       "    <tr>\n",
       "      <th>3240</th>\n",
       "      <td>2019-09-01 02:39:01</td>\n",
       "      <td>2019-09-01 03:35:16</td>\n",
       "      <td>1617.0</td>\n",
       "      <td>NaN</td>\n",
       "    </tr>\n",
       "    <tr>\n",
       "      <th>3241</th>\n",
       "      <td>2019-09-01 04:03:30</td>\n",
       "      <td>2019-09-01 04:38:08</td>\n",
       "      <td>1586.0</td>\n",
       "      <td>NaN</td>\n",
       "    </tr>\n",
       "  </tbody>\n",
       "</table>\n",
       "<p>739 rows × 4 columns</p>\n",
       "</div>"
      ],
      "text/plain": [
       "                 min_time             max_time  start_temp  final_temp\n",
       "key                                                                   \n",
       "2500  2019-08-06 03:11:31  2019-08-06 03:28:21      1539.0         NaN\n",
       "2501  2019-08-06 03:44:42  2019-08-06 04:31:14      1587.0         NaN\n",
       "2502  2019-08-06 04:45:26  2019-08-06 05:12:20      1583.0         NaN\n",
       "2503  2019-08-06 05:32:06  2019-08-06 06:07:35      1603.0         NaN\n",
       "2504  2019-08-06 06:35:39  2019-08-06 07:04:16      1583.0         NaN\n",
       "...                   ...                  ...         ...         ...\n",
       "3237  2019-08-31 22:44:04  2019-08-31 23:05:43      1569.0         NaN\n",
       "3238  2019-08-31 23:30:31  2019-08-31 23:43:00      1584.0         NaN\n",
       "3239  2019-09-01 01:31:47  2019-09-01 02:24:15      1598.0         NaN\n",
       "3240  2019-09-01 02:39:01  2019-09-01 03:35:16      1617.0         NaN\n",
       "3241  2019-09-01 04:03:30  2019-09-01 04:38:08      1586.0         NaN\n",
       "\n",
       "[739 rows x 4 columns]"
      ]
     },
     "execution_count": 71,
     "metadata": {},
     "output_type": "execute_result"
    }
   ],
   "source": [
    "data_temp_gr[data_temp_gr['final_temp'].isna()]"
   ]
  },
  {
   "cell_type": "code",
   "execution_count": 72,
   "id": "1546c1c5",
   "metadata": {},
   "outputs": [],
   "source": [
    "data_temp_gr = data_temp_gr[~data_temp_gr['final_temp'].isna()]"
   ]
  },
  {
   "cell_type": "markdown",
   "id": "9e77cab3",
   "metadata": {},
   "source": [
    "Проверим, есть ли партии, в которых производился один замер температуры, то есть минимальное время замера равно максимальному. "
   ]
  },
  {
   "cell_type": "code",
   "execution_count": 73,
   "id": "a3fca205",
   "metadata": {},
   "outputs": [
    {
     "data": {
      "text/html": [
       "<div>\n",
       "<style scoped>\n",
       "    .dataframe tbody tr th:only-of-type {\n",
       "        vertical-align: middle;\n",
       "    }\n",
       "\n",
       "    .dataframe tbody tr th {\n",
       "        vertical-align: top;\n",
       "    }\n",
       "\n",
       "    .dataframe thead th {\n",
       "        text-align: right;\n",
       "    }\n",
       "</style>\n",
       "<table border=\"1\" class=\"dataframe\">\n",
       "  <thead>\n",
       "    <tr style=\"text-align: right;\">\n",
       "      <th></th>\n",
       "      <th>min_time</th>\n",
       "      <th>max_time</th>\n",
       "      <th>start_temp</th>\n",
       "      <th>final_temp</th>\n",
       "    </tr>\n",
       "    <tr>\n",
       "      <th>key</th>\n",
       "      <th></th>\n",
       "      <th></th>\n",
       "      <th></th>\n",
       "      <th></th>\n",
       "    </tr>\n",
       "  </thead>\n",
       "  <tbody>\n",
       "    <tr>\n",
       "      <th>195</th>\n",
       "      <td>2019-05-10 14:10:23</td>\n",
       "      <td>2019-05-10 14:10:23</td>\n",
       "      <td>1583.0</td>\n",
       "      <td>1583.0</td>\n",
       "    </tr>\n",
       "    <tr>\n",
       "      <th>279</th>\n",
       "      <td>2019-05-13 23:07:28</td>\n",
       "      <td>2019-05-13 23:07:28</td>\n",
       "      <td>1603.0</td>\n",
       "      <td>1603.0</td>\n",
       "    </tr>\n",
       "  </tbody>\n",
       "</table>\n",
       "</div>"
      ],
      "text/plain": [
       "                min_time             max_time  start_temp  final_temp\n",
       "key                                                                  \n",
       "195  2019-05-10 14:10:23  2019-05-10 14:10:23      1583.0      1583.0\n",
       "279  2019-05-13 23:07:28  2019-05-13 23:07:28      1603.0      1603.0"
      ]
     },
     "execution_count": 73,
     "metadata": {},
     "output_type": "execute_result"
    }
   ],
   "source": [
    "data_temp_gr[data_temp_gr['min_time']==data_temp_gr['max_time']]"
   ]
  },
  {
   "cell_type": "markdown",
   "id": "0458bdc8",
   "metadata": {},
   "source": [
    "Таких партий всего две, также уберем их из выборки."
   ]
  },
  {
   "cell_type": "code",
   "execution_count": 74,
   "id": "55241d8d",
   "metadata": {},
   "outputs": [],
   "source": [
    "data_temp_gr = data_temp_gr[data_temp_gr['min_time']!=data_temp_gr['max_time']]"
   ]
  },
  {
   "cell_type": "markdown",
   "id": "0aab6628",
   "metadata": {},
   "source": [
    "Проверим наличие пропусков в получившейся таблице и посмотрим на ее размерность."
   ]
  },
  {
   "cell_type": "code",
   "execution_count": 75,
   "id": "b1f1fa45",
   "metadata": {},
   "outputs": [
    {
     "data": {
      "text/plain": [
       "min_time      0\n",
       "max_time      0\n",
       "start_temp    0\n",
       "final_temp    0\n",
       "dtype: int64"
      ]
     },
     "execution_count": 75,
     "metadata": {},
     "output_type": "execute_result"
    }
   ],
   "source": [
    "data_temp_gr.isna().sum()"
   ]
  },
  {
   "cell_type": "code",
   "execution_count": 76,
   "id": "39334541",
   "metadata": {},
   "outputs": [
    {
     "data": {
      "text/plain": [
       "(2475, 4)"
      ]
     },
     "execution_count": 76,
     "metadata": {},
     "output_type": "execute_result"
    }
   ],
   "source": [
    "data_temp_gr.shape"
   ]
  },
  {
   "cell_type": "markdown",
   "id": "b990bb9a",
   "metadata": {},
   "source": [
    "Получилось 2475 партий с имеющимся значениям целевого признака и начального замера температуры. Обработаем остальные имеющиеся датасеты, чтобы их можно было присоединить к получившейся таблице по ключу - номеру партии меттала."
   ]
  },
  {
   "cell_type": "code",
   "execution_count": 77,
   "id": "c41ca435",
   "metadata": {},
   "outputs": [
    {
     "data": {
      "text/html": [
       "<div>\n",
       "<style scoped>\n",
       "    .dataframe tbody tr th:only-of-type {\n",
       "        vertical-align: middle;\n",
       "    }\n",
       "\n",
       "    .dataframe tbody tr th {\n",
       "        vertical-align: top;\n",
       "    }\n",
       "\n",
       "    .dataframe thead th {\n",
       "        text-align: right;\n",
       "    }\n",
       "</style>\n",
       "<table border=\"1\" class=\"dataframe\">\n",
       "  <thead>\n",
       "    <tr style=\"text-align: right;\">\n",
       "      <th></th>\n",
       "      <th>min_time</th>\n",
       "      <th>max_time</th>\n",
       "      <th>start_temp</th>\n",
       "      <th>final_temp</th>\n",
       "    </tr>\n",
       "    <tr>\n",
       "      <th>key</th>\n",
       "      <th></th>\n",
       "      <th></th>\n",
       "      <th></th>\n",
       "      <th></th>\n",
       "    </tr>\n",
       "  </thead>\n",
       "  <tbody>\n",
       "    <tr>\n",
       "      <th>1</th>\n",
       "      <td>2019-05-03 11:16:18</td>\n",
       "      <td>2019-05-03 11:30:39</td>\n",
       "      <td>1571.0</td>\n",
       "      <td>1613.0</td>\n",
       "    </tr>\n",
       "    <tr>\n",
       "      <th>2</th>\n",
       "      <td>2019-05-03 11:37:27</td>\n",
       "      <td>2019-05-03 11:59:12</td>\n",
       "      <td>1581.0</td>\n",
       "      <td>1602.0</td>\n",
       "    </tr>\n",
       "    <tr>\n",
       "      <th>3</th>\n",
       "      <td>2019-05-03 12:13:17</td>\n",
       "      <td>2019-05-03 12:34:57</td>\n",
       "      <td>1596.0</td>\n",
       "      <td>1599.0</td>\n",
       "    </tr>\n",
       "    <tr>\n",
       "      <th>4</th>\n",
       "      <td>2019-05-03 12:52:57</td>\n",
       "      <td>2019-05-03 12:59:25</td>\n",
       "      <td>1601.0</td>\n",
       "      <td>1625.0</td>\n",
       "    </tr>\n",
       "    <tr>\n",
       "      <th>5</th>\n",
       "      <td>2019-05-03 13:23:19</td>\n",
       "      <td>2019-05-03 13:36:01</td>\n",
       "      <td>1576.0</td>\n",
       "      <td>1602.0</td>\n",
       "    </tr>\n",
       "    <tr>\n",
       "      <th>...</th>\n",
       "      <td>...</td>\n",
       "      <td>...</td>\n",
       "      <td>...</td>\n",
       "      <td>...</td>\n",
       "    </tr>\n",
       "    <tr>\n",
       "      <th>2495</th>\n",
       "      <td>2019-08-06 00:35:45</td>\n",
       "      <td>2019-08-06 00:54:42</td>\n",
       "      <td>1570.0</td>\n",
       "      <td>1591.0</td>\n",
       "    </tr>\n",
       "    <tr>\n",
       "      <th>2496</th>\n",
       "      <td>2019-08-06 01:02:54</td>\n",
       "      <td>2019-08-06 01:29:52</td>\n",
       "      <td>1554.0</td>\n",
       "      <td>1591.0</td>\n",
       "    </tr>\n",
       "    <tr>\n",
       "      <th>2497</th>\n",
       "      <td>2019-08-06 01:41:53</td>\n",
       "      <td>2019-08-06 01:53:50</td>\n",
       "      <td>1571.0</td>\n",
       "      <td>1589.0</td>\n",
       "    </tr>\n",
       "    <tr>\n",
       "      <th>2498</th>\n",
       "      <td>2019-08-06 02:03:49</td>\n",
       "      <td>2019-08-06 02:25:31</td>\n",
       "      <td>1591.0</td>\n",
       "      <td>1594.0</td>\n",
       "    </tr>\n",
       "    <tr>\n",
       "      <th>2499</th>\n",
       "      <td>2019-08-06 02:40:25</td>\n",
       "      <td>2019-08-06 03:00:28</td>\n",
       "      <td>1569.0</td>\n",
       "      <td>1603.0</td>\n",
       "    </tr>\n",
       "  </tbody>\n",
       "</table>\n",
       "<p>2475 rows × 4 columns</p>\n",
       "</div>"
      ],
      "text/plain": [
       "                 min_time             max_time  start_temp  final_temp\n",
       "key                                                                   \n",
       "1     2019-05-03 11:16:18  2019-05-03 11:30:39      1571.0      1613.0\n",
       "2     2019-05-03 11:37:27  2019-05-03 11:59:12      1581.0      1602.0\n",
       "3     2019-05-03 12:13:17  2019-05-03 12:34:57      1596.0      1599.0\n",
       "4     2019-05-03 12:52:57  2019-05-03 12:59:25      1601.0      1625.0\n",
       "5     2019-05-03 13:23:19  2019-05-03 13:36:01      1576.0      1602.0\n",
       "...                   ...                  ...         ...         ...\n",
       "2495  2019-08-06 00:35:45  2019-08-06 00:54:42      1570.0      1591.0\n",
       "2496  2019-08-06 01:02:54  2019-08-06 01:29:52      1554.0      1591.0\n",
       "2497  2019-08-06 01:41:53  2019-08-06 01:53:50      1571.0      1589.0\n",
       "2498  2019-08-06 02:03:49  2019-08-06 02:25:31      1591.0      1594.0\n",
       "2499  2019-08-06 02:40:25  2019-08-06 03:00:28      1569.0      1603.0\n",
       "\n",
       "[2475 rows x 4 columns]"
      ]
     },
     "execution_count": 77,
     "metadata": {},
     "output_type": "execute_result"
    }
   ],
   "source": [
    "data_temp_gr"
   ]
  },
  {
   "cell_type": "markdown",
   "id": "535b369c",
   "metadata": {},
   "source": [
    "### Обработка данных о подаче газа"
   ]
  },
  {
   "cell_type": "markdown",
   "id": "ac19cc9d",
   "metadata": {},
   "source": [
    "Данные о подаче газа не имеют пропусков, а также содержат информацию только по уникальным номерам партий. Добавим информацию о подаче газа в получившуюся выше таблицу, оставив только партии, по которым есть данные в обоих датасетах. "
   ]
  },
  {
   "cell_type": "code",
   "execution_count": 78,
   "id": "b9535971",
   "metadata": {},
   "outputs": [],
   "source": [
    "data_gas = data_gas.set_index('key')"
   ]
  },
  {
   "cell_type": "code",
   "execution_count": 79,
   "id": "25046124",
   "metadata": {},
   "outputs": [
    {
     "data": {
      "text/html": [
       "<div>\n",
       "<style scoped>\n",
       "    .dataframe tbody tr th:only-of-type {\n",
       "        vertical-align: middle;\n",
       "    }\n",
       "\n",
       "    .dataframe tbody tr th {\n",
       "        vertical-align: top;\n",
       "    }\n",
       "\n",
       "    .dataframe thead th {\n",
       "        text-align: right;\n",
       "    }\n",
       "</style>\n",
       "<table border=\"1\" class=\"dataframe\">\n",
       "  <thead>\n",
       "    <tr style=\"text-align: right;\">\n",
       "      <th></th>\n",
       "      <th>min_time</th>\n",
       "      <th>max_time</th>\n",
       "      <th>start_temp</th>\n",
       "      <th>final_temp</th>\n",
       "      <th>gas</th>\n",
       "    </tr>\n",
       "    <tr>\n",
       "      <th>key</th>\n",
       "      <th></th>\n",
       "      <th></th>\n",
       "      <th></th>\n",
       "      <th></th>\n",
       "      <th></th>\n",
       "    </tr>\n",
       "  </thead>\n",
       "  <tbody>\n",
       "    <tr>\n",
       "      <th>1</th>\n",
       "      <td>2019-05-03 11:16:18</td>\n",
       "      <td>2019-05-03 11:30:39</td>\n",
       "      <td>1571.0</td>\n",
       "      <td>1613.0</td>\n",
       "      <td>29.749986</td>\n",
       "    </tr>\n",
       "    <tr>\n",
       "      <th>2</th>\n",
       "      <td>2019-05-03 11:37:27</td>\n",
       "      <td>2019-05-03 11:59:12</td>\n",
       "      <td>1581.0</td>\n",
       "      <td>1602.0</td>\n",
       "      <td>12.555561</td>\n",
       "    </tr>\n",
       "    <tr>\n",
       "      <th>3</th>\n",
       "      <td>2019-05-03 12:13:17</td>\n",
       "      <td>2019-05-03 12:34:57</td>\n",
       "      <td>1596.0</td>\n",
       "      <td>1599.0</td>\n",
       "      <td>28.554793</td>\n",
       "    </tr>\n",
       "    <tr>\n",
       "      <th>4</th>\n",
       "      <td>2019-05-03 12:52:57</td>\n",
       "      <td>2019-05-03 12:59:25</td>\n",
       "      <td>1601.0</td>\n",
       "      <td>1625.0</td>\n",
       "      <td>18.841219</td>\n",
       "    </tr>\n",
       "    <tr>\n",
       "      <th>5</th>\n",
       "      <td>2019-05-03 13:23:19</td>\n",
       "      <td>2019-05-03 13:36:01</td>\n",
       "      <td>1576.0</td>\n",
       "      <td>1602.0</td>\n",
       "      <td>5.413692</td>\n",
       "    </tr>\n",
       "    <tr>\n",
       "      <th>...</th>\n",
       "      <td>...</td>\n",
       "      <td>...</td>\n",
       "      <td>...</td>\n",
       "      <td>...</td>\n",
       "      <td>...</td>\n",
       "    </tr>\n",
       "    <tr>\n",
       "      <th>2495</th>\n",
       "      <td>2019-08-06 00:35:45</td>\n",
       "      <td>2019-08-06 00:54:42</td>\n",
       "      <td>1570.0</td>\n",
       "      <td>1591.0</td>\n",
       "      <td>7.125735</td>\n",
       "    </tr>\n",
       "    <tr>\n",
       "      <th>2496</th>\n",
       "      <td>2019-08-06 01:02:54</td>\n",
       "      <td>2019-08-06 01:29:52</td>\n",
       "      <td>1554.0</td>\n",
       "      <td>1591.0</td>\n",
       "      <td>9.412616</td>\n",
       "    </tr>\n",
       "    <tr>\n",
       "      <th>2497</th>\n",
       "      <td>2019-08-06 01:41:53</td>\n",
       "      <td>2019-08-06 01:53:50</td>\n",
       "      <td>1571.0</td>\n",
       "      <td>1589.0</td>\n",
       "      <td>6.271699</td>\n",
       "    </tr>\n",
       "    <tr>\n",
       "      <th>2498</th>\n",
       "      <td>2019-08-06 02:03:49</td>\n",
       "      <td>2019-08-06 02:25:31</td>\n",
       "      <td>1591.0</td>\n",
       "      <td>1594.0</td>\n",
       "      <td>14.953657</td>\n",
       "    </tr>\n",
       "    <tr>\n",
       "      <th>2499</th>\n",
       "      <td>2019-08-06 02:40:25</td>\n",
       "      <td>2019-08-06 03:00:28</td>\n",
       "      <td>1569.0</td>\n",
       "      <td>1603.0</td>\n",
       "      <td>11.336151</td>\n",
       "    </tr>\n",
       "  </tbody>\n",
       "</table>\n",
       "<p>2473 rows × 5 columns</p>\n",
       "</div>"
      ],
      "text/plain": [
       "                 min_time             max_time  start_temp  final_temp  \\\n",
       "key                                                                      \n",
       "1     2019-05-03 11:16:18  2019-05-03 11:30:39      1571.0      1613.0   \n",
       "2     2019-05-03 11:37:27  2019-05-03 11:59:12      1581.0      1602.0   \n",
       "3     2019-05-03 12:13:17  2019-05-03 12:34:57      1596.0      1599.0   \n",
       "4     2019-05-03 12:52:57  2019-05-03 12:59:25      1601.0      1625.0   \n",
       "5     2019-05-03 13:23:19  2019-05-03 13:36:01      1576.0      1602.0   \n",
       "...                   ...                  ...         ...         ...   \n",
       "2495  2019-08-06 00:35:45  2019-08-06 00:54:42      1570.0      1591.0   \n",
       "2496  2019-08-06 01:02:54  2019-08-06 01:29:52      1554.0      1591.0   \n",
       "2497  2019-08-06 01:41:53  2019-08-06 01:53:50      1571.0      1589.0   \n",
       "2498  2019-08-06 02:03:49  2019-08-06 02:25:31      1591.0      1594.0   \n",
       "2499  2019-08-06 02:40:25  2019-08-06 03:00:28      1569.0      1603.0   \n",
       "\n",
       "            gas  \n",
       "key              \n",
       "1     29.749986  \n",
       "2     12.555561  \n",
       "3     28.554793  \n",
       "4     18.841219  \n",
       "5      5.413692  \n",
       "...         ...  \n",
       "2495   7.125735  \n",
       "2496   9.412616  \n",
       "2497   6.271699  \n",
       "2498  14.953657  \n",
       "2499  11.336151  \n",
       "\n",
       "[2473 rows x 5 columns]"
      ]
     },
     "execution_count": 79,
     "metadata": {},
     "output_type": "execute_result"
    }
   ],
   "source": [
    "data_steel = data_temp_gr.join(data_gas, how='inner')\n",
    "data_steel"
   ]
  },
  {
   "cell_type": "markdown",
   "id": "87e17b3c",
   "metadata": {},
   "source": [
    "### Обработка данных об электродах"
   ]
  },
  {
   "cell_type": "markdown",
   "id": "c0e54ea1",
   "metadata": {},
   "source": [
    "Начнем с удаления аномальных значений. На этапе исследовательского анализа было выявлено одно очень низкое значение реактивной мощности. Удалим целиком из выборки данные по партии с выбросом."
   ]
  },
  {
   "cell_type": "code",
   "execution_count": 80,
   "id": "5a056768",
   "metadata": {},
   "outputs": [
    {
     "data": {
      "text/plain": [
       "9780   -715.504924\n",
       "5596      0.020806\n",
       "2419      0.021154\n",
       "4914      0.022485\n",
       "4633      0.022983\n",
       "Name: reactive_power, dtype: float64"
      ]
     },
     "execution_count": 80,
     "metadata": {},
     "output_type": "execute_result"
    }
   ],
   "source": [
    "# посмотрим на самые низкие значения в столбце reactive power\n",
    "data_arc['reactive_power'].sort_values(ascending=True).head()"
   ]
  },
  {
   "cell_type": "code",
   "execution_count": 81,
   "id": "9ff24223",
   "metadata": {},
   "outputs": [
    {
     "data": {
      "text/plain": [
       "key                              2116\n",
       "start_heat        2019-07-24 00:44:48\n",
       "end_heat          2019-07-24 00:46:37\n",
       "active_power                 0.495782\n",
       "reactive_power            -715.504924\n",
       "Name: 9780, dtype: object"
      ]
     },
     "execution_count": 81,
     "metadata": {},
     "output_type": "execute_result"
    }
   ],
   "source": [
    "# смотрим, по какому ключу наблюдается аномально низкое значение\n",
    "data_arc.iloc[9780]"
   ]
  },
  {
   "cell_type": "code",
   "execution_count": 82,
   "id": "e0c3738f",
   "metadata": {},
   "outputs": [
    {
     "data": {
      "text/html": [
       "<div>\n",
       "<style scoped>\n",
       "    .dataframe tbody tr th:only-of-type {\n",
       "        vertical-align: middle;\n",
       "    }\n",
       "\n",
       "    .dataframe tbody tr th {\n",
       "        vertical-align: top;\n",
       "    }\n",
       "\n",
       "    .dataframe thead th {\n",
       "        text-align: right;\n",
       "    }\n",
       "</style>\n",
       "<table border=\"1\" class=\"dataframe\">\n",
       "  <thead>\n",
       "    <tr style=\"text-align: right;\">\n",
       "      <th></th>\n",
       "      <th>key</th>\n",
       "      <th>start_heat</th>\n",
       "      <th>end_heat</th>\n",
       "      <th>active_power</th>\n",
       "      <th>reactive_power</th>\n",
       "    </tr>\n",
       "  </thead>\n",
       "  <tbody>\n",
       "    <tr>\n",
       "      <th>9778</th>\n",
       "      <td>2116</td>\n",
       "      <td>2019-07-24 00:29:52</td>\n",
       "      <td>2019-07-24 00:31:54</td>\n",
       "      <td>0.433266</td>\n",
       "      <td>0.306141</td>\n",
       "    </tr>\n",
       "    <tr>\n",
       "      <th>9779</th>\n",
       "      <td>2116</td>\n",
       "      <td>2019-07-24 00:35:50</td>\n",
       "      <td>2019-07-24 00:38:05</td>\n",
       "      <td>0.620265</td>\n",
       "      <td>0.408352</td>\n",
       "    </tr>\n",
       "    <tr>\n",
       "      <th>9780</th>\n",
       "      <td>2116</td>\n",
       "      <td>2019-07-24 00:44:48</td>\n",
       "      <td>2019-07-24 00:46:37</td>\n",
       "      <td>0.495782</td>\n",
       "      <td>-715.504924</td>\n",
       "    </tr>\n",
       "    <tr>\n",
       "      <th>9781</th>\n",
       "      <td>2116</td>\n",
       "      <td>2019-07-24 00:51:51</td>\n",
       "      <td>2019-07-24 00:52:58</td>\n",
       "      <td>0.299368</td>\n",
       "      <td>0.198796</td>\n",
       "    </tr>\n",
       "  </tbody>\n",
       "</table>\n",
       "</div>"
      ],
      "text/plain": [
       "       key          start_heat            end_heat  active_power  \\\n",
       "9778  2116 2019-07-24 00:29:52 2019-07-24 00:31:54      0.433266   \n",
       "9779  2116 2019-07-24 00:35:50 2019-07-24 00:38:05      0.620265   \n",
       "9780  2116 2019-07-24 00:44:48 2019-07-24 00:46:37      0.495782   \n",
       "9781  2116 2019-07-24 00:51:51 2019-07-24 00:52:58      0.299368   \n",
       "\n",
       "      reactive_power  \n",
       "9778        0.306141  \n",
       "9779        0.408352  \n",
       "9780     -715.504924  \n",
       "9781        0.198796  "
      ]
     },
     "execution_count": 82,
     "metadata": {},
     "output_type": "execute_result"
    }
   ],
   "source": [
    "# выведем все строки таблицы по данному ключу\n",
    "data_arc[data_arc['key']==2116]"
   ]
  },
  {
   "cell_type": "code",
   "execution_count": 83,
   "id": "c41bb9ca",
   "metadata": {},
   "outputs": [],
   "source": [
    "# удалим из выборки все строки с найденным ключом\n",
    "\n",
    "data_arc = data_arc[data_arc['key']!=2116]"
   ]
  },
  {
   "cell_type": "markdown",
   "id": "c89930ce",
   "metadata": {},
   "source": [
    "Данные об электодах не содержат пропусков, однако они не агрегированы по партиям. Добавим признак - полная мощность по каждой из итераций нагрева. Рассчитаем полную можность как квадратный корень из суммы квадратов активной и реактивной мощностей."
   ]
  },
  {
   "cell_type": "code",
   "execution_count": 84,
   "id": "774e15ad",
   "metadata": {},
   "outputs": [
    {
     "data": {
      "text/html": [
       "<div>\n",
       "<style scoped>\n",
       "    .dataframe tbody tr th:only-of-type {\n",
       "        vertical-align: middle;\n",
       "    }\n",
       "\n",
       "    .dataframe tbody tr th {\n",
       "        vertical-align: top;\n",
       "    }\n",
       "\n",
       "    .dataframe thead th {\n",
       "        text-align: right;\n",
       "    }\n",
       "</style>\n",
       "<table border=\"1\" class=\"dataframe\">\n",
       "  <thead>\n",
       "    <tr style=\"text-align: right;\">\n",
       "      <th></th>\n",
       "      <th>key</th>\n",
       "      <th>start_heat</th>\n",
       "      <th>end_heat</th>\n",
       "      <th>active_power</th>\n",
       "      <th>reactive_power</th>\n",
       "    </tr>\n",
       "  </thead>\n",
       "  <tbody>\n",
       "    <tr>\n",
       "      <th>0</th>\n",
       "      <td>1</td>\n",
       "      <td>2019-05-03 11:02:14</td>\n",
       "      <td>2019-05-03 11:06:02</td>\n",
       "      <td>0.976059</td>\n",
       "      <td>0.687084</td>\n",
       "    </tr>\n",
       "    <tr>\n",
       "      <th>1</th>\n",
       "      <td>1</td>\n",
       "      <td>2019-05-03 11:07:28</td>\n",
       "      <td>2019-05-03 11:10:33</td>\n",
       "      <td>0.805607</td>\n",
       "      <td>0.520285</td>\n",
       "    </tr>\n",
       "    <tr>\n",
       "      <th>2</th>\n",
       "      <td>1</td>\n",
       "      <td>2019-05-03 11:11:44</td>\n",
       "      <td>2019-05-03 11:14:36</td>\n",
       "      <td>0.744363</td>\n",
       "      <td>0.498805</td>\n",
       "    </tr>\n",
       "    <tr>\n",
       "      <th>3</th>\n",
       "      <td>1</td>\n",
       "      <td>2019-05-03 11:18:14</td>\n",
       "      <td>2019-05-03 11:24:19</td>\n",
       "      <td>1.659363</td>\n",
       "      <td>1.062669</td>\n",
       "    </tr>\n",
       "    <tr>\n",
       "      <th>4</th>\n",
       "      <td>1</td>\n",
       "      <td>2019-05-03 11:26:09</td>\n",
       "      <td>2019-05-03 11:28:37</td>\n",
       "      <td>0.692755</td>\n",
       "      <td>0.414397</td>\n",
       "    </tr>\n",
       "  </tbody>\n",
       "</table>\n",
       "</div>"
      ],
      "text/plain": [
       "   key          start_heat            end_heat  active_power  reactive_power\n",
       "0    1 2019-05-03 11:02:14 2019-05-03 11:06:02      0.976059        0.687084\n",
       "1    1 2019-05-03 11:07:28 2019-05-03 11:10:33      0.805607        0.520285\n",
       "2    1 2019-05-03 11:11:44 2019-05-03 11:14:36      0.744363        0.498805\n",
       "3    1 2019-05-03 11:18:14 2019-05-03 11:24:19      1.659363        1.062669\n",
       "4    1 2019-05-03 11:26:09 2019-05-03 11:28:37      0.692755        0.414397"
      ]
     },
     "execution_count": 84,
     "metadata": {},
     "output_type": "execute_result"
    }
   ],
   "source": [
    "data_arc.head()"
   ]
  },
  {
   "cell_type": "code",
   "execution_count": 85,
   "id": "c1a6370c",
   "metadata": {},
   "outputs": [],
   "source": [
    "data_arc['full_power']= (data_arc['active_power']**2 + data_arc['reactive_power']**2)**0.5"
   ]
  },
  {
   "cell_type": "code",
   "execution_count": 86,
   "id": "9c81ccb2",
   "metadata": {},
   "outputs": [
    {
     "data": {
      "text/html": [
       "<div>\n",
       "<style scoped>\n",
       "    .dataframe tbody tr th:only-of-type {\n",
       "        vertical-align: middle;\n",
       "    }\n",
       "\n",
       "    .dataframe tbody tr th {\n",
       "        vertical-align: top;\n",
       "    }\n",
       "\n",
       "    .dataframe thead th {\n",
       "        text-align: right;\n",
       "    }\n",
       "</style>\n",
       "<table border=\"1\" class=\"dataframe\">\n",
       "  <thead>\n",
       "    <tr style=\"text-align: right;\">\n",
       "      <th></th>\n",
       "      <th>key</th>\n",
       "      <th>start_heat</th>\n",
       "      <th>end_heat</th>\n",
       "      <th>active_power</th>\n",
       "      <th>reactive_power</th>\n",
       "      <th>full_power</th>\n",
       "    </tr>\n",
       "  </thead>\n",
       "  <tbody>\n",
       "    <tr>\n",
       "      <th>0</th>\n",
       "      <td>1</td>\n",
       "      <td>2019-05-03 11:02:14</td>\n",
       "      <td>2019-05-03 11:06:02</td>\n",
       "      <td>0.976059</td>\n",
       "      <td>0.687084</td>\n",
       "      <td>1.193639</td>\n",
       "    </tr>\n",
       "    <tr>\n",
       "      <th>1</th>\n",
       "      <td>1</td>\n",
       "      <td>2019-05-03 11:07:28</td>\n",
       "      <td>2019-05-03 11:10:33</td>\n",
       "      <td>0.805607</td>\n",
       "      <td>0.520285</td>\n",
       "      <td>0.959010</td>\n",
       "    </tr>\n",
       "    <tr>\n",
       "      <th>2</th>\n",
       "      <td>1</td>\n",
       "      <td>2019-05-03 11:11:44</td>\n",
       "      <td>2019-05-03 11:14:36</td>\n",
       "      <td>0.744363</td>\n",
       "      <td>0.498805</td>\n",
       "      <td>0.896038</td>\n",
       "    </tr>\n",
       "    <tr>\n",
       "      <th>3</th>\n",
       "      <td>1</td>\n",
       "      <td>2019-05-03 11:18:14</td>\n",
       "      <td>2019-05-03 11:24:19</td>\n",
       "      <td>1.659363</td>\n",
       "      <td>1.062669</td>\n",
       "      <td>1.970470</td>\n",
       "    </tr>\n",
       "    <tr>\n",
       "      <th>4</th>\n",
       "      <td>1</td>\n",
       "      <td>2019-05-03 11:26:09</td>\n",
       "      <td>2019-05-03 11:28:37</td>\n",
       "      <td>0.692755</td>\n",
       "      <td>0.414397</td>\n",
       "      <td>0.807239</td>\n",
       "    </tr>\n",
       "  </tbody>\n",
       "</table>\n",
       "</div>"
      ],
      "text/plain": [
       "   key          start_heat            end_heat  active_power  reactive_power  \\\n",
       "0    1 2019-05-03 11:02:14 2019-05-03 11:06:02      0.976059        0.687084   \n",
       "1    1 2019-05-03 11:07:28 2019-05-03 11:10:33      0.805607        0.520285   \n",
       "2    1 2019-05-03 11:11:44 2019-05-03 11:14:36      0.744363        0.498805   \n",
       "3    1 2019-05-03 11:18:14 2019-05-03 11:24:19      1.659363        1.062669   \n",
       "4    1 2019-05-03 11:26:09 2019-05-03 11:28:37      0.692755        0.414397   \n",
       "\n",
       "   full_power  \n",
       "0    1.193639  \n",
       "1    0.959010  \n",
       "2    0.896038  \n",
       "3    1.970470  \n",
       "4    0.807239  "
      ]
     },
     "execution_count": 86,
     "metadata": {},
     "output_type": "execute_result"
    }
   ],
   "source": [
    "data_arc.head()"
   ]
  },
  {
   "cell_type": "markdown",
   "id": "cd739d13",
   "metadata": {},
   "source": [
    "Сгруппируем данные по номеру партии, применив агрегирующие функции сложения (суммарная полная мощность, затраченная на нагрев партии) и подсчета количества (число итераций нагрева). "
   ]
  },
  {
   "cell_type": "code",
   "execution_count": 87,
   "id": "abd9a0cd",
   "metadata": {},
   "outputs": [
    {
     "data": {
      "text/html": [
       "<div>\n",
       "<style scoped>\n",
       "    .dataframe tbody tr th:only-of-type {\n",
       "        vertical-align: middle;\n",
       "    }\n",
       "\n",
       "    .dataframe tbody tr th {\n",
       "        vertical-align: top;\n",
       "    }\n",
       "\n",
       "    .dataframe thead th {\n",
       "        text-align: right;\n",
       "    }\n",
       "</style>\n",
       "<table border=\"1\" class=\"dataframe\">\n",
       "  <thead>\n",
       "    <tr style=\"text-align: right;\">\n",
       "      <th></th>\n",
       "      <th>full_power</th>\n",
       "      <th>heat_iter</th>\n",
       "    </tr>\n",
       "    <tr>\n",
       "      <th>key</th>\n",
       "      <th></th>\n",
       "      <th></th>\n",
       "    </tr>\n",
       "  </thead>\n",
       "  <tbody>\n",
       "    <tr>\n",
       "      <th>1</th>\n",
       "      <td>5.826395</td>\n",
       "      <td>5</td>\n",
       "    </tr>\n",
       "    <tr>\n",
       "      <th>2</th>\n",
       "      <td>3.649216</td>\n",
       "      <td>4</td>\n",
       "    </tr>\n",
       "    <tr>\n",
       "      <th>3</th>\n",
       "      <td>2.989534</td>\n",
       "      <td>5</td>\n",
       "    </tr>\n",
       "    <tr>\n",
       "      <th>4</th>\n",
       "      <td>3.814962</td>\n",
       "      <td>4</td>\n",
       "    </tr>\n",
       "    <tr>\n",
       "      <th>5</th>\n",
       "      <td>4.035758</td>\n",
       "      <td>4</td>\n",
       "    </tr>\n",
       "  </tbody>\n",
       "</table>\n",
       "</div>"
      ],
      "text/plain": [
       "     full_power  heat_iter\n",
       "key                       \n",
       "1      5.826395          5\n",
       "2      3.649216          4\n",
       "3      2.989534          5\n",
       "4      3.814962          4\n",
       "5      4.035758          4"
      ]
     },
     "execution_count": 87,
     "metadata": {},
     "output_type": "execute_result"
    }
   ],
   "source": [
    "data_arc_gr = data_arc.groupby(['key'])['full_power'].agg(['sum', 'count'])\n",
    "data_arc_gr.columns = ['full_power', 'heat_iter']\n",
    "data_arc_gr.head()"
   ]
  },
  {
   "cell_type": "markdown",
   "id": "4f0d0108",
   "metadata": {},
   "source": [
    "Создадим еще один признак - время между началом нагрева (первой итерацией) и завершением процесса (окончание последней итерации). Время переведем в секунды."
   ]
  },
  {
   "cell_type": "code",
   "execution_count": 88,
   "id": "068bc8af",
   "metadata": {},
   "outputs": [
    {
     "data": {
      "text/html": [
       "<div>\n",
       "<style scoped>\n",
       "    .dataframe tbody tr th:only-of-type {\n",
       "        vertical-align: middle;\n",
       "    }\n",
       "\n",
       "    .dataframe tbody tr th {\n",
       "        vertical-align: top;\n",
       "    }\n",
       "\n",
       "    .dataframe thead th {\n",
       "        text-align: right;\n",
       "    }\n",
       "</style>\n",
       "<table border=\"1\" class=\"dataframe\">\n",
       "  <thead>\n",
       "    <tr style=\"text-align: right;\">\n",
       "      <th></th>\n",
       "      <th>full_power</th>\n",
       "      <th>heat_iter</th>\n",
       "      <th>heating_time</th>\n",
       "    </tr>\n",
       "    <tr>\n",
       "      <th>key</th>\n",
       "      <th></th>\n",
       "      <th></th>\n",
       "      <th></th>\n",
       "    </tr>\n",
       "  </thead>\n",
       "  <tbody>\n",
       "    <tr>\n",
       "      <th>1</th>\n",
       "      <td>5.826395</td>\n",
       "      <td>5</td>\n",
       "      <td>1583.0</td>\n",
       "    </tr>\n",
       "    <tr>\n",
       "      <th>2</th>\n",
       "      <td>3.649216</td>\n",
       "      <td>4</td>\n",
       "      <td>1144.0</td>\n",
       "    </tr>\n",
       "    <tr>\n",
       "      <th>3</th>\n",
       "      <td>2.989534</td>\n",
       "      <td>5</td>\n",
       "      <td>1525.0</td>\n",
       "    </tr>\n",
       "    <tr>\n",
       "      <th>4</th>\n",
       "      <td>3.814962</td>\n",
       "      <td>4</td>\n",
       "      <td>1093.0</td>\n",
       "    </tr>\n",
       "    <tr>\n",
       "      <th>5</th>\n",
       "      <td>4.035758</td>\n",
       "      <td>4</td>\n",
       "      <td>1362.0</td>\n",
       "    </tr>\n",
       "  </tbody>\n",
       "</table>\n",
       "</div>"
      ],
      "text/plain": [
       "     full_power  heat_iter  heating_time\n",
       "key                                     \n",
       "1      5.826395          5        1583.0\n",
       "2      3.649216          4        1144.0\n",
       "3      2.989534          5        1525.0\n",
       "4      3.814962          4        1093.0\n",
       "5      4.035758          4        1362.0"
      ]
     },
     "execution_count": 88,
     "metadata": {},
     "output_type": "execute_result"
    }
   ],
   "source": [
    "data_arc_gr_start_heat_time = data_arc.groupby(['key'])['start_heat'].agg('min')\n",
    "data_arc_gr_end_heat_time = data_arc.groupby(['key'])['end_heat'].agg('max')\n",
    "data_arc_gr['heating_time'] = (data_arc_gr_end_heat_time - data_arc_gr_start_heat_time).dt.total_seconds()\n",
    "data_arc_gr.head()"
   ]
  },
  {
   "cell_type": "markdown",
   "id": "29947805",
   "metadata": {},
   "source": [
    "Добавим получившиеся признаки к датасету с целевым признаком, оставляя только те партии, по которым есть вся информация по каждому из признаков."
   ]
  },
  {
   "cell_type": "code",
   "execution_count": 89,
   "id": "7506ecbf",
   "metadata": {},
   "outputs": [
    {
     "data": {
      "text/html": [
       "<div>\n",
       "<style scoped>\n",
       "    .dataframe tbody tr th:only-of-type {\n",
       "        vertical-align: middle;\n",
       "    }\n",
       "\n",
       "    .dataframe tbody tr th {\n",
       "        vertical-align: top;\n",
       "    }\n",
       "\n",
       "    .dataframe thead th {\n",
       "        text-align: right;\n",
       "    }\n",
       "</style>\n",
       "<table border=\"1\" class=\"dataframe\">\n",
       "  <thead>\n",
       "    <tr style=\"text-align: right;\">\n",
       "      <th></th>\n",
       "      <th>min_time</th>\n",
       "      <th>max_time</th>\n",
       "      <th>start_temp</th>\n",
       "      <th>final_temp</th>\n",
       "      <th>gas</th>\n",
       "      <th>full_power</th>\n",
       "      <th>heat_iter</th>\n",
       "      <th>heating_time</th>\n",
       "    </tr>\n",
       "    <tr>\n",
       "      <th>key</th>\n",
       "      <th></th>\n",
       "      <th></th>\n",
       "      <th></th>\n",
       "      <th></th>\n",
       "      <th></th>\n",
       "      <th></th>\n",
       "      <th></th>\n",
       "      <th></th>\n",
       "    </tr>\n",
       "  </thead>\n",
       "  <tbody>\n",
       "    <tr>\n",
       "      <th>1</th>\n",
       "      <td>2019-05-03 11:16:18</td>\n",
       "      <td>2019-05-03 11:30:39</td>\n",
       "      <td>1571.0</td>\n",
       "      <td>1613.0</td>\n",
       "      <td>29.749986</td>\n",
       "      <td>5.826395</td>\n",
       "      <td>5</td>\n",
       "      <td>1583.0</td>\n",
       "    </tr>\n",
       "    <tr>\n",
       "      <th>2</th>\n",
       "      <td>2019-05-03 11:37:27</td>\n",
       "      <td>2019-05-03 11:59:12</td>\n",
       "      <td>1581.0</td>\n",
       "      <td>1602.0</td>\n",
       "      <td>12.555561</td>\n",
       "      <td>3.649216</td>\n",
       "      <td>4</td>\n",
       "      <td>1144.0</td>\n",
       "    </tr>\n",
       "    <tr>\n",
       "      <th>3</th>\n",
       "      <td>2019-05-03 12:13:17</td>\n",
       "      <td>2019-05-03 12:34:57</td>\n",
       "      <td>1596.0</td>\n",
       "      <td>1599.0</td>\n",
       "      <td>28.554793</td>\n",
       "      <td>2.989534</td>\n",
       "      <td>5</td>\n",
       "      <td>1525.0</td>\n",
       "    </tr>\n",
       "    <tr>\n",
       "      <th>4</th>\n",
       "      <td>2019-05-03 12:52:57</td>\n",
       "      <td>2019-05-03 12:59:25</td>\n",
       "      <td>1601.0</td>\n",
       "      <td>1625.0</td>\n",
       "      <td>18.841219</td>\n",
       "      <td>3.814962</td>\n",
       "      <td>4</td>\n",
       "      <td>1093.0</td>\n",
       "    </tr>\n",
       "    <tr>\n",
       "      <th>5</th>\n",
       "      <td>2019-05-03 13:23:19</td>\n",
       "      <td>2019-05-03 13:36:01</td>\n",
       "      <td>1576.0</td>\n",
       "      <td>1602.0</td>\n",
       "      <td>5.413692</td>\n",
       "      <td>4.035758</td>\n",
       "      <td>4</td>\n",
       "      <td>1362.0</td>\n",
       "    </tr>\n",
       "    <tr>\n",
       "      <th>...</th>\n",
       "      <td>...</td>\n",
       "      <td>...</td>\n",
       "      <td>...</td>\n",
       "      <td>...</td>\n",
       "      <td>...</td>\n",
       "      <td>...</td>\n",
       "      <td>...</td>\n",
       "      <td>...</td>\n",
       "    </tr>\n",
       "    <tr>\n",
       "      <th>2495</th>\n",
       "      <td>2019-08-06 00:35:45</td>\n",
       "      <td>2019-08-06 00:54:42</td>\n",
       "      <td>1570.0</td>\n",
       "      <td>1591.0</td>\n",
       "      <td>7.125735</td>\n",
       "      <td>3.986869</td>\n",
       "      <td>4</td>\n",
       "      <td>1208.0</td>\n",
       "    </tr>\n",
       "    <tr>\n",
       "      <th>2496</th>\n",
       "      <td>2019-08-06 01:02:54</td>\n",
       "      <td>2019-08-06 01:29:52</td>\n",
       "      <td>1554.0</td>\n",
       "      <td>1591.0</td>\n",
       "      <td>9.412616</td>\n",
       "      <td>5.057033</td>\n",
       "      <td>6</td>\n",
       "      <td>1406.0</td>\n",
       "    </tr>\n",
       "    <tr>\n",
       "      <th>2497</th>\n",
       "      <td>2019-08-06 01:41:53</td>\n",
       "      <td>2019-08-06 01:53:50</td>\n",
       "      <td>1571.0</td>\n",
       "      <td>1589.0</td>\n",
       "      <td>6.271699</td>\n",
       "      <td>2.885017</td>\n",
       "      <td>3</td>\n",
       "      <td>764.0</td>\n",
       "    </tr>\n",
       "    <tr>\n",
       "      <th>2498</th>\n",
       "      <td>2019-08-06 02:03:49</td>\n",
       "      <td>2019-08-06 02:25:31</td>\n",
       "      <td>1591.0</td>\n",
       "      <td>1594.0</td>\n",
       "      <td>14.953657</td>\n",
       "      <td>4.143749</td>\n",
       "      <td>5</td>\n",
       "      <td>1358.0</td>\n",
       "    </tr>\n",
       "    <tr>\n",
       "      <th>2499</th>\n",
       "      <td>2019-08-06 02:40:25</td>\n",
       "      <td>2019-08-06 03:00:28</td>\n",
       "      <td>1569.0</td>\n",
       "      <td>1603.0</td>\n",
       "      <td>11.336151</td>\n",
       "      <td>4.953010</td>\n",
       "      <td>4</td>\n",
       "      <td>1366.0</td>\n",
       "    </tr>\n",
       "  </tbody>\n",
       "</table>\n",
       "<p>2472 rows × 8 columns</p>\n",
       "</div>"
      ],
      "text/plain": [
       "                 min_time             max_time  start_temp  final_temp  \\\n",
       "key                                                                      \n",
       "1     2019-05-03 11:16:18  2019-05-03 11:30:39      1571.0      1613.0   \n",
       "2     2019-05-03 11:37:27  2019-05-03 11:59:12      1581.0      1602.0   \n",
       "3     2019-05-03 12:13:17  2019-05-03 12:34:57      1596.0      1599.0   \n",
       "4     2019-05-03 12:52:57  2019-05-03 12:59:25      1601.0      1625.0   \n",
       "5     2019-05-03 13:23:19  2019-05-03 13:36:01      1576.0      1602.0   \n",
       "...                   ...                  ...         ...         ...   \n",
       "2495  2019-08-06 00:35:45  2019-08-06 00:54:42      1570.0      1591.0   \n",
       "2496  2019-08-06 01:02:54  2019-08-06 01:29:52      1554.0      1591.0   \n",
       "2497  2019-08-06 01:41:53  2019-08-06 01:53:50      1571.0      1589.0   \n",
       "2498  2019-08-06 02:03:49  2019-08-06 02:25:31      1591.0      1594.0   \n",
       "2499  2019-08-06 02:40:25  2019-08-06 03:00:28      1569.0      1603.0   \n",
       "\n",
       "            gas  full_power  heat_iter  heating_time  \n",
       "key                                                   \n",
       "1     29.749986    5.826395          5        1583.0  \n",
       "2     12.555561    3.649216          4        1144.0  \n",
       "3     28.554793    2.989534          5        1525.0  \n",
       "4     18.841219    3.814962          4        1093.0  \n",
       "5      5.413692    4.035758          4        1362.0  \n",
       "...         ...         ...        ...           ...  \n",
       "2495   7.125735    3.986869          4        1208.0  \n",
       "2496   9.412616    5.057033          6        1406.0  \n",
       "2497   6.271699    2.885017          3         764.0  \n",
       "2498  14.953657    4.143749          5        1358.0  \n",
       "2499  11.336151    4.953010          4        1366.0  \n",
       "\n",
       "[2472 rows x 8 columns]"
      ]
     },
     "execution_count": 89,
     "metadata": {},
     "output_type": "execute_result"
    }
   ],
   "source": [
    "data_steel = data_steel.join(data_arc_gr, how='inner')\n",
    "data_steel"
   ]
  },
  {
   "cell_type": "markdown",
   "id": "fef1a707",
   "metadata": {},
   "source": [
    "### Обработка данных об объемах подачи сыпучих материалов"
   ]
  },
  {
   "cell_type": "markdown",
   "id": "07eed3b4",
   "metadata": {},
   "source": [
    "В данных об объемах подачи сыпучих материалов много пропусков, которые решено было заменить нулями (то есть материал не подавался). Все номера партий уникальны (для каждой партии одна строка в таблице). Однако есть материалы, которые в технологическом процессе используются очень редко. Сгруппируем материалы, которые используюся менее чем в 5% партий в единую группу - редкие. Суммируем значения объема подачи по редким сыпучим материалам."
   ]
  },
  {
   "cell_type": "code",
   "execution_count": 90,
   "id": "36e9cffd",
   "metadata": {},
   "outputs": [
    {
     "data": {
      "text/html": [
       "<div>\n",
       "<style scoped>\n",
       "    .dataframe tbody tr th:only-of-type {\n",
       "        vertical-align: middle;\n",
       "    }\n",
       "\n",
       "    .dataframe tbody tr th {\n",
       "        vertical-align: top;\n",
       "    }\n",
       "\n",
       "    .dataframe thead th {\n",
       "        text-align: right;\n",
       "    }\n",
       "</style>\n",
       "<table border=\"1\" class=\"dataframe\">\n",
       "  <thead>\n",
       "    <tr style=\"text-align: right;\">\n",
       "      <th></th>\n",
       "      <th>key</th>\n",
       "      <th>Bulk 1</th>\n",
       "      <th>Bulk 2</th>\n",
       "      <th>Bulk 3</th>\n",
       "      <th>Bulk 4</th>\n",
       "      <th>Bulk 5</th>\n",
       "      <th>Bulk 6</th>\n",
       "      <th>Bulk 7</th>\n",
       "      <th>Bulk 8</th>\n",
       "      <th>Bulk 9</th>\n",
       "      <th>Bulk 10</th>\n",
       "      <th>Bulk 11</th>\n",
       "      <th>Bulk 12</th>\n",
       "      <th>Bulk 13</th>\n",
       "      <th>Bulk 14</th>\n",
       "      <th>Bulk 15</th>\n",
       "    </tr>\n",
       "  </thead>\n",
       "  <tbody>\n",
       "    <tr>\n",
       "      <th>0</th>\n",
       "      <td>1</td>\n",
       "      <td>0.0</td>\n",
       "      <td>0.0</td>\n",
       "      <td>0.0</td>\n",
       "      <td>43.0</td>\n",
       "      <td>0.0</td>\n",
       "      <td>0.0</td>\n",
       "      <td>0.0</td>\n",
       "      <td>0.0</td>\n",
       "      <td>0.0</td>\n",
       "      <td>0.0</td>\n",
       "      <td>0.0</td>\n",
       "      <td>206.0</td>\n",
       "      <td>0.0</td>\n",
       "      <td>150.0</td>\n",
       "      <td>154.0</td>\n",
       "    </tr>\n",
       "    <tr>\n",
       "      <th>1</th>\n",
       "      <td>2</td>\n",
       "      <td>0.0</td>\n",
       "      <td>0.0</td>\n",
       "      <td>0.0</td>\n",
       "      <td>73.0</td>\n",
       "      <td>0.0</td>\n",
       "      <td>0.0</td>\n",
       "      <td>0.0</td>\n",
       "      <td>0.0</td>\n",
       "      <td>0.0</td>\n",
       "      <td>0.0</td>\n",
       "      <td>0.0</td>\n",
       "      <td>206.0</td>\n",
       "      <td>0.0</td>\n",
       "      <td>149.0</td>\n",
       "      <td>154.0</td>\n",
       "    </tr>\n",
       "    <tr>\n",
       "      <th>2</th>\n",
       "      <td>3</td>\n",
       "      <td>0.0</td>\n",
       "      <td>0.0</td>\n",
       "      <td>0.0</td>\n",
       "      <td>34.0</td>\n",
       "      <td>0.0</td>\n",
       "      <td>0.0</td>\n",
       "      <td>0.0</td>\n",
       "      <td>0.0</td>\n",
       "      <td>0.0</td>\n",
       "      <td>0.0</td>\n",
       "      <td>0.0</td>\n",
       "      <td>205.0</td>\n",
       "      <td>0.0</td>\n",
       "      <td>152.0</td>\n",
       "      <td>153.0</td>\n",
       "    </tr>\n",
       "    <tr>\n",
       "      <th>3</th>\n",
       "      <td>4</td>\n",
       "      <td>0.0</td>\n",
       "      <td>0.0</td>\n",
       "      <td>0.0</td>\n",
       "      <td>81.0</td>\n",
       "      <td>0.0</td>\n",
       "      <td>0.0</td>\n",
       "      <td>0.0</td>\n",
       "      <td>0.0</td>\n",
       "      <td>0.0</td>\n",
       "      <td>0.0</td>\n",
       "      <td>0.0</td>\n",
       "      <td>207.0</td>\n",
       "      <td>0.0</td>\n",
       "      <td>153.0</td>\n",
       "      <td>154.0</td>\n",
       "    </tr>\n",
       "    <tr>\n",
       "      <th>4</th>\n",
       "      <td>5</td>\n",
       "      <td>0.0</td>\n",
       "      <td>0.0</td>\n",
       "      <td>0.0</td>\n",
       "      <td>78.0</td>\n",
       "      <td>0.0</td>\n",
       "      <td>0.0</td>\n",
       "      <td>0.0</td>\n",
       "      <td>0.0</td>\n",
       "      <td>0.0</td>\n",
       "      <td>0.0</td>\n",
       "      <td>0.0</td>\n",
       "      <td>203.0</td>\n",
       "      <td>0.0</td>\n",
       "      <td>151.0</td>\n",
       "      <td>152.0</td>\n",
       "    </tr>\n",
       "  </tbody>\n",
       "</table>\n",
       "</div>"
      ],
      "text/plain": [
       "   key  Bulk 1  Bulk 2  Bulk 3  Bulk 4  Bulk 5  Bulk 6  Bulk 7  Bulk 8  \\\n",
       "0    1     0.0     0.0     0.0    43.0     0.0     0.0     0.0     0.0   \n",
       "1    2     0.0     0.0     0.0    73.0     0.0     0.0     0.0     0.0   \n",
       "2    3     0.0     0.0     0.0    34.0     0.0     0.0     0.0     0.0   \n",
       "3    4     0.0     0.0     0.0    81.0     0.0     0.0     0.0     0.0   \n",
       "4    5     0.0     0.0     0.0    78.0     0.0     0.0     0.0     0.0   \n",
       "\n",
       "   Bulk 9  Bulk 10  Bulk 11  Bulk 12  Bulk 13  Bulk 14  Bulk 15  \n",
       "0     0.0      0.0      0.0    206.0      0.0    150.0    154.0  \n",
       "1     0.0      0.0      0.0    206.0      0.0    149.0    154.0  \n",
       "2     0.0      0.0      0.0    205.0      0.0    152.0    153.0  \n",
       "3     0.0      0.0      0.0    207.0      0.0    153.0    154.0  \n",
       "4     0.0      0.0      0.0    203.0      0.0    151.0    152.0  "
      ]
     },
     "execution_count": 90,
     "metadata": {},
     "output_type": "execute_result"
    }
   ],
   "source": [
    "data_bulk.head()"
   ]
  },
  {
   "cell_type": "code",
   "execution_count": 91,
   "id": "747a70c4",
   "metadata": {},
   "outputs": [
    {
     "data": {
      "text/plain": [
       "(3129, 16)"
      ]
     },
     "execution_count": 91,
     "metadata": {},
     "output_type": "execute_result"
    }
   ],
   "source": [
    "data_bulk.shape"
   ]
  },
  {
   "cell_type": "code",
   "execution_count": 92,
   "id": "df112022",
   "metadata": {
    "scrolled": true
   },
   "outputs": [
    {
     "data": {
      "text/html": [
       "<div>\n",
       "<style scoped>\n",
       "    .dataframe tbody tr th:only-of-type {\n",
       "        vertical-align: middle;\n",
       "    }\n",
       "\n",
       "    .dataframe tbody tr th {\n",
       "        vertical-align: top;\n",
       "    }\n",
       "\n",
       "    .dataframe thead th {\n",
       "        text-align: right;\n",
       "    }\n",
       "</style>\n",
       "<table border=\"1\" class=\"dataframe\">\n",
       "  <thead>\n",
       "    <tr style=\"text-align: right;\">\n",
       "      <th></th>\n",
       "      <th>Bulk 1</th>\n",
       "      <th>Bulk 3</th>\n",
       "      <th>Bulk 4</th>\n",
       "      <th>Bulk 6</th>\n",
       "      <th>Bulk 10</th>\n",
       "      <th>Bulk 11</th>\n",
       "      <th>Bulk 12</th>\n",
       "      <th>Bulk 14</th>\n",
       "      <th>Bulk 15</th>\n",
       "      <th>rare_bulks</th>\n",
       "    </tr>\n",
       "    <tr>\n",
       "      <th>key</th>\n",
       "      <th></th>\n",
       "      <th></th>\n",
       "      <th></th>\n",
       "      <th></th>\n",
       "      <th></th>\n",
       "      <th></th>\n",
       "      <th></th>\n",
       "      <th></th>\n",
       "      <th></th>\n",
       "      <th></th>\n",
       "    </tr>\n",
       "  </thead>\n",
       "  <tbody>\n",
       "    <tr>\n",
       "      <th>1</th>\n",
       "      <td>0.0</td>\n",
       "      <td>0.0</td>\n",
       "      <td>43.0</td>\n",
       "      <td>0.0</td>\n",
       "      <td>0.0</td>\n",
       "      <td>0.0</td>\n",
       "      <td>206.0</td>\n",
       "      <td>150.0</td>\n",
       "      <td>154.0</td>\n",
       "      <td>0.0</td>\n",
       "    </tr>\n",
       "    <tr>\n",
       "      <th>2</th>\n",
       "      <td>0.0</td>\n",
       "      <td>0.0</td>\n",
       "      <td>73.0</td>\n",
       "      <td>0.0</td>\n",
       "      <td>0.0</td>\n",
       "      <td>0.0</td>\n",
       "      <td>206.0</td>\n",
       "      <td>149.0</td>\n",
       "      <td>154.0</td>\n",
       "      <td>0.0</td>\n",
       "    </tr>\n",
       "    <tr>\n",
       "      <th>3</th>\n",
       "      <td>0.0</td>\n",
       "      <td>0.0</td>\n",
       "      <td>34.0</td>\n",
       "      <td>0.0</td>\n",
       "      <td>0.0</td>\n",
       "      <td>0.0</td>\n",
       "      <td>205.0</td>\n",
       "      <td>152.0</td>\n",
       "      <td>153.0</td>\n",
       "      <td>0.0</td>\n",
       "    </tr>\n",
       "    <tr>\n",
       "      <th>4</th>\n",
       "      <td>0.0</td>\n",
       "      <td>0.0</td>\n",
       "      <td>81.0</td>\n",
       "      <td>0.0</td>\n",
       "      <td>0.0</td>\n",
       "      <td>0.0</td>\n",
       "      <td>207.0</td>\n",
       "      <td>153.0</td>\n",
       "      <td>154.0</td>\n",
       "      <td>0.0</td>\n",
       "    </tr>\n",
       "    <tr>\n",
       "      <th>5</th>\n",
       "      <td>0.0</td>\n",
       "      <td>0.0</td>\n",
       "      <td>78.0</td>\n",
       "      <td>0.0</td>\n",
       "      <td>0.0</td>\n",
       "      <td>0.0</td>\n",
       "      <td>203.0</td>\n",
       "      <td>151.0</td>\n",
       "      <td>152.0</td>\n",
       "      <td>0.0</td>\n",
       "    </tr>\n",
       "    <tr>\n",
       "      <th>...</th>\n",
       "      <td>...</td>\n",
       "      <td>...</td>\n",
       "      <td>...</td>\n",
       "      <td>...</td>\n",
       "      <td>...</td>\n",
       "      <td>...</td>\n",
       "      <td>...</td>\n",
       "      <td>...</td>\n",
       "      <td>...</td>\n",
       "      <td>...</td>\n",
       "    </tr>\n",
       "    <tr>\n",
       "      <th>3237</th>\n",
       "      <td>0.0</td>\n",
       "      <td>170.0</td>\n",
       "      <td>0.0</td>\n",
       "      <td>0.0</td>\n",
       "      <td>0.0</td>\n",
       "      <td>0.0</td>\n",
       "      <td>252.0</td>\n",
       "      <td>130.0</td>\n",
       "      <td>206.0</td>\n",
       "      <td>0.0</td>\n",
       "    </tr>\n",
       "    <tr>\n",
       "      <th>3238</th>\n",
       "      <td>0.0</td>\n",
       "      <td>126.0</td>\n",
       "      <td>0.0</td>\n",
       "      <td>0.0</td>\n",
       "      <td>0.0</td>\n",
       "      <td>0.0</td>\n",
       "      <td>254.0</td>\n",
       "      <td>108.0</td>\n",
       "      <td>106.0</td>\n",
       "      <td>0.0</td>\n",
       "    </tr>\n",
       "    <tr>\n",
       "      <th>3239</th>\n",
       "      <td>0.0</td>\n",
       "      <td>0.0</td>\n",
       "      <td>0.0</td>\n",
       "      <td>114.0</td>\n",
       "      <td>0.0</td>\n",
       "      <td>0.0</td>\n",
       "      <td>158.0</td>\n",
       "      <td>270.0</td>\n",
       "      <td>88.0</td>\n",
       "      <td>0.0</td>\n",
       "    </tr>\n",
       "    <tr>\n",
       "      <th>3240</th>\n",
       "      <td>0.0</td>\n",
       "      <td>0.0</td>\n",
       "      <td>0.0</td>\n",
       "      <td>26.0</td>\n",
       "      <td>0.0</td>\n",
       "      <td>0.0</td>\n",
       "      <td>0.0</td>\n",
       "      <td>192.0</td>\n",
       "      <td>54.0</td>\n",
       "      <td>0.0</td>\n",
       "    </tr>\n",
       "    <tr>\n",
       "      <th>3241</th>\n",
       "      <td>0.0</td>\n",
       "      <td>0.0</td>\n",
       "      <td>0.0</td>\n",
       "      <td>0.0</td>\n",
       "      <td>0.0</td>\n",
       "      <td>0.0</td>\n",
       "      <td>0.0</td>\n",
       "      <td>180.0</td>\n",
       "      <td>52.0</td>\n",
       "      <td>0.0</td>\n",
       "    </tr>\n",
       "  </tbody>\n",
       "</table>\n",
       "<p>3129 rows × 10 columns</p>\n",
       "</div>"
      ],
      "text/plain": [
       "      Bulk 1  Bulk 3  Bulk 4  Bulk 6  Bulk 10  Bulk 11  Bulk 12  Bulk 14  \\\n",
       "key                                                                        \n",
       "1        0.0     0.0    43.0     0.0      0.0      0.0    206.0    150.0   \n",
       "2        0.0     0.0    73.0     0.0      0.0      0.0    206.0    149.0   \n",
       "3        0.0     0.0    34.0     0.0      0.0      0.0    205.0    152.0   \n",
       "4        0.0     0.0    81.0     0.0      0.0      0.0    207.0    153.0   \n",
       "5        0.0     0.0    78.0     0.0      0.0      0.0    203.0    151.0   \n",
       "...      ...     ...     ...     ...      ...      ...      ...      ...   \n",
       "3237     0.0   170.0     0.0     0.0      0.0      0.0    252.0    130.0   \n",
       "3238     0.0   126.0     0.0     0.0      0.0      0.0    254.0    108.0   \n",
       "3239     0.0     0.0     0.0   114.0      0.0      0.0    158.0    270.0   \n",
       "3240     0.0     0.0     0.0    26.0      0.0      0.0      0.0    192.0   \n",
       "3241     0.0     0.0     0.0     0.0      0.0      0.0      0.0    180.0   \n",
       "\n",
       "      Bulk 15  rare_bulks  \n",
       "key                        \n",
       "1       154.0         0.0  \n",
       "2       154.0         0.0  \n",
       "3       153.0         0.0  \n",
       "4       154.0         0.0  \n",
       "5       152.0         0.0  \n",
       "...       ...         ...  \n",
       "3237    206.0         0.0  \n",
       "3238    106.0         0.0  \n",
       "3239     88.0         0.0  \n",
       "3240     54.0         0.0  \n",
       "3241     52.0         0.0  \n",
       "\n",
       "[3129 rows x 10 columns]"
      ]
     },
     "execution_count": 92,
     "metadata": {},
     "output_type": "execute_result"
    }
   ],
   "source": [
    "data_bulk = data_bulk.set_index('key')\n",
    "rare_bulks = ['Bulk 8', 'Bulk 13', 'Bulk 9', 'Bulk 2', 'Bulk 7', 'Bulk 5'] \n",
    "\n",
    "data_bulk['rare_bulks'] = data_bulk[rare_bulks].sum(axis=1)\n",
    "data_bulk = data_bulk.drop(rare_bulks, axis=1)\n",
    "data_bulk"
   ]
  },
  {
   "cell_type": "code",
   "execution_count": 93,
   "id": "4e92eabb",
   "metadata": {},
   "outputs": [
    {
     "data": {
      "text/plain": [
       "(3129, 10)"
      ]
     },
     "execution_count": 93,
     "metadata": {},
     "output_type": "execute_result"
    }
   ],
   "source": [
    "data_bulk.shape"
   ]
  },
  {
   "cell_type": "markdown",
   "id": "57eae3bb",
   "metadata": {},
   "source": [
    "Добавим получившиеся признаки к датасету с целевым признаком, оставляя только те партии, по которым есть вся информация по каждому из признаков."
   ]
  },
  {
   "cell_type": "code",
   "execution_count": 94,
   "id": "4cde1da7",
   "metadata": {},
   "outputs": [
    {
     "data": {
      "text/html": [
       "<div>\n",
       "<style scoped>\n",
       "    .dataframe tbody tr th:only-of-type {\n",
       "        vertical-align: middle;\n",
       "    }\n",
       "\n",
       "    .dataframe tbody tr th {\n",
       "        vertical-align: top;\n",
       "    }\n",
       "\n",
       "    .dataframe thead th {\n",
       "        text-align: right;\n",
       "    }\n",
       "</style>\n",
       "<table border=\"1\" class=\"dataframe\">\n",
       "  <thead>\n",
       "    <tr style=\"text-align: right;\">\n",
       "      <th></th>\n",
       "      <th>min_time</th>\n",
       "      <th>max_time</th>\n",
       "      <th>start_temp</th>\n",
       "      <th>final_temp</th>\n",
       "      <th>gas</th>\n",
       "      <th>full_power</th>\n",
       "      <th>heat_iter</th>\n",
       "      <th>heating_time</th>\n",
       "      <th>Bulk 1</th>\n",
       "      <th>Bulk 3</th>\n",
       "      <th>Bulk 4</th>\n",
       "      <th>Bulk 6</th>\n",
       "      <th>Bulk 10</th>\n",
       "      <th>Bulk 11</th>\n",
       "      <th>Bulk 12</th>\n",
       "      <th>Bulk 14</th>\n",
       "      <th>Bulk 15</th>\n",
       "      <th>rare_bulks</th>\n",
       "    </tr>\n",
       "    <tr>\n",
       "      <th>key</th>\n",
       "      <th></th>\n",
       "      <th></th>\n",
       "      <th></th>\n",
       "      <th></th>\n",
       "      <th></th>\n",
       "      <th></th>\n",
       "      <th></th>\n",
       "      <th></th>\n",
       "      <th></th>\n",
       "      <th></th>\n",
       "      <th></th>\n",
       "      <th></th>\n",
       "      <th></th>\n",
       "      <th></th>\n",
       "      <th></th>\n",
       "      <th></th>\n",
       "      <th></th>\n",
       "      <th></th>\n",
       "    </tr>\n",
       "  </thead>\n",
       "  <tbody>\n",
       "    <tr>\n",
       "      <th>1</th>\n",
       "      <td>2019-05-03 11:16:18</td>\n",
       "      <td>2019-05-03 11:30:39</td>\n",
       "      <td>1571.0</td>\n",
       "      <td>1613.0</td>\n",
       "      <td>29.749986</td>\n",
       "      <td>5.826395</td>\n",
       "      <td>5</td>\n",
       "      <td>1583.0</td>\n",
       "      <td>0.0</td>\n",
       "      <td>0.0</td>\n",
       "      <td>43.0</td>\n",
       "      <td>0.0</td>\n",
       "      <td>0.0</td>\n",
       "      <td>0.0</td>\n",
       "      <td>206.0</td>\n",
       "      <td>150.0</td>\n",
       "      <td>154.0</td>\n",
       "      <td>0.0</td>\n",
       "    </tr>\n",
       "    <tr>\n",
       "      <th>2</th>\n",
       "      <td>2019-05-03 11:37:27</td>\n",
       "      <td>2019-05-03 11:59:12</td>\n",
       "      <td>1581.0</td>\n",
       "      <td>1602.0</td>\n",
       "      <td>12.555561</td>\n",
       "      <td>3.649216</td>\n",
       "      <td>4</td>\n",
       "      <td>1144.0</td>\n",
       "      <td>0.0</td>\n",
       "      <td>0.0</td>\n",
       "      <td>73.0</td>\n",
       "      <td>0.0</td>\n",
       "      <td>0.0</td>\n",
       "      <td>0.0</td>\n",
       "      <td>206.0</td>\n",
       "      <td>149.0</td>\n",
       "      <td>154.0</td>\n",
       "      <td>0.0</td>\n",
       "    </tr>\n",
       "    <tr>\n",
       "      <th>3</th>\n",
       "      <td>2019-05-03 12:13:17</td>\n",
       "      <td>2019-05-03 12:34:57</td>\n",
       "      <td>1596.0</td>\n",
       "      <td>1599.0</td>\n",
       "      <td>28.554793</td>\n",
       "      <td>2.989534</td>\n",
       "      <td>5</td>\n",
       "      <td>1525.0</td>\n",
       "      <td>0.0</td>\n",
       "      <td>0.0</td>\n",
       "      <td>34.0</td>\n",
       "      <td>0.0</td>\n",
       "      <td>0.0</td>\n",
       "      <td>0.0</td>\n",
       "      <td>205.0</td>\n",
       "      <td>152.0</td>\n",
       "      <td>153.0</td>\n",
       "      <td>0.0</td>\n",
       "    </tr>\n",
       "    <tr>\n",
       "      <th>4</th>\n",
       "      <td>2019-05-03 12:52:57</td>\n",
       "      <td>2019-05-03 12:59:25</td>\n",
       "      <td>1601.0</td>\n",
       "      <td>1625.0</td>\n",
       "      <td>18.841219</td>\n",
       "      <td>3.814962</td>\n",
       "      <td>4</td>\n",
       "      <td>1093.0</td>\n",
       "      <td>0.0</td>\n",
       "      <td>0.0</td>\n",
       "      <td>81.0</td>\n",
       "      <td>0.0</td>\n",
       "      <td>0.0</td>\n",
       "      <td>0.0</td>\n",
       "      <td>207.0</td>\n",
       "      <td>153.0</td>\n",
       "      <td>154.0</td>\n",
       "      <td>0.0</td>\n",
       "    </tr>\n",
       "    <tr>\n",
       "      <th>5</th>\n",
       "      <td>2019-05-03 13:23:19</td>\n",
       "      <td>2019-05-03 13:36:01</td>\n",
       "      <td>1576.0</td>\n",
       "      <td>1602.0</td>\n",
       "      <td>5.413692</td>\n",
       "      <td>4.035758</td>\n",
       "      <td>4</td>\n",
       "      <td>1362.0</td>\n",
       "      <td>0.0</td>\n",
       "      <td>0.0</td>\n",
       "      <td>78.0</td>\n",
       "      <td>0.0</td>\n",
       "      <td>0.0</td>\n",
       "      <td>0.0</td>\n",
       "      <td>203.0</td>\n",
       "      <td>151.0</td>\n",
       "      <td>152.0</td>\n",
       "      <td>0.0</td>\n",
       "    </tr>\n",
       "  </tbody>\n",
       "</table>\n",
       "</div>"
      ],
      "text/plain": [
       "                min_time             max_time  start_temp  final_temp  \\\n",
       "key                                                                     \n",
       "1    2019-05-03 11:16:18  2019-05-03 11:30:39      1571.0      1613.0   \n",
       "2    2019-05-03 11:37:27  2019-05-03 11:59:12      1581.0      1602.0   \n",
       "3    2019-05-03 12:13:17  2019-05-03 12:34:57      1596.0      1599.0   \n",
       "4    2019-05-03 12:52:57  2019-05-03 12:59:25      1601.0      1625.0   \n",
       "5    2019-05-03 13:23:19  2019-05-03 13:36:01      1576.0      1602.0   \n",
       "\n",
       "           gas  full_power  heat_iter  heating_time  Bulk 1  Bulk 3  Bulk 4  \\\n",
       "key                                                                           \n",
       "1    29.749986    5.826395          5        1583.0     0.0     0.0    43.0   \n",
       "2    12.555561    3.649216          4        1144.0     0.0     0.0    73.0   \n",
       "3    28.554793    2.989534          5        1525.0     0.0     0.0    34.0   \n",
       "4    18.841219    3.814962          4        1093.0     0.0     0.0    81.0   \n",
       "5     5.413692    4.035758          4        1362.0     0.0     0.0    78.0   \n",
       "\n",
       "     Bulk 6  Bulk 10  Bulk 11  Bulk 12  Bulk 14  Bulk 15  rare_bulks  \n",
       "key                                                                   \n",
       "1       0.0      0.0      0.0    206.0    150.0    154.0         0.0  \n",
       "2       0.0      0.0      0.0    206.0    149.0    154.0         0.0  \n",
       "3       0.0      0.0      0.0    205.0    152.0    153.0         0.0  \n",
       "4       0.0      0.0      0.0    207.0    153.0    154.0         0.0  \n",
       "5       0.0      0.0      0.0    203.0    151.0    152.0         0.0  "
      ]
     },
     "execution_count": 94,
     "metadata": {},
     "output_type": "execute_result"
    }
   ],
   "source": [
    "data_steel = data_steel.join(data_bulk, how='inner')\n",
    "data_steel.head()"
   ]
  },
  {
   "cell_type": "markdown",
   "id": "7200b476",
   "metadata": {},
   "source": [
    "### Обработка данных об объемах подачи проволочных материалов"
   ]
  },
  {
   "cell_type": "markdown",
   "id": "2a996f2f",
   "metadata": {},
   "source": [
    "Провторим тот же алгоритм обработки данных, что использовали для сыпучих материалов."
   ]
  },
  {
   "cell_type": "code",
   "execution_count": 95,
   "id": "ba2b90c5",
   "metadata": {},
   "outputs": [
    {
     "data": {
      "text/html": [
       "<div>\n",
       "<style scoped>\n",
       "    .dataframe tbody tr th:only-of-type {\n",
       "        vertical-align: middle;\n",
       "    }\n",
       "\n",
       "    .dataframe tbody tr th {\n",
       "        vertical-align: top;\n",
       "    }\n",
       "\n",
       "    .dataframe thead th {\n",
       "        text-align: right;\n",
       "    }\n",
       "</style>\n",
       "<table border=\"1\" class=\"dataframe\">\n",
       "  <thead>\n",
       "    <tr style=\"text-align: right;\">\n",
       "      <th></th>\n",
       "      <th>key</th>\n",
       "      <th>Wire 1</th>\n",
       "      <th>Wire 2</th>\n",
       "      <th>Wire 3</th>\n",
       "      <th>Wire 4</th>\n",
       "      <th>Wire 5</th>\n",
       "      <th>Wire 6</th>\n",
       "      <th>Wire 7</th>\n",
       "      <th>Wire 8</th>\n",
       "      <th>Wire 9</th>\n",
       "    </tr>\n",
       "  </thead>\n",
       "  <tbody>\n",
       "    <tr>\n",
       "      <th>0</th>\n",
       "      <td>1</td>\n",
       "      <td>60.059998</td>\n",
       "      <td>0.00000</td>\n",
       "      <td>0.0</td>\n",
       "      <td>0.0</td>\n",
       "      <td>0.0</td>\n",
       "      <td>0.0</td>\n",
       "      <td>0.0</td>\n",
       "      <td>0.0</td>\n",
       "      <td>0.0</td>\n",
       "    </tr>\n",
       "    <tr>\n",
       "      <th>1</th>\n",
       "      <td>2</td>\n",
       "      <td>96.052315</td>\n",
       "      <td>0.00000</td>\n",
       "      <td>0.0</td>\n",
       "      <td>0.0</td>\n",
       "      <td>0.0</td>\n",
       "      <td>0.0</td>\n",
       "      <td>0.0</td>\n",
       "      <td>0.0</td>\n",
       "      <td>0.0</td>\n",
       "    </tr>\n",
       "    <tr>\n",
       "      <th>2</th>\n",
       "      <td>3</td>\n",
       "      <td>91.160157</td>\n",
       "      <td>0.00000</td>\n",
       "      <td>0.0</td>\n",
       "      <td>0.0</td>\n",
       "      <td>0.0</td>\n",
       "      <td>0.0</td>\n",
       "      <td>0.0</td>\n",
       "      <td>0.0</td>\n",
       "      <td>0.0</td>\n",
       "    </tr>\n",
       "    <tr>\n",
       "      <th>3</th>\n",
       "      <td>4</td>\n",
       "      <td>89.063515</td>\n",
       "      <td>0.00000</td>\n",
       "      <td>0.0</td>\n",
       "      <td>0.0</td>\n",
       "      <td>0.0</td>\n",
       "      <td>0.0</td>\n",
       "      <td>0.0</td>\n",
       "      <td>0.0</td>\n",
       "      <td>0.0</td>\n",
       "    </tr>\n",
       "    <tr>\n",
       "      <th>4</th>\n",
       "      <td>5</td>\n",
       "      <td>89.238236</td>\n",
       "      <td>9.11456</td>\n",
       "      <td>0.0</td>\n",
       "      <td>0.0</td>\n",
       "      <td>0.0</td>\n",
       "      <td>0.0</td>\n",
       "      <td>0.0</td>\n",
       "      <td>0.0</td>\n",
       "      <td>0.0</td>\n",
       "    </tr>\n",
       "  </tbody>\n",
       "</table>\n",
       "</div>"
      ],
      "text/plain": [
       "   key     Wire 1   Wire 2  Wire 3  Wire 4  Wire 5  Wire 6  Wire 7  Wire 8  \\\n",
       "0    1  60.059998  0.00000     0.0     0.0     0.0     0.0     0.0     0.0   \n",
       "1    2  96.052315  0.00000     0.0     0.0     0.0     0.0     0.0     0.0   \n",
       "2    3  91.160157  0.00000     0.0     0.0     0.0     0.0     0.0     0.0   \n",
       "3    4  89.063515  0.00000     0.0     0.0     0.0     0.0     0.0     0.0   \n",
       "4    5  89.238236  9.11456     0.0     0.0     0.0     0.0     0.0     0.0   \n",
       "\n",
       "   Wire 9  \n",
       "0     0.0  \n",
       "1     0.0  \n",
       "2     0.0  \n",
       "3     0.0  \n",
       "4     0.0  "
      ]
     },
     "execution_count": 95,
     "metadata": {},
     "output_type": "execute_result"
    }
   ],
   "source": [
    "data_wire.head()"
   ]
  },
  {
   "cell_type": "code",
   "execution_count": 96,
   "id": "14760db3",
   "metadata": {},
   "outputs": [
    {
     "data": {
      "text/plain": [
       "(3081, 10)"
      ]
     },
     "execution_count": 96,
     "metadata": {},
     "output_type": "execute_result"
    }
   ],
   "source": [
    "data_wire.shape"
   ]
  },
  {
   "cell_type": "code",
   "execution_count": 97,
   "id": "fefeb520",
   "metadata": {},
   "outputs": [
    {
     "data": {
      "text/plain": [
       "3081"
      ]
     },
     "execution_count": 97,
     "metadata": {},
     "output_type": "execute_result"
    }
   ],
   "source": [
    "len(data_wire['key'].unique())"
   ]
  },
  {
   "cell_type": "markdown",
   "id": "99fa1bcf",
   "metadata": {},
   "source": [
    "Сгруппируем редкие проволочные материалы в одну группу. Добавим получившиеся признаки к итоговой таблице."
   ]
  },
  {
   "cell_type": "code",
   "execution_count": 98,
   "id": "8088169f",
   "metadata": {},
   "outputs": [
    {
     "data": {
      "text/html": [
       "<div>\n",
       "<style scoped>\n",
       "    .dataframe tbody tr th:only-of-type {\n",
       "        vertical-align: middle;\n",
       "    }\n",
       "\n",
       "    .dataframe tbody tr th {\n",
       "        vertical-align: top;\n",
       "    }\n",
       "\n",
       "    .dataframe thead th {\n",
       "        text-align: right;\n",
       "    }\n",
       "</style>\n",
       "<table border=\"1\" class=\"dataframe\">\n",
       "  <thead>\n",
       "    <tr style=\"text-align: right;\">\n",
       "      <th></th>\n",
       "      <th>Wire 1</th>\n",
       "      <th>Wire 2</th>\n",
       "      <th>rare_wires</th>\n",
       "    </tr>\n",
       "    <tr>\n",
       "      <th>key</th>\n",
       "      <th></th>\n",
       "      <th></th>\n",
       "      <th></th>\n",
       "    </tr>\n",
       "  </thead>\n",
       "  <tbody>\n",
       "    <tr>\n",
       "      <th>1</th>\n",
       "      <td>60.059998</td>\n",
       "      <td>0.00000</td>\n",
       "      <td>0.0</td>\n",
       "    </tr>\n",
       "    <tr>\n",
       "      <th>2</th>\n",
       "      <td>96.052315</td>\n",
       "      <td>0.00000</td>\n",
       "      <td>0.0</td>\n",
       "    </tr>\n",
       "    <tr>\n",
       "      <th>3</th>\n",
       "      <td>91.160157</td>\n",
       "      <td>0.00000</td>\n",
       "      <td>0.0</td>\n",
       "    </tr>\n",
       "    <tr>\n",
       "      <th>4</th>\n",
       "      <td>89.063515</td>\n",
       "      <td>0.00000</td>\n",
       "      <td>0.0</td>\n",
       "    </tr>\n",
       "    <tr>\n",
       "      <th>5</th>\n",
       "      <td>89.238236</td>\n",
       "      <td>9.11456</td>\n",
       "      <td>0.0</td>\n",
       "    </tr>\n",
       "    <tr>\n",
       "      <th>...</th>\n",
       "      <td>...</td>\n",
       "      <td>...</td>\n",
       "      <td>...</td>\n",
       "    </tr>\n",
       "    <tr>\n",
       "      <th>3237</th>\n",
       "      <td>38.088959</td>\n",
       "      <td>0.00000</td>\n",
       "      <td>0.0</td>\n",
       "    </tr>\n",
       "    <tr>\n",
       "      <th>3238</th>\n",
       "      <td>56.128799</td>\n",
       "      <td>0.00000</td>\n",
       "      <td>0.0</td>\n",
       "    </tr>\n",
       "    <tr>\n",
       "      <th>3239</th>\n",
       "      <td>143.357761</td>\n",
       "      <td>0.00000</td>\n",
       "      <td>0.0</td>\n",
       "    </tr>\n",
       "    <tr>\n",
       "      <th>3240</th>\n",
       "      <td>34.070400</td>\n",
       "      <td>0.00000</td>\n",
       "      <td>0.0</td>\n",
       "    </tr>\n",
       "    <tr>\n",
       "      <th>3241</th>\n",
       "      <td>63.117595</td>\n",
       "      <td>0.00000</td>\n",
       "      <td>0.0</td>\n",
       "    </tr>\n",
       "  </tbody>\n",
       "</table>\n",
       "<p>3081 rows × 3 columns</p>\n",
       "</div>"
      ],
      "text/plain": [
       "          Wire 1   Wire 2  rare_wires\n",
       "key                                  \n",
       "1      60.059998  0.00000         0.0\n",
       "2      96.052315  0.00000         0.0\n",
       "3      91.160157  0.00000         0.0\n",
       "4      89.063515  0.00000         0.0\n",
       "5      89.238236  9.11456         0.0\n",
       "...          ...      ...         ...\n",
       "3237   38.088959  0.00000         0.0\n",
       "3238   56.128799  0.00000         0.0\n",
       "3239  143.357761  0.00000         0.0\n",
       "3240   34.070400  0.00000         0.0\n",
       "3241   63.117595  0.00000         0.0\n",
       "\n",
       "[3081 rows x 3 columns]"
      ]
     },
     "execution_count": 98,
     "metadata": {},
     "output_type": "execute_result"
    }
   ],
   "source": [
    "rare_wires = ['Wire 3', 'Wire 4', 'Wire 5', 'Wire 6', 'Wire 7', 'Wire 8', 'Wire 9' ]\n",
    "data_wire = data_wire.set_index('key')\n",
    "\n",
    "data_wire['rare_wires'] = data_wire[rare_wires].sum(axis=1)\n",
    "data_wire = data_wire.drop(rare_wires, axis=1)\n",
    "data_wire"
   ]
  },
  {
   "cell_type": "code",
   "execution_count": 99,
   "id": "db1fb4da",
   "metadata": {},
   "outputs": [
    {
     "data": {
      "text/html": [
       "<div>\n",
       "<style scoped>\n",
       "    .dataframe tbody tr th:only-of-type {\n",
       "        vertical-align: middle;\n",
       "    }\n",
       "\n",
       "    .dataframe tbody tr th {\n",
       "        vertical-align: top;\n",
       "    }\n",
       "\n",
       "    .dataframe thead th {\n",
       "        text-align: right;\n",
       "    }\n",
       "</style>\n",
       "<table border=\"1\" class=\"dataframe\">\n",
       "  <thead>\n",
       "    <tr style=\"text-align: right;\">\n",
       "      <th></th>\n",
       "      <th>min_time</th>\n",
       "      <th>max_time</th>\n",
       "      <th>start_temp</th>\n",
       "      <th>final_temp</th>\n",
       "      <th>gas</th>\n",
       "      <th>full_power</th>\n",
       "      <th>heat_iter</th>\n",
       "      <th>heating_time</th>\n",
       "      <th>Bulk 1</th>\n",
       "      <th>Bulk 3</th>\n",
       "      <th>...</th>\n",
       "      <th>Bulk 6</th>\n",
       "      <th>Bulk 10</th>\n",
       "      <th>Bulk 11</th>\n",
       "      <th>Bulk 12</th>\n",
       "      <th>Bulk 14</th>\n",
       "      <th>Bulk 15</th>\n",
       "      <th>rare_bulks</th>\n",
       "      <th>Wire 1</th>\n",
       "      <th>Wire 2</th>\n",
       "      <th>rare_wires</th>\n",
       "    </tr>\n",
       "    <tr>\n",
       "      <th>key</th>\n",
       "      <th></th>\n",
       "      <th></th>\n",
       "      <th></th>\n",
       "      <th></th>\n",
       "      <th></th>\n",
       "      <th></th>\n",
       "      <th></th>\n",
       "      <th></th>\n",
       "      <th></th>\n",
       "      <th></th>\n",
       "      <th></th>\n",
       "      <th></th>\n",
       "      <th></th>\n",
       "      <th></th>\n",
       "      <th></th>\n",
       "      <th></th>\n",
       "      <th></th>\n",
       "      <th></th>\n",
       "      <th></th>\n",
       "      <th></th>\n",
       "      <th></th>\n",
       "    </tr>\n",
       "  </thead>\n",
       "  <tbody>\n",
       "    <tr>\n",
       "      <th>1</th>\n",
       "      <td>2019-05-03 11:16:18</td>\n",
       "      <td>2019-05-03 11:30:39</td>\n",
       "      <td>1571.0</td>\n",
       "      <td>1613.0</td>\n",
       "      <td>29.749986</td>\n",
       "      <td>5.826395</td>\n",
       "      <td>5</td>\n",
       "      <td>1583.0</td>\n",
       "      <td>0.0</td>\n",
       "      <td>0.0</td>\n",
       "      <td>...</td>\n",
       "      <td>0.0</td>\n",
       "      <td>0.0</td>\n",
       "      <td>0.0</td>\n",
       "      <td>206.0</td>\n",
       "      <td>150.0</td>\n",
       "      <td>154.0</td>\n",
       "      <td>0.0</td>\n",
       "      <td>60.059998</td>\n",
       "      <td>0.00000</td>\n",
       "      <td>0.0</td>\n",
       "    </tr>\n",
       "    <tr>\n",
       "      <th>2</th>\n",
       "      <td>2019-05-03 11:37:27</td>\n",
       "      <td>2019-05-03 11:59:12</td>\n",
       "      <td>1581.0</td>\n",
       "      <td>1602.0</td>\n",
       "      <td>12.555561</td>\n",
       "      <td>3.649216</td>\n",
       "      <td>4</td>\n",
       "      <td>1144.0</td>\n",
       "      <td>0.0</td>\n",
       "      <td>0.0</td>\n",
       "      <td>...</td>\n",
       "      <td>0.0</td>\n",
       "      <td>0.0</td>\n",
       "      <td>0.0</td>\n",
       "      <td>206.0</td>\n",
       "      <td>149.0</td>\n",
       "      <td>154.0</td>\n",
       "      <td>0.0</td>\n",
       "      <td>96.052315</td>\n",
       "      <td>0.00000</td>\n",
       "      <td>0.0</td>\n",
       "    </tr>\n",
       "    <tr>\n",
       "      <th>3</th>\n",
       "      <td>2019-05-03 12:13:17</td>\n",
       "      <td>2019-05-03 12:34:57</td>\n",
       "      <td>1596.0</td>\n",
       "      <td>1599.0</td>\n",
       "      <td>28.554793</td>\n",
       "      <td>2.989534</td>\n",
       "      <td>5</td>\n",
       "      <td>1525.0</td>\n",
       "      <td>0.0</td>\n",
       "      <td>0.0</td>\n",
       "      <td>...</td>\n",
       "      <td>0.0</td>\n",
       "      <td>0.0</td>\n",
       "      <td>0.0</td>\n",
       "      <td>205.0</td>\n",
       "      <td>152.0</td>\n",
       "      <td>153.0</td>\n",
       "      <td>0.0</td>\n",
       "      <td>91.160157</td>\n",
       "      <td>0.00000</td>\n",
       "      <td>0.0</td>\n",
       "    </tr>\n",
       "    <tr>\n",
       "      <th>4</th>\n",
       "      <td>2019-05-03 12:52:57</td>\n",
       "      <td>2019-05-03 12:59:25</td>\n",
       "      <td>1601.0</td>\n",
       "      <td>1625.0</td>\n",
       "      <td>18.841219</td>\n",
       "      <td>3.814962</td>\n",
       "      <td>4</td>\n",
       "      <td>1093.0</td>\n",
       "      <td>0.0</td>\n",
       "      <td>0.0</td>\n",
       "      <td>...</td>\n",
       "      <td>0.0</td>\n",
       "      <td>0.0</td>\n",
       "      <td>0.0</td>\n",
       "      <td>207.0</td>\n",
       "      <td>153.0</td>\n",
       "      <td>154.0</td>\n",
       "      <td>0.0</td>\n",
       "      <td>89.063515</td>\n",
       "      <td>0.00000</td>\n",
       "      <td>0.0</td>\n",
       "    </tr>\n",
       "    <tr>\n",
       "      <th>5</th>\n",
       "      <td>2019-05-03 13:23:19</td>\n",
       "      <td>2019-05-03 13:36:01</td>\n",
       "      <td>1576.0</td>\n",
       "      <td>1602.0</td>\n",
       "      <td>5.413692</td>\n",
       "      <td>4.035758</td>\n",
       "      <td>4</td>\n",
       "      <td>1362.0</td>\n",
       "      <td>0.0</td>\n",
       "      <td>0.0</td>\n",
       "      <td>...</td>\n",
       "      <td>0.0</td>\n",
       "      <td>0.0</td>\n",
       "      <td>0.0</td>\n",
       "      <td>203.0</td>\n",
       "      <td>151.0</td>\n",
       "      <td>152.0</td>\n",
       "      <td>0.0</td>\n",
       "      <td>89.238236</td>\n",
       "      <td>9.11456</td>\n",
       "      <td>0.0</td>\n",
       "    </tr>\n",
       "    <tr>\n",
       "      <th>...</th>\n",
       "      <td>...</td>\n",
       "      <td>...</td>\n",
       "      <td>...</td>\n",
       "      <td>...</td>\n",
       "      <td>...</td>\n",
       "      <td>...</td>\n",
       "      <td>...</td>\n",
       "      <td>...</td>\n",
       "      <td>...</td>\n",
       "      <td>...</td>\n",
       "      <td>...</td>\n",
       "      <td>...</td>\n",
       "      <td>...</td>\n",
       "      <td>...</td>\n",
       "      <td>...</td>\n",
       "      <td>...</td>\n",
       "      <td>...</td>\n",
       "      <td>...</td>\n",
       "      <td>...</td>\n",
       "      <td>...</td>\n",
       "      <td>...</td>\n",
       "    </tr>\n",
       "    <tr>\n",
       "      <th>2495</th>\n",
       "      <td>2019-08-06 00:35:45</td>\n",
       "      <td>2019-08-06 00:54:42</td>\n",
       "      <td>1570.0</td>\n",
       "      <td>1591.0</td>\n",
       "      <td>7.125735</td>\n",
       "      <td>3.986869</td>\n",
       "      <td>4</td>\n",
       "      <td>1208.0</td>\n",
       "      <td>0.0</td>\n",
       "      <td>21.0</td>\n",
       "      <td>...</td>\n",
       "      <td>0.0</td>\n",
       "      <td>90.0</td>\n",
       "      <td>0.0</td>\n",
       "      <td>256.0</td>\n",
       "      <td>129.0</td>\n",
       "      <td>223.0</td>\n",
       "      <td>0.0</td>\n",
       "      <td>89.150879</td>\n",
       "      <td>0.00000</td>\n",
       "      <td>0.0</td>\n",
       "    </tr>\n",
       "    <tr>\n",
       "      <th>2496</th>\n",
       "      <td>2019-08-06 01:02:54</td>\n",
       "      <td>2019-08-06 01:29:52</td>\n",
       "      <td>1554.0</td>\n",
       "      <td>1591.0</td>\n",
       "      <td>9.412616</td>\n",
       "      <td>5.057033</td>\n",
       "      <td>6</td>\n",
       "      <td>1406.0</td>\n",
       "      <td>0.0</td>\n",
       "      <td>0.0</td>\n",
       "      <td>...</td>\n",
       "      <td>0.0</td>\n",
       "      <td>122.0</td>\n",
       "      <td>0.0</td>\n",
       "      <td>256.0</td>\n",
       "      <td>129.0</td>\n",
       "      <td>226.0</td>\n",
       "      <td>0.0</td>\n",
       "      <td>114.179527</td>\n",
       "      <td>0.00000</td>\n",
       "      <td>0.0</td>\n",
       "    </tr>\n",
       "    <tr>\n",
       "      <th>2497</th>\n",
       "      <td>2019-08-06 01:41:53</td>\n",
       "      <td>2019-08-06 01:53:50</td>\n",
       "      <td>1571.0</td>\n",
       "      <td>1589.0</td>\n",
       "      <td>6.271699</td>\n",
       "      <td>2.885017</td>\n",
       "      <td>3</td>\n",
       "      <td>764.0</td>\n",
       "      <td>0.0</td>\n",
       "      <td>0.0</td>\n",
       "      <td>...</td>\n",
       "      <td>0.0</td>\n",
       "      <td>0.0</td>\n",
       "      <td>0.0</td>\n",
       "      <td>230.0</td>\n",
       "      <td>124.0</td>\n",
       "      <td>226.0</td>\n",
       "      <td>0.0</td>\n",
       "      <td>94.086723</td>\n",
       "      <td>9.04800</td>\n",
       "      <td>0.0</td>\n",
       "    </tr>\n",
       "    <tr>\n",
       "      <th>2498</th>\n",
       "      <td>2019-08-06 02:03:49</td>\n",
       "      <td>2019-08-06 02:25:31</td>\n",
       "      <td>1591.0</td>\n",
       "      <td>1594.0</td>\n",
       "      <td>14.953657</td>\n",
       "      <td>4.143749</td>\n",
       "      <td>5</td>\n",
       "      <td>1358.0</td>\n",
       "      <td>0.0</td>\n",
       "      <td>90.0</td>\n",
       "      <td>...</td>\n",
       "      <td>0.0</td>\n",
       "      <td>101.0</td>\n",
       "      <td>0.0</td>\n",
       "      <td>206.0</td>\n",
       "      <td>129.0</td>\n",
       "      <td>207.0</td>\n",
       "      <td>0.0</td>\n",
       "      <td>118.110717</td>\n",
       "      <td>0.00000</td>\n",
       "      <td>0.0</td>\n",
       "    </tr>\n",
       "    <tr>\n",
       "      <th>2499</th>\n",
       "      <td>2019-08-06 02:40:25</td>\n",
       "      <td>2019-08-06 03:00:28</td>\n",
       "      <td>1569.0</td>\n",
       "      <td>1603.0</td>\n",
       "      <td>11.336151</td>\n",
       "      <td>4.953010</td>\n",
       "      <td>4</td>\n",
       "      <td>1366.0</td>\n",
       "      <td>0.0</td>\n",
       "      <td>47.0</td>\n",
       "      <td>...</td>\n",
       "      <td>0.0</td>\n",
       "      <td>0.0</td>\n",
       "      <td>0.0</td>\n",
       "      <td>233.0</td>\n",
       "      <td>126.0</td>\n",
       "      <td>227.0</td>\n",
       "      <td>0.0</td>\n",
       "      <td>110.160958</td>\n",
       "      <td>50.00528</td>\n",
       "      <td>0.0</td>\n",
       "    </tr>\n",
       "  </tbody>\n",
       "</table>\n",
       "<p>2328 rows × 21 columns</p>\n",
       "</div>"
      ],
      "text/plain": [
       "                 min_time             max_time  start_temp  final_temp  \\\n",
       "key                                                                      \n",
       "1     2019-05-03 11:16:18  2019-05-03 11:30:39      1571.0      1613.0   \n",
       "2     2019-05-03 11:37:27  2019-05-03 11:59:12      1581.0      1602.0   \n",
       "3     2019-05-03 12:13:17  2019-05-03 12:34:57      1596.0      1599.0   \n",
       "4     2019-05-03 12:52:57  2019-05-03 12:59:25      1601.0      1625.0   \n",
       "5     2019-05-03 13:23:19  2019-05-03 13:36:01      1576.0      1602.0   \n",
       "...                   ...                  ...         ...         ...   \n",
       "2495  2019-08-06 00:35:45  2019-08-06 00:54:42      1570.0      1591.0   \n",
       "2496  2019-08-06 01:02:54  2019-08-06 01:29:52      1554.0      1591.0   \n",
       "2497  2019-08-06 01:41:53  2019-08-06 01:53:50      1571.0      1589.0   \n",
       "2498  2019-08-06 02:03:49  2019-08-06 02:25:31      1591.0      1594.0   \n",
       "2499  2019-08-06 02:40:25  2019-08-06 03:00:28      1569.0      1603.0   \n",
       "\n",
       "            gas  full_power  heat_iter  heating_time  Bulk 1  Bulk 3  ...  \\\n",
       "key                                                                   ...   \n",
       "1     29.749986    5.826395          5        1583.0     0.0     0.0  ...   \n",
       "2     12.555561    3.649216          4        1144.0     0.0     0.0  ...   \n",
       "3     28.554793    2.989534          5        1525.0     0.0     0.0  ...   \n",
       "4     18.841219    3.814962          4        1093.0     0.0     0.0  ...   \n",
       "5      5.413692    4.035758          4        1362.0     0.0     0.0  ...   \n",
       "...         ...         ...        ...           ...     ...     ...  ...   \n",
       "2495   7.125735    3.986869          4        1208.0     0.0    21.0  ...   \n",
       "2496   9.412616    5.057033          6        1406.0     0.0     0.0  ...   \n",
       "2497   6.271699    2.885017          3         764.0     0.0     0.0  ...   \n",
       "2498  14.953657    4.143749          5        1358.0     0.0    90.0  ...   \n",
       "2499  11.336151    4.953010          4        1366.0     0.0    47.0  ...   \n",
       "\n",
       "      Bulk 6  Bulk 10  Bulk 11  Bulk 12  Bulk 14  Bulk 15  rare_bulks  \\\n",
       "key                                                                     \n",
       "1        0.0      0.0      0.0    206.0    150.0    154.0         0.0   \n",
       "2        0.0      0.0      0.0    206.0    149.0    154.0         0.0   \n",
       "3        0.0      0.0      0.0    205.0    152.0    153.0         0.0   \n",
       "4        0.0      0.0      0.0    207.0    153.0    154.0         0.0   \n",
       "5        0.0      0.0      0.0    203.0    151.0    152.0         0.0   \n",
       "...      ...      ...      ...      ...      ...      ...         ...   \n",
       "2495     0.0     90.0      0.0    256.0    129.0    223.0         0.0   \n",
       "2496     0.0    122.0      0.0    256.0    129.0    226.0         0.0   \n",
       "2497     0.0      0.0      0.0    230.0    124.0    226.0         0.0   \n",
       "2498     0.0    101.0      0.0    206.0    129.0    207.0         0.0   \n",
       "2499     0.0      0.0      0.0    233.0    126.0    227.0         0.0   \n",
       "\n",
       "          Wire 1    Wire 2  rare_wires  \n",
       "key                                     \n",
       "1      60.059998   0.00000         0.0  \n",
       "2      96.052315   0.00000         0.0  \n",
       "3      91.160157   0.00000         0.0  \n",
       "4      89.063515   0.00000         0.0  \n",
       "5      89.238236   9.11456         0.0  \n",
       "...          ...       ...         ...  \n",
       "2495   89.150879   0.00000         0.0  \n",
       "2496  114.179527   0.00000         0.0  \n",
       "2497   94.086723   9.04800         0.0  \n",
       "2498  118.110717   0.00000         0.0  \n",
       "2499  110.160958  50.00528         0.0  \n",
       "\n",
       "[2328 rows x 21 columns]"
      ]
     },
     "execution_count": 99,
     "metadata": {},
     "output_type": "execute_result"
    }
   ],
   "source": [
    "data_steel = data_steel.join(data_wire, how='inner')\n",
    "data_steel"
   ]
  },
  {
   "cell_type": "markdown",
   "id": "6f2fba5a",
   "metadata": {},
   "source": [
    "Удалим время измерения начальной и конечной температуры (так как у нас есть длительность процесса нагрева, похожий признак)."
   ]
  },
  {
   "cell_type": "code",
   "execution_count": 100,
   "id": "7aedfa4e",
   "metadata": {},
   "outputs": [],
   "source": [
    "data_steel = data_steel.drop(['min_time', 'max_time'], axis=1)"
   ]
  },
  {
   "cell_type": "code",
   "execution_count": 101,
   "id": "5921e7be",
   "metadata": {},
   "outputs": [
    {
     "data": {
      "text/html": [
       "<div>\n",
       "<style scoped>\n",
       "    .dataframe tbody tr th:only-of-type {\n",
       "        vertical-align: middle;\n",
       "    }\n",
       "\n",
       "    .dataframe tbody tr th {\n",
       "        vertical-align: top;\n",
       "    }\n",
       "\n",
       "    .dataframe thead th {\n",
       "        text-align: right;\n",
       "    }\n",
       "</style>\n",
       "<table border=\"1\" class=\"dataframe\">\n",
       "  <thead>\n",
       "    <tr style=\"text-align: right;\">\n",
       "      <th></th>\n",
       "      <th>start_temp</th>\n",
       "      <th>final_temp</th>\n",
       "      <th>gas</th>\n",
       "      <th>full_power</th>\n",
       "      <th>heat_iter</th>\n",
       "      <th>heating_time</th>\n",
       "      <th>Bulk 1</th>\n",
       "      <th>Bulk 3</th>\n",
       "      <th>Bulk 4</th>\n",
       "      <th>Bulk 6</th>\n",
       "      <th>Bulk 10</th>\n",
       "      <th>Bulk 11</th>\n",
       "      <th>Bulk 12</th>\n",
       "      <th>Bulk 14</th>\n",
       "      <th>Bulk 15</th>\n",
       "      <th>rare_bulks</th>\n",
       "      <th>Wire 1</th>\n",
       "      <th>Wire 2</th>\n",
       "      <th>rare_wires</th>\n",
       "    </tr>\n",
       "    <tr>\n",
       "      <th>key</th>\n",
       "      <th></th>\n",
       "      <th></th>\n",
       "      <th></th>\n",
       "      <th></th>\n",
       "      <th></th>\n",
       "      <th></th>\n",
       "      <th></th>\n",
       "      <th></th>\n",
       "      <th></th>\n",
       "      <th></th>\n",
       "      <th></th>\n",
       "      <th></th>\n",
       "      <th></th>\n",
       "      <th></th>\n",
       "      <th></th>\n",
       "      <th></th>\n",
       "      <th></th>\n",
       "      <th></th>\n",
       "      <th></th>\n",
       "    </tr>\n",
       "  </thead>\n",
       "  <tbody>\n",
       "    <tr>\n",
       "      <th>1</th>\n",
       "      <td>1571.0</td>\n",
       "      <td>1613.0</td>\n",
       "      <td>29.749986</td>\n",
       "      <td>5.826395</td>\n",
       "      <td>5</td>\n",
       "      <td>1583.0</td>\n",
       "      <td>0.0</td>\n",
       "      <td>0.0</td>\n",
       "      <td>43.0</td>\n",
       "      <td>0.0</td>\n",
       "      <td>0.0</td>\n",
       "      <td>0.0</td>\n",
       "      <td>206.0</td>\n",
       "      <td>150.0</td>\n",
       "      <td>154.0</td>\n",
       "      <td>0.0</td>\n",
       "      <td>60.059998</td>\n",
       "      <td>0.00000</td>\n",
       "      <td>0.0</td>\n",
       "    </tr>\n",
       "    <tr>\n",
       "      <th>2</th>\n",
       "      <td>1581.0</td>\n",
       "      <td>1602.0</td>\n",
       "      <td>12.555561</td>\n",
       "      <td>3.649216</td>\n",
       "      <td>4</td>\n",
       "      <td>1144.0</td>\n",
       "      <td>0.0</td>\n",
       "      <td>0.0</td>\n",
       "      <td>73.0</td>\n",
       "      <td>0.0</td>\n",
       "      <td>0.0</td>\n",
       "      <td>0.0</td>\n",
       "      <td>206.0</td>\n",
       "      <td>149.0</td>\n",
       "      <td>154.0</td>\n",
       "      <td>0.0</td>\n",
       "      <td>96.052315</td>\n",
       "      <td>0.00000</td>\n",
       "      <td>0.0</td>\n",
       "    </tr>\n",
       "    <tr>\n",
       "      <th>3</th>\n",
       "      <td>1596.0</td>\n",
       "      <td>1599.0</td>\n",
       "      <td>28.554793</td>\n",
       "      <td>2.989534</td>\n",
       "      <td>5</td>\n",
       "      <td>1525.0</td>\n",
       "      <td>0.0</td>\n",
       "      <td>0.0</td>\n",
       "      <td>34.0</td>\n",
       "      <td>0.0</td>\n",
       "      <td>0.0</td>\n",
       "      <td>0.0</td>\n",
       "      <td>205.0</td>\n",
       "      <td>152.0</td>\n",
       "      <td>153.0</td>\n",
       "      <td>0.0</td>\n",
       "      <td>91.160157</td>\n",
       "      <td>0.00000</td>\n",
       "      <td>0.0</td>\n",
       "    </tr>\n",
       "    <tr>\n",
       "      <th>4</th>\n",
       "      <td>1601.0</td>\n",
       "      <td>1625.0</td>\n",
       "      <td>18.841219</td>\n",
       "      <td>3.814962</td>\n",
       "      <td>4</td>\n",
       "      <td>1093.0</td>\n",
       "      <td>0.0</td>\n",
       "      <td>0.0</td>\n",
       "      <td>81.0</td>\n",
       "      <td>0.0</td>\n",
       "      <td>0.0</td>\n",
       "      <td>0.0</td>\n",
       "      <td>207.0</td>\n",
       "      <td>153.0</td>\n",
       "      <td>154.0</td>\n",
       "      <td>0.0</td>\n",
       "      <td>89.063515</td>\n",
       "      <td>0.00000</td>\n",
       "      <td>0.0</td>\n",
       "    </tr>\n",
       "    <tr>\n",
       "      <th>5</th>\n",
       "      <td>1576.0</td>\n",
       "      <td>1602.0</td>\n",
       "      <td>5.413692</td>\n",
       "      <td>4.035758</td>\n",
       "      <td>4</td>\n",
       "      <td>1362.0</td>\n",
       "      <td>0.0</td>\n",
       "      <td>0.0</td>\n",
       "      <td>78.0</td>\n",
       "      <td>0.0</td>\n",
       "      <td>0.0</td>\n",
       "      <td>0.0</td>\n",
       "      <td>203.0</td>\n",
       "      <td>151.0</td>\n",
       "      <td>152.0</td>\n",
       "      <td>0.0</td>\n",
       "      <td>89.238236</td>\n",
       "      <td>9.11456</td>\n",
       "      <td>0.0</td>\n",
       "    </tr>\n",
       "  </tbody>\n",
       "</table>\n",
       "</div>"
      ],
      "text/plain": [
       "     start_temp  final_temp        gas  full_power  heat_iter  heating_time  \\\n",
       "key                                                                           \n",
       "1        1571.0      1613.0  29.749986    5.826395          5        1583.0   \n",
       "2        1581.0      1602.0  12.555561    3.649216          4        1144.0   \n",
       "3        1596.0      1599.0  28.554793    2.989534          5        1525.0   \n",
       "4        1601.0      1625.0  18.841219    3.814962          4        1093.0   \n",
       "5        1576.0      1602.0   5.413692    4.035758          4        1362.0   \n",
       "\n",
       "     Bulk 1  Bulk 3  Bulk 4  Bulk 6  Bulk 10  Bulk 11  Bulk 12  Bulk 14  \\\n",
       "key                                                                       \n",
       "1       0.0     0.0    43.0     0.0      0.0      0.0    206.0    150.0   \n",
       "2       0.0     0.0    73.0     0.0      0.0      0.0    206.0    149.0   \n",
       "3       0.0     0.0    34.0     0.0      0.0      0.0    205.0    152.0   \n",
       "4       0.0     0.0    81.0     0.0      0.0      0.0    207.0    153.0   \n",
       "5       0.0     0.0    78.0     0.0      0.0      0.0    203.0    151.0   \n",
       "\n",
       "     Bulk 15  rare_bulks     Wire 1   Wire 2  rare_wires  \n",
       "key                                                       \n",
       "1      154.0         0.0  60.059998  0.00000         0.0  \n",
       "2      154.0         0.0  96.052315  0.00000         0.0  \n",
       "3      153.0         0.0  91.160157  0.00000         0.0  \n",
       "4      154.0         0.0  89.063515  0.00000         0.0  \n",
       "5      152.0         0.0  89.238236  9.11456         0.0  "
      ]
     },
     "execution_count": 101,
     "metadata": {},
     "output_type": "execute_result"
    }
   ],
   "source": [
    "data_steel.head()"
   ]
  },
  {
   "cell_type": "code",
   "execution_count": 102,
   "id": "8bd0aeeb",
   "metadata": {},
   "outputs": [
    {
     "name": "stdout",
     "output_type": "stream",
     "text": [
      "<class 'pandas.core.frame.DataFrame'>\n",
      "Int64Index: 2328 entries, 1 to 2499\n",
      "Data columns (total 19 columns):\n",
      " #   Column        Non-Null Count  Dtype  \n",
      "---  ------        --------------  -----  \n",
      " 0   start_temp    2328 non-null   float64\n",
      " 1   final_temp    2328 non-null   float64\n",
      " 2   gas           2328 non-null   float64\n",
      " 3   full_power    2328 non-null   float64\n",
      " 4   heat_iter     2328 non-null   int64  \n",
      " 5   heating_time  2328 non-null   float64\n",
      " 6   Bulk 1        2328 non-null   float64\n",
      " 7   Bulk 3        2328 non-null   float64\n",
      " 8   Bulk 4        2328 non-null   float64\n",
      " 9   Bulk 6        2328 non-null   float64\n",
      " 10  Bulk 10       2328 non-null   float64\n",
      " 11  Bulk 11       2328 non-null   float64\n",
      " 12  Bulk 12       2328 non-null   float64\n",
      " 13  Bulk 14       2328 non-null   float64\n",
      " 14  Bulk 15       2328 non-null   float64\n",
      " 15  rare_bulks    2328 non-null   float64\n",
      " 16  Wire 1        2328 non-null   float64\n",
      " 17  Wire 2        2328 non-null   float64\n",
      " 18  rare_wires    2328 non-null   float64\n",
      "dtypes: float64(18), int64(1)\n",
      "memory usage: 363.8 KB\n"
     ]
    }
   ],
   "source": [
    "data_steel.info()"
   ]
  },
  {
   "cell_type": "markdown",
   "id": "266d0051",
   "metadata": {},
   "source": [
    "Проверим наличие пропусков в итоговой таблице."
   ]
  },
  {
   "cell_type": "code",
   "execution_count": 103,
   "id": "002fcd0e",
   "metadata": {},
   "outputs": [
    {
     "data": {
      "text/plain": [
       "start_temp      0\n",
       "final_temp      0\n",
       "gas             0\n",
       "full_power      0\n",
       "heat_iter       0\n",
       "heating_time    0\n",
       "Bulk 1          0\n",
       "Bulk 3          0\n",
       "Bulk 4          0\n",
       "Bulk 6          0\n",
       "Bulk 10         0\n",
       "Bulk 11         0\n",
       "Bulk 12         0\n",
       "Bulk 14         0\n",
       "Bulk 15         0\n",
       "rare_bulks      0\n",
       "Wire 1          0\n",
       "Wire 2          0\n",
       "rare_wires      0\n",
       "dtype: int64"
      ]
     },
     "execution_count": 103,
     "metadata": {},
     "output_type": "execute_result"
    }
   ],
   "source": [
    "data_steel.isna().sum()"
   ]
  },
  {
   "cell_type": "markdown",
   "id": "ab771d3a",
   "metadata": {},
   "source": [
    "Так выглядит итоговый датасет. Исследуем признаки на мультиколлинеаность."
   ]
  },
  {
   "cell_type": "markdown",
   "id": "3baa424d",
   "metadata": {},
   "source": [
    "### Проверка признаков на мультиколлинеарность"
   ]
  },
  {
   "cell_type": "code",
   "execution_count": 104,
   "id": "1540ee93",
   "metadata": {
    "scrolled": false
   },
   "outputs": [
    {
     "data": {
      "image/png": "[encoded data removed]",
      "text/plain": [
       "<Figure size 1296x1296 with 2 Axes>"
      ]
     },
     "metadata": {
      "needs_background": "light"
     },
     "output_type": "display_data"
    }
   ],
   "source": [
    "import seaborn as sns\n",
    "\n",
    "plt.figure(figsize=(18,18))\n",
    "sns.heatmap(data_steel.corr(), annot = True, cmap = 'coolwarm')\n",
    "plt.title('Матрица корреляции исследуемых признаков', fontsize = 15)\n",
    "plt.show()"
   ]
  },
  {
   "cell_type": "markdown",
   "id": "afb8ebe0",
   "metadata": {},
   "source": [
    "График наглядно демонстрирует, что очень высокой корреляции (выше 0,9) между исследуемыми признаками не наблюдается. Самый высокий коээфициент корреляции Пирсона между полученными признаками составляет 0,77. Такая корреляция наблюдается междую полной мощностью и количеством итераций нагрева партий. Оставим признаки без изменений, попробуем их все включить в будущую модель.  "
   ]
  },
  {
   "cell_type": "markdown",
   "id": "973bc894",
   "metadata": {},
   "source": [
    "### Разделение выборки на обучающую и тестовую "
   ]
  },
  {
   "cell_type": "markdown",
   "id": "889d8a3c",
   "metadata": {},
   "source": [
    "Разделим выборку на обучающую и тестовую части в соотношении 75% : 25% соответственно. Выделим целевой признак."
   ]
  },
  {
   "cell_type": "code",
   "execution_count": 105,
   "id": "f47312aa",
   "metadata": {},
   "outputs": [],
   "source": [
    "from sklearn.model_selection import train_test_split"
   ]
  },
  {
   "cell_type": "code",
   "execution_count": 106,
   "id": "16bcead7",
   "metadata": {},
   "outputs": [],
   "source": [
    "features = data_steel.drop(['final_temp'], axis = 1)\n",
    "target = data_steel['final_temp']"
   ]
  },
  {
   "cell_type": "code",
   "execution_count": 107,
   "id": "969b3821",
   "metadata": {},
   "outputs": [],
   "source": [
    "features_train, features_test, target_train, target_test = train_test_split(features, target, test_size=0.25, \\\n",
    "                                                                            random_state = 100423)"
   ]
  },
  {
   "cell_type": "code",
   "execution_count": 108,
   "id": "297d63f9",
   "metadata": {},
   "outputs": [
    {
     "name": "stdout",
     "output_type": "stream",
     "text": [
      "(1746, 18)\n",
      "(582, 18)\n"
     ]
    }
   ],
   "source": [
    "print(features_train.shape)\n",
    "print(features_test.shape)"
   ]
  },
  {
   "cell_type": "markdown",
   "id": "e8eb1a1d",
   "metadata": {},
   "source": [
    "Проведена предобработка данных, теперь можно приступить непосредственно к моделированию."
   ]
  },
  {
   "cell_type": "markdown",
   "id": "57ab8d6e",
   "metadata": {},
   "source": [
    "<b>Вывод: </b>\n",
    "   \n",
    "   На данном этапе исследования были выполнены следующие шаги и сделаны следующие значимые выводы:\n",
    "   1. Выделен целевой признак - финальная температура партии металла, удалены те партии, по которым отсутствует последний замер, либо есть только одно измерение температуры.\n",
    "   \n",
    "   \n",
    "   2. Аномалии в полученных температурах металла решено не удалять, так как такие температуры хотя и редки, но в целом возможны в рамках изучаемого технологического процесса.\n",
    "   \n",
    "   3. Оставлены первый и последний замеры температуры по каждой из партии, промежуточные измерения удалены.\n",
    "   \n",
    "   \n",
    "   4. Данные об электродах агрегированы по номеру партии, добавлены новые признаки - полная мощность, количество итераций нагрева и время между началом первого нагрева и окончанием последнего нагрева.\n",
    "   \n",
    "   \n",
    "   5. Полученные новые признаки присоединены к обработанным данным с температурой. Данные по активной мощности, реактивной мощности, а также времени начала и конца нагрева решено не включать в моделирование по причине их неифнормативности в чистом виде и явно высокой корреляции между новыми созданными признаками и изначальными данными.\n",
    "   \n",
    "   \n",
    "   6. Удалена одна партия с высокой отрицательной мощностью, так как в исследуемых данных такое значение является явным выбросом\n",
    "   \n",
    "   \n",
    "   7. Без дополнительной предобработки присединены данные о подаче газа\n",
    "   \n",
    "   \n",
    "   8. Присоединены данные об объемах подачи сыпучих и проволочных материалов. Те материалы, которые используются менеее чем в 5% партий объединены в редкие сыпучие материлы и редкие проволочные материалы (данные по объемам суммированы)\n",
    "   \n",
    "   \n",
    "   9. Данные о времени подачи сыпучих и проволочных материалов решено не включать в моделирование. Однако они могут помочь проверить данные на адекватность: сначала должна замеряться температура металла, затем все манипуляции в рамках технологического процесса, затем финальный замер температуры. Если какие-то действия не укладываюся в такой хронологический порядок, очевидно, что в данных есть либо пропуски, либо ошибки.\n",
    "   \n",
    "   \n",
    "   10. Создана итоговая таблица с признаками, каждой партии соответсвует одна строка. По всем признакам нет пропусков. Все данные объединены по ключу - партии металла, с помощью inner join.\n",
    "   \n",
    "   \n",
    "   11. Проведено исследование признаков на мультиколлинеарность. Для этого построена корреляционная матрица. Наибольший коэффициент корреляции между признаками равен 0,77. Все имеющиеся признаки решено включить в моделирование.\n",
    "   \n",
    "   \n",
    "   12. Выборка разделена на обучающую и тестовую части в соотношении 75%:25% соответственно. Выделен целевой признак."
   ]
  },
  {
   "cell_type": "markdown",
   "id": "4c0a19ea",
   "metadata": {},
   "source": [
    "## Машинное обучение"
   ]
  },
  {
   "cell_type": "markdown",
   "id": "f7f3e229",
   "metadata": {},
   "source": [
    "Перейдем непосредственно к моделированию."
   ]
  },
  {
   "cell_type": "markdown",
   "id": "5bfde59f",
   "metadata": {},
   "source": [
    "Сделаем импорт необходимых библиотек."
   ]
  },
  {
   "cell_type": "code",
   "execution_count": 109,
   "id": "a7a4cf79",
   "metadata": {},
   "outputs": [],
   "source": [
    "from sklearn.model_selection import GridSearchCV\n",
    "\n",
    "from sklearn.metrics import mean_absolute_error\n",
    "from sklearn.pipeline import make_pipeline\n",
    "from sklearn.preprocessing import  StandardScaler\n",
    "\n",
    "\n",
    "from sklearn.ensemble import RandomForestRegressor\n",
    "from sklearn.linear_model import Ridge, Lasso\n",
    "\n",
    "from catboost import CatBoostRegressor\n",
    "\n",
    "from lightgbm import LGBMRegressor"
   ]
  },
  {
   "cell_type": "markdown",
   "id": "9b0a0f44",
   "metadata": {},
   "source": [
    "Попробуем построить четыре различные регресиионные модели:\n",
    "   - CatBoost\n",
    "   - LightGBM\n",
    "   - RandomForestRegressor\n",
    "   - Ridge\n",
    "   - Lasso\n",
    "\n",
    "Подберем гиперпараметры, все полученнные результаты по лучшим моделям запомним с целью дальнейшего сравнения и выбора наилучшей.\n",
    "Целевой метрикой оценки качества модели будет являться MAE."
   ]
  },
  {
   "cell_type": "markdown",
   "id": "bf51fbfe",
   "metadata": {},
   "source": [
    "### CatBoost"
   ]
  },
  {
   "cell_type": "code",
   "execution_count": 110,
   "id": "33f4f85f",
   "metadata": {},
   "outputs": [
    {
     "name": "stdout",
     "output_type": "stream",
     "text": [
      "Наилучшая модель CatBoost: {'depth': 4, 'learning_rate': 0.2, 'n_estimators': 150}\n",
      "MAE_cat_boost = 5.674\n",
      "CPU times: user 4min 38s, sys: 2.61 s, total: 4min 41s\n",
      "Wall time: 5min 46s\n"
     ]
    }
   ],
   "source": [
    "%%time\n",
    "\n",
    "model = CatBoostRegressor(verbose = False, random_state = 100423)\n",
    "\n",
    "params = { 'n_estimators': [90, 120, 150],\n",
    "            'learning_rate': [0.05, 0.1, 0.2],\n",
    "            'depth': [4, 7, 10]}\n",
    "\n",
    "cat_boost = GridSearchCV(model, params, cv=5, scoring='neg_mean_absolute_error', n_jobs = -1)\n",
    "cat_boost.fit(features_train, target_train)\n",
    "cat_boost_best = cat_boost.best_estimator_\n",
    "\n",
    "print('Наилучшая модель CatBoost:', cat_boost.best_params_)\n",
    "print(f'MAE_cat_boost = {abs(cat_boost.best_score_).round(3)}')"
   ]
  },
  {
   "cell_type": "markdown",
   "id": "fdeb6c9e",
   "metadata": {},
   "source": [
    "Значения целевых метрик по исследуемым моделям сохраним в отдельный список."
   ]
  },
  {
   "cell_type": "code",
   "execution_count": 111,
   "id": "99da8b09",
   "metadata": {},
   "outputs": [],
   "source": [
    "results_model =[]\n",
    "results_model.append({'model': 'CatBoost',\n",
    "                      'MAE': abs(cat_boost.best_score_).round(3)})\n"
   ]
  },
  {
   "cell_type": "markdown",
   "id": "d26a23d6",
   "metadata": {},
   "source": [
    "### LightGBM\n"
   ]
  },
  {
   "cell_type": "code",
   "execution_count": 112,
   "id": "e974fa60",
   "metadata": {},
   "outputs": [
    {
     "name": "stdout",
     "output_type": "stream",
     "text": [
      "Наилучшая модель LightGBM: {'learning_rate': 0.1, 'max_depth': 10, 'n_estimators': 90}\n",
      "MAE_lgbm = 5.659\n",
      "CPU times: user 18min 26s, sys: 7.74 s, total: 18min 34s\n",
      "Wall time: 18min 43s\n"
     ]
    }
   ],
   "source": [
    "%%time\n",
    "\n",
    "model = LGBMRegressor(random_state = 100423)\n",
    "\n",
    "params = { 'max_depth': [7, 10, 11],\n",
    "           'learning_rate': [0.05, 0.1, 0.15],\n",
    "           'n_estimators': [90, 100, 120]}\n",
    "\n",
    "lgbm  = GridSearchCV(model, params, cv=5, scoring='neg_mean_absolute_error')\n",
    "lgbm.fit(features_train, target_train)\n",
    "lgbm_best = lgbm.best_estimator_\n",
    "\n",
    "print('Наилучшая модель LightGBM:', lgbm.best_params_)\n",
    "print(f'MAE_lgbm = {abs(lgbm.best_score_).round(3)}')\n"
   ]
  },
  {
   "cell_type": "code",
   "execution_count": 113,
   "id": "ae8393a8",
   "metadata": {},
   "outputs": [],
   "source": [
    "results_model.append({'model': 'LightGBM',\n",
    "                      'MAE': abs(lgbm.best_score_).round(3)})\n"
   ]
  },
  {
   "cell_type": "markdown",
   "id": "fe392aaf",
   "metadata": {},
   "source": [
    "### Random Forest"
   ]
  },
  {
   "cell_type": "code",
   "execution_count": 114,
   "id": "c6d89535",
   "metadata": {},
   "outputs": [
    {
     "name": "stdout",
     "output_type": "stream",
     "text": [
      "Наилучшая модель RandomForest: {'max_depth': 5, 'n_estimators': 270}\n",
      "MAE_random_forest = 6.316\n",
      "CPU times: user 5min 21s, sys: 1.72 s, total: 5min 23s\n",
      "Wall time: 5min 23s\n"
     ]
    }
   ],
   "source": [
    "%%time\n",
    "\n",
    "model = RandomForestRegressor()\n",
    "params =  {'n_estimators': range(30, 300, 5), \n",
    "           'max_depth': [3, 5]}\n",
    "\n",
    "rf = GridSearchCV(model, params, scoring = 'neg_mean_absolute_error', cv=5, n_jobs = -1)\n",
    "rf.fit(features_train, target_train)\n",
    "rf_best =  rf.best_estimator_\n",
    "\n",
    "print('Наилучшая модель RandomForest:', rf.best_params_)\n",
    "print(f'MAE_random_forest = {abs(rf.best_score_).round(3)}')"
   ]
  },
  {
   "cell_type": "code",
   "execution_count": 115,
   "id": "c06c752d",
   "metadata": {},
   "outputs": [],
   "source": [
    "results_model.append({'model': 'RandomForest',\n",
    "                      'MAE': abs(rf.best_score_).round(3)})\n"
   ]
  },
  {
   "cell_type": "markdown",
   "id": "69cbc555",
   "metadata": {},
   "source": [
    "Для линейных моделей Ridge и Lasso используем масштабированные данные при помощи Standard Scaler. Масштабирование применим через pipeline во избежение утечки данных в рамках кросс-валидации."
   ]
  },
  {
   "cell_type": "markdown",
   "id": "c2dfae7e",
   "metadata": {},
   "source": [
    "### Ridge"
   ]
  },
  {
   "cell_type": "code",
   "execution_count": 116,
   "id": "5417031a",
   "metadata": {},
   "outputs": [
    {
     "name": "stdout",
     "output_type": "stream",
     "text": [
      "Наилучшая модель Ridge: {'ridge__alpha': 0.0}\n",
      "MAE_ridge = 5.87\n",
      "CPU times: user 49.5 s, sys: 1min 21s, total: 2min 11s\n",
      "Wall time: 2min 11s\n"
     ]
    }
   ],
   "source": [
    "%%time                          \n",
    "\n",
    "model_ridge = Ridge(random_state = 100423)\n",
    "pipe = make_pipeline(StandardScaler(), model_ridge)\n",
    "params = {'ridge__alpha': np.arange(0, 5, 0.01)}\n",
    "\n",
    "ridge = GridSearchCV(pipe, params, scoring = 'neg_mean_absolute_error', cv=5, n_jobs = -1)\n",
    "ridge.fit(features_train, target_train)\n",
    "ridge_model_best = ridge.best_estimator_\n",
    "\n",
    "print('Наилучшая модель Ridge:', ridge.best_params_)\n",
    "print(f'MAE_ridge = {abs(ridge.best_score_).round(3)}')"
   ]
  },
  {
   "cell_type": "code",
   "execution_count": 117,
   "id": "07b101c9",
   "metadata": {},
   "outputs": [],
   "source": [
    "results_model.append({'model': 'Ridge',\n",
    "                      'MAE': abs(ridge.best_score_).round(3)})\n"
   ]
  },
  {
   "cell_type": "markdown",
   "id": "56b26f5e",
   "metadata": {},
   "source": [
    "### Lasso"
   ]
  },
  {
   "cell_type": "code",
   "execution_count": 118,
   "id": "82087403",
   "metadata": {},
   "outputs": [
    {
     "name": "stdout",
     "output_type": "stream",
     "text": [
      "Наилучшая модель Ridge: {'lasso__alpha': 0.15, 'lasso__max_iter': 500, 'lasso__selection': 'cyclic'}\n",
      "MAE = 5.914\n",
      "CPU times: user 24.4 s, sys: 33.4 s, total: 57.8 s\n",
      "Wall time: 57.8 s\n"
     ]
    }
   ],
   "source": [
    "%%time\n",
    "\n",
    "model_lasso = Lasso(random_state=100423)\n",
    "\n",
    "pipe = make_pipeline(StandardScaler(), model_lasso)\n",
    "params = {'lasso__alpha': [0.15, 0.2, 0.25, 0.3],\n",
    "          'lasso__max_iter': range(500, 1200, 50),\n",
    "          'lasso__selection': ['cyclic', 'random']}\n",
    "\n",
    "lasso = GridSearchCV(pipe, params, scoring = 'neg_mean_absolute_error', cv=5, n_jobs = -1)\n",
    "lasso.fit(features_train, target_train)\n",
    "lasso_model_best = lasso.best_estimator_\n",
    "\n",
    "print('Наилучшая модель Ridge:', lasso.best_params_)\n",
    "print(f'MAE = {abs(lasso.best_score_).round(3)}')"
   ]
  },
  {
   "cell_type": "code",
   "execution_count": 119,
   "id": "0768b9e2",
   "metadata": {},
   "outputs": [],
   "source": [
    "results_model.append({'model': 'Lasso',\n",
    "                      'MAE': abs(lasso.best_score_).round(3)})\n"
   ]
  },
  {
   "cell_type": "markdown",
   "id": "43444bf9",
   "metadata": {},
   "source": [
    "Посмотрим на лучшие метрики всех использованных выше моделей."
   ]
  },
  {
   "cell_type": "code",
   "execution_count": 120,
   "id": "b75d7410",
   "metadata": {},
   "outputs": [
    {
     "data": {
      "text/html": [
       "<div>\n",
       "<style scoped>\n",
       "    .dataframe tbody tr th:only-of-type {\n",
       "        vertical-align: middle;\n",
       "    }\n",
       "\n",
       "    .dataframe tbody tr th {\n",
       "        vertical-align: top;\n",
       "    }\n",
       "\n",
       "    .dataframe thead th {\n",
       "        text-align: right;\n",
       "    }\n",
       "</style>\n",
       "<table border=\"1\" class=\"dataframe\">\n",
       "  <thead>\n",
       "    <tr style=\"text-align: right;\">\n",
       "      <th></th>\n",
       "      <th>model</th>\n",
       "      <th>MAE</th>\n",
       "    </tr>\n",
       "  </thead>\n",
       "  <tbody>\n",
       "    <tr>\n",
       "      <th>0</th>\n",
       "      <td>CatBoost</td>\n",
       "      <td>5.674</td>\n",
       "    </tr>\n",
       "    <tr>\n",
       "      <th>1</th>\n",
       "      <td>LightGBM</td>\n",
       "      <td>5.659</td>\n",
       "    </tr>\n",
       "    <tr>\n",
       "      <th>2</th>\n",
       "      <td>RandomForest</td>\n",
       "      <td>6.316</td>\n",
       "    </tr>\n",
       "    <tr>\n",
       "      <th>3</th>\n",
       "      <td>Ridge</td>\n",
       "      <td>5.870</td>\n",
       "    </tr>\n",
       "    <tr>\n",
       "      <th>4</th>\n",
       "      <td>Lasso</td>\n",
       "      <td>5.914</td>\n",
       "    </tr>\n",
       "  </tbody>\n",
       "</table>\n",
       "</div>"
      ],
      "text/plain": [
       "          model    MAE\n",
       "0      CatBoost  5.674\n",
       "1      LightGBM  5.659\n",
       "2  RandomForest  6.316\n",
       "3         Ridge  5.870\n",
       "4         Lasso  5.914"
      ]
     },
     "execution_count": 120,
     "metadata": {},
     "output_type": "execute_result"
    }
   ],
   "source": [
    "results_model = pd.DataFrame(results_model)\n",
    "results_model"
   ]
  },
  {
   "cell_type": "markdown",
   "id": "b9d4ea02",
   "metadata": {},
   "source": [
    "Самую низкую среднюю абсолютную ошибку удалось получить используя модель LightGBMRegressor. "
   ]
  },
  {
   "cell_type": "markdown",
   "id": "c412e153",
   "metadata": {},
   "source": [
    "<b> Вывод:</b> \n",
    " \n",
    " На данном этапе проведено моделирование с использованием следующих моделей:\n",
    " - CatBoost\n",
    " - LightGBM\n",
    " - RandomForestRegressor\n",
    " - Ridge\n",
    " - Lasso\n",
    "\n",
    "Для каждой модели осуществлен поиск гиперпараметов с помощью GridSearchCV (метода подбора наилучших гиперпараметров со встроенной кросс-валидалицией). Для каждой модели удалось перебрать 2-3 гиперпараметра.\n",
    "\n",
    "Для линейных регрессионных моделей перед моделированием проведено масштабирование данных с использованием pipeline.\n",
    "\n",
    "Проведено сравнение полученных моделей по целевой метрике качества - средней абсолютной ошибке.\n",
    "Наименьшее значение MAE получено для модели LightGBMRegressor. Оно составило 5.659.\n"
   ]
  },
  {
   "cell_type": "markdown",
   "id": "0a3c6269",
   "metadata": {},
   "source": [
    "## Тестирование модели"
   ]
  },
  {
   "cell_type": "markdown",
   "id": "3571b8ff",
   "metadata": {},
   "source": [
    "Проверим работу модели на тестовых данных."
   ]
  },
  {
   "cell_type": "code",
   "execution_count": 121,
   "id": "fffb8193",
   "metadata": {},
   "outputs": [
    {
     "name": "stdout",
     "output_type": "stream",
     "text": [
      "MAE модели на тестовой выборке: 5.767\n"
     ]
    }
   ],
   "source": [
    "predictions_lgbm = lgbm_best.predict(features_test)\n",
    "\n",
    "mae_test = mean_absolute_error(target_test, predictions_lgbm)\n",
    "print(f'MAE модели на тестовой выборке: {mae_test.round(3)}')"
   ]
  },
  {
   "cell_type": "markdown",
   "id": "e7b62c9d",
   "metadata": {},
   "source": [
    "Проведем анализ важности признаков у итоговой модели."
   ]
  },
  {
   "cell_type": "code",
   "execution_count": 122,
   "id": "5a23a670",
   "metadata": {},
   "outputs": [
    {
     "name": "stdout",
     "output_type": "stream",
     "text": [
      "full_power      364\n",
      "start_temp      353\n",
      "heating_time    281\n",
      "Wire 1          221\n",
      "gas             204\n",
      "Bulk 14         201\n",
      "Bulk 12         114\n",
      "Wire 2           96\n",
      "Bulk 15          76\n",
      "Bulk 6           71\n",
      "Bulk 3           69\n",
      "rare_wires       55\n",
      "Bulk 4           39\n",
      "heat_iter        38\n",
      "Bulk 1           30\n",
      "rare_bulks       24\n",
      "Bulk 11          16\n",
      "Bulk 10          10\n",
      "dtype: int32\n"
     ]
    },
    {
     "data": {
      "image/png": "[encoded data removed]",
      "text/plain": [
       "<Figure size 576x432 with 1 Axes>"
      ]
     },
     "metadata": {
      "needs_background": "light"
     },
     "output_type": "display_data"
    }
   ],
   "source": [
    "feature_importances = pd.Series(lgbm_best.feature_importances_, index=features_train.columns)\n",
    "print(feature_importances.sort_values(ascending=False))\n",
    "feature_importances.sort_values(ascending=False).plot(figsize = (8,6), kind='bar')\n",
    "plt.xlabel('Feature')\n",
    "plt.ylabel('Importance')\n",
    "plt.suptitle(\"Feature importances in Lgbm best model\")\n",
    "plt.show()"
   ]
  },
  {
   "cell_type": "markdown",
   "id": "e9bcfade",
   "metadata": {},
   "source": [
    "Наиболее значимыми факторами для итоговой модели, оказывающими максимальное влияние на целевой признак (финальную температуру металла в ковше) являются полная мощность, затраченная на нагрев партии, начальная температура металла, измеренная на старте технологического процесса, а также длительность нагрева."
   ]
  },
  {
   "cell_type": "markdown",
   "id": "ebbff9a9",
   "metadata": {},
   "source": [
    "Оценим адекватность построенной модели, сравним ее с константной моделью, предсказаниями которой будет медианное значение температуры."
   ]
  },
  {
   "cell_type": "code",
   "execution_count": 123,
   "id": "8ffd92e0",
   "metadata": {},
   "outputs": [
    {
     "name": "stdout",
     "output_type": "stream",
     "text": [
      "MAE константной модели на тестовой выборке: 7.954\n"
     ]
    }
   ],
   "source": [
    "from sklearn.dummy import DummyRegressor\n",
    "model = DummyRegressor(strategy='median')\n",
    "model.fit(features_train, target_train)\n",
    "predictions_dummy = model.predict(features_test)\n",
    "mae_dummy = mean_absolute_error(target_test, predictions_dummy)\n",
    "\n",
    "print(f'MAE константной модели на тестовой выборке: {mae_dummy.round(3)}')"
   ]
  },
  {
   "cell_type": "markdown",
   "id": "669dd97a",
   "metadata": {},
   "source": [
    "<b> Вывод:</b> \n",
    " \n",
    " Проведена проверка итоговой модели на тестовой выборке. Модель показала хороший результат сравнимый с показателем, полученным на обучающих данных.\n",
    " MAE на тестовой выборке у итоговой модели равно 5.767 (результат на трейне 5.659).\n",
    " \n",
    " \n",
    "Для итоговой выбранной модели осуществлен анализ важности признаков. Наиболее значимыми факторами оказались полная мощность, затраченная на нагрев партии, начальная температура металла в ковше и длительность нагрева.\n",
    " \n",
    " Модель также успешно прошла сравнение с константной моделью, результат которой составил MAE 7.954 на тестовых данных.\n",
    " \n",
    " Можно сделать вывод, что полученная модель адекватна поставленной задаче и может быть успешно применена для решения исследуемой проблематики.\n",
    " "
   ]
  },
  {
   "cell_type": "markdown",
   "id": "05f53d02",
   "metadata": {},
   "source": [
    "## Отчет"
   ]
  },
  {
   "cell_type": "markdown",
   "id": "1154ef95",
   "metadata": {},
   "source": [
    "Данный проект был выполнен с целью решения задачи оптимизации издержек \n",
    "потребления электроэнергии у компании, занимающейся обработкой стали.\n",
    "\n",
    "Для этого необходимо было построить адекватную имеющимся данным модель машинного\n",
    "обучения и решить задачу регрессии - наиболее точно предсказать финальную температуру\n",
    "стали в ковше.\n",
    "\n",
    "Целевой метрикой качества модели считалась средняя абсолютная ошибка (MAE).\n",
    "\n",
    "В начале работы над проектом был составлен <b> план работы.</b>\n",
    "\n",
    "<b> 1. Провести исследовательский анализ данных  </b>\n",
    "(выявление закономерностей и особенностей данных, проверка форматов хранения,\n",
    "наличия пропусков, аномалий и дубликатов, поверка статистичеких\n",
    "показателей по количественным признакам).\n",
    "\n",
    "Данный пункт удалось выполнить в полном объеме. \n",
    "Все найденные закономерности визуализированы и подробно описаны. \n",
    "\n",
    "<u>Ключевые выводы</u> на данном этапе следующие:\n",
    "- в данных есть признаки, которые разделены по временным интервалам, а есть не привязанные ко времени\n",
    "- для моделирования необходима будет агрегация по партиям товаров\n",
    "- есть пропуски, есть признаки, которые скорее всего будут неинформативны\n",
    "- есть явные аномалии по одному из признаков\n",
    "- распределение количественных признаков близко к нормальному\n",
    "\n",
    "Возник ряд уточняющих вопросов к заказчику, в том числе, касающихся технологического \n",
    "процесса и о того, как планируется внедрять модель в реальное производство.\n",
    "После получения ответов удалось перейти к следующему шагу работы над проектом.\n",
    "\n",
    "<b> 2. Предобработка данных</b>\n",
    "\n",
    "<u>Целью </u> данного этапа была подготовка итоговой таблицы с признаками и \n",
    "целевым показателем, которые можно было бы использовать непосредственно \n",
    "в моделировании.\n",
    "\n",
    "Первым <u> самым важным шагом </u> в данной части исследования стала подготовка \n",
    "целевого признака: удаление партий с отсутствующим финальным замером,\n",
    "удаление промежуточных неинформативных измерений, очистка выборки от информации по\n",
    "партиям, где присутствует только одно измерение.\n",
    "\n",
    "Все остальные имеющиеся выборки также были обработаны:\n",
    "агрегированы по партиям металла, были созданы новые признаки на основе имеющихся \n",
    "(суммарная полная мощность, длительность нагрева партии, количество нагревов),\n",
    "часть признаков объединены в один блок (редкие сыпучие и проволочные материалы), \n",
    "часть признаков удалены( например, временные данные, так как в данном случае\n",
    "они были неиформативны для моделирования).\n",
    "\n",
    "Удалось создать выборку по 2328 уникальным партиям металла с информацией \n",
    "по 19 признакам, включая целевой признак - финальную температуру металла в ковше.\n",
    "\n",
    "Итовые признаки были проверены на мультиколлинеарность, построена матрица корреляции.\n",
    "Все полученнные признаки было решено включить в будущую модель,\n",
    "поскольку максимальный коэффициент составил 0,77.\n",
    "\n",
    "Затем выборка была разделена на обучающую и тестовую части в соотношении \n",
    "75%:25% соответственно.\n",
    "\n",
    "Все части предобработки данных удалось выполнить в соответствии с планом, кроме \n",
    "восстановления технологического цикла обработки меттала на каждой партии металла по\n",
    "времени. \n",
    "\n",
    "Это отдельный пункт, связанный с проверкой данных на адекватность: сначала должна \n",
    "замеряться температура металла, затем все манипуляции в рамках технологического \n",
    "процесса, затем финальный замер температуры. \n",
    "Если какие-то действия не укладываюся в такой хронологический порядок, очевидно, \n",
    "что в данных есть либо пропуски, либо ошибки.\n",
    "\n",
    "<u> Предобработка данных стала ключевым этапом в работе над проектом</u>, так как имеющаяся \n",
    "выборка требовала ряда манипуляций с целью построения информативной выборки для\n",
    "дальнейшего успешного моделирования.\n",
    "\n",
    "<b>3. Машинное обучение</b>\n",
    "  \n",
    "Целью данного этапа было провести непосредственное моделирование при помощи\n",
    "различных регрессионных моделей, сравнить полученные метрики качества моделей между \n",
    "собой и выбрать наилучшую итоговую модель.\n",
    "\n",
    "В рамках машинного моделирования были построены следующие регрессионные модели:\n",
    "   - CatBoost\n",
    "   - LightGBM\n",
    "   - RandomForestRegressor\n",
    "   - Ridge\n",
    "   - Lasso\n",
    "\n",
    "Для каждой модели осуществлен поиск гиперпараметов с помощью GridSearchCV \n",
    "(метода подбора наилучших гиперпараметров со встроенной кросс-валидалицией). \n",
    "Для каждой модели удалось перебрать 2-3 гиперпараметра.\n",
    "\n",
    "Для линейных регрессионных моделей (Rigde, Lasso) перед моделированием \n",
    "проведено масштабирование \n",
    "данных с использованием pipeline.\n",
    "Модели показали следующие метрики качества на обучающей выборке.\n",
    "\n",
    "\tCatBoost MAE =\t5.674\n",
    "    LightGBM MAE =\t5.659\n",
    "    RandomForest MAE = 6.320\n",
    "    Ridge MAE =\t5.870\n",
    "    Lasso MAE = 5.914\n",
    "\n",
    "Наилучшей моделью по показателю средней абсолютной ошибки стала модeль \n",
    "LightGBMRegressor.\n",
    "\n",
    "<b> 4. Тестирование модели</b>\n",
    "\n",
    "В данной части исследования полученная итоговая модель была проверена \n",
    "на тестовых данных, затем проводилось сравнение с метрикой качества \n",
    "константной модели на тех же данных, а также анализировалась важность\n",
    "признаков модели-победителя.\n",
    "\n",
    "Эти шаги удалось выполнить в полном объеме.\n",
    "\n",
    "Итоговой моделью стала LightGBMRegressor со следующими гиперпараметрами:\n",
    "{'learning_rate': 0.1, 'max_depth': 10, 'n_estimators': 90, 'random_state' = 100123}\n",
    "MAE на тестовой выборке = 5.767\n",
    "\n",
    "Модель адекватна поставленной задаче и значительно превосходит по качеству\n",
    "константную модель с медианными предсказаниями температуры (MAE на тестовых данных\n",
    "константной модели составило 7.954).\n",
    "\n",
    "При моделировании были использованы следующие признаки:\n",
    " - full_power - полная суммарная нагрева партии\n",
    " - start_temp - начальная температура металла\n",
    " - heating_time - длительность нагрева\n",
    " - Wire 1  - объем подачи проволочного материала 1\n",
    " - gas - объем подачи газа\n",
    " - Bulk 14 - объем подачи сыпучего материала 14\n",
    " - Bulk 12 - объем подачи сыпучего материала 12\n",
    " - Wire 2 - объем подачи проволочного материала 2\n",
    " - Bulk 15 - объем подачи сыпучего материала 15\n",
    " - Bulk 6 - объем подачи сыпучего материала 6\n",
    " - Bulk 3 - объем подачи сыпучего материала 3\n",
    " - rare_wires - объем подачи редких проволочных матпериалов\n",
    " - Bulk 4 - объем подачи сыпучего материала 4\n",
    " - heat_iter - количество раз, которое партия металла подвергалась нагреву\n",
    " - Bulk 1 - объем подачи сыпучего материала 1\n",
    " - rare_bulks - объем подачи редких сыпучих материалов\n",
    " - Bulk 11 - объем подачи сыпучего материала 11\n",
    " - Bulk 10 - объем подачи сыпучего материала 10\n",
    "\n",
    "Анализ важности признаков итоговой модели позволил выяснить, что наибольшее влияние \n",
    "на итоговую температуру металла в ковше больше всего влияют полная мощность,\n",
    "затраченная на нагрев партии, начальная температура металла и длительность нагрева.\n",
    "\n",
    "И это <u> исследование важности факторов также можно отнести к ключевому этапу исследования </u>.\n",
    "Оно дает представление о том, как можно использовать построенную модель,\n",
    "а также усовершенствовать ее и применить в реальном производстве.\n",
    "\n",
    "<b>Рекомендации.</b>\n",
    "\n",
    "<u> Цель заказчика:</u> снижение издержек на энергопотребление.\n",
    "\n",
    "<u> Цель проекта:</u> построение регрессионной модели с наименьшей средней абсолютной ошибкой\n",
    "предсказывающей температуру металла на финальной стадии обработки.\n",
    "\n",
    "Каким образом знание финальной температуры позволит сократить издержки компании?\n",
    "Судя по полученной итоговой модели на конечную температуру больше всего влияют \n",
    "начальная температура и полная мощность, затраченная на нагрев.\n",
    "\n",
    "Соответственно, для сокращения издержек энергопотребления необходимо будет снизить \n",
    "разброс значений температуры металла в ковше.\n",
    "Если дельта небольшая, то потребуется тратить меньше ресурсов на нагрев партии.\n",
    "\n",
    "Также вероятно, разработанная модель станет одним из шагов глобального исследования,\n",
    "частью масштабного проекта по разработке мероприятий, позволяющих снизить\n",
    "издержки.\n",
    "\n",
    "На данном этапе можно подумать, какие мерояприятия позволят сократить разброс \n",
    "между начальной и финальной температурой в ковше?\n",
    "\n",
    "<u> Могут быть предприняты следующие меры:</u>\n",
    "- фиксация случаев экстремально высоких разбросов температур (детально рассмотреть данные  случаи, например, какая бригада работала, какие материалы подавались, в каком порядке  и т.д.)\n",
    "\n",
    "\n",
    "- рассмотреть случаи самых маленьких разбросов температур (фиксировать удачные  химические составы газа, подачи проволочных и сыпучих материалов, частоту подачи)\n",
    "\n",
    "\n",
    "- отдельно смоделировать самые большие и самые маленькие разбросы, понять, что на них  повлияло в большей степени\n",
    "\n",
    "\n",
    "- детально рассмотреть признак мощности, полная суммарная мощность и длительность нагрева имеют также большое значение в итоговой модель. Можно изучить как наиболее эффективно нагревать металл: нагревать сильнее в начале или в конце цикла, нагревать меньшее количество раз, но сразу до более высокой температуры и т.д. Для этого можно также фиксировать \"удачные\" партии.\n",
    "\n",
    "\n",
    "- добавлять новые признаки из уже имеющихся, убирать мало значимые факторы и смотреть на качество модели.\n"
   ]
  }
 ],
 "metadata": {
  "ExecuteTimeLog": [
   {
    "duration": 757,
    "start_time": "2023-04-12T06:46:51.083Z"
   },
   {
    "duration": 103,
    "start_time": "2023-04-12T06:46:51.842Z"
   },
   {
    "duration": 15,
    "start_time": "2023-04-12T06:46:52.378Z"
   },
   {
    "duration": 13,
    "start_time": "2023-04-12T06:46:53.071Z"
   },
   {
    "duration": 7,
    "start_time": "2023-04-12T06:46:53.993Z"
   },
   {
    "duration": 15,
    "start_time": "2023-04-12T06:46:54.404Z"
   },
   {
    "duration": 20,
    "start_time": "2023-04-12T06:46:55.048Z"
   },
   {
    "duration": 256,
    "start_time": "2023-04-12T06:46:55.415Z"
   },
   {
    "duration": 475,
    "start_time": "2023-04-12T06:46:57.042Z"
   },
   {
    "duration": 26,
    "start_time": "2023-04-12T06:48:19.174Z"
   },
   {
    "duration": 15,
    "start_time": "2023-04-12T06:48:20.139Z"
   },
   {
    "duration": 9,
    "start_time": "2023-04-12T06:48:32.909Z"
   },
   {
    "duration": 13,
    "start_time": "2023-04-12T06:48:33.456Z"
   },
   {
    "duration": 260,
    "start_time": "2023-04-12T06:48:34.709Z"
   },
   {
    "duration": 114,
    "start_time": "2023-04-12T06:49:00.904Z"
   },
   {
    "duration": 32,
    "start_time": "2023-04-12T06:49:01.566Z"
   },
   {
    "duration": 13,
    "start_time": "2023-04-12T06:49:02.331Z"
   },
   {
    "duration": 8,
    "start_time": "2023-04-12T06:49:02.948Z"
   },
   {
    "duration": 4,
    "start_time": "2023-04-12T06:49:04.460Z"
   },
   {
    "duration": 329,
    "start_time": "2023-04-12T06:49:05.047Z"
   },
   {
    "duration": 3,
    "start_time": "2023-04-12T06:49:47.502Z"
   },
   {
    "duration": 19,
    "start_time": "2023-04-12T06:49:47.972Z"
   },
   {
    "duration": 275,
    "start_time": "2023-04-12T06:54:18.814Z"
   },
   {
    "duration": 16,
    "start_time": "2023-04-12T06:54:19.488Z"
   },
   {
    "duration": 12,
    "start_time": "2023-04-12T06:54:20.161Z"
   },
   {
    "duration": 5,
    "start_time": "2023-04-12T06:54:21.179Z"
   },
   {
    "duration": 6,
    "start_time": "2023-04-12T06:54:21.641Z"
   },
   {
    "duration": 403,
    "start_time": "2023-04-12T06:55:16.799Z"
   },
   {
    "duration": 6,
    "start_time": "2023-04-12T06:55:17.254Z"
   },
   {
    "duration": 10,
    "start_time": "2023-04-12T06:55:17.474Z"
   },
   {
    "duration": 14,
    "start_time": "2023-04-12T06:55:17.808Z"
   },
   {
    "duration": 5,
    "start_time": "2023-04-12T06:55:18.269Z"
   },
   {
    "duration": 246,
    "start_time": "2023-04-12T06:55:18.794Z"
   },
   {
    "duration": 3,
    "start_time": "2023-04-12T06:55:19.319Z"
   },
   {
    "duration": 6,
    "start_time": "2023-04-12T06:55:19.962Z"
   },
   {
    "duration": 201,
    "start_time": "2023-04-12T06:55:55.975Z"
   },
   {
    "duration": 10,
    "start_time": "2023-04-12T06:55:56.365Z"
   },
   {
    "duration": 23,
    "start_time": "2023-04-12T06:55:56.524Z"
   },
   {
    "duration": 7,
    "start_time": "2023-04-12T06:55:57.057Z"
   },
   {
    "duration": 16,
    "start_time": "2023-04-12T06:55:58.012Z"
   },
   {
    "duration": 10,
    "start_time": "2023-04-12T06:55:59.377Z"
   },
   {
    "duration": 1493,
    "start_time": "2023-04-12T06:56:00.873Z"
   },
   {
    "duration": 4,
    "start_time": "2023-04-12T06:56:05.691Z"
   },
   {
    "duration": 9,
    "start_time": "2023-04-12T06:56:05.898Z"
   },
   {
    "duration": 6,
    "start_time": "2023-04-12T06:56:06.510Z"
   },
   {
    "duration": 5,
    "start_time": "2023-04-12T06:56:07.348Z"
   },
   {
    "duration": 644,
    "start_time": "2023-04-15T14:53:58.015Z"
   },
   {
    "duration": 98,
    "start_time": "2023-04-15T14:54:02.714Z"
   },
   {
    "duration": 14,
    "start_time": "2023-04-15T14:54:02.918Z"
   },
   {
    "duration": 12,
    "start_time": "2023-04-15T14:54:03.316Z"
   },
   {
    "duration": 7,
    "start_time": "2023-04-15T14:54:04.151Z"
   },
   {
    "duration": 15,
    "start_time": "2023-04-15T14:54:04.711Z"
   },
   {
    "duration": 15,
    "start_time": "2023-04-15T14:54:05.266Z"
   },
   {
    "duration": 685,
    "start_time": "2023-04-15T14:54:05.875Z"
   },
   {
    "duration": 360,
    "start_time": "2023-04-15T14:54:06.562Z"
   },
   {
    "duration": 7220,
    "start_time": "2023-04-17T14:30:25.635Z"
   },
   {
    "duration": 874,
    "start_time": "2023-04-17T14:30:32.862Z"
   },
   {
    "duration": 23,
    "start_time": "2023-04-17T14:30:33.742Z"
   },
   {
    "duration": 213,
    "start_time": "2023-04-17T14:30:33.840Z"
   },
   {
    "duration": 222,
    "start_time": "2023-04-17T14:30:34.061Z"
   },
   {
    "duration": 218,
    "start_time": "2023-04-17T14:30:34.340Z"
   },
   {
    "duration": 140,
    "start_time": "2023-04-17T14:30:34.637Z"
   },
   {
    "duration": 4450,
    "start_time": "2023-04-17T14:30:34.834Z"
   },
   {
    "duration": 2665,
    "start_time": "2023-04-17T14:30:39.286Z"
   },
   {
    "duration": 108,
    "start_time": "2023-04-17T14:30:41.964Z"
   },
   {
    "duration": 110,
    "start_time": "2023-04-17T14:30:42.136Z"
   },
   {
    "duration": 997,
    "start_time": "2023-04-17T14:30:42.252Z"
   },
   {
    "duration": 385,
    "start_time": "2023-04-17T14:30:43.252Z"
   },
   {
    "duration": 112,
    "start_time": "2023-04-17T14:30:43.641Z"
   },
   {
    "duration": 404,
    "start_time": "2023-04-17T14:30:43.759Z"
   },
   {
    "duration": 100,
    "start_time": "2023-04-17T14:30:44.241Z"
   },
   {
    "duration": 67,
    "start_time": "2023-04-17T14:30:44.378Z"
   },
   {
    "duration": 1402,
    "start_time": "2023-04-17T14:30:44.447Z"
   },
   {
    "duration": 97,
    "start_time": "2023-04-17T14:30:45.855Z"
   },
   {
    "duration": 130,
    "start_time": "2023-04-17T14:30:45.956Z"
   },
   {
    "duration": 150,
    "start_time": "2023-04-17T14:30:46.087Z"
   },
   {
    "duration": 298,
    "start_time": "2023-04-17T14:30:46.238Z"
   },
   {
    "duration": 800,
    "start_time": "2023-04-17T14:30:46.537Z"
   },
   {
    "duration": 101,
    "start_time": "2023-04-17T14:30:47.346Z"
   },
   {
    "duration": 202,
    "start_time": "2023-04-17T14:30:47.451Z"
   },
   {
    "duration": 281,
    "start_time": "2023-04-17T14:30:47.660Z"
   },
   {
    "duration": 198,
    "start_time": "2023-04-17T14:30:47.945Z"
   },
   {
    "duration": 299,
    "start_time": "2023-04-17T14:30:48.149Z"
   },
   {
    "duration": 11,
    "start_time": "2023-04-17T14:30:48.453Z"
   },
   {
    "duration": 181,
    "start_time": "2023-04-17T14:30:48.467Z"
   },
   {
    "duration": 190,
    "start_time": "2023-04-17T14:30:48.654Z"
   },
   {
    "duration": 90,
    "start_time": "2023-04-17T14:30:48.852Z"
   },
   {
    "duration": 1513,
    "start_time": "2023-04-17T14:30:48.944Z"
   },
   {
    "duration": 74,
    "start_time": "2023-04-17T14:30:50.464Z"
   },
   {
    "duration": 222,
    "start_time": "2023-04-17T14:30:50.546Z"
   },
   {
    "duration": 397,
    "start_time": "2023-04-17T14:30:50.769Z"
   },
   {
    "duration": 20,
    "start_time": "2023-04-17T14:30:51.234Z"
   },
   {
    "duration": 98,
    "start_time": "2023-04-17T14:30:51.258Z"
   },
   {
    "duration": 95,
    "start_time": "2023-04-17T14:30:51.358Z"
   },
   {
    "duration": 105,
    "start_time": "2023-04-17T14:30:51.457Z"
   },
   {
    "duration": 106,
    "start_time": "2023-04-17T14:30:51.572Z"
   },
   {
    "duration": 7522,
    "start_time": "2023-04-17T14:30:51.736Z"
   },
   {
    "duration": 16,
    "start_time": "2023-04-17T14:30:59.334Z"
   },
   {
    "duration": 207,
    "start_time": "2023-04-17T14:30:59.351Z"
   },
   {
    "duration": 13,
    "start_time": "2023-04-17T14:30:59.637Z"
   },
   {
    "duration": 99,
    "start_time": "2023-04-17T14:30:59.655Z"
   },
   {
    "duration": 291,
    "start_time": "2023-04-17T14:30:59.759Z"
   },
   {
    "duration": 191,
    "start_time": "2023-04-17T14:31:00.056Z"
   },
   {
    "duration": 812,
    "start_time": "2023-04-17T14:31:00.252Z"
   },
   {
    "duration": 7,
    "start_time": "2023-04-17T14:31:01.140Z"
   },
   {
    "duration": 201,
    "start_time": "2023-04-17T14:31:01.149Z"
   },
   {
    "duration": 486,
    "start_time": "2023-04-17T14:31:01.352Z"
   },
   {
    "duration": 115,
    "start_time": "2023-04-17T14:31:01.841Z"
   },
   {
    "duration": 306,
    "start_time": "2023-04-17T14:31:02.038Z"
   },
   {
    "duration": 92,
    "start_time": "2023-04-17T14:31:02.350Z"
   },
   {
    "duration": 198,
    "start_time": "2023-04-17T14:31:02.447Z"
   },
   {
    "duration": 14103,
    "start_time": "2023-04-17T14:31:02.650Z"
   },
   {
    "duration": 1397,
    "start_time": "2023-04-17T14:31:16.756Z"
   },
   {
    "duration": 74,
    "start_time": "2023-04-17T14:31:18.168Z"
   },
   {
    "duration": 200,
    "start_time": "2023-04-17T14:31:18.243Z"
   },
   {
    "duration": 197,
    "start_time": "2023-04-17T14:31:18.444Z"
   },
   {
    "duration": 115,
    "start_time": "2023-04-17T14:31:18.642Z"
   },
   {
    "duration": 607,
    "start_time": "2023-04-17T14:31:18.766Z"
   },
   {
    "duration": 75,
    "start_time": "2023-04-17T14:31:19.374Z"
   },
   {
    "duration": 100,
    "start_time": "2023-04-17T14:31:19.451Z"
   },
   {
    "duration": 280,
    "start_time": "2023-04-17T14:31:19.559Z"
   },
   {
    "duration": 3095,
    "start_time": "2023-04-17T14:31:19.841Z"
   },
   {
    "duration": 15,
    "start_time": "2023-04-17T14:31:22.938Z"
   },
   {
    "duration": 179,
    "start_time": "2023-04-17T14:31:22.962Z"
   },
   {
    "duration": 191,
    "start_time": "2023-04-17T14:31:23.143Z"
   },
   {
    "duration": 207,
    "start_time": "2023-04-17T14:31:23.336Z"
   },
   {
    "duration": 295,
    "start_time": "2023-04-17T14:31:23.550Z"
   },
   {
    "duration": 206,
    "start_time": "2023-04-17T14:31:23.846Z"
   },
   {
    "duration": 282,
    "start_time": "2023-04-17T14:31:24.056Z"
   },
   {
    "duration": 204,
    "start_time": "2023-04-17T14:31:24.339Z"
   },
   {
    "duration": 193,
    "start_time": "2023-04-17T14:31:24.548Z"
   },
   {
    "duration": 295,
    "start_time": "2023-04-17T14:31:24.742Z"
   },
   {
    "duration": 221,
    "start_time": "2023-04-17T14:31:25.038Z"
   },
   {
    "duration": 176,
    "start_time": "2023-04-17T14:31:25.276Z"
   },
   {
    "duration": 188,
    "start_time": "2023-04-17T14:31:25.458Z"
   },
   {
    "duration": 205,
    "start_time": "2023-04-17T14:31:25.649Z"
   },
   {
    "duration": 95,
    "start_time": "2023-04-17T14:31:25.859Z"
   },
   {
    "duration": 93,
    "start_time": "2023-04-17T14:31:25.955Z"
   },
   {
    "duration": 284,
    "start_time": "2023-04-17T14:31:26.056Z"
   },
   {
    "duration": 107,
    "start_time": "2023-04-17T14:31:26.342Z"
   },
   {
    "duration": 94,
    "start_time": "2023-04-17T14:31:26.457Z"
   },
   {
    "duration": 411,
    "start_time": "2023-04-17T14:31:26.557Z"
   },
   {
    "duration": 132,
    "start_time": "2023-04-17T14:31:27.034Z"
   },
   {
    "duration": 121,
    "start_time": "2023-04-17T14:31:27.236Z"
   },
   {
    "duration": 310,
    "start_time": "2023-04-17T14:31:27.360Z"
   },
   {
    "duration": 119,
    "start_time": "2023-04-17T14:31:27.735Z"
   },
   {
    "duration": 87,
    "start_time": "2023-04-17T14:31:27.860Z"
   },
   {
    "duration": 109,
    "start_time": "2023-04-17T14:31:27.952Z"
   },
   {
    "duration": 136,
    "start_time": "2023-04-17T14:31:28.133Z"
   },
   {
    "duration": 164,
    "start_time": "2023-04-17T14:31:28.277Z"
   },
   {
    "duration": 129,
    "start_time": "2023-04-17T14:31:28.443Z"
   },
   {
    "duration": 260,
    "start_time": "2023-04-17T14:31:28.573Z"
   },
   {
    "duration": 396,
    "start_time": "2023-04-17T14:31:28.837Z"
   },
   {
    "duration": 5,
    "start_time": "2023-04-17T14:31:29.241Z"
   },
   {
    "duration": 191,
    "start_time": "2023-04-17T14:31:29.251Z"
   },
   {
    "duration": 99,
    "start_time": "2023-04-17T14:31:29.449Z"
   },
   {
    "duration": 188,
    "start_time": "2023-04-17T14:31:29.555Z"
   },
   {
    "duration": 15806,
    "start_time": "2023-04-17T14:31:29.746Z"
   },
   {
    "duration": 3615,
    "start_time": "2023-04-17T14:42:34.836Z"
   },
   {
    "duration": 3302,
    "start_time": "2023-04-17T14:43:24.834Z"
   },
   {
    "duration": 1,
    "start_time": "2023-04-17T14:43:28.137Z"
   },
   {
    "duration": 0,
    "start_time": "2023-04-17T14:43:28.138Z"
   },
   {
    "duration": 47,
    "start_time": "2023-04-17T14:43:28.492Z"
   },
   {
    "duration": 17,
    "start_time": "2023-04-17T14:44:02.234Z"
   },
   {
    "duration": 3815,
    "start_time": "2023-04-17T14:52:19.937Z"
   },
   {
    "duration": 6,
    "start_time": "2023-04-17T14:52:25.035Z"
   },
   {
    "duration": 8,
    "start_time": "2023-04-17T14:52:25.835Z"
   },
   {
    "duration": 4,
    "start_time": "2023-04-17T14:52:26.335Z"
   },
   {
    "duration": 1403,
    "start_time": "2023-04-17T14:52:41.746Z"
   },
   {
    "duration": 50,
    "start_time": "2023-04-18T12:40:46.755Z"
   },
   {
    "duration": 874,
    "start_time": "2023-04-18T12:56:09.736Z"
   },
   {
    "duration": 220,
    "start_time": "2023-04-18T12:56:10.613Z"
   },
   {
    "duration": 17,
    "start_time": "2023-04-18T12:56:10.835Z"
   },
   {
    "duration": 14,
    "start_time": "2023-04-18T12:56:10.853Z"
   },
   {
    "duration": 23,
    "start_time": "2023-04-18T12:56:10.869Z"
   },
   {
    "duration": 25,
    "start_time": "2023-04-18T12:56:10.896Z"
   },
   {
    "duration": 19,
    "start_time": "2023-04-18T12:56:10.923Z"
   },
   {
    "duration": 880,
    "start_time": "2023-04-18T12:56:10.944Z"
   },
   {
    "duration": 477,
    "start_time": "2023-04-18T12:56:11.826Z"
   },
   {
    "duration": 24,
    "start_time": "2023-04-18T12:56:12.309Z"
   },
   {
    "duration": 13,
    "start_time": "2023-04-18T12:56:12.334Z"
   },
   {
    "duration": 192,
    "start_time": "2023-04-18T12:56:12.348Z"
   },
   {
    "duration": 114,
    "start_time": "2023-04-18T12:56:12.542Z"
   },
   {
    "duration": 31,
    "start_time": "2023-04-18T12:56:12.660Z"
   },
   {
    "duration": 19,
    "start_time": "2023-04-18T12:56:12.693Z"
   },
   {
    "duration": 6,
    "start_time": "2023-04-18T12:56:12.714Z"
   },
   {
    "duration": 11,
    "start_time": "2023-04-18T12:56:12.721Z"
   },
   {
    "duration": 408,
    "start_time": "2023-04-18T12:56:12.733Z"
   },
   {
    "duration": 9,
    "start_time": "2023-04-18T12:56:13.143Z"
   },
   {
    "duration": 4,
    "start_time": "2023-04-18T12:56:13.154Z"
   },
   {
    "duration": 5,
    "start_time": "2023-04-18T12:56:13.159Z"
   },
   {
    "duration": 52,
    "start_time": "2023-04-18T12:56:13.166Z"
   },
   {
    "duration": 112,
    "start_time": "2023-04-18T12:56:13.220Z"
   },
   {
    "duration": 19,
    "start_time": "2023-04-18T12:56:13.334Z"
   },
   {
    "duration": 14,
    "start_time": "2023-04-18T12:56:13.355Z"
   },
   {
    "duration": 12,
    "start_time": "2023-04-18T12:56:13.371Z"
   },
   {
    "duration": 6,
    "start_time": "2023-04-18T12:56:13.385Z"
   },
   {
    "duration": 113,
    "start_time": "2023-04-18T12:56:13.392Z"
   },
   {
    "duration": 8,
    "start_time": "2023-04-18T12:56:13.507Z"
   },
   {
    "duration": 12,
    "start_time": "2023-04-18T12:56:13.517Z"
   },
   {
    "duration": 15,
    "start_time": "2023-04-18T12:56:13.531Z"
   },
   {
    "duration": 4,
    "start_time": "2023-04-18T12:56:13.548Z"
   },
   {
    "duration": 284,
    "start_time": "2023-04-18T12:56:13.554Z"
   },
   {
    "duration": 3,
    "start_time": "2023-04-18T12:56:13.840Z"
   },
   {
    "duration": 11,
    "start_time": "2023-04-18T12:56:13.845Z"
   },
   {
    "duration": 162,
    "start_time": "2023-04-18T12:56:13.858Z"
   },
   {
    "duration": 10,
    "start_time": "2023-04-18T12:56:14.021Z"
   },
   {
    "duration": 20,
    "start_time": "2023-04-18T12:56:14.033Z"
   },
   {
    "duration": 8,
    "start_time": "2023-04-18T12:56:14.055Z"
   },
   {
    "duration": 22,
    "start_time": "2023-04-18T12:56:14.064Z"
   },
   {
    "duration": 12,
    "start_time": "2023-04-18T12:56:14.092Z"
   },
   {
    "duration": 1719,
    "start_time": "2023-04-18T12:56:14.105Z"
   },
   {
    "duration": 5,
    "start_time": "2023-04-18T12:56:15.826Z"
   },
   {
    "duration": 15,
    "start_time": "2023-04-18T12:56:15.832Z"
   },
   {
    "duration": 29,
    "start_time": "2023-04-18T12:56:15.849Z"
   },
   {
    "duration": 4,
    "start_time": "2023-04-18T12:56:15.880Z"
   },
   {
    "duration": 28,
    "start_time": "2023-04-18T12:56:15.886Z"
   },
   {
    "duration": 10,
    "start_time": "2023-04-18T12:56:15.915Z"
   },
   {
    "duration": 148,
    "start_time": "2023-04-18T12:56:15.927Z"
   },
   {
    "duration": 5,
    "start_time": "2023-04-18T12:56:16.076Z"
   },
   {
    "duration": 19,
    "start_time": "2023-04-18T12:56:16.083Z"
   },
   {
    "duration": 116,
    "start_time": "2023-04-18T12:56:16.104Z"
   },
   {
    "duration": 14,
    "start_time": "2023-04-18T12:56:16.221Z"
   },
   {
    "duration": 18,
    "start_time": "2023-04-18T12:56:16.237Z"
   },
   {
    "duration": 9,
    "start_time": "2023-04-18T12:56:16.256Z"
   },
   {
    "duration": 53,
    "start_time": "2023-04-18T12:56:16.267Z"
   },
   {
    "duration": 2836,
    "start_time": "2023-04-18T12:56:16.322Z"
   },
   {
    "duration": 441,
    "start_time": "2023-04-18T12:56:19.159Z"
   },
   {
    "duration": 10,
    "start_time": "2023-04-18T12:56:19.602Z"
   },
   {
    "duration": 9,
    "start_time": "2023-04-18T12:56:19.614Z"
   },
   {
    "duration": 6,
    "start_time": "2023-04-18T12:56:19.624Z"
   },
   {
    "duration": 15,
    "start_time": "2023-04-18T12:56:19.632Z"
   },
   {
    "duration": 89,
    "start_time": "2023-04-18T12:56:19.649Z"
   },
   {
    "duration": 14,
    "start_time": "2023-04-18T12:56:19.740Z"
   },
   {
    "duration": 15,
    "start_time": "2023-04-18T12:56:19.756Z"
   },
   {
    "duration": 11,
    "start_time": "2023-04-18T12:56:19.773Z"
   },
   {
    "duration": 770,
    "start_time": "2023-04-18T12:56:19.786Z"
   },
   {
    "duration": 11,
    "start_time": "2023-04-18T12:56:20.595Z"
   },
   {
    "duration": 5,
    "start_time": "2023-04-18T12:56:20.608Z"
   },
   {
    "duration": 24,
    "start_time": "2023-04-18T12:56:20.615Z"
   },
   {
    "duration": 14,
    "start_time": "2023-04-18T12:56:20.642Z"
   },
   {
    "duration": 9,
    "start_time": "2023-04-18T12:56:20.658Z"
   },
   {
    "duration": 34,
    "start_time": "2023-04-18T12:56:20.669Z"
   },
   {
    "duration": 13,
    "start_time": "2023-04-18T12:56:20.705Z"
   },
   {
    "duration": 8,
    "start_time": "2023-04-18T12:56:20.720Z"
   },
   {
    "duration": 5,
    "start_time": "2023-04-18T12:56:20.730Z"
   },
   {
    "duration": 14,
    "start_time": "2023-04-18T12:56:20.737Z"
   },
   {
    "duration": 5,
    "start_time": "2023-04-18T12:56:20.753Z"
   },
   {
    "duration": 38,
    "start_time": "2023-04-18T12:56:20.760Z"
   },
   {
    "duration": 9,
    "start_time": "2023-04-18T12:56:20.801Z"
   },
   {
    "duration": 6,
    "start_time": "2023-04-18T12:56:20.812Z"
   },
   {
    "duration": 11,
    "start_time": "2023-04-18T12:56:20.820Z"
   },
   {
    "duration": 25,
    "start_time": "2023-04-18T12:56:20.833Z"
   },
   {
    "duration": 13,
    "start_time": "2023-04-18T12:56:20.860Z"
   },
   {
    "duration": 26,
    "start_time": "2023-04-18T12:56:20.875Z"
   },
   {
    "duration": 16,
    "start_time": "2023-04-18T12:56:20.903Z"
   },
   {
    "duration": 17,
    "start_time": "2023-04-18T12:56:20.920Z"
   },
   {
    "duration": 13,
    "start_time": "2023-04-18T12:56:20.938Z"
   },
   {
    "duration": 21,
    "start_time": "2023-04-18T12:56:20.953Z"
   },
   {
    "duration": 28,
    "start_time": "2023-04-18T12:56:21.001Z"
   },
   {
    "duration": 4,
    "start_time": "2023-04-18T12:56:21.031Z"
   },
   {
    "duration": 24,
    "start_time": "2023-04-18T12:56:21.037Z"
   },
   {
    "duration": 5,
    "start_time": "2023-04-18T12:56:21.063Z"
   },
   {
    "duration": 47,
    "start_time": "2023-04-18T12:56:21.070Z"
   },
   {
    "duration": 35,
    "start_time": "2023-04-18T12:56:21.119Z"
   },
   {
    "duration": 8,
    "start_time": "2023-04-18T12:56:21.155Z"
   },
   {
    "duration": 29,
    "start_time": "2023-04-18T12:56:21.164Z"
   },
   {
    "duration": 43,
    "start_time": "2023-04-18T12:56:21.196Z"
   },
   {
    "duration": 52,
    "start_time": "2023-04-18T12:56:21.241Z"
   },
   {
    "duration": 5,
    "start_time": "2023-04-18T12:56:21.295Z"
   },
   {
    "duration": 25,
    "start_time": "2023-04-18T12:56:21.302Z"
   },
   {
    "duration": 14,
    "start_time": "2023-04-18T12:56:21.329Z"
   },
   {
    "duration": 16,
    "start_time": "2023-04-18T12:56:21.345Z"
   },
   {
    "duration": 3114,
    "start_time": "2023-04-18T12:56:21.363Z"
   },
   {
    "duration": 243,
    "start_time": "2023-04-18T12:56:24.479Z"
   },
   {
    "duration": 5,
    "start_time": "2023-04-18T12:56:24.724Z"
   },
   {
    "duration": 9,
    "start_time": "2023-04-18T12:56:24.730Z"
   },
   {
    "duration": 9,
    "start_time": "2023-04-18T12:56:24.740Z"
   },
   {
    "duration": 112,
    "start_time": "2023-04-18T12:56:24.750Z"
   },
   {
    "duration": 292416,
    "start_time": "2023-04-18T12:56:24.865Z"
   },
   {
    "duration": 3,
    "start_time": "2023-04-18T13:01:17.283Z"
   },
   {
    "duration": 966,
    "start_time": "2023-04-18T15:23:52.015Z"
   },
   {
    "duration": 496,
    "start_time": "2023-04-18T15:23:52.984Z"
   },
   {
    "duration": 18,
    "start_time": "2023-04-18T15:23:53.482Z"
   },
   {
    "duration": 15,
    "start_time": "2023-04-18T15:23:53.502Z"
   },
   {
    "duration": 9,
    "start_time": "2023-04-18T15:23:53.519Z"
   },
   {
    "duration": 26,
    "start_time": "2023-04-18T15:23:53.530Z"
   },
   {
    "duration": 52,
    "start_time": "2023-04-18T15:23:53.558Z"
   },
   {
    "duration": 928,
    "start_time": "2023-04-18T15:23:53.612Z"
   },
   {
    "duration": 500,
    "start_time": "2023-04-18T15:23:54.542Z"
   },
   {
    "duration": 24,
    "start_time": "2023-04-18T15:23:55.043Z"
   },
   {
    "duration": 29,
    "start_time": "2023-04-18T15:23:55.069Z"
   },
   {
    "duration": 191,
    "start_time": "2023-04-18T15:23:55.100Z"
   },
   {
    "duration": 118,
    "start_time": "2023-04-18T15:23:55.294Z"
   },
   {
    "duration": 26,
    "start_time": "2023-04-18T15:23:55.417Z"
   },
   {
    "duration": 15,
    "start_time": "2023-04-18T15:23:55.445Z"
   },
   {
    "duration": 7,
    "start_time": "2023-04-18T15:23:55.462Z"
   },
   {
    "duration": 6,
    "start_time": "2023-04-18T15:23:55.471Z"
   },
   {
    "duration": 416,
    "start_time": "2023-04-18T15:23:55.490Z"
   },
   {
    "duration": 12,
    "start_time": "2023-04-18T15:23:55.908Z"
   },
   {
    "duration": 3,
    "start_time": "2023-04-18T15:23:55.922Z"
   },
   {
    "duration": 6,
    "start_time": "2023-04-18T15:23:55.926Z"
   },
   {
    "duration": 24,
    "start_time": "2023-04-18T15:23:55.933Z"
   },
   {
    "duration": 116,
    "start_time": "2023-04-18T15:23:55.989Z"
   },
   {
    "duration": 20,
    "start_time": "2023-04-18T15:23:56.107Z"
   },
   {
    "duration": 16,
    "start_time": "2023-04-18T15:23:56.129Z"
   },
   {
    "duration": 8,
    "start_time": "2023-04-18T15:23:56.147Z"
   },
   {
    "duration": 7,
    "start_time": "2023-04-18T15:23:56.157Z"
   },
   {
    "duration": 117,
    "start_time": "2023-04-18T15:23:56.166Z"
   },
   {
    "duration": 9,
    "start_time": "2023-04-18T15:23:56.285Z"
   },
   {
    "duration": 15,
    "start_time": "2023-04-18T15:23:56.296Z"
   },
   {
    "duration": 18,
    "start_time": "2023-04-18T15:23:56.313Z"
   },
   {
    "duration": 6,
    "start_time": "2023-04-18T15:23:56.333Z"
   },
   {
    "duration": 295,
    "start_time": "2023-04-18T15:23:56.340Z"
   },
   {
    "duration": 3,
    "start_time": "2023-04-18T15:23:56.637Z"
   },
   {
    "duration": 17,
    "start_time": "2023-04-18T15:23:56.642Z"
   },
   {
    "duration": 202,
    "start_time": "2023-04-18T15:23:56.661Z"
   },
   {
    "duration": 11,
    "start_time": "2023-04-18T15:23:56.865Z"
   },
   {
    "duration": 18,
    "start_time": "2023-04-18T15:23:56.878Z"
   },
   {
    "duration": 8,
    "start_time": "2023-04-18T15:23:56.898Z"
   },
   {
    "duration": 35,
    "start_time": "2023-04-18T15:23:56.907Z"
   },
   {
    "duration": 12,
    "start_time": "2023-04-18T15:23:56.949Z"
   },
   {
    "duration": 1703,
    "start_time": "2023-04-18T15:23:56.962Z"
   },
   {
    "duration": 5,
    "start_time": "2023-04-18T15:23:58.667Z"
   },
   {
    "duration": 20,
    "start_time": "2023-04-18T15:23:58.674Z"
   },
   {
    "duration": 8,
    "start_time": "2023-04-18T15:23:58.696Z"
   },
   {
    "duration": 15,
    "start_time": "2023-04-18T15:23:58.706Z"
   },
   {
    "duration": 17,
    "start_time": "2023-04-18T15:23:58.723Z"
   },
   {
    "duration": 7,
    "start_time": "2023-04-18T15:23:58.742Z"
   },
   {
    "duration": 174,
    "start_time": "2023-04-18T15:23:58.750Z"
   },
   {
    "duration": 3,
    "start_time": "2023-04-18T15:23:58.926Z"
   },
   {
    "duration": 27,
    "start_time": "2023-04-18T15:23:58.931Z"
   },
   {
    "duration": 102,
    "start_time": "2023-04-18T15:23:58.960Z"
   },
   {
    "duration": 15,
    "start_time": "2023-04-18T15:23:59.064Z"
   },
   {
    "duration": 18,
    "start_time": "2023-04-18T15:23:59.081Z"
   },
   {
    "duration": 9,
    "start_time": "2023-04-18T15:23:59.101Z"
   },
   {
    "duration": 39,
    "start_time": "2023-04-18T15:23:59.112Z"
   },
   {
    "duration": 3136,
    "start_time": "2023-04-18T15:23:59.153Z"
   },
   {
    "duration": 422,
    "start_time": "2023-04-18T15:24:02.291Z"
   },
   {
    "duration": 10,
    "start_time": "2023-04-18T15:24:02.715Z"
   },
   {
    "duration": 11,
    "start_time": "2023-04-18T15:24:02.727Z"
   },
   {
    "duration": 15,
    "start_time": "2023-04-18T15:24:02.740Z"
   },
   {
    "duration": 19,
    "start_time": "2023-04-18T15:24:02.757Z"
   },
   {
    "duration": 98,
    "start_time": "2023-04-18T15:24:02.788Z"
   },
   {
    "duration": 16,
    "start_time": "2023-04-18T15:24:02.888Z"
   },
   {
    "duration": 23,
    "start_time": "2023-04-18T15:24:02.906Z"
   },
   {
    "duration": 18,
    "start_time": "2023-04-18T15:24:02.931Z"
   },
   {
    "duration": 600,
    "start_time": "2023-04-18T15:24:02.951Z"
   },
   {
    "duration": 11,
    "start_time": "2023-04-18T15:24:03.553Z"
   },
   {
    "duration": 23,
    "start_time": "2023-04-18T15:24:03.566Z"
   },
   {
    "duration": 40,
    "start_time": "2023-04-18T15:24:03.591Z"
   },
   {
    "duration": 28,
    "start_time": "2023-04-18T15:24:03.633Z"
   },
   {
    "duration": 4,
    "start_time": "2023-04-18T15:24:03.663Z"
   },
   {
    "duration": 17,
    "start_time": "2023-04-18T15:24:03.669Z"
   },
   {
    "duration": 5,
    "start_time": "2023-04-18T15:24:03.688Z"
   },
   {
    "duration": 7,
    "start_time": "2023-04-18T15:24:03.695Z"
   },
   {
    "duration": 5,
    "start_time": "2023-04-18T15:24:03.704Z"
   },
   {
    "duration": 15,
    "start_time": "2023-04-18T15:24:03.711Z"
   },
   {
    "duration": 13,
    "start_time": "2023-04-18T15:24:03.727Z"
   },
   {
    "duration": 48,
    "start_time": "2023-04-18T15:24:03.742Z"
   },
   {
    "duration": 9,
    "start_time": "2023-04-18T15:24:03.792Z"
   },
   {
    "duration": 7,
    "start_time": "2023-04-18T15:24:03.803Z"
   },
   {
    "duration": 12,
    "start_time": "2023-04-18T15:24:03.812Z"
   },
   {
    "duration": 5,
    "start_time": "2023-04-18T15:24:03.826Z"
   },
   {
    "duration": 15,
    "start_time": "2023-04-18T15:24:03.833Z"
   },
   {
    "duration": 8,
    "start_time": "2023-04-18T15:24:03.897Z"
   },
   {
    "duration": 23,
    "start_time": "2023-04-18T15:24:03.907Z"
   },
   {
    "duration": 17,
    "start_time": "2023-04-18T15:24:03.933Z"
   },
   {
    "duration": 15,
    "start_time": "2023-04-18T15:24:03.952Z"
   },
   {
    "duration": 40,
    "start_time": "2023-04-18T15:24:03.969Z"
   },
   {
    "duration": 22,
    "start_time": "2023-04-18T15:24:04.011Z"
   },
   {
    "duration": 15,
    "start_time": "2023-04-18T15:24:04.035Z"
   },
   {
    "duration": 56,
    "start_time": "2023-04-18T15:24:04.053Z"
   },
   {
    "duration": 5,
    "start_time": "2023-04-18T15:24:04.112Z"
   },
   {
    "duration": 35,
    "start_time": "2023-04-18T15:24:04.119Z"
   },
   {
    "duration": 41,
    "start_time": "2023-04-18T15:24:04.155Z"
   },
   {
    "duration": 6,
    "start_time": "2023-04-18T15:24:04.198Z"
   },
   {
    "duration": 8,
    "start_time": "2023-04-18T15:24:04.207Z"
   },
   {
    "duration": 17,
    "start_time": "2023-04-18T15:24:04.217Z"
   },
   {
    "duration": 74,
    "start_time": "2023-04-18T15:24:04.235Z"
   },
   {
    "duration": 4,
    "start_time": "2023-04-18T15:24:04.311Z"
   },
   {
    "duration": 25,
    "start_time": "2023-04-18T15:24:04.317Z"
   },
   {
    "duration": 12,
    "start_time": "2023-04-18T15:24:04.344Z"
   },
   {
    "duration": 8,
    "start_time": "2023-04-18T15:24:04.389Z"
   },
   {
    "duration": 3095,
    "start_time": "2023-04-18T15:24:04.399Z"
   },
   {
    "duration": 395,
    "start_time": "2023-04-18T15:24:07.496Z"
   },
   {
    "duration": 6,
    "start_time": "2023-04-18T15:24:07.894Z"
   },
   {
    "duration": 24,
    "start_time": "2023-04-18T15:24:07.903Z"
   },
   {
    "duration": 31,
    "start_time": "2023-04-18T15:24:07.929Z"
   },
   {
    "duration": 100,
    "start_time": "2023-04-18T15:24:07.962Z"
   },
   {
    "duration": 346152,
    "start_time": "2023-04-18T15:24:08.064Z"
   },
   {
    "duration": 4,
    "start_time": "2023-04-18T15:29:54.218Z"
   },
   {
    "duration": 1123373,
    "start_time": "2023-04-18T15:29:54.225Z"
   },
   {
    "duration": 3,
    "start_time": "2023-04-18T15:48:37.600Z"
   },
   {
    "duration": 323731,
    "start_time": "2023-04-18T15:48:37.605Z"
   },
   {
    "duration": 4,
    "start_time": "2023-04-18T15:54:01.338Z"
   },
   {
    "duration": 131851,
    "start_time": "2023-04-18T15:54:01.343Z"
   },
   {
    "duration": 4,
    "start_time": "2023-04-18T15:56:13.196Z"
   },
   {
    "duration": 57895,
    "start_time": "2023-04-18T15:56:13.202Z"
   },
   {
    "duration": 91,
    "start_time": "2023-04-18T15:57:11.099Z"
   },
   {
    "duration": 98,
    "start_time": "2023-04-18T15:57:11.192Z"
   },
   {
    "duration": 11,
    "start_time": "2023-04-18T15:57:11.292Z"
   },
   {
    "duration": 301,
    "start_time": "2023-04-18T15:57:11.311Z"
   },
   {
    "duration": 7,
    "start_time": "2023-04-18T15:57:11.614Z"
   },
   {
    "duration": 2312,
    "start_time": "2023-04-18T21:22:44.537Z"
   },
   {
    "duration": 218,
    "start_time": "2023-04-18T21:22:46.855Z"
   },
   {
    "duration": 38,
    "start_time": "2023-04-18T21:22:47.135Z"
   },
   {
    "duration": 127,
    "start_time": "2023-04-18T21:22:47.235Z"
   },
   {
    "duration": 76,
    "start_time": "2023-04-18T21:22:47.367Z"
   },
   {
    "duration": 112,
    "start_time": "2023-04-18T21:22:47.449Z"
   },
   {
    "duration": 28,
    "start_time": "2023-04-18T21:22:47.935Z"
   },
   {
    "duration": 4206,
    "start_time": "2023-04-18T21:22:48.251Z"
   },
   {
    "duration": 1679,
    "start_time": "2023-04-18T21:22:52.459Z"
   },
   {
    "duration": 108,
    "start_time": "2023-04-18T21:23:14.143Z"
   },
   {
    "duration": 18,
    "start_time": "2023-04-18T21:23:14.939Z"
   },
   {
    "duration": 629,
    "start_time": "2023-04-18T21:23:16.734Z"
   },
   {
    "duration": 117,
    "start_time": "2023-04-18T21:23:18.028Z"
   },
   {
    "duration": 229,
    "start_time": "2023-04-18T21:23:18.240Z"
   },
   {
    "duration": 205,
    "start_time": "2023-04-18T21:23:18.546Z"
   },
   {
    "duration": 194,
    "start_time": "2023-04-18T21:23:18.756Z"
   },
   {
    "duration": 195,
    "start_time": "2023-04-18T21:23:18.960Z"
   },
   {
    "duration": 1388,
    "start_time": "2023-04-18T21:23:19.260Z"
   },
   {
    "duration": 81,
    "start_time": "2023-04-18T21:23:20.658Z"
   },
   {
    "duration": 201,
    "start_time": "2023-04-18T21:23:20.741Z"
   },
   {
    "duration": 227,
    "start_time": "2023-04-18T21:23:20.946Z"
   },
   {
    "duration": 135,
    "start_time": "2023-04-18T21:23:21.235Z"
   },
   {
    "duration": 303,
    "start_time": "2023-04-18T21:23:21.471Z"
   },
   {
    "duration": 103,
    "start_time": "2023-04-18T21:23:21.839Z"
   },
   {
    "duration": 84,
    "start_time": "2023-04-18T21:23:22.077Z"
   },
   {
    "duration": 108,
    "start_time": "2023-04-18T21:23:22.342Z"
   },
   {
    "duration": 323,
    "start_time": "2023-04-18T21:23:22.454Z"
   },
   {
    "duration": 290,
    "start_time": "2023-04-18T21:23:23.351Z"
   },
   {
    "duration": 18,
    "start_time": "2023-04-18T21:23:23.645Z"
   },
   {
    "duration": 122,
    "start_time": "2023-04-18T21:23:23.744Z"
   },
   {
    "duration": 122,
    "start_time": "2023-04-18T21:23:23.942Z"
   },
   {
    "duration": 107,
    "start_time": "2023-04-18T21:23:24.135Z"
   },
   {
    "duration": 1527,
    "start_time": "2023-04-18T21:23:24.244Z"
   },
   {
    "duration": 65,
    "start_time": "2023-04-18T21:23:25.776Z"
   },
   {
    "duration": 305,
    "start_time": "2023-04-18T21:23:25.842Z"
   },
   {
    "duration": 404,
    "start_time": "2023-04-18T21:23:26.151Z"
   },
   {
    "duration": 203,
    "start_time": "2023-04-18T21:23:26.561Z"
   },
   {
    "duration": 96,
    "start_time": "2023-04-18T21:23:26.766Z"
   },
   {
    "duration": 274,
    "start_time": "2023-04-18T21:23:26.869Z"
   },
   {
    "duration": 234,
    "start_time": "2023-04-18T21:23:27.147Z"
   },
   {
    "duration": 148,
    "start_time": "2023-04-18T21:23:27.437Z"
   },
   {
    "duration": 7112,
    "start_time": "2023-04-18T21:23:27.639Z"
   },
   {
    "duration": 9,
    "start_time": "2023-04-18T21:23:34.761Z"
   },
   {
    "duration": 83,
    "start_time": "2023-04-18T21:23:34.772Z"
   },
   {
    "duration": 94,
    "start_time": "2023-04-18T21:23:34.857Z"
   },
   {
    "duration": 86,
    "start_time": "2023-04-18T21:23:34.956Z"
   },
   {
    "duration": 107,
    "start_time": "2023-04-18T21:23:35.046Z"
   },
   {
    "duration": 185,
    "start_time": "2023-04-18T21:23:35.155Z"
   },
   {
    "duration": 831,
    "start_time": "2023-04-18T21:23:35.342Z"
   },
   {
    "duration": 9,
    "start_time": "2023-04-18T21:23:36.245Z"
   },
   {
    "duration": 103,
    "start_time": "2023-04-18T21:23:36.273Z"
   },
   {
    "duration": 404,
    "start_time": "2023-04-18T21:23:36.441Z"
   },
   {
    "duration": 31,
    "start_time": "2023-04-18T21:23:36.851Z"
   },
   {
    "duration": 108,
    "start_time": "2023-04-18T21:23:36.940Z"
   },
   {
    "duration": 191,
    "start_time": "2023-04-18T21:23:37.050Z"
   },
   {
    "duration": 232,
    "start_time": "2023-04-18T21:23:37.242Z"
   },
   {
    "duration": 12814,
    "start_time": "2023-04-18T21:23:37.538Z"
   },
   {
    "duration": 1491,
    "start_time": "2023-04-18T21:23:50.358Z"
   },
   {
    "duration": 78,
    "start_time": "2023-04-18T21:23:51.861Z"
   },
   {
    "duration": 294,
    "start_time": "2023-04-18T21:23:51.947Z"
   },
   {
    "duration": 11,
    "start_time": "2023-04-18T21:23:52.247Z"
   },
   {
    "duration": 283,
    "start_time": "2023-04-18T21:23:52.270Z"
   },
   {
    "duration": 203,
    "start_time": "2023-04-18T21:23:52.566Z"
   },
   {
    "duration": 87,
    "start_time": "2023-04-18T21:23:52.771Z"
   },
   {
    "duration": 173,
    "start_time": "2023-04-18T21:23:52.867Z"
   },
   {
    "duration": 104,
    "start_time": "2023-04-18T21:23:53.048Z"
   },
   {
    "duration": 2725,
    "start_time": "2023-04-18T21:24:11.936Z"
   },
   {
    "duration": 15,
    "start_time": "2023-04-18T21:24:14.734Z"
   },
   {
    "duration": 197,
    "start_time": "2023-04-18T21:24:14.761Z"
   },
   {
    "duration": 101,
    "start_time": "2023-04-18T21:24:15.374Z"
   },
   {
    "duration": 39,
    "start_time": "2023-04-18T21:24:17.034Z"
   },
   {
    "duration": 6,
    "start_time": "2023-04-18T21:24:17.335Z"
   },
   {
    "duration": 23,
    "start_time": "2023-04-18T21:24:18.635Z"
   },
   {
    "duration": 7,
    "start_time": "2023-04-18T21:24:20.938Z"
   },
   {
    "duration": 70,
    "start_time": "2023-04-18T21:24:21.475Z"
   },
   {
    "duration": 23,
    "start_time": "2023-04-18T21:24:21.739Z"
   },
   {
    "duration": 84,
    "start_time": "2023-04-18T21:24:24.276Z"
   },
   {
    "duration": 10,
    "start_time": "2023-04-18T21:24:26.538Z"
   },
   {
    "duration": 41,
    "start_time": "2023-04-18T21:24:26.719Z"
   },
   {
    "duration": 78,
    "start_time": "2023-04-18T21:24:29.367Z"
   },
   {
    "duration": 14,
    "start_time": "2023-04-18T21:24:29.638Z"
   },
   {
    "duration": 33,
    "start_time": "2023-04-18T21:24:30.139Z"
   },
   {
    "duration": 8,
    "start_time": "2023-04-18T21:24:30.675Z"
   },
   {
    "duration": 19,
    "start_time": "2023-04-18T21:24:31.542Z"
   },
   {
    "duration": 114,
    "start_time": "2023-04-18T21:24:31.736Z"
   },
   {
    "duration": 135,
    "start_time": "2023-04-18T21:24:31.935Z"
   },
   {
    "duration": 26,
    "start_time": "2023-04-18T21:24:32.441Z"
   },
   {
    "duration": 104,
    "start_time": "2023-04-18T21:24:34.872Z"
   },
   {
    "duration": 96,
    "start_time": "2023-04-18T21:24:35.447Z"
   },
   {
    "duration": 169,
    "start_time": "2023-04-18T21:24:39.284Z"
   },
   {
    "duration": 6,
    "start_time": "2023-04-18T21:24:39.734Z"
   },
   {
    "duration": 182,
    "start_time": "2023-04-18T21:24:40.255Z"
   },
   {
    "duration": 7,
    "start_time": "2023-04-18T21:24:40.445Z"
   },
   {
    "duration": 214,
    "start_time": "2023-04-18T21:24:41.045Z"
   },
   {
    "duration": 22,
    "start_time": "2023-04-18T21:24:42.436Z"
   },
   {
    "duration": 59,
    "start_time": "2023-04-18T21:24:43.089Z"
   },
   {
    "duration": 11,
    "start_time": "2023-04-18T21:24:44.036Z"
   },
   {
    "duration": 94,
    "start_time": "2023-04-18T21:24:44.380Z"
   },
   {
    "duration": 315,
    "start_time": "2023-04-18T21:24:44.636Z"
   },
   {
    "duration": 65,
    "start_time": "2023-04-18T21:24:47.673Z"
   },
   {
    "duration": 200,
    "start_time": "2023-04-18T21:24:48.275Z"
   },
   {
    "duration": 21,
    "start_time": "2023-04-18T21:24:50.747Z"
   },
   {
    "duration": 12,
    "start_time": "2023-04-18T21:24:52.259Z"
   },
   {
    "duration": 12567,
    "start_time": "2023-04-18T21:24:54.475Z"
   },
   {
    "duration": 2704,
    "start_time": "2023-04-18T21:25:07.045Z"
   },
   {
    "duration": 7,
    "start_time": "2023-04-18T21:25:09.750Z"
   },
   {
    "duration": 310,
    "start_time": "2023-04-18T21:25:09.841Z"
   },
   {
    "duration": 281,
    "start_time": "2023-04-18T21:25:10.162Z"
   },
   {
    "duration": 508,
    "start_time": "2023-04-18T21:25:10.444Z"
   }
  ],
  "kernelspec": {
   "display_name": "Python 3 (ipykernel)",
   "language": "python",
   "name": "python3"
  },
  "language_info": {
   "codemirror_mode": {
    "name": "ipython",
    "version": 3
   },
   "file_extension": ".py",
   "mimetype": "text/x-python",
   "name": "python",
   "nbconvert_exporter": "python",
   "pygments_lexer": "ipython3",
   "version": "3.9.12"
  },
  "toc": {
   "base_numbering": 1,
   "nav_menu": {},
   "number_sections": true,
   "sideBar": true,
   "skip_h1_title": true,
   "title_cell": "Table of Contents",
   "title_sidebar": "Contents",
   "toc_cell": false,
   "toc_position": {},
   "toc_section_display": true,
   "toc_window_display": false
  }
 },
 "nbformat": 4,
 "nbformat_minor": 5
}
