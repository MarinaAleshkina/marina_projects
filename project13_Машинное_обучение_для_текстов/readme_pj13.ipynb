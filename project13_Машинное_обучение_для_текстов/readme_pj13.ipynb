{
 "cells": [
  {
   "cell_type": "markdown",
   "id": "26f20c38",
   "metadata": {},
   "source": [
    "###  Данные\n",
    "Интернет-магазин «Викишоп» запускает новый сервис. Теперь пользователи могут редактировать и дополнять описания товаров, как в вики-сообществах. То есть клиенты предлагают свои правки и комментируют изменения других. В вашем распоряжении набор данных с разметкой о токсичности правок.\n",
    "\n",
    "Столбец text в нём содержит текст комментария, а toxic — целевой признак.\n",
    "\n",
    "### Задача\n",
    " Магазину нужен инструмент, который будет искать токсичные комментарии и отправлять их на модерацию. \n",
    "Обучите модель классифицировать комментарии на позитивные и негативные.\n",
    "\n",
    "Необходимо построить модель со значением метрики качества F1 не меньше 0.75. \n",
    "\n",
    "\n",
    "### Используемые библиотеки\n",
    "pandas, numpy, re, nltk, wordcloud, tqdm, matplotlib, sklearn, catboost, lightgbm"
   ]
  }
 ],
 "metadata": {
  "kernelspec": {
   "display_name": "Python 3 (ipykernel)",
   "language": "python",
   "name": "python3"
  },
  "language_info": {
   "codemirror_mode": {
    "name": "ipython",
    "version": 3
   },
   "file_extension": ".py",
   "mimetype": "text/x-python",
   "name": "python",
   "nbconvert_exporter": "python",
   "pygments_lexer": "ipython3",
   "version": "3.9.12"
  }
 },
 "nbformat": 4,
 "nbformat_minor": 5
}
