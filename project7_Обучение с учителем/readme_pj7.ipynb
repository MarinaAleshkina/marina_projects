{
 "cells": [
  {
   "cell_type": "markdown",
   "id": "26f20c38",
   "metadata": {},
   "source": [
    "###  Данные\n",
    "Предоставлены исторические данные о поведении клиентов и расторжении договоров с банком.\n",
    " - идентификатор клиента\n",
    " - фамилия \n",
    " - оценка кредитоспособности\n",
    " - страна проживания\n",
    " - пол\n",
    " - возраст\n",
    " - наличие банковских продуктов\n",
    " - доход\n",
    " \n",
    "Целевой признак - ушел клиент из банка или остался.\n",
    "\n",
    "\n",
    "### Задача\n",
    "Построить модель для предсказания оттока клиентов из банка.\n",
    "Целевая миетрика - F1-мера, должна быть больше 0.59. \n",
    "\n",
    "### Используемые библиотеки\n",
    "pandas, matplotlib.pyplot, sklearn"
   ]
  },
  {
   "cell_type": "code",
   "execution_count": null,
   "id": "8e9a7625",
   "metadata": {},
   "outputs": [],
   "source": []
  }
 ],
 "metadata": {
  "kernelspec": {
   "display_name": "Python 3 (ipykernel)",
   "language": "python",
   "name": "python3"
  },
  "language_info": {
   "codemirror_mode": {
    "name": "ipython",
    "version": 3
   },
   "file_extension": ".py",
   "mimetype": "text/x-python",
   "name": "python",
   "nbconvert_exporter": "python",
   "pygments_lexer": "ipython3",
   "version": "3.9.12"
  }
 },
 "nbformat": 4,
 "nbformat_minor": 5
}
