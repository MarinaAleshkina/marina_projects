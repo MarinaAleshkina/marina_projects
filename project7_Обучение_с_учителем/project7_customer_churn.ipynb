{
 "cells": [
  {
   "cell_type": "markdown",
   "metadata": {
    "toc": true
   },
   "source": [
    "<h1>Содержание<span class=\"tocSkip\"></span></h1>\n",
    "<div class=\"toc\"><ul class=\"toc-item\"><li><span><a href=\"#Подготовка-данных\" data-toc-modified-id=\"Подготовка-данных-1\"><span class=\"toc-item-num\">1&nbsp;&nbsp;</span>Подготовка данных</a></span></li><li><span><a href=\"#Исследование-задачи\" data-toc-modified-id=\"Исследование-задачи-2\"><span class=\"toc-item-num\">2&nbsp;&nbsp;</span>Исследование задачи</a></span><ul class=\"toc-item\"><li><span><a href=\"#Разделение-выборки\" data-toc-modified-id=\"Разделение-выборки-2.1\"><span class=\"toc-item-num\">2.1&nbsp;&nbsp;</span>Разделение выборки</a></span></li><li><span><a href=\"#Кодирование-категориальных-признаков\" data-toc-modified-id=\"Кодирование-категориальных-признаков-2.2\"><span class=\"toc-item-num\">2.2&nbsp;&nbsp;</span>Кодирование категориальных признаков</a></span></li><li><span><a href=\"#Масштабирование-количественных-признаков\" data-toc-modified-id=\"Масштабирование-количественных-признаков-2.3\"><span class=\"toc-item-num\">2.3&nbsp;&nbsp;</span>Масштабирование количественных признаков</a></span></li><li><span><a href=\"#Моделирование,-выбор-наилучшей-модели\" data-toc-modified-id=\"Моделирование,-выбор-наилучшей-модели-2.4\"><span class=\"toc-item-num\">2.4&nbsp;&nbsp;</span>Моделирование, выбор наилучшей модели</a></span></li></ul></li><li><span><a href=\"#Борьба-с-дисбалансом\" data-toc-modified-id=\"Борьба-с-дисбалансом-3\"><span class=\"toc-item-num\">3&nbsp;&nbsp;</span>Борьба с дисбалансом</a></span><ul class=\"toc-item\"><li><span><a href=\"#Взвешивание-классов\" data-toc-modified-id=\"Взвешивание-классов-3.1\"><span class=\"toc-item-num\">3.1&nbsp;&nbsp;</span>Взвешивание классов</a></span></li><li><span><a href=\"#Метод-увеличения-выборки.-Upsampling\" data-toc-modified-id=\"Метод-увеличения-выборки.-Upsampling-3.2\"><span class=\"toc-item-num\">3.2&nbsp;&nbsp;</span>Метод увеличения выборки. Upsampling</a></span></li><li><span><a href=\"#Уменьшение-выборки.-Downsampling\" data-toc-modified-id=\"Уменьшение-выборки.-Downsampling-3.3\"><span class=\"toc-item-num\">3.3&nbsp;&nbsp;</span>Уменьшение выборки. Downsampling</a></span></li><li><span><a href=\"#Выбор-наилучшей-модели\" data-toc-modified-id=\"Выбор-наилучшей-модели-3.4\"><span class=\"toc-item-num\">3.4&nbsp;&nbsp;</span>Выбор наилучшей модели</a></span></li></ul></li><li><span><a href=\"#Тестирование-модели\" data-toc-modified-id=\"Тестирование-модели-4\"><span class=\"toc-item-num\">4&nbsp;&nbsp;</span>Тестирование модели</a></span></li><li><span><a href=\"#Итоговый-вывод\" data-toc-modified-id=\"Итоговый-вывод-5\"><span class=\"toc-item-num\">5&nbsp;&nbsp;</span>Итоговый вывод</a></span></li><li><span><a href=\"#Чек-лист-готовности-проекта\" data-toc-modified-id=\"Чек-лист-готовности-проекта-6\"><span class=\"toc-item-num\">6&nbsp;&nbsp;</span>Чек-лист готовности проекта</a></span></li></ul></div>"
   ]
  },
  {
   "cell_type": "markdown",
   "metadata": {},
   "source": [
    "# Отток клиентов"
   ]
  },
  {
   "cell_type": "markdown",
   "metadata": {},
   "source": [
    "Из «Бета-Банка» стали уходить клиенты. Каждый месяц. Немного, но заметно. Банковские маркетологи посчитали: сохранять текущих клиентов дешевле, чем привлекать новых.\n",
    "\n",
    "Нужно спрогнозировать, уйдёт клиент из банка в ближайшее время или нет. Вам предоставлены исторические данные о поведении клиентов и расторжении договоров с банком. \n",
    "\n",
    "Постройте модель с предельно большим значением *F1*-меры. Чтобы сдать проект успешно, нужно довести метрику до 0.59. Проверьте *F1*-меру на тестовой выборке самостоятельно.\n",
    "\n",
    "Дополнительно измеряйте *AUC-ROC*, сравнивайте её значение с *F1*-мерой.\n",
    "\n",
    "Источник данных: [https://www.kaggle.com/barelydedicated/bank-customer-churn-modeling](https://www.kaggle.com/barelydedicated/bank-customer-churn-modeling)"
   ]
  },
  {
   "cell_type": "markdown",
   "metadata": {},
   "source": [
    "## Подготовка данных"
   ]
  },
  {
   "cell_type": "code",
   "execution_count": 1,
   "metadata": {},
   "outputs": [],
   "source": [
    "import pandas as pd\n",
    "import matplotlib.pyplot as plt\n",
    "from sklearn.model_selection import train_test_split\n",
    "from sklearn.preprocessing import StandardScaler, OneHotEncoder\n",
    "from sklearn.tree import DecisionTreeClassifier\n",
    "from sklearn.metrics import precision_score, recall_score, accuracy_score, f1_score, roc_auc_score, roc_curve\n",
    "from sklearn.linear_model import LogisticRegression \n",
    "from sklearn.ensemble import RandomForestClassifier\n",
    "from sklearn.model_selection import GridSearchCV\n",
    "from sklearn.utils import shuffle\n",
    "from sklearn.dummy import DummyClassifier\n",
    "import warnings\n",
    "\n",
    "warnings.filterwarnings('ignore')"
   ]
  },
  {
   "cell_type": "code",
   "execution_count": 2,
   "metadata": {},
   "outputs": [],
   "source": [
    "df = pd.read_csv('https://code.s3.yandex.net/datasets/Churn.csv')"
   ]
  },
  {
   "cell_type": "code",
   "execution_count": 3,
   "metadata": {},
   "outputs": [
    {
     "data": {
      "text/html": [
       "<div>\n",
       "<style scoped>\n",
       "    .dataframe tbody tr th:only-of-type {\n",
       "        vertical-align: middle;\n",
       "    }\n",
       "\n",
       "    .dataframe tbody tr th {\n",
       "        vertical-align: top;\n",
       "    }\n",
       "\n",
       "    .dataframe thead th {\n",
       "        text-align: right;\n",
       "    }\n",
       "</style>\n",
       "<table border=\"1\" class=\"dataframe\">\n",
       "  <thead>\n",
       "    <tr style=\"text-align: right;\">\n",
       "      <th></th>\n",
       "      <th>RowNumber</th>\n",
       "      <th>CustomerId</th>\n",
       "      <th>Surname</th>\n",
       "      <th>CreditScore</th>\n",
       "      <th>Geography</th>\n",
       "      <th>Gender</th>\n",
       "      <th>Age</th>\n",
       "      <th>Tenure</th>\n",
       "      <th>Balance</th>\n",
       "      <th>NumOfProducts</th>\n",
       "      <th>HasCrCard</th>\n",
       "      <th>IsActiveMember</th>\n",
       "      <th>EstimatedSalary</th>\n",
       "      <th>Exited</th>\n",
       "    </tr>\n",
       "  </thead>\n",
       "  <tbody>\n",
       "    <tr>\n",
       "      <th>0</th>\n",
       "      <td>1</td>\n",
       "      <td>15634602</td>\n",
       "      <td>Hargrave</td>\n",
       "      <td>619</td>\n",
       "      <td>France</td>\n",
       "      <td>Female</td>\n",
       "      <td>42</td>\n",
       "      <td>2.0</td>\n",
       "      <td>0.00</td>\n",
       "      <td>1</td>\n",
       "      <td>1</td>\n",
       "      <td>1</td>\n",
       "      <td>101348.88</td>\n",
       "      <td>1</td>\n",
       "    </tr>\n",
       "    <tr>\n",
       "      <th>1</th>\n",
       "      <td>2</td>\n",
       "      <td>15647311</td>\n",
       "      <td>Hill</td>\n",
       "      <td>608</td>\n",
       "      <td>Spain</td>\n",
       "      <td>Female</td>\n",
       "      <td>41</td>\n",
       "      <td>1.0</td>\n",
       "      <td>83807.86</td>\n",
       "      <td>1</td>\n",
       "      <td>0</td>\n",
       "      <td>1</td>\n",
       "      <td>112542.58</td>\n",
       "      <td>0</td>\n",
       "    </tr>\n",
       "    <tr>\n",
       "      <th>2</th>\n",
       "      <td>3</td>\n",
       "      <td>15619304</td>\n",
       "      <td>Onio</td>\n",
       "      <td>502</td>\n",
       "      <td>France</td>\n",
       "      <td>Female</td>\n",
       "      <td>42</td>\n",
       "      <td>8.0</td>\n",
       "      <td>159660.80</td>\n",
       "      <td>3</td>\n",
       "      <td>1</td>\n",
       "      <td>0</td>\n",
       "      <td>113931.57</td>\n",
       "      <td>1</td>\n",
       "    </tr>\n",
       "    <tr>\n",
       "      <th>3</th>\n",
       "      <td>4</td>\n",
       "      <td>15701354</td>\n",
       "      <td>Boni</td>\n",
       "      <td>699</td>\n",
       "      <td>France</td>\n",
       "      <td>Female</td>\n",
       "      <td>39</td>\n",
       "      <td>1.0</td>\n",
       "      <td>0.00</td>\n",
       "      <td>2</td>\n",
       "      <td>0</td>\n",
       "      <td>0</td>\n",
       "      <td>93826.63</td>\n",
       "      <td>0</td>\n",
       "    </tr>\n",
       "    <tr>\n",
       "      <th>4</th>\n",
       "      <td>5</td>\n",
       "      <td>15737888</td>\n",
       "      <td>Mitchell</td>\n",
       "      <td>850</td>\n",
       "      <td>Spain</td>\n",
       "      <td>Female</td>\n",
       "      <td>43</td>\n",
       "      <td>2.0</td>\n",
       "      <td>125510.82</td>\n",
       "      <td>1</td>\n",
       "      <td>1</td>\n",
       "      <td>1</td>\n",
       "      <td>79084.10</td>\n",
       "      <td>0</td>\n",
       "    </tr>\n",
       "  </tbody>\n",
       "</table>\n",
       "</div>"
      ],
      "text/plain": [
       "   RowNumber  CustomerId   Surname  CreditScore Geography  Gender  Age  \\\n",
       "0          1    15634602  Hargrave          619    France  Female   42   \n",
       "1          2    15647311      Hill          608     Spain  Female   41   \n",
       "2          3    15619304      Onio          502    France  Female   42   \n",
       "3          4    15701354      Boni          699    France  Female   39   \n",
       "4          5    15737888  Mitchell          850     Spain  Female   43   \n",
       "\n",
       "   Tenure    Balance  NumOfProducts  HasCrCard  IsActiveMember  \\\n",
       "0     2.0       0.00              1          1               1   \n",
       "1     1.0   83807.86              1          0               1   \n",
       "2     8.0  159660.80              3          1               0   \n",
       "3     1.0       0.00              2          0               0   \n",
       "4     2.0  125510.82              1          1               1   \n",
       "\n",
       "   EstimatedSalary  Exited  \n",
       "0        101348.88       1  \n",
       "1        112542.58       0  \n",
       "2        113931.57       1  \n",
       "3         93826.63       0  \n",
       "4         79084.10       0  "
      ]
     },
     "execution_count": 3,
     "metadata": {},
     "output_type": "execute_result"
    }
   ],
   "source": [
    "df.head()"
   ]
  },
  {
   "cell_type": "code",
   "execution_count": 4,
   "metadata": {},
   "outputs": [
    {
     "name": "stdout",
     "output_type": "stream",
     "text": [
      "<class 'pandas.core.frame.DataFrame'>\n",
      "RangeIndex: 10000 entries, 0 to 9999\n",
      "Data columns (total 14 columns):\n",
      " #   Column           Non-Null Count  Dtype  \n",
      "---  ------           --------------  -----  \n",
      " 0   RowNumber        10000 non-null  int64  \n",
      " 1   CustomerId       10000 non-null  int64  \n",
      " 2   Surname          10000 non-null  object \n",
      " 3   CreditScore      10000 non-null  int64  \n",
      " 4   Geography        10000 non-null  object \n",
      " 5   Gender           10000 non-null  object \n",
      " 6   Age              10000 non-null  int64  \n",
      " 7   Tenure           9091 non-null   float64\n",
      " 8   Balance          10000 non-null  float64\n",
      " 9   NumOfProducts    10000 non-null  int64  \n",
      " 10  HasCrCard        10000 non-null  int64  \n",
      " 11  IsActiveMember   10000 non-null  int64  \n",
      " 12  EstimatedSalary  10000 non-null  float64\n",
      " 13  Exited           10000 non-null  int64  \n",
      "dtypes: float64(3), int64(8), object(3)\n",
      "memory usage: 1.1+ MB\n"
     ]
    }
   ],
   "source": [
    "df.info()"
   ]
  },
  {
   "cell_type": "code",
   "execution_count": 5,
   "metadata": {},
   "outputs": [
    {
     "data": {
      "text/html": [
       "<div>\n",
       "<style scoped>\n",
       "    .dataframe tbody tr th:only-of-type {\n",
       "        vertical-align: middle;\n",
       "    }\n",
       "\n",
       "    .dataframe tbody tr th {\n",
       "        vertical-align: top;\n",
       "    }\n",
       "\n",
       "    .dataframe thead th {\n",
       "        text-align: right;\n",
       "    }\n",
       "</style>\n",
       "<table border=\"1\" class=\"dataframe\">\n",
       "  <thead>\n",
       "    <tr style=\"text-align: right;\">\n",
       "      <th></th>\n",
       "      <th>RowNumber</th>\n",
       "      <th>CustomerId</th>\n",
       "      <th>CreditScore</th>\n",
       "      <th>Age</th>\n",
       "      <th>Tenure</th>\n",
       "      <th>Balance</th>\n",
       "      <th>NumOfProducts</th>\n",
       "      <th>HasCrCard</th>\n",
       "      <th>IsActiveMember</th>\n",
       "      <th>EstimatedSalary</th>\n",
       "      <th>Exited</th>\n",
       "    </tr>\n",
       "  </thead>\n",
       "  <tbody>\n",
       "    <tr>\n",
       "      <th>count</th>\n",
       "      <td>10000.00000</td>\n",
       "      <td>1.000000e+04</td>\n",
       "      <td>10000.000000</td>\n",
       "      <td>10000.000000</td>\n",
       "      <td>9091.000000</td>\n",
       "      <td>10000.000000</td>\n",
       "      <td>10000.000000</td>\n",
       "      <td>10000.00000</td>\n",
       "      <td>10000.000000</td>\n",
       "      <td>10000.000000</td>\n",
       "      <td>10000.000000</td>\n",
       "    </tr>\n",
       "    <tr>\n",
       "      <th>mean</th>\n",
       "      <td>5000.50000</td>\n",
       "      <td>1.569094e+07</td>\n",
       "      <td>650.528800</td>\n",
       "      <td>38.921800</td>\n",
       "      <td>4.997690</td>\n",
       "      <td>76485.889288</td>\n",
       "      <td>1.530200</td>\n",
       "      <td>0.70550</td>\n",
       "      <td>0.515100</td>\n",
       "      <td>100090.239881</td>\n",
       "      <td>0.203700</td>\n",
       "    </tr>\n",
       "    <tr>\n",
       "      <th>std</th>\n",
       "      <td>2886.89568</td>\n",
       "      <td>7.193619e+04</td>\n",
       "      <td>96.653299</td>\n",
       "      <td>10.487806</td>\n",
       "      <td>2.894723</td>\n",
       "      <td>62397.405202</td>\n",
       "      <td>0.581654</td>\n",
       "      <td>0.45584</td>\n",
       "      <td>0.499797</td>\n",
       "      <td>57510.492818</td>\n",
       "      <td>0.402769</td>\n",
       "    </tr>\n",
       "    <tr>\n",
       "      <th>min</th>\n",
       "      <td>1.00000</td>\n",
       "      <td>1.556570e+07</td>\n",
       "      <td>350.000000</td>\n",
       "      <td>18.000000</td>\n",
       "      <td>0.000000</td>\n",
       "      <td>0.000000</td>\n",
       "      <td>1.000000</td>\n",
       "      <td>0.00000</td>\n",
       "      <td>0.000000</td>\n",
       "      <td>11.580000</td>\n",
       "      <td>0.000000</td>\n",
       "    </tr>\n",
       "    <tr>\n",
       "      <th>25%</th>\n",
       "      <td>2500.75000</td>\n",
       "      <td>1.562853e+07</td>\n",
       "      <td>584.000000</td>\n",
       "      <td>32.000000</td>\n",
       "      <td>2.000000</td>\n",
       "      <td>0.000000</td>\n",
       "      <td>1.000000</td>\n",
       "      <td>0.00000</td>\n",
       "      <td>0.000000</td>\n",
       "      <td>51002.110000</td>\n",
       "      <td>0.000000</td>\n",
       "    </tr>\n",
       "    <tr>\n",
       "      <th>50%</th>\n",
       "      <td>5000.50000</td>\n",
       "      <td>1.569074e+07</td>\n",
       "      <td>652.000000</td>\n",
       "      <td>37.000000</td>\n",
       "      <td>5.000000</td>\n",
       "      <td>97198.540000</td>\n",
       "      <td>1.000000</td>\n",
       "      <td>1.00000</td>\n",
       "      <td>1.000000</td>\n",
       "      <td>100193.915000</td>\n",
       "      <td>0.000000</td>\n",
       "    </tr>\n",
       "    <tr>\n",
       "      <th>75%</th>\n",
       "      <td>7500.25000</td>\n",
       "      <td>1.575323e+07</td>\n",
       "      <td>718.000000</td>\n",
       "      <td>44.000000</td>\n",
       "      <td>7.000000</td>\n",
       "      <td>127644.240000</td>\n",
       "      <td>2.000000</td>\n",
       "      <td>1.00000</td>\n",
       "      <td>1.000000</td>\n",
       "      <td>149388.247500</td>\n",
       "      <td>0.000000</td>\n",
       "    </tr>\n",
       "    <tr>\n",
       "      <th>max</th>\n",
       "      <td>10000.00000</td>\n",
       "      <td>1.581569e+07</td>\n",
       "      <td>850.000000</td>\n",
       "      <td>92.000000</td>\n",
       "      <td>10.000000</td>\n",
       "      <td>250898.090000</td>\n",
       "      <td>4.000000</td>\n",
       "      <td>1.00000</td>\n",
       "      <td>1.000000</td>\n",
       "      <td>199992.480000</td>\n",
       "      <td>1.000000</td>\n",
       "    </tr>\n",
       "  </tbody>\n",
       "</table>\n",
       "</div>"
      ],
      "text/plain": [
       "         RowNumber    CustomerId   CreditScore           Age       Tenure  \\\n",
       "count  10000.00000  1.000000e+04  10000.000000  10000.000000  9091.000000   \n",
       "mean    5000.50000  1.569094e+07    650.528800     38.921800     4.997690   \n",
       "std     2886.89568  7.193619e+04     96.653299     10.487806     2.894723   \n",
       "min        1.00000  1.556570e+07    350.000000     18.000000     0.000000   \n",
       "25%     2500.75000  1.562853e+07    584.000000     32.000000     2.000000   \n",
       "50%     5000.50000  1.569074e+07    652.000000     37.000000     5.000000   \n",
       "75%     7500.25000  1.575323e+07    718.000000     44.000000     7.000000   \n",
       "max    10000.00000  1.581569e+07    850.000000     92.000000    10.000000   \n",
       "\n",
       "             Balance  NumOfProducts    HasCrCard  IsActiveMember  \\\n",
       "count   10000.000000   10000.000000  10000.00000    10000.000000   \n",
       "mean    76485.889288       1.530200      0.70550        0.515100   \n",
       "std     62397.405202       0.581654      0.45584        0.499797   \n",
       "min         0.000000       1.000000      0.00000        0.000000   \n",
       "25%         0.000000       1.000000      0.00000        0.000000   \n",
       "50%     97198.540000       1.000000      1.00000        1.000000   \n",
       "75%    127644.240000       2.000000      1.00000        1.000000   \n",
       "max    250898.090000       4.000000      1.00000        1.000000   \n",
       "\n",
       "       EstimatedSalary        Exited  \n",
       "count     10000.000000  10000.000000  \n",
       "mean     100090.239881      0.203700  \n",
       "std       57510.492818      0.402769  \n",
       "min          11.580000      0.000000  \n",
       "25%       51002.110000      0.000000  \n",
       "50%      100193.915000      0.000000  \n",
       "75%      149388.247500      0.000000  \n",
       "max      199992.480000      1.000000  "
      ]
     },
     "execution_count": 5,
     "metadata": {},
     "output_type": "execute_result"
    }
   ],
   "source": [
    "#описательная статистика по выборке\n",
    "df.describe()"
   ]
  },
  {
   "cell_type": "code",
   "execution_count": 6,
   "metadata": {},
   "outputs": [],
   "source": [
    "# приведем наименования столбцов к нижнему регистру и snake_case\n",
    "df.columns = df.columns.str.lower()"
   ]
  },
  {
   "cell_type": "code",
   "execution_count": 7,
   "metadata": {},
   "outputs": [
    {
     "data": {
      "text/plain": [
       "Index(['rownumber', 'customerid', 'surname', 'creditscore', 'geography',\n",
       "       'gender', 'age', 'tenure', 'balance', 'numofproducts', 'hascrcard',\n",
       "       'isactivemember', 'estimatedsalary', 'exited'],\n",
       "      dtype='object')"
      ]
     },
     "execution_count": 7,
     "metadata": {},
     "output_type": "execute_result"
    }
   ],
   "source": [
    "df.columns"
   ]
  },
  {
   "cell_type": "code",
   "execution_count": 8,
   "metadata": {},
   "outputs": [],
   "source": [
    "df.columns = ['row_number', 'customer_id', 'surname', 'credit_score', 'geography',\n",
    "       'gender', 'age', 'tenure', 'balance', 'num_of_products', 'has_crcard',\n",
    "       'is_active_member', 'estimated_salary', 'exited']"
   ]
  },
  {
   "cell_type": "code",
   "execution_count": 10,
   "metadata": {},
   "outputs": [
    {
     "data": {
      "text/html": [
       "<div>\n",
       "<style scoped>\n",
       "    .dataframe tbody tr th:only-of-type {\n",
       "        vertical-align: middle;\n",
       "    }\n",
       "\n",
       "    .dataframe tbody tr th {\n",
       "        vertical-align: top;\n",
       "    }\n",
       "\n",
       "    .dataframe thead th {\n",
       "        text-align: right;\n",
       "    }\n",
       "</style>\n",
       "<table border=\"1\" class=\"dataframe\">\n",
       "  <thead>\n",
       "    <tr style=\"text-align: right;\">\n",
       "      <th></th>\n",
       "      <th>row_number</th>\n",
       "      <th>customer_id</th>\n",
       "      <th>surname</th>\n",
       "      <th>credit_score</th>\n",
       "      <th>geography</th>\n",
       "      <th>gender</th>\n",
       "      <th>age</th>\n",
       "      <th>tenure</th>\n",
       "      <th>balance</th>\n",
       "      <th>num_of_products</th>\n",
       "      <th>has_crcard</th>\n",
       "      <th>is_active_member</th>\n",
       "      <th>estimated_salary</th>\n",
       "      <th>exited</th>\n",
       "    </tr>\n",
       "  </thead>\n",
       "  <tbody>\n",
       "    <tr>\n",
       "      <th>0</th>\n",
       "      <td>1</td>\n",
       "      <td>15634602</td>\n",
       "      <td>Hargrave</td>\n",
       "      <td>619</td>\n",
       "      <td>France</td>\n",
       "      <td>Female</td>\n",
       "      <td>42</td>\n",
       "      <td>2.0</td>\n",
       "      <td>0.00</td>\n",
       "      <td>1</td>\n",
       "      <td>1</td>\n",
       "      <td>1</td>\n",
       "      <td>101348.88</td>\n",
       "      <td>1</td>\n",
       "    </tr>\n",
       "    <tr>\n",
       "      <th>1</th>\n",
       "      <td>2</td>\n",
       "      <td>15647311</td>\n",
       "      <td>Hill</td>\n",
       "      <td>608</td>\n",
       "      <td>Spain</td>\n",
       "      <td>Female</td>\n",
       "      <td>41</td>\n",
       "      <td>1.0</td>\n",
       "      <td>83807.86</td>\n",
       "      <td>1</td>\n",
       "      <td>0</td>\n",
       "      <td>1</td>\n",
       "      <td>112542.58</td>\n",
       "      <td>0</td>\n",
       "    </tr>\n",
       "    <tr>\n",
       "      <th>2</th>\n",
       "      <td>3</td>\n",
       "      <td>15619304</td>\n",
       "      <td>Onio</td>\n",
       "      <td>502</td>\n",
       "      <td>France</td>\n",
       "      <td>Female</td>\n",
       "      <td>42</td>\n",
       "      <td>8.0</td>\n",
       "      <td>159660.80</td>\n",
       "      <td>3</td>\n",
       "      <td>1</td>\n",
       "      <td>0</td>\n",
       "      <td>113931.57</td>\n",
       "      <td>1</td>\n",
       "    </tr>\n",
       "    <tr>\n",
       "      <th>3</th>\n",
       "      <td>4</td>\n",
       "      <td>15701354</td>\n",
       "      <td>Boni</td>\n",
       "      <td>699</td>\n",
       "      <td>France</td>\n",
       "      <td>Female</td>\n",
       "      <td>39</td>\n",
       "      <td>1.0</td>\n",
       "      <td>0.00</td>\n",
       "      <td>2</td>\n",
       "      <td>0</td>\n",
       "      <td>0</td>\n",
       "      <td>93826.63</td>\n",
       "      <td>0</td>\n",
       "    </tr>\n",
       "    <tr>\n",
       "      <th>4</th>\n",
       "      <td>5</td>\n",
       "      <td>15737888</td>\n",
       "      <td>Mitchell</td>\n",
       "      <td>850</td>\n",
       "      <td>Spain</td>\n",
       "      <td>Female</td>\n",
       "      <td>43</td>\n",
       "      <td>2.0</td>\n",
       "      <td>125510.82</td>\n",
       "      <td>1</td>\n",
       "      <td>1</td>\n",
       "      <td>1</td>\n",
       "      <td>79084.10</td>\n",
       "      <td>0</td>\n",
       "    </tr>\n",
       "    <tr>\n",
       "      <th>5</th>\n",
       "      <td>6</td>\n",
       "      <td>15574012</td>\n",
       "      <td>Chu</td>\n",
       "      <td>645</td>\n",
       "      <td>Spain</td>\n",
       "      <td>Male</td>\n",
       "      <td>44</td>\n",
       "      <td>8.0</td>\n",
       "      <td>113755.78</td>\n",
       "      <td>2</td>\n",
       "      <td>1</td>\n",
       "      <td>0</td>\n",
       "      <td>149756.71</td>\n",
       "      <td>1</td>\n",
       "    </tr>\n",
       "    <tr>\n",
       "      <th>6</th>\n",
       "      <td>7</td>\n",
       "      <td>15592531</td>\n",
       "      <td>Bartlett</td>\n",
       "      <td>822</td>\n",
       "      <td>France</td>\n",
       "      <td>Male</td>\n",
       "      <td>50</td>\n",
       "      <td>7.0</td>\n",
       "      <td>0.00</td>\n",
       "      <td>2</td>\n",
       "      <td>1</td>\n",
       "      <td>1</td>\n",
       "      <td>10062.80</td>\n",
       "      <td>0</td>\n",
       "    </tr>\n",
       "    <tr>\n",
       "      <th>7</th>\n",
       "      <td>8</td>\n",
       "      <td>15656148</td>\n",
       "      <td>Obinna</td>\n",
       "      <td>376</td>\n",
       "      <td>Germany</td>\n",
       "      <td>Female</td>\n",
       "      <td>29</td>\n",
       "      <td>4.0</td>\n",
       "      <td>115046.74</td>\n",
       "      <td>4</td>\n",
       "      <td>1</td>\n",
       "      <td>0</td>\n",
       "      <td>119346.88</td>\n",
       "      <td>1</td>\n",
       "    </tr>\n",
       "    <tr>\n",
       "      <th>8</th>\n",
       "      <td>9</td>\n",
       "      <td>15792365</td>\n",
       "      <td>He</td>\n",
       "      <td>501</td>\n",
       "      <td>France</td>\n",
       "      <td>Male</td>\n",
       "      <td>44</td>\n",
       "      <td>4.0</td>\n",
       "      <td>142051.07</td>\n",
       "      <td>2</td>\n",
       "      <td>0</td>\n",
       "      <td>1</td>\n",
       "      <td>74940.50</td>\n",
       "      <td>0</td>\n",
       "    </tr>\n",
       "    <tr>\n",
       "      <th>9</th>\n",
       "      <td>10</td>\n",
       "      <td>15592389</td>\n",
       "      <td>H?</td>\n",
       "      <td>684</td>\n",
       "      <td>France</td>\n",
       "      <td>Male</td>\n",
       "      <td>27</td>\n",
       "      <td>2.0</td>\n",
       "      <td>134603.88</td>\n",
       "      <td>1</td>\n",
       "      <td>1</td>\n",
       "      <td>1</td>\n",
       "      <td>71725.73</td>\n",
       "      <td>0</td>\n",
       "    </tr>\n",
       "    <tr>\n",
       "      <th>10</th>\n",
       "      <td>11</td>\n",
       "      <td>15767821</td>\n",
       "      <td>Bearce</td>\n",
       "      <td>528</td>\n",
       "      <td>France</td>\n",
       "      <td>Male</td>\n",
       "      <td>31</td>\n",
       "      <td>6.0</td>\n",
       "      <td>102016.72</td>\n",
       "      <td>2</td>\n",
       "      <td>0</td>\n",
       "      <td>0</td>\n",
       "      <td>80181.12</td>\n",
       "      <td>0</td>\n",
       "    </tr>\n",
       "    <tr>\n",
       "      <th>11</th>\n",
       "      <td>12</td>\n",
       "      <td>15737173</td>\n",
       "      <td>Andrews</td>\n",
       "      <td>497</td>\n",
       "      <td>Spain</td>\n",
       "      <td>Male</td>\n",
       "      <td>24</td>\n",
       "      <td>3.0</td>\n",
       "      <td>0.00</td>\n",
       "      <td>2</td>\n",
       "      <td>1</td>\n",
       "      <td>0</td>\n",
       "      <td>76390.01</td>\n",
       "      <td>0</td>\n",
       "    </tr>\n",
       "    <tr>\n",
       "      <th>12</th>\n",
       "      <td>13</td>\n",
       "      <td>15632264</td>\n",
       "      <td>Kay</td>\n",
       "      <td>476</td>\n",
       "      <td>France</td>\n",
       "      <td>Female</td>\n",
       "      <td>34</td>\n",
       "      <td>10.0</td>\n",
       "      <td>0.00</td>\n",
       "      <td>2</td>\n",
       "      <td>1</td>\n",
       "      <td>0</td>\n",
       "      <td>26260.98</td>\n",
       "      <td>0</td>\n",
       "    </tr>\n",
       "    <tr>\n",
       "      <th>13</th>\n",
       "      <td>14</td>\n",
       "      <td>15691483</td>\n",
       "      <td>Chin</td>\n",
       "      <td>549</td>\n",
       "      <td>France</td>\n",
       "      <td>Female</td>\n",
       "      <td>25</td>\n",
       "      <td>5.0</td>\n",
       "      <td>0.00</td>\n",
       "      <td>2</td>\n",
       "      <td>0</td>\n",
       "      <td>0</td>\n",
       "      <td>190857.79</td>\n",
       "      <td>0</td>\n",
       "    </tr>\n",
       "    <tr>\n",
       "      <th>14</th>\n",
       "      <td>15</td>\n",
       "      <td>15600882</td>\n",
       "      <td>Scott</td>\n",
       "      <td>635</td>\n",
       "      <td>Spain</td>\n",
       "      <td>Female</td>\n",
       "      <td>35</td>\n",
       "      <td>7.0</td>\n",
       "      <td>0.00</td>\n",
       "      <td>2</td>\n",
       "      <td>1</td>\n",
       "      <td>1</td>\n",
       "      <td>65951.65</td>\n",
       "      <td>0</td>\n",
       "    </tr>\n",
       "    <tr>\n",
       "      <th>15</th>\n",
       "      <td>16</td>\n",
       "      <td>15643966</td>\n",
       "      <td>Goforth</td>\n",
       "      <td>616</td>\n",
       "      <td>Germany</td>\n",
       "      <td>Male</td>\n",
       "      <td>45</td>\n",
       "      <td>3.0</td>\n",
       "      <td>143129.41</td>\n",
       "      <td>2</td>\n",
       "      <td>0</td>\n",
       "      <td>1</td>\n",
       "      <td>64327.26</td>\n",
       "      <td>0</td>\n",
       "    </tr>\n",
       "    <tr>\n",
       "      <th>16</th>\n",
       "      <td>17</td>\n",
       "      <td>15737452</td>\n",
       "      <td>Romeo</td>\n",
       "      <td>653</td>\n",
       "      <td>Germany</td>\n",
       "      <td>Male</td>\n",
       "      <td>58</td>\n",
       "      <td>1.0</td>\n",
       "      <td>132602.88</td>\n",
       "      <td>1</td>\n",
       "      <td>1</td>\n",
       "      <td>0</td>\n",
       "      <td>5097.67</td>\n",
       "      <td>1</td>\n",
       "    </tr>\n",
       "    <tr>\n",
       "      <th>17</th>\n",
       "      <td>18</td>\n",
       "      <td>15788218</td>\n",
       "      <td>Henderson</td>\n",
       "      <td>549</td>\n",
       "      <td>Spain</td>\n",
       "      <td>Female</td>\n",
       "      <td>24</td>\n",
       "      <td>9.0</td>\n",
       "      <td>0.00</td>\n",
       "      <td>2</td>\n",
       "      <td>1</td>\n",
       "      <td>1</td>\n",
       "      <td>14406.41</td>\n",
       "      <td>0</td>\n",
       "    </tr>\n",
       "    <tr>\n",
       "      <th>18</th>\n",
       "      <td>19</td>\n",
       "      <td>15661507</td>\n",
       "      <td>Muldrow</td>\n",
       "      <td>587</td>\n",
       "      <td>Spain</td>\n",
       "      <td>Male</td>\n",
       "      <td>45</td>\n",
       "      <td>6.0</td>\n",
       "      <td>0.00</td>\n",
       "      <td>1</td>\n",
       "      <td>0</td>\n",
       "      <td>0</td>\n",
       "      <td>158684.81</td>\n",
       "      <td>0</td>\n",
       "    </tr>\n",
       "    <tr>\n",
       "      <th>19</th>\n",
       "      <td>20</td>\n",
       "      <td>15568982</td>\n",
       "      <td>Hao</td>\n",
       "      <td>726</td>\n",
       "      <td>France</td>\n",
       "      <td>Female</td>\n",
       "      <td>24</td>\n",
       "      <td>6.0</td>\n",
       "      <td>0.00</td>\n",
       "      <td>2</td>\n",
       "      <td>1</td>\n",
       "      <td>1</td>\n",
       "      <td>54724.03</td>\n",
       "      <td>0</td>\n",
       "    </tr>\n",
       "  </tbody>\n",
       "</table>\n",
       "</div>"
      ],
      "text/plain": [
       "    row_number  customer_id    surname  credit_score geography  gender  age  \\\n",
       "0            1     15634602   Hargrave           619    France  Female   42   \n",
       "1            2     15647311       Hill           608     Spain  Female   41   \n",
       "2            3     15619304       Onio           502    France  Female   42   \n",
       "3            4     15701354       Boni           699    France  Female   39   \n",
       "4            5     15737888   Mitchell           850     Spain  Female   43   \n",
       "5            6     15574012        Chu           645     Spain    Male   44   \n",
       "6            7     15592531   Bartlett           822    France    Male   50   \n",
       "7            8     15656148     Obinna           376   Germany  Female   29   \n",
       "8            9     15792365         He           501    France    Male   44   \n",
       "9           10     15592389         H?           684    France    Male   27   \n",
       "10          11     15767821     Bearce           528    France    Male   31   \n",
       "11          12     15737173    Andrews           497     Spain    Male   24   \n",
       "12          13     15632264        Kay           476    France  Female   34   \n",
       "13          14     15691483       Chin           549    France  Female   25   \n",
       "14          15     15600882      Scott           635     Spain  Female   35   \n",
       "15          16     15643966    Goforth           616   Germany    Male   45   \n",
       "16          17     15737452      Romeo           653   Germany    Male   58   \n",
       "17          18     15788218  Henderson           549     Spain  Female   24   \n",
       "18          19     15661507    Muldrow           587     Spain    Male   45   \n",
       "19          20     15568982        Hao           726    France  Female   24   \n",
       "\n",
       "    tenure    balance  num_of_products  has_crcard  is_active_member  \\\n",
       "0      2.0       0.00                1           1                 1   \n",
       "1      1.0   83807.86                1           0                 1   \n",
       "2      8.0  159660.80                3           1                 0   \n",
       "3      1.0       0.00                2           0                 0   \n",
       "4      2.0  125510.82                1           1                 1   \n",
       "5      8.0  113755.78                2           1                 0   \n",
       "6      7.0       0.00                2           1                 1   \n",
       "7      4.0  115046.74                4           1                 0   \n",
       "8      4.0  142051.07                2           0                 1   \n",
       "9      2.0  134603.88                1           1                 1   \n",
       "10     6.0  102016.72                2           0                 0   \n",
       "11     3.0       0.00                2           1                 0   \n",
       "12    10.0       0.00                2           1                 0   \n",
       "13     5.0       0.00                2           0                 0   \n",
       "14     7.0       0.00                2           1                 1   \n",
       "15     3.0  143129.41                2           0                 1   \n",
       "16     1.0  132602.88                1           1                 0   \n",
       "17     9.0       0.00                2           1                 1   \n",
       "18     6.0       0.00                1           0                 0   \n",
       "19     6.0       0.00                2           1                 1   \n",
       "\n",
       "    estimated_salary  exited  \n",
       "0          101348.88       1  \n",
       "1          112542.58       0  \n",
       "2          113931.57       1  \n",
       "3           93826.63       0  \n",
       "4           79084.10       0  \n",
       "5          149756.71       1  \n",
       "6           10062.80       0  \n",
       "7          119346.88       1  \n",
       "8           74940.50       0  \n",
       "9           71725.73       0  \n",
       "10          80181.12       0  \n",
       "11          76390.01       0  \n",
       "12          26260.98       0  \n",
       "13         190857.79       0  \n",
       "14          65951.65       0  \n",
       "15          64327.26       0  \n",
       "16           5097.67       1  \n",
       "17          14406.41       0  \n",
       "18         158684.81       0  \n",
       "19          54724.03       0  "
      ]
     },
     "execution_count": 10,
     "metadata": {},
     "output_type": "execute_result"
    }
   ],
   "source": [
    "df.head(20)"
   ]
  },
  {
   "cell_type": "code",
   "execution_count": 11,
   "metadata": {},
   "outputs": [
    {
     "data": {
      "text/plain": [
       "1.0     952\n",
       "2.0     950\n",
       "8.0     933\n",
       "3.0     928\n",
       "5.0     927\n",
       "7.0     925\n",
       "4.0     885\n",
       "9.0     882\n",
       "6.0     881\n",
       "10.0    446\n",
       "0.0     382\n",
       "Name: tenure, dtype: int64"
      ]
     },
     "execution_count": 11,
     "metadata": {},
     "output_type": "execute_result"
    }
   ],
   "source": [
    "# в признаке tenure есть пропуски, посмотрим на значения в данном столбце\n",
    "df['tenure'].value_counts()"
   ]
  },
  {
   "cell_type": "code",
   "execution_count": 12,
   "metadata": {},
   "outputs": [
    {
     "data": {
      "text/html": [
       "<div>\n",
       "<style scoped>\n",
       "    .dataframe tbody tr th:only-of-type {\n",
       "        vertical-align: middle;\n",
       "    }\n",
       "\n",
       "    .dataframe tbody tr th {\n",
       "        vertical-align: top;\n",
       "    }\n",
       "\n",
       "    .dataframe thead th {\n",
       "        text-align: right;\n",
       "    }\n",
       "</style>\n",
       "<table border=\"1\" class=\"dataframe\">\n",
       "  <thead>\n",
       "    <tr style=\"text-align: right;\">\n",
       "      <th></th>\n",
       "      <th>row_number</th>\n",
       "      <th>customer_id</th>\n",
       "      <th>surname</th>\n",
       "      <th>credit_score</th>\n",
       "      <th>geography</th>\n",
       "      <th>gender</th>\n",
       "      <th>age</th>\n",
       "      <th>tenure</th>\n",
       "      <th>balance</th>\n",
       "      <th>num_of_products</th>\n",
       "      <th>has_crcard</th>\n",
       "      <th>is_active_member</th>\n",
       "      <th>estimated_salary</th>\n",
       "      <th>exited</th>\n",
       "    </tr>\n",
       "  </thead>\n",
       "  <tbody>\n",
       "    <tr>\n",
       "      <th>30</th>\n",
       "      <td>31</td>\n",
       "      <td>15589475</td>\n",
       "      <td>Azikiwe</td>\n",
       "      <td>591</td>\n",
       "      <td>Spain</td>\n",
       "      <td>Female</td>\n",
       "      <td>39</td>\n",
       "      <td>NaN</td>\n",
       "      <td>0.00</td>\n",
       "      <td>3</td>\n",
       "      <td>1</td>\n",
       "      <td>0</td>\n",
       "      <td>140469.38</td>\n",
       "      <td>1</td>\n",
       "    </tr>\n",
       "    <tr>\n",
       "      <th>48</th>\n",
       "      <td>49</td>\n",
       "      <td>15766205</td>\n",
       "      <td>Yin</td>\n",
       "      <td>550</td>\n",
       "      <td>Germany</td>\n",
       "      <td>Male</td>\n",
       "      <td>38</td>\n",
       "      <td>NaN</td>\n",
       "      <td>103391.38</td>\n",
       "      <td>1</td>\n",
       "      <td>0</td>\n",
       "      <td>1</td>\n",
       "      <td>90878.13</td>\n",
       "      <td>0</td>\n",
       "    </tr>\n",
       "    <tr>\n",
       "      <th>51</th>\n",
       "      <td>52</td>\n",
       "      <td>15768193</td>\n",
       "      <td>Trevisani</td>\n",
       "      <td>585</td>\n",
       "      <td>Germany</td>\n",
       "      <td>Male</td>\n",
       "      <td>36</td>\n",
       "      <td>NaN</td>\n",
       "      <td>146050.97</td>\n",
       "      <td>2</td>\n",
       "      <td>0</td>\n",
       "      <td>0</td>\n",
       "      <td>86424.57</td>\n",
       "      <td>0</td>\n",
       "    </tr>\n",
       "    <tr>\n",
       "      <th>53</th>\n",
       "      <td>54</td>\n",
       "      <td>15702298</td>\n",
       "      <td>Parkhill</td>\n",
       "      <td>655</td>\n",
       "      <td>Germany</td>\n",
       "      <td>Male</td>\n",
       "      <td>41</td>\n",
       "      <td>NaN</td>\n",
       "      <td>125561.97</td>\n",
       "      <td>1</td>\n",
       "      <td>0</td>\n",
       "      <td>0</td>\n",
       "      <td>164040.94</td>\n",
       "      <td>1</td>\n",
       "    </tr>\n",
       "    <tr>\n",
       "      <th>60</th>\n",
       "      <td>61</td>\n",
       "      <td>15651280</td>\n",
       "      <td>Hunter</td>\n",
       "      <td>742</td>\n",
       "      <td>Germany</td>\n",
       "      <td>Male</td>\n",
       "      <td>35</td>\n",
       "      <td>NaN</td>\n",
       "      <td>136857.00</td>\n",
       "      <td>1</td>\n",
       "      <td>0</td>\n",
       "      <td>0</td>\n",
       "      <td>84509.57</td>\n",
       "      <td>0</td>\n",
       "    </tr>\n",
       "    <tr>\n",
       "      <th>...</th>\n",
       "      <td>...</td>\n",
       "      <td>...</td>\n",
       "      <td>...</td>\n",
       "      <td>...</td>\n",
       "      <td>...</td>\n",
       "      <td>...</td>\n",
       "      <td>...</td>\n",
       "      <td>...</td>\n",
       "      <td>...</td>\n",
       "      <td>...</td>\n",
       "      <td>...</td>\n",
       "      <td>...</td>\n",
       "      <td>...</td>\n",
       "      <td>...</td>\n",
       "    </tr>\n",
       "    <tr>\n",
       "      <th>9944</th>\n",
       "      <td>9945</td>\n",
       "      <td>15703923</td>\n",
       "      <td>Cameron</td>\n",
       "      <td>744</td>\n",
       "      <td>Germany</td>\n",
       "      <td>Male</td>\n",
       "      <td>41</td>\n",
       "      <td>NaN</td>\n",
       "      <td>190409.34</td>\n",
       "      <td>2</td>\n",
       "      <td>1</td>\n",
       "      <td>1</td>\n",
       "      <td>138361.48</td>\n",
       "      <td>0</td>\n",
       "    </tr>\n",
       "    <tr>\n",
       "      <th>9956</th>\n",
       "      <td>9957</td>\n",
       "      <td>15707861</td>\n",
       "      <td>Nucci</td>\n",
       "      <td>520</td>\n",
       "      <td>France</td>\n",
       "      <td>Female</td>\n",
       "      <td>46</td>\n",
       "      <td>NaN</td>\n",
       "      <td>85216.61</td>\n",
       "      <td>1</td>\n",
       "      <td>1</td>\n",
       "      <td>0</td>\n",
       "      <td>117369.52</td>\n",
       "      <td>1</td>\n",
       "    </tr>\n",
       "    <tr>\n",
       "      <th>9964</th>\n",
       "      <td>9965</td>\n",
       "      <td>15642785</td>\n",
       "      <td>Douglas</td>\n",
       "      <td>479</td>\n",
       "      <td>France</td>\n",
       "      <td>Male</td>\n",
       "      <td>34</td>\n",
       "      <td>NaN</td>\n",
       "      <td>117593.48</td>\n",
       "      <td>2</td>\n",
       "      <td>0</td>\n",
       "      <td>0</td>\n",
       "      <td>113308.29</td>\n",
       "      <td>0</td>\n",
       "    </tr>\n",
       "    <tr>\n",
       "      <th>9985</th>\n",
       "      <td>9986</td>\n",
       "      <td>15586914</td>\n",
       "      <td>Nepean</td>\n",
       "      <td>659</td>\n",
       "      <td>France</td>\n",
       "      <td>Male</td>\n",
       "      <td>36</td>\n",
       "      <td>NaN</td>\n",
       "      <td>123841.49</td>\n",
       "      <td>2</td>\n",
       "      <td>1</td>\n",
       "      <td>0</td>\n",
       "      <td>96833.00</td>\n",
       "      <td>0</td>\n",
       "    </tr>\n",
       "    <tr>\n",
       "      <th>9999</th>\n",
       "      <td>10000</td>\n",
       "      <td>15628319</td>\n",
       "      <td>Walker</td>\n",
       "      <td>792</td>\n",
       "      <td>France</td>\n",
       "      <td>Female</td>\n",
       "      <td>28</td>\n",
       "      <td>NaN</td>\n",
       "      <td>130142.79</td>\n",
       "      <td>1</td>\n",
       "      <td>1</td>\n",
       "      <td>0</td>\n",
       "      <td>38190.78</td>\n",
       "      <td>0</td>\n",
       "    </tr>\n",
       "  </tbody>\n",
       "</table>\n",
       "<p>909 rows × 14 columns</p>\n",
       "</div>"
      ],
      "text/plain": [
       "      row_number  customer_id    surname  credit_score geography  gender  age  \\\n",
       "30            31     15589475    Azikiwe           591     Spain  Female   39   \n",
       "48            49     15766205        Yin           550   Germany    Male   38   \n",
       "51            52     15768193  Trevisani           585   Germany    Male   36   \n",
       "53            54     15702298   Parkhill           655   Germany    Male   41   \n",
       "60            61     15651280     Hunter           742   Germany    Male   35   \n",
       "...          ...          ...        ...           ...       ...     ...  ...   \n",
       "9944        9945     15703923    Cameron           744   Germany    Male   41   \n",
       "9956        9957     15707861      Nucci           520    France  Female   46   \n",
       "9964        9965     15642785    Douglas           479    France    Male   34   \n",
       "9985        9986     15586914     Nepean           659    France    Male   36   \n",
       "9999       10000     15628319     Walker           792    France  Female   28   \n",
       "\n",
       "      tenure    balance  num_of_products  has_crcard  is_active_member  \\\n",
       "30       NaN       0.00                3           1                 0   \n",
       "48       NaN  103391.38                1           0                 1   \n",
       "51       NaN  146050.97                2           0                 0   \n",
       "53       NaN  125561.97                1           0                 0   \n",
       "60       NaN  136857.00                1           0                 0   \n",
       "...      ...        ...              ...         ...               ...   \n",
       "9944     NaN  190409.34                2           1                 1   \n",
       "9956     NaN   85216.61                1           1                 0   \n",
       "9964     NaN  117593.48                2           0                 0   \n",
       "9985     NaN  123841.49                2           1                 0   \n",
       "9999     NaN  130142.79                1           1                 0   \n",
       "\n",
       "      estimated_salary  exited  \n",
       "30           140469.38       1  \n",
       "48            90878.13       0  \n",
       "51            86424.57       0  \n",
       "53           164040.94       1  \n",
       "60            84509.57       0  \n",
       "...                ...     ...  \n",
       "9944         138361.48       0  \n",
       "9956         117369.52       1  \n",
       "9964         113308.29       0  \n",
       "9985          96833.00       0  \n",
       "9999          38190.78       0  \n",
       "\n",
       "[909 rows x 14 columns]"
      ]
     },
     "execution_count": 12,
     "metadata": {},
     "output_type": "execute_result"
    }
   ],
   "source": [
    "# посмотрим на ту часть выборки, в которой присутствуют пропуски\n",
    "df[df['tenure'].isna()]"
   ]
  },
  {
   "cell_type": "code",
   "execution_count": 13,
   "metadata": {},
   "outputs": [],
   "source": [
    "# заменим пропуски на 0 как на наиболее вероятное значение в данном столбце\n",
    "# приведем значения столбца к целочисленному виду\n",
    "\n",
    "df['tenure'] = df['tenure'].fillna(0).astype('int64')"
   ]
  },
  {
   "cell_type": "code",
   "execution_count": 14,
   "metadata": {},
   "outputs": [
    {
     "name": "stdout",
     "output_type": "stream",
     "text": [
      "<class 'pandas.core.frame.DataFrame'>\n",
      "RangeIndex: 10000 entries, 0 to 9999\n",
      "Data columns (total 14 columns):\n",
      " #   Column            Non-Null Count  Dtype  \n",
      "---  ------            --------------  -----  \n",
      " 0   row_number        10000 non-null  int64  \n",
      " 1   customer_id       10000 non-null  int64  \n",
      " 2   surname           10000 non-null  object \n",
      " 3   credit_score      10000 non-null  int64  \n",
      " 4   geography         10000 non-null  object \n",
      " 5   gender            10000 non-null  object \n",
      " 6   age               10000 non-null  int64  \n",
      " 7   tenure            10000 non-null  int64  \n",
      " 8   balance           10000 non-null  float64\n",
      " 9   num_of_products   10000 non-null  int64  \n",
      " 10  has_crcard        10000 non-null  int64  \n",
      " 11  is_active_member  10000 non-null  int64  \n",
      " 12  estimated_salary  10000 non-null  float64\n",
      " 13  exited            10000 non-null  int64  \n",
      "dtypes: float64(2), int64(9), object(3)\n",
      "memory usage: 1.1+ MB\n"
     ]
    }
   ],
   "source": [
    "# повторно выведем всю информацию о выборке\n",
    "df.info()"
   ]
  },
  {
   "cell_type": "code",
   "execution_count": 15,
   "metadata": {},
   "outputs": [],
   "source": [
    "#уберем лишние для построения модели столбцы\n",
    "# столбец row_number дублирует индексы таблицы, столбец customer_id и surname никак не влияют на целевой признак\n",
    "\n",
    "df = df.drop(['row_number', 'customer_id', 'surname'], axis=1)"
   ]
  },
  {
   "cell_type": "code",
   "execution_count": 16,
   "metadata": {},
   "outputs": [
    {
     "data": {
      "text/plain": [
       "(10000, 11)"
      ]
     },
     "execution_count": 16,
     "metadata": {},
     "output_type": "execute_result"
    }
   ],
   "source": [
    "# вывод размера преобразованной таблицы\n",
    "df.shape"
   ]
  },
  {
   "cell_type": "code",
   "execution_count": 17,
   "metadata": {},
   "outputs": [
    {
     "data": {
      "text/html": [
       "<div>\n",
       "<style scoped>\n",
       "    .dataframe tbody tr th:only-of-type {\n",
       "        vertical-align: middle;\n",
       "    }\n",
       "\n",
       "    .dataframe tbody tr th {\n",
       "        vertical-align: top;\n",
       "    }\n",
       "\n",
       "    .dataframe thead th {\n",
       "        text-align: right;\n",
       "    }\n",
       "</style>\n",
       "<table border=\"1\" class=\"dataframe\">\n",
       "  <thead>\n",
       "    <tr style=\"text-align: right;\">\n",
       "      <th></th>\n",
       "      <th>credit_score</th>\n",
       "      <th>age</th>\n",
       "      <th>tenure</th>\n",
       "      <th>balance</th>\n",
       "      <th>num_of_products</th>\n",
       "      <th>estimated_salary</th>\n",
       "    </tr>\n",
       "  </thead>\n",
       "  <tbody>\n",
       "    <tr>\n",
       "      <th>credit_score</th>\n",
       "      <td>1.000000</td>\n",
       "      <td>-0.003965</td>\n",
       "      <td>0.003087</td>\n",
       "      <td>0.006268</td>\n",
       "      <td>0.012238</td>\n",
       "      <td>-0.001384</td>\n",
       "    </tr>\n",
       "    <tr>\n",
       "      <th>age</th>\n",
       "      <td>-0.003965</td>\n",
       "      <td>1.000000</td>\n",
       "      <td>-0.007368</td>\n",
       "      <td>0.028308</td>\n",
       "      <td>-0.030680</td>\n",
       "      <td>-0.007201</td>\n",
       "    </tr>\n",
       "    <tr>\n",
       "      <th>tenure</th>\n",
       "      <td>0.003087</td>\n",
       "      <td>-0.007368</td>\n",
       "      <td>1.000000</td>\n",
       "      <td>-0.005821</td>\n",
       "      <td>0.010106</td>\n",
       "      <td>0.011225</td>\n",
       "    </tr>\n",
       "    <tr>\n",
       "      <th>balance</th>\n",
       "      <td>0.006268</td>\n",
       "      <td>0.028308</td>\n",
       "      <td>-0.005821</td>\n",
       "      <td>1.000000</td>\n",
       "      <td>-0.304180</td>\n",
       "      <td>0.012797</td>\n",
       "    </tr>\n",
       "    <tr>\n",
       "      <th>num_of_products</th>\n",
       "      <td>0.012238</td>\n",
       "      <td>-0.030680</td>\n",
       "      <td>0.010106</td>\n",
       "      <td>-0.304180</td>\n",
       "      <td>1.000000</td>\n",
       "      <td>0.014204</td>\n",
       "    </tr>\n",
       "    <tr>\n",
       "      <th>estimated_salary</th>\n",
       "      <td>-0.001384</td>\n",
       "      <td>-0.007201</td>\n",
       "      <td>0.011225</td>\n",
       "      <td>0.012797</td>\n",
       "      <td>0.014204</td>\n",
       "      <td>1.000000</td>\n",
       "    </tr>\n",
       "  </tbody>\n",
       "</table>\n",
       "</div>"
      ],
      "text/plain": [
       "                  credit_score       age    tenure   balance  num_of_products  \\\n",
       "credit_score          1.000000 -0.003965  0.003087  0.006268         0.012238   \n",
       "age                  -0.003965  1.000000 -0.007368  0.028308        -0.030680   \n",
       "tenure                0.003087 -0.007368  1.000000 -0.005821         0.010106   \n",
       "balance               0.006268  0.028308 -0.005821  1.000000        -0.304180   \n",
       "num_of_products       0.012238 -0.030680  0.010106 -0.304180         1.000000   \n",
       "estimated_salary     -0.001384 -0.007201  0.011225  0.012797         0.014204   \n",
       "\n",
       "                  estimated_salary  \n",
       "credit_score             -0.001384  \n",
       "age                      -0.007201  \n",
       "tenure                    0.011225  \n",
       "balance                   0.012797  \n",
       "num_of_products           0.014204  \n",
       "estimated_salary          1.000000  "
      ]
     },
     "execution_count": 17,
     "metadata": {},
     "output_type": "execute_result"
    }
   ],
   "source": [
    "# проверим корреляцию количественных признаков с целью проверки данных на мультиколлинеарность\n",
    "df.drop(['has_crcard', 'is_active_member', 'exited'], axis=1). corr()"
   ]
  },
  {
   "cell_type": "code",
   "execution_count": 18,
   "metadata": {},
   "outputs": [
    {
     "data": {
      "text/plain": [
       "0"
      ]
     },
     "execution_count": 18,
     "metadata": {},
     "output_type": "execute_result"
    }
   ],
   "source": [
    "# проверка на полные дубликаты\n",
    "df.duplicated().sum()"
   ]
  },
  {
   "cell_type": "code",
   "execution_count": 19,
   "metadata": {},
   "outputs": [
    {
     "data": {
      "text/plain": [
       "0    0.7963\n",
       "1    0.2037\n",
       "Name: exited, dtype: float64"
      ]
     },
     "execution_count": 19,
     "metadata": {},
     "output_type": "execute_result"
    }
   ],
   "source": [
    "# проверим распределение классов в целевом признаке\n",
    "\n",
    "df['exited'].value_counts(normalize=True)"
   ]
  },
  {
   "cell_type": "markdown",
   "metadata": {},
   "source": [
    "<div class=\"alert alert-info\"> \n",
    "<b> ВЫВОД:</b>\n",
    "\n",
    "Выборка состоит из 10000 объектов. Есть информация по 14 признакам, \n",
    "из них значимыми для модели могут быть 12 (включая, целевой признак).\n",
    "\n",
    "Целевой признак категориальный, перед моделью будет стоять задача бинарной классификации.\n",
    "Есть 4 категориальных признака, остальные признаки количественные.\n",
    "    \n",
    "Согласно описательноый статистике наибольший разброс значений у признаков balance и estamated_salary, что ожидаемо. В целом, явных выбросов в распределении значений признаков не обнаружено.\n",
    "\n",
    "В выборке не обнаружены полные дубликаты, но есть пропуски в признаке tenure (сколько лет человек является клиентом банка),\n",
    "пропуски заменены наиболее подходящим по смыслу значением.\n",
    "\n",
    "Признаки проверены на мультиколлинеарность, проблема не обнаружена.\n",
    "\n",
    "Внутри выборки присутствует неравномерность распределения объектов по целевому признаку. \n",
    "Значений 0 (клиенты, которые остались в банке)\n",
    "почти в 4 раза больше, чем 1 (клиенты,которые ушли из банка).\n",
    "\n",
    "</div>"
   ]
  },
  {
   "cell_type": "markdown",
   "metadata": {},
   "source": [
    "## Исследование задачи"
   ]
  },
  {
   "cell_type": "markdown",
   "metadata": {},
   "source": [
    "### Разделение выборки"
   ]
  },
  {
   "cell_type": "code",
   "execution_count": 21,
   "metadata": {},
   "outputs": [],
   "source": [
    "# разделим выборку сначала на 2 части - обучающую и валидационную + тестовую\n",
    "# при разделении используем стратифицированную выборку для того, чтобы повторить распределение классов целевой переменной\n",
    "\n",
    "df_train, df_valid_test = train_test_split(df, test_size=0.4, random_state=12345, stratify= df['exited'])"
   ]
  },
  {
   "cell_type": "code",
   "execution_count": 22,
   "metadata": {},
   "outputs": [],
   "source": [
    "# разделим валидационную+тестовую часть выборки на валидационную и тестовую соответсвенно\n",
    "# соотношение размеров выборок обучающая : валидационная : тестовая - 60% : 20% : 20%\n",
    "\n",
    "df_valid, df_test = \\\n",
    " train_test_split(df_valid_test, test_size=0.5, random_state=12345, stratify = df_valid_test['exited'])"
   ]
  },
  {
   "cell_type": "code",
   "execution_count": 23,
   "metadata": {},
   "outputs": [
    {
     "data": {
      "text/plain": [
       "(6000, 11)"
      ]
     },
     "execution_count": 23,
     "metadata": {},
     "output_type": "execute_result"
    }
   ],
   "source": [
    "# проверим размеры выборок\n",
    "df_train.shape"
   ]
  },
  {
   "cell_type": "code",
   "execution_count": 24,
   "metadata": {},
   "outputs": [
    {
     "data": {
      "text/plain": [
       "(2000, 11)"
      ]
     },
     "execution_count": 24,
     "metadata": {},
     "output_type": "execute_result"
    }
   ],
   "source": [
    "df_valid.shape"
   ]
  },
  {
   "cell_type": "code",
   "execution_count": 25,
   "metadata": {},
   "outputs": [
    {
     "data": {
      "text/plain": [
       "(2000, 11)"
      ]
     },
     "execution_count": 25,
     "metadata": {},
     "output_type": "execute_result"
    }
   ],
   "source": [
    "df_test.shape"
   ]
  },
  {
   "cell_type": "markdown",
   "metadata": {},
   "source": [
    "### Кодирование категориальных признаков"
   ]
  },
  {
   "cell_type": "code",
   "execution_count": 26,
   "metadata": {},
   "outputs": [],
   "source": [
    "# проведем кодирование категориальных признаков c помощью OneHotEncoder\n",
    "ohe = OneHotEncoder(sparse= False, drop='first')\n",
    "ohe.fit(df_train[['geography','gender']]) \n",
    "\n",
    "def get_ohe(df):\n",
    "    df_ohe = pd.DataFrame(data = ohe.transform(df[['geography','gender']]), columns = ohe.get_feature_names())\n",
    "    df.drop(columns=['geography','gender'], axis=1, inplace = True)\n",
    "    df = pd.concat([df.reset_index(drop=True), df_ohe], axis = 1)\n",
    "    return df\n",
    "    \n",
    "df_train = get_ohe(df_train)\n",
    "df_valid = get_ohe(df_valid) \n",
    "df_test = get_ohe(df_test) "
   ]
  },
  {
   "cell_type": "code",
   "execution_count": 27,
   "metadata": {},
   "outputs": [
    {
     "data": {
      "text/html": [
       "<div>\n",
       "<style scoped>\n",
       "    .dataframe tbody tr th:only-of-type {\n",
       "        vertical-align: middle;\n",
       "    }\n",
       "\n",
       "    .dataframe tbody tr th {\n",
       "        vertical-align: top;\n",
       "    }\n",
       "\n",
       "    .dataframe thead th {\n",
       "        text-align: right;\n",
       "    }\n",
       "</style>\n",
       "<table border=\"1\" class=\"dataframe\">\n",
       "  <thead>\n",
       "    <tr style=\"text-align: right;\">\n",
       "      <th></th>\n",
       "      <th>credit_score</th>\n",
       "      <th>age</th>\n",
       "      <th>tenure</th>\n",
       "      <th>balance</th>\n",
       "      <th>num_of_products</th>\n",
       "      <th>has_crcard</th>\n",
       "      <th>is_active_member</th>\n",
       "      <th>estimated_salary</th>\n",
       "      <th>exited</th>\n",
       "      <th>x0_Germany</th>\n",
       "      <th>x0_Spain</th>\n",
       "      <th>x1_Male</th>\n",
       "    </tr>\n",
       "  </thead>\n",
       "  <tbody>\n",
       "    <tr>\n",
       "      <th>0</th>\n",
       "      <td>549</td>\n",
       "      <td>49</td>\n",
       "      <td>6</td>\n",
       "      <td>124829.16</td>\n",
       "      <td>1</td>\n",
       "      <td>0</td>\n",
       "      <td>1</td>\n",
       "      <td>93551.36</td>\n",
       "      <td>0</td>\n",
       "      <td>1.0</td>\n",
       "      <td>0.0</td>\n",
       "      <td>0.0</td>\n",
       "    </tr>\n",
       "    <tr>\n",
       "      <th>1</th>\n",
       "      <td>694</td>\n",
       "      <td>38</td>\n",
       "      <td>0</td>\n",
       "      <td>195926.39</td>\n",
       "      <td>1</td>\n",
       "      <td>1</td>\n",
       "      <td>1</td>\n",
       "      <td>85522.84</td>\n",
       "      <td>0</td>\n",
       "      <td>0.0</td>\n",
       "      <td>0.0</td>\n",
       "      <td>0.0</td>\n",
       "    </tr>\n",
       "    <tr>\n",
       "      <th>2</th>\n",
       "      <td>660</td>\n",
       "      <td>34</td>\n",
       "      <td>8</td>\n",
       "      <td>106486.66</td>\n",
       "      <td>2</td>\n",
       "      <td>0</td>\n",
       "      <td>1</td>\n",
       "      <td>182262.66</td>\n",
       "      <td>0</td>\n",
       "      <td>0.0</td>\n",
       "      <td>0.0</td>\n",
       "      <td>1.0</td>\n",
       "    </tr>\n",
       "    <tr>\n",
       "      <th>3</th>\n",
       "      <td>632</td>\n",
       "      <td>41</td>\n",
       "      <td>0</td>\n",
       "      <td>81877.38</td>\n",
       "      <td>1</td>\n",
       "      <td>1</td>\n",
       "      <td>1</td>\n",
       "      <td>33642.21</td>\n",
       "      <td>0</td>\n",
       "      <td>1.0</td>\n",
       "      <td>0.0</td>\n",
       "      <td>0.0</td>\n",
       "    </tr>\n",
       "    <tr>\n",
       "      <th>4</th>\n",
       "      <td>580</td>\n",
       "      <td>56</td>\n",
       "      <td>1</td>\n",
       "      <td>131368.30</td>\n",
       "      <td>1</td>\n",
       "      <td>1</td>\n",
       "      <td>0</td>\n",
       "      <td>106918.67</td>\n",
       "      <td>1</td>\n",
       "      <td>0.0</td>\n",
       "      <td>0.0</td>\n",
       "      <td>0.0</td>\n",
       "    </tr>\n",
       "  </tbody>\n",
       "</table>\n",
       "</div>"
      ],
      "text/plain": [
       "   credit_score  age  tenure    balance  num_of_products  has_crcard  \\\n",
       "0           549   49       6  124829.16                1           0   \n",
       "1           694   38       0  195926.39                1           1   \n",
       "2           660   34       8  106486.66                2           0   \n",
       "3           632   41       0   81877.38                1           1   \n",
       "4           580   56       1  131368.30                1           1   \n",
       "\n",
       "   is_active_member  estimated_salary  exited  x0_Germany  x0_Spain  x1_Male  \n",
       "0                 1          93551.36       0         1.0       0.0      0.0  \n",
       "1                 1          85522.84       0         0.0       0.0      0.0  \n",
       "2                 1         182262.66       0         0.0       0.0      1.0  \n",
       "3                 1          33642.21       0         1.0       0.0      0.0  \n",
       "4                 0         106918.67       1         0.0       0.0      0.0  "
      ]
     },
     "execution_count": 27,
     "metadata": {},
     "output_type": "execute_result"
    }
   ],
   "source": [
    "df_train.head()"
   ]
  },
  {
   "cell_type": "code",
   "execution_count": 28,
   "metadata": {},
   "outputs": [
    {
     "data": {
      "text/plain": [
       "(6000, 12)"
      ]
     },
     "execution_count": 28,
     "metadata": {},
     "output_type": "execute_result"
    }
   ],
   "source": [
    "df_train.shape"
   ]
  },
  {
   "cell_type": "markdown",
   "metadata": {},
   "source": [
    "### Масштабирование количественных признаков"
   ]
  },
  {
   "cell_type": "code",
   "execution_count": 29,
   "metadata": {},
   "outputs": [],
   "source": [
    "# обозначим целевой признак и остальные признаки\n",
    "features_train = df_train.drop('exited', axis=1)\n",
    "target_train = df_train['exited']\n",
    "\n",
    "features_valid = df_valid.drop('exited', axis=1)\n",
    "target_valid = df_valid['exited']\n",
    "\n",
    "features_test = df_test.drop('exited', axis=1)\n",
    "target_test = df_test['exited']"
   ]
  },
  {
   "cell_type": "code",
   "execution_count": 30,
   "metadata": {},
   "outputs": [],
   "source": [
    "# проведем масштабирование количественных признаков \n",
    "\n",
    "numeric = ['credit_score', 'age', 'tenure', 'balance', 'num_of_products', 'estimated_salary']\n",
    "\n",
    "scaler = StandardScaler()\n",
    "scaler.fit(features_train[numeric]) \n",
    "features_train[numeric] = scaler.transform(features_train[numeric])\n",
    "features_valid[numeric] = scaler.transform(features_valid[numeric]) \n",
    "features_test[numeric] = scaler.transform(features_test[numeric])  "
   ]
  },
  {
   "cell_type": "markdown",
   "metadata": {},
   "source": [
    "### Моделирование, выбор наилучшей модели"
   ]
  },
  {
   "cell_type": "markdown",
   "metadata": {},
   "source": [
    "Построим следующие модели классификации:\n",
    "- Решающее дерево\n",
    "- Логистическая регрессия\n",
    "- Случайный лес\n",
    "\n",
    "Оценим качество моделей при помощи f1 меры."
   ]
  },
  {
   "cell_type": "code",
   "execution_count": 31,
   "metadata": {
    "scrolled": false
   },
   "outputs": [
    {
     "data": {
      "text/html": [
       "<div>\n",
       "<style scoped>\n",
       "    .dataframe tbody tr th:only-of-type {\n",
       "        vertical-align: middle;\n",
       "    }\n",
       "\n",
       "    .dataframe tbody tr th {\n",
       "        vertical-align: top;\n",
       "    }\n",
       "\n",
       "    .dataframe thead th {\n",
       "        text-align: right;\n",
       "    }\n",
       "</style>\n",
       "<table border=\"1\" class=\"dataframe\">\n",
       "  <thead>\n",
       "    <tr style=\"text-align: right;\">\n",
       "      <th></th>\n",
       "      <th>max_depth</th>\n",
       "      <th>f1_score</th>\n",
       "    </tr>\n",
       "  </thead>\n",
       "  <tbody>\n",
       "    <tr>\n",
       "      <th>0</th>\n",
       "      <td>1</td>\n",
       "      <td>0.000000</td>\n",
       "    </tr>\n",
       "    <tr>\n",
       "      <th>1</th>\n",
       "      <td>2</td>\n",
       "      <td>0.520349</td>\n",
       "    </tr>\n",
       "    <tr>\n",
       "      <th>2</th>\n",
       "      <td>3</td>\n",
       "      <td>0.537572</td>\n",
       "    </tr>\n",
       "    <tr>\n",
       "      <th>3</th>\n",
       "      <td>4</td>\n",
       "      <td>0.520635</td>\n",
       "    </tr>\n",
       "    <tr>\n",
       "      <th>4</th>\n",
       "      <td>5</td>\n",
       "      <td>0.545455</td>\n",
       "    </tr>\n",
       "    <tr>\n",
       "      <th>5</th>\n",
       "      <td>6</td>\n",
       "      <td>0.574468</td>\n",
       "    </tr>\n",
       "    <tr>\n",
       "      <th>6</th>\n",
       "      <td>7</td>\n",
       "      <td>0.592486</td>\n",
       "    </tr>\n",
       "    <tr>\n",
       "      <th>7</th>\n",
       "      <td>8</td>\n",
       "      <td>0.567073</td>\n",
       "    </tr>\n",
       "    <tr>\n",
       "      <th>8</th>\n",
       "      <td>9</td>\n",
       "      <td>0.558824</td>\n",
       "    </tr>\n",
       "    <tr>\n",
       "      <th>9</th>\n",
       "      <td>10</td>\n",
       "      <td>0.545455</td>\n",
       "    </tr>\n",
       "    <tr>\n",
       "      <th>10</th>\n",
       "      <td>11</td>\n",
       "      <td>0.540390</td>\n",
       "    </tr>\n",
       "    <tr>\n",
       "      <th>11</th>\n",
       "      <td>12</td>\n",
       "      <td>0.531544</td>\n",
       "    </tr>\n",
       "    <tr>\n",
       "      <th>12</th>\n",
       "      <td>13</td>\n",
       "      <td>0.532650</td>\n",
       "    </tr>\n",
       "    <tr>\n",
       "      <th>13</th>\n",
       "      <td>14</td>\n",
       "      <td>0.511057</td>\n",
       "    </tr>\n",
       "    <tr>\n",
       "      <th>14</th>\n",
       "      <td>15</td>\n",
       "      <td>0.517533</td>\n",
       "    </tr>\n",
       "    <tr>\n",
       "      <th>15</th>\n",
       "      <td>16</td>\n",
       "      <td>0.523868</td>\n",
       "    </tr>\n",
       "    <tr>\n",
       "      <th>16</th>\n",
       "      <td>17</td>\n",
       "      <td>0.510896</td>\n",
       "    </tr>\n",
       "    <tr>\n",
       "      <th>17</th>\n",
       "      <td>18</td>\n",
       "      <td>0.515826</td>\n",
       "    </tr>\n",
       "    <tr>\n",
       "      <th>18</th>\n",
       "      <td>19</td>\n",
       "      <td>0.514899</td>\n",
       "    </tr>\n",
       "    <tr>\n",
       "      <th>19</th>\n",
       "      <td>20</td>\n",
       "      <td>0.514085</td>\n",
       "    </tr>\n",
       "  </tbody>\n",
       "</table>\n",
       "</div>"
      ],
      "text/plain": [
       "    max_depth  f1_score\n",
       "0           1  0.000000\n",
       "1           2  0.520349\n",
       "2           3  0.537572\n",
       "3           4  0.520635\n",
       "4           5  0.545455\n",
       "5           6  0.574468\n",
       "6           7  0.592486\n",
       "7           8  0.567073\n",
       "8           9  0.558824\n",
       "9          10  0.545455\n",
       "10         11  0.540390\n",
       "11         12  0.531544\n",
       "12         13  0.532650\n",
       "13         14  0.511057\n",
       "14         15  0.517533\n",
       "15         16  0.523868\n",
       "16         17  0.510896\n",
       "17         18  0.515826\n",
       "18         19  0.514899\n",
       "19         20  0.514085"
      ]
     },
     "metadata": {},
     "output_type": "display_data"
    },
    {
     "name": "stdout",
     "output_type": "stream",
     "text": [
      "Наилучший результат решающего дерева:\n",
      "   max_depth  f1_score\n",
      "6          7  0.592486\n"
     ]
    }
   ],
   "source": [
    "# построим модель решающего дерева\n",
    "# изменяя глубину дерева выберем модель с наилучшей f1-метрикой\n",
    "\n",
    "def find_best_DT(maxmax_depth, class_weight, features, target): \n",
    "    f1_scores = []\n",
    "    for depth in range(1,maxmax_depth):\n",
    "        model = DecisionTreeClassifier(random_state=12345, max_depth = depth, class_weight = class_weight)\n",
    "        model.fit(features, target)\n",
    "        predictions_valid = model.predict(features_valid)\n",
    "        f1 = f1_score(target_valid, predictions_valid)\n",
    "        f1_scores.append(f1)\n",
    "    DT_results = pd.DataFrame({'max_depth' : pd.Series(range(1,maxmax_depth)),\n",
    "                              'f1_score' : f1_scores})\n",
    "    return DT_results\n",
    "\n",
    "\n",
    "best_DT = find_best_DT(21, None, features_train, target_train)\n",
    "display(best_DT)\n",
    "\n",
    "print('Наилучший результат решающего дерева:')\n",
    "print(best_DT[best_DT['f1_score'] == best_DT['f1_score'].max ()])"
   ]
  },
  {
   "cell_type": "markdown",
   "metadata": {},
   "source": [
    "Наилучший результат f1 метрики модели решающего дерева достигается при глубине 7, f1 = 0.59"
   ]
  },
  {
   "cell_type": "code",
   "execution_count": 32,
   "metadata": {},
   "outputs": [
    {
     "name": "stdout",
     "output_type": "stream",
     "text": [
      "F1-score: 0.3076923076923077\n"
     ]
    }
   ],
   "source": [
    "# построим модель логистической регрессии, посмотрим на результаты f1 метрики\n",
    "\n",
    "model_log = LogisticRegression(solver = 'liblinear', random_state=12345)\n",
    "model_log.fit(features_train, target_train)\n",
    "predictions_valid_log = model_log.predict(features_valid)\n",
    "f1 = f1_score(target_valid, predictions_valid_log)\n",
    "print('F1-score:', f1)"
   ]
  },
  {
   "cell_type": "markdown",
   "metadata": {},
   "source": [
    "Значение F1 метрики у модели логистической регрессии составило 0,31."
   ]
  },
  {
   "cell_type": "code",
   "execution_count": 33,
   "metadata": {
    "scrolled": false
   },
   "outputs": [
    {
     "data": {
      "text/html": [
       "<div>\n",
       "<style scoped>\n",
       "    .dataframe tbody tr th:only-of-type {\n",
       "        vertical-align: middle;\n",
       "    }\n",
       "\n",
       "    .dataframe tbody tr th {\n",
       "        vertical-align: top;\n",
       "    }\n",
       "\n",
       "    .dataframe thead th {\n",
       "        text-align: right;\n",
       "    }\n",
       "</style>\n",
       "<table border=\"1\" class=\"dataframe\">\n",
       "  <thead>\n",
       "    <tr style=\"text-align: right;\">\n",
       "      <th></th>\n",
       "      <th>n_estimators</th>\n",
       "      <th>max_depth</th>\n",
       "      <th>f1_score</th>\n",
       "    </tr>\n",
       "  </thead>\n",
       "  <tbody>\n",
       "    <tr>\n",
       "      <th>0</th>\n",
       "      <td>10</td>\n",
       "      <td>1</td>\n",
       "      <td>0.000000</td>\n",
       "    </tr>\n",
       "    <tr>\n",
       "      <th>1</th>\n",
       "      <td>10</td>\n",
       "      <td>2</td>\n",
       "      <td>0.227957</td>\n",
       "    </tr>\n",
       "    <tr>\n",
       "      <th>2</th>\n",
       "      <td>10</td>\n",
       "      <td>3</td>\n",
       "      <td>0.253165</td>\n",
       "    </tr>\n",
       "    <tr>\n",
       "      <th>3</th>\n",
       "      <td>10</td>\n",
       "      <td>4</td>\n",
       "      <td>0.525790</td>\n",
       "    </tr>\n",
       "    <tr>\n",
       "      <th>4</th>\n",
       "      <td>10</td>\n",
       "      <td>5</td>\n",
       "      <td>0.542811</td>\n",
       "    </tr>\n",
       "    <tr>\n",
       "      <th>5</th>\n",
       "      <td>10</td>\n",
       "      <td>6</td>\n",
       "      <td>0.537459</td>\n",
       "    </tr>\n",
       "    <tr>\n",
       "      <th>6</th>\n",
       "      <td>10</td>\n",
       "      <td>7</td>\n",
       "      <td>0.563780</td>\n",
       "    </tr>\n",
       "    <tr>\n",
       "      <th>7</th>\n",
       "      <td>10</td>\n",
       "      <td>8</td>\n",
       "      <td>0.583717</td>\n",
       "    </tr>\n",
       "    <tr>\n",
       "      <th>8</th>\n",
       "      <td>10</td>\n",
       "      <td>9</td>\n",
       "      <td>0.584759</td>\n",
       "    </tr>\n",
       "    <tr>\n",
       "      <th>9</th>\n",
       "      <td>10</td>\n",
       "      <td>10</td>\n",
       "      <td>0.600000</td>\n",
       "    </tr>\n",
       "    <tr>\n",
       "      <th>10</th>\n",
       "      <td>10</td>\n",
       "      <td>11</td>\n",
       "      <td>0.590705</td>\n",
       "    </tr>\n",
       "    <tr>\n",
       "      <th>11</th>\n",
       "      <td>10</td>\n",
       "      <td>12</td>\n",
       "      <td>0.592920</td>\n",
       "    </tr>\n",
       "    <tr>\n",
       "      <th>12</th>\n",
       "      <td>10</td>\n",
       "      <td>13</td>\n",
       "      <td>0.596844</td>\n",
       "    </tr>\n",
       "    <tr>\n",
       "      <th>13</th>\n",
       "      <td>10</td>\n",
       "      <td>14</td>\n",
       "      <td>0.586861</td>\n",
       "    </tr>\n",
       "    <tr>\n",
       "      <th>14</th>\n",
       "      <td>10</td>\n",
       "      <td>15</td>\n",
       "      <td>0.589971</td>\n",
       "    </tr>\n",
       "  </tbody>\n",
       "</table>\n",
       "</div>"
      ],
      "text/plain": [
       "    n_estimators  max_depth  f1_score\n",
       "0             10          1  0.000000\n",
       "1             10          2  0.227957\n",
       "2             10          3  0.253165\n",
       "3             10          4  0.525790\n",
       "4             10          5  0.542811\n",
       "5             10          6  0.537459\n",
       "6             10          7  0.563780\n",
       "7             10          8  0.583717\n",
       "8             10          9  0.584759\n",
       "9             10         10  0.600000\n",
       "10            10         11  0.590705\n",
       "11            10         12  0.592920\n",
       "12            10         13  0.596844\n",
       "13            10         14  0.586861\n",
       "14            10         15  0.589971"
      ]
     },
     "metadata": {},
     "output_type": "display_data"
    },
    {
     "name": "stdout",
     "output_type": "stream",
     "text": [
      "Наилучший результат модели случайного леса:\n",
      "    n_estimators  max_depth  f1_score\n",
      "57            30         18  0.618076\n"
     ]
    }
   ],
   "source": [
    "#построим модель случайного леса, варьируя количеством деревьев от 10 до 200 с шагом 10 и \n",
    "# и максимальной глубиной деревьев в каждой из моделей\n",
    "\n",
    "def find_best_RF(n_est, maxmax_depth, class_weight, features, target): \n",
    "    f1_scores = []\n",
    "    n_estimators = []\n",
    "    max_depth = []\n",
    "    for est in range(10, n_est, 10):\n",
    "        for depth in range(1,maxmax_depth):\n",
    "            n_estimators.append(est)\n",
    "            max_depth.append(depth)\n",
    "            model = RandomForestClassifier(n_estimators = est, random_state=12345, max_depth = depth, \\\n",
    "                                           class_weight = class_weight)\n",
    "            model.fit(features, target)\n",
    "            predictions_valid = model.predict(features_valid)\n",
    "            f1 = f1_score(target_valid, predictions_valid)\n",
    "            f1_scores.append(f1)\n",
    "            RF_results = pd.DataFrame({'n_estimators': n_estimators,\n",
    "                                        'max_depth' : max_depth,\n",
    "                                        'f1_score' : f1_scores})\n",
    "    return RF_results\n",
    "\n",
    "\n",
    "best_RF = find_best_RF(200, 21, None, features_train, target_train)\n",
    "display(best_RF.head(15))\n",
    "\n",
    "print('Наилучший результат модели случайного леса:')\n",
    "print(best_RF[best_RF['f1_score'] == best_RF['f1_score']. max()])"
   ]
  },
  {
   "cell_type": "markdown",
   "metadata": {},
   "source": [
    "Наилучший результат f1 метрики достигается при количестве деревьев равном 30, максимальной глубине 18.\n",
    "F1 метрика составила 0,62."
   ]
  },
  {
   "cell_type": "code",
   "execution_count": 34,
   "metadata": {},
   "outputs": [
    {
     "name": "stdout",
     "output_type": "stream",
     "text": [
      "Наилучшая модель решающего дерева: precision =  0.7218,    recall =  0.5025, f1 =  0.5925, auc_roc =  0.8247\n",
      "Mодель логистической регрессии: precision =  0.6087,    recall =  0.2059, f1 =  0.3077, auc_roc =  0.7876\n",
      "Наилучшая модель случайного леса: precision =  0.7626,   recall =  0.5196, f1 =  0.6181, auc_roc =  0.8548\n"
     ]
    }
   ],
   "source": [
    "# посмотрим на метрики precision, recall, f1 и roc_auc_score для каждого вида модели \n",
    "# возьмем наилучшую модель каждого типа\n",
    "\n",
    "#функция подсчета метрик модели\n",
    "\n",
    "def get_metrics(model, features, target):\n",
    "    model.fit(features, target)\n",
    "    predictions = model.predict(features_valid)\n",
    "    precision = precision_score(target_valid,predictions)\n",
    "    recall = recall_score(target_valid,predictions)\n",
    "    f1 = f1_score(target_valid,predictions)\n",
    "    auc_roc = roc_auc_score(target_valid,model.predict_proba(features_valid)[:, 1])\n",
    "    return precision, recall, f1, auc_roc\n",
    "\n",
    "# считаем метрики для модели решающего дерева\n",
    "best_model_dt = DecisionTreeClassifier(random_state=12345, max_depth = 7)\n",
    "metrics_dt = get_metrics(best_model_dt, features_train, target_train)\n",
    "print(f'Наилучшая модель решающего дерева: precision = {metrics_dt[0] : .4f}, \\\n",
    "   recall = {metrics_dt[1]: .4f}, f1 = {metrics_dt[2]: .4f}, auc_roc = {metrics_dt[3]: .4f}')\n",
    "\n",
    "# считаем метрики для модели логистической регрессии\n",
    "model_log = LogisticRegression(solver = 'liblinear', random_state=12345)\n",
    "metrics_log = get_metrics(model_log, features_train, target_train)\n",
    "print(f'Mодель логистической регрессии: precision = {metrics_log[0] : .4f}, \\\n",
    "   recall = {metrics_log[1]: .4f}, f1 = {metrics_log[2]: .4f}, auc_roc = {metrics_log[3]: .4f}')\n",
    "\n",
    "# считаем метрики для модели случайного леса\n",
    "best_model_rf = RandomForestClassifier(n_estimators = 30, max_depth = 18, random_state=12345)\n",
    "metrics_rf = get_metrics(best_model_rf, features_train, target_train)\n",
    "print(f'Наилучшая модель случайного леса: precision = {metrics_rf[0] : .4f}, \\\n",
    "  recall = {metrics_rf[1]: .4f}, f1 = {metrics_rf[2]: .4f}, auc_roc = {metrics_rf[3]: .4f}')"
   ]
  },
  {
   "cell_type": "code",
   "execution_count": 35,
   "metadata": {
    "scrolled": false
   },
   "outputs": [
    {
     "data": {
      "image/png": "[encoded data removed]",
      "text/plain": [
       "<Figure size 864x576 with 1 Axes>"
      ]
     },
     "metadata": {
      "needs_background": "light"
     },
     "output_type": "display_data"
    }
   ],
   "source": [
    "#построим roc-curve для каждой модели\n",
    "\n",
    "plt.figure(figsize=(12,8))\n",
    "fpr, tpr, thresholds = roc_curve(target_valid, best_model_dt.predict_proba(features_valid)[:, 1]) \n",
    "plt.plot(fpr, tpr, label ='decision_tree')\n",
    "\n",
    "fpr, tpr, thresholds = roc_curve(target_valid, model_log.predict_proba(features_valid)[:, 1]) \n",
    "plt.plot(fpr, tpr, label = 'logistic_regression')\n",
    "\n",
    "fpr, tpr, thresholds = roc_curve(target_valid, best_model_rf.predict_proba(features_valid)[:, 1]) \n",
    "plt.plot(fpr, tpr, label = 'random_forest')\n",
    "\n",
    "plt.xlim([0,1])\n",
    "plt.ylim([0,1])\n",
    "plt.xlabel('False Positive Rate')\n",
    "plt.ylabel('True Positive Rate')\n",
    "plt.title('ROC-кривая')\n",
    "plt.legend()\n",
    "\n",
    "# roc-кривая случайной модели\n",
    "plt.plot([0, 1], [0, 1], linestyle='--')\n",
    "plt.show()\n"
   ]
  },
  {
   "cell_type": "markdown",
   "metadata": {},
   "source": [
    "Наилучшее значение метрик и ROC-кривой у модели случайного леса."
   ]
  },
  {
   "cell_type": "markdown",
   "metadata": {},
   "source": [
    "<div class=\"alert alert-info\"> \n",
    "<b> ВЫВОД:</b>\n",
    "\n",
    "Перед построением модели были проведены прямое кодирование (поскольку есть несколько категориальных признаков), \n",
    "а также масштабирование количественных признаков (разброс показателей количественных признаков различный, \n",
    "для адекватной оценки их значимости моделью, необходимо привести к единому масштабу).\n",
    "   \n",
    "Затем были исследованы три модели классификации с изменением гиперпараметров:\n",
    "    \n",
    "   1. Модель решающего дерева: показала наилучший показатель f1 0.59 метрики в  при глубине дерева 7\n",
    "    \n",
    "   2. Модель линейной регрессии: f1 =  0.31\n",
    "    \n",
    "   3. Модель случайного леса: наилучший показатель f1 составил 0.62\n",
    "   \n",
    "Наибольший показатель F1-меры  у модели случайного леса (0.62), затем - модель решающего дерева (0.59), \n",
    "на третьем месте - модель линейной регрессии (0.31).\n",
    "    \n",
    "Проведено сравнение моделей по другим метрикам (precision, recall, roc_auc), а также построены ROC-кривые.\n",
    "На основании данного сравнения выбрана модель случайного леса с фиксированным количеством деревьев и максимальной глубиной.\n",
    "    \n",
    "Поработаем над устранением дисбаланса классов целевого признака для улучшения показателей.\n",
    "\n",
    "</div>"
   ]
  },
  {
   "cell_type": "markdown",
   "metadata": {},
   "source": [
    "## Борьба с дисбалансом"
   ]
  },
  {
   "cell_type": "markdown",
   "metadata": {},
   "source": [
    "Поработаем с дисбалансом классов в целевом признаке при помощи следующих методов:\n",
    "\n",
    "    - Взвешивание классов\n",
    "    - Увеличение выборки (добавление объектов редкого класса)\n",
    "    - Уменьшение выборки (сокращение объектов популярного класса)"
   ]
  },
  {
   "cell_type": "markdown",
   "metadata": {},
   "source": [
    "### Взвешивание классов"
   ]
  },
  {
   "cell_type": "code",
   "execution_count": 36,
   "metadata": {},
   "outputs": [
    {
     "data": {
      "text/html": [
       "<div>\n",
       "<style scoped>\n",
       "    .dataframe tbody tr th:only-of-type {\n",
       "        vertical-align: middle;\n",
       "    }\n",
       "\n",
       "    .dataframe tbody tr th {\n",
       "        vertical-align: top;\n",
       "    }\n",
       "\n",
       "    .dataframe thead th {\n",
       "        text-align: right;\n",
       "    }\n",
       "</style>\n",
       "<table border=\"1\" class=\"dataframe\">\n",
       "  <thead>\n",
       "    <tr style=\"text-align: right;\">\n",
       "      <th></th>\n",
       "      <th>max_depth</th>\n",
       "      <th>f1_score</th>\n",
       "    </tr>\n",
       "  </thead>\n",
       "  <tbody>\n",
       "    <tr>\n",
       "      <th>0</th>\n",
       "      <td>1</td>\n",
       "      <td>0.484653</td>\n",
       "    </tr>\n",
       "    <tr>\n",
       "      <th>1</th>\n",
       "      <td>2</td>\n",
       "      <td>0.498011</td>\n",
       "    </tr>\n",
       "    <tr>\n",
       "      <th>2</th>\n",
       "      <td>3</td>\n",
       "      <td>0.520710</td>\n",
       "    </tr>\n",
       "    <tr>\n",
       "      <th>3</th>\n",
       "      <td>4</td>\n",
       "      <td>0.560932</td>\n",
       "    </tr>\n",
       "    <tr>\n",
       "      <th>4</th>\n",
       "      <td>5</td>\n",
       "      <td>0.554649</td>\n",
       "    </tr>\n",
       "    <tr>\n",
       "      <th>5</th>\n",
       "      <td>6</td>\n",
       "      <td>0.575926</td>\n",
       "    </tr>\n",
       "    <tr>\n",
       "      <th>6</th>\n",
       "      <td>7</td>\n",
       "      <td>0.575045</td>\n",
       "    </tr>\n",
       "    <tr>\n",
       "      <th>7</th>\n",
       "      <td>8</td>\n",
       "      <td>0.549411</td>\n",
       "    </tr>\n",
       "    <tr>\n",
       "      <th>8</th>\n",
       "      <td>9</td>\n",
       "      <td>0.541586</td>\n",
       "    </tr>\n",
       "    <tr>\n",
       "      <th>9</th>\n",
       "      <td>10</td>\n",
       "      <td>0.527147</td>\n",
       "    </tr>\n",
       "    <tr>\n",
       "      <th>10</th>\n",
       "      <td>11</td>\n",
       "      <td>0.522822</td>\n",
       "    </tr>\n",
       "    <tr>\n",
       "      <th>11</th>\n",
       "      <td>12</td>\n",
       "      <td>0.518595</td>\n",
       "    </tr>\n",
       "    <tr>\n",
       "      <th>12</th>\n",
       "      <td>13</td>\n",
       "      <td>0.517876</td>\n",
       "    </tr>\n",
       "    <tr>\n",
       "      <th>13</th>\n",
       "      <td>14</td>\n",
       "      <td>0.517467</td>\n",
       "    </tr>\n",
       "    <tr>\n",
       "      <th>14</th>\n",
       "      <td>15</td>\n",
       "      <td>0.509714</td>\n",
       "    </tr>\n",
       "    <tr>\n",
       "      <th>15</th>\n",
       "      <td>16</td>\n",
       "      <td>0.506388</td>\n",
       "    </tr>\n",
       "    <tr>\n",
       "      <th>16</th>\n",
       "      <td>17</td>\n",
       "      <td>0.501767</td>\n",
       "    </tr>\n",
       "    <tr>\n",
       "      <th>17</th>\n",
       "      <td>18</td>\n",
       "      <td>0.501775</td>\n",
       "    </tr>\n",
       "    <tr>\n",
       "      <th>18</th>\n",
       "      <td>19</td>\n",
       "      <td>0.494005</td>\n",
       "    </tr>\n",
       "    <tr>\n",
       "      <th>19</th>\n",
       "      <td>20</td>\n",
       "      <td>0.505389</td>\n",
       "    </tr>\n",
       "  </tbody>\n",
       "</table>\n",
       "</div>"
      ],
      "text/plain": [
       "    max_depth  f1_score\n",
       "0           1  0.484653\n",
       "1           2  0.498011\n",
       "2           3  0.520710\n",
       "3           4  0.560932\n",
       "4           5  0.554649\n",
       "5           6  0.575926\n",
       "6           7  0.575045\n",
       "7           8  0.549411\n",
       "8           9  0.541586\n",
       "9          10  0.527147\n",
       "10         11  0.522822\n",
       "11         12  0.518595\n",
       "12         13  0.517876\n",
       "13         14  0.517467\n",
       "14         15  0.509714\n",
       "15         16  0.506388\n",
       "16         17  0.501767\n",
       "17         18  0.501775\n",
       "18         19  0.494005\n",
       "19         20  0.505389"
      ]
     },
     "metadata": {},
     "output_type": "display_data"
    },
    {
     "name": "stdout",
     "output_type": "stream",
     "text": [
      "Наилучший результат решающего дерева со взвешенными классами:\n",
      "   max_depth  f1_score\n",
      "5          6  0.575926\n"
     ]
    }
   ],
   "source": [
    "# применим взвешивание классов для модели решающего дерева\n",
    "best_DT_weighted = find_best_DT(21, \"balanced\", features_train, target_train)\n",
    "display(best_DT_weighted)\n",
    "\n",
    "print('Наилучший результат решающего дерева со взвешенными классами:')\n",
    "print(best_DT_weighted[best_DT_weighted['f1_score'] == best_DT_weighted['f1_score']. max ()])"
   ]
  },
  {
   "cell_type": "code",
   "execution_count": 37,
   "metadata": {},
   "outputs": [
    {
     "name": "stdout",
     "output_type": "stream",
     "text": [
      "F1-score: 0.5302897278314311\n"
     ]
    }
   ],
   "source": [
    "# применим взвешивание классов для модели логистической регрессии\n",
    "\n",
    "model_log = LogisticRegression(solver = 'liblinear', random_state=12345, class_weight = 'balanced')\n",
    "model_log.fit(features_train, target_train)\n",
    "predictions_valid_log = model_log.predict(features_valid)\n",
    "f1 = f1_score(target_valid, predictions_valid_log)\n",
    "print('F1-score:', f1)"
   ]
  },
  {
   "cell_type": "code",
   "execution_count": 38,
   "metadata": {},
   "outputs": [
    {
     "data": {
      "text/html": [
       "<div>\n",
       "<style scoped>\n",
       "    .dataframe tbody tr th:only-of-type {\n",
       "        vertical-align: middle;\n",
       "    }\n",
       "\n",
       "    .dataframe tbody tr th {\n",
       "        vertical-align: top;\n",
       "    }\n",
       "\n",
       "    .dataframe thead th {\n",
       "        text-align: right;\n",
       "    }\n",
       "</style>\n",
       "<table border=\"1\" class=\"dataframe\">\n",
       "  <thead>\n",
       "    <tr style=\"text-align: right;\">\n",
       "      <th></th>\n",
       "      <th>n_estimators</th>\n",
       "      <th>max_depth</th>\n",
       "      <th>f1_score</th>\n",
       "    </tr>\n",
       "  </thead>\n",
       "  <tbody>\n",
       "    <tr>\n",
       "      <th>0</th>\n",
       "      <td>10</td>\n",
       "      <td>1</td>\n",
       "      <td>0.496938</td>\n",
       "    </tr>\n",
       "    <tr>\n",
       "      <th>1</th>\n",
       "      <td>10</td>\n",
       "      <td>2</td>\n",
       "      <td>0.579624</td>\n",
       "    </tr>\n",
       "    <tr>\n",
       "      <th>2</th>\n",
       "      <td>10</td>\n",
       "      <td>3</td>\n",
       "      <td>0.580407</td>\n",
       "    </tr>\n",
       "    <tr>\n",
       "      <th>3</th>\n",
       "      <td>10</td>\n",
       "      <td>4</td>\n",
       "      <td>0.614271</td>\n",
       "    </tr>\n",
       "    <tr>\n",
       "      <th>4</th>\n",
       "      <td>10</td>\n",
       "      <td>5</td>\n",
       "      <td>0.611452</td>\n",
       "    </tr>\n",
       "    <tr>\n",
       "      <th>5</th>\n",
       "      <td>10</td>\n",
       "      <td>6</td>\n",
       "      <td>0.617954</td>\n",
       "    </tr>\n",
       "    <tr>\n",
       "      <th>6</th>\n",
       "      <td>10</td>\n",
       "      <td>7</td>\n",
       "      <td>0.626033</td>\n",
       "    </tr>\n",
       "    <tr>\n",
       "      <th>7</th>\n",
       "      <td>10</td>\n",
       "      <td>8</td>\n",
       "      <td>0.634093</td>\n",
       "    </tr>\n",
       "    <tr>\n",
       "      <th>8</th>\n",
       "      <td>10</td>\n",
       "      <td>9</td>\n",
       "      <td>0.625866</td>\n",
       "    </tr>\n",
       "    <tr>\n",
       "      <th>9</th>\n",
       "      <td>10</td>\n",
       "      <td>10</td>\n",
       "      <td>0.618877</td>\n",
       "    </tr>\n",
       "    <tr>\n",
       "      <th>10</th>\n",
       "      <td>10</td>\n",
       "      <td>11</td>\n",
       "      <td>0.606827</td>\n",
       "    </tr>\n",
       "    <tr>\n",
       "      <th>11</th>\n",
       "      <td>10</td>\n",
       "      <td>12</td>\n",
       "      <td>0.615187</td>\n",
       "    </tr>\n",
       "    <tr>\n",
       "      <th>12</th>\n",
       "      <td>10</td>\n",
       "      <td>13</td>\n",
       "      <td>0.599190</td>\n",
       "    </tr>\n",
       "    <tr>\n",
       "      <th>13</th>\n",
       "      <td>10</td>\n",
       "      <td>14</td>\n",
       "      <td>0.601889</td>\n",
       "    </tr>\n",
       "    <tr>\n",
       "      <th>14</th>\n",
       "      <td>10</td>\n",
       "      <td>15</td>\n",
       "      <td>0.593438</td>\n",
       "    </tr>\n",
       "  </tbody>\n",
       "</table>\n",
       "</div>"
      ],
      "text/plain": [
       "    n_estimators  max_depth  f1_score\n",
       "0             10          1  0.496938\n",
       "1             10          2  0.579624\n",
       "2             10          3  0.580407\n",
       "3             10          4  0.614271\n",
       "4             10          5  0.611452\n",
       "5             10          6  0.617954\n",
       "6             10          7  0.626033\n",
       "7             10          8  0.634093\n",
       "8             10          9  0.625866\n",
       "9             10         10  0.618877\n",
       "10            10         11  0.606827\n",
       "11            10         12  0.615187\n",
       "12            10         13  0.599190\n",
       "13            10         14  0.601889\n",
       "14            10         15  0.593438"
      ]
     },
     "metadata": {},
     "output_type": "display_data"
    },
    {
     "name": "stdout",
     "output_type": "stream",
     "text": [
      "Наилучший результат модели случайного леса cсо взвешенными классами:\n",
      "     n_estimators  max_depth  f1_score\n",
      "287           150          8  0.655666\n"
     ]
    }
   ],
   "source": [
    "# применим взвешивание классов для модели случайного леса\n",
    "best_RF_weighted = find_best_RF(200, 21, \"balanced\", features_train, target_train)\n",
    "display(best_RF_weighted.head(15))\n",
    "\n",
    "print('Наилучший результат модели случайного леса cсо взвешенными классами:')\n",
    "print(best_RF_weighted[best_RF_weighted['f1_score'] == best_RF_weighted['f1_score'].max()])\n"
   ]
  },
  {
   "cell_type": "markdown",
   "metadata": {},
   "source": [
    "Метод взвешивания классов помог улучшить качество моделей логистической регрессии и случайного леса. Максимального значения f1 метрики удалось достичь для модели случайного леса с максимальной глубиной  равной 8 и количеством деревьев равным 150. F1 = 0.656"
   ]
  },
  {
   "cell_type": "markdown",
   "metadata": {},
   "source": [
    "### Метод увеличения выборки. Upsampling"
   ]
  },
  {
   "cell_type": "code",
   "execution_count": 39,
   "metadata": {},
   "outputs": [],
   "source": [
    "# увеличиваем выборку с помощью добавления объектов с редким классом по целевому признаку\n",
    "\n",
    "\n",
    "def upsample(features, target, repeat):\n",
    "    features_zeros = features[target == 0]\n",
    "    features_ones = features[target == 1]\n",
    "    target_zeros = target[target == 0]\n",
    "    target_ones = target[target == 1]\n",
    "\n",
    "    features_upsampled = pd.concat([features_zeros] + [features_ones] * repeat)\n",
    "    target_upsampled = pd.concat([target_zeros] + [target_ones] * repeat)\n",
    "    \n",
    "    features_upsampled, target_upsampled = shuffle(features_upsampled, target_upsampled, random_state=12345)\n",
    "    \n",
    "    return features_upsampled, target_upsampled\n",
    "\n",
    "features_upsampled, target_upsampled = upsample(features_train, target_train, 4)"
   ]
  },
  {
   "cell_type": "code",
   "execution_count": 40,
   "metadata": {},
   "outputs": [
    {
     "data": {
      "text/plain": [
       "(9666, 11)"
      ]
     },
     "execution_count": 40,
     "metadata": {},
     "output_type": "execute_result"
    }
   ],
   "source": [
    "# проверим размер увеличенной выборки\n",
    "\n",
    "features_upsampled.shape"
   ]
  },
  {
   "cell_type": "code",
   "execution_count": 41,
   "metadata": {},
   "outputs": [
    {
     "data": {
      "text/plain": [
       "1    4888\n",
       "0    4778\n",
       "Name: exited, dtype: int64"
      ]
     },
     "execution_count": 41,
     "metadata": {},
     "output_type": "execute_result"
    }
   ],
   "source": [
    "# проверим распределение целевого признака в увеличенной выборке\n",
    "\n",
    "target_upsampled.value_counts()"
   ]
  },
  {
   "cell_type": "code",
   "execution_count": 42,
   "metadata": {},
   "outputs": [
    {
     "data": {
      "text/html": [
       "<div>\n",
       "<style scoped>\n",
       "    .dataframe tbody tr th:only-of-type {\n",
       "        vertical-align: middle;\n",
       "    }\n",
       "\n",
       "    .dataframe tbody tr th {\n",
       "        vertical-align: top;\n",
       "    }\n",
       "\n",
       "    .dataframe thead th {\n",
       "        text-align: right;\n",
       "    }\n",
       "</style>\n",
       "<table border=\"1\" class=\"dataframe\">\n",
       "  <thead>\n",
       "    <tr style=\"text-align: right;\">\n",
       "      <th></th>\n",
       "      <th>max_depth</th>\n",
       "      <th>f1_score</th>\n",
       "    </tr>\n",
       "  </thead>\n",
       "  <tbody>\n",
       "    <tr>\n",
       "      <th>0</th>\n",
       "      <td>1</td>\n",
       "      <td>0.484653</td>\n",
       "    </tr>\n",
       "    <tr>\n",
       "      <th>1</th>\n",
       "      <td>2</td>\n",
       "      <td>0.498011</td>\n",
       "    </tr>\n",
       "    <tr>\n",
       "      <th>2</th>\n",
       "      <td>3</td>\n",
       "      <td>0.498011</td>\n",
       "    </tr>\n",
       "    <tr>\n",
       "      <th>3</th>\n",
       "      <td>4</td>\n",
       "      <td>0.560932</td>\n",
       "    </tr>\n",
       "    <tr>\n",
       "      <th>4</th>\n",
       "      <td>5</td>\n",
       "      <td>0.554649</td>\n",
       "    </tr>\n",
       "    <tr>\n",
       "      <th>5</th>\n",
       "      <td>6</td>\n",
       "      <td>0.575926</td>\n",
       "    </tr>\n",
       "    <tr>\n",
       "      <th>6</th>\n",
       "      <td>7</td>\n",
       "      <td>0.575045</td>\n",
       "    </tr>\n",
       "    <tr>\n",
       "      <th>7</th>\n",
       "      <td>8</td>\n",
       "      <td>0.549232</td>\n",
       "    </tr>\n",
       "    <tr>\n",
       "      <th>8</th>\n",
       "      <td>9</td>\n",
       "      <td>0.540856</td>\n",
       "    </tr>\n",
       "    <tr>\n",
       "      <th>9</th>\n",
       "      <td>10</td>\n",
       "      <td>0.531746</td>\n",
       "    </tr>\n",
       "    <tr>\n",
       "      <th>10</th>\n",
       "      <td>11</td>\n",
       "      <td>0.528380</td>\n",
       "    </tr>\n",
       "    <tr>\n",
       "      <th>11</th>\n",
       "      <td>12</td>\n",
       "      <td>0.523013</td>\n",
       "    </tr>\n",
       "    <tr>\n",
       "      <th>12</th>\n",
       "      <td>13</td>\n",
       "      <td>0.526316</td>\n",
       "    </tr>\n",
       "    <tr>\n",
       "      <th>13</th>\n",
       "      <td>14</td>\n",
       "      <td>0.521253</td>\n",
       "    </tr>\n",
       "    <tr>\n",
       "      <th>14</th>\n",
       "      <td>15</td>\n",
       "      <td>0.511628</td>\n",
       "    </tr>\n",
       "    <tr>\n",
       "      <th>15</th>\n",
       "      <td>16</td>\n",
       "      <td>0.502897</td>\n",
       "    </tr>\n",
       "    <tr>\n",
       "      <th>16</th>\n",
       "      <td>17</td>\n",
       "      <td>0.515294</td>\n",
       "    </tr>\n",
       "    <tr>\n",
       "      <th>17</th>\n",
       "      <td>18</td>\n",
       "      <td>0.510131</td>\n",
       "    </tr>\n",
       "    <tr>\n",
       "      <th>18</th>\n",
       "      <td>19</td>\n",
       "      <td>0.498801</td>\n",
       "    </tr>\n",
       "    <tr>\n",
       "      <th>19</th>\n",
       "      <td>20</td>\n",
       "      <td>0.520049</td>\n",
       "    </tr>\n",
       "  </tbody>\n",
       "</table>\n",
       "</div>"
      ],
      "text/plain": [
       "    max_depth  f1_score\n",
       "0           1  0.484653\n",
       "1           2  0.498011\n",
       "2           3  0.498011\n",
       "3           4  0.560932\n",
       "4           5  0.554649\n",
       "5           6  0.575926\n",
       "6           7  0.575045\n",
       "7           8  0.549232\n",
       "8           9  0.540856\n",
       "9          10  0.531746\n",
       "10         11  0.528380\n",
       "11         12  0.523013\n",
       "12         13  0.526316\n",
       "13         14  0.521253\n",
       "14         15  0.511628\n",
       "15         16  0.502897\n",
       "16         17  0.515294\n",
       "17         18  0.510131\n",
       "18         19  0.498801\n",
       "19         20  0.520049"
      ]
     },
     "metadata": {},
     "output_type": "display_data"
    },
    {
     "name": "stdout",
     "output_type": "stream",
     "text": [
      "Наилучший результат решающего дерева на увеличенной выборке:\n",
      "   max_depth  f1_score\n",
      "5          6  0.575926\n"
     ]
    }
   ],
   "source": [
    "# построим модель решающего дерева, варьируя глубиной дерева\n",
    "\n",
    "best_DT_upsampled = find_best_DT(21, None, features_upsampled, target_upsampled)\n",
    "display(best_DT_upsampled)\n",
    "\n",
    "print('Наилучший результат решающего дерева на увеличенной выборке:')\n",
    "print(best_DT_upsampled[best_DT_upsampled['f1_score'] == best_DT_upsampled['f1_score']. max ()]) "
   ]
  },
  {
   "cell_type": "code",
   "execution_count": 43,
   "metadata": {},
   "outputs": [
    {
     "name": "stdout",
     "output_type": "stream",
     "text": [
      "Результат модели логистической регрессии: F1-score= 0.5246753246753246\n"
     ]
    }
   ],
   "source": [
    "# построим модель логистической регрессии \n",
    "\n",
    "model_log = LogisticRegression(solver = 'liblinear', random_state=12345)\n",
    "model_log.fit(features_upsampled, target_upsampled)\n",
    "predictions_valid_log = model_log.predict(features_valid)\n",
    "f1 = f1_score(target_valid, predictions_valid_log)\n",
    "print('Результат модели логистической регрессии: F1-score=', f1)"
   ]
  },
  {
   "cell_type": "code",
   "execution_count": 44,
   "metadata": {},
   "outputs": [
    {
     "data": {
      "text/html": [
       "<div>\n",
       "<style scoped>\n",
       "    .dataframe tbody tr th:only-of-type {\n",
       "        vertical-align: middle;\n",
       "    }\n",
       "\n",
       "    .dataframe tbody tr th {\n",
       "        vertical-align: top;\n",
       "    }\n",
       "\n",
       "    .dataframe thead th {\n",
       "        text-align: right;\n",
       "    }\n",
       "</style>\n",
       "<table border=\"1\" class=\"dataframe\">\n",
       "  <thead>\n",
       "    <tr style=\"text-align: right;\">\n",
       "      <th></th>\n",
       "      <th>n_estimators</th>\n",
       "      <th>max_depth</th>\n",
       "      <th>f1_score</th>\n",
       "    </tr>\n",
       "  </thead>\n",
       "  <tbody>\n",
       "    <tr>\n",
       "      <th>0</th>\n",
       "      <td>10</td>\n",
       "      <td>1</td>\n",
       "      <td>0.493573</td>\n",
       "    </tr>\n",
       "    <tr>\n",
       "      <th>1</th>\n",
       "      <td>10</td>\n",
       "      <td>2</td>\n",
       "      <td>0.556918</td>\n",
       "    </tr>\n",
       "    <tr>\n",
       "      <th>2</th>\n",
       "      <td>10</td>\n",
       "      <td>3</td>\n",
       "      <td>0.570435</td>\n",
       "    </tr>\n",
       "    <tr>\n",
       "      <th>3</th>\n",
       "      <td>10</td>\n",
       "      <td>4</td>\n",
       "      <td>0.604331</td>\n",
       "    </tr>\n",
       "    <tr>\n",
       "      <th>4</th>\n",
       "      <td>10</td>\n",
       "      <td>5</td>\n",
       "      <td>0.602941</td>\n",
       "    </tr>\n",
       "    <tr>\n",
       "      <th>5</th>\n",
       "      <td>10</td>\n",
       "      <td>6</td>\n",
       "      <td>0.610202</td>\n",
       "    </tr>\n",
       "    <tr>\n",
       "      <th>6</th>\n",
       "      <td>10</td>\n",
       "      <td>7</td>\n",
       "      <td>0.627490</td>\n",
       "    </tr>\n",
       "    <tr>\n",
       "      <th>7</th>\n",
       "      <td>10</td>\n",
       "      <td>8</td>\n",
       "      <td>0.620833</td>\n",
       "    </tr>\n",
       "    <tr>\n",
       "      <th>8</th>\n",
       "      <td>10</td>\n",
       "      <td>9</td>\n",
       "      <td>0.626556</td>\n",
       "    </tr>\n",
       "    <tr>\n",
       "      <th>9</th>\n",
       "      <td>10</td>\n",
       "      <td>10</td>\n",
       "      <td>0.622560</td>\n",
       "    </tr>\n",
       "    <tr>\n",
       "      <th>10</th>\n",
       "      <td>10</td>\n",
       "      <td>11</td>\n",
       "      <td>0.628062</td>\n",
       "    </tr>\n",
       "    <tr>\n",
       "      <th>11</th>\n",
       "      <td>10</td>\n",
       "      <td>12</td>\n",
       "      <td>0.599303</td>\n",
       "    </tr>\n",
       "    <tr>\n",
       "      <th>12</th>\n",
       "      <td>10</td>\n",
       "      <td>13</td>\n",
       "      <td>0.620118</td>\n",
       "    </tr>\n",
       "    <tr>\n",
       "      <th>13</th>\n",
       "      <td>10</td>\n",
       "      <td>14</td>\n",
       "      <td>0.615006</td>\n",
       "    </tr>\n",
       "    <tr>\n",
       "      <th>14</th>\n",
       "      <td>10</td>\n",
       "      <td>15</td>\n",
       "      <td>0.598972</td>\n",
       "    </tr>\n",
       "  </tbody>\n",
       "</table>\n",
       "</div>"
      ],
      "text/plain": [
       "    n_estimators  max_depth  f1_score\n",
       "0             10          1  0.493573\n",
       "1             10          2  0.556918\n",
       "2             10          3  0.570435\n",
       "3             10          4  0.604331\n",
       "4             10          5  0.602941\n",
       "5             10          6  0.610202\n",
       "6             10          7  0.627490\n",
       "7             10          8  0.620833\n",
       "8             10          9  0.626556\n",
       "9             10         10  0.622560\n",
       "10            10         11  0.628062\n",
       "11            10         12  0.599303\n",
       "12            10         13  0.620118\n",
       "13            10         14  0.615006\n",
       "14            10         15  0.598972"
      ]
     },
     "metadata": {},
     "output_type": "display_data"
    },
    {
     "name": "stdout",
     "output_type": "stream",
     "text": [
      "Наилучший результат модели случайного леса на увеличенной выборке:\n",
      "     n_estimators  max_depth  f1_score\n",
      "110            60         11  0.648339\n"
     ]
    }
   ],
   "source": [
    "# построим модель случайного леса, обучим ее на увеличенной выборке\n",
    "best_RF_upsampled = find_best_RF(200, 21, None, features_upsampled, target_upsampled)\n",
    "display(best_RF_upsampled.head(15))\n",
    "\n",
    "print('Наилучший результат модели случайного леса на увеличенной выборке:')\n",
    "print(best_RF_upsampled[best_RF_upsampled['f1_score'] == best_RF_upsampled['f1_score'].max()])"
   ]
  },
  {
   "cell_type": "markdown",
   "metadata": {},
   "source": [
    "Метод увеличения обучающей выборки с помощью добавления элементов с редким классом по целевому признаку также помог улучшить показатели \n",
    "f1-метрики для логистической регрессии и модели случайного леса (по сравнению с несбалансированной классификацией). Наилучший показатель f1 снова показывает модель случайного леса, F1=0.648."
   ]
  },
  {
   "cell_type": "markdown",
   "metadata": {},
   "source": [
    "### Уменьшение выборки. Downsampling"
   ]
  },
  {
   "cell_type": "code",
   "execution_count": 45,
   "metadata": {},
   "outputs": [],
   "source": [
    "#уменьшаем выборку, убирая часть объектов с популярным классом в целевом признаке\n",
    "\n",
    "def downsample(features, target, fraction):\n",
    "    features_zeros = features[target == 0]\n",
    "    features_ones = features[target == 1]\n",
    "    target_zeros = target[target == 0]\n",
    "    target_ones = target[target == 1]\n",
    "\n",
    "    features_downsampled = pd.concat(\n",
    "        [features_zeros.sample(frac=fraction, random_state=12345)] + [features_ones])\n",
    "    target_downsampled = pd.concat(\n",
    "        [target_zeros.sample(frac=fraction, random_state=12345)] + [target_ones])\n",
    "    \n",
    "    features_downsampled, target_downsampled = shuffle(features_downsampled, target_downsampled, random_state=12345)\n",
    "    \n",
    "    return features_downsampled, target_downsampled\n",
    "\n",
    "features_downsampled, target_downsampled = downsample(features_train, target_train, 0.26)"
   ]
  },
  {
   "cell_type": "code",
   "execution_count": 46,
   "metadata": {},
   "outputs": [
    {
     "data": {
      "text/plain": [
       "(2464, 11)"
      ]
     },
     "execution_count": 46,
     "metadata": {},
     "output_type": "execute_result"
    }
   ],
   "source": [
    "# проверим размер уменьшенной выборки\n",
    "features_downsampled.shape"
   ]
  },
  {
   "cell_type": "code",
   "execution_count": 47,
   "metadata": {},
   "outputs": [
    {
     "data": {
      "text/plain": [
       "0    1242\n",
       "1    1222\n",
       "Name: exited, dtype: int64"
      ]
     },
     "execution_count": 47,
     "metadata": {},
     "output_type": "execute_result"
    }
   ],
   "source": [
    "#  проверим распределение целевого класса в уменьшенной выборке\n",
    "target_downsampled.value_counts()"
   ]
  },
  {
   "cell_type": "code",
   "execution_count": 48,
   "metadata": {},
   "outputs": [
    {
     "data": {
      "text/html": [
       "<div>\n",
       "<style scoped>\n",
       "    .dataframe tbody tr th:only-of-type {\n",
       "        vertical-align: middle;\n",
       "    }\n",
       "\n",
       "    .dataframe tbody tr th {\n",
       "        vertical-align: top;\n",
       "    }\n",
       "\n",
       "    .dataframe thead th {\n",
       "        text-align: right;\n",
       "    }\n",
       "</style>\n",
       "<table border=\"1\" class=\"dataframe\">\n",
       "  <thead>\n",
       "    <tr style=\"text-align: right;\">\n",
       "      <th></th>\n",
       "      <th>max_depth</th>\n",
       "      <th>f1_score</th>\n",
       "    </tr>\n",
       "  </thead>\n",
       "  <tbody>\n",
       "    <tr>\n",
       "      <th>0</th>\n",
       "      <td>1</td>\n",
       "      <td>0.510469</td>\n",
       "    </tr>\n",
       "    <tr>\n",
       "      <th>1</th>\n",
       "      <td>2</td>\n",
       "      <td>0.542995</td>\n",
       "    </tr>\n",
       "    <tr>\n",
       "      <th>2</th>\n",
       "      <td>3</td>\n",
       "      <td>0.564777</td>\n",
       "    </tr>\n",
       "    <tr>\n",
       "      <th>3</th>\n",
       "      <td>4</td>\n",
       "      <td>0.554260</td>\n",
       "    </tr>\n",
       "    <tr>\n",
       "      <th>4</th>\n",
       "      <td>5</td>\n",
       "      <td>0.590068</td>\n",
       "    </tr>\n",
       "    <tr>\n",
       "      <th>5</th>\n",
       "      <td>6</td>\n",
       "      <td>0.567731</td>\n",
       "    </tr>\n",
       "    <tr>\n",
       "      <th>6</th>\n",
       "      <td>7</td>\n",
       "      <td>0.569609</td>\n",
       "    </tr>\n",
       "    <tr>\n",
       "      <th>7</th>\n",
       "      <td>8</td>\n",
       "      <td>0.566787</td>\n",
       "    </tr>\n",
       "    <tr>\n",
       "      <th>8</th>\n",
       "      <td>9</td>\n",
       "      <td>0.549333</td>\n",
       "    </tr>\n",
       "    <tr>\n",
       "      <th>9</th>\n",
       "      <td>10</td>\n",
       "      <td>0.541935</td>\n",
       "    </tr>\n",
       "    <tr>\n",
       "      <th>10</th>\n",
       "      <td>11</td>\n",
       "      <td>0.515483</td>\n",
       "    </tr>\n",
       "    <tr>\n",
       "      <th>11</th>\n",
       "      <td>12</td>\n",
       "      <td>0.524823</td>\n",
       "    </tr>\n",
       "    <tr>\n",
       "      <th>12</th>\n",
       "      <td>13</td>\n",
       "      <td>0.516415</td>\n",
       "    </tr>\n",
       "    <tr>\n",
       "      <th>13</th>\n",
       "      <td>14</td>\n",
       "      <td>0.503401</td>\n",
       "    </tr>\n",
       "    <tr>\n",
       "      <th>14</th>\n",
       "      <td>15</td>\n",
       "      <td>0.504259</td>\n",
       "    </tr>\n",
       "    <tr>\n",
       "      <th>15</th>\n",
       "      <td>16</td>\n",
       "      <td>0.494932</td>\n",
       "    </tr>\n",
       "    <tr>\n",
       "      <th>16</th>\n",
       "      <td>17</td>\n",
       "      <td>0.494477</td>\n",
       "    </tr>\n",
       "    <tr>\n",
       "      <th>17</th>\n",
       "      <td>18</td>\n",
       "      <td>0.493703</td>\n",
       "    </tr>\n",
       "    <tr>\n",
       "      <th>18</th>\n",
       "      <td>19</td>\n",
       "      <td>0.500000</td>\n",
       "    </tr>\n",
       "    <tr>\n",
       "      <th>19</th>\n",
       "      <td>20</td>\n",
       "      <td>0.494440</td>\n",
       "    </tr>\n",
       "  </tbody>\n",
       "</table>\n",
       "</div>"
      ],
      "text/plain": [
       "    max_depth  f1_score\n",
       "0           1  0.510469\n",
       "1           2  0.542995\n",
       "2           3  0.564777\n",
       "3           4  0.554260\n",
       "4           5  0.590068\n",
       "5           6  0.567731\n",
       "6           7  0.569609\n",
       "7           8  0.566787\n",
       "8           9  0.549333\n",
       "9          10  0.541935\n",
       "10         11  0.515483\n",
       "11         12  0.524823\n",
       "12         13  0.516415\n",
       "13         14  0.503401\n",
       "14         15  0.504259\n",
       "15         16  0.494932\n",
       "16         17  0.494477\n",
       "17         18  0.493703\n",
       "18         19  0.500000\n",
       "19         20  0.494440"
      ]
     },
     "metadata": {},
     "output_type": "display_data"
    },
    {
     "name": "stdout",
     "output_type": "stream",
     "text": [
      "Наилучший результат решающего дерева на уменьшенной выборке:\n",
      "   max_depth  f1_score\n",
      "4          5  0.590068\n"
     ]
    }
   ],
   "source": [
    "# построим модель решающего дерева и обучим ее на новой выборке\n",
    "best_DT_downsampled = find_best_DT(21, None, features_downsampled, target_downsampled)\n",
    "display(best_DT_downsampled)\n",
    "\n",
    "print('Наилучший результат решающего дерева на уменьшенной выборке:')\n",
    "print(best_DT_downsampled[best_DT_downsampled['f1_score'] == best_DT_downsampled['f1_score']. max ()])  "
   ]
  },
  {
   "cell_type": "code",
   "execution_count": 49,
   "metadata": {},
   "outputs": [
    {
     "name": "stdout",
     "output_type": "stream",
     "text": [
      "Результат модели логистической регрессии: F1-score= 0.5286343612334803\n"
     ]
    }
   ],
   "source": [
    "#построим модель логистической регрессии и обучим ее на новой выборке\n",
    "model_log = LogisticRegression(solver = 'liblinear', random_state=12345)\n",
    "model_log.fit(features_downsampled, target_downsampled)\n",
    "predictions_valid_log = model_log.predict(features_valid)\n",
    "f1 = f1_score(target_valid, predictions_valid_log)\n",
    "print('Результат модели логистической регрессии: F1-score=', f1)"
   ]
  },
  {
   "cell_type": "code",
   "execution_count": 50,
   "metadata": {},
   "outputs": [
    {
     "data": {
      "text/html": [
       "<div>\n",
       "<style scoped>\n",
       "    .dataframe tbody tr th:only-of-type {\n",
       "        vertical-align: middle;\n",
       "    }\n",
       "\n",
       "    .dataframe tbody tr th {\n",
       "        vertical-align: top;\n",
       "    }\n",
       "\n",
       "    .dataframe thead th {\n",
       "        text-align: right;\n",
       "    }\n",
       "</style>\n",
       "<table border=\"1\" class=\"dataframe\">\n",
       "  <thead>\n",
       "    <tr style=\"text-align: right;\">\n",
       "      <th></th>\n",
       "      <th>n_estimators</th>\n",
       "      <th>max_depth</th>\n",
       "      <th>f1_score</th>\n",
       "    </tr>\n",
       "  </thead>\n",
       "  <tbody>\n",
       "    <tr>\n",
       "      <th>0</th>\n",
       "      <td>10</td>\n",
       "      <td>1</td>\n",
       "      <td>0.567460</td>\n",
       "    </tr>\n",
       "    <tr>\n",
       "      <th>1</th>\n",
       "      <td>10</td>\n",
       "      <td>2</td>\n",
       "      <td>0.578269</td>\n",
       "    </tr>\n",
       "    <tr>\n",
       "      <th>2</th>\n",
       "      <td>10</td>\n",
       "      <td>3</td>\n",
       "      <td>0.609108</td>\n",
       "    </tr>\n",
       "    <tr>\n",
       "      <th>3</th>\n",
       "      <td>10</td>\n",
       "      <td>4</td>\n",
       "      <td>0.608000</td>\n",
       "    </tr>\n",
       "    <tr>\n",
       "      <th>4</th>\n",
       "      <td>10</td>\n",
       "      <td>5</td>\n",
       "      <td>0.604563</td>\n",
       "    </tr>\n",
       "    <tr>\n",
       "      <th>5</th>\n",
       "      <td>10</td>\n",
       "      <td>6</td>\n",
       "      <td>0.611586</td>\n",
       "    </tr>\n",
       "    <tr>\n",
       "      <th>6</th>\n",
       "      <td>10</td>\n",
       "      <td>7</td>\n",
       "      <td>0.613971</td>\n",
       "    </tr>\n",
       "    <tr>\n",
       "      <th>7</th>\n",
       "      <td>10</td>\n",
       "      <td>8</td>\n",
       "      <td>0.609450</td>\n",
       "    </tr>\n",
       "    <tr>\n",
       "      <th>8</th>\n",
       "      <td>10</td>\n",
       "      <td>9</td>\n",
       "      <td>0.597183</td>\n",
       "    </tr>\n",
       "    <tr>\n",
       "      <th>9</th>\n",
       "      <td>10</td>\n",
       "      <td>10</td>\n",
       "      <td>0.604167</td>\n",
       "    </tr>\n",
       "    <tr>\n",
       "      <th>10</th>\n",
       "      <td>10</td>\n",
       "      <td>11</td>\n",
       "      <td>0.583101</td>\n",
       "    </tr>\n",
       "    <tr>\n",
       "      <th>11</th>\n",
       "      <td>10</td>\n",
       "      <td>12</td>\n",
       "      <td>0.583257</td>\n",
       "    </tr>\n",
       "    <tr>\n",
       "      <th>12</th>\n",
       "      <td>10</td>\n",
       "      <td>13</td>\n",
       "      <td>0.587347</td>\n",
       "    </tr>\n",
       "    <tr>\n",
       "      <th>13</th>\n",
       "      <td>10</td>\n",
       "      <td>14</td>\n",
       "      <td>0.586510</td>\n",
       "    </tr>\n",
       "    <tr>\n",
       "      <th>14</th>\n",
       "      <td>10</td>\n",
       "      <td>15</td>\n",
       "      <td>0.589268</td>\n",
       "    </tr>\n",
       "  </tbody>\n",
       "</table>\n",
       "</div>"
      ],
      "text/plain": [
       "    n_estimators  max_depth  f1_score\n",
       "0             10          1  0.567460\n",
       "1             10          2  0.578269\n",
       "2             10          3  0.609108\n",
       "3             10          4  0.608000\n",
       "4             10          5  0.604563\n",
       "5             10          6  0.611586\n",
       "6             10          7  0.613971\n",
       "7             10          8  0.609450\n",
       "8             10          9  0.597183\n",
       "9             10         10  0.604167\n",
       "10            10         11  0.583101\n",
       "11            10         12  0.583257\n",
       "12            10         13  0.587347\n",
       "13            10         14  0.586510\n",
       "14            10         15  0.589268"
      ]
     },
     "metadata": {},
     "output_type": "display_data"
    },
    {
     "name": "stdout",
     "output_type": "stream",
     "text": [
      "Наилучший результат модели случайного леса на уменьшенной выборке:\n",
      "     n_estimators  max_depth  f1_score\n",
      "367           190          8  0.637512\n"
     ]
    }
   ],
   "source": [
    "#построим модель случайного леса и обучим ее на новой выборке\n",
    "best_RF_downsampled = find_best_RF(200, 21, None, features_downsampled, target_downsampled)\n",
    "display(best_RF_downsampled.head(15))\n",
    "\n",
    "print('Наилучший результат модели случайного леса на уменьшенной выборке:')\n",
    "print(best_RF_downsampled[best_RF_downsampled['f1_score'] == best_RF_downsampled['f1_score'].max()])"
   ]
  },
  {
   "cell_type": "markdown",
   "metadata": {},
   "source": [
    "Метод уменьшения обучающей выборки путем сокращения количества элементов с популярным классом целевого признака также дает наилучшие результаты для модели случайного леса (максимальное значение f1 =0.637). Он позволяет улучшить метрику для модели логистической регрессии и модели случайного леса и не дает результат для модели решающего дерева (по сравнению с несбалансированной классификацией)."
   ]
  },
  {
   "cell_type": "markdown",
   "metadata": {},
   "source": [
    "### Выбор наилучшей модели"
   ]
  },
  {
   "cell_type": "markdown",
   "metadata": {},
   "source": [
    "Применение методов устранения дисбаланса классов целевого признака позволили улучшить показатели качества модели (f1 метрику). Наилучшие результаты наблюдаем у моделей случайного леса. \n",
    "Сравним три модели с наибольшим показателем F1 меры при использовании взвешенных классов, увеличенной обучающей выборки, уменьшенной обучающей выборки. Подсчитаем другие метрики качества."
   ]
  },
  {
   "cell_type": "code",
   "execution_count": 51,
   "metadata": {},
   "outputs": [
    {
     "name": "stdout",
     "output_type": "stream",
     "text": [
      "Показатели наилучшей модели взвешенных классов: precision =  0.5948,   recall =  0.7304, f1 =  0.6557, auc_roc =  0.8704\n",
      "Показатели наилучшей модели с upsampling: precision =  0.6086,   recall =  0.6936, f1 =  0.6483, auc_roc =  0.8709\n",
      "Показатели наилучшей модели с upsampling: precision =  0.5282,   recall =  0.8039, f1 =  0.6375, auc_roc =  0.8707\n"
     ]
    }
   ],
   "source": [
    "# посмотрим на метрики precision, recall, f1, auc_roc на каждой модели\n",
    "\n",
    "# наилучшая модель при использовании взвешивания классов\n",
    "model_weight = RandomForestClassifier(random_state=12345, n_estimators=150, max_depth=8, class_weight = 'balanced')\n",
    "metrics_weight = get_metrics(model_weight, features_train, target_train)\n",
    "print(f'Показатели наилучшей модели взвешенных классов: precision = {metrics_weight[0] : .4f},\\\n",
    "   recall = {metrics_weight[1]: .4f}, f1 = {metrics_weight[2]: .4f}, auc_roc = {metrics_weight[3]: .4f}')\n",
    "\n",
    "#наилучшая модель при использовании увеличения обучающей выборки\n",
    "model_upsampled = RandomForestClassifier(random_state=12345, n_estimators=60, max_depth=11) \n",
    "metrics_upsampled = get_metrics(model_upsampled, features_upsampled, target_upsampled)\n",
    "print(f'Показатели наилучшей модели с upsampling: precision = {metrics_upsampled[0] : .4f},\\\n",
    "   recall = {metrics_upsampled[1]: .4f}, f1 = {metrics_upsampled[2]: .4f}, auc_roc = {metrics_upsampled[3]: .4f}')\n",
    "                                \n",
    "#наилучшая модель при использовании уменьшения обучающей выборки\n",
    "model_downsampled = RandomForestClassifier(random_state=12345, n_estimators=190, max_depth=8) \n",
    "metrics_downsampled = get_metrics(model_downsampled, features_downsampled, target_downsampled)\n",
    "print(f'Показатели наилучшей модели с upsampling: precision = {metrics_downsampled[0] : .4f},\\\n",
    "   recall = {metrics_downsampled[1]: .4f}, f1 = {metrics_downsampled[2]: .4f}, auc_roc = {metrics_downsampled[3]: .4f}')\n"
   ]
  },
  {
   "cell_type": "markdown",
   "metadata": {},
   "source": [
    "Модель со взвешенными классами выигрывает по показателю f1, модель с использованием downsampling лучшая по показателю полноты. При этом метрика precision наиболее высокая у моделей взвешенных классов и модели с upsampling.\n",
    "\n",
    "Поскольку для нашей задачи в первую очередь важна высокая точность (нам важно,чтобы модель как можно чаще верно предсказывала уход клиента из банка, тогда будет верно расходоваться бюджет на удержание клиента), затем полнота предсказаний, то выберем модель случайного леса со взвешенными классами (у нее достаточно высокая точность и максимальная f1-мера). Эту модель будем проверять на тестовой выборке."
   ]
  },
  {
   "cell_type": "markdown",
   "metadata": {},
   "source": [
    "<div class=\"alert alert-info\"> \n",
    "<b> ВЫВОД:</b>\n",
    "\n",
    "Для устранения дисбаланса классов целевого признака были применены следующие методы:\n",
    "    \n",
    "  - Взвешивание классов\n",
    "  - Увеличение выборки (добавление объектов редкого класса)\n",
    "  - Уменьшение выборки (сокращение объектов популярного класса)\n",
    "\n",
    "Все эти методы не сработали на модели решающего дерева, но позволили увеличить метрику f1 для моделей логистической регрессии и случайного леса.\n",
    "\n",
    "Для моделей случайного леса можно было наблюдать наибольшие показатели метрики. \n",
    "\n",
    "Были изучены другие метрики качества (precision, recall, auc_roc). \n",
    "Наиболее адекватной поставленной задаче выбрана модель случайного леса с максимальной глубиной 8, \n",
    "количеством деревьев 150 и взвешенными классами.\n",
    "</div>"
   ]
  },
  {
   "cell_type": "markdown",
   "metadata": {},
   "source": [
    "## Тестирование модели"
   ]
  },
  {
   "cell_type": "code",
   "execution_count": 52,
   "metadata": {},
   "outputs": [
    {
     "name": "stdout",
     "output_type": "stream",
     "text": [
      "Показатели наилучшей на валидационной выборке: precision =  0.5948,   recall =  0.7304, f1 =  0.6557, auc_roc =  0.8704\n",
      "Показатели модели на тестовой выборке: precision =  0.5650,   recall =  0.6830, f1 =  0.6185, auc_roc =  0.8551\n"
     ]
    }
   ],
   "source": [
    "# проверим модель на тестовой выборке, сравним показатели с полученными ранеее метриками на валидационной выборке\n",
    "\n",
    "print(f'Показатели наилучшей на валидационной выборке: precision = {metrics_weight[0] : .4f},\\\n",
    "   recall = {metrics_weight[1]: .4f}, f1 = {metrics_weight[2]: .4f}, auc_roc = {metrics_weight[3]: .4f}')\n",
    "\n",
    "model = RandomForestClassifier(random_state=12345, n_estimators=150, max_depth=8, class_weight = 'balanced')\n",
    "model.fit(features_train, target_train)\n",
    "predictions_test = model.predict(features_test)\n",
    "recall_test = recall_score(target_test, predictions_test)\n",
    "precision_test = precision_score(target_test, predictions_test)\n",
    "f1_test = f1_score(target_test, predictions_test)\n",
    "auc_roc_test = roc_auc_score(target_test, model.predict_proba(features_test)[:, 1])\n",
    "print(f'Показатели модели на тестовой выборке: precision = {precision_test : .4f},\\\n",
    "   recall = {recall_test: .4f}, f1 = {f1_test: .4f}, auc_roc = {auc_roc_test: .4f}')"
   ]
  },
  {
   "cell_type": "code",
   "execution_count": 53,
   "metadata": {},
   "outputs": [
    {
     "name": "stdout",
     "output_type": "stream",
     "text": [
      "Показатели baseline модели на тестовой выборке: precision =  0.2035,   recall =  1.0000, f1 =  0.3382, auc_roc =  0.5000\n"
     ]
    }
   ],
   "source": [
    "#оценим вменяемость модели в сравнении с base line моделью, которая всегда прогнозирует уход клиента\n",
    "\n",
    "model_dummy = DummyClassifier(strategy = \"constant\", constant = 1, random_state = 12345)\n",
    "model_dummy.fit(features_train, target_train)\n",
    "f1_dummy = f1_score(target_test, model_dummy.predict(features_test))\n",
    "precision_dummy = precision_score(target_test, model_dummy.predict(features_test))\n",
    "recall_dummy = recall_score(target_test, model_dummy.predict(features_test))\n",
    "auc_roc_dummy = roc_auc_score(target_test, model_dummy.predict_proba(features_test)[:, 1])\n",
    "\n",
    "print(f'Показатели baseline модели на тестовой выборке: precision = {precision_dummy : .4f},\\\n",
    "   recall = {recall_dummy: .4f}, f1 = {f1_dummy: .4f}, auc_roc = {auc_roc_dummy: .4f}')"
   ]
  },
  {
   "cell_type": "markdown",
   "metadata": {},
   "source": [
    "Показатель baseline модели гораздо ниже полученных нами показателей. Можно считать, что модель прошла проверку на вменяемость. "
   ]
  },
  {
   "cell_type": "markdown",
   "metadata": {},
   "source": [
    "<div class=\"alert alert-info\"> \n",
    "<b> ВЫВОД:</b>\n",
    "    Была протестирована выбранная наилучшая модель (модель случайного леса с фиксированной максимальной глубиной и количеством деревьев, со взвешенными весами признаков).\n",
    "\n",
    "   Метрики качества снизились по сравнению с работой модели на валидационной выборке. Возможно переобучение модели.\n",
    "Однако удалось сильно повысить показатели по сравнению с наилучшей моделью несбалансированной классификации. \n",
    "    \n",
    "   Можно сделать вывод, что устранение дисбаланса данных позитивно сказалось на качестве итоговой модели. Удалось достичь показателя F1 = 0.62, AUC_ROC = 0.86.\n",
    "</div>"
   ]
  },
  {
   "cell_type": "markdown",
   "metadata": {},
   "source": [
    "## Итоговый вывод"
   ]
  },
  {
   "cell_type": "markdown",
   "metadata": {},
   "source": [
    "- Была исследована задача прогнозирования оттока банковских клиентов при заданных признаках: изучены данные, выявлены закономерности, проведена подготовка данных к моделированию (прямое кодирование, разделение на обучающую, валидационную и тестовую выборки, масштабирование признаков).\n",
    "\n",
    "- Проведено моделирование при несбалансированной классификации на трех типах моделей с изменением гиперпараметров: решающее дерево, логистическая регрессия, модель случайного леса. Подсчитаны различные метрики качества, выбрана наилучшая модель при дисбалансе данных.\n",
    "\n",
    "- Проведена работа с дисбалансом данных при помощи различных методов. Наилучшие результаты показала модель случайного леса со взвешенными весами признаков, с фиксированной максимальной глубиной и количеством деревьев.\n",
    "\n",
    "- Выбранная модель прошла тестовую проверку, в ходе которой удалось достичь показателя F1 = 0.62, AUC_ROC = 0.86, что значительно выше, чем при использовании наилучшей модели на несбалансированных данных. Можно считать, что построенная модель адекватна поставленной задаче. Методы борьбы с дисбалансом данных позитивно повлияли на качество конечной модели."
   ]
  },
  {
   "cell_type": "markdown",
   "metadata": {},
   "source": [
    "## Чек-лист готовности проекта"
   ]
  },
  {
   "cell_type": "markdown",
   "metadata": {},
   "source": [
    "Поставьте 'x' в выполненных пунктах. Далее нажмите Shift+Enter."
   ]
  },
  {
   "cell_type": "markdown",
   "metadata": {},
   "source": [
    "- [x]  Jupyter Notebook открыт\n",
    "- [x]  Весь код выполняется без ошибок\n",
    "- [x]  Ячейки с кодом расположены в порядке исполнения\n",
    "- [x]  Выполнен шаг 1: данные подготовлены\n",
    "- [x]  Выполнен шаг 2: задача исследована\n",
    "    - [x]  Исследован баланс классов\n",
    "    - [x]  Изучены модели без учёта дисбаланса\n",
    "    - [x]  Написаны выводы по результатам исследования\n",
    "- [x]  Выполнен шаг 3: учтён дисбаланс\n",
    "    - [x]  Применено несколько способов борьбы с дисбалансом\n",
    "    - [x]  Написаны выводы по результатам исследования\n",
    "- [x]  Выполнен шаг 4: проведено тестирование\n",
    "- [x]  Удалось достичь *F1*-меры не менее 0.59\n",
    "- [x]  Исследована метрика *AUC-ROC*"
   ]
  }
 ],
 "metadata": {
  "ExecuteTimeLog": [
   {
    "duration": 544,
    "start_time": "2022-11-23T05:55:43.965Z"
   },
   {
    "duration": 0,
    "start_time": "2022-11-23T05:55:44.512Z"
   },
   {
    "duration": 0,
    "start_time": "2022-11-23T05:55:44.513Z"
   },
   {
    "duration": 0,
    "start_time": "2022-11-23T05:55:44.514Z"
   },
   {
    "duration": 0,
    "start_time": "2022-11-23T05:55:44.515Z"
   },
   {
    "duration": 0,
    "start_time": "2022-11-23T05:55:44.516Z"
   },
   {
    "duration": 0,
    "start_time": "2022-11-23T05:55:44.518Z"
   },
   {
    "duration": 1,
    "start_time": "2022-11-23T05:55:44.518Z"
   },
   {
    "duration": 0,
    "start_time": "2022-11-23T05:55:44.519Z"
   },
   {
    "duration": 0,
    "start_time": "2022-11-23T05:55:44.521Z"
   },
   {
    "duration": 0,
    "start_time": "2022-11-23T05:55:44.522Z"
   },
   {
    "duration": 0,
    "start_time": "2022-11-23T05:55:44.523Z"
   },
   {
    "duration": 0,
    "start_time": "2022-11-23T05:55:44.524Z"
   },
   {
    "duration": 0,
    "start_time": "2022-11-23T05:55:44.525Z"
   },
   {
    "duration": 0,
    "start_time": "2022-11-23T05:55:44.526Z"
   },
   {
    "duration": 0,
    "start_time": "2022-11-23T05:55:44.527Z"
   },
   {
    "duration": 0,
    "start_time": "2022-11-23T05:55:44.528Z"
   },
   {
    "duration": 0,
    "start_time": "2022-11-23T05:55:44.529Z"
   },
   {
    "duration": 0,
    "start_time": "2022-11-23T05:55:44.530Z"
   },
   {
    "duration": 0,
    "start_time": "2022-11-23T05:55:44.531Z"
   },
   {
    "duration": 0,
    "start_time": "2022-11-23T05:55:44.531Z"
   },
   {
    "duration": 0,
    "start_time": "2022-11-23T05:55:44.533Z"
   },
   {
    "duration": 0,
    "start_time": "2022-11-23T05:55:44.533Z"
   },
   {
    "duration": 0,
    "start_time": "2022-11-23T05:55:44.534Z"
   },
   {
    "duration": 0,
    "start_time": "2022-11-23T05:55:44.535Z"
   },
   {
    "duration": 0,
    "start_time": "2022-11-23T05:55:44.536Z"
   },
   {
    "duration": 0,
    "start_time": "2022-11-23T05:55:44.537Z"
   },
   {
    "duration": 0,
    "start_time": "2022-11-23T05:55:44.538Z"
   },
   {
    "duration": 0,
    "start_time": "2022-11-23T05:55:44.539Z"
   },
   {
    "duration": 0,
    "start_time": "2022-11-23T05:55:44.540Z"
   },
   {
    "duration": 0,
    "start_time": "2022-11-23T05:55:44.541Z"
   },
   {
    "duration": 0,
    "start_time": "2022-11-23T05:55:44.542Z"
   },
   {
    "duration": 0,
    "start_time": "2022-11-23T05:55:44.542Z"
   },
   {
    "duration": 0,
    "start_time": "2022-11-23T05:55:44.543Z"
   },
   {
    "duration": 0,
    "start_time": "2022-11-23T05:55:44.544Z"
   },
   {
    "duration": 0,
    "start_time": "2022-11-23T05:55:44.545Z"
   },
   {
    "duration": 0,
    "start_time": "2022-11-23T05:55:44.546Z"
   },
   {
    "duration": 0,
    "start_time": "2022-11-23T05:55:44.547Z"
   },
   {
    "duration": 0,
    "start_time": "2022-11-23T05:55:44.548Z"
   },
   {
    "duration": 0,
    "start_time": "2022-11-23T05:55:44.605Z"
   },
   {
    "duration": 0,
    "start_time": "2022-11-23T05:55:44.606Z"
   },
   {
    "duration": 0,
    "start_time": "2022-11-23T05:55:44.607Z"
   },
   {
    "duration": 0,
    "start_time": "2022-11-23T05:55:44.608Z"
   },
   {
    "duration": 0,
    "start_time": "2022-11-23T05:55:44.609Z"
   },
   {
    "duration": 0,
    "start_time": "2022-11-23T05:55:44.610Z"
   },
   {
    "duration": 0,
    "start_time": "2022-11-23T05:55:44.611Z"
   },
   {
    "duration": 0,
    "start_time": "2022-11-23T05:55:44.611Z"
   },
   {
    "duration": 0,
    "start_time": "2022-11-23T05:55:44.612Z"
   },
   {
    "duration": 0,
    "start_time": "2022-11-23T05:55:44.614Z"
   },
   {
    "duration": 0,
    "start_time": "2022-11-23T05:55:44.616Z"
   },
   {
    "duration": 0,
    "start_time": "2022-11-23T05:55:44.617Z"
   },
   {
    "duration": 0,
    "start_time": "2022-11-23T05:55:44.618Z"
   },
   {
    "duration": 98,
    "start_time": "2022-11-23T05:57:28.542Z"
   },
   {
    "duration": 94,
    "start_time": "2022-11-23T05:57:36.921Z"
   },
   {
    "duration": 72,
    "start_time": "2022-11-23T05:57:58.709Z"
   },
   {
    "duration": 117,
    "start_time": "2022-11-23T05:59:49.610Z"
   },
   {
    "duration": 101,
    "start_time": "2022-11-23T05:59:58.390Z"
   },
   {
    "duration": 0,
    "start_time": "2022-11-23T05:59:58.493Z"
   },
   {
    "duration": 0,
    "start_time": "2022-11-23T05:59:58.495Z"
   },
   {
    "duration": 0,
    "start_time": "2022-11-23T05:59:58.496Z"
   },
   {
    "duration": 0,
    "start_time": "2022-11-23T05:59:58.497Z"
   },
   {
    "duration": 0,
    "start_time": "2022-11-23T05:59:58.498Z"
   },
   {
    "duration": 0,
    "start_time": "2022-11-23T05:59:58.499Z"
   },
   {
    "duration": 1,
    "start_time": "2022-11-23T05:59:58.500Z"
   },
   {
    "duration": 0,
    "start_time": "2022-11-23T05:59:58.501Z"
   },
   {
    "duration": 0,
    "start_time": "2022-11-23T05:59:58.503Z"
   },
   {
    "duration": 0,
    "start_time": "2022-11-23T05:59:58.504Z"
   },
   {
    "duration": 0,
    "start_time": "2022-11-23T05:59:58.505Z"
   },
   {
    "duration": 0,
    "start_time": "2022-11-23T05:59:58.506Z"
   },
   {
    "duration": 0,
    "start_time": "2022-11-23T05:59:58.507Z"
   },
   {
    "duration": 0,
    "start_time": "2022-11-23T05:59:58.508Z"
   },
   {
    "duration": 0,
    "start_time": "2022-11-23T05:59:58.509Z"
   },
   {
    "duration": 0,
    "start_time": "2022-11-23T05:59:58.510Z"
   },
   {
    "duration": 0,
    "start_time": "2022-11-23T05:59:58.511Z"
   },
   {
    "duration": 0,
    "start_time": "2022-11-23T05:59:58.513Z"
   },
   {
    "duration": 0,
    "start_time": "2022-11-23T05:59:58.514Z"
   },
   {
    "duration": 0,
    "start_time": "2022-11-23T05:59:58.515Z"
   },
   {
    "duration": 6,
    "start_time": "2022-11-23T05:59:58.517Z"
   },
   {
    "duration": 0,
    "start_time": "2022-11-23T05:59:58.525Z"
   },
   {
    "duration": 0,
    "start_time": "2022-11-23T05:59:58.526Z"
   },
   {
    "duration": 0,
    "start_time": "2022-11-23T05:59:58.527Z"
   },
   {
    "duration": 976,
    "start_time": "2022-11-23T05:59:58.535Z"
   },
   {
    "duration": 0,
    "start_time": "2022-11-23T05:59:59.513Z"
   },
   {
    "duration": 0,
    "start_time": "2022-11-23T05:59:59.515Z"
   },
   {
    "duration": 0,
    "start_time": "2022-11-23T05:59:59.517Z"
   },
   {
    "duration": 0,
    "start_time": "2022-11-23T05:59:59.518Z"
   },
   {
    "duration": 0,
    "start_time": "2022-11-23T05:59:59.520Z"
   },
   {
    "duration": 0,
    "start_time": "2022-11-23T05:59:59.521Z"
   },
   {
    "duration": 0,
    "start_time": "2022-11-23T05:59:59.522Z"
   },
   {
    "duration": 0,
    "start_time": "2022-11-23T05:59:59.523Z"
   },
   {
    "duration": 0,
    "start_time": "2022-11-23T05:59:59.525Z"
   },
   {
    "duration": 0,
    "start_time": "2022-11-23T05:59:59.526Z"
   },
   {
    "duration": 0,
    "start_time": "2022-11-23T05:59:59.528Z"
   },
   {
    "duration": 0,
    "start_time": "2022-11-23T05:59:59.529Z"
   },
   {
    "duration": 0,
    "start_time": "2022-11-23T05:59:59.530Z"
   },
   {
    "duration": 0,
    "start_time": "2022-11-23T05:59:59.532Z"
   },
   {
    "duration": 0,
    "start_time": "2022-11-23T05:59:59.533Z"
   },
   {
    "duration": 0,
    "start_time": "2022-11-23T05:59:59.535Z"
   },
   {
    "duration": 0,
    "start_time": "2022-11-23T05:59:59.537Z"
   },
   {
    "duration": 0,
    "start_time": "2022-11-23T05:59:59.538Z"
   },
   {
    "duration": 0,
    "start_time": "2022-11-23T05:59:59.539Z"
   },
   {
    "duration": 0,
    "start_time": "2022-11-23T05:59:59.541Z"
   },
   {
    "duration": 0,
    "start_time": "2022-11-23T05:59:59.542Z"
   },
   {
    "duration": 1,
    "start_time": "2022-11-23T05:59:59.543Z"
   },
   {
    "duration": 0,
    "start_time": "2022-11-23T05:59:59.545Z"
   },
   {
    "duration": 0,
    "start_time": "2022-11-23T05:59:59.546Z"
   },
   {
    "duration": 0,
    "start_time": "2022-11-23T05:59:59.548Z"
   },
   {
    "duration": 0,
    "start_time": "2022-11-23T05:59:59.549Z"
   },
   {
    "duration": 21,
    "start_time": "2022-11-23T06:00:07.922Z"
   },
   {
    "duration": 15,
    "start_time": "2022-11-23T06:00:07.944Z"
   },
   {
    "duration": 12,
    "start_time": "2022-11-23T06:00:07.961Z"
   },
   {
    "duration": 9,
    "start_time": "2022-11-23T06:00:07.975Z"
   },
   {
    "duration": 15,
    "start_time": "2022-11-23T06:00:07.986Z"
   },
   {
    "duration": 21,
    "start_time": "2022-11-23T06:00:08.003Z"
   },
   {
    "duration": 18,
    "start_time": "2022-11-23T06:00:08.025Z"
   },
   {
    "duration": 23,
    "start_time": "2022-11-23T06:00:08.045Z"
   },
   {
    "duration": 32,
    "start_time": "2022-11-23T06:00:08.069Z"
   },
   {
    "duration": 3,
    "start_time": "2022-11-23T06:00:08.103Z"
   },
   {
    "duration": 14,
    "start_time": "2022-11-23T06:00:08.107Z"
   },
   {
    "duration": 4,
    "start_time": "2022-11-23T06:00:08.122Z"
   },
   {
    "duration": 16,
    "start_time": "2022-11-23T06:00:08.127Z"
   },
   {
    "duration": 47,
    "start_time": "2022-11-23T06:00:08.146Z"
   },
   {
    "duration": 8,
    "start_time": "2022-11-23T06:00:08.194Z"
   },
   {
    "duration": 17,
    "start_time": "2022-11-23T06:00:08.204Z"
   },
   {
    "duration": 21,
    "start_time": "2022-11-23T06:00:08.223Z"
   },
   {
    "duration": 12,
    "start_time": "2022-11-23T06:00:08.246Z"
   },
   {
    "duration": 26,
    "start_time": "2022-11-23T06:00:08.260Z"
   },
   {
    "duration": 6,
    "start_time": "2022-11-23T06:00:08.288Z"
   },
   {
    "duration": 5,
    "start_time": "2022-11-23T06:00:08.295Z"
   },
   {
    "duration": 14,
    "start_time": "2022-11-23T06:00:08.302Z"
   },
   {
    "duration": 28,
    "start_time": "2022-11-23T06:00:08.317Z"
   },
   {
    "duration": 48,
    "start_time": "2022-11-23T06:00:08.346Z"
   },
   {
    "duration": 470,
    "start_time": "2022-11-23T06:00:08.396Z"
   },
   {
    "duration": 40,
    "start_time": "2022-11-23T06:00:08.867Z"
   },
   {
    "duration": 30417,
    "start_time": "2022-11-23T06:00:08.909Z"
   },
   {
    "duration": 914,
    "start_time": "2022-11-23T06:00:39.328Z"
   },
   {
    "duration": 768,
    "start_time": "2022-11-23T06:00:40.244Z"
   },
   {
    "duration": 675,
    "start_time": "2022-11-23T06:00:41.014Z"
   },
   {
    "duration": 486,
    "start_time": "2022-11-23T06:00:41.690Z"
   },
   {
    "duration": 41,
    "start_time": "2022-11-23T06:00:42.178Z"
   },
   {
    "duration": 891,
    "start_time": "2022-11-23T06:00:42.306Z"
   },
   {
    "duration": 21668,
    "start_time": "2022-11-23T06:00:43.199Z"
   },
   {
    "duration": 12,
    "start_time": "2022-11-23T06:01:04.869Z"
   },
   {
    "duration": 4,
    "start_time": "2022-11-23T06:01:04.883Z"
   },
   {
    "duration": 22,
    "start_time": "2022-11-23T06:01:04.888Z"
   },
   {
    "duration": 606,
    "start_time": "2022-11-23T06:01:04.911Z"
   },
   {
    "duration": 100,
    "start_time": "2022-11-23T06:01:05.518Z"
   },
   {
    "duration": 1052,
    "start_time": "2022-11-23T06:01:05.707Z"
   },
   {
    "duration": 31232,
    "start_time": "2022-11-23T06:01:06.761Z"
   },
   {
    "duration": 16,
    "start_time": "2022-11-23T06:01:37.994Z"
   },
   {
    "duration": 5,
    "start_time": "2022-11-23T06:01:38.012Z"
   },
   {
    "duration": 12,
    "start_time": "2022-11-23T06:01:38.018Z"
   },
   {
    "duration": 251,
    "start_time": "2022-11-23T06:01:38.031Z"
   },
   {
    "duration": 26,
    "start_time": "2022-11-23T06:01:38.284Z"
   },
   {
    "duration": 687,
    "start_time": "2022-11-23T06:01:38.312Z"
   },
   {
    "duration": 11812,
    "start_time": "2022-11-23T06:01:39.005Z"
   },
   {
    "duration": 1912,
    "start_time": "2022-11-23T06:01:50.819Z"
   },
   {
    "duration": 852,
    "start_time": "2022-11-23T06:01:52.732Z"
   },
   {
    "duration": 20,
    "start_time": "2022-11-23T06:01:53.585Z"
   },
   {
    "duration": 81,
    "start_time": "2022-11-23T06:16:06.943Z"
   },
   {
    "duration": 90,
    "start_time": "2022-11-23T06:52:26.971Z"
   },
   {
    "duration": 86,
    "start_time": "2022-11-23T07:16:37.810Z"
   },
   {
    "duration": 83,
    "start_time": "2022-11-23T07:18:13.390Z"
   },
   {
    "duration": 88,
    "start_time": "2022-11-23T07:23:58.568Z"
   },
   {
    "duration": 449,
    "start_time": "2022-11-23T12:48:12.936Z"
   },
   {
    "duration": 74,
    "start_time": "2022-11-23T12:49:49.924Z"
   },
   {
    "duration": 1611,
    "start_time": "2022-11-23T13:10:26.150Z"
   },
   {
    "duration": 16,
    "start_time": "2022-11-23T13:10:27.763Z"
   },
   {
    "duration": 27,
    "start_time": "2022-11-23T13:10:27.781Z"
   },
   {
    "duration": 4,
    "start_time": "2022-11-23T13:10:27.810Z"
   },
   {
    "duration": 21,
    "start_time": "2022-11-23T13:10:27.816Z"
   },
   {
    "duration": 17,
    "start_time": "2022-11-23T13:10:27.839Z"
   },
   {
    "duration": 25,
    "start_time": "2022-11-23T13:10:27.858Z"
   },
   {
    "duration": 25,
    "start_time": "2022-11-23T13:10:27.884Z"
   },
   {
    "duration": 24,
    "start_time": "2022-11-23T13:10:27.911Z"
   },
   {
    "duration": 26,
    "start_time": "2022-11-23T13:10:27.939Z"
   },
   {
    "duration": 9,
    "start_time": "2022-11-23T13:10:27.967Z"
   },
   {
    "duration": 14,
    "start_time": "2022-11-23T13:10:27.978Z"
   },
   {
    "duration": 17,
    "start_time": "2022-11-23T13:10:27.994Z"
   },
   {
    "duration": 29,
    "start_time": "2022-11-23T13:10:28.012Z"
   },
   {
    "duration": 31,
    "start_time": "2022-11-23T13:10:28.043Z"
   },
   {
    "duration": 22,
    "start_time": "2022-11-23T13:10:28.076Z"
   },
   {
    "duration": 23,
    "start_time": "2022-11-23T13:10:28.100Z"
   },
   {
    "duration": 8,
    "start_time": "2022-11-23T13:10:28.125Z"
   },
   {
    "duration": 25,
    "start_time": "2022-11-23T13:10:28.134Z"
   },
   {
    "duration": 15,
    "start_time": "2022-11-23T13:10:28.160Z"
   },
   {
    "duration": 17,
    "start_time": "2022-11-23T13:10:28.177Z"
   },
   {
    "duration": 23,
    "start_time": "2022-11-23T13:10:28.196Z"
   },
   {
    "duration": 16,
    "start_time": "2022-11-23T13:10:28.220Z"
   },
   {
    "duration": 13,
    "start_time": "2022-11-23T13:10:28.237Z"
   },
   {
    "duration": 37,
    "start_time": "2022-11-23T13:10:28.251Z"
   },
   {
    "duration": 445,
    "start_time": "2022-11-23T13:10:28.290Z"
   },
   {
    "duration": 62,
    "start_time": "2022-11-23T13:10:28.736Z"
   },
   {
    "duration": 28480,
    "start_time": "2022-11-23T13:10:28.803Z"
   },
   {
    "duration": 909,
    "start_time": "2022-11-23T13:10:57.284Z"
   },
   {
    "duration": 374,
    "start_time": "2022-11-23T13:10:58.197Z"
   },
   {
    "duration": 606,
    "start_time": "2022-11-23T13:10:58.573Z"
   },
   {
    "duration": 468,
    "start_time": "2022-11-23T13:10:59.180Z"
   },
   {
    "duration": 18,
    "start_time": "2022-11-23T13:10:59.650Z"
   },
   {
    "duration": 889,
    "start_time": "2022-11-23T13:10:59.698Z"
   },
   {
    "duration": 20472,
    "start_time": "2022-11-23T13:11:00.588Z"
   },
   {
    "duration": 10,
    "start_time": "2022-11-23T13:11:21.061Z"
   },
   {
    "duration": 3,
    "start_time": "2022-11-23T13:11:21.073Z"
   },
   {
    "duration": 20,
    "start_time": "2022-11-23T13:11:21.078Z"
   },
   {
    "duration": 535,
    "start_time": "2022-11-23T13:11:21.099Z"
   },
   {
    "duration": 23,
    "start_time": "2022-11-23T13:11:21.635Z"
   },
   {
    "duration": 1101,
    "start_time": "2022-11-23T13:11:21.697Z"
   },
   {
    "duration": 29898,
    "start_time": "2022-11-23T13:11:22.800Z"
   },
   {
    "duration": 12,
    "start_time": "2022-11-23T13:11:52.700Z"
   },
   {
    "duration": 4,
    "start_time": "2022-11-23T13:11:52.713Z"
   },
   {
    "duration": 7,
    "start_time": "2022-11-23T13:11:52.719Z"
   },
   {
    "duration": 248,
    "start_time": "2022-11-23T13:11:52.728Z"
   },
   {
    "duration": 121,
    "start_time": "2022-11-23T13:11:52.978Z"
   },
   {
    "duration": 585,
    "start_time": "2022-11-23T13:11:53.102Z"
   },
   {
    "duration": 11502,
    "start_time": "2022-11-23T13:11:53.697Z"
   },
   {
    "duration": 1832,
    "start_time": "2022-11-23T13:12:05.201Z"
   },
   {
    "duration": 833,
    "start_time": "2022-11-23T13:12:07.035Z"
   },
   {
    "duration": 11,
    "start_time": "2022-11-23T13:12:07.870Z"
   },
   {
    "duration": 10,
    "start_time": "2022-11-23T13:14:10.798Z"
   },
   {
    "duration": 1351,
    "start_time": "2022-11-23T13:34:15.367Z"
   },
   {
    "duration": 14,
    "start_time": "2022-11-23T13:34:16.719Z"
   },
   {
    "duration": 17,
    "start_time": "2022-11-23T13:34:16.735Z"
   },
   {
    "duration": 2,
    "start_time": "2022-11-23T13:34:16.754Z"
   },
   {
    "duration": 7,
    "start_time": "2022-11-23T13:34:16.757Z"
   },
   {
    "duration": 5,
    "start_time": "2022-11-23T13:34:16.766Z"
   },
   {
    "duration": 6,
    "start_time": "2022-11-23T13:34:16.772Z"
   },
   {
    "duration": 26,
    "start_time": "2022-11-23T13:34:16.779Z"
   },
   {
    "duration": 7,
    "start_time": "2022-11-23T13:34:16.807Z"
   },
   {
    "duration": 21,
    "start_time": "2022-11-23T13:34:16.816Z"
   },
   {
    "duration": 3,
    "start_time": "2022-11-23T13:34:16.838Z"
   },
   {
    "duration": 13,
    "start_time": "2022-11-23T13:34:16.842Z"
   },
   {
    "duration": 4,
    "start_time": "2022-11-23T13:34:16.856Z"
   },
   {
    "duration": 10,
    "start_time": "2022-11-23T13:34:16.861Z"
   },
   {
    "duration": 31,
    "start_time": "2022-11-23T13:34:16.873Z"
   },
   {
    "duration": 8,
    "start_time": "2022-11-23T13:34:16.906Z"
   },
   {
    "duration": 7,
    "start_time": "2022-11-23T13:34:16.916Z"
   },
   {
    "duration": 3,
    "start_time": "2022-11-23T13:34:16.924Z"
   },
   {
    "duration": 8,
    "start_time": "2022-11-23T13:34:16.928Z"
   },
   {
    "duration": 114,
    "start_time": "2022-11-23T13:34:16.937Z"
   },
   {
    "duration": 0,
    "start_time": "2022-11-23T13:34:17.053Z"
   },
   {
    "duration": 0,
    "start_time": "2022-11-23T13:34:17.055Z"
   },
   {
    "duration": 0,
    "start_time": "2022-11-23T13:34:17.055Z"
   },
   {
    "duration": 0,
    "start_time": "2022-11-23T13:34:17.057Z"
   },
   {
    "duration": 0,
    "start_time": "2022-11-23T13:34:17.058Z"
   },
   {
    "duration": 0,
    "start_time": "2022-11-23T13:34:17.058Z"
   },
   {
    "duration": 1,
    "start_time": "2022-11-23T13:34:17.059Z"
   },
   {
    "duration": 0,
    "start_time": "2022-11-23T13:34:17.061Z"
   },
   {
    "duration": 0,
    "start_time": "2022-11-23T13:34:17.062Z"
   },
   {
    "duration": 0,
    "start_time": "2022-11-23T13:34:17.063Z"
   },
   {
    "duration": 0,
    "start_time": "2022-11-23T13:34:17.065Z"
   },
   {
    "duration": 0,
    "start_time": "2022-11-23T13:34:17.066Z"
   },
   {
    "duration": 0,
    "start_time": "2022-11-23T13:34:17.067Z"
   },
   {
    "duration": 0,
    "start_time": "2022-11-23T13:34:17.068Z"
   },
   {
    "duration": 0,
    "start_time": "2022-11-23T13:34:17.097Z"
   },
   {
    "duration": 0,
    "start_time": "2022-11-23T13:34:17.098Z"
   },
   {
    "duration": 0,
    "start_time": "2022-11-23T13:34:17.099Z"
   },
   {
    "duration": 0,
    "start_time": "2022-11-23T13:34:17.100Z"
   },
   {
    "duration": 0,
    "start_time": "2022-11-23T13:34:17.101Z"
   },
   {
    "duration": 0,
    "start_time": "2022-11-23T13:34:17.102Z"
   },
   {
    "duration": 0,
    "start_time": "2022-11-23T13:34:17.103Z"
   },
   {
    "duration": 0,
    "start_time": "2022-11-23T13:34:17.104Z"
   },
   {
    "duration": 0,
    "start_time": "2022-11-23T13:34:17.105Z"
   },
   {
    "duration": 0,
    "start_time": "2022-11-23T13:34:17.106Z"
   },
   {
    "duration": 0,
    "start_time": "2022-11-23T13:34:17.107Z"
   },
   {
    "duration": 0,
    "start_time": "2022-11-23T13:34:17.108Z"
   },
   {
    "duration": 0,
    "start_time": "2022-11-23T13:34:17.109Z"
   },
   {
    "duration": 0,
    "start_time": "2022-11-23T13:34:17.110Z"
   },
   {
    "duration": 0,
    "start_time": "2022-11-23T13:34:17.111Z"
   },
   {
    "duration": 0,
    "start_time": "2022-11-23T13:34:17.112Z"
   },
   {
    "duration": 0,
    "start_time": "2022-11-23T13:34:17.114Z"
   },
   {
    "duration": 0,
    "start_time": "2022-11-23T13:34:17.115Z"
   },
   {
    "duration": 0,
    "start_time": "2022-11-23T13:34:17.116Z"
   },
   {
    "duration": 8,
    "start_time": "2022-11-23T13:35:41.750Z"
   },
   {
    "duration": 6,
    "start_time": "2022-11-23T13:35:43.528Z"
   },
   {
    "duration": 4,
    "start_time": "2022-11-23T13:35:49.649Z"
   },
   {
    "duration": 3,
    "start_time": "2022-11-23T13:35:51.688Z"
   },
   {
    "duration": 4,
    "start_time": "2022-11-23T13:35:53.499Z"
   },
   {
    "duration": 10,
    "start_time": "2022-11-23T13:36:47.117Z"
   },
   {
    "duration": 31,
    "start_time": "2022-11-23T13:37:14.643Z"
   },
   {
    "duration": 22,
    "start_time": "2022-11-23T13:41:07.203Z"
   },
   {
    "duration": 25,
    "start_time": "2022-11-23T13:42:37.328Z"
   },
   {
    "duration": 29,
    "start_time": "2022-11-23T13:44:57.036Z"
   },
   {
    "duration": 14,
    "start_time": "2022-11-23T13:45:19.619Z"
   },
   {
    "duration": 12,
    "start_time": "2022-11-23T13:46:56.175Z"
   },
   {
    "duration": 13,
    "start_time": "2022-11-23T13:48:00.592Z"
   },
   {
    "duration": 11,
    "start_time": "2022-11-23T13:48:54.318Z"
   },
   {
    "duration": 11,
    "start_time": "2022-11-23T13:49:37.815Z"
   },
   {
    "duration": 12,
    "start_time": "2022-11-23T13:50:25.152Z"
   },
   {
    "duration": 11,
    "start_time": "2022-11-23T13:51:19.693Z"
   },
   {
    "duration": 14,
    "start_time": "2022-11-23T13:58:05.128Z"
   },
   {
    "duration": 15,
    "start_time": "2022-11-23T14:01:42.930Z"
   },
   {
    "duration": 14,
    "start_time": "2022-11-23T14:02:30.679Z"
   },
   {
    "duration": 1556,
    "start_time": "2022-11-24T12:31:37.830Z"
   },
   {
    "duration": 16,
    "start_time": "2022-11-24T12:31:39.389Z"
   },
   {
    "duration": 17,
    "start_time": "2022-11-24T12:31:39.406Z"
   },
   {
    "duration": 4,
    "start_time": "2022-11-24T12:31:39.424Z"
   },
   {
    "duration": 9,
    "start_time": "2022-11-24T12:31:39.429Z"
   },
   {
    "duration": 5,
    "start_time": "2022-11-24T12:31:39.439Z"
   },
   {
    "duration": 13,
    "start_time": "2022-11-24T12:31:39.446Z"
   },
   {
    "duration": 22,
    "start_time": "2022-11-24T12:31:39.460Z"
   },
   {
    "duration": 9,
    "start_time": "2022-11-24T12:31:39.484Z"
   },
   {
    "duration": 24,
    "start_time": "2022-11-24T12:31:39.495Z"
   },
   {
    "duration": 3,
    "start_time": "2022-11-24T12:31:39.521Z"
   },
   {
    "duration": 14,
    "start_time": "2022-11-24T12:31:39.526Z"
   },
   {
    "duration": 4,
    "start_time": "2022-11-24T12:31:39.542Z"
   },
   {
    "duration": 8,
    "start_time": "2022-11-24T12:31:39.547Z"
   },
   {
    "duration": 20,
    "start_time": "2022-11-24T12:31:39.556Z"
   },
   {
    "duration": 8,
    "start_time": "2022-11-24T12:31:39.577Z"
   },
   {
    "duration": 31,
    "start_time": "2022-11-24T12:31:39.587Z"
   },
   {
    "duration": 2,
    "start_time": "2022-11-24T12:31:39.620Z"
   },
   {
    "duration": 9,
    "start_time": "2022-11-24T12:31:39.624Z"
   },
   {
    "duration": 12,
    "start_time": "2022-11-24T12:31:39.634Z"
   },
   {
    "duration": 6,
    "start_time": "2022-11-24T12:31:39.647Z"
   },
   {
    "duration": 14,
    "start_time": "2022-11-24T12:31:39.655Z"
   },
   {
    "duration": 7,
    "start_time": "2022-11-24T12:31:39.670Z"
   },
   {
    "duration": 6,
    "start_time": "2022-11-24T12:31:39.678Z"
   },
   {
    "duration": 135,
    "start_time": "2022-11-24T12:31:39.685Z"
   },
   {
    "duration": 0,
    "start_time": "2022-11-24T12:31:39.822Z"
   },
   {
    "duration": 0,
    "start_time": "2022-11-24T12:31:39.824Z"
   },
   {
    "duration": 0,
    "start_time": "2022-11-24T12:31:39.825Z"
   },
   {
    "duration": 0,
    "start_time": "2022-11-24T12:31:39.826Z"
   },
   {
    "duration": 0,
    "start_time": "2022-11-24T12:31:39.828Z"
   },
   {
    "duration": 0,
    "start_time": "2022-11-24T12:31:39.829Z"
   },
   {
    "duration": 0,
    "start_time": "2022-11-24T12:31:39.831Z"
   },
   {
    "duration": 0,
    "start_time": "2022-11-24T12:31:39.833Z"
   },
   {
    "duration": 0,
    "start_time": "2022-11-24T12:31:39.834Z"
   },
   {
    "duration": 0,
    "start_time": "2022-11-24T12:31:39.835Z"
   },
   {
    "duration": 0,
    "start_time": "2022-11-24T12:31:39.837Z"
   },
   {
    "duration": 0,
    "start_time": "2022-11-24T12:31:39.838Z"
   },
   {
    "duration": 0,
    "start_time": "2022-11-24T12:31:39.840Z"
   },
   {
    "duration": 0,
    "start_time": "2022-11-24T12:31:39.841Z"
   },
   {
    "duration": 0,
    "start_time": "2022-11-24T12:31:39.843Z"
   },
   {
    "duration": 0,
    "start_time": "2022-11-24T12:31:39.844Z"
   },
   {
    "duration": 0,
    "start_time": "2022-11-24T12:31:39.845Z"
   },
   {
    "duration": 0,
    "start_time": "2022-11-24T12:31:39.846Z"
   },
   {
    "duration": 0,
    "start_time": "2022-11-24T12:31:39.847Z"
   },
   {
    "duration": 0,
    "start_time": "2022-11-24T12:31:39.848Z"
   },
   {
    "duration": 0,
    "start_time": "2022-11-24T12:31:39.848Z"
   },
   {
    "duration": 0,
    "start_time": "2022-11-24T12:31:39.849Z"
   },
   {
    "duration": 0,
    "start_time": "2022-11-24T12:31:39.850Z"
   },
   {
    "duration": 0,
    "start_time": "2022-11-24T12:31:39.851Z"
   },
   {
    "duration": 0,
    "start_time": "2022-11-24T12:31:39.852Z"
   },
   {
    "duration": 0,
    "start_time": "2022-11-24T12:31:39.853Z"
   },
   {
    "duration": 0,
    "start_time": "2022-11-24T12:31:39.854Z"
   },
   {
    "duration": 0,
    "start_time": "2022-11-24T12:31:39.855Z"
   },
   {
    "duration": 17,
    "start_time": "2022-11-24T12:34:37.033Z"
   },
   {
    "duration": 15,
    "start_time": "2022-11-24T12:35:19.438Z"
   },
   {
    "duration": 19,
    "start_time": "2022-11-24T12:35:49.191Z"
   },
   {
    "duration": 17,
    "start_time": "2022-11-24T12:41:29.108Z"
   },
   {
    "duration": 5,
    "start_time": "2022-11-24T12:41:50.166Z"
   },
   {
    "duration": 23,
    "start_time": "2022-11-24T12:42:07.714Z"
   },
   {
    "duration": 12,
    "start_time": "2022-11-24T12:42:39.728Z"
   },
   {
    "duration": 1339,
    "start_time": "2022-11-24T12:43:12.544Z"
   },
   {
    "duration": 17,
    "start_time": "2022-11-24T12:43:13.885Z"
   },
   {
    "duration": 14,
    "start_time": "2022-11-24T12:43:13.903Z"
   },
   {
    "duration": 4,
    "start_time": "2022-11-24T12:43:13.918Z"
   },
   {
    "duration": 6,
    "start_time": "2022-11-24T12:43:13.924Z"
   },
   {
    "duration": 5,
    "start_time": "2022-11-24T12:43:13.932Z"
   },
   {
    "duration": 7,
    "start_time": "2022-11-24T12:43:13.938Z"
   },
   {
    "duration": 19,
    "start_time": "2022-11-24T12:43:13.947Z"
   },
   {
    "duration": 8,
    "start_time": "2022-11-24T12:43:13.968Z"
   },
   {
    "duration": 42,
    "start_time": "2022-11-24T12:43:13.978Z"
   },
   {
    "duration": 4,
    "start_time": "2022-11-24T12:43:14.022Z"
   },
   {
    "duration": 20,
    "start_time": "2022-11-24T12:43:14.027Z"
   },
   {
    "duration": 5,
    "start_time": "2022-11-24T12:43:14.049Z"
   },
   {
    "duration": 10,
    "start_time": "2022-11-24T12:43:14.056Z"
   },
   {
    "duration": 19,
    "start_time": "2022-11-24T12:43:14.067Z"
   },
   {
    "duration": 33,
    "start_time": "2022-11-24T12:43:14.088Z"
   },
   {
    "duration": 7,
    "start_time": "2022-11-24T12:43:14.123Z"
   },
   {
    "duration": 10,
    "start_time": "2022-11-24T12:43:14.131Z"
   },
   {
    "duration": 7,
    "start_time": "2022-11-24T12:43:14.142Z"
   },
   {
    "duration": 11,
    "start_time": "2022-11-24T12:43:14.151Z"
   },
   {
    "duration": 10,
    "start_time": "2022-11-24T12:43:14.164Z"
   },
   {
    "duration": 9,
    "start_time": "2022-11-24T12:43:14.175Z"
   },
   {
    "duration": 6,
    "start_time": "2022-11-24T12:43:14.186Z"
   },
   {
    "duration": 4,
    "start_time": "2022-11-24T12:43:14.216Z"
   },
   {
    "duration": 23,
    "start_time": "2022-11-24T12:43:14.221Z"
   },
   {
    "duration": 12,
    "start_time": "2022-11-24T12:43:14.246Z"
   },
   {
    "duration": 30,
    "start_time": "2022-11-24T12:43:14.259Z"
   },
   {
    "duration": 501,
    "start_time": "2022-11-24T12:43:14.290Z"
   },
   {
    "duration": 124,
    "start_time": "2022-11-24T12:43:14.793Z"
   },
   {
    "duration": 30339,
    "start_time": "2022-11-24T12:43:14.920Z"
   },
   {
    "duration": 937,
    "start_time": "2022-11-24T12:43:45.261Z"
   },
   {
    "duration": 453,
    "start_time": "2022-11-24T12:43:46.199Z"
   },
   {
    "duration": 729,
    "start_time": "2022-11-24T12:43:46.655Z"
   },
   {
    "duration": 540,
    "start_time": "2022-11-24T12:43:47.386Z"
   },
   {
    "duration": 28,
    "start_time": "2022-11-24T12:43:47.928Z"
   },
   {
    "duration": 947,
    "start_time": "2022-11-24T12:43:48.027Z"
   },
   {
    "duration": 22205,
    "start_time": "2022-11-24T12:43:48.976Z"
   },
   {
    "duration": 119,
    "start_time": "2022-11-24T12:44:11.182Z"
   },
   {
    "duration": 0,
    "start_time": "2022-11-24T12:44:11.303Z"
   },
   {
    "duration": 0,
    "start_time": "2022-11-24T12:44:11.305Z"
   },
   {
    "duration": 0,
    "start_time": "2022-11-24T12:44:11.306Z"
   },
   {
    "duration": 0,
    "start_time": "2022-11-24T12:44:11.316Z"
   },
   {
    "duration": 0,
    "start_time": "2022-11-24T12:44:11.317Z"
   },
   {
    "duration": 0,
    "start_time": "2022-11-24T12:44:11.318Z"
   },
   {
    "duration": 0,
    "start_time": "2022-11-24T12:44:11.320Z"
   },
   {
    "duration": 0,
    "start_time": "2022-11-24T12:44:11.321Z"
   },
   {
    "duration": 0,
    "start_time": "2022-11-24T12:44:11.322Z"
   },
   {
    "duration": 0,
    "start_time": "2022-11-24T12:44:11.324Z"
   },
   {
    "duration": 0,
    "start_time": "2022-11-24T12:44:11.325Z"
   },
   {
    "duration": 0,
    "start_time": "2022-11-24T12:44:11.327Z"
   },
   {
    "duration": 0,
    "start_time": "2022-11-24T12:44:11.328Z"
   },
   {
    "duration": 0,
    "start_time": "2022-11-24T12:44:11.329Z"
   },
   {
    "duration": 0,
    "start_time": "2022-11-24T12:44:11.329Z"
   },
   {
    "duration": 0,
    "start_time": "2022-11-24T12:44:11.331Z"
   },
   {
    "duration": 10,
    "start_time": "2022-11-24T12:47:36.296Z"
   },
   {
    "duration": 13,
    "start_time": "2022-11-24T12:48:02.304Z"
   },
   {
    "duration": 13,
    "start_time": "2022-11-24T12:48:15.131Z"
   },
   {
    "duration": 15,
    "start_time": "2022-11-24T12:48:28.785Z"
   },
   {
    "duration": 13,
    "start_time": "2022-11-24T12:48:59.297Z"
   },
   {
    "duration": 18,
    "start_time": "2022-11-24T12:49:21.224Z"
   },
   {
    "duration": 46,
    "start_time": "2022-11-24T12:53:09.177Z"
   },
   {
    "duration": 17,
    "start_time": "2022-11-24T12:59:59.040Z"
   },
   {
    "duration": 1453,
    "start_time": "2022-11-24T13:00:27.529Z"
   },
   {
    "duration": 21,
    "start_time": "2022-11-24T13:00:28.985Z"
   },
   {
    "duration": 37,
    "start_time": "2022-11-24T13:00:29.007Z"
   },
   {
    "duration": 4,
    "start_time": "2022-11-24T13:00:29.046Z"
   },
   {
    "duration": 8,
    "start_time": "2022-11-24T13:00:29.051Z"
   },
   {
    "duration": 7,
    "start_time": "2022-11-24T13:00:29.060Z"
   },
   {
    "duration": 7,
    "start_time": "2022-11-24T13:00:29.069Z"
   },
   {
    "duration": 28,
    "start_time": "2022-11-24T13:00:29.077Z"
   },
   {
    "duration": 11,
    "start_time": "2022-11-24T13:00:29.107Z"
   },
   {
    "duration": 23,
    "start_time": "2022-11-24T13:00:29.121Z"
   },
   {
    "duration": 5,
    "start_time": "2022-11-24T13:00:29.145Z"
   },
   {
    "duration": 13,
    "start_time": "2022-11-24T13:00:29.151Z"
   },
   {
    "duration": 4,
    "start_time": "2022-11-24T13:00:29.166Z"
   },
   {
    "duration": 11,
    "start_time": "2022-11-24T13:00:29.172Z"
   },
   {
    "duration": 48,
    "start_time": "2022-11-24T13:00:29.185Z"
   },
   {
    "duration": 13,
    "start_time": "2022-11-24T13:00:29.235Z"
   },
   {
    "duration": 10,
    "start_time": "2022-11-24T13:00:29.250Z"
   },
   {
    "duration": 11,
    "start_time": "2022-11-24T13:00:29.262Z"
   },
   {
    "duration": 24,
    "start_time": "2022-11-24T13:00:29.276Z"
   },
   {
    "duration": 15,
    "start_time": "2022-11-24T13:00:29.302Z"
   },
   {
    "duration": 8,
    "start_time": "2022-11-24T13:00:29.319Z"
   },
   {
    "duration": 18,
    "start_time": "2022-11-24T13:00:29.330Z"
   },
   {
    "duration": 10,
    "start_time": "2022-11-24T13:00:29.350Z"
   },
   {
    "duration": 12,
    "start_time": "2022-11-24T13:00:29.362Z"
   },
   {
    "duration": 33,
    "start_time": "2022-11-24T13:00:29.376Z"
   },
   {
    "duration": 17,
    "start_time": "2022-11-24T13:00:29.411Z"
   },
   {
    "duration": 29,
    "start_time": "2022-11-24T13:00:29.429Z"
   },
   {
    "duration": 121,
    "start_time": "2022-11-24T13:00:29.462Z"
   },
   {
    "duration": 0,
    "start_time": "2022-11-24T13:00:29.585Z"
   },
   {
    "duration": 0,
    "start_time": "2022-11-24T13:00:29.586Z"
   },
   {
    "duration": 0,
    "start_time": "2022-11-24T13:00:29.587Z"
   },
   {
    "duration": 0,
    "start_time": "2022-11-24T13:00:29.588Z"
   },
   {
    "duration": 0,
    "start_time": "2022-11-24T13:00:29.589Z"
   },
   {
    "duration": 0,
    "start_time": "2022-11-24T13:00:29.590Z"
   },
   {
    "duration": 0,
    "start_time": "2022-11-24T13:00:29.591Z"
   },
   {
    "duration": 0,
    "start_time": "2022-11-24T13:00:29.592Z"
   },
   {
    "duration": 0,
    "start_time": "2022-11-24T13:00:29.593Z"
   },
   {
    "duration": 0,
    "start_time": "2022-11-24T13:00:29.594Z"
   },
   {
    "duration": 0,
    "start_time": "2022-11-24T13:00:29.595Z"
   },
   {
    "duration": 0,
    "start_time": "2022-11-24T13:00:29.616Z"
   },
   {
    "duration": 0,
    "start_time": "2022-11-24T13:00:29.618Z"
   },
   {
    "duration": 0,
    "start_time": "2022-11-24T13:00:29.619Z"
   },
   {
    "duration": 0,
    "start_time": "2022-11-24T13:00:29.621Z"
   },
   {
    "duration": 0,
    "start_time": "2022-11-24T13:00:29.622Z"
   },
   {
    "duration": 0,
    "start_time": "2022-11-24T13:00:29.623Z"
   },
   {
    "duration": 0,
    "start_time": "2022-11-24T13:00:29.624Z"
   },
   {
    "duration": 0,
    "start_time": "2022-11-24T13:00:29.625Z"
   },
   {
    "duration": 0,
    "start_time": "2022-11-24T13:00:29.626Z"
   },
   {
    "duration": 0,
    "start_time": "2022-11-24T13:00:29.627Z"
   },
   {
    "duration": 0,
    "start_time": "2022-11-24T13:00:29.628Z"
   },
   {
    "duration": 0,
    "start_time": "2022-11-24T13:00:29.629Z"
   },
   {
    "duration": 0,
    "start_time": "2022-11-24T13:00:29.630Z"
   },
   {
    "duration": 0,
    "start_time": "2022-11-24T13:00:29.632Z"
   },
   {
    "duration": 18,
    "start_time": "2022-11-24T13:01:44.142Z"
   },
   {
    "duration": 1388,
    "start_time": "2022-11-24T13:01:49.986Z"
   },
   {
    "duration": 15,
    "start_time": "2022-11-24T13:01:51.376Z"
   },
   {
    "duration": 104,
    "start_time": "2022-11-24T13:01:51.393Z"
   },
   {
    "duration": 34,
    "start_time": "2022-11-24T13:01:51.499Z"
   },
   {
    "duration": 41,
    "start_time": "2022-11-24T13:01:51.535Z"
   },
   {
    "duration": 33,
    "start_time": "2022-11-24T13:01:51.578Z"
   },
   {
    "duration": 15,
    "start_time": "2022-11-24T13:01:51.612Z"
   },
   {
    "duration": 36,
    "start_time": "2022-11-24T13:01:51.629Z"
   },
   {
    "duration": 19,
    "start_time": "2022-11-24T13:01:51.667Z"
   },
   {
    "duration": 35,
    "start_time": "2022-11-24T13:01:51.689Z"
   },
   {
    "duration": 4,
    "start_time": "2022-11-24T13:01:51.726Z"
   },
   {
    "duration": 24,
    "start_time": "2022-11-24T13:01:51.733Z"
   },
   {
    "duration": 5,
    "start_time": "2022-11-24T13:01:51.759Z"
   },
   {
    "duration": 32,
    "start_time": "2022-11-24T13:01:51.766Z"
   },
   {
    "duration": 36,
    "start_time": "2022-11-24T13:01:51.800Z"
   },
   {
    "duration": 10,
    "start_time": "2022-11-24T13:01:51.838Z"
   },
   {
    "duration": 23,
    "start_time": "2022-11-24T13:01:51.850Z"
   },
   {
    "duration": 15,
    "start_time": "2022-11-24T13:01:51.875Z"
   },
   {
    "duration": 11,
    "start_time": "2022-11-24T13:01:51.892Z"
   },
   {
    "duration": 18,
    "start_time": "2022-11-24T13:01:51.904Z"
   },
   {
    "duration": 9,
    "start_time": "2022-11-24T13:01:51.924Z"
   },
   {
    "duration": 13,
    "start_time": "2022-11-24T13:01:51.936Z"
   },
   {
    "duration": 18,
    "start_time": "2022-11-24T13:01:51.951Z"
   },
   {
    "duration": 8,
    "start_time": "2022-11-24T13:01:51.971Z"
   },
   {
    "duration": 27,
    "start_time": "2022-11-24T13:01:51.981Z"
   },
   {
    "duration": 20,
    "start_time": "2022-11-24T13:01:52.010Z"
   },
   {
    "duration": 39,
    "start_time": "2022-11-24T13:01:52.034Z"
   },
   {
    "duration": 577,
    "start_time": "2022-11-24T13:01:52.075Z"
   },
   {
    "duration": 63,
    "start_time": "2022-11-24T13:01:52.654Z"
   },
   {
    "duration": 30983,
    "start_time": "2022-11-24T13:01:52.718Z"
   },
   {
    "duration": 952,
    "start_time": "2022-11-24T13:02:23.703Z"
   },
   {
    "duration": 394,
    "start_time": "2022-11-24T13:02:24.657Z"
   },
   {
    "duration": 507,
    "start_time": "2022-11-24T13:02:25.052Z"
   },
   {
    "duration": 58,
    "start_time": "2022-11-24T13:02:25.561Z"
   },
   {
    "duration": 1014,
    "start_time": "2022-11-24T13:02:25.622Z"
   },
   {
    "duration": 22134,
    "start_time": "2022-11-24T13:02:26.638Z"
   },
   {
    "duration": 120,
    "start_time": "2022-11-24T13:02:48.774Z"
   },
   {
    "duration": 0,
    "start_time": "2022-11-24T13:02:48.896Z"
   },
   {
    "duration": 0,
    "start_time": "2022-11-24T13:02:48.897Z"
   },
   {
    "duration": 0,
    "start_time": "2022-11-24T13:02:48.898Z"
   },
   {
    "duration": 0,
    "start_time": "2022-11-24T13:02:48.900Z"
   },
   {
    "duration": 0,
    "start_time": "2022-11-24T13:02:48.902Z"
   },
   {
    "duration": 0,
    "start_time": "2022-11-24T13:02:48.915Z"
   },
   {
    "duration": 0,
    "start_time": "2022-11-24T13:02:48.916Z"
   },
   {
    "duration": 0,
    "start_time": "2022-11-24T13:02:48.917Z"
   },
   {
    "duration": 0,
    "start_time": "2022-11-24T13:02:48.919Z"
   },
   {
    "duration": 0,
    "start_time": "2022-11-24T13:02:48.920Z"
   },
   {
    "duration": 0,
    "start_time": "2022-11-24T13:02:48.921Z"
   },
   {
    "duration": 0,
    "start_time": "2022-11-24T13:02:48.921Z"
   },
   {
    "duration": 0,
    "start_time": "2022-11-24T13:02:48.922Z"
   },
   {
    "duration": 0,
    "start_time": "2022-11-24T13:02:48.923Z"
   },
   {
    "duration": 0,
    "start_time": "2022-11-24T13:02:48.924Z"
   },
   {
    "duration": 0,
    "start_time": "2022-11-24T13:02:48.925Z"
   },
   {
    "duration": 23,
    "start_time": "2022-11-24T13:05:54.159Z"
   },
   {
    "duration": 6,
    "start_time": "2022-11-24T13:06:04.660Z"
   },
   {
    "duration": 1347,
    "start_time": "2022-11-24T13:07:09.861Z"
   },
   {
    "duration": 17,
    "start_time": "2022-11-24T13:07:11.210Z"
   },
   {
    "duration": 41,
    "start_time": "2022-11-24T13:07:11.228Z"
   },
   {
    "duration": 27,
    "start_time": "2022-11-24T13:07:11.271Z"
   },
   {
    "duration": 22,
    "start_time": "2022-11-24T13:07:11.300Z"
   },
   {
    "duration": 22,
    "start_time": "2022-11-24T13:07:11.323Z"
   },
   {
    "duration": 10,
    "start_time": "2022-11-24T13:07:11.346Z"
   },
   {
    "duration": 39,
    "start_time": "2022-11-24T13:07:11.357Z"
   },
   {
    "duration": 22,
    "start_time": "2022-11-24T13:07:11.398Z"
   },
   {
    "duration": 38,
    "start_time": "2022-11-24T13:07:11.422Z"
   },
   {
    "duration": 19,
    "start_time": "2022-11-24T13:07:11.461Z"
   },
   {
    "duration": 34,
    "start_time": "2022-11-24T13:07:11.482Z"
   },
   {
    "duration": 16,
    "start_time": "2022-11-24T13:07:11.517Z"
   },
   {
    "duration": 39,
    "start_time": "2022-11-24T13:07:11.535Z"
   },
   {
    "duration": 38,
    "start_time": "2022-11-24T13:07:11.575Z"
   },
   {
    "duration": 39,
    "start_time": "2022-11-24T13:07:11.615Z"
   },
   {
    "duration": 25,
    "start_time": "2022-11-24T13:07:11.656Z"
   },
   {
    "duration": 13,
    "start_time": "2022-11-24T13:07:11.683Z"
   },
   {
    "duration": 49,
    "start_time": "2022-11-24T13:07:11.697Z"
   },
   {
    "duration": 20,
    "start_time": "2022-11-24T13:07:11.748Z"
   },
   {
    "duration": 32,
    "start_time": "2022-11-24T13:07:11.770Z"
   },
   {
    "duration": 45,
    "start_time": "2022-11-24T13:07:11.804Z"
   },
   {
    "duration": 40,
    "start_time": "2022-11-24T13:07:11.851Z"
   },
   {
    "duration": 59,
    "start_time": "2022-11-24T13:07:11.893Z"
   },
   {
    "duration": 58,
    "start_time": "2022-11-24T13:07:11.954Z"
   },
   {
    "duration": 44,
    "start_time": "2022-11-24T13:07:12.014Z"
   },
   {
    "duration": 56,
    "start_time": "2022-11-24T13:07:12.059Z"
   },
   {
    "duration": 141,
    "start_time": "2022-11-24T13:07:12.117Z"
   },
   {
    "duration": 0,
    "start_time": "2022-11-24T13:07:12.260Z"
   },
   {
    "duration": 0,
    "start_time": "2022-11-24T13:07:12.262Z"
   },
   {
    "duration": 0,
    "start_time": "2022-11-24T13:07:12.263Z"
   },
   {
    "duration": 0,
    "start_time": "2022-11-24T13:07:12.264Z"
   },
   {
    "duration": 0,
    "start_time": "2022-11-24T13:07:12.265Z"
   },
   {
    "duration": 0,
    "start_time": "2022-11-24T13:07:12.266Z"
   },
   {
    "duration": 0,
    "start_time": "2022-11-24T13:07:12.268Z"
   },
   {
    "duration": 0,
    "start_time": "2022-11-24T13:07:12.269Z"
   },
   {
    "duration": 0,
    "start_time": "2022-11-24T13:07:12.271Z"
   },
   {
    "duration": 0,
    "start_time": "2022-11-24T13:07:12.273Z"
   },
   {
    "duration": 0,
    "start_time": "2022-11-24T13:07:12.274Z"
   },
   {
    "duration": 0,
    "start_time": "2022-11-24T13:07:12.276Z"
   },
   {
    "duration": 0,
    "start_time": "2022-11-24T13:07:12.277Z"
   },
   {
    "duration": 0,
    "start_time": "2022-11-24T13:07:12.279Z"
   },
   {
    "duration": 0,
    "start_time": "2022-11-24T13:07:12.281Z"
   },
   {
    "duration": 0,
    "start_time": "2022-11-24T13:07:12.282Z"
   },
   {
    "duration": 0,
    "start_time": "2022-11-24T13:07:12.316Z"
   },
   {
    "duration": 0,
    "start_time": "2022-11-24T13:07:12.317Z"
   },
   {
    "duration": 0,
    "start_time": "2022-11-24T13:07:12.318Z"
   },
   {
    "duration": 0,
    "start_time": "2022-11-24T13:07:12.320Z"
   },
   {
    "duration": 0,
    "start_time": "2022-11-24T13:07:12.321Z"
   },
   {
    "duration": 0,
    "start_time": "2022-11-24T13:07:12.323Z"
   },
   {
    "duration": 0,
    "start_time": "2022-11-24T13:07:12.324Z"
   },
   {
    "duration": 0,
    "start_time": "2022-11-24T13:07:12.325Z"
   },
   {
    "duration": 0,
    "start_time": "2022-11-24T13:07:12.327Z"
   },
   {
    "duration": 1433,
    "start_time": "2022-11-24T13:10:40.431Z"
   },
   {
    "duration": 18,
    "start_time": "2022-11-24T13:10:41.866Z"
   },
   {
    "duration": 19,
    "start_time": "2022-11-24T13:10:41.885Z"
   },
   {
    "duration": 4,
    "start_time": "2022-11-24T13:10:41.906Z"
   },
   {
    "duration": 7,
    "start_time": "2022-11-24T13:10:41.911Z"
   },
   {
    "duration": 7,
    "start_time": "2022-11-24T13:10:41.920Z"
   },
   {
    "duration": 9,
    "start_time": "2022-11-24T13:10:41.929Z"
   },
   {
    "duration": 24,
    "start_time": "2022-11-24T13:10:41.939Z"
   },
   {
    "duration": 7,
    "start_time": "2022-11-24T13:10:41.965Z"
   },
   {
    "duration": 25,
    "start_time": "2022-11-24T13:10:41.975Z"
   },
   {
    "duration": 15,
    "start_time": "2022-11-24T13:10:42.001Z"
   },
   {
    "duration": 14,
    "start_time": "2022-11-24T13:10:42.018Z"
   },
   {
    "duration": 6,
    "start_time": "2022-11-24T13:10:42.034Z"
   },
   {
    "duration": 7,
    "start_time": "2022-11-24T13:10:42.041Z"
   },
   {
    "duration": 23,
    "start_time": "2022-11-24T13:10:42.050Z"
   },
   {
    "duration": 41,
    "start_time": "2022-11-24T13:10:42.075Z"
   },
   {
    "duration": 10,
    "start_time": "2022-11-24T13:10:42.118Z"
   },
   {
    "duration": 3,
    "start_time": "2022-11-24T13:10:42.130Z"
   },
   {
    "duration": 16,
    "start_time": "2022-11-24T13:10:42.135Z"
   },
   {
    "duration": 15,
    "start_time": "2022-11-24T13:10:42.153Z"
   },
   {
    "duration": 11,
    "start_time": "2022-11-24T13:10:42.170Z"
   },
   {
    "duration": 33,
    "start_time": "2022-11-24T13:10:42.183Z"
   },
   {
    "duration": 4,
    "start_time": "2022-11-24T13:10:42.219Z"
   },
   {
    "duration": 5,
    "start_time": "2022-11-24T13:10:42.225Z"
   },
   {
    "duration": 33,
    "start_time": "2022-11-24T13:10:42.232Z"
   },
   {
    "duration": 7,
    "start_time": "2022-11-24T13:10:42.266Z"
   },
   {
    "duration": 63,
    "start_time": "2022-11-24T13:10:42.275Z"
   },
   {
    "duration": 491,
    "start_time": "2022-11-24T13:10:42.342Z"
   },
   {
    "duration": 81,
    "start_time": "2022-11-24T13:10:42.835Z"
   },
   {
    "duration": 31331,
    "start_time": "2022-11-24T13:10:42.919Z"
   },
   {
    "duration": 948,
    "start_time": "2022-11-24T13:11:14.252Z"
   },
   {
    "duration": 429,
    "start_time": "2022-11-24T13:11:15.202Z"
   },
   {
    "duration": 525,
    "start_time": "2022-11-24T13:11:15.633Z"
   },
   {
    "duration": 20,
    "start_time": "2022-11-24T13:11:16.160Z"
   },
   {
    "duration": 972,
    "start_time": "2022-11-24T13:11:16.218Z"
   },
   {
    "duration": 22360,
    "start_time": "2022-11-24T13:11:17.192Z"
   },
   {
    "duration": 122,
    "start_time": "2022-11-24T13:11:39.553Z"
   },
   {
    "duration": 0,
    "start_time": "2022-11-24T13:11:39.677Z"
   },
   {
    "duration": 0,
    "start_time": "2022-11-24T13:11:39.678Z"
   },
   {
    "duration": 0,
    "start_time": "2022-11-24T13:11:39.679Z"
   },
   {
    "duration": 0,
    "start_time": "2022-11-24T13:11:39.681Z"
   },
   {
    "duration": 0,
    "start_time": "2022-11-24T13:11:39.682Z"
   },
   {
    "duration": 1,
    "start_time": "2022-11-24T13:11:39.683Z"
   },
   {
    "duration": 0,
    "start_time": "2022-11-24T13:11:39.685Z"
   },
   {
    "duration": 0,
    "start_time": "2022-11-24T13:11:39.686Z"
   },
   {
    "duration": 0,
    "start_time": "2022-11-24T13:11:39.688Z"
   },
   {
    "duration": 0,
    "start_time": "2022-11-24T13:11:39.689Z"
   },
   {
    "duration": 0,
    "start_time": "2022-11-24T13:11:39.690Z"
   },
   {
    "duration": 0,
    "start_time": "2022-11-24T13:11:39.691Z"
   },
   {
    "duration": 0,
    "start_time": "2022-11-24T13:11:39.716Z"
   },
   {
    "duration": 0,
    "start_time": "2022-11-24T13:11:39.717Z"
   },
   {
    "duration": 0,
    "start_time": "2022-11-24T13:11:39.717Z"
   },
   {
    "duration": 0,
    "start_time": "2022-11-24T13:11:39.718Z"
   },
   {
    "duration": 1505,
    "start_time": "2022-11-24T13:24:49.273Z"
   },
   {
    "duration": 15,
    "start_time": "2022-11-24T13:24:50.780Z"
   },
   {
    "duration": 17,
    "start_time": "2022-11-24T13:24:50.797Z"
   },
   {
    "duration": 11,
    "start_time": "2022-11-24T13:24:50.816Z"
   },
   {
    "duration": 11,
    "start_time": "2022-11-24T13:24:50.830Z"
   },
   {
    "duration": 11,
    "start_time": "2022-11-24T13:24:50.843Z"
   },
   {
    "duration": 33,
    "start_time": "2022-11-24T13:24:50.856Z"
   },
   {
    "duration": 27,
    "start_time": "2022-11-24T13:24:50.891Z"
   },
   {
    "duration": 32,
    "start_time": "2022-11-24T13:24:50.920Z"
   },
   {
    "duration": 30,
    "start_time": "2022-11-24T13:24:50.954Z"
   },
   {
    "duration": 7,
    "start_time": "2022-11-24T13:24:50.986Z"
   },
   {
    "duration": 43,
    "start_time": "2022-11-24T13:24:50.995Z"
   },
   {
    "duration": 15,
    "start_time": "2022-11-24T13:24:51.040Z"
   },
   {
    "duration": 31,
    "start_time": "2022-11-24T13:24:51.058Z"
   },
   {
    "duration": 39,
    "start_time": "2022-11-24T13:24:51.090Z"
   },
   {
    "duration": 59,
    "start_time": "2022-11-24T13:24:51.131Z"
   },
   {
    "duration": 49,
    "start_time": "2022-11-24T13:24:51.192Z"
   },
   {
    "duration": 2,
    "start_time": "2022-11-24T13:24:51.243Z"
   },
   {
    "duration": 9,
    "start_time": "2022-11-24T13:24:51.247Z"
   },
   {
    "duration": 26,
    "start_time": "2022-11-24T13:24:51.257Z"
   },
   {
    "duration": 33,
    "start_time": "2022-11-24T13:24:51.284Z"
   },
   {
    "duration": 17,
    "start_time": "2022-11-24T13:24:51.319Z"
   },
   {
    "duration": 29,
    "start_time": "2022-11-24T13:24:51.338Z"
   },
   {
    "duration": 45,
    "start_time": "2022-11-24T13:24:51.368Z"
   },
   {
    "duration": 40,
    "start_time": "2022-11-24T13:24:51.415Z"
   },
   {
    "duration": 15,
    "start_time": "2022-11-24T13:24:51.457Z"
   },
   {
    "duration": 29,
    "start_time": "2022-11-24T13:24:51.474Z"
   },
   {
    "duration": 113,
    "start_time": "2022-11-24T13:24:51.505Z"
   },
   {
    "duration": 0,
    "start_time": "2022-11-24T13:24:51.620Z"
   },
   {
    "duration": 0,
    "start_time": "2022-11-24T13:24:51.621Z"
   },
   {
    "duration": 0,
    "start_time": "2022-11-24T13:24:51.623Z"
   },
   {
    "duration": 0,
    "start_time": "2022-11-24T13:24:51.624Z"
   },
   {
    "duration": 0,
    "start_time": "2022-11-24T13:24:51.625Z"
   },
   {
    "duration": 0,
    "start_time": "2022-11-24T13:24:51.626Z"
   },
   {
    "duration": 0,
    "start_time": "2022-11-24T13:24:51.626Z"
   },
   {
    "duration": 0,
    "start_time": "2022-11-24T13:24:51.628Z"
   },
   {
    "duration": 0,
    "start_time": "2022-11-24T13:24:51.629Z"
   },
   {
    "duration": 0,
    "start_time": "2022-11-24T13:24:51.630Z"
   },
   {
    "duration": 0,
    "start_time": "2022-11-24T13:24:51.631Z"
   },
   {
    "duration": 0,
    "start_time": "2022-11-24T13:24:51.633Z"
   },
   {
    "duration": 0,
    "start_time": "2022-11-24T13:24:51.634Z"
   },
   {
    "duration": 0,
    "start_time": "2022-11-24T13:24:51.635Z"
   },
   {
    "duration": 0,
    "start_time": "2022-11-24T13:24:51.636Z"
   },
   {
    "duration": 0,
    "start_time": "2022-11-24T13:24:51.637Z"
   },
   {
    "duration": 0,
    "start_time": "2022-11-24T13:24:51.638Z"
   },
   {
    "duration": 0,
    "start_time": "2022-11-24T13:24:51.639Z"
   },
   {
    "duration": 0,
    "start_time": "2022-11-24T13:24:51.640Z"
   },
   {
    "duration": 0,
    "start_time": "2022-11-24T13:24:51.641Z"
   },
   {
    "duration": 0,
    "start_time": "2022-11-24T13:24:51.642Z"
   },
   {
    "duration": 0,
    "start_time": "2022-11-24T13:24:51.643Z"
   },
   {
    "duration": 0,
    "start_time": "2022-11-24T13:24:51.644Z"
   },
   {
    "duration": 0,
    "start_time": "2022-11-24T13:24:51.644Z"
   },
   {
    "duration": 0,
    "start_time": "2022-11-24T13:24:51.646Z"
   },
   {
    "duration": 1569,
    "start_time": "2022-11-24T13:26:20.923Z"
   },
   {
    "duration": 15,
    "start_time": "2022-11-24T13:26:22.494Z"
   },
   {
    "duration": 23,
    "start_time": "2022-11-24T13:26:22.510Z"
   },
   {
    "duration": 10,
    "start_time": "2022-11-24T13:26:22.535Z"
   },
   {
    "duration": 17,
    "start_time": "2022-11-24T13:26:22.546Z"
   },
   {
    "duration": 12,
    "start_time": "2022-11-24T13:26:22.564Z"
   },
   {
    "duration": 21,
    "start_time": "2022-11-24T13:26:22.577Z"
   },
   {
    "duration": 25,
    "start_time": "2022-11-24T13:26:22.599Z"
   },
   {
    "duration": 13,
    "start_time": "2022-11-24T13:26:22.626Z"
   },
   {
    "duration": 35,
    "start_time": "2022-11-24T13:26:22.642Z"
   },
   {
    "duration": 3,
    "start_time": "2022-11-24T13:26:22.679Z"
   },
   {
    "duration": 17,
    "start_time": "2022-11-24T13:26:22.684Z"
   },
   {
    "duration": 4,
    "start_time": "2022-11-24T13:26:22.702Z"
   },
   {
    "duration": 11,
    "start_time": "2022-11-24T13:26:22.708Z"
   },
   {
    "duration": 19,
    "start_time": "2022-11-24T13:26:22.721Z"
   },
   {
    "duration": 9,
    "start_time": "2022-11-24T13:26:22.741Z"
   },
   {
    "duration": 8,
    "start_time": "2022-11-24T13:26:22.752Z"
   },
   {
    "duration": 2,
    "start_time": "2022-11-24T13:26:22.762Z"
   },
   {
    "duration": 6,
    "start_time": "2022-11-24T13:26:22.766Z"
   },
   {
    "duration": 11,
    "start_time": "2022-11-24T13:26:22.773Z"
   },
   {
    "duration": 34,
    "start_time": "2022-11-24T13:26:22.785Z"
   },
   {
    "duration": 8,
    "start_time": "2022-11-24T13:26:22.821Z"
   },
   {
    "duration": 7,
    "start_time": "2022-11-24T13:26:22.830Z"
   },
   {
    "duration": 9,
    "start_time": "2022-11-24T13:26:22.839Z"
   },
   {
    "duration": 27,
    "start_time": "2022-11-24T13:26:22.849Z"
   },
   {
    "duration": 13,
    "start_time": "2022-11-24T13:26:22.878Z"
   },
   {
    "duration": 56,
    "start_time": "2022-11-24T13:26:22.892Z"
   },
   {
    "duration": 497,
    "start_time": "2022-11-24T13:26:22.953Z"
   },
   {
    "duration": 65,
    "start_time": "2022-11-24T13:26:23.452Z"
   },
   {
    "duration": 31274,
    "start_time": "2022-11-24T13:26:23.520Z"
   },
   {
    "duration": 974,
    "start_time": "2022-11-24T13:26:54.796Z"
   },
   {
    "duration": 424,
    "start_time": "2022-11-24T13:26:55.772Z"
   },
   {
    "duration": 550,
    "start_time": "2022-11-24T13:26:56.198Z"
   },
   {
    "duration": 68,
    "start_time": "2022-11-24T13:26:56.750Z"
   },
   {
    "duration": 907,
    "start_time": "2022-11-24T13:26:56.822Z"
   },
   {
    "duration": 22349,
    "start_time": "2022-11-24T13:26:57.731Z"
   },
   {
    "duration": 126,
    "start_time": "2022-11-24T13:27:20.082Z"
   },
   {
    "duration": 0,
    "start_time": "2022-11-24T13:27:20.209Z"
   },
   {
    "duration": 0,
    "start_time": "2022-11-24T13:27:20.211Z"
   },
   {
    "duration": 0,
    "start_time": "2022-11-24T13:27:20.215Z"
   },
   {
    "duration": 0,
    "start_time": "2022-11-24T13:27:20.216Z"
   },
   {
    "duration": 0,
    "start_time": "2022-11-24T13:27:20.217Z"
   },
   {
    "duration": 0,
    "start_time": "2022-11-24T13:27:20.218Z"
   },
   {
    "duration": 0,
    "start_time": "2022-11-24T13:27:20.219Z"
   },
   {
    "duration": 0,
    "start_time": "2022-11-24T13:27:20.220Z"
   },
   {
    "duration": 0,
    "start_time": "2022-11-24T13:27:20.221Z"
   },
   {
    "duration": 0,
    "start_time": "2022-11-24T13:27:20.222Z"
   },
   {
    "duration": 0,
    "start_time": "2022-11-24T13:27:20.224Z"
   },
   {
    "duration": 0,
    "start_time": "2022-11-24T13:27:20.225Z"
   },
   {
    "duration": 0,
    "start_time": "2022-11-24T13:27:20.225Z"
   },
   {
    "duration": 0,
    "start_time": "2022-11-24T13:27:20.227Z"
   },
   {
    "duration": 0,
    "start_time": "2022-11-24T13:27:20.228Z"
   },
   {
    "duration": 0,
    "start_time": "2022-11-24T13:27:20.228Z"
   },
   {
    "duration": 1448,
    "start_time": "2022-11-24T13:31:12.057Z"
   },
   {
    "duration": 16,
    "start_time": "2022-11-24T13:31:13.507Z"
   },
   {
    "duration": 24,
    "start_time": "2022-11-24T13:31:13.525Z"
   },
   {
    "duration": 29,
    "start_time": "2022-11-24T13:31:13.551Z"
   },
   {
    "duration": 54,
    "start_time": "2022-11-24T13:31:13.582Z"
   },
   {
    "duration": 34,
    "start_time": "2022-11-24T13:31:13.637Z"
   },
   {
    "duration": 50,
    "start_time": "2022-11-24T13:31:13.672Z"
   },
   {
    "duration": 41,
    "start_time": "2022-11-24T13:31:13.724Z"
   },
   {
    "duration": 46,
    "start_time": "2022-11-24T13:31:13.767Z"
   },
   {
    "duration": 49,
    "start_time": "2022-11-24T13:31:13.815Z"
   },
   {
    "duration": 29,
    "start_time": "2022-11-24T13:31:13.866Z"
   },
   {
    "duration": 68,
    "start_time": "2022-11-24T13:31:13.897Z"
   },
   {
    "duration": 28,
    "start_time": "2022-11-24T13:31:13.967Z"
   },
   {
    "duration": 78,
    "start_time": "2022-11-24T13:31:13.999Z"
   },
   {
    "duration": 55,
    "start_time": "2022-11-24T13:31:14.078Z"
   },
   {
    "duration": 30,
    "start_time": "2022-11-24T13:31:14.134Z"
   },
   {
    "duration": 60,
    "start_time": "2022-11-24T13:31:14.165Z"
   },
   {
    "duration": 27,
    "start_time": "2022-11-24T13:31:14.227Z"
   },
   {
    "duration": 62,
    "start_time": "2022-11-24T13:31:14.256Z"
   },
   {
    "duration": 47,
    "start_time": "2022-11-24T13:31:14.320Z"
   },
   {
    "duration": 56,
    "start_time": "2022-11-24T13:31:14.369Z"
   },
   {
    "duration": 54,
    "start_time": "2022-11-24T13:31:14.426Z"
   },
   {
    "duration": 42,
    "start_time": "2022-11-24T13:31:14.482Z"
   },
   {
    "duration": 54,
    "start_time": "2022-11-24T13:31:14.526Z"
   },
   {
    "duration": 56,
    "start_time": "2022-11-24T13:31:14.582Z"
   },
   {
    "duration": 39,
    "start_time": "2022-11-24T13:31:14.640Z"
   },
   {
    "duration": 83,
    "start_time": "2022-11-24T13:31:14.681Z"
   },
   {
    "duration": 491,
    "start_time": "2022-11-24T13:31:14.766Z"
   },
   {
    "duration": 19,
    "start_time": "2022-11-24T13:31:15.259Z"
   },
   {
    "duration": 30333,
    "start_time": "2022-11-24T13:31:15.280Z"
   },
   {
    "duration": 852,
    "start_time": "2022-11-24T13:31:45.616Z"
   },
   {
    "duration": 372,
    "start_time": "2022-11-24T13:31:46.470Z"
   },
   {
    "duration": 542,
    "start_time": "2022-11-24T13:31:46.844Z"
   },
   {
    "duration": 32,
    "start_time": "2022-11-24T13:31:47.388Z"
   },
   {
    "duration": 1008,
    "start_time": "2022-11-24T13:31:47.421Z"
   },
   {
    "duration": 23076,
    "start_time": "2022-11-24T13:31:48.431Z"
   },
   {
    "duration": 123,
    "start_time": "2022-11-24T13:32:11.508Z"
   },
   {
    "duration": 0,
    "start_time": "2022-11-24T13:32:11.633Z"
   },
   {
    "duration": 0,
    "start_time": "2022-11-24T13:32:11.634Z"
   },
   {
    "duration": 0,
    "start_time": "2022-11-24T13:32:11.635Z"
   },
   {
    "duration": 0,
    "start_time": "2022-11-24T13:32:11.636Z"
   },
   {
    "duration": 0,
    "start_time": "2022-11-24T13:32:11.638Z"
   },
   {
    "duration": 0,
    "start_time": "2022-11-24T13:32:11.639Z"
   },
   {
    "duration": 0,
    "start_time": "2022-11-24T13:32:11.640Z"
   },
   {
    "duration": 0,
    "start_time": "2022-11-24T13:32:11.641Z"
   },
   {
    "duration": 0,
    "start_time": "2022-11-24T13:32:11.642Z"
   },
   {
    "duration": 0,
    "start_time": "2022-11-24T13:32:11.643Z"
   },
   {
    "duration": 0,
    "start_time": "2022-11-24T13:32:11.644Z"
   },
   {
    "duration": 0,
    "start_time": "2022-11-24T13:32:11.645Z"
   },
   {
    "duration": 0,
    "start_time": "2022-11-24T13:32:11.645Z"
   },
   {
    "duration": 0,
    "start_time": "2022-11-24T13:32:11.647Z"
   },
   {
    "duration": 0,
    "start_time": "2022-11-24T13:32:11.648Z"
   },
   {
    "duration": 0,
    "start_time": "2022-11-24T13:32:11.649Z"
   },
   {
    "duration": 1436,
    "start_time": "2022-11-24T13:39:36.540Z"
   },
   {
    "duration": 17,
    "start_time": "2022-11-24T13:39:37.978Z"
   },
   {
    "duration": 14,
    "start_time": "2022-11-24T13:39:37.996Z"
   },
   {
    "duration": 2,
    "start_time": "2022-11-24T13:39:38.012Z"
   },
   {
    "duration": 5,
    "start_time": "2022-11-24T13:39:38.017Z"
   },
   {
    "duration": 6,
    "start_time": "2022-11-24T13:39:38.023Z"
   },
   {
    "duration": 11,
    "start_time": "2022-11-24T13:39:38.031Z"
   },
   {
    "duration": 33,
    "start_time": "2022-11-24T13:39:38.043Z"
   },
   {
    "duration": 13,
    "start_time": "2022-11-24T13:39:38.078Z"
   },
   {
    "duration": 25,
    "start_time": "2022-11-24T13:39:38.093Z"
   },
   {
    "duration": 4,
    "start_time": "2022-11-24T13:39:38.120Z"
   },
   {
    "duration": 14,
    "start_time": "2022-11-24T13:39:38.126Z"
   },
   {
    "duration": 6,
    "start_time": "2022-11-24T13:39:38.142Z"
   },
   {
    "duration": 6,
    "start_time": "2022-11-24T13:39:38.152Z"
   },
   {
    "duration": 16,
    "start_time": "2022-11-24T13:39:38.160Z"
   },
   {
    "duration": 14,
    "start_time": "2022-11-24T13:39:38.178Z"
   },
   {
    "duration": 8,
    "start_time": "2022-11-24T13:39:38.216Z"
   },
   {
    "duration": 4,
    "start_time": "2022-11-24T13:39:38.225Z"
   },
   {
    "duration": 6,
    "start_time": "2022-11-24T13:39:38.231Z"
   },
   {
    "duration": 17,
    "start_time": "2022-11-24T13:39:38.239Z"
   },
   {
    "duration": 11,
    "start_time": "2022-11-24T13:39:38.257Z"
   },
   {
    "duration": 9,
    "start_time": "2022-11-24T13:39:38.270Z"
   },
   {
    "duration": 7,
    "start_time": "2022-11-24T13:39:38.280Z"
   },
   {
    "duration": 4,
    "start_time": "2022-11-24T13:39:38.289Z"
   },
   {
    "duration": 44,
    "start_time": "2022-11-24T13:39:38.295Z"
   },
   {
    "duration": 11,
    "start_time": "2022-11-24T13:39:38.341Z"
   },
   {
    "duration": 14,
    "start_time": "2022-11-24T13:39:38.354Z"
   },
   {
    "duration": 46,
    "start_time": "2022-11-24T13:39:38.369Z"
   },
   {
    "duration": 486,
    "start_time": "2022-11-24T13:39:38.417Z"
   },
   {
    "duration": 29,
    "start_time": "2022-11-24T13:39:38.904Z"
   },
   {
    "duration": 31704,
    "start_time": "2022-11-24T13:39:38.935Z"
   },
   {
    "duration": 1030,
    "start_time": "2022-11-24T13:40:10.642Z"
   },
   {
    "duration": 451,
    "start_time": "2022-11-24T13:40:11.674Z"
   },
   {
    "duration": 509,
    "start_time": "2022-11-24T13:40:12.127Z"
   },
   {
    "duration": 83,
    "start_time": "2022-11-24T13:40:12.637Z"
   },
   {
    "duration": 916,
    "start_time": "2022-11-24T13:40:12.722Z"
   },
   {
    "duration": 22200,
    "start_time": "2022-11-24T13:40:13.639Z"
   },
   {
    "duration": 12,
    "start_time": "2022-11-24T13:40:35.840Z"
   },
   {
    "duration": 14,
    "start_time": "2022-11-24T13:40:35.854Z"
   },
   {
    "duration": 25,
    "start_time": "2022-11-24T13:40:35.870Z"
   },
   {
    "duration": 645,
    "start_time": "2022-11-24T13:40:35.899Z"
   },
   {
    "duration": 76,
    "start_time": "2022-11-24T13:40:36.546Z"
   },
   {
    "duration": 1207,
    "start_time": "2022-11-24T13:40:36.624Z"
   },
   {
    "duration": 32026,
    "start_time": "2022-11-24T13:40:37.833Z"
   },
   {
    "duration": 12,
    "start_time": "2022-11-24T13:41:09.860Z"
   },
   {
    "duration": 4,
    "start_time": "2022-11-24T13:41:09.873Z"
   },
   {
    "duration": 8,
    "start_time": "2022-11-24T13:41:09.879Z"
   },
   {
    "duration": 289,
    "start_time": "2022-11-24T13:41:09.888Z"
   },
   {
    "duration": 38,
    "start_time": "2022-11-24T13:41:10.179Z"
   },
   {
    "duration": 651,
    "start_time": "2022-11-24T13:41:10.221Z"
   },
   {
    "duration": 12447,
    "start_time": "2022-11-24T13:41:10.874Z"
   },
   {
    "duration": 1955,
    "start_time": "2022-11-24T13:41:23.323Z"
   },
   {
    "duration": 875,
    "start_time": "2022-11-24T13:41:25.280Z"
   },
   {
    "duration": 11,
    "start_time": "2022-11-24T13:41:26.156Z"
   },
   {
    "duration": 22105,
    "start_time": "2022-11-24T14:37:31.052Z"
   },
   {
    "duration": 2245,
    "start_time": "2022-11-24T14:38:57.711Z"
   },
   {
    "duration": 1156,
    "start_time": "2022-11-24T14:39:20.141Z"
   },
   {
    "duration": 1550,
    "start_time": "2022-11-25T11:56:30.689Z"
   },
   {
    "duration": 132,
    "start_time": "2022-11-25T11:56:32.241Z"
   },
   {
    "duration": 17,
    "start_time": "2022-11-25T11:56:32.374Z"
   },
   {
    "duration": 15,
    "start_time": "2022-11-25T11:56:32.393Z"
   },
   {
    "duration": 40,
    "start_time": "2022-11-25T11:56:32.410Z"
   },
   {
    "duration": 3,
    "start_time": "2022-11-25T11:56:32.452Z"
   },
   {
    "duration": 24,
    "start_time": "2022-11-25T11:56:32.457Z"
   },
   {
    "duration": 23,
    "start_time": "2022-11-25T11:56:32.482Z"
   },
   {
    "duration": 33,
    "start_time": "2022-11-25T11:56:32.507Z"
   },
   {
    "duration": 42,
    "start_time": "2022-11-25T11:56:32.541Z"
   },
   {
    "duration": 35,
    "start_time": "2022-11-25T11:56:32.584Z"
   },
   {
    "duration": 33,
    "start_time": "2022-11-25T11:56:32.621Z"
   },
   {
    "duration": 20,
    "start_time": "2022-11-25T11:56:32.656Z"
   },
   {
    "duration": 24,
    "start_time": "2022-11-25T11:56:32.680Z"
   },
   {
    "duration": 19,
    "start_time": "2022-11-25T11:56:32.705Z"
   },
   {
    "duration": 26,
    "start_time": "2022-11-25T11:56:32.725Z"
   },
   {
    "duration": 26,
    "start_time": "2022-11-25T11:56:32.753Z"
   },
   {
    "duration": 20,
    "start_time": "2022-11-25T11:56:32.780Z"
   },
   {
    "duration": 8,
    "start_time": "2022-11-25T11:56:32.802Z"
   },
   {
    "duration": 26,
    "start_time": "2022-11-25T11:56:32.812Z"
   },
   {
    "duration": 48,
    "start_time": "2022-11-25T11:56:32.840Z"
   },
   {
    "duration": 31,
    "start_time": "2022-11-25T11:56:32.889Z"
   },
   {
    "duration": 27,
    "start_time": "2022-11-25T11:56:32.921Z"
   },
   {
    "duration": 20,
    "start_time": "2022-11-25T11:56:32.949Z"
   },
   {
    "duration": 23,
    "start_time": "2022-11-25T11:56:32.971Z"
   },
   {
    "duration": 41,
    "start_time": "2022-11-25T11:56:32.996Z"
   },
   {
    "duration": 14,
    "start_time": "2022-11-25T11:56:33.038Z"
   },
   {
    "duration": 22,
    "start_time": "2022-11-25T11:56:33.054Z"
   },
   {
    "duration": 50,
    "start_time": "2022-11-25T11:56:33.078Z"
   },
   {
    "duration": 457,
    "start_time": "2022-11-25T11:56:33.130Z"
   },
   {
    "duration": 27,
    "start_time": "2022-11-25T11:56:33.589Z"
   },
   {
    "duration": 31554,
    "start_time": "2022-11-25T11:56:33.618Z"
   },
   {
    "duration": 879,
    "start_time": "2022-11-25T11:57:05.174Z"
   },
   {
    "duration": 445,
    "start_time": "2022-11-25T11:57:06.055Z"
   },
   {
    "duration": 554,
    "start_time": "2022-11-25T11:57:06.504Z"
   },
   {
    "duration": 46,
    "start_time": "2022-11-25T11:57:07.060Z"
   },
   {
    "duration": 1096,
    "start_time": "2022-11-25T11:57:07.108Z"
   },
   {
    "duration": 21740,
    "start_time": "2022-11-25T11:57:08.206Z"
   },
   {
    "duration": 10,
    "start_time": "2022-11-25T11:57:29.948Z"
   },
   {
    "duration": 3,
    "start_time": "2022-11-25T11:57:29.959Z"
   },
   {
    "duration": 5,
    "start_time": "2022-11-25T11:57:29.966Z"
   },
   {
    "duration": 589,
    "start_time": "2022-11-25T11:57:29.972Z"
   },
   {
    "duration": 50,
    "start_time": "2022-11-25T11:57:30.563Z"
   },
   {
    "duration": 1200,
    "start_time": "2022-11-25T11:57:30.616Z"
   },
   {
    "duration": 31161,
    "start_time": "2022-11-25T11:57:31.818Z"
   },
   {
    "duration": 10,
    "start_time": "2022-11-25T11:58:02.981Z"
   },
   {
    "duration": 12,
    "start_time": "2022-11-25T11:58:02.993Z"
   },
   {
    "duration": 12,
    "start_time": "2022-11-25T11:58:03.006Z"
   },
   {
    "duration": 255,
    "start_time": "2022-11-25T11:58:03.019Z"
   },
   {
    "duration": 30,
    "start_time": "2022-11-25T11:58:03.276Z"
   },
   {
    "duration": 664,
    "start_time": "2022-11-25T11:58:03.307Z"
   },
   {
    "duration": 11639,
    "start_time": "2022-11-25T11:58:03.973Z"
   },
   {
    "duration": 2230,
    "start_time": "2022-11-25T11:58:15.614Z"
   },
   {
    "duration": 1205,
    "start_time": "2022-11-25T11:58:17.846Z"
   },
   {
    "duration": 16,
    "start_time": "2022-11-25T11:58:19.053Z"
   },
   {
    "duration": 4,
    "start_time": "2022-11-25T12:07:38.377Z"
   },
   {
    "duration": 74,
    "start_time": "2022-11-25T12:12:00.115Z"
   },
   {
    "duration": 483,
    "start_time": "2022-11-25T12:12:17.566Z"
   },
   {
    "duration": 75,
    "start_time": "2022-11-25T12:23:45.844Z"
   },
   {
    "duration": 545,
    "start_time": "2022-11-25T12:25:00.677Z"
   },
   {
    "duration": 439,
    "start_time": "2022-11-25T12:25:42.877Z"
   },
   {
    "duration": 470,
    "start_time": "2022-11-25T12:25:51.798Z"
   },
   {
    "duration": 459,
    "start_time": "2022-11-25T12:28:02.290Z"
   },
   {
    "duration": 457,
    "start_time": "2022-11-25T12:29:56.030Z"
   },
   {
    "duration": 453,
    "start_time": "2022-11-25T12:30:46.369Z"
   },
   {
    "duration": 478,
    "start_time": "2022-11-25T12:32:40.689Z"
   },
   {
    "duration": 450,
    "start_time": "2022-11-25T12:33:39.449Z"
   },
   {
    "duration": 453,
    "start_time": "2022-11-25T12:34:16.468Z"
   },
   {
    "duration": 446,
    "start_time": "2022-11-25T12:34:22.016Z"
   },
   {
    "duration": 433,
    "start_time": "2022-11-25T12:35:37.535Z"
   },
   {
    "duration": 435,
    "start_time": "2022-11-25T12:36:01.421Z"
   },
   {
    "duration": 448,
    "start_time": "2022-11-25T12:36:15.529Z"
   },
   {
    "duration": 461,
    "start_time": "2022-11-25T12:37:10.381Z"
   },
   {
    "duration": 2406,
    "start_time": "2022-11-25T12:37:54.549Z"
   },
   {
    "duration": 1729,
    "start_time": "2022-11-25T12:39:14.734Z"
   },
   {
    "duration": 462,
    "start_time": "2022-11-25T12:39:36.114Z"
   },
   {
    "duration": 474,
    "start_time": "2022-11-25T12:41:36.385Z"
   },
   {
    "duration": 313,
    "start_time": "2022-11-25T12:42:06.364Z"
   },
   {
    "duration": 491,
    "start_time": "2022-11-25T12:42:20.969Z"
   },
   {
    "duration": 558,
    "start_time": "2022-11-25T12:48:53.171Z"
   },
   {
    "duration": 450,
    "start_time": "2022-11-25T12:59:22.958Z"
   },
   {
    "duration": 8,
    "start_time": "2022-11-25T13:00:25.691Z"
   },
   {
    "duration": 9,
    "start_time": "2022-11-25T13:01:00.953Z"
   },
   {
    "duration": 1437,
    "start_time": "2022-11-25T13:01:13.320Z"
   },
   {
    "duration": 156,
    "start_time": "2022-11-25T13:01:14.759Z"
   },
   {
    "duration": 22,
    "start_time": "2022-11-25T13:01:14.917Z"
   },
   {
    "duration": 13,
    "start_time": "2022-11-25T13:01:14.941Z"
   },
   {
    "duration": 56,
    "start_time": "2022-11-25T13:01:14.956Z"
   },
   {
    "duration": 14,
    "start_time": "2022-11-25T13:01:15.014Z"
   },
   {
    "duration": 22,
    "start_time": "2022-11-25T13:01:15.029Z"
   },
   {
    "duration": 19,
    "start_time": "2022-11-25T13:01:15.053Z"
   },
   {
    "duration": 24,
    "start_time": "2022-11-25T13:01:15.074Z"
   },
   {
    "duration": 27,
    "start_time": "2022-11-25T13:01:15.100Z"
   },
   {
    "duration": 23,
    "start_time": "2022-11-25T13:01:15.128Z"
   },
   {
    "duration": 25,
    "start_time": "2022-11-25T13:01:15.152Z"
   },
   {
    "duration": 4,
    "start_time": "2022-11-25T13:01:15.178Z"
   },
   {
    "duration": 23,
    "start_time": "2022-11-25T13:01:15.185Z"
   },
   {
    "duration": 5,
    "start_time": "2022-11-25T13:01:15.209Z"
   },
   {
    "duration": 14,
    "start_time": "2022-11-25T13:01:15.215Z"
   },
   {
    "duration": 19,
    "start_time": "2022-11-25T13:01:15.230Z"
   },
   {
    "duration": 18,
    "start_time": "2022-11-25T13:01:15.250Z"
   },
   {
    "duration": 6,
    "start_time": "2022-11-25T13:01:15.271Z"
   },
   {
    "duration": 10,
    "start_time": "2022-11-25T13:01:15.278Z"
   },
   {
    "duration": 14,
    "start_time": "2022-11-25T13:01:15.289Z"
   },
   {
    "duration": 12,
    "start_time": "2022-11-25T13:01:15.304Z"
   },
   {
    "duration": 16,
    "start_time": "2022-11-25T13:01:15.317Z"
   },
   {
    "duration": 12,
    "start_time": "2022-11-25T13:01:15.335Z"
   },
   {
    "duration": 9,
    "start_time": "2022-11-25T13:01:15.348Z"
   },
   {
    "duration": 25,
    "start_time": "2022-11-25T13:01:15.359Z"
   },
   {
    "duration": 15,
    "start_time": "2022-11-25T13:01:15.385Z"
   },
   {
    "duration": 12,
    "start_time": "2022-11-25T13:01:15.404Z"
   },
   {
    "duration": 16,
    "start_time": "2022-11-25T13:01:15.417Z"
   },
   {
    "duration": 33,
    "start_time": "2022-11-25T13:01:15.435Z"
   },
   {
    "duration": 480,
    "start_time": "2022-11-25T13:01:15.470Z"
   },
   {
    "duration": 55,
    "start_time": "2022-11-25T13:01:15.951Z"
   },
   {
    "duration": 31102,
    "start_time": "2022-11-25T13:01:16.008Z"
   },
   {
    "duration": 120,
    "start_time": "2022-11-25T13:01:47.112Z"
   },
   {
    "duration": 0,
    "start_time": "2022-11-25T13:01:47.234Z"
   },
   {
    "duration": 0,
    "start_time": "2022-11-25T13:01:47.235Z"
   },
   {
    "duration": 0,
    "start_time": "2022-11-25T13:01:47.236Z"
   },
   {
    "duration": 0,
    "start_time": "2022-11-25T13:01:47.237Z"
   },
   {
    "duration": 0,
    "start_time": "2022-11-25T13:01:47.238Z"
   },
   {
    "duration": 0,
    "start_time": "2022-11-25T13:01:47.239Z"
   },
   {
    "duration": 0,
    "start_time": "2022-11-25T13:01:47.241Z"
   },
   {
    "duration": 0,
    "start_time": "2022-11-25T13:01:47.242Z"
   },
   {
    "duration": 0,
    "start_time": "2022-11-25T13:01:47.243Z"
   },
   {
    "duration": 0,
    "start_time": "2022-11-25T13:01:47.244Z"
   },
   {
    "duration": 0,
    "start_time": "2022-11-25T13:01:47.245Z"
   },
   {
    "duration": 0,
    "start_time": "2022-11-25T13:01:47.246Z"
   },
   {
    "duration": 0,
    "start_time": "2022-11-25T13:01:47.248Z"
   },
   {
    "duration": 0,
    "start_time": "2022-11-25T13:01:47.249Z"
   },
   {
    "duration": 0,
    "start_time": "2022-11-25T13:01:47.250Z"
   },
   {
    "duration": 0,
    "start_time": "2022-11-25T13:01:47.251Z"
   },
   {
    "duration": 0,
    "start_time": "2022-11-25T13:01:47.252Z"
   },
   {
    "duration": 0,
    "start_time": "2022-11-25T13:01:47.253Z"
   },
   {
    "duration": 0,
    "start_time": "2022-11-25T13:01:47.254Z"
   },
   {
    "duration": 0,
    "start_time": "2022-11-25T13:01:47.255Z"
   },
   {
    "duration": 0,
    "start_time": "2022-11-25T13:01:47.256Z"
   },
   {
    "duration": 0,
    "start_time": "2022-11-25T13:01:47.257Z"
   },
   {
    "duration": 1565,
    "start_time": "2022-11-25T13:05:39.914Z"
   },
   {
    "duration": 83,
    "start_time": "2022-11-25T13:05:41.481Z"
   },
   {
    "duration": 16,
    "start_time": "2022-11-25T13:05:41.566Z"
   },
   {
    "duration": 12,
    "start_time": "2022-11-25T13:05:41.585Z"
   },
   {
    "duration": 42,
    "start_time": "2022-11-25T13:05:41.599Z"
   },
   {
    "duration": 3,
    "start_time": "2022-11-25T13:05:41.642Z"
   },
   {
    "duration": 12,
    "start_time": "2022-11-25T13:05:41.647Z"
   },
   {
    "duration": 6,
    "start_time": "2022-11-25T13:05:41.660Z"
   },
   {
    "duration": 5,
    "start_time": "2022-11-25T13:05:41.668Z"
   },
   {
    "duration": 24,
    "start_time": "2022-11-25T13:05:41.675Z"
   },
   {
    "duration": 7,
    "start_time": "2022-11-25T13:05:41.705Z"
   },
   {
    "duration": 23,
    "start_time": "2022-11-25T13:05:41.713Z"
   },
   {
    "duration": 3,
    "start_time": "2022-11-25T13:05:41.738Z"
   },
   {
    "duration": 15,
    "start_time": "2022-11-25T13:05:41.742Z"
   },
   {
    "duration": 4,
    "start_time": "2022-11-25T13:05:41.758Z"
   },
   {
    "duration": 5,
    "start_time": "2022-11-25T13:05:41.765Z"
   },
   {
    "duration": 37,
    "start_time": "2022-11-25T13:05:41.771Z"
   },
   {
    "duration": 8,
    "start_time": "2022-11-25T13:05:41.810Z"
   },
   {
    "duration": 9,
    "start_time": "2022-11-25T13:05:41.819Z"
   },
   {
    "duration": 9,
    "start_time": "2022-11-25T13:05:41.829Z"
   },
   {
    "duration": 10,
    "start_time": "2022-11-25T13:05:41.839Z"
   },
   {
    "duration": 5,
    "start_time": "2022-11-25T13:05:41.850Z"
   },
   {
    "duration": 7,
    "start_time": "2022-11-25T13:05:41.857Z"
   },
   {
    "duration": 8,
    "start_time": "2022-11-25T13:05:41.865Z"
   },
   {
    "duration": 6,
    "start_time": "2022-11-25T13:05:41.874Z"
   },
   {
    "duration": 43,
    "start_time": "2022-11-25T13:05:41.881Z"
   },
   {
    "duration": 12,
    "start_time": "2022-11-25T13:05:41.925Z"
   },
   {
    "duration": 5,
    "start_time": "2022-11-25T13:05:41.941Z"
   },
   {
    "duration": 13,
    "start_time": "2022-11-25T13:05:41.948Z"
   },
   {
    "duration": 44,
    "start_time": "2022-11-25T13:05:41.963Z"
   },
   {
    "duration": 501,
    "start_time": "2022-11-25T13:05:42.009Z"
   },
   {
    "duration": 95,
    "start_time": "2022-11-25T13:05:42.513Z"
   },
   {
    "duration": 30151,
    "start_time": "2022-11-25T13:05:42.609Z"
   },
   {
    "duration": 3,
    "start_time": "2022-11-25T13:06:12.762Z"
   },
   {
    "duration": 10,
    "start_time": "2022-11-25T13:06:12.766Z"
   },
   {
    "duration": 113,
    "start_time": "2022-11-25T13:06:12.777Z"
   },
   {
    "duration": 0,
    "start_time": "2022-11-25T13:06:12.891Z"
   },
   {
    "duration": 0,
    "start_time": "2022-11-25T13:06:12.893Z"
   },
   {
    "duration": 0,
    "start_time": "2022-11-25T13:06:12.895Z"
   },
   {
    "duration": 0,
    "start_time": "2022-11-25T13:06:12.896Z"
   },
   {
    "duration": 0,
    "start_time": "2022-11-25T13:06:12.905Z"
   },
   {
    "duration": 0,
    "start_time": "2022-11-25T13:06:12.906Z"
   },
   {
    "duration": 0,
    "start_time": "2022-11-25T13:06:12.908Z"
   },
   {
    "duration": 0,
    "start_time": "2022-11-25T13:06:12.909Z"
   },
   {
    "duration": 0,
    "start_time": "2022-11-25T13:06:12.910Z"
   },
   {
    "duration": 0,
    "start_time": "2022-11-25T13:06:12.912Z"
   },
   {
    "duration": 0,
    "start_time": "2022-11-25T13:06:12.913Z"
   },
   {
    "duration": 0,
    "start_time": "2022-11-25T13:06:12.914Z"
   },
   {
    "duration": 0,
    "start_time": "2022-11-25T13:06:12.916Z"
   },
   {
    "duration": 0,
    "start_time": "2022-11-25T13:06:12.917Z"
   },
   {
    "duration": 0,
    "start_time": "2022-11-25T13:06:12.919Z"
   },
   {
    "duration": 0,
    "start_time": "2022-11-25T13:06:12.920Z"
   },
   {
    "duration": 0,
    "start_time": "2022-11-25T13:06:12.922Z"
   },
   {
    "duration": 0,
    "start_time": "2022-11-25T13:06:12.924Z"
   },
   {
    "duration": 0,
    "start_time": "2022-11-25T13:06:12.924Z"
   },
   {
    "duration": 0,
    "start_time": "2022-11-25T13:06:12.925Z"
   },
   {
    "duration": 9,
    "start_time": "2022-11-25T13:07:16.532Z"
   },
   {
    "duration": 11,
    "start_time": "2022-11-25T13:07:44.110Z"
   },
   {
    "duration": 459,
    "start_time": "2022-11-25T13:07:50.987Z"
   },
   {
    "duration": 479,
    "start_time": "2022-11-25T13:08:07.522Z"
   },
   {
    "duration": 1461,
    "start_time": "2022-11-25T20:20:43.566Z"
   },
   {
    "duration": 213,
    "start_time": "2022-11-25T20:20:45.029Z"
   },
   {
    "duration": 17,
    "start_time": "2022-11-25T20:20:45.243Z"
   },
   {
    "duration": 13,
    "start_time": "2022-11-25T20:20:45.261Z"
   },
   {
    "duration": 38,
    "start_time": "2022-11-25T20:20:45.275Z"
   },
   {
    "duration": 2,
    "start_time": "2022-11-25T20:20:45.315Z"
   },
   {
    "duration": 6,
    "start_time": "2022-11-25T20:20:45.318Z"
   },
   {
    "duration": 7,
    "start_time": "2022-11-25T20:20:45.326Z"
   },
   {
    "duration": 5,
    "start_time": "2022-11-25T20:20:45.334Z"
   },
   {
    "duration": 18,
    "start_time": "2022-11-25T20:20:45.341Z"
   },
   {
    "duration": 7,
    "start_time": "2022-11-25T20:20:45.360Z"
   },
   {
    "duration": 21,
    "start_time": "2022-11-25T20:20:45.368Z"
   },
   {
    "duration": 23,
    "start_time": "2022-11-25T20:20:45.391Z"
   },
   {
    "duration": 16,
    "start_time": "2022-11-25T20:20:45.418Z"
   },
   {
    "duration": 4,
    "start_time": "2022-11-25T20:20:45.436Z"
   },
   {
    "duration": 7,
    "start_time": "2022-11-25T20:20:45.441Z"
   },
   {
    "duration": 13,
    "start_time": "2022-11-25T20:20:45.449Z"
   },
   {
    "duration": 8,
    "start_time": "2022-11-25T20:20:45.463Z"
   },
   {
    "duration": 19,
    "start_time": "2022-11-25T20:20:45.472Z"
   },
   {
    "duration": 2,
    "start_time": "2022-11-25T20:20:45.492Z"
   },
   {
    "duration": 23,
    "start_time": "2022-11-25T20:20:45.495Z"
   },
   {
    "duration": 6,
    "start_time": "2022-11-25T20:20:45.519Z"
   },
   {
    "duration": 3,
    "start_time": "2022-11-25T20:20:45.526Z"
   },
   {
    "duration": 9,
    "start_time": "2022-11-25T20:20:45.531Z"
   },
   {
    "duration": 4,
    "start_time": "2022-11-25T20:20:45.542Z"
   },
   {
    "duration": 20,
    "start_time": "2022-11-25T20:20:45.548Z"
   },
   {
    "duration": 12,
    "start_time": "2022-11-25T20:20:45.569Z"
   },
   {
    "duration": 3,
    "start_time": "2022-11-25T20:20:45.584Z"
   },
   {
    "duration": 8,
    "start_time": "2022-11-25T20:20:45.612Z"
   },
   {
    "duration": 24,
    "start_time": "2022-11-25T20:20:45.621Z"
   },
   {
    "duration": 431,
    "start_time": "2022-11-25T20:20:45.647Z"
   },
   {
    "duration": 134,
    "start_time": "2022-11-25T20:20:46.080Z"
   },
   {
    "duration": 27477,
    "start_time": "2022-11-25T20:20:46.216Z"
   },
   {
    "duration": 3,
    "start_time": "2022-11-25T20:21:13.695Z"
   },
   {
    "duration": 8,
    "start_time": "2022-11-25T20:21:13.699Z"
   },
   {
    "duration": 435,
    "start_time": "2022-11-25T20:21:13.712Z"
   },
   {
    "duration": 67,
    "start_time": "2022-11-25T20:21:14.149Z"
   },
   {
    "duration": 873,
    "start_time": "2022-11-25T20:21:14.218Z"
   },
   {
    "duration": 20001,
    "start_time": "2022-11-25T20:21:15.092Z"
   },
   {
    "duration": 9,
    "start_time": "2022-11-25T20:21:35.095Z"
   },
   {
    "duration": 6,
    "start_time": "2022-11-25T20:21:35.112Z"
   },
   {
    "duration": 8,
    "start_time": "2022-11-25T20:21:35.119Z"
   },
   {
    "duration": 524,
    "start_time": "2022-11-25T20:21:35.128Z"
   },
   {
    "duration": 63,
    "start_time": "2022-11-25T20:21:35.653Z"
   },
   {
    "duration": 1109,
    "start_time": "2022-11-25T20:21:35.718Z"
   },
   {
    "duration": 29546,
    "start_time": "2022-11-25T20:21:36.828Z"
   },
   {
    "duration": 10,
    "start_time": "2022-11-25T20:22:06.375Z"
   },
   {
    "duration": 4,
    "start_time": "2022-11-25T20:22:06.386Z"
   },
   {
    "duration": 6,
    "start_time": "2022-11-25T20:22:06.392Z"
   },
   {
    "duration": 220,
    "start_time": "2022-11-25T20:22:06.413Z"
   },
   {
    "duration": 79,
    "start_time": "2022-11-25T20:22:06.634Z"
   },
   {
    "duration": 604,
    "start_time": "2022-11-25T20:22:06.715Z"
   },
   {
    "duration": 11095,
    "start_time": "2022-11-25T20:22:07.321Z"
   },
   {
    "duration": 2236,
    "start_time": "2022-11-25T20:22:18.418Z"
   },
   {
    "duration": 1062,
    "start_time": "2022-11-25T20:22:20.655Z"
   },
   {
    "duration": 12,
    "start_time": "2022-11-25T20:22:21.718Z"
   },
   {
    "duration": 97,
    "start_time": "2022-11-25T20:36:56.065Z"
   },
   {
    "duration": 1225,
    "start_time": "2022-11-25T20:37:06.771Z"
   },
   {
    "duration": 71,
    "start_time": "2022-11-25T20:37:07.998Z"
   },
   {
    "duration": 16,
    "start_time": "2022-11-25T20:37:08.071Z"
   },
   {
    "duration": 10,
    "start_time": "2022-11-25T20:37:08.089Z"
   },
   {
    "duration": 37,
    "start_time": "2022-11-25T20:37:08.101Z"
   },
   {
    "duration": 3,
    "start_time": "2022-11-25T20:37:08.139Z"
   },
   {
    "duration": 11,
    "start_time": "2022-11-25T20:37:08.143Z"
   },
   {
    "duration": 5,
    "start_time": "2022-11-25T20:37:08.155Z"
   },
   {
    "duration": 6,
    "start_time": "2022-11-25T20:37:08.161Z"
   },
   {
    "duration": 18,
    "start_time": "2022-11-25T20:37:08.168Z"
   },
   {
    "duration": 10,
    "start_time": "2022-11-25T20:37:08.187Z"
   },
   {
    "duration": 23,
    "start_time": "2022-11-25T20:37:08.199Z"
   },
   {
    "duration": 3,
    "start_time": "2022-11-25T20:37:08.224Z"
   },
   {
    "duration": 11,
    "start_time": "2022-11-25T20:37:08.231Z"
   },
   {
    "duration": 4,
    "start_time": "2022-11-25T20:37:08.243Z"
   },
   {
    "duration": 6,
    "start_time": "2022-11-25T20:37:08.248Z"
   },
   {
    "duration": 17,
    "start_time": "2022-11-25T20:37:08.255Z"
   },
   {
    "duration": 41,
    "start_time": "2022-11-25T20:37:08.273Z"
   },
   {
    "duration": 8,
    "start_time": "2022-11-25T20:37:08.315Z"
   },
   {
    "duration": 5,
    "start_time": "2022-11-25T20:37:08.324Z"
   },
   {
    "duration": 9,
    "start_time": "2022-11-25T20:37:08.330Z"
   },
   {
    "duration": 5,
    "start_time": "2022-11-25T20:37:08.340Z"
   },
   {
    "duration": 4,
    "start_time": "2022-11-25T20:37:08.346Z"
   },
   {
    "duration": 5,
    "start_time": "2022-11-25T20:37:08.351Z"
   },
   {
    "duration": 4,
    "start_time": "2022-11-25T20:37:08.357Z"
   },
   {
    "duration": 50,
    "start_time": "2022-11-25T20:37:08.362Z"
   },
   {
    "duration": 13,
    "start_time": "2022-11-25T20:37:08.414Z"
   },
   {
    "duration": 12,
    "start_time": "2022-11-25T20:37:08.428Z"
   },
   {
    "duration": 9,
    "start_time": "2022-11-25T20:37:08.441Z"
   },
   {
    "duration": 25,
    "start_time": "2022-11-25T20:37:08.451Z"
   },
   {
    "duration": 440,
    "start_time": "2022-11-25T20:37:08.477Z"
   },
   {
    "duration": 25,
    "start_time": "2022-11-25T20:37:08.918Z"
   },
   {
    "duration": 185,
    "start_time": "2022-11-25T20:37:09.014Z"
   },
   {
    "duration": 0,
    "start_time": "2022-11-25T20:37:09.213Z"
   },
   {
    "duration": 0,
    "start_time": "2022-11-25T20:37:09.214Z"
   },
   {
    "duration": 0,
    "start_time": "2022-11-25T20:37:09.215Z"
   },
   {
    "duration": 0,
    "start_time": "2022-11-25T20:37:09.216Z"
   },
   {
    "duration": 0,
    "start_time": "2022-11-25T20:37:09.217Z"
   },
   {
    "duration": 0,
    "start_time": "2022-11-25T20:37:09.218Z"
   },
   {
    "duration": 0,
    "start_time": "2022-11-25T20:37:09.219Z"
   },
   {
    "duration": 0,
    "start_time": "2022-11-25T20:37:09.220Z"
   },
   {
    "duration": 0,
    "start_time": "2022-11-25T20:37:09.221Z"
   },
   {
    "duration": 0,
    "start_time": "2022-11-25T20:37:09.222Z"
   },
   {
    "duration": 0,
    "start_time": "2022-11-25T20:37:09.223Z"
   },
   {
    "duration": 0,
    "start_time": "2022-11-25T20:37:09.224Z"
   },
   {
    "duration": 0,
    "start_time": "2022-11-25T20:37:09.225Z"
   },
   {
    "duration": 0,
    "start_time": "2022-11-25T20:37:09.226Z"
   },
   {
    "duration": 0,
    "start_time": "2022-11-25T20:37:09.228Z"
   },
   {
    "duration": 0,
    "start_time": "2022-11-25T20:37:09.229Z"
   },
   {
    "duration": 0,
    "start_time": "2022-11-25T20:37:09.230Z"
   },
   {
    "duration": 0,
    "start_time": "2022-11-25T20:37:09.231Z"
   },
   {
    "duration": 0,
    "start_time": "2022-11-25T20:37:09.232Z"
   },
   {
    "duration": 0,
    "start_time": "2022-11-25T20:37:09.233Z"
   },
   {
    "duration": 0,
    "start_time": "2022-11-25T20:37:09.234Z"
   },
   {
    "duration": 0,
    "start_time": "2022-11-25T20:37:09.235Z"
   },
   {
    "duration": 0,
    "start_time": "2022-11-25T20:37:09.236Z"
   },
   {
    "duration": 12,
    "start_time": "2022-11-25T20:44:01.461Z"
   },
   {
    "duration": 13,
    "start_time": "2022-11-25T20:44:08.854Z"
   },
   {
    "duration": 737329,
    "start_time": "2022-11-25T20:44:38.675Z"
   },
   {
    "duration": 3428,
    "start_time": "2022-11-25T20:58:38.390Z"
   },
   {
    "duration": 3337,
    "start_time": "2022-11-25T21:03:21.294Z"
   },
   {
    "duration": 3731,
    "start_time": "2022-11-25T21:03:37.445Z"
   },
   {
    "duration": 127943,
    "start_time": "2022-11-25T21:04:11.015Z"
   },
   {
    "duration": 127973,
    "start_time": "2022-11-25T21:10:49.975Z"
   },
   {
    "duration": 532316,
    "start_time": "2022-11-25T21:14:45.675Z"
   },
   {
    "duration": 4,
    "start_time": "2022-11-25T21:24:18.028Z"
   },
   {
    "duration": 49894,
    "start_time": "2022-11-25T21:24:29.068Z"
   },
   {
    "duration": 28350,
    "start_time": "2022-11-25T21:27:20.199Z"
   },
   {
    "duration": 91,
    "start_time": "2022-11-25T21:44:07.796Z"
   },
   {
    "duration": 93347,
    "start_time": "2022-11-25T21:44:33.093Z"
   },
   {
    "duration": 45,
    "start_time": "2022-11-26T12:25:17.052Z"
   },
   {
    "duration": 1438,
    "start_time": "2022-11-26T12:25:25.942Z"
   },
   {
    "duration": 71,
    "start_time": "2022-11-26T12:25:27.382Z"
   },
   {
    "duration": 18,
    "start_time": "2022-11-26T12:25:27.455Z"
   },
   {
    "duration": 14,
    "start_time": "2022-11-26T12:25:27.476Z"
   },
   {
    "duration": 46,
    "start_time": "2022-11-26T12:25:27.491Z"
   },
   {
    "duration": 3,
    "start_time": "2022-11-26T12:25:27.539Z"
   },
   {
    "duration": 8,
    "start_time": "2022-11-26T12:25:27.544Z"
   },
   {
    "duration": 24,
    "start_time": "2022-11-26T12:25:27.554Z"
   },
   {
    "duration": 14,
    "start_time": "2022-11-26T12:25:27.580Z"
   },
   {
    "duration": 20,
    "start_time": "2022-11-26T12:25:27.597Z"
   },
   {
    "duration": 14,
    "start_time": "2022-11-26T12:25:27.619Z"
   },
   {
    "duration": 26,
    "start_time": "2022-11-26T12:25:27.635Z"
   },
   {
    "duration": 15,
    "start_time": "2022-11-26T12:25:27.663Z"
   },
   {
    "duration": 24,
    "start_time": "2022-11-26T12:25:27.679Z"
   },
   {
    "duration": 5,
    "start_time": "2022-11-26T12:25:27.705Z"
   },
   {
    "duration": 9,
    "start_time": "2022-11-26T12:25:27.711Z"
   },
   {
    "duration": 16,
    "start_time": "2022-11-26T12:25:27.721Z"
   },
   {
    "duration": 8,
    "start_time": "2022-11-26T12:25:27.738Z"
   },
   {
    "duration": 7,
    "start_time": "2022-11-26T12:25:27.748Z"
   },
   {
    "duration": 20,
    "start_time": "2022-11-26T12:25:27.757Z"
   },
   {
    "duration": 13,
    "start_time": "2022-11-26T12:25:27.779Z"
   },
   {
    "duration": 5,
    "start_time": "2022-11-26T12:25:27.794Z"
   },
   {
    "duration": 4,
    "start_time": "2022-11-26T12:25:27.800Z"
   },
   {
    "duration": 7,
    "start_time": "2022-11-26T12:25:27.805Z"
   },
   {
    "duration": 22,
    "start_time": "2022-11-26T12:25:27.813Z"
   },
   {
    "duration": 20,
    "start_time": "2022-11-26T12:25:27.837Z"
   },
   {
    "duration": 21,
    "start_time": "2022-11-26T12:25:27.858Z"
   },
   {
    "duration": 13,
    "start_time": "2022-11-26T12:25:27.883Z"
   },
   {
    "duration": 12,
    "start_time": "2022-11-26T12:25:27.897Z"
   },
   {
    "duration": 31,
    "start_time": "2022-11-26T12:25:27.911Z"
   },
   {
    "duration": 425,
    "start_time": "2022-11-26T12:25:27.943Z"
   },
   {
    "duration": 19,
    "start_time": "2022-11-26T12:25:28.377Z"
   },
   {
    "duration": 192779,
    "start_time": "2022-11-26T12:25:28.398Z"
   },
   {
    "duration": 0,
    "start_time": "2022-11-26T12:28:41.179Z"
   },
   {
    "duration": 0,
    "start_time": "2022-11-26T12:28:41.180Z"
   },
   {
    "duration": 0,
    "start_time": "2022-11-26T12:28:41.181Z"
   },
   {
    "duration": 0,
    "start_time": "2022-11-26T12:28:41.182Z"
   },
   {
    "duration": 0,
    "start_time": "2022-11-26T12:28:41.183Z"
   },
   {
    "duration": 0,
    "start_time": "2022-11-26T12:28:41.184Z"
   },
   {
    "duration": 0,
    "start_time": "2022-11-26T12:28:41.185Z"
   },
   {
    "duration": 0,
    "start_time": "2022-11-26T12:28:41.186Z"
   },
   {
    "duration": 0,
    "start_time": "2022-11-26T12:28:41.187Z"
   },
   {
    "duration": 0,
    "start_time": "2022-11-26T12:28:41.188Z"
   },
   {
    "duration": 0,
    "start_time": "2022-11-26T12:28:41.189Z"
   },
   {
    "duration": 0,
    "start_time": "2022-11-26T12:28:41.190Z"
   },
   {
    "duration": 0,
    "start_time": "2022-11-26T12:28:41.191Z"
   },
   {
    "duration": 0,
    "start_time": "2022-11-26T12:28:41.192Z"
   },
   {
    "duration": 0,
    "start_time": "2022-11-26T12:28:41.193Z"
   },
   {
    "duration": 0,
    "start_time": "2022-11-26T12:28:41.193Z"
   },
   {
    "duration": 0,
    "start_time": "2022-11-26T12:28:41.194Z"
   },
   {
    "duration": 0,
    "start_time": "2022-11-26T12:28:41.195Z"
   },
   {
    "duration": 0,
    "start_time": "2022-11-26T12:28:41.196Z"
   },
   {
    "duration": 0,
    "start_time": "2022-11-26T12:28:41.197Z"
   },
   {
    "duration": 0,
    "start_time": "2022-11-26T12:28:41.198Z"
   },
   {
    "duration": 0,
    "start_time": "2022-11-26T12:28:41.199Z"
   },
   {
    "duration": 0,
    "start_time": "2022-11-26T12:28:41.200Z"
   },
   {
    "duration": 196124,
    "start_time": "2022-11-26T12:29:42.102Z"
   },
   {
    "duration": 200578,
    "start_time": "2022-11-26T12:35:10.168Z"
   },
   {
    "duration": 463,
    "start_time": "2022-11-26T12:42:40.627Z"
   },
   {
    "duration": 182,
    "start_time": "2022-11-26T12:44:43.797Z"
   },
   {
    "duration": 542,
    "start_time": "2022-11-26T12:46:13.167Z"
   },
   {
    "duration": 499,
    "start_time": "2022-11-26T12:46:17.996Z"
   },
   {
    "duration": 374,
    "start_time": "2022-11-26T12:48:25.285Z"
   },
   {
    "duration": 1315,
    "start_time": "2022-11-26T12:55:15.887Z"
   },
   {
    "duration": 117,
    "start_time": "2022-11-26T12:55:17.204Z"
   },
   {
    "duration": 17,
    "start_time": "2022-11-26T12:55:17.323Z"
   },
   {
    "duration": 20,
    "start_time": "2022-11-26T12:55:17.342Z"
   },
   {
    "duration": 62,
    "start_time": "2022-11-26T12:55:17.364Z"
   },
   {
    "duration": 3,
    "start_time": "2022-11-26T12:55:17.428Z"
   },
   {
    "duration": 10,
    "start_time": "2022-11-26T12:55:17.432Z"
   },
   {
    "duration": 6,
    "start_time": "2022-11-26T12:55:17.443Z"
   },
   {
    "duration": 7,
    "start_time": "2022-11-26T12:55:17.451Z"
   },
   {
    "duration": 23,
    "start_time": "2022-11-26T12:55:17.460Z"
   },
   {
    "duration": 8,
    "start_time": "2022-11-26T12:55:17.485Z"
   },
   {
    "duration": 23,
    "start_time": "2022-11-26T12:55:17.495Z"
   },
   {
    "duration": 5,
    "start_time": "2022-11-26T12:55:17.520Z"
   },
   {
    "duration": 23,
    "start_time": "2022-11-26T12:55:17.526Z"
   },
   {
    "duration": 8,
    "start_time": "2022-11-26T12:55:17.551Z"
   },
   {
    "duration": 19,
    "start_time": "2022-11-26T12:55:17.560Z"
   },
   {
    "duration": 16,
    "start_time": "2022-11-26T12:55:17.581Z"
   },
   {
    "duration": 18,
    "start_time": "2022-11-26T12:55:17.598Z"
   },
   {
    "duration": 7,
    "start_time": "2022-11-26T12:55:17.618Z"
   },
   {
    "duration": 4,
    "start_time": "2022-11-26T12:55:17.626Z"
   },
   {
    "duration": 10,
    "start_time": "2022-11-26T12:55:17.631Z"
   },
   {
    "duration": 14,
    "start_time": "2022-11-26T12:55:17.643Z"
   },
   {
    "duration": 20,
    "start_time": "2022-11-26T12:55:17.658Z"
   },
   {
    "duration": 6,
    "start_time": "2022-11-26T12:55:17.680Z"
   },
   {
    "duration": 6,
    "start_time": "2022-11-26T12:55:17.687Z"
   },
   {
    "duration": 24,
    "start_time": "2022-11-26T12:55:17.695Z"
   },
   {
    "duration": 12,
    "start_time": "2022-11-26T12:55:17.720Z"
   },
   {
    "duration": 6,
    "start_time": "2022-11-26T12:55:17.735Z"
   },
   {
    "duration": 39,
    "start_time": "2022-11-26T12:55:17.742Z"
   },
   {
    "duration": 27,
    "start_time": "2022-11-26T12:55:17.782Z"
   },
   {
    "duration": 506,
    "start_time": "2022-11-26T12:55:17.810Z"
   },
   {
    "duration": 61,
    "start_time": "2022-11-26T12:55:18.318Z"
   },
   {
    "duration": 204132,
    "start_time": "2022-11-26T12:55:18.382Z"
   },
   {
    "duration": 498,
    "start_time": "2022-11-26T12:58:42.516Z"
   },
   {
    "duration": 333,
    "start_time": "2022-11-26T12:58:43.016Z"
   },
   {
    "duration": 451,
    "start_time": "2022-11-26T12:58:43.352Z"
   },
   {
    "duration": 21,
    "start_time": "2022-11-26T12:58:43.805Z"
   },
   {
    "duration": 192252,
    "start_time": "2022-11-26T12:58:43.880Z"
   },
   {
    "duration": 11,
    "start_time": "2022-11-26T13:01:56.133Z"
   },
   {
    "duration": 3,
    "start_time": "2022-11-26T13:01:56.146Z"
   },
   {
    "duration": 7,
    "start_time": "2022-11-26T13:01:56.151Z"
   },
   {
    "duration": 552,
    "start_time": "2022-11-26T13:01:56.176Z"
   },
   {
    "duration": 49,
    "start_time": "2022-11-26T13:01:56.730Z"
   },
   {
    "duration": 264303,
    "start_time": "2022-11-26T13:01:56.780Z"
   },
   {
    "duration": 9,
    "start_time": "2022-11-26T13:06:21.085Z"
   },
   {
    "duration": 5,
    "start_time": "2022-11-26T13:06:21.095Z"
   },
   {
    "duration": 9,
    "start_time": "2022-11-26T13:06:21.101Z"
   },
   {
    "duration": 234,
    "start_time": "2022-11-26T13:06:21.111Z"
   },
   {
    "duration": 32,
    "start_time": "2022-11-26T13:06:21.347Z"
   },
   {
    "duration": 111812,
    "start_time": "2022-11-26T13:06:21.381Z"
   },
   {
    "duration": 2286,
    "start_time": "2022-11-26T13:08:13.195Z"
   },
   {
    "duration": 1233,
    "start_time": "2022-11-26T13:08:15.483Z"
   },
   {
    "duration": 14,
    "start_time": "2022-11-26T13:08:16.718Z"
   },
   {
    "duration": 99,
    "start_time": "2022-11-26T13:10:25.353Z"
   },
   {
    "duration": 561,
    "start_time": "2022-11-26T13:10:42.637Z"
   },
   {
    "duration": 2127,
    "start_time": "2022-11-26T13:16:57.270Z"
   },
   {
    "duration": 2221,
    "start_time": "2022-11-26T13:17:20.151Z"
   },
   {
    "duration": 2271,
    "start_time": "2022-11-26T13:18:49.110Z"
   },
   {
    "duration": 12,
    "start_time": "2022-11-26T13:25:12.733Z"
   },
   {
    "duration": 522,
    "start_time": "2022-11-26T13:25:34.573Z"
   },
   {
    "duration": 1912,
    "start_time": "2022-11-26T13:25:41.806Z"
   },
   {
    "duration": 1309,
    "start_time": "2022-11-26T13:26:55.928Z"
   },
   {
    "duration": 1990,
    "start_time": "2022-11-26T13:28:38.799Z"
   },
   {
    "duration": 447,
    "start_time": "2022-11-26T13:29:35.000Z"
   },
   {
    "duration": 876,
    "start_time": "2022-11-26T13:30:35.259Z"
   },
   {
    "duration": 783,
    "start_time": "2022-11-26T13:31:39.653Z"
   },
   {
    "duration": 510,
    "start_time": "2022-11-26T13:32:41.411Z"
   },
   {
    "duration": 508,
    "start_time": "2022-11-26T13:33:23.978Z"
   },
   {
    "duration": 606,
    "start_time": "2022-11-26T13:33:50.186Z"
   },
   {
    "duration": 61,
    "start_time": "2022-11-26T13:40:48.028Z"
   },
   {
    "duration": 1252,
    "start_time": "2022-11-26T13:47:09.415Z"
   },
   {
    "duration": 60,
    "start_time": "2022-11-26T13:47:10.669Z"
   },
   {
    "duration": 16,
    "start_time": "2022-11-26T13:47:10.731Z"
   },
   {
    "duration": 12,
    "start_time": "2022-11-26T13:47:10.748Z"
   },
   {
    "duration": 37,
    "start_time": "2022-11-26T13:47:10.761Z"
   },
   {
    "duration": 3,
    "start_time": "2022-11-26T13:47:10.799Z"
   },
   {
    "duration": 6,
    "start_time": "2022-11-26T13:47:10.804Z"
   },
   {
    "duration": 10,
    "start_time": "2022-11-26T13:47:10.811Z"
   },
   {
    "duration": 6,
    "start_time": "2022-11-26T13:47:10.822Z"
   },
   {
    "duration": 18,
    "start_time": "2022-11-26T13:47:10.829Z"
   },
   {
    "duration": 10,
    "start_time": "2022-11-26T13:47:10.848Z"
   },
   {
    "duration": 27,
    "start_time": "2022-11-26T13:47:10.860Z"
   },
   {
    "duration": 4,
    "start_time": "2022-11-26T13:47:10.889Z"
   },
   {
    "duration": 12,
    "start_time": "2022-11-26T13:47:10.897Z"
   },
   {
    "duration": 4,
    "start_time": "2022-11-26T13:47:10.910Z"
   },
   {
    "duration": 9,
    "start_time": "2022-11-26T13:47:10.916Z"
   },
   {
    "duration": 15,
    "start_time": "2022-11-26T13:47:10.926Z"
   },
   {
    "duration": 8,
    "start_time": "2022-11-26T13:47:10.942Z"
   },
   {
    "duration": 6,
    "start_time": "2022-11-26T13:47:10.976Z"
   },
   {
    "duration": 2,
    "start_time": "2022-11-26T13:47:10.984Z"
   },
   {
    "duration": 11,
    "start_time": "2022-11-26T13:47:10.987Z"
   },
   {
    "duration": 5,
    "start_time": "2022-11-26T13:47:11.000Z"
   },
   {
    "duration": 3,
    "start_time": "2022-11-26T13:47:11.006Z"
   },
   {
    "duration": 8,
    "start_time": "2022-11-26T13:47:11.011Z"
   },
   {
    "duration": 6,
    "start_time": "2022-11-26T13:47:11.020Z"
   },
   {
    "duration": 22,
    "start_time": "2022-11-26T13:47:11.027Z"
   },
   {
    "duration": 12,
    "start_time": "2022-11-26T13:47:11.077Z"
   },
   {
    "duration": 6,
    "start_time": "2022-11-26T13:47:11.090Z"
   },
   {
    "duration": 8,
    "start_time": "2022-11-26T13:47:11.097Z"
   },
   {
    "duration": 25,
    "start_time": "2022-11-26T13:47:11.106Z"
   },
   {
    "duration": 470,
    "start_time": "2022-11-26T13:47:11.132Z"
   },
   {
    "duration": 75,
    "start_time": "2022-11-26T13:47:11.603Z"
   },
   {
    "duration": 198310,
    "start_time": "2022-11-26T13:47:11.680Z"
   },
   {
    "duration": 527,
    "start_time": "2022-11-26T13:50:29.992Z"
   },
   {
    "duration": 372,
    "start_time": "2022-11-26T13:50:30.521Z"
   },
   {
    "duration": 473,
    "start_time": "2022-11-26T13:50:30.894Z"
   },
   {
    "duration": 21,
    "start_time": "2022-11-26T13:50:31.376Z"
   },
   {
    "duration": 196370,
    "start_time": "2022-11-26T13:50:31.399Z"
   },
   {
    "duration": 11,
    "start_time": "2022-11-26T13:53:47.771Z"
   },
   {
    "duration": 3,
    "start_time": "2022-11-26T13:53:47.784Z"
   },
   {
    "duration": 7,
    "start_time": "2022-11-26T13:53:47.791Z"
   },
   {
    "duration": 594,
    "start_time": "2022-11-26T13:53:47.799Z"
   },
   {
    "duration": 80,
    "start_time": "2022-11-26T13:53:48.396Z"
   },
   {
    "duration": 272226,
    "start_time": "2022-11-26T13:53:48.479Z"
   },
   {
    "duration": 11,
    "start_time": "2022-11-26T13:58:20.707Z"
   },
   {
    "duration": 5,
    "start_time": "2022-11-26T13:58:20.719Z"
   },
   {
    "duration": 8,
    "start_time": "2022-11-26T13:58:20.725Z"
   },
   {
    "duration": 242,
    "start_time": "2022-11-26T13:58:20.734Z"
   },
   {
    "duration": 16,
    "start_time": "2022-11-26T13:58:20.977Z"
   },
   {
    "duration": 109452,
    "start_time": "2022-11-26T13:58:20.995Z"
   },
   {
    "duration": 1844,
    "start_time": "2022-11-26T14:00:10.449Z"
   },
   {
    "duration": 778,
    "start_time": "2022-11-26T14:00:12.295Z"
   },
   {
    "duration": 11,
    "start_time": "2022-11-26T14:00:13.077Z"
   },
   {
    "duration": 1674,
    "start_time": "2022-11-27T08:58:41.499Z"
   },
   {
    "duration": 164,
    "start_time": "2022-11-27T08:58:43.175Z"
   },
   {
    "duration": 16,
    "start_time": "2022-11-27T08:58:43.340Z"
   },
   {
    "duration": 20,
    "start_time": "2022-11-27T08:58:43.357Z"
   },
   {
    "duration": 69,
    "start_time": "2022-11-27T08:58:43.379Z"
   },
   {
    "duration": 6,
    "start_time": "2022-11-27T08:58:43.449Z"
   },
   {
    "duration": 24,
    "start_time": "2022-11-27T08:58:43.456Z"
   },
   {
    "duration": 27,
    "start_time": "2022-11-27T08:58:43.481Z"
   },
   {
    "duration": 18,
    "start_time": "2022-11-27T08:58:43.510Z"
   },
   {
    "duration": 33,
    "start_time": "2022-11-27T08:58:43.529Z"
   },
   {
    "duration": 19,
    "start_time": "2022-11-27T08:58:43.563Z"
   },
   {
    "duration": 35,
    "start_time": "2022-11-27T08:58:43.584Z"
   },
   {
    "duration": 4,
    "start_time": "2022-11-27T08:58:43.621Z"
   },
   {
    "duration": 30,
    "start_time": "2022-11-27T08:58:43.628Z"
   },
   {
    "duration": 29,
    "start_time": "2022-11-27T08:58:43.659Z"
   },
   {
    "duration": 23,
    "start_time": "2022-11-27T08:58:43.689Z"
   },
   {
    "duration": 28,
    "start_time": "2022-11-27T08:58:43.714Z"
   },
   {
    "duration": 20,
    "start_time": "2022-11-27T08:58:43.743Z"
   },
   {
    "duration": 44,
    "start_time": "2022-11-27T08:58:43.764Z"
   },
   {
    "duration": 13,
    "start_time": "2022-11-27T08:58:43.809Z"
   },
   {
    "duration": 27,
    "start_time": "2022-11-27T08:58:43.824Z"
   },
   {
    "duration": 10,
    "start_time": "2022-11-27T08:58:43.852Z"
   },
   {
    "duration": 42,
    "start_time": "2022-11-27T08:58:43.863Z"
   },
   {
    "duration": 12,
    "start_time": "2022-11-27T08:58:43.906Z"
   },
   {
    "duration": 22,
    "start_time": "2022-11-27T08:58:43.919Z"
   },
   {
    "duration": 70,
    "start_time": "2022-11-27T08:58:43.943Z"
   },
   {
    "duration": 10,
    "start_time": "2022-11-27T08:58:44.015Z"
   },
   {
    "duration": 20,
    "start_time": "2022-11-27T08:58:44.027Z"
   },
   {
    "duration": 62,
    "start_time": "2022-11-27T08:58:44.048Z"
   },
   {
    "duration": 35,
    "start_time": "2022-11-27T08:58:44.112Z"
   },
   {
    "duration": 893,
    "start_time": "2022-11-27T08:58:44.149Z"
   },
   {
    "duration": 166,
    "start_time": "2022-11-27T08:58:45.043Z"
   },
   {
    "duration": 197420,
    "start_time": "2022-11-27T08:58:45.211Z"
   },
   {
    "duration": 494,
    "start_time": "2022-11-27T09:02:02.632Z"
   },
   {
    "duration": 345,
    "start_time": "2022-11-27T09:02:03.128Z"
   },
   {
    "duration": 469,
    "start_time": "2022-11-27T09:02:03.474Z"
   },
   {
    "duration": 60,
    "start_time": "2022-11-27T09:02:03.945Z"
   },
   {
    "duration": 206284,
    "start_time": "2022-11-27T09:02:04.008Z"
   },
   {
    "duration": 15,
    "start_time": "2022-11-27T09:05:30.293Z"
   },
   {
    "duration": 6,
    "start_time": "2022-11-27T09:05:30.309Z"
   },
   {
    "duration": 19,
    "start_time": "2022-11-27T09:05:30.319Z"
   },
   {
    "duration": 594,
    "start_time": "2022-11-27T09:05:30.339Z"
   },
   {
    "duration": 75,
    "start_time": "2022-11-27T09:05:30.935Z"
   },
   {
    "duration": 268512,
    "start_time": "2022-11-27T09:05:31.014Z"
   },
   {
    "duration": 12,
    "start_time": "2022-11-27T09:09:59.528Z"
   },
   {
    "duration": 7,
    "start_time": "2022-11-27T09:09:59.541Z"
   },
   {
    "duration": 8,
    "start_time": "2022-11-27T09:09:59.550Z"
   },
   {
    "duration": 276,
    "start_time": "2022-11-27T09:09:59.559Z"
   },
   {
    "duration": 71,
    "start_time": "2022-11-27T09:09:59.837Z"
   },
   {
    "duration": 116601,
    "start_time": "2022-11-27T09:09:59.910Z"
   },
   {
    "duration": 2030,
    "start_time": "2022-11-27T09:11:56.520Z"
   },
   {
    "duration": 784,
    "start_time": "2022-11-27T09:11:58.552Z"
   },
   {
    "duration": 10,
    "start_time": "2022-11-27T09:11:59.338Z"
   }
  ],
  "kernelspec": {
   "display_name": "Python 3 (ipykernel)",
   "language": "python",
   "name": "python3"
  },
  "language_info": {
   "codemirror_mode": {
    "name": "ipython",
    "version": 3
   },
   "file_extension": ".py",
   "mimetype": "text/x-python",
   "name": "python",
   "nbconvert_exporter": "python",
   "pygments_lexer": "ipython3",
   "version": "3.9.12"
  },
  "toc": {
   "base_numbering": 1,
   "nav_menu": {},
   "number_sections": true,
   "sideBar": true,
   "skip_h1_title": true,
   "title_cell": "Содержание",
   "title_sidebar": "Contents",
   "toc_cell": true,
   "toc_position": {},
   "toc_section_display": true,
   "toc_window_display": true
  }
 },
 "nbformat": 4,
 "nbformat_minor": 2
}
