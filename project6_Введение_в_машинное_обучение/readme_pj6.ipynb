{
 "cells": [
  {
   "cell_type": "markdown",
   "id": "0fcec23e",
   "metadata": {},
   "source": [
    "### Данные\n",
    "В наличии данные о клиентах двух тарифных планов компании. \n",
    "Есть следующая информация:\n",
    "\n",
    "- звонки(время, продолжительность)\n",
    "- использование интернета\n",
    "- смс\n",
    "- данные, характеризующие пользователя\n",
    "- информация о самих тарифах\n",
    "\n",
    "### Задача\n",
    "Нужно построить модель для задачи классификации, которая выберет подходящий тариф.\n",
    "Необходимо создать модель с максимально большим значением accuracy. Нужно довести долю правильных ответов по крайней мере до 0.75.\n",
    "\n",
    "### Используемые библиотеки\n",
    "pandas, seaborn, sklearn"
   ]
  },
  {
   "cell_type": "code",
   "execution_count": null,
   "id": "f27ab02d",
   "metadata": {},
   "outputs": [],
   "source": []
  }
 ],
 "metadata": {
  "kernelspec": {
   "display_name": "Python 3 (ipykernel)",
   "language": "python",
   "name": "python3"
  },
  "language_info": {
   "codemirror_mode": {
    "name": "ipython",
    "version": 3
   },
   "file_extension": ".py",
   "mimetype": "text/x-python",
   "name": "python",
   "nbconvert_exporter": "python",
   "pygments_lexer": "ipython3",
   "version": "3.9.12"
  }
 },
 "nbformat": 4,
 "nbformat_minor": 5
}
