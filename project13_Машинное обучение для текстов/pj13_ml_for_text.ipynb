{
 "cells": [
  {
   "cell_type": "markdown",
   "metadata": {
    "toc": true
   },
   "source": [
    "<h1>Содержание<span class=\"tocSkip\"></span></h1>\n",
    "<div class=\"toc\"><ul class=\"toc-item\"><li><span><a href=\"#Подготовка\" data-toc-modified-id=\"Подготовка-1\"><span class=\"toc-item-num\">1&nbsp;&nbsp;</span>Подготовка</a></span><ul class=\"toc-item\"><li><span><a href=\"#Исследовательский-анализ-данных\" data-toc-modified-id=\"Исследовательский-анализ-данных-1.1\"><span class=\"toc-item-num\">1.1&nbsp;&nbsp;</span>Исследовательский анализ данных</a></span></li><li><span><a href=\"#Очистка-и-лемматизация-текста\" data-toc-modified-id=\"Очистка-и-лемматизация-текста-1.2\"><span class=\"toc-item-num\">1.2&nbsp;&nbsp;</span>Очистка и лемматизация текста</a></span></li><li><span><a href=\"#Частотный-анализ-слов\" data-toc-modified-id=\"Частотный-анализ-слов-1.3\"><span class=\"toc-item-num\">1.3&nbsp;&nbsp;</span>Частотный анализ слов</a></span></li><li><span><a href=\"#Добавление-новых-признаков\" data-toc-modified-id=\"Добавление-новых-признаков-1.4\"><span class=\"toc-item-num\">1.4&nbsp;&nbsp;</span>Добавление новых признаков</a></span></li><li><span><a href=\"#Разделение-выборки-на-части\" data-toc-modified-id=\"Разделение-выборки-на-части-1.5\"><span class=\"toc-item-num\">1.5&nbsp;&nbsp;</span>Разделение выборки на части</a></span></li></ul></li><li><span><a href=\"#Обучение\" data-toc-modified-id=\"Обучение-2\"><span class=\"toc-item-num\">2&nbsp;&nbsp;</span>Обучение</a></span><ul class=\"toc-item\"><li><span><a href=\"#LogisticRegression\" data-toc-modified-id=\"LogisticRegression-2.1\"><span class=\"toc-item-num\">2.1&nbsp;&nbsp;</span>LogisticRegression</a></span></li><li><span><a href=\"#CatBoost\" data-toc-modified-id=\"CatBoost-2.2\"><span class=\"toc-item-num\">2.2&nbsp;&nbsp;</span>CatBoost</a></span></li><li><span><a href=\"#LightGBM\" data-toc-modified-id=\"LightGBM-2.3\"><span class=\"toc-item-num\">2.3&nbsp;&nbsp;</span>LightGBM</a></span></li></ul></li><li><span><a href=\"#Итоговый-вывод\" data-toc-modified-id=\"Итоговый-вывод-3\"><span class=\"toc-item-num\">3&nbsp;&nbsp;</span>Итоговый вывод</a></span></li><li><span><a href=\"#Чек-лист-проверки\" data-toc-modified-id=\"Чек-лист-проверки-4\"><span class=\"toc-item-num\">4&nbsp;&nbsp;</span>Чек-лист проверки</a></span></li></ul></div>"
   ]
  },
  {
   "cell_type": "markdown",
   "metadata": {},
   "source": [
    "# Проект для «Викишоп»"
   ]
  },
  {
   "cell_type": "markdown",
   "metadata": {},
   "source": [
    "Интернет-магазин «Викишоп» запускает новый сервис. Теперь пользователи могут редактировать и дополнять описания товаров, как в вики-сообществах. То есть клиенты предлагают свои правки и комментируют изменения других. Магазину нужен инструмент, который будет искать токсичные комментарии и отправлять их на модерацию. \n",
    "\n",
    "Обучите модель классифицировать комментарии на позитивные и негативные. В вашем распоряжении набор данных с разметкой о токсичности правок.\n",
    "\n",
    "Постройте модель со значением метрики качества *F1* не меньше 0.75. \n",
    "\n",
    "**Инструкция по выполнению проекта**\n",
    "\n",
    "1. Загрузите и подготовьте данные.\n",
    "2. Обучите разные модели. \n",
    "3. Сделайте выводы.\n",
    "\n",
    "Для выполнения проекта применять *BERT* необязательно, но вы можете попробовать.\n",
    "\n",
    "**Описание данных**\n",
    "\n",
    "Данные находятся в файле `toxic_comments.csv`. Столбец *text* в нём содержит текст комментария, а *toxic* — целевой признак."
   ]
  },
  {
   "cell_type": "markdown",
   "metadata": {},
   "source": [
    "## Подготовка"
   ]
  },
  {
   "cell_type": "markdown",
   "metadata": {},
   "source": [
    "Сделаем необходимые импорты."
   ]
  },
  {
   "cell_type": "code",
   "execution_count": 3,
   "metadata": {},
   "outputs": [
    {
     "name": "stdout",
     "output_type": "stream",
     "text": [
      "Requirement already satisfied: wordcloud in /opt/conda/lib/python3.9/site-packages (1.8.2.2)\r\n",
      "Requirement already satisfied: pillow in /opt/conda/lib/python3.9/site-packages (from wordcloud) (8.4.0)\r\n",
      "Requirement already satisfied: numpy>=1.6.1 in /opt/conda/lib/python3.9/site-packages (from wordcloud) (1.21.1)\r\n",
      "Requirement already satisfied: matplotlib in /opt/conda/lib/python3.9/site-packages (from wordcloud) (3.3.4)\r\n",
      "Requirement already satisfied: kiwisolver>=1.0.1 in /opt/conda/lib/python3.9/site-packages (from matplotlib->wordcloud) (1.4.4)\r\n",
      "Requirement already satisfied: pyparsing!=2.0.4,!=2.1.2,!=2.1.6,>=2.0.3 in /opt/conda/lib/python3.9/site-packages (from matplotlib->wordcloud) (2.4.7)\r\n",
      "Requirement already satisfied: python-dateutil>=2.1 in /opt/conda/lib/python3.9/site-packages (from matplotlib->wordcloud) (2.8.1)\r\n",
      "Requirement already satisfied: cycler>=0.10 in /opt/conda/lib/python3.9/site-packages (from matplotlib->wordcloud) (0.11.0)\r\n",
      "Requirement already satisfied: six>=1.5 in /opt/conda/lib/python3.9/site-packages (from python-dateutil>=2.1->matplotlib->wordcloud) (1.16.0)\r\n"
     ]
    }
   ],
   "source": [
    "!pip install wordcloud"
   ]
  },
  {
   "cell_type": "code",
   "execution_count": 4,
   "metadata": {},
   "outputs": [
    {
     "name": "stderr",
     "output_type": "stream",
     "text": [
      "[nltk_data] Downloading package averaged_perceptron_tagger to\n",
      "[nltk_data]     /home/jovyan/nltk_data...\n",
      "[nltk_data]   Package averaged_perceptron_tagger is already up-to-\n",
      "[nltk_data]       date!\n",
      "[nltk_data] Downloading package stopwords to /home/jovyan/nltk_data...\n",
      "[nltk_data]   Package stopwords is already up-to-date!\n"
     ]
    }
   ],
   "source": [
    "import pandas as pd\n",
    "import numpy as np\n",
    "import re \n",
    "from nltk import pos_tag\n",
    "from nltk.stem import WordNetLemmatizer\n",
    "from nltk.corpus import wordnet\n",
    "import nltk\n",
    "nltk.download('averaged_perceptron_tagger')\n",
    "from nltk.corpus import stopwords\n",
    "nltk.download('stopwords')\n",
    "from nltk.probability import FreqDist\n",
    "\n",
    "from wordcloud import WordCloud\n",
    "\n",
    "import matplotlib.pyplot as plt\n",
    "\n",
    "from tqdm.notebook import tqdm\n",
    "\n",
    "from sklearn.feature_extraction.text import TfidfVectorizer\n",
    "from sklearn.compose import make_column_transformer\n",
    "from sklearn.preprocessing import StandardScaler\n",
    "\n",
    "from sklearn.model_selection import train_test_split, cross_val_score, GridSearchCV\n",
    "\n",
    "from sklearn.pipeline import Pipeline\n",
    "from sklearn.linear_model import LogisticRegression\n",
    "from sklearn.ensemble import RandomForestClassifier\n",
    "from sklearn.dummy import DummyClassifier\n",
    "\n",
    "from catboost import CatBoostClassifier\n",
    "\n",
    "from lightgbm import LGBMClassifier\n",
    "\n",
    "from sklearn.metrics import f1_score"
   ]
  },
  {
   "cell_type": "markdown",
   "metadata": {},
   "source": [
    "Загрузим имеющийся датасет."
   ]
  },
  {
   "cell_type": "code",
   "execution_count": 5,
   "metadata": {},
   "outputs": [],
   "source": [
    "try:\n",
    "    data = pd.read_csv(r'C:\\Users\\Марина\\Downloads\\toxic_comments.csv', index_col=0)\n",
    "except:\n",
    "    data = pd.read_csv('https://code.s3.yandex.net/datasets/toxic_comments.csv', index_col=0)"
   ]
  },
  {
   "cell_type": "markdown",
   "metadata": {},
   "source": [
    "### Исследовательский анализ данных"
   ]
  },
  {
   "cell_type": "markdown",
   "metadata": {},
   "source": [
    "Посмотрим на основные параметры. "
   ]
  },
  {
   "cell_type": "code",
   "execution_count": 6,
   "metadata": {},
   "outputs": [
    {
     "name": "stdout",
     "output_type": "stream",
     "text": [
      "<class 'pandas.core.frame.DataFrame'>\n",
      "Int64Index: 159292 entries, 0 to 159450\n",
      "Data columns (total 2 columns):\n",
      " #   Column  Non-Null Count   Dtype \n",
      "---  ------  --------------   ----- \n",
      " 0   text    159292 non-null  object\n",
      " 1   toxic   159292 non-null  int64 \n",
      "dtypes: int64(1), object(1)\n",
      "memory usage: 3.6+ MB\n"
     ]
    }
   ],
   "source": [
    "data.info()"
   ]
  },
  {
   "cell_type": "markdown",
   "metadata": {},
   "source": [
    "Проверим наличие пропусков."
   ]
  },
  {
   "cell_type": "code",
   "execution_count": 7,
   "metadata": {},
   "outputs": [
    {
     "data": {
      "text/plain": [
       "text     0\n",
       "toxic    0\n",
       "dtype: int64"
      ]
     },
     "execution_count": 7,
     "metadata": {},
     "output_type": "execute_result"
    }
   ],
   "source": [
    "data.isna().sum()"
   ]
  },
  {
   "cell_type": "code",
   "execution_count": 8,
   "metadata": {},
   "outputs": [
    {
     "data": {
      "text/html": [
       "<div>\n",
       "<style scoped>\n",
       "    .dataframe tbody tr th:only-of-type {\n",
       "        vertical-align: middle;\n",
       "    }\n",
       "\n",
       "    .dataframe tbody tr th {\n",
       "        vertical-align: top;\n",
       "    }\n",
       "\n",
       "    .dataframe thead th {\n",
       "        text-align: right;\n",
       "    }\n",
       "</style>\n",
       "<table border=\"1\" class=\"dataframe\">\n",
       "  <thead>\n",
       "    <tr style=\"text-align: right;\">\n",
       "      <th></th>\n",
       "      <th>text</th>\n",
       "      <th>toxic</th>\n",
       "    </tr>\n",
       "  </thead>\n",
       "  <tbody>\n",
       "    <tr>\n",
       "      <th>20883</th>\n",
       "      <td>\"\\n\\nIf you can show me a \"\"Phd.\"\" scholar fro...</td>\n",
       "      <td>0</td>\n",
       "    </tr>\n",
       "    <tr>\n",
       "      <th>31153</th>\n",
       "      <td>The fact that you have indicated you are the a...</td>\n",
       "      <td>0</td>\n",
       "    </tr>\n",
       "    <tr>\n",
       "      <th>42094</th>\n",
       "      <td>2014 (UTC)\\n I object to this. It's not a cale...</td>\n",
       "      <td>0</td>\n",
       "    </tr>\n",
       "    <tr>\n",
       "      <th>100226</th>\n",
       "      <td>Unsourced entries \\n\\nIn accordance with BLP p...</td>\n",
       "      <td>0</td>\n",
       "    </tr>\n",
       "    <tr>\n",
       "      <th>158813</th>\n",
       "      <td>Administratore: I need your help to stop DIREK...</td>\n",
       "      <td>1</td>\n",
       "    </tr>\n",
       "    <tr>\n",
       "      <th>140733</th>\n",
       "      <td>The Six Feet Under logo could do with a transp...</td>\n",
       "      <td>0</td>\n",
       "    </tr>\n",
       "    <tr>\n",
       "      <th>113347</th>\n",
       "      <td>\"\\n\\nPlease note that another Wikipedia articl...</td>\n",
       "      <td>0</td>\n",
       "    </tr>\n",
       "    <tr>\n",
       "      <th>150441</th>\n",
       "      <td>Serious redundancy issues \\n\\nThere is substan...</td>\n",
       "      <td>0</td>\n",
       "    </tr>\n",
       "    <tr>\n",
       "      <th>112587</th>\n",
       "      <td>\"\\n\\n A barnstar for you! \\n\\n  The Teamwork B...</td>\n",
       "      <td>0</td>\n",
       "    </tr>\n",
       "    <tr>\n",
       "      <th>130651</th>\n",
       "      <td>\"\\nToa and Jerzeykydd have gone to great lengt...</td>\n",
       "      <td>0</td>\n",
       "    </tr>\n",
       "  </tbody>\n",
       "</table>\n",
       "</div>"
      ],
      "text/plain": [
       "                                                     text  toxic\n",
       "20883   \"\\n\\nIf you can show me a \"\"Phd.\"\" scholar fro...      0\n",
       "31153   The fact that you have indicated you are the a...      0\n",
       "42094   2014 (UTC)\\n I object to this. It's not a cale...      0\n",
       "100226  Unsourced entries \\n\\nIn accordance with BLP p...      0\n",
       "158813  Administratore: I need your help to stop DIREK...      1\n",
       "140733  The Six Feet Under logo could do with a transp...      0\n",
       "113347  \"\\n\\nPlease note that another Wikipedia articl...      0\n",
       "150441  Serious redundancy issues \\n\\nThere is substan...      0\n",
       "112587  \"\\n\\n A barnstar for you! \\n\\n  The Teamwork B...      0\n",
       "130651  \"\\nToa and Jerzeykydd have gone to great lengt...      0"
      ]
     },
     "execution_count": 8,
     "metadata": {},
     "output_type": "execute_result"
    }
   ],
   "source": [
    "data.sample(10)"
   ]
  },
  {
   "cell_type": "markdown",
   "metadata": {},
   "source": [
    "Проверим наличие дубликатов."
   ]
  },
  {
   "cell_type": "code",
   "execution_count": 9,
   "metadata": {},
   "outputs": [
    {
     "data": {
      "text/plain": [
       "0"
      ]
     },
     "execution_count": 9,
     "metadata": {},
     "output_type": "execute_result"
    }
   ],
   "source": [
    "data.duplicated().sum()"
   ]
  },
  {
   "cell_type": "markdown",
   "metadata": {},
   "source": [
    "Посмотрим на распредение данных по целевому признаку."
   ]
  },
  {
   "cell_type": "code",
   "execution_count": 10,
   "metadata": {},
   "outputs": [
    {
     "data": {
      "text/plain": [
       "0    0.898388\n",
       "1    0.101612\n",
       "Name: toxic, dtype: float64"
      ]
     },
     "execution_count": 10,
     "metadata": {},
     "output_type": "execute_result"
    }
   ],
   "source": [
    "data['toxic'].value_counts(normalize= True)"
   ]
  },
  {
   "cell_type": "markdown",
   "metadata": {},
   "source": [
    "Присутствует дисбаланс классов по целевому признаку. В дальнейшем будем использовать параметр для весов классов в моделях."
   ]
  },
  {
   "cell_type": "markdown",
   "metadata": {},
   "source": [
    "### Очистка и лемматизация текста"
   ]
  },
  {
   "cell_type": "markdown",
   "metadata": {},
   "source": [
    "Очистим и лемматизируем текст комментариев."
   ]
  },
  {
   "cell_type": "code",
   "execution_count": 11,
   "metadata": {},
   "outputs": [],
   "source": [
    "#функция очистки текста\n",
    "def clear_text(text):\n",
    "    text = text.lower()\n",
    "    text = re.sub(r'[^a-zA-Z]', ' ', text)\n",
    "    text = re.sub(r'\\b(\\w{100,})\\b', ' ', text) #убираем очень длинные слова (более 100 символов), их невозможно лемматизировать\n",
    "    text = text.split()\n",
    "    text = \" \".join(text)\n",
    "    return text"
   ]
  },
  {
   "cell_type": "code",
   "execution_count": 12,
   "metadata": {},
   "outputs": [],
   "source": [
    "data['cleared_text'] = data['text'].apply(clear_text)"
   ]
  },
  {
   "cell_type": "code",
   "execution_count": 13,
   "metadata": {},
   "outputs": [
    {
     "data": {
      "text/html": [
       "<div>\n",
       "<style scoped>\n",
       "    .dataframe tbody tr th:only-of-type {\n",
       "        vertical-align: middle;\n",
       "    }\n",
       "\n",
       "    .dataframe tbody tr th {\n",
       "        vertical-align: top;\n",
       "    }\n",
       "\n",
       "    .dataframe thead th {\n",
       "        text-align: right;\n",
       "    }\n",
       "</style>\n",
       "<table border=\"1\" class=\"dataframe\">\n",
       "  <thead>\n",
       "    <tr style=\"text-align: right;\">\n",
       "      <th></th>\n",
       "      <th>text</th>\n",
       "      <th>toxic</th>\n",
       "      <th>cleared_text</th>\n",
       "    </tr>\n",
       "  </thead>\n",
       "  <tbody>\n",
       "    <tr>\n",
       "      <th>0</th>\n",
       "      <td>Explanation\\nWhy the edits made under my usern...</td>\n",
       "      <td>0</td>\n",
       "      <td>explanation why the edits made under my userna...</td>\n",
       "    </tr>\n",
       "    <tr>\n",
       "      <th>1</th>\n",
       "      <td>D'aww! He matches this background colour I'm s...</td>\n",
       "      <td>0</td>\n",
       "      <td>d aww he matches this background colour i m se...</td>\n",
       "    </tr>\n",
       "    <tr>\n",
       "      <th>2</th>\n",
       "      <td>Hey man, I'm really not trying to edit war. It...</td>\n",
       "      <td>0</td>\n",
       "      <td>hey man i m really not trying to edit war it s...</td>\n",
       "    </tr>\n",
       "    <tr>\n",
       "      <th>3</th>\n",
       "      <td>\"\\nMore\\nI can't make any real suggestions on ...</td>\n",
       "      <td>0</td>\n",
       "      <td>more i can t make any real suggestions on impr...</td>\n",
       "    </tr>\n",
       "    <tr>\n",
       "      <th>4</th>\n",
       "      <td>You, sir, are my hero. Any chance you remember...</td>\n",
       "      <td>0</td>\n",
       "      <td>you sir are my hero any chance you remember wh...</td>\n",
       "    </tr>\n",
       "  </tbody>\n",
       "</table>\n",
       "</div>"
      ],
      "text/plain": [
       "                                                text  toxic  \\\n",
       "0  Explanation\\nWhy the edits made under my usern...      0   \n",
       "1  D'aww! He matches this background colour I'm s...      0   \n",
       "2  Hey man, I'm really not trying to edit war. It...      0   \n",
       "3  \"\\nMore\\nI can't make any real suggestions on ...      0   \n",
       "4  You, sir, are my hero. Any chance you remember...      0   \n",
       "\n",
       "                                        cleared_text  \n",
       "0  explanation why the edits made under my userna...  \n",
       "1  d aww he matches this background colour i m se...  \n",
       "2  hey man i m really not trying to edit war it s...  \n",
       "3  more i can t make any real suggestions on impr...  \n",
       "4  you sir are my hero any chance you remember wh...  "
      ]
     },
     "execution_count": 13,
     "metadata": {},
     "output_type": "execute_result"
    }
   ],
   "source": [
    "data.head()"
   ]
  },
  {
   "cell_type": "code",
   "execution_count": 14,
   "metadata": {},
   "outputs": [],
   "source": [
    "# лемматизация текста\n",
    "lemmatizer = WordNetLemmatizer()\n",
    "\n",
    "wordnet_map ={\"N\": wordnet.NOUN,\n",
    "             \"V\": wordnet.VERB,\n",
    "             \"J\": wordnet.ADJ,\n",
    "             \"R\": wordnet.ADV}\n",
    "\n",
    "# лемматизируем слово в зависимости от части речи, которым оно является\n",
    "# если в слове нет такой части речи, то по умолчанию принимаем за существительное\n",
    "\n",
    "def lemmatize(text):\n",
    "    text_with_pos_tag = pos_tag(text.split())\n",
    "    return \" \".join([lemmatizer.lemmatize(word, wordnet_map.get(pos[0],wordnet.NOUN)) for word, pos in text_with_pos_tag])\n"
   ]
  },
  {
   "cell_type": "code",
   "execution_count": 15,
   "metadata": {},
   "outputs": [
    {
     "data": {
      "application/vnd.jupyter.widget-view+json": {
       "model_id": "e1dd298ea5c042b3b5d5f63f36f34bbb",
       "version_major": 2,
       "version_minor": 0
      },
      "text/plain": [
       "  0%|          | 0/159292 [00:00<?, ?it/s]"
      ]
     },
     "metadata": {},
     "output_type": "display_data"
    },
    {
     "name": "stdout",
     "output_type": "stream",
     "text": [
      "CPU times: user 8min 31s, sys: 7.72 s, total: 8min 38s\n",
      "Wall time: 8min 53s\n"
     ]
    }
   ],
   "source": [
    "%%time\n",
    "\n",
    "tqdm.pandas()\n",
    "\n",
    "data['lemm_text'] = data['cleared_text'].progress_apply(lemmatize)"
   ]
  },
  {
   "cell_type": "code",
   "execution_count": 16,
   "metadata": {},
   "outputs": [
    {
     "data": {
      "text/html": [
       "<div>\n",
       "<style scoped>\n",
       "    .dataframe tbody tr th:only-of-type {\n",
       "        vertical-align: middle;\n",
       "    }\n",
       "\n",
       "    .dataframe tbody tr th {\n",
       "        vertical-align: top;\n",
       "    }\n",
       "\n",
       "    .dataframe thead th {\n",
       "        text-align: right;\n",
       "    }\n",
       "</style>\n",
       "<table border=\"1\" class=\"dataframe\">\n",
       "  <thead>\n",
       "    <tr style=\"text-align: right;\">\n",
       "      <th></th>\n",
       "      <th>text</th>\n",
       "      <th>toxic</th>\n",
       "      <th>cleared_text</th>\n",
       "      <th>lemm_text</th>\n",
       "    </tr>\n",
       "  </thead>\n",
       "  <tbody>\n",
       "    <tr>\n",
       "      <th>0</th>\n",
       "      <td>Explanation\\nWhy the edits made under my usern...</td>\n",
       "      <td>0</td>\n",
       "      <td>explanation why the edits made under my userna...</td>\n",
       "      <td>explanation why the edits make under my userna...</td>\n",
       "    </tr>\n",
       "    <tr>\n",
       "      <th>1</th>\n",
       "      <td>D'aww! He matches this background colour I'm s...</td>\n",
       "      <td>0</td>\n",
       "      <td>d aww he matches this background colour i m se...</td>\n",
       "      <td>d aww he match this background colour i m seem...</td>\n",
       "    </tr>\n",
       "    <tr>\n",
       "      <th>2</th>\n",
       "      <td>Hey man, I'm really not trying to edit war. It...</td>\n",
       "      <td>0</td>\n",
       "      <td>hey man i m really not trying to edit war it s...</td>\n",
       "      <td>hey man i m really not try to edit war it s ju...</td>\n",
       "    </tr>\n",
       "    <tr>\n",
       "      <th>3</th>\n",
       "      <td>\"\\nMore\\nI can't make any real suggestions on ...</td>\n",
       "      <td>0</td>\n",
       "      <td>more i can t make any real suggestions on impr...</td>\n",
       "      <td>more i can t make any real suggestion on impro...</td>\n",
       "    </tr>\n",
       "    <tr>\n",
       "      <th>4</th>\n",
       "      <td>You, sir, are my hero. Any chance you remember...</td>\n",
       "      <td>0</td>\n",
       "      <td>you sir are my hero any chance you remember wh...</td>\n",
       "      <td>you sir be my hero any chance you remember wha...</td>\n",
       "    </tr>\n",
       "  </tbody>\n",
       "</table>\n",
       "</div>"
      ],
      "text/plain": [
       "                                                text  toxic  \\\n",
       "0  Explanation\\nWhy the edits made under my usern...      0   \n",
       "1  D'aww! He matches this background colour I'm s...      0   \n",
       "2  Hey man, I'm really not trying to edit war. It...      0   \n",
       "3  \"\\nMore\\nI can't make any real suggestions on ...      0   \n",
       "4  You, sir, are my hero. Any chance you remember...      0   \n",
       "\n",
       "                                        cleared_text  \\\n",
       "0  explanation why the edits made under my userna...   \n",
       "1  d aww he matches this background colour i m se...   \n",
       "2  hey man i m really not trying to edit war it s...   \n",
       "3  more i can t make any real suggestions on impr...   \n",
       "4  you sir are my hero any chance you remember wh...   \n",
       "\n",
       "                                           lemm_text  \n",
       "0  explanation why the edits make under my userna...  \n",
       "1  d aww he match this background colour i m seem...  \n",
       "2  hey man i m really not try to edit war it s ju...  \n",
       "3  more i can t make any real suggestion on impro...  \n",
       "4  you sir be my hero any chance you remember wha...  "
      ]
     },
     "execution_count": 16,
     "metadata": {},
     "output_type": "execute_result"
    }
   ],
   "source": [
    "data.head()"
   ]
  },
  {
   "cell_type": "code",
   "execution_count": 17,
   "metadata": {},
   "outputs": [],
   "source": [
    "#очистка текста от стоп-слов\n",
    "\n",
    "stopwords = set(stopwords.words('english'))\n",
    "\n",
    "def delete_stopwords(text):\n",
    "    text = \" \".join([word for word in text.split() if word not in stopwords])\n",
    "    return text"
   ]
  },
  {
   "cell_type": "code",
   "execution_count": 18,
   "metadata": {},
   "outputs": [
    {
     "data": {
      "text/html": [
       "<div>\n",
       "<style scoped>\n",
       "    .dataframe tbody tr th:only-of-type {\n",
       "        vertical-align: middle;\n",
       "    }\n",
       "\n",
       "    .dataframe tbody tr th {\n",
       "        vertical-align: top;\n",
       "    }\n",
       "\n",
       "    .dataframe thead th {\n",
       "        text-align: right;\n",
       "    }\n",
       "</style>\n",
       "<table border=\"1\" class=\"dataframe\">\n",
       "  <thead>\n",
       "    <tr style=\"text-align: right;\">\n",
       "      <th></th>\n",
       "      <th>text</th>\n",
       "      <th>toxic</th>\n",
       "      <th>cleared_text</th>\n",
       "      <th>lemm_text</th>\n",
       "      <th>lemm_text_wo_stop</th>\n",
       "    </tr>\n",
       "  </thead>\n",
       "  <tbody>\n",
       "    <tr>\n",
       "      <th>0</th>\n",
       "      <td>Explanation\\nWhy the edits made under my usern...</td>\n",
       "      <td>0</td>\n",
       "      <td>explanation why the edits made under my userna...</td>\n",
       "      <td>explanation why the edits make under my userna...</td>\n",
       "      <td>explanation edits make username hardcore metal...</td>\n",
       "    </tr>\n",
       "    <tr>\n",
       "      <th>1</th>\n",
       "      <td>D'aww! He matches this background colour I'm s...</td>\n",
       "      <td>0</td>\n",
       "      <td>d aww he matches this background colour i m se...</td>\n",
       "      <td>d aww he match this background colour i m seem...</td>\n",
       "      <td>aww match background colour seemingly stick th...</td>\n",
       "    </tr>\n",
       "    <tr>\n",
       "      <th>2</th>\n",
       "      <td>Hey man, I'm really not trying to edit war. It...</td>\n",
       "      <td>0</td>\n",
       "      <td>hey man i m really not trying to edit war it s...</td>\n",
       "      <td>hey man i m really not try to edit war it s ju...</td>\n",
       "      <td>hey man really try edit war guy constantly rem...</td>\n",
       "    </tr>\n",
       "    <tr>\n",
       "      <th>3</th>\n",
       "      <td>\"\\nMore\\nI can't make any real suggestions on ...</td>\n",
       "      <td>0</td>\n",
       "      <td>more i can t make any real suggestions on impr...</td>\n",
       "      <td>more i can t make any real suggestion on impro...</td>\n",
       "      <td>make real suggestion improvement wonder sectio...</td>\n",
       "    </tr>\n",
       "    <tr>\n",
       "      <th>4</th>\n",
       "      <td>You, sir, are my hero. Any chance you remember...</td>\n",
       "      <td>0</td>\n",
       "      <td>you sir are my hero any chance you remember wh...</td>\n",
       "      <td>you sir be my hero any chance you remember wha...</td>\n",
       "      <td>sir hero chance remember page</td>\n",
       "    </tr>\n",
       "  </tbody>\n",
       "</table>\n",
       "</div>"
      ],
      "text/plain": [
       "                                                text  toxic  \\\n",
       "0  Explanation\\nWhy the edits made under my usern...      0   \n",
       "1  D'aww! He matches this background colour I'm s...      0   \n",
       "2  Hey man, I'm really not trying to edit war. It...      0   \n",
       "3  \"\\nMore\\nI can't make any real suggestions on ...      0   \n",
       "4  You, sir, are my hero. Any chance you remember...      0   \n",
       "\n",
       "                                        cleared_text  \\\n",
       "0  explanation why the edits made under my userna...   \n",
       "1  d aww he matches this background colour i m se...   \n",
       "2  hey man i m really not trying to edit war it s...   \n",
       "3  more i can t make any real suggestions on impr...   \n",
       "4  you sir are my hero any chance you remember wh...   \n",
       "\n",
       "                                           lemm_text  \\\n",
       "0  explanation why the edits make under my userna...   \n",
       "1  d aww he match this background colour i m seem...   \n",
       "2  hey man i m really not try to edit war it s ju...   \n",
       "3  more i can t make any real suggestion on impro...   \n",
       "4  you sir be my hero any chance you remember wha...   \n",
       "\n",
       "                                   lemm_text_wo_stop  \n",
       "0  explanation edits make username hardcore metal...  \n",
       "1  aww match background colour seemingly stick th...  \n",
       "2  hey man really try edit war guy constantly rem...  \n",
       "3  make real suggestion improvement wonder sectio...  \n",
       "4                      sir hero chance remember page  "
      ]
     },
     "execution_count": 18,
     "metadata": {},
     "output_type": "execute_result"
    }
   ],
   "source": [
    "data['lemm_text_wo_stop'] = data['lemm_text'].apply(delete_stopwords)\n",
    "data.head()"
   ]
  },
  {
   "cell_type": "markdown",
   "metadata": {},
   "source": [
    "### Частотный анализ слов"
   ]
  },
  {
   "cell_type": "markdown",
   "metadata": {},
   "source": [
    "Создадим облако слов для понимания наиболее часто встречающихся слов в комментариях."
   ]
  },
  {
   "cell_type": "code",
   "execution_count": 19,
   "metadata": {},
   "outputs": [
    {
     "data": {
      "image/png": "[encoded data removed]",
      "text/plain": [
       "<Figure size 720x720 with 1 Axes>"
      ]
     },
     "metadata": {
      "needs_background": "light"
     },
     "output_type": "display_data"
    }
   ],
   "source": [
    "wordcloud = WordCloud(colormap= 'Set2', max_words = 90).generate(\" \".join(data['lemm_text_wo_stop']))\n",
    "plt.figure(figsize = (10,10))\n",
    "plt.imshow(wordcloud)\n",
    "plt.axis('off')\n",
    "plt.show()"
   ]
  },
  {
   "cell_type": "markdown",
   "metadata": {},
   "source": [
    "Проведем частотный анализ текста для первых 60 наиболее часто встречающихся слов в комментариях."
   ]
  },
  {
   "cell_type": "code",
   "execution_count": 20,
   "metadata": {},
   "outputs": [
    {
     "data": {
      "image/png": "[encoded data removed]",
      "text/plain": [
       "<Figure size 1080x432 with 1 Axes>"
      ]
     },
     "metadata": {
      "needs_background": "light"
     },
     "output_type": "display_data"
    }
   ],
   "source": [
    "from nltk import word_tokenize\n",
    "text_tokens = word_tokenize(\" \".join(data['lemm_text_wo_stop']))\n",
    "text = nltk.Text(text_tokens)\n",
    "fdist = FreqDist(text)\n",
    "plt.figure(figsize=(15,6))\n",
    "plt.suptitle(\"Words' frequency analysis\")\n",
    "fdist.plot(60,cumulative=False)\n",
    "plt.show()"
   ]
  },
  {
   "cell_type": "markdown",
   "metadata": {},
   "source": [
    "Частотный анализ текста и облако слов наглядно демонстрируют факт того, что большинство комментариев имеют \n",
    "позитивный нетоксичный характер."
   ]
  },
  {
   "cell_type": "markdown",
   "metadata": {},
   "source": [
    "### Добавление новых признаков"
   ]
  },
  {
   "cell_type": "markdown",
   "metadata": {},
   "source": [
    "Добавим новые признаки:\n",
    "    \n",
    "    - lenght: общее количество символов в комментарии\n",
    "    - noun: количество существительных в комментарии\n",
    "    - verb: количество глаголов в комментарии\n",
    "    - adj: количество прилагательных в комментарии\n",
    "    - adv: количество наречий в комментарии\n",
    "    - other: количество остальных частей речи в комментарии\n",
    "    - words_ number: количество слов в комментарии"
   ]
  },
  {
   "cell_type": "code",
   "execution_count": 21,
   "metadata": {},
   "outputs": [],
   "source": [
    "#общее количество символов в комментарии\n",
    "    \n",
    "data['lenght'] = data['cleared_text'].apply(len)"
   ]
  },
  {
   "cell_type": "code",
   "execution_count": 22,
   "metadata": {},
   "outputs": [],
   "source": [
    "# функция подсчета частей речи в тексте\n",
    "def part(text):\n",
    "    text_with_pos_tag = pos_tag(text.split())\n",
    "    noun =0\n",
    "    verb =0\n",
    "    adj=0\n",
    "    adv =0\n",
    "    other =0\n",
    "    for word, pos in text_with_pos_tag:\n",
    "        if pos[0] == 'N':\n",
    "            noun += 1\n",
    "        elif pos[0] == 'V':\n",
    "            verb += 1\n",
    "        elif pos[0] == 'J':\n",
    "            adj += 1\n",
    "        elif pos[0] == 'R':\n",
    "            adv += 1 \n",
    "        else:\n",
    "            other +=1\n",
    "    return noun, verb, adj, adv, other"
   ]
  },
  {
   "cell_type": "code",
   "execution_count": 23,
   "metadata": {},
   "outputs": [
    {
     "data": {
      "application/vnd.jupyter.widget-view+json": {
       "model_id": "0e76625b32d9497483bb5202889f4c0a",
       "version_major": 2,
       "version_minor": 0
      },
      "text/plain": [
       "  0%|          | 0/159292 [00:00<?, ?it/s]"
      ]
     },
     "metadata": {},
     "output_type": "display_data"
    }
   ],
   "source": [
    "tqdm.pandas()\n",
    "data['list'] = data['cleared_text'].progress_apply(part)"
   ]
  },
  {
   "cell_type": "code",
   "execution_count": 24,
   "metadata": {},
   "outputs": [],
   "source": [
    "data['noun'] = data['list'].str[0]\n",
    "data['verb'] = data['list'].str[1]\n",
    "data['adj'] = data['list'].str[2]\n",
    "data['adv'] = data['list'].str[3]\n",
    "data['other'] = data['list'].str[4]"
   ]
  },
  {
   "cell_type": "code",
   "execution_count": 25,
   "metadata": {},
   "outputs": [],
   "source": [
    "data = data.drop(['list'], axis=1)"
   ]
  },
  {
   "cell_type": "code",
   "execution_count": 26,
   "metadata": {},
   "outputs": [],
   "source": [
    "# функция подсчета числа слов в тексте\n",
    "def words_number(text):\n",
    "    text = text.split()\n",
    "    words_number = len(text)\n",
    "    return words_number\n",
    "\n",
    "data['words_number'] = data['cleared_text'].apply(words_number)"
   ]
  },
  {
   "cell_type": "code",
   "execution_count": 27,
   "metadata": {},
   "outputs": [
    {
     "data": {
      "text/html": [
       "<div>\n",
       "<style scoped>\n",
       "    .dataframe tbody tr th:only-of-type {\n",
       "        vertical-align: middle;\n",
       "    }\n",
       "\n",
       "    .dataframe tbody tr th {\n",
       "        vertical-align: top;\n",
       "    }\n",
       "\n",
       "    .dataframe thead th {\n",
       "        text-align: right;\n",
       "    }\n",
       "</style>\n",
       "<table border=\"1\" class=\"dataframe\">\n",
       "  <thead>\n",
       "    <tr style=\"text-align: right;\">\n",
       "      <th></th>\n",
       "      <th>text</th>\n",
       "      <th>toxic</th>\n",
       "      <th>cleared_text</th>\n",
       "      <th>lemm_text</th>\n",
       "      <th>lemm_text_wo_stop</th>\n",
       "      <th>lenght</th>\n",
       "      <th>noun</th>\n",
       "      <th>verb</th>\n",
       "      <th>adj</th>\n",
       "      <th>adv</th>\n",
       "      <th>other</th>\n",
       "      <th>words_number</th>\n",
       "    </tr>\n",
       "  </thead>\n",
       "  <tbody>\n",
       "    <tr>\n",
       "      <th>0</th>\n",
       "      <td>Explanation\\nWhy the edits made under my usern...</td>\n",
       "      <td>0</td>\n",
       "      <td>explanation why the edits made under my userna...</td>\n",
       "      <td>explanation why the edits make under my userna...</td>\n",
       "      <td>explanation edits make username hardcore metal...</td>\n",
       "      <td>248</td>\n",
       "      <td>17</td>\n",
       "      <td>8</td>\n",
       "      <td>5</td>\n",
       "      <td>2</td>\n",
       "      <td>14</td>\n",
       "      <td>46</td>\n",
       "    </tr>\n",
       "    <tr>\n",
       "      <th>1</th>\n",
       "      <td>D'aww! He matches this background colour I'm s...</td>\n",
       "      <td>0</td>\n",
       "      <td>d aww he matches this background colour i m se...</td>\n",
       "      <td>d aww he match this background colour i m seem...</td>\n",
       "      <td>aww match background colour seemingly stick th...</td>\n",
       "      <td>88</td>\n",
       "      <td>6</td>\n",
       "      <td>4</td>\n",
       "      <td>1</td>\n",
       "      <td>1</td>\n",
       "      <td>4</td>\n",
       "      <td>16</td>\n",
       "    </tr>\n",
       "    <tr>\n",
       "      <th>2</th>\n",
       "      <td>Hey man, I'm really not trying to edit war. It...</td>\n",
       "      <td>0</td>\n",
       "      <td>hey man i m really not trying to edit war it s...</td>\n",
       "      <td>hey man i m really not try to edit war it s ju...</td>\n",
       "      <td>hey man really try edit war guy constantly rem...</td>\n",
       "      <td>229</td>\n",
       "      <td>10</td>\n",
       "      <td>10</td>\n",
       "      <td>2</td>\n",
       "      <td>6</td>\n",
       "      <td>16</td>\n",
       "      <td>44</td>\n",
       "    </tr>\n",
       "    <tr>\n",
       "      <th>3</th>\n",
       "      <td>\"\\nMore\\nI can't make any real suggestions on ...</td>\n",
       "      <td>0</td>\n",
       "      <td>more i can t make any real suggestions on impr...</td>\n",
       "      <td>more i can t make any real suggestion on impro...</td>\n",
       "      <td>make real suggestion improvement wonder sectio...</td>\n",
       "      <td>601</td>\n",
       "      <td>31</td>\n",
       "      <td>23</td>\n",
       "      <td>7</td>\n",
       "      <td>9</td>\n",
       "      <td>46</td>\n",
       "      <td>116</td>\n",
       "    </tr>\n",
       "    <tr>\n",
       "      <th>4</th>\n",
       "      <td>You, sir, are my hero. Any chance you remember...</td>\n",
       "      <td>0</td>\n",
       "      <td>you sir are my hero any chance you remember wh...</td>\n",
       "      <td>you sir be my hero any chance you remember wha...</td>\n",
       "      <td>sir hero chance remember page</td>\n",
       "      <td>63</td>\n",
       "      <td>3</td>\n",
       "      <td>4</td>\n",
       "      <td>0</td>\n",
       "      <td>0</td>\n",
       "      <td>7</td>\n",
       "      <td>14</td>\n",
       "    </tr>\n",
       "  </tbody>\n",
       "</table>\n",
       "</div>"
      ],
      "text/plain": [
       "                                                text  toxic  \\\n",
       "0  Explanation\\nWhy the edits made under my usern...      0   \n",
       "1  D'aww! He matches this background colour I'm s...      0   \n",
       "2  Hey man, I'm really not trying to edit war. It...      0   \n",
       "3  \"\\nMore\\nI can't make any real suggestions on ...      0   \n",
       "4  You, sir, are my hero. Any chance you remember...      0   \n",
       "\n",
       "                                        cleared_text  \\\n",
       "0  explanation why the edits made under my userna...   \n",
       "1  d aww he matches this background colour i m se...   \n",
       "2  hey man i m really not trying to edit war it s...   \n",
       "3  more i can t make any real suggestions on impr...   \n",
       "4  you sir are my hero any chance you remember wh...   \n",
       "\n",
       "                                           lemm_text  \\\n",
       "0  explanation why the edits make under my userna...   \n",
       "1  d aww he match this background colour i m seem...   \n",
       "2  hey man i m really not try to edit war it s ju...   \n",
       "3  more i can t make any real suggestion on impro...   \n",
       "4  you sir be my hero any chance you remember wha...   \n",
       "\n",
       "                                   lemm_text_wo_stop  lenght  noun  verb  adj  \\\n",
       "0  explanation edits make username hardcore metal...     248    17     8    5   \n",
       "1  aww match background colour seemingly stick th...      88     6     4    1   \n",
       "2  hey man really try edit war guy constantly rem...     229    10    10    2   \n",
       "3  make real suggestion improvement wonder sectio...     601    31    23    7   \n",
       "4                      sir hero chance remember page      63     3     4    0   \n",
       "\n",
       "   adv  other  words_number  \n",
       "0    2     14            46  \n",
       "1    1      4            16  \n",
       "2    6     16            44  \n",
       "3    9     46           116  \n",
       "4    0      7            14  "
      ]
     },
     "execution_count": 27,
     "metadata": {},
     "output_type": "execute_result"
    }
   ],
   "source": [
    "data.head()"
   ]
  },
  {
   "cell_type": "code",
   "execution_count": 28,
   "metadata": {},
   "outputs": [],
   "source": [
    "data = data.drop(['text', 'cleared_text', 'lemm_text'], axis=1)"
   ]
  },
  {
   "cell_type": "markdown",
   "metadata": {},
   "source": [
    "### Разделение выборки на части"
   ]
  },
  {
   "cell_type": "markdown",
   "metadata": {},
   "source": [
    "Выделим признаки и целевой показатель. Разделим выборку на обучающую и тестовую в соотношении 75% : 25% соответственно."
   ]
  },
  {
   "cell_type": "code",
   "execution_count": 29,
   "metadata": {},
   "outputs": [],
   "source": [
    "features = data.drop(['toxic'], axis=1)\n",
    "target = data['toxic']\n",
    "\n",
    "features_train,features_test, target_train, target_test = train_test_split (features, target, \\\n",
    "                                                                    test_size = 0.25, random_state = 123, stratify = target)"
   ]
  },
  {
   "cell_type": "markdown",
   "metadata": {},
   "source": [
    "<b> ВЫВОД: </b> \n",
    "На первоначальном этапе исследования выполнены следующие шаги:\n",
    "- проведен первичный анализ имеющихся данных\n",
    "- осуществлена предобработка выборки: проверка наличия пропусков, неинформативных данных и явных дубликатов\n",
    "- проведена очистка и лемматизация текста, а также удаление стоп-слов\n",
    "- выделены признаки и целевой показатель, выборка разделена на обучающую и тестовую части.\n",
    "\n",
    "Сделаны следующие значимые выводы:\n",
    "- целевой показатель - бинарная качественная переменная, соответсвенно перед нами стоит задача бинарной классификации\n",
    "- присутствует дисбаланс данных по целевому признаку, это нужно учесть при моделировании\n",
    "- в данных нет пропусков и дубликатов\n",
    "\n",
    "Выборка готова к моделированию."
   ]
  },
  {
   "cell_type": "markdown",
   "metadata": {},
   "source": [
    "## Обучение"
   ]
  },
  {
   "cell_type": "markdown",
   "metadata": {},
   "source": [
    "Обучим три модели классификации:\n",
    "   - LogisticRegression\n",
    "   - CatBoostClassifier\n",
    "   - LightGBMClassifier\n",
    "\n",
    "Поскольку целевой признак несбалансирован по классам, будем использовать параметр для балансировки методом взвешивания классов.\n",
    "Подберем гиперпараметры, все полученнные результаты по лучшим моделям запомним с целью дальнейшего сравнения и выбора наилучшей."
   ]
  },
  {
   "cell_type": "markdown",
   "metadata": {},
   "source": [
    "### LogisticRegression"
   ]
  },
  {
   "cell_type": "code",
   "execution_count": 30,
   "metadata": {},
   "outputs": [
    {
     "name": "stderr",
     "output_type": "stream",
     "text": [
      "/opt/conda/lib/python3.9/site-packages/sklearn/linear_model/_logistic.py:763: ConvergenceWarning: lbfgs failed to converge (status=1):\n",
      "STOP: TOTAL NO. of ITERATIONS REACHED LIMIT.\n",
      "\n",
      "Increase the number of iterations (max_iter) or scale the data as shown in:\n",
      "    https://scikit-learn.org/stable/modules/preprocessing.html\n",
      "Please also refer to the documentation for alternative solver options:\n",
      "    https://scikit-learn.org/stable/modules/linear_model.html#logistic-regression\n",
      "  n_iter_i = _check_optimize_result(\n",
      "/opt/conda/lib/python3.9/site-packages/sklearn/linear_model/_logistic.py:763: ConvergenceWarning: lbfgs failed to converge (status=1):\n",
      "STOP: TOTAL NO. of ITERATIONS REACHED LIMIT.\n",
      "\n",
      "Increase the number of iterations (max_iter) or scale the data as shown in:\n",
      "    https://scikit-learn.org/stable/modules/preprocessing.html\n",
      "Please also refer to the documentation for alternative solver options:\n",
      "    https://scikit-learn.org/stable/modules/linear_model.html#logistic-regression\n",
      "  n_iter_i = _check_optimize_result(\n",
      "/opt/conda/lib/python3.9/site-packages/sklearn/linear_model/_logistic.py:763: ConvergenceWarning: lbfgs failed to converge (status=1):\n",
      "STOP: TOTAL NO. of ITERATIONS REACHED LIMIT.\n",
      "\n",
      "Increase the number of iterations (max_iter) or scale the data as shown in:\n",
      "    https://scikit-learn.org/stable/modules/preprocessing.html\n",
      "Please also refer to the documentation for alternative solver options:\n",
      "    https://scikit-learn.org/stable/modules/linear_model.html#logistic-regression\n",
      "  n_iter_i = _check_optimize_result(\n",
      "/opt/conda/lib/python3.9/site-packages/sklearn/linear_model/_logistic.py:763: ConvergenceWarning: lbfgs failed to converge (status=1):\n",
      "STOP: TOTAL NO. of ITERATIONS REACHED LIMIT.\n",
      "\n",
      "Increase the number of iterations (max_iter) or scale the data as shown in:\n",
      "    https://scikit-learn.org/stable/modules/preprocessing.html\n",
      "Please also refer to the documentation for alternative solver options:\n",
      "    https://scikit-learn.org/stable/modules/linear_model.html#logistic-regression\n",
      "  n_iter_i = _check_optimize_result(\n",
      "/opt/conda/lib/python3.9/site-packages/sklearn/linear_model/_logistic.py:763: ConvergenceWarning: lbfgs failed to converge (status=1):\n",
      "STOP: TOTAL NO. of ITERATIONS REACHED LIMIT.\n",
      "\n",
      "Increase the number of iterations (max_iter) or scale the data as shown in:\n",
      "    https://scikit-learn.org/stable/modules/preprocessing.html\n",
      "Please also refer to the documentation for alternative solver options:\n",
      "    https://scikit-learn.org/stable/modules/linear_model.html#logistic-regression\n",
      "  n_iter_i = _check_optimize_result(\n",
      "/opt/conda/lib/python3.9/site-packages/sklearn/linear_model/_logistic.py:763: ConvergenceWarning: lbfgs failed to converge (status=1):\n",
      "STOP: TOTAL NO. of ITERATIONS REACHED LIMIT.\n",
      "\n",
      "Increase the number of iterations (max_iter) or scale the data as shown in:\n",
      "    https://scikit-learn.org/stable/modules/preprocessing.html\n",
      "Please also refer to the documentation for alternative solver options:\n",
      "    https://scikit-learn.org/stable/modules/linear_model.html#logistic-regression\n",
      "  n_iter_i = _check_optimize_result(\n",
      "/opt/conda/lib/python3.9/site-packages/sklearn/linear_model/_logistic.py:763: ConvergenceWarning: lbfgs failed to converge (status=1):\n",
      "STOP: TOTAL NO. of ITERATIONS REACHED LIMIT.\n",
      "\n",
      "Increase the number of iterations (max_iter) or scale the data as shown in:\n",
      "    https://scikit-learn.org/stable/modules/preprocessing.html\n",
      "Please also refer to the documentation for alternative solver options:\n",
      "    https://scikit-learn.org/stable/modules/linear_model.html#logistic-regression\n",
      "  n_iter_i = _check_optimize_result(\n",
      "/opt/conda/lib/python3.9/site-packages/sklearn/linear_model/_logistic.py:763: ConvergenceWarning: lbfgs failed to converge (status=1):\n",
      "STOP: TOTAL NO. of ITERATIONS REACHED LIMIT.\n",
      "\n",
      "Increase the number of iterations (max_iter) or scale the data as shown in:\n",
      "    https://scikit-learn.org/stable/modules/preprocessing.html\n",
      "Please also refer to the documentation for alternative solver options:\n",
      "    https://scikit-learn.org/stable/modules/linear_model.html#logistic-regression\n",
      "  n_iter_i = _check_optimize_result(\n",
      "/opt/conda/lib/python3.9/site-packages/sklearn/linear_model/_logistic.py:763: ConvergenceWarning: lbfgs failed to converge (status=1):\n",
      "STOP: TOTAL NO. of ITERATIONS REACHED LIMIT.\n",
      "\n",
      "Increase the number of iterations (max_iter) or scale the data as shown in:\n",
      "    https://scikit-learn.org/stable/modules/preprocessing.html\n",
      "Please also refer to the documentation for alternative solver options:\n",
      "    https://scikit-learn.org/stable/modules/linear_model.html#logistic-regression\n",
      "  n_iter_i = _check_optimize_result(\n",
      "/opt/conda/lib/python3.9/site-packages/sklearn/linear_model/_logistic.py:763: ConvergenceWarning: lbfgs failed to converge (status=1):\n",
      "STOP: TOTAL NO. of ITERATIONS REACHED LIMIT.\n",
      "\n",
      "Increase the number of iterations (max_iter) or scale the data as shown in:\n",
      "    https://scikit-learn.org/stable/modules/preprocessing.html\n",
      "Please also refer to the documentation for alternative solver options:\n",
      "    https://scikit-learn.org/stable/modules/linear_model.html#logistic-regression\n",
      "  n_iter_i = _check_optimize_result(\n",
      "/opt/conda/lib/python3.9/site-packages/sklearn/linear_model/_logistic.py:763: ConvergenceWarning: lbfgs failed to converge (status=1):\n",
      "STOP: TOTAL NO. of ITERATIONS REACHED LIMIT.\n",
      "\n",
      "Increase the number of iterations (max_iter) or scale the data as shown in:\n",
      "    https://scikit-learn.org/stable/modules/preprocessing.html\n",
      "Please also refer to the documentation for alternative solver options:\n",
      "    https://scikit-learn.org/stable/modules/linear_model.html#logistic-regression\n",
      "  n_iter_i = _check_optimize_result(\n"
     ]
    },
    {
     "name": "stdout",
     "output_type": "stream",
     "text": [
      "Наилучшая модель LogisticRegression: {'clf__C': 10, 'clf__max_iter': 250}\n",
      "F-1_LogisticRegression = 0.77348117106659\n",
      "CPU times: user 23min 7s, sys: 22min 26s, total: 45min 34s\n",
      "Wall time: 45min 37s\n"
     ]
    },
    {
     "name": "stderr",
     "output_type": "stream",
     "text": [
      "/opt/conda/lib/python3.9/site-packages/sklearn/linear_model/_logistic.py:763: ConvergenceWarning: lbfgs failed to converge (status=1):\n",
      "STOP: TOTAL NO. of ITERATIONS REACHED LIMIT.\n",
      "\n",
      "Increase the number of iterations (max_iter) or scale the data as shown in:\n",
      "    https://scikit-learn.org/stable/modules/preprocessing.html\n",
      "Please also refer to the documentation for alternative solver options:\n",
      "    https://scikit-learn.org/stable/modules/linear_model.html#logistic-regression\n",
      "  n_iter_i = _check_optimize_result(\n"
     ]
    }
   ],
   "source": [
    "%%time\n",
    "\n",
    "\n",
    "new_features = ['lenght', 'noun', 'verb', 'adj', 'adv', 'other', 'words_number']\n",
    "\n",
    "transformer_lr = make_column_transformer(\n",
    "                   (TfidfVectorizer(ngram_range=(1, 2), max_df = 0.9, min_df = 2), \"lemm_text_wo_stop\"),\n",
    "                   (StandardScaler(), new_features))\n",
    "\n",
    "pipe = Pipeline([('features_all_prepross', transformer_lr),\n",
    "                 ('clf', LogisticRegression(class_weight ='balanced', random_state = 42))\n",
    "                ])\n",
    "\n",
    "\n",
    "param_grid = {'clf__C': [1, 10],\n",
    "             'clf__max_iter' : [250, 350]}\n",
    "\n",
    "grid_lr = GridSearchCV(pipe, param_grid, cv=3, scoring='f1', n_jobs = -1)\n",
    "grid_lr.fit(features_train, target_train)\n",
    "\n",
    "lr_model_best = grid_lr.best_estimator_\n",
    "\n",
    "print('Наилучшая модель LogisticRegression:', grid_lr.best_params_)\n",
    "print(f'F-1_LogisticRegression = {grid_lr.best_score_}')"
   ]
  },
  {
   "cell_type": "markdown",
   "metadata": {},
   "source": [
    "<div class=\"alert alert-block alert-info\">\n",
    "<font size=\"4\"><b> Комментарий студента </b></font> :\n",
    " Спасибо за подсказку. Добавила новые фичи, а также перебор биграмм в tf-idf в логистическую регрессию, удалось немного улучшить метрику \n",
    "качества по сравнению с прошлым разом (примерно на 0.03)\n",
    "</div>"
   ]
  },
  {
   "cell_type": "markdown",
   "metadata": {},
   "source": [
    "### CatBoost"
   ]
  },
  {
   "cell_type": "code",
   "execution_count": 31,
   "metadata": {},
   "outputs": [
    {
     "name": "stdout",
     "output_type": "stream",
     "text": [
      "Fitting 3 folds for each of 4 candidates, totalling 12 fits\n",
      "[CV] END .......clf__learning_rate=0.1, clf__n_estimators=70; total time= 1.8min\n",
      "[CV] END .......clf__learning_rate=0.1, clf__n_estimators=70; total time= 1.8min\n",
      "[CV] END .......clf__learning_rate=0.1, clf__n_estimators=70; total time= 1.8min\n",
      "[CV] END ......clf__learning_rate=0.1, clf__n_estimators=110; total time= 2.7min\n",
      "[CV] END ......clf__learning_rate=0.1, clf__n_estimators=110; total time= 2.7min\n",
      "[CV] END ......clf__learning_rate=0.1, clf__n_estimators=110; total time= 2.7min\n",
      "[CV] END .......clf__learning_rate=0.5, clf__n_estimators=70; total time= 1.7min\n",
      "[CV] END .......clf__learning_rate=0.5, clf__n_estimators=70; total time= 1.8min\n",
      "[CV] END .......clf__learning_rate=0.5, clf__n_estimators=70; total time= 1.8min\n",
      "[CV] END ......clf__learning_rate=0.5, clf__n_estimators=110; total time= 2.6min\n",
      "[CV] END ......clf__learning_rate=0.5, clf__n_estimators=110; total time= 2.6min\n",
      "[CV] END ......clf__learning_rate=0.5, clf__n_estimators=110; total time= 2.6min\n",
      "Наилучшая модель CatBoost: {'clf__learning_rate': 0.5, 'clf__n_estimators': 110}\n",
      "F1_cat_boost = 0.7323745740124598\n",
      "CPU times: user 29min 48s, sys: 23.6 s, total: 30min 11s\n",
      "Wall time: 30min 22s\n"
     ]
    }
   ],
   "source": [
    "%%time\n",
    "\n",
    "transformer_cb = make_column_transformer((TfidfVectorizer(max_df = 0.9, min_df = 2), \\\n",
    "                                            \"lemm_text_wo_stop\"))\n",
    "\n",
    "pipe_cb = Pipeline([('features_prepross', transformer_cb), \n",
    "                 ('clf', CatBoostClassifier(random_state = 123, silent=True))])\n",
    "\n",
    "param_grid =  {'clf__learning_rate': [0.1, 0.5],\n",
    "              'clf__n_estimators': [70, 110]}\n",
    "\n",
    "cb = GridSearchCV(pipe_cb, param_grid, scoring = 'f1', cv=3, n_jobs = -1, verbose=2)\n",
    "cb.fit(features_train, target_train)\n",
    "cb_best =  cb.best_estimator_\n",
    "\n",
    "print('Наилучшая модель CatBoost:', cb.best_params_)\n",
    "print(f'F1_cat_boost = {cb.best_score_}')"
   ]
  },
  {
   "cell_type": "markdown",
   "metadata": {},
   "source": [
    "### LightGBM"
   ]
  },
  {
   "cell_type": "code",
   "execution_count": 32,
   "metadata": {},
   "outputs": [
    {
     "name": "stdout",
     "output_type": "stream",
     "text": [
      "Fitting 3 folds for each of 4 candidates, totalling 12 fits\n",
      "[CV] END .......clf__learning_rate=0.1, clf__n_estimators=70; total time= 3.7min\n",
      "[CV] END .......clf__learning_rate=0.1, clf__n_estimators=70; total time= 2.5min\n",
      "[CV] END .......clf__learning_rate=0.1, clf__n_estimators=70; total time= 1.8min\n",
      "[CV] END ......clf__learning_rate=0.1, clf__n_estimators=110; total time= 5.0min\n",
      "[CV] END ......clf__learning_rate=0.1, clf__n_estimators=110; total time= 2.3min\n",
      "[CV] END ......clf__learning_rate=0.1, clf__n_estimators=110; total time= 2.3min\n",
      "[CV] END .......clf__learning_rate=0.3, clf__n_estimators=70; total time= 1.5min\n",
      "[CV] END .......clf__learning_rate=0.3, clf__n_estimators=70; total time= 1.5min\n",
      "[CV] END .......clf__learning_rate=0.3, clf__n_estimators=70; total time= 1.5min\n",
      "[CV] END ......clf__learning_rate=0.3, clf__n_estimators=110; total time= 2.1min\n",
      "[CV] END ......clf__learning_rate=0.3, clf__n_estimators=110; total time= 2.1min\n",
      "[CV] END ......clf__learning_rate=0.3, clf__n_estimators=110; total time= 2.1min\n",
      "Наилучшая модель LightGBM: {'clf__learning_rate': 0.3, 'clf__n_estimators': 110}\n",
      "F1_lgbm = 0.7616156504158512\n",
      "CPU times: user 31min 10s, sys: 0 ns, total: 31min 10s\n",
      "Wall time: 31min 23s\n"
     ]
    }
   ],
   "source": [
    "%%time\n",
    "\n",
    "model_lgbm = LGBMClassifier(random_state = 123)\n",
    "\n",
    "transformer_lgbm = make_column_transformer((TfidfVectorizer(max_df = 0.9, min_df = 2), \\\n",
    "                                            \"lemm_text_wo_stop\"))\n",
    "\n",
    "pipe_lgbm = Pipeline([('features_prepross', transformer_lgbm), \n",
    "                 ('clf', LGBMClassifier(random_state = 123))])\n",
    "\n",
    "params = { 'clf__learning_rate': [0.1, 0.3],\n",
    "           'clf__n_estimators': [70, 110]}\n",
    "\n",
    "lgbm  = GridSearchCV(pipe_lgbm, params, cv=3, scoring='f1',n_jobs = -1, verbose = 2)\n",
    "lgbm.fit(features_train, target_train)\n",
    "lgbm_best = lgbm.best_estimator_\n",
    "\n",
    "print('Наилучшая модель LightGBM:', lgbm.best_params_)\n",
    "print(f'F1_lgbm = {lgbm.best_score_}')"
   ]
  },
  {
   "cell_type": "markdown",
   "metadata": {},
   "source": [
    "Выберем наилучшую модель, основываясь на метрику F1_score."
   ]
  },
  {
   "cell_type": "code",
   "execution_count": 33,
   "metadata": {},
   "outputs": [
    {
     "data": {
      "text/html": [
       "<div>\n",
       "<style scoped>\n",
       "    .dataframe tbody tr th:only-of-type {\n",
       "        vertical-align: middle;\n",
       "    }\n",
       "\n",
       "    .dataframe tbody tr th {\n",
       "        vertical-align: top;\n",
       "    }\n",
       "\n",
       "    .dataframe thead th {\n",
       "        text-align: right;\n",
       "    }\n",
       "</style>\n",
       "<table border=\"1\" class=\"dataframe\">\n",
       "  <thead>\n",
       "    <tr style=\"text-align: right;\">\n",
       "      <th></th>\n",
       "      <th>Model</th>\n",
       "      <th>F1_score</th>\n",
       "    </tr>\n",
       "  </thead>\n",
       "  <tbody>\n",
       "    <tr>\n",
       "      <th>0</th>\n",
       "      <td>LogisticRegression</td>\n",
       "      <td>0.773481</td>\n",
       "    </tr>\n",
       "    <tr>\n",
       "      <th>1</th>\n",
       "      <td>CatBoostClassifier</td>\n",
       "      <td>0.732375</td>\n",
       "    </tr>\n",
       "    <tr>\n",
       "      <th>2</th>\n",
       "      <td>LightGBMClassifier</td>\n",
       "      <td>0.761616</td>\n",
       "    </tr>\n",
       "  </tbody>\n",
       "</table>\n",
       "</div>"
      ],
      "text/plain": [
       "                Model  F1_score\n",
       "0  LogisticRegression  0.773481\n",
       "1  CatBoostClassifier  0.732375\n",
       "2  LightGBMClassifier  0.761616"
      ]
     },
     "metadata": {},
     "output_type": "display_data"
    }
   ],
   "source": [
    "results = pd.DataFrame({'Model': ['LogisticRegression', 'CatBoostClassifier', 'LightGBMClassifier'], \\\n",
    "                       'F1_score': [grid_lr.best_score_, cb.best_score_, lgbm.best_score_]})\n",
    "display(results)"
   ]
  },
  {
   "cell_type": "markdown",
   "metadata": {},
   "source": [
    "Наилучшей оказалось модель LightGBMClassifier. Проведем проверку на тестовой выборке."
   ]
  },
  {
   "cell_type": "code",
   "execution_count": 34,
   "metadata": {},
   "outputs": [
    {
     "name": "stderr",
     "output_type": "stream",
     "text": [
      "/opt/conda/lib/python3.9/site-packages/sklearn/linear_model/_logistic.py:763: ConvergenceWarning: lbfgs failed to converge (status=1):\n",
      "STOP: TOTAL NO. of ITERATIONS REACHED LIMIT.\n",
      "\n",
      "Increase the number of iterations (max_iter) or scale the data as shown in:\n",
      "    https://scikit-learn.org/stable/modules/preprocessing.html\n",
      "Please also refer to the documentation for alternative solver options:\n",
      "    https://scikit-learn.org/stable/modules/linear_model.html#logistic-regression\n",
      "  n_iter_i = _check_optimize_result(\n"
     ]
    },
    {
     "name": "stdout",
     "output_type": "stream",
     "text": [
      "0.7842761265580058\n"
     ]
    }
   ],
   "source": [
    "lr_model_best.fit(features_train, target_train)\n",
    "predictions = lr_model_best.predict(features_test)\n",
    "f1_score_test = f1_score(target_test, predictions)\n",
    "print(f1_score_test)"
   ]
  },
  {
   "cell_type": "markdown",
   "metadata": {},
   "source": [
    "Показатель метрики F1 > 0.75. Удалось достичь необходимого результата. Построенная модель адекватна поставленной задаче."
   ]
  },
  {
   "cell_type": "markdown",
   "metadata": {},
   "source": [
    "<b> ВЫВОД: </b> \n",
    "На данном этапе проведено моделирование с использованием трех типов моделей:\n",
    "  - LogisticRegression\n",
    "  - CatBoostClassifier\n",
    "  - LightGBMClassifier\n",
    "\n",
    "Для каждой модели осуществлен поиск гиперпараметов, найдена наилучшая модель каждого типа по метрике качества F1_score.\n",
    "Затем проведено сравнение наилучших моделей и выбрана конечная модель с наивысшим показателем F1 метрики.\n",
    "Ей оказалось LogisticRegression. \n",
    "\n",
    "Выбранная модель была проверена на тестовой выборке. Она показала результат F1-метрики > 0.75, что является адекватным поставленной задаче результатом."
   ]
  },
  {
   "cell_type": "markdown",
   "metadata": {},
   "source": [
    "## Итоговый вывод"
   ]
  },
  {
   "cell_type": "markdown",
   "metadata": {},
   "source": [
    "   Целью данного проекта было создать модель бинарной классификации с целью выявления токсичных комментариев пользователей \n",
    "интернет-магазина и отправления их на последующую модерацию.\n",
    "\n",
    "   Модели сравнивали по метрике качества F1, необходимо было превысить пороговый уровень в 0,75.\n",
    "\n",
    "   В ходе проекта исходные данные были исследованы и предобработаны. Основным этапом подготовки даннных к моделированию \n",
    "стали очистка текста, его лемматизация и исключение стоп-слов.\n",
    "\n",
    "   Затем были обучены три модели классификации. В ходе обучения исходные данные были преобразованы в TF-IDF матрицу, \n",
    "затем проведено моделирование при использовании различных классификаторов, и вычислена метрика качества.\n",
    "\n",
    "   На завершающем этапе наилучшая по метрике F1 модель проверена на тестовых данных. Ей оказалось модель LogisticRegression. \n",
    "Модель показала хороший результат и на тестовой выборке, он оказался больше 0,75.\n",
    "\n",
    "   Поставленная цель была достигнута. Разработана модель бинарной классификации, адекватная предоставленным данным."
   ]
  },
  {
   "cell_type": "markdown",
   "metadata": {},
   "source": [
    "## Чек-лист проверки"
   ]
  },
  {
   "cell_type": "markdown",
   "metadata": {},
   "source": [
    "- [x]  Jupyter Notebook открыт\n",
    "- [ ]  Весь код выполняется без ошибок\n",
    "- [ ]  Ячейки с кодом расположены в порядке исполнения\n",
    "- [ ]  Данные загружены и подготовлены\n",
    "- [ ]  Модели обучены\n",
    "- [ ]  Значение метрики *F1* не меньше 0.75\n",
    "- [ ]  Выводы написаны"
   ]
  }
 ],
 "metadata": {
  "ExecuteTimeLog": [
   {
    "duration": 1428,
    "start_time": "2023-02-14T20:26:16.128Z"
   },
   {
    "duration": 2762,
    "start_time": "2023-02-14T20:26:17.558Z"
   },
   {
    "duration": 25,
    "start_time": "2023-02-14T20:26:20.321Z"
   },
   {
    "duration": 43,
    "start_time": "2023-02-14T20:26:20.348Z"
   },
   {
    "duration": 8,
    "start_time": "2023-02-14T20:26:20.393Z"
   },
   {
    "duration": 10,
    "start_time": "2023-02-14T20:26:20.402Z"
   },
   {
    "duration": 237,
    "start_time": "2023-02-14T20:26:20.413Z"
   },
   {
    "duration": 7,
    "start_time": "2023-02-14T20:26:20.652Z"
   },
   {
    "duration": 12,
    "start_time": "2023-02-14T20:26:20.660Z"
   },
   {
    "duration": 5385,
    "start_time": "2023-02-14T20:26:20.674Z"
   },
   {
    "duration": 8,
    "start_time": "2023-02-14T20:26:26.060Z"
   },
   {
    "duration": 1177,
    "start_time": "2023-02-14T20:26:26.070Z"
   },
   {
    "duration": 507,
    "start_time": "2023-02-14T20:26:27.249Z"
   },
   {
    "duration": 2,
    "start_time": "2023-02-14T20:26:27.757Z"
   },
   {
    "duration": 19,
    "start_time": "2023-02-14T20:26:27.761Z"
   },
   {
    "duration": 1151,
    "start_time": "2023-02-14T20:26:27.781Z"
   },
   {
    "duration": 0,
    "start_time": "2023-02-14T20:26:28.934Z"
   },
   {
    "duration": 0,
    "start_time": "2023-02-14T20:26:28.936Z"
   },
   {
    "duration": 1945,
    "start_time": "2023-02-14T20:28:13.696Z"
   },
   {
    "duration": 0,
    "start_time": "2023-02-14T20:28:15.643Z"
   },
   {
    "duration": 0,
    "start_time": "2023-02-14T20:28:15.644Z"
   },
   {
    "duration": 0,
    "start_time": "2023-02-14T20:28:15.645Z"
   },
   {
    "duration": 0,
    "start_time": "2023-02-14T20:28:15.646Z"
   },
   {
    "duration": 0,
    "start_time": "2023-02-14T20:28:15.647Z"
   },
   {
    "duration": 0,
    "start_time": "2023-02-14T20:28:15.648Z"
   },
   {
    "duration": 0,
    "start_time": "2023-02-14T20:28:15.649Z"
   },
   {
    "duration": 0,
    "start_time": "2023-02-14T20:28:15.650Z"
   },
   {
    "duration": 0,
    "start_time": "2023-02-14T20:28:15.651Z"
   },
   {
    "duration": 0,
    "start_time": "2023-02-14T20:28:15.652Z"
   },
   {
    "duration": 0,
    "start_time": "2023-02-14T20:28:15.652Z"
   },
   {
    "duration": 0,
    "start_time": "2023-02-14T20:28:15.653Z"
   },
   {
    "duration": 0,
    "start_time": "2023-02-14T20:28:15.655Z"
   },
   {
    "duration": 0,
    "start_time": "2023-02-14T20:28:15.656Z"
   },
   {
    "duration": 0,
    "start_time": "2023-02-14T20:28:15.656Z"
   },
   {
    "duration": 0,
    "start_time": "2023-02-14T20:28:15.657Z"
   },
   {
    "duration": 0,
    "start_time": "2023-02-14T20:28:15.658Z"
   },
   {
    "duration": 1609,
    "start_time": "2023-02-14T20:29:10.364Z"
   },
   {
    "duration": 2096,
    "start_time": "2023-02-14T20:29:11.976Z"
   },
   {
    "duration": 29,
    "start_time": "2023-02-14T20:29:14.074Z"
   },
   {
    "duration": 30,
    "start_time": "2023-02-14T20:29:14.105Z"
   },
   {
    "duration": 10,
    "start_time": "2023-02-14T20:29:14.136Z"
   },
   {
    "duration": 10,
    "start_time": "2023-02-14T20:29:14.147Z"
   },
   {
    "duration": 238,
    "start_time": "2023-02-14T20:29:14.159Z"
   },
   {
    "duration": 8,
    "start_time": "2023-02-14T20:29:14.398Z"
   },
   {
    "duration": 4,
    "start_time": "2023-02-14T20:29:14.407Z"
   },
   {
    "duration": 5381,
    "start_time": "2023-02-14T20:29:14.412Z"
   },
   {
    "duration": 7,
    "start_time": "2023-02-14T20:29:19.795Z"
   },
   {
    "duration": 1090,
    "start_time": "2023-02-14T20:29:19.803Z"
   },
   {
    "duration": 456327,
    "start_time": "2023-02-14T20:29:20.894Z"
   },
   {
    "duration": 3,
    "start_time": "2023-02-14T20:36:57.223Z"
   },
   {
    "duration": 12,
    "start_time": "2023-02-14T20:36:57.228Z"
   },
   {
    "duration": 34,
    "start_time": "2023-02-14T20:36:57.242Z"
   },
   {
    "duration": 22,
    "start_time": "2023-02-14T20:36:57.278Z"
   },
   {
    "duration": 83,
    "start_time": "2023-02-14T20:36:57.304Z"
   },
   {
    "duration": 9,
    "start_time": "2023-02-14T20:37:24.009Z"
   },
   {
    "duration": 494904,
    "start_time": "2023-02-14T20:37:44.836Z"
   },
   {
    "duration": 9,
    "start_time": "2023-02-14T20:46:24.341Z"
   },
   {
    "duration": 71,
    "start_time": "2023-02-14T20:46:29.103Z"
   },
   {
    "duration": 102,
    "start_time": "2023-02-14T20:47:44.944Z"
   },
   {
    "duration": 73,
    "start_time": "2023-02-14T20:47:50.532Z"
   },
   {
    "duration": 70,
    "start_time": "2023-02-14T20:48:21.189Z"
   },
   {
    "duration": 101,
    "start_time": "2023-02-14T20:48:30.565Z"
   },
   {
    "duration": 6,
    "start_time": "2023-02-14T20:49:07.302Z"
   },
   {
    "duration": 19978,
    "start_time": "2023-02-14T20:49:17.193Z"
   },
   {
    "duration": 2116,
    "start_time": "2023-02-14T20:49:46.980Z"
   },
   {
    "duration": 2125,
    "start_time": "2023-02-14T20:50:14.403Z"
   },
   {
    "duration": 1691,
    "start_time": "2023-02-14T20:50:34.480Z"
   },
   {
    "duration": 72,
    "start_time": "2023-02-14T20:51:16.645Z"
   },
   {
    "duration": 638172,
    "start_time": "2023-02-14T20:51:35.652Z"
   },
   {
    "duration": 137001,
    "start_time": "2023-02-14T21:04:37.029Z"
   },
   {
    "duration": 635482,
    "start_time": "2023-02-14T21:06:56.641Z"
   },
   {
    "duration": 3590,
    "start_time": "2023-02-14T21:18:23.342Z"
   },
   {
    "duration": 28,
    "start_time": "2023-02-14T21:18:44.653Z"
   },
   {
    "duration": 14,
    "start_time": "2023-02-14T21:19:33.726Z"
   },
   {
    "duration": 16,
    "start_time": "2023-02-14T21:19:36.993Z"
   },
   {
    "duration": 10,
    "start_time": "2023-02-14T21:21:01.117Z"
   },
   {
    "duration": 10,
    "start_time": "2023-02-14T21:21:20.331Z"
   },
   {
    "duration": 34,
    "start_time": "2023-02-14T21:21:34.888Z"
   },
   {
    "duration": 5,
    "start_time": "2023-02-14T21:21:39.793Z"
   },
   {
    "duration": 3094,
    "start_time": "2023-02-14T21:23:01.117Z"
   },
   {
    "duration": 3139,
    "start_time": "2023-02-14T21:23:22.232Z"
   },
   {
    "duration": 3308,
    "start_time": "2023-02-14T21:24:09.235Z"
   },
   {
    "duration": 12,
    "start_time": "2023-02-14T21:24:58.524Z"
   },
   {
    "duration": 3199,
    "start_time": "2023-02-14T21:25:03.193Z"
   },
   {
    "duration": 3225,
    "start_time": "2023-02-14T21:25:18.912Z"
   },
   {
    "duration": 3176,
    "start_time": "2023-02-14T21:26:25.122Z"
   },
   {
    "duration": 10,
    "start_time": "2023-02-14T21:26:36.956Z"
   },
   {
    "duration": 10,
    "start_time": "2023-02-14T21:26:40.431Z"
   },
   {
    "duration": 11,
    "start_time": "2023-02-14T21:27:01.282Z"
   },
   {
    "duration": 28,
    "start_time": "2023-02-14T21:27:23.680Z"
   },
   {
    "duration": 6,
    "start_time": "2023-02-14T21:28:53.681Z"
   },
   {
    "duration": 2351,
    "start_time": "2023-02-14T21:28:53.689Z"
   },
   {
    "duration": 27,
    "start_time": "2023-02-14T21:28:56.042Z"
   },
   {
    "duration": 36,
    "start_time": "2023-02-14T21:28:56.071Z"
   },
   {
    "duration": 13,
    "start_time": "2023-02-14T21:28:56.108Z"
   },
   {
    "duration": 27,
    "start_time": "2023-02-14T21:28:56.123Z"
   },
   {
    "duration": 226,
    "start_time": "2023-02-14T21:28:56.152Z"
   },
   {
    "duration": 15,
    "start_time": "2023-02-14T21:28:56.380Z"
   },
   {
    "duration": 7,
    "start_time": "2023-02-14T21:28:56.398Z"
   },
   {
    "duration": 5481,
    "start_time": "2023-02-14T21:28:56.407Z"
   },
   {
    "duration": 7,
    "start_time": "2023-02-14T21:29:01.892Z"
   },
   {
    "duration": 41,
    "start_time": "2023-02-14T21:29:01.900Z"
   },
   {
    "duration": 442064,
    "start_time": "2023-02-14T21:29:01.943Z"
   },
   {
    "duration": 7,
    "start_time": "2023-02-14T21:36:24.009Z"
   },
   {
    "duration": 6,
    "start_time": "2023-02-14T21:36:24.018Z"
   },
   {
    "duration": 1428,
    "start_time": "2023-02-14T21:36:24.026Z"
   },
   {
    "duration": 39,
    "start_time": "2023-02-14T21:36:25.456Z"
   },
   {
    "duration": 58,
    "start_time": "2023-02-14T21:36:25.497Z"
   },
   {
    "duration": 38,
    "start_time": "2023-02-14T21:40:10.021Z"
   },
   {
    "duration": 36,
    "start_time": "2023-02-14T21:40:17.252Z"
   },
   {
    "duration": 457929,
    "start_time": "2023-02-14T21:40:27.464Z"
   },
   {
    "duration": 116,
    "start_time": "2023-02-14T21:48:05.395Z"
   },
   {
    "duration": 1,
    "start_time": "2023-02-14T21:48:05.512Z"
   },
   {
    "duration": 0,
    "start_time": "2023-02-14T21:48:05.513Z"
   },
   {
    "duration": 53,
    "start_time": "2023-02-15T06:57:24.407Z"
   },
   {
    "duration": 2052,
    "start_time": "2023-02-15T06:57:36.512Z"
   },
   {
    "duration": 2673,
    "start_time": "2023-02-15T06:57:38.566Z"
   },
   {
    "duration": 40,
    "start_time": "2023-02-15T06:57:41.241Z"
   },
   {
    "duration": 32,
    "start_time": "2023-02-15T06:57:41.283Z"
   },
   {
    "duration": 38,
    "start_time": "2023-02-15T06:57:41.317Z"
   },
   {
    "duration": 11,
    "start_time": "2023-02-15T06:57:41.356Z"
   },
   {
    "duration": 268,
    "start_time": "2023-02-15T06:57:41.369Z"
   },
   {
    "duration": 17,
    "start_time": "2023-02-15T06:57:41.638Z"
   },
   {
    "duration": 4,
    "start_time": "2023-02-15T06:57:41.657Z"
   },
   {
    "duration": 6535,
    "start_time": "2023-02-15T06:57:41.663Z"
   },
   {
    "duration": 8,
    "start_time": "2023-02-15T06:57:48.201Z"
   },
   {
    "duration": 1309,
    "start_time": "2023-02-15T06:57:48.210Z"
   },
   {
    "duration": 555923,
    "start_time": "2023-02-15T06:57:49.521Z"
   },
   {
    "duration": 13,
    "start_time": "2023-02-15T07:07:05.460Z"
   },
   {
    "duration": 19,
    "start_time": "2023-02-15T07:07:05.475Z"
   },
   {
    "duration": 1902,
    "start_time": "2023-02-15T07:07:05.497Z"
   },
   {
    "duration": 36,
    "start_time": "2023-02-15T07:07:07.401Z"
   },
   {
    "duration": 524831,
    "start_time": "2023-02-15T07:07:07.440Z"
   },
   {
    "duration": 223313,
    "start_time": "2023-02-15T07:15:52.354Z"
   },
   {
    "duration": 158,
    "start_time": "2023-02-15T07:19:35.669Z"
   },
   {
    "duration": 0,
    "start_time": "2023-02-15T07:19:35.829Z"
   },
   {
    "duration": 38,
    "start_time": "2023-02-15T07:34:40.534Z"
   },
   {
    "duration": 179,
    "start_time": "2023-02-15T11:17:43.201Z"
   },
   {
    "duration": 2612,
    "start_time": "2023-02-15T11:17:51.620Z"
   },
   {
    "duration": 2767,
    "start_time": "2023-02-15T11:17:54.236Z"
   },
   {
    "duration": 50,
    "start_time": "2023-02-15T11:17:57.005Z"
   },
   {
    "duration": 64,
    "start_time": "2023-02-15T11:17:57.058Z"
   },
   {
    "duration": 13,
    "start_time": "2023-02-15T11:17:57.125Z"
   },
   {
    "duration": 17,
    "start_time": "2023-02-15T11:17:57.140Z"
   },
   {
    "duration": 346,
    "start_time": "2023-02-15T11:17:57.159Z"
   },
   {
    "duration": 19,
    "start_time": "2023-02-15T11:17:57.507Z"
   },
   {
    "duration": 4,
    "start_time": "2023-02-15T11:17:57.529Z"
   },
   {
    "duration": 7273,
    "start_time": "2023-02-15T11:17:57.537Z"
   },
   {
    "duration": 14,
    "start_time": "2023-02-15T11:18:04.814Z"
   },
   {
    "duration": 1707,
    "start_time": "2023-02-15T11:18:04.831Z"
   },
   {
    "duration": 730463,
    "start_time": "2023-02-15T11:18:06.541Z"
   },
   {
    "duration": 26,
    "start_time": "2023-02-15T11:30:17.006Z"
   },
   {
    "duration": 24,
    "start_time": "2023-02-15T11:30:17.034Z"
   },
   {
    "duration": 1938,
    "start_time": "2023-02-15T11:30:17.060Z"
   },
   {
    "duration": 74,
    "start_time": "2023-02-15T11:30:19.001Z"
   },
   {
    "duration": 415970,
    "start_time": "2023-02-15T11:30:19.077Z"
   },
   {
    "duration": 162,
    "start_time": "2023-02-15T11:37:15.049Z"
   },
   {
    "duration": 262,
    "start_time": "2023-02-15T11:37:15.213Z"
   },
   {
    "duration": 120,
    "start_time": "2023-02-15T11:37:15.476Z"
   },
   {
    "duration": 654330,
    "start_time": "2023-02-15T11:37:27.692Z"
   },
   {
    "duration": 114,
    "start_time": "2023-02-15T11:51:34.904Z"
   },
   {
    "duration": 7742291,
    "start_time": "2023-02-15T11:52:40.974Z"
   },
   {
    "duration": 0,
    "start_time": "2023-02-15T14:01:43.268Z"
   },
   {
    "duration": 70805,
    "start_time": "2023-02-15T14:01:55.877Z"
   },
   {
    "duration": 125971,
    "start_time": "2023-02-15T14:03:40.092Z"
   },
   {
    "duration": 347419,
    "start_time": "2023-02-15T14:05:56.337Z"
   },
   {
    "duration": 3918252,
    "start_time": "2023-02-15T14:12:12.073Z"
   },
   {
    "duration": 460798,
    "start_time": "2023-02-15T15:19:17.112Z"
   },
   {
    "duration": 5088109,
    "start_time": "2023-02-15T15:27:05.154Z"
   },
   {
    "duration": 955784,
    "start_time": "2023-02-15T17:06:00.563Z"
   },
   {
    "duration": 2083848,
    "start_time": "2023-02-15T17:37:36.847Z"
   },
   {
    "duration": 3,
    "start_time": "2023-02-15T18:18:05.815Z"
   },
   {
    "duration": 4,
    "start_time": "2023-02-15T18:18:27.353Z"
   },
   {
    "duration": 4,
    "start_time": "2023-02-15T18:18:56.875Z"
   },
   {
    "duration": 5,
    "start_time": "2023-02-15T18:19:14.759Z"
   },
   {
    "duration": 52,
    "start_time": "2023-02-16T06:58:56.955Z"
   },
   {
    "duration": 46,
    "start_time": "2023-02-16T06:59:06.398Z"
   },
   {
    "duration": 7,
    "start_time": "2023-02-16T07:01:32.703Z"
   },
   {
    "duration": 3184,
    "start_time": "2023-02-16T07:02:00.211Z"
   },
   {
    "duration": 3078,
    "start_time": "2023-02-16T07:02:03.397Z"
   },
   {
    "duration": 34,
    "start_time": "2023-02-16T07:02:06.477Z"
   },
   {
    "duration": 44,
    "start_time": "2023-02-16T07:02:06.513Z"
   },
   {
    "duration": 9,
    "start_time": "2023-02-16T07:02:06.559Z"
   },
   {
    "duration": 15,
    "start_time": "2023-02-16T07:02:06.569Z"
   },
   {
    "duration": 254,
    "start_time": "2023-02-16T07:02:06.586Z"
   },
   {
    "duration": 9,
    "start_time": "2023-02-16T07:02:06.841Z"
   },
   {
    "duration": 6,
    "start_time": "2023-02-16T07:02:06.851Z"
   },
   {
    "duration": 6096,
    "start_time": "2023-02-16T07:02:06.860Z"
   },
   {
    "duration": 9,
    "start_time": "2023-02-16T07:02:12.958Z"
   },
   {
    "duration": 1262,
    "start_time": "2023-02-16T07:02:12.968Z"
   },
   {
    "duration": 502197,
    "start_time": "2023-02-16T07:02:14.232Z"
   },
   {
    "duration": 15,
    "start_time": "2023-02-16T07:10:36.431Z"
   },
   {
    "duration": 7,
    "start_time": "2023-02-16T07:10:36.448Z"
   },
   {
    "duration": 1590,
    "start_time": "2023-02-16T07:10:36.457Z"
   },
   {
    "duration": 32,
    "start_time": "2023-02-16T07:10:38.048Z"
   },
   {
    "duration": 1209563,
    "start_time": "2023-02-16T07:10:38.082Z"
   },
   {
    "duration": 2081519,
    "start_time": "2023-02-16T07:30:47.652Z"
   },
   {
    "duration": 2151925,
    "start_time": "2023-02-16T08:05:29.173Z"
   },
   {
    "duration": 3,
    "start_time": "2023-02-16T08:41:21.100Z"
   },
   {
    "duration": 4922,
    "start_time": "2023-02-16T08:41:21.141Z"
   },
   {
    "duration": 5201,
    "start_time": "2023-02-16T08:48:53.820Z"
   },
   {
    "duration": 4922,
    "start_time": "2023-02-16T08:50:58.773Z"
   },
   {
    "duration": 9210,
    "start_time": "2023-02-16T08:51:34.696Z"
   },
   {
    "duration": 9178,
    "start_time": "2023-02-16T08:52:04.131Z"
   },
   {
    "duration": 52,
    "start_time": "2023-02-16T08:56:16.929Z"
   },
   {
    "duration": 2397,
    "start_time": "2023-02-16T08:56:44.155Z"
   },
   {
    "duration": 2760,
    "start_time": "2023-02-16T08:56:46.554Z"
   },
   {
    "duration": 44,
    "start_time": "2023-02-16T08:56:49.316Z"
   },
   {
    "duration": 39,
    "start_time": "2023-02-16T08:56:49.363Z"
   },
   {
    "duration": 13,
    "start_time": "2023-02-16T08:56:49.403Z"
   },
   {
    "duration": 30,
    "start_time": "2023-02-16T08:56:49.418Z"
   },
   {
    "duration": 242,
    "start_time": "2023-02-16T08:56:49.450Z"
   },
   {
    "duration": 8,
    "start_time": "2023-02-16T08:56:49.694Z"
   },
   {
    "duration": 15,
    "start_time": "2023-02-16T08:56:49.704Z"
   },
   {
    "duration": 6106,
    "start_time": "2023-02-16T08:56:49.722Z"
   },
   {
    "duration": 14,
    "start_time": "2023-02-16T08:56:55.830Z"
   },
   {
    "duration": 1272,
    "start_time": "2023-02-16T08:56:55.846Z"
   },
   {
    "duration": 504480,
    "start_time": "2023-02-16T08:56:57.120Z"
   },
   {
    "duration": 9,
    "start_time": "2023-02-16T09:05:21.602Z"
   },
   {
    "duration": 8,
    "start_time": "2023-02-16T09:05:21.612Z"
   },
   {
    "duration": 1623,
    "start_time": "2023-02-16T09:05:21.622Z"
   },
   {
    "duration": 32,
    "start_time": "2023-02-16T09:05:23.247Z"
   },
   {
    "duration": 1183761,
    "start_time": "2023-02-16T09:05:23.281Z"
   },
   {
    "duration": 1991349,
    "start_time": "2023-02-16T09:25:07.044Z"
   },
   {
    "duration": 1340908,
    "start_time": "2023-02-16T09:58:18.394Z"
   },
   {
    "duration": 37,
    "start_time": "2023-02-16T10:20:39.304Z"
   },
   {
    "duration": 53,
    "start_time": "2023-02-16T10:36:35.536Z"
   },
   {
    "duration": 2586,
    "start_time": "2023-02-16T10:40:54.429Z"
   },
   {
    "duration": 2938,
    "start_time": "2023-02-16T10:40:57.018Z"
   },
   {
    "duration": 35,
    "start_time": "2023-02-16T10:40:59.958Z"
   },
   {
    "duration": 50,
    "start_time": "2023-02-16T10:40:59.995Z"
   },
   {
    "duration": 11,
    "start_time": "2023-02-16T10:41:00.048Z"
   },
   {
    "duration": 53,
    "start_time": "2023-02-16T10:41:00.061Z"
   },
   {
    "duration": 240,
    "start_time": "2023-02-16T10:41:00.116Z"
   },
   {
    "duration": 9,
    "start_time": "2023-02-16T10:41:00.358Z"
   },
   {
    "duration": 20,
    "start_time": "2023-02-16T10:41:00.368Z"
   },
   {
    "duration": 6190,
    "start_time": "2023-02-16T10:41:00.390Z"
   },
   {
    "duration": 9,
    "start_time": "2023-02-16T10:41:06.581Z"
   },
   {
    "duration": 1252,
    "start_time": "2023-02-16T10:41:06.592Z"
   },
   {
    "duration": 506855,
    "start_time": "2023-02-16T10:41:07.846Z"
   },
   {
    "duration": 12,
    "start_time": "2023-02-16T10:49:34.704Z"
   },
   {
    "duration": 22,
    "start_time": "2023-02-16T10:49:34.718Z"
   },
   {
    "duration": 1677,
    "start_time": "2023-02-16T10:49:34.743Z"
   },
   {
    "duration": 44,
    "start_time": "2023-02-16T10:49:36.421Z"
   },
   {
    "duration": 1381295,
    "start_time": "2023-02-16T10:49:36.467Z"
   },
   {
    "duration": 5471,
    "start_time": "2023-02-16T11:12:37.764Z"
   },
   {
    "duration": 173,
    "start_time": "2023-02-16T11:12:43.240Z"
   },
   {
    "duration": 30,
    "start_time": "2023-02-16T11:20:28.645Z"
   },
   {
    "duration": 16,
    "start_time": "2023-02-16T11:21:11.020Z"
   },
   {
    "duration": 4280,
    "start_time": "2023-02-16T11:21:38.134Z"
   },
   {
    "duration": 15,
    "start_time": "2023-02-16T11:21:57.249Z"
   },
   {
    "duration": 4388,
    "start_time": "2023-02-16T11:24:43.821Z"
   },
   {
    "duration": 11,
    "start_time": "2023-02-16T11:25:14.733Z"
   },
   {
    "duration": 20,
    "start_time": "2023-02-16T11:29:18.354Z"
   },
   {
    "duration": 4622,
    "start_time": "2023-02-16T11:29:47.719Z"
   },
   {
    "duration": 12,
    "start_time": "2023-02-16T11:30:54.427Z"
   },
   {
    "duration": 13,
    "start_time": "2023-02-16T11:31:04.984Z"
   },
   {
    "duration": 1705,
    "start_time": "2023-02-16T11:44:01.278Z"
   },
   {
    "duration": 2266,
    "start_time": "2023-02-16T11:44:02.985Z"
   },
   {
    "duration": 33,
    "start_time": "2023-02-16T11:44:05.253Z"
   },
   {
    "duration": 51,
    "start_time": "2023-02-16T11:44:05.289Z"
   },
   {
    "duration": 10,
    "start_time": "2023-02-16T11:44:05.342Z"
   },
   {
    "duration": 11,
    "start_time": "2023-02-16T11:44:05.354Z"
   },
   {
    "duration": 258,
    "start_time": "2023-02-16T11:44:05.367Z"
   },
   {
    "duration": 18,
    "start_time": "2023-02-16T11:44:05.627Z"
   },
   {
    "duration": 4,
    "start_time": "2023-02-16T11:44:05.646Z"
   },
   {
    "duration": 6207,
    "start_time": "2023-02-16T11:44:05.652Z"
   },
   {
    "duration": 9,
    "start_time": "2023-02-16T11:44:11.861Z"
   },
   {
    "duration": 1277,
    "start_time": "2023-02-16T11:44:11.872Z"
   },
   {
    "duration": 509210,
    "start_time": "2023-02-16T11:44:13.151Z"
   },
   {
    "duration": 9,
    "start_time": "2023-02-16T11:52:42.363Z"
   },
   {
    "duration": 6,
    "start_time": "2023-02-16T11:52:42.374Z"
   },
   {
    "duration": 1626,
    "start_time": "2023-02-16T11:52:42.381Z"
   },
   {
    "duration": 40,
    "start_time": "2023-02-16T11:52:44.009Z"
   },
   {
    "duration": 30,
    "start_time": "2023-02-16T11:52:44.051Z"
   },
   {
    "duration": 0,
    "start_time": "2023-02-16T11:52:44.083Z"
   },
   {
    "duration": 0,
    "start_time": "2023-02-16T11:52:44.084Z"
   },
   {
    "duration": 278503,
    "start_time": "2023-02-16T11:55:49.574Z"
   },
   {
    "duration": 2058902,
    "start_time": "2023-02-16T12:00:50.792Z"
   },
   {
    "duration": 77,
    "start_time": "2023-02-16T12:36:44.340Z"
   },
   {
    "duration": 341392,
    "start_time": "2023-02-16T12:37:04.994Z"
   },
   {
    "duration": 1651,
    "start_time": "2023-02-16T12:55:09.772Z"
   },
   {
    "duration": 2849,
    "start_time": "2023-02-16T12:55:11.425Z"
   },
   {
    "duration": 31,
    "start_time": "2023-02-16T12:55:14.276Z"
   },
   {
    "duration": 48,
    "start_time": "2023-02-16T12:55:14.309Z"
   },
   {
    "duration": 11,
    "start_time": "2023-02-16T12:55:14.360Z"
   },
   {
    "duration": 12,
    "start_time": "2023-02-16T12:55:14.372Z"
   },
   {
    "duration": 260,
    "start_time": "2023-02-16T12:55:14.385Z"
   },
   {
    "duration": 51,
    "start_time": "2023-02-16T12:55:14.647Z"
   },
   {
    "duration": 0,
    "start_time": "2023-02-16T12:55:14.700Z"
   },
   {
    "duration": 0,
    "start_time": "2023-02-16T12:55:14.701Z"
   },
   {
    "duration": 0,
    "start_time": "2023-02-16T12:55:14.703Z"
   },
   {
    "duration": 0,
    "start_time": "2023-02-16T12:55:14.704Z"
   },
   {
    "duration": 0,
    "start_time": "2023-02-16T12:55:14.705Z"
   },
   {
    "duration": 0,
    "start_time": "2023-02-16T12:55:14.706Z"
   },
   {
    "duration": 0,
    "start_time": "2023-02-16T12:55:14.708Z"
   },
   {
    "duration": 0,
    "start_time": "2023-02-16T12:55:14.709Z"
   },
   {
    "duration": 0,
    "start_time": "2023-02-16T12:55:14.710Z"
   },
   {
    "duration": 0,
    "start_time": "2023-02-16T12:55:14.711Z"
   },
   {
    "duration": 0,
    "start_time": "2023-02-16T12:55:14.712Z"
   },
   {
    "duration": 0,
    "start_time": "2023-02-16T12:55:14.713Z"
   },
   {
    "duration": 0,
    "start_time": "2023-02-16T12:55:14.714Z"
   },
   {
    "duration": 0,
    "start_time": "2023-02-16T12:55:14.714Z"
   },
   {
    "duration": 0,
    "start_time": "2023-02-16T12:55:14.716Z"
   },
   {
    "duration": 1682,
    "start_time": "2023-02-16T12:56:19.206Z"
   },
   {
    "duration": 2150,
    "start_time": "2023-02-16T12:56:20.890Z"
   },
   {
    "duration": 35,
    "start_time": "2023-02-16T12:56:23.041Z"
   },
   {
    "duration": 34,
    "start_time": "2023-02-16T12:56:23.079Z"
   },
   {
    "duration": 35,
    "start_time": "2023-02-16T12:56:23.114Z"
   },
   {
    "duration": 17,
    "start_time": "2023-02-16T12:56:23.151Z"
   },
   {
    "duration": 249,
    "start_time": "2023-02-16T12:56:23.169Z"
   },
   {
    "duration": 59,
    "start_time": "2023-02-16T12:56:23.420Z"
   },
   {
    "duration": 0,
    "start_time": "2023-02-16T12:56:23.481Z"
   },
   {
    "duration": 0,
    "start_time": "2023-02-16T12:56:23.483Z"
   },
   {
    "duration": 0,
    "start_time": "2023-02-16T12:56:23.484Z"
   },
   {
    "duration": 0,
    "start_time": "2023-02-16T12:56:23.485Z"
   },
   {
    "duration": 0,
    "start_time": "2023-02-16T12:56:23.486Z"
   },
   {
    "duration": 0,
    "start_time": "2023-02-16T12:56:23.488Z"
   },
   {
    "duration": 0,
    "start_time": "2023-02-16T12:56:23.489Z"
   },
   {
    "duration": 0,
    "start_time": "2023-02-16T12:56:23.490Z"
   },
   {
    "duration": 0,
    "start_time": "2023-02-16T12:56:23.491Z"
   },
   {
    "duration": 0,
    "start_time": "2023-02-16T12:56:23.492Z"
   },
   {
    "duration": 0,
    "start_time": "2023-02-16T12:56:23.494Z"
   },
   {
    "duration": 0,
    "start_time": "2023-02-16T12:56:23.495Z"
   },
   {
    "duration": 0,
    "start_time": "2023-02-16T12:56:23.496Z"
   },
   {
    "duration": 0,
    "start_time": "2023-02-16T12:56:23.497Z"
   },
   {
    "duration": 0,
    "start_time": "2023-02-16T12:56:23.498Z"
   },
   {
    "duration": 0,
    "start_time": "2023-02-16T12:56:23.499Z"
   },
   {
    "duration": 8,
    "start_time": "2023-02-16T12:57:09.368Z"
   },
   {
    "duration": 4,
    "start_time": "2023-02-16T12:57:09.378Z"
   },
   {
    "duration": 6046,
    "start_time": "2023-02-16T12:57:09.383Z"
   },
   {
    "duration": 14,
    "start_time": "2023-02-16T12:57:15.430Z"
   },
   {
    "duration": 1291,
    "start_time": "2023-02-16T12:57:15.449Z"
   },
   {
    "duration": 508455,
    "start_time": "2023-02-16T12:57:16.742Z"
   },
   {
    "duration": 11,
    "start_time": "2023-02-16T13:05:45.199Z"
   },
   {
    "duration": 29,
    "start_time": "2023-02-16T13:05:45.211Z"
   },
   {
    "duration": 1639,
    "start_time": "2023-02-16T13:05:45.243Z"
   },
   {
    "duration": 30,
    "start_time": "2023-02-16T13:05:46.884Z"
   },
   {
    "duration": 1106828,
    "start_time": "2023-02-16T13:05:46.915Z"
   },
   {
    "duration": 40733,
    "start_time": "2023-02-16T13:24:13.745Z"
   },
   {
    "duration": 25,
    "start_time": "2023-02-16T13:24:54.481Z"
   },
   {
    "duration": 0,
    "start_time": "2023-02-16T13:24:54.508Z"
   },
   {
    "duration": 1,
    "start_time": "2023-02-16T13:24:54.509Z"
   },
   {
    "duration": 0,
    "start_time": "2023-02-16T13:24:54.511Z"
   },
   {
    "duration": 64,
    "start_time": "2023-02-16T13:26:47.330Z"
   },
   {
    "duration": 55,
    "start_time": "2023-02-16T13:27:20.263Z"
   },
   {
    "duration": 1739,
    "start_time": "2023-02-16T13:37:37.659Z"
   },
   {
    "duration": 2572,
    "start_time": "2023-02-16T13:37:39.400Z"
   },
   {
    "duration": 33,
    "start_time": "2023-02-16T13:37:41.974Z"
   },
   {
    "duration": 46,
    "start_time": "2023-02-16T13:37:42.009Z"
   },
   {
    "duration": 12,
    "start_time": "2023-02-16T13:37:42.057Z"
   },
   {
    "duration": 12,
    "start_time": "2023-02-16T13:37:42.071Z"
   },
   {
    "duration": 262,
    "start_time": "2023-02-16T13:37:42.084Z"
   },
   {
    "duration": 8,
    "start_time": "2023-02-16T13:37:42.348Z"
   },
   {
    "duration": 4,
    "start_time": "2023-02-16T13:37:42.357Z"
   },
   {
    "duration": 6138,
    "start_time": "2023-02-16T13:37:42.362Z"
   },
   {
    "duration": 9,
    "start_time": "2023-02-16T13:37:48.502Z"
   },
   {
    "duration": 1311,
    "start_time": "2023-02-16T13:37:48.512Z"
   },
   {
    "duration": 521645,
    "start_time": "2023-02-16T13:37:49.825Z"
   },
   {
    "duration": 10,
    "start_time": "2023-02-16T13:46:31.473Z"
   },
   {
    "duration": 8,
    "start_time": "2023-02-16T13:46:31.485Z"
   },
   {
    "duration": 1570,
    "start_time": "2023-02-16T13:46:31.495Z"
   },
   {
    "duration": 76,
    "start_time": "2023-02-16T13:46:33.067Z"
   },
   {
    "duration": 1001008,
    "start_time": "2023-02-16T13:46:33.145Z"
   },
   {
    "duration": 2498998,
    "start_time": "2023-02-16T14:03:14.155Z"
   },
   {
    "duration": 26,
    "start_time": "2023-02-16T14:44:53.155Z"
   },
   {
    "duration": 0,
    "start_time": "2023-02-16T14:44:53.183Z"
   },
   {
    "duration": 0,
    "start_time": "2023-02-16T14:44:53.184Z"
   },
   {
    "duration": 1547487,
    "start_time": "2023-02-16T14:58:32.973Z"
   },
   {
    "duration": 1654,
    "start_time": "2023-02-16T15:49:20.585Z"
   },
   {
    "duration": 2835,
    "start_time": "2023-02-16T15:49:22.241Z"
   },
   {
    "duration": 35,
    "start_time": "2023-02-16T15:49:25.078Z"
   },
   {
    "duration": 48,
    "start_time": "2023-02-16T15:49:25.116Z"
   },
   {
    "duration": 12,
    "start_time": "2023-02-16T15:49:25.165Z"
   },
   {
    "duration": 11,
    "start_time": "2023-02-16T15:49:25.179Z"
   },
   {
    "duration": 264,
    "start_time": "2023-02-16T15:49:25.192Z"
   },
   {
    "duration": 8,
    "start_time": "2023-02-16T15:49:25.458Z"
   },
   {
    "duration": 7,
    "start_time": "2023-02-16T15:49:25.468Z"
   },
   {
    "duration": 6118,
    "start_time": "2023-02-16T15:49:25.477Z"
   },
   {
    "duration": 10,
    "start_time": "2023-02-16T15:49:31.597Z"
   },
   {
    "duration": 1245,
    "start_time": "2023-02-16T15:49:31.608Z"
   },
   {
    "duration": 504398,
    "start_time": "2023-02-16T15:49:32.855Z"
   },
   {
    "duration": 9,
    "start_time": "2023-02-16T15:57:57.255Z"
   },
   {
    "duration": 12,
    "start_time": "2023-02-16T15:57:57.266Z"
   },
   {
    "duration": 1609,
    "start_time": "2023-02-16T15:57:57.280Z"
   },
   {
    "duration": 77,
    "start_time": "2023-02-16T15:57:58.891Z"
   },
   {
    "duration": 1530482,
    "start_time": "2023-02-16T15:57:58.970Z"
   },
   {
    "duration": 139,
    "start_time": "2023-02-16T16:23:29.454Z"
   },
   {
    "duration": 0,
    "start_time": "2023-02-16T16:23:29.595Z"
   },
   {
    "duration": 171405,
    "start_time": "2023-02-16T16:35:48.784Z"
   },
   {
    "duration": 1761,
    "start_time": "2023-02-16T16:53:13.414Z"
   },
   {
    "duration": 2791,
    "start_time": "2023-02-16T16:53:15.177Z"
   },
   {
    "duration": 34,
    "start_time": "2023-02-16T16:53:17.970Z"
   },
   {
    "duration": 48,
    "start_time": "2023-02-16T16:53:18.006Z"
   },
   {
    "duration": 17,
    "start_time": "2023-02-16T16:53:18.056Z"
   },
   {
    "duration": 25,
    "start_time": "2023-02-16T16:53:18.075Z"
   },
   {
    "duration": 246,
    "start_time": "2023-02-16T16:53:18.102Z"
   },
   {
    "duration": 9,
    "start_time": "2023-02-16T16:53:18.349Z"
   },
   {
    "duration": 5,
    "start_time": "2023-02-16T16:53:18.360Z"
   },
   {
    "duration": 6268,
    "start_time": "2023-02-16T16:53:18.368Z"
   },
   {
    "duration": 8,
    "start_time": "2023-02-16T16:53:24.641Z"
   },
   {
    "duration": 1268,
    "start_time": "2023-02-16T16:53:24.651Z"
   },
   {
    "duration": 522490,
    "start_time": "2023-02-16T16:53:25.921Z"
   },
   {
    "duration": 26,
    "start_time": "2023-02-16T17:02:08.414Z"
   },
   {
    "duration": 5,
    "start_time": "2023-02-16T17:02:08.442Z"
   },
   {
    "duration": 1717,
    "start_time": "2023-02-16T17:02:08.448Z"
   },
   {
    "duration": 91,
    "start_time": "2023-02-16T17:02:10.168Z"
   },
   {
    "duration": 1139892,
    "start_time": "2023-02-16T17:02:10.260Z"
   },
   {
    "duration": 3040371,
    "start_time": "2023-02-16T17:21:10.240Z"
   },
   {
    "duration": 9444056,
    "start_time": "2023-02-16T18:11:50.613Z"
   },
   {
    "duration": 9,
    "start_time": "2023-02-16T20:49:14.671Z"
   },
   {
    "duration": 575274,
    "start_time": "2023-02-16T20:49:14.682Z"
   },
   {
    "duration": 2266,
    "start_time": "2023-02-19T12:21:55.824Z"
   },
   {
    "duration": 0,
    "start_time": "2023-02-19T12:21:58.093Z"
   },
   {
    "duration": 0,
    "start_time": "2023-02-19T12:21:58.095Z"
   },
   {
    "duration": 0,
    "start_time": "2023-02-19T12:21:58.096Z"
   },
   {
    "duration": 0,
    "start_time": "2023-02-19T12:21:58.097Z"
   },
   {
    "duration": 0,
    "start_time": "2023-02-19T12:21:58.099Z"
   },
   {
    "duration": 0,
    "start_time": "2023-02-19T12:21:58.100Z"
   },
   {
    "duration": 0,
    "start_time": "2023-02-19T12:21:58.102Z"
   },
   {
    "duration": 0,
    "start_time": "2023-02-19T12:21:58.104Z"
   },
   {
    "duration": 0,
    "start_time": "2023-02-19T12:21:58.105Z"
   },
   {
    "duration": 0,
    "start_time": "2023-02-19T12:21:58.107Z"
   },
   {
    "duration": 0,
    "start_time": "2023-02-19T12:21:58.108Z"
   },
   {
    "duration": 0,
    "start_time": "2023-02-19T12:21:58.139Z"
   },
   {
    "duration": 0,
    "start_time": "2023-02-19T12:21:58.141Z"
   },
   {
    "duration": 0,
    "start_time": "2023-02-19T12:21:58.143Z"
   },
   {
    "duration": 1,
    "start_time": "2023-02-19T12:21:58.144Z"
   },
   {
    "duration": 3088,
    "start_time": "2023-02-19T12:25:06.386Z"
   },
   {
    "duration": 2225,
    "start_time": "2023-02-19T12:26:02.561Z"
   },
   {
    "duration": 685,
    "start_time": "2023-02-19T12:26:04.788Z"
   },
   {
    "duration": 2024,
    "start_time": "2023-02-19T12:26:05.474Z"
   },
   {
    "duration": 38,
    "start_time": "2023-02-19T12:26:07.502Z"
   },
   {
    "duration": 29,
    "start_time": "2023-02-19T12:26:07.541Z"
   },
   {
    "duration": 10,
    "start_time": "2023-02-19T12:26:07.572Z"
   },
   {
    "duration": 13,
    "start_time": "2023-02-19T12:26:07.584Z"
   },
   {
    "duration": 250,
    "start_time": "2023-02-19T12:26:07.599Z"
   },
   {
    "duration": 9,
    "start_time": "2023-02-19T12:26:07.851Z"
   },
   {
    "duration": 3,
    "start_time": "2023-02-19T12:26:07.863Z"
   },
   {
    "duration": 6124,
    "start_time": "2023-02-19T12:26:07.868Z"
   },
   {
    "duration": 7,
    "start_time": "2023-02-19T12:26:13.994Z"
   },
   {
    "duration": 1238,
    "start_time": "2023-02-19T12:26:14.002Z"
   },
   {
    "duration": 493233,
    "start_time": "2023-02-19T12:26:15.241Z"
   },
   {
    "duration": 8,
    "start_time": "2023-02-19T12:34:28.476Z"
   },
   {
    "duration": 15,
    "start_time": "2023-02-19T12:34:28.486Z"
   },
   {
    "duration": 1619,
    "start_time": "2023-02-19T12:34:28.502Z"
   },
   {
    "duration": 30808,
    "start_time": "2023-02-19T12:34:30.123Z"
   },
   {
    "duration": 65,
    "start_time": "2023-02-19T12:35:00.933Z"
   },
   {
    "duration": 30555,
    "start_time": "2023-02-19T12:40:34.714Z"
   },
   {
    "duration": 30591,
    "start_time": "2023-02-19T12:42:32.122Z"
   },
   {
    "duration": 30621,
    "start_time": "2023-02-19T12:43:12.777Z"
   },
   {
    "duration": 30844,
    "start_time": "2023-02-19T12:44:01.792Z"
   },
   {
    "duration": 31002,
    "start_time": "2023-02-19T12:46:03.402Z"
   },
   {
    "duration": 17,
    "start_time": "2023-02-19T12:48:31.694Z"
   },
   {
    "duration": 31281,
    "start_time": "2023-02-19T12:48:47.988Z"
   },
   {
    "duration": 15820,
    "start_time": "2023-02-19T12:52:26.329Z"
   },
   {
    "duration": 14,
    "start_time": "2023-02-19T12:56:15.494Z"
   },
   {
    "duration": 3106,
    "start_time": "2023-02-20T10:57:00.663Z"
   },
   {
    "duration": 2690,
    "start_time": "2023-02-20T10:57:03.772Z"
   },
   {
    "duration": 2433,
    "start_time": "2023-02-20T10:57:06.464Z"
   },
   {
    "duration": 36,
    "start_time": "2023-02-20T10:57:08.899Z"
   },
   {
    "duration": 34,
    "start_time": "2023-02-20T10:57:08.936Z"
   },
   {
    "duration": 28,
    "start_time": "2023-02-20T10:57:08.972Z"
   },
   {
    "duration": 12,
    "start_time": "2023-02-20T10:57:09.001Z"
   },
   {
    "duration": 243,
    "start_time": "2023-02-20T10:57:09.014Z"
   },
   {
    "duration": 23,
    "start_time": "2023-02-20T10:57:09.259Z"
   },
   {
    "duration": 11,
    "start_time": "2023-02-20T10:57:09.285Z"
   },
   {
    "duration": 5780,
    "start_time": "2023-02-20T10:57:09.297Z"
   },
   {
    "duration": 14,
    "start_time": "2023-02-20T10:57:15.079Z"
   },
   {
    "duration": 1448,
    "start_time": "2023-02-20T10:57:15.094Z"
   },
   {
    "duration": 469599,
    "start_time": "2023-02-20T10:57:16.545Z"
   },
   {
    "duration": 12,
    "start_time": "2023-02-20T11:05:06.147Z"
   },
   {
    "duration": 33,
    "start_time": "2023-02-20T11:05:06.161Z"
   },
   {
    "duration": 1862,
    "start_time": "2023-02-20T11:05:06.197Z"
   },
   {
    "duration": 34172,
    "start_time": "2023-02-20T11:05:08.061Z"
   },
   {
    "duration": 165,
    "start_time": "2023-02-20T11:05:52.895Z"
   },
   {
    "duration": 903,
    "start_time": "2023-02-20T11:08:01.538Z"
   },
   {
    "duration": 1091,
    "start_time": "2023-02-20T11:08:19.926Z"
   },
   {
    "duration": 1057,
    "start_time": "2023-02-20T11:10:41.578Z"
   },
   {
    "duration": 1154,
    "start_time": "2023-02-20T11:11:06.635Z"
   },
   {
    "duration": 1263,
    "start_time": "2023-02-20T11:11:12.602Z"
   },
   {
    "duration": 1760,
    "start_time": "2023-02-20T11:13:06.910Z"
   },
   {
    "duration": 1697,
    "start_time": "2023-02-20T11:18:17.068Z"
   },
   {
    "duration": 1735,
    "start_time": "2023-02-20T11:18:25.404Z"
   },
   {
    "duration": 1223,
    "start_time": "2023-02-20T11:18:41.363Z"
   },
   {
    "duration": 1396,
    "start_time": "2023-02-20T11:19:25.377Z"
   },
   {
    "duration": 1749,
    "start_time": "2023-02-20T11:19:36.888Z"
   },
   {
    "duration": 117,
    "start_time": "2023-02-20T11:22:44.893Z"
   },
   {
    "duration": 25450,
    "start_time": "2023-02-20T11:23:07.306Z"
   },
   {
    "duration": 25033,
    "start_time": "2023-02-20T11:24:02.469Z"
   },
   {
    "duration": 25043,
    "start_time": "2023-02-20T11:25:30.236Z"
   },
   {
    "duration": 25017,
    "start_time": "2023-02-20T11:26:36.825Z"
   },
   {
    "duration": 96,
    "start_time": "2023-02-20T11:43:43.596Z"
   },
   {
    "duration": 79,
    "start_time": "2023-02-20T11:45:41.127Z"
   },
   {
    "duration": 114,
    "start_time": "2023-02-20T11:47:06.706Z"
   },
   {
    "duration": 27898,
    "start_time": "2023-02-20T11:49:17.550Z"
   },
   {
    "duration": 27644,
    "start_time": "2023-02-20T11:51:35.062Z"
   },
   {
    "duration": 27829,
    "start_time": "2023-02-20T12:03:21.928Z"
   },
   {
    "duration": 27946,
    "start_time": "2023-02-20T12:04:00.305Z"
   },
   {
    "duration": 25801,
    "start_time": "2023-02-20T12:41:02.373Z"
   },
   {
    "duration": 3047,
    "start_time": "2023-02-21T10:42:02.951Z"
   },
   {
    "duration": 3346,
    "start_time": "2023-02-21T10:42:06.001Z"
   },
   {
    "duration": 2396,
    "start_time": "2023-02-21T10:42:09.348Z"
   },
   {
    "duration": 31,
    "start_time": "2023-02-21T10:42:11.746Z"
   },
   {
    "duration": 42,
    "start_time": "2023-02-21T10:42:11.787Z"
   },
   {
    "duration": 16,
    "start_time": "2023-02-21T10:42:11.830Z"
   },
   {
    "duration": 30,
    "start_time": "2023-02-21T10:42:11.847Z"
   },
   {
    "duration": 237,
    "start_time": "2023-02-21T10:42:11.878Z"
   },
   {
    "duration": 8,
    "start_time": "2023-02-21T10:42:12.117Z"
   },
   {
    "duration": 11,
    "start_time": "2023-02-21T10:42:12.126Z"
   },
   {
    "duration": 6186,
    "start_time": "2023-02-21T10:42:12.139Z"
   },
   {
    "duration": 0,
    "start_time": "2023-02-21T10:42:18.327Z"
   },
   {
    "duration": 0,
    "start_time": "2023-02-21T10:42:18.328Z"
   },
   {
    "duration": 0,
    "start_time": "2023-02-21T10:42:18.329Z"
   },
   {
    "duration": 0,
    "start_time": "2023-02-21T10:42:18.330Z"
   },
   {
    "duration": 0,
    "start_time": "2023-02-21T10:42:18.332Z"
   },
   {
    "duration": 0,
    "start_time": "2023-02-21T10:42:18.334Z"
   },
   {
    "duration": 0,
    "start_time": "2023-02-21T10:42:18.335Z"
   },
   {
    "duration": 1,
    "start_time": "2023-02-21T10:42:18.336Z"
   },
   {
    "duration": 0,
    "start_time": "2023-02-21T10:42:18.338Z"
   },
   {
    "duration": 0,
    "start_time": "2023-02-21T10:42:18.340Z"
   },
   {
    "duration": 0,
    "start_time": "2023-02-21T10:42:18.341Z"
   },
   {
    "duration": 0,
    "start_time": "2023-02-21T10:42:18.343Z"
   },
   {
    "duration": 0,
    "start_time": "2023-02-21T10:42:18.345Z"
   },
   {
    "duration": 0,
    "start_time": "2023-02-21T10:42:18.346Z"
   },
   {
    "duration": 0,
    "start_time": "2023-02-21T10:42:18.348Z"
   },
   {
    "duration": 2159,
    "start_time": "2023-02-21T10:43:09.083Z"
   },
   {
    "duration": 17,
    "start_time": "2023-02-21T10:43:11.245Z"
   },
   {
    "duration": 2356,
    "start_time": "2023-02-21T10:43:11.264Z"
   },
   {
    "duration": 30,
    "start_time": "2023-02-21T10:43:13.623Z"
   },
   {
    "duration": 45,
    "start_time": "2023-02-21T10:43:13.654Z"
   },
   {
    "duration": 27,
    "start_time": "2023-02-21T10:43:13.702Z"
   },
   {
    "duration": 13,
    "start_time": "2023-02-21T10:43:13.730Z"
   },
   {
    "duration": 230,
    "start_time": "2023-02-21T10:43:13.745Z"
   },
   {
    "duration": 12,
    "start_time": "2023-02-21T10:43:13.977Z"
   },
   {
    "duration": 28,
    "start_time": "2023-02-21T10:43:13.992Z"
   },
   {
    "duration": 6115,
    "start_time": "2023-02-21T10:43:14.021Z"
   },
   {
    "duration": 8,
    "start_time": "2023-02-21T10:43:20.137Z"
   },
   {
    "duration": 1322,
    "start_time": "2023-02-21T10:43:20.146Z"
   },
   {
    "duration": 503529,
    "start_time": "2023-02-21T10:43:21.470Z"
   },
   {
    "duration": 10,
    "start_time": "2023-02-21T10:51:45.001Z"
   },
   {
    "duration": 22,
    "start_time": "2023-02-21T10:51:45.012Z"
   },
   {
    "duration": 1547,
    "start_time": "2023-02-21T10:51:45.036Z"
   },
   {
    "duration": 31190,
    "start_time": "2023-02-21T10:51:46.586Z"
   },
   {
    "duration": 26258,
    "start_time": "2023-02-21T10:52:17.778Z"
   },
   {
    "duration": 59,
    "start_time": "2023-02-21T10:52:44.037Z"
   },
   {
    "duration": 7,
    "start_time": "2023-02-21T10:52:44.098Z"
   },
   {
    "duration": 441911,
    "start_time": "2023-02-21T10:52:44.107Z"
   },
   {
    "duration": 366,
    "start_time": "2023-02-21T11:00:06.020Z"
   },
   {
    "duration": 85,
    "start_time": "2023-02-21T11:00:06.391Z"
   },
   {
    "duration": 817,
    "start_time": "2023-02-21T11:00:06.478Z"
   },
   {
    "duration": 16,
    "start_time": "2023-02-21T11:00:07.300Z"
   },
   {
    "duration": 19,
    "start_time": "2023-02-21T11:06:22.862Z"
   },
   {
    "duration": 23,
    "start_time": "2023-02-21T11:06:29.776Z"
   },
   {
    "duration": 14,
    "start_time": "2023-02-21T11:06:43.937Z"
   },
   {
    "duration": 9,
    "start_time": "2023-02-21T11:06:56.161Z"
   },
   {
    "duration": 86,
    "start_time": "2023-02-21T11:07:57.761Z"
   },
   {
    "duration": 52,
    "start_time": "2023-02-21T11:08:06.616Z"
   },
   {
    "duration": 70,
    "start_time": "2023-02-21T11:10:12.807Z"
   },
   {
    "duration": 115,
    "start_time": "2023-02-21T11:13:43.008Z"
   },
   {
    "duration": 453,
    "start_time": "2023-02-21T11:15:17.687Z"
   },
   {
    "duration": 1153,
    "start_time": "2023-02-21T11:24:53.368Z"
   },
   {
    "duration": 10,
    "start_time": "2023-02-21T11:28:32.520Z"
   },
   {
    "duration": 4,
    "start_time": "2023-02-21T11:28:36.701Z"
   },
   {
    "duration": 4,
    "start_time": "2023-02-21T11:28:50.316Z"
   },
   {
    "duration": 4,
    "start_time": "2023-02-21T11:29:10.700Z"
   },
   {
    "duration": 3,
    "start_time": "2023-02-21T11:29:20.436Z"
   },
   {
    "duration": 691,
    "start_time": "2023-02-21T11:37:25.217Z"
   },
   {
    "duration": 1508218,
    "start_time": "2023-02-21T11:44:03.193Z"
   },
   {
    "duration": 298,
    "start_time": "2023-02-21T12:10:11.586Z"
   },
   {
    "duration": 316,
    "start_time": "2023-02-21T12:10:54.450Z"
   },
   {
    "duration": 85,
    "start_time": "2023-02-21T12:11:17.886Z"
   },
   {
    "duration": 52,
    "start_time": "2023-02-21T15:06:03.021Z"
   },
   {
    "duration": 83,
    "start_time": "2023-02-21T15:06:40.364Z"
   },
   {
    "duration": 3021,
    "start_time": "2023-02-21T15:06:54.530Z"
   },
   {
    "duration": 4130,
    "start_time": "2023-02-21T15:06:57.553Z"
   },
   {
    "duration": 1948,
    "start_time": "2023-02-21T15:07:01.685Z"
   },
   {
    "duration": 32,
    "start_time": "2023-02-21T15:07:03.635Z"
   },
   {
    "duration": 40,
    "start_time": "2023-02-21T15:07:03.669Z"
   },
   {
    "duration": 17,
    "start_time": "2023-02-21T15:07:03.710Z"
   },
   {
    "duration": 112,
    "start_time": "2023-02-21T15:07:03.728Z"
   },
   {
    "duration": 0,
    "start_time": "2023-02-21T15:07:03.843Z"
   },
   {
    "duration": 0,
    "start_time": "2023-02-21T15:07:03.844Z"
   },
   {
    "duration": 0,
    "start_time": "2023-02-21T15:07:03.845Z"
   },
   {
    "duration": 0,
    "start_time": "2023-02-21T15:07:03.846Z"
   },
   {
    "duration": 0,
    "start_time": "2023-02-21T15:07:03.847Z"
   },
   {
    "duration": 0,
    "start_time": "2023-02-21T15:07:03.848Z"
   },
   {
    "duration": 1,
    "start_time": "2023-02-21T15:07:03.849Z"
   },
   {
    "duration": 0,
    "start_time": "2023-02-21T15:07:03.851Z"
   },
   {
    "duration": 0,
    "start_time": "2023-02-21T15:07:03.851Z"
   },
   {
    "duration": 0,
    "start_time": "2023-02-21T15:07:03.853Z"
   },
   {
    "duration": 0,
    "start_time": "2023-02-21T15:07:03.854Z"
   },
   {
    "duration": 0,
    "start_time": "2023-02-21T15:07:03.855Z"
   },
   {
    "duration": 0,
    "start_time": "2023-02-21T15:07:03.887Z"
   },
   {
    "duration": 0,
    "start_time": "2023-02-21T15:07:03.888Z"
   },
   {
    "duration": 0,
    "start_time": "2023-02-21T15:07:03.889Z"
   },
   {
    "duration": 0,
    "start_time": "2023-02-21T15:07:03.889Z"
   },
   {
    "duration": 0,
    "start_time": "2023-02-21T15:07:03.890Z"
   },
   {
    "duration": 0,
    "start_time": "2023-02-21T15:07:03.890Z"
   },
   {
    "duration": 0,
    "start_time": "2023-02-21T15:07:03.893Z"
   },
   {
    "duration": 0,
    "start_time": "2023-02-21T15:07:03.894Z"
   },
   {
    "duration": 0,
    "start_time": "2023-02-21T15:07:03.896Z"
   },
   {
    "duration": 0,
    "start_time": "2023-02-21T15:07:03.897Z"
   },
   {
    "duration": 1993,
    "start_time": "2023-02-21T15:11:31.143Z"
   },
   {
    "duration": 11,
    "start_time": "2023-02-21T15:11:33.138Z"
   },
   {
    "duration": 2075,
    "start_time": "2023-02-21T15:11:33.151Z"
   },
   {
    "duration": 32,
    "start_time": "2023-02-21T15:11:35.228Z"
   },
   {
    "duration": 42,
    "start_time": "2023-02-21T15:11:35.262Z"
   },
   {
    "duration": 21,
    "start_time": "2023-02-21T15:11:35.306Z"
   },
   {
    "duration": 246,
    "start_time": "2023-02-21T15:11:35.328Z"
   },
   {
    "duration": 16,
    "start_time": "2023-02-21T15:11:35.576Z"
   },
   {
    "duration": 18,
    "start_time": "2023-02-21T15:11:35.594Z"
   },
   {
    "duration": 5838,
    "start_time": "2023-02-21T15:11:35.614Z"
   },
   {
    "duration": 7,
    "start_time": "2023-02-21T15:11:41.454Z"
   },
   {
    "duration": 1249,
    "start_time": "2023-02-21T15:11:41.463Z"
   },
   {
    "duration": 482306,
    "start_time": "2023-02-21T15:11:42.714Z"
   },
   {
    "duration": 9,
    "start_time": "2023-02-21T15:19:45.023Z"
   },
   {
    "duration": 79,
    "start_time": "2023-02-21T15:19:45.034Z"
   },
   {
    "duration": 1571,
    "start_time": "2023-02-21T15:19:45.115Z"
   },
   {
    "duration": 30768,
    "start_time": "2023-02-21T15:19:46.688Z"
   },
   {
    "duration": 26703,
    "start_time": "2023-02-21T15:20:17.458Z"
   },
   {
    "duration": 68,
    "start_time": "2023-02-21T15:20:44.163Z"
   },
   {
    "duration": 4,
    "start_time": "2023-02-21T15:20:44.233Z"
   },
   {
    "duration": 454263,
    "start_time": "2023-02-21T15:20:44.238Z"
   },
   {
    "duration": 422,
    "start_time": "2023-02-21T15:28:18.503Z"
   },
   {
    "duration": 89,
    "start_time": "2023-02-21T15:28:18.927Z"
   },
   {
    "duration": 582,
    "start_time": "2023-02-21T15:28:19.017Z"
   },
   {
    "duration": 11,
    "start_time": "2023-02-21T15:28:19.603Z"
   },
   {
    "duration": 16,
    "start_time": "2023-02-21T15:28:19.616Z"
   },
   {
    "duration": 43,
    "start_time": "2023-02-21T15:28:19.633Z"
   },
   {
    "duration": 0,
    "start_time": "2023-02-21T15:28:19.678Z"
   },
   {
    "duration": 0,
    "start_time": "2023-02-21T15:28:19.680Z"
   },
   {
    "duration": 93,
    "start_time": "2023-02-21T16:11:37.423Z"
   },
   {
    "duration": 124,
    "start_time": "2023-02-21T16:11:50.682Z"
   },
   {
    "duration": 606756,
    "start_time": "2023-02-21T16:11:50.809Z"
   },
   {
    "duration": 69,
    "start_time": "2023-02-21T16:21:57.566Z"
   },
   {
    "duration": 10,
    "start_time": "2023-02-21T16:21:57.636Z"
   },
   {
    "duration": 0,
    "start_time": "2023-02-21T16:21:57.648Z"
   },
   {
    "duration": 46,
    "start_time": "2023-02-21T16:27:04.667Z"
   },
   {
    "duration": 7241968,
    "start_time": "2023-02-21T16:27:17.633Z"
   },
   {
    "duration": 582164,
    "start_time": "2023-02-21T18:54:04.677Z"
   },
   {
    "duration": 57866,
    "start_time": "2023-02-21T19:25:35.023Z"
   },
   {
    "duration": 3578,
    "start_time": "2023-02-22T10:43:33.523Z"
   },
   {
    "duration": 2893,
    "start_time": "2023-02-22T10:43:37.104Z"
   },
   {
    "duration": 2334,
    "start_time": "2023-02-22T10:43:40.000Z"
   },
   {
    "duration": 39,
    "start_time": "2023-02-22T10:43:42.337Z"
   },
   {
    "duration": 43,
    "start_time": "2023-02-22T10:43:42.379Z"
   },
   {
    "duration": 38,
    "start_time": "2023-02-22T10:43:42.424Z"
   },
   {
    "duration": 279,
    "start_time": "2023-02-22T10:43:42.465Z"
   },
   {
    "duration": 13,
    "start_time": "2023-02-22T10:43:42.754Z"
   },
   {
    "duration": 16,
    "start_time": "2023-02-22T10:43:42.769Z"
   },
   {
    "duration": 7104,
    "start_time": "2023-02-22T10:43:42.787Z"
   },
   {
    "duration": 8,
    "start_time": "2023-02-22T10:43:49.893Z"
   },
   {
    "duration": 1385,
    "start_time": "2023-02-22T10:43:49.903Z"
   },
   {
    "duration": 536770,
    "start_time": "2023-02-22T10:43:51.290Z"
   },
   {
    "duration": 10,
    "start_time": "2023-02-22T10:52:48.065Z"
   },
   {
    "duration": 18,
    "start_time": "2023-02-22T10:52:48.078Z"
   },
   {
    "duration": 1758,
    "start_time": "2023-02-22T10:52:48.098Z"
   },
   {
    "duration": 33989,
    "start_time": "2023-02-22T10:52:49.858Z"
   },
   {
    "duration": 31202,
    "start_time": "2023-02-22T10:53:23.853Z"
   },
   {
    "duration": 61,
    "start_time": "2023-02-22T10:53:55.057Z"
   },
   {
    "duration": 23,
    "start_time": "2023-02-22T10:53:55.120Z"
   },
   {
    "duration": 487028,
    "start_time": "2023-02-22T10:53:55.147Z"
   },
   {
    "duration": 486,
    "start_time": "2023-02-22T11:02:02.177Z"
   },
   {
    "duration": 97,
    "start_time": "2023-02-22T11:02:02.665Z"
   },
   {
    "duration": 612,
    "start_time": "2023-02-22T11:02:02.764Z"
   },
   {
    "duration": 11,
    "start_time": "2023-02-22T11:02:03.378Z"
   },
   {
    "duration": 23,
    "start_time": "2023-02-22T11:02:03.391Z"
   },
   {
    "duration": 97,
    "start_time": "2023-02-22T11:02:03.416Z"
   },
   {
    "duration": 2452929,
    "start_time": "2023-02-22T11:02:03.516Z"
   },
   {
    "duration": 202,
    "start_time": "2023-02-22T11:50:41.232Z"
   },
   {
    "duration": 8687306,
    "start_time": "2023-02-22T11:59:08.957Z"
   },
   {
    "duration": 84,
    "start_time": "2023-02-22T14:23:56.265Z"
   },
   {
    "duration": 13,
    "start_time": "2023-02-22T14:23:56.350Z"
   },
   {
    "duration": 2397,
    "start_time": "2023-02-22T14:58:50.303Z"
   },
   {
    "duration": 2151,
    "start_time": "2023-02-22T14:58:52.702Z"
   },
   {
    "duration": 2503,
    "start_time": "2023-02-22T14:58:54.855Z"
   },
   {
    "duration": 31,
    "start_time": "2023-02-22T14:58:57.361Z"
   },
   {
    "duration": 46,
    "start_time": "2023-02-22T14:58:57.394Z"
   },
   {
    "duration": 13,
    "start_time": "2023-02-22T14:58:57.442Z"
   },
   {
    "duration": 255,
    "start_time": "2023-02-22T14:58:57.457Z"
   },
   {
    "duration": 10,
    "start_time": "2023-02-22T14:58:57.714Z"
   },
   {
    "duration": 5,
    "start_time": "2023-02-22T14:58:57.737Z"
   },
   {
    "duration": 6228,
    "start_time": "2023-02-22T14:58:57.745Z"
   },
   {
    "duration": 8,
    "start_time": "2023-02-22T14:59:03.975Z"
   },
   {
    "duration": 1299,
    "start_time": "2023-02-22T14:59:03.984Z"
   },
   {
    "duration": 486281,
    "start_time": "2023-02-22T14:59:05.284Z"
   },
   {
    "duration": 9,
    "start_time": "2023-02-22T15:07:11.567Z"
   },
   {
    "duration": 14,
    "start_time": "2023-02-22T15:07:11.578Z"
   },
   {
    "duration": 1685,
    "start_time": "2023-02-22T15:07:11.594Z"
   },
   {
    "duration": 30687,
    "start_time": "2023-02-22T15:07:13.280Z"
   },
   {
    "duration": 28052,
    "start_time": "2023-02-22T15:07:43.969Z"
   },
   {
    "duration": 69,
    "start_time": "2023-02-22T15:08:12.023Z"
   },
   {
    "duration": 11,
    "start_time": "2023-02-22T15:08:12.094Z"
   },
   {
    "duration": 445610,
    "start_time": "2023-02-22T15:08:12.107Z"
   },
   {
    "duration": 396,
    "start_time": "2023-02-22T15:15:37.718Z"
   },
   {
    "duration": 95,
    "start_time": "2023-02-22T15:15:38.119Z"
   },
   {
    "duration": 545,
    "start_time": "2023-02-22T15:15:38.216Z"
   },
   {
    "duration": 10,
    "start_time": "2023-02-22T15:15:38.763Z"
   },
   {
    "duration": 17,
    "start_time": "2023-02-22T15:15:38.775Z"
   },
   {
    "duration": 90,
    "start_time": "2023-02-22T15:15:38.794Z"
   },
   {
    "duration": 2670066,
    "start_time": "2023-02-22T15:15:38.886Z"
   },
   {
    "duration": 190911,
    "start_time": "2023-02-22T16:00:08.954Z"
   },
   {
    "duration": 72,
    "start_time": "2023-02-22T17:07:06.879Z"
   },
   {
    "duration": 128,
    "start_time": "2023-02-22T17:07:26.601Z"
   },
   {
    "duration": 2258,
    "start_time": "2023-02-22T17:07:39.404Z"
   },
   {
    "duration": 2155,
    "start_time": "2023-02-22T17:07:41.664Z"
   },
   {
    "duration": 2297,
    "start_time": "2023-02-22T17:07:43.821Z"
   },
   {
    "duration": 45,
    "start_time": "2023-02-22T17:07:46.120Z"
   },
   {
    "duration": 29,
    "start_time": "2023-02-22T17:07:46.167Z"
   },
   {
    "duration": 23,
    "start_time": "2023-02-22T17:07:46.198Z"
   },
   {
    "duration": 251,
    "start_time": "2023-02-22T17:07:46.222Z"
   },
   {
    "duration": 7,
    "start_time": "2023-02-22T17:07:46.475Z"
   },
   {
    "duration": 5,
    "start_time": "2023-02-22T17:07:46.483Z"
   },
   {
    "duration": 6397,
    "start_time": "2023-02-22T17:07:46.491Z"
   },
   {
    "duration": 8,
    "start_time": "2023-02-22T17:07:52.890Z"
   },
   {
    "duration": 1318,
    "start_time": "2023-02-22T17:07:52.900Z"
   },
   {
    "duration": 533558,
    "start_time": "2023-02-22T17:07:54.220Z"
   },
   {
    "duration": 8,
    "start_time": "2023-02-22T17:16:47.780Z"
   },
   {
    "duration": 7,
    "start_time": "2023-02-22T17:16:47.789Z"
   },
   {
    "duration": 1652,
    "start_time": "2023-02-22T17:16:47.797Z"
   },
   {
    "duration": 34915,
    "start_time": "2023-02-22T17:16:49.452Z"
   },
   {
    "duration": 29756,
    "start_time": "2023-02-22T17:17:24.370Z"
   },
   {
    "duration": 64,
    "start_time": "2023-02-22T17:17:54.128Z"
   },
   {
    "duration": 5,
    "start_time": "2023-02-22T17:17:54.194Z"
   },
   {
    "duration": 487425,
    "start_time": "2023-02-22T17:17:54.201Z"
   },
   {
    "duration": 572,
    "start_time": "2023-02-22T17:26:01.628Z"
   },
   {
    "duration": 97,
    "start_time": "2023-02-22T17:26:02.202Z"
   },
   {
    "duration": 682,
    "start_time": "2023-02-22T17:26:02.301Z"
   },
   {
    "duration": 11,
    "start_time": "2023-02-22T17:26:02.985Z"
   },
   {
    "duration": 29,
    "start_time": "2023-02-22T17:26:02.998Z"
   },
   {
    "duration": 98,
    "start_time": "2023-02-22T17:26:03.029Z"
   },
   {
    "duration": 2737621,
    "start_time": "2023-02-22T17:26:03.131Z"
   },
   {
    "duration": 1822252,
    "start_time": "2023-02-22T18:11:40.754Z"
   },
   {
    "duration": 1883231,
    "start_time": "2023-02-22T18:42:03.008Z"
   },
   {
    "duration": 9,
    "start_time": "2023-02-22T20:20:50.285Z"
   },
   {
    "duration": 187133,
    "start_time": "2023-02-22T20:21:57.280Z"
   },
   {
    "duration": 92,
    "start_time": "2023-02-22T20:25:04.415Z"
   }
  ],
  "kernelspec": {
   "display_name": "Python 3 (ipykernel)",
   "language": "python",
   "name": "python3"
  },
  "language_info": {
   "codemirror_mode": {
    "name": "ipython",
    "version": 3
   },
   "file_extension": ".py",
   "mimetype": "text/x-python",
   "name": "python",
   "nbconvert_exporter": "python",
   "pygments_lexer": "ipython3",
   "version": "3.9.12"
  },
  "toc": {
   "base_numbering": 1,
   "nav_menu": {},
   "number_sections": true,
   "sideBar": true,
   "skip_h1_title": true,
   "title_cell": "Содержание",
   "title_sidebar": "Contents",
   "toc_cell": true,
   "toc_position": {
    "height": "calc(100% - 180px)",
    "left": "10px",
    "top": "150px",
    "width": "302.391px"
   },
   "toc_section_display": true,
   "toc_window_display": false
  }
 },
 "nbformat": 4,
 "nbformat_minor": 2
}
