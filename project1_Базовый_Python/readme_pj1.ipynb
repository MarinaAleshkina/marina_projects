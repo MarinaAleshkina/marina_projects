{
 "cells": [
  {
   "cell_type": "markdown",
   "id": "26f20c38",
   "metadata": {},
   "source": [
    "###  Данные\n",
    "В наличии были следующие данные о прослушиваниях треков в сервисе Яндекс.Музыка:\n",
    "\n",
    " - Название трека\n",
    " - Исполнитель\n",
    " - Жанр\n",
    " - Город\n",
    " - День прослушивания\n",
    " - Время прослушивания\n",
    "\n",
    "### Задача\n",
    "Провести сравнение музыкальных предпочтений у пользователей Яндекс.Музыки, проживающих в Москве и Санкт-Петербурге. Сравнить прослушивания в понедельник, среду и пятницу по городам, а также сравнить жанры, которые слушают пользователи утром в понедельник и вечером в пятницу в Москве и Санкт-Петербурге.\n",
    "\n",
    "### Используемые библиотеки\n",
    "pandas"
   ]
  },
  {
   "cell_type": "code",
   "execution_count": null,
   "id": "6487402f",
   "metadata": {},
   "outputs": [],
   "source": []
  }
 ],
 "metadata": {
  "kernelspec": {
   "display_name": "Python 3 (ipykernel)",
   "language": "python",
   "name": "python3"
  },
  "language_info": {
   "codemirror_mode": {
    "name": "ipython",
    "version": 3
   },
   "file_extension": ".py",
   "mimetype": "text/x-python",
   "name": "python",
   "nbconvert_exporter": "python",
   "pygments_lexer": "ipython3",
   "version": "3.9.12"
  }
 },
 "nbformat": 4,
 "nbformat_minor": 5
}
