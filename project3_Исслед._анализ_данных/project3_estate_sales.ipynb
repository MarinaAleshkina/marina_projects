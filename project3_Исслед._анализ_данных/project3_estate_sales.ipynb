{
 "cells": [
  {
   "cell_type": "markdown",
   "metadata": {},
   "source": [
    "# Исследование объявлений о продаже квартир\n",
    "\n",
    "В вашем распоряжении данные сервиса Яндекс.Недвижимость — архив объявлений о продаже квартир в Санкт-Петербурге и соседних населённых пунктов за несколько лет. Нужно научиться определять рыночную стоимость объектов недвижимости. Ваша задача — установить параметры. Это позволит построить автоматизированную систему: она отследит аномалии и мошенническую деятельность. \n",
    "\n",
    "По каждой квартире на продажу доступны два вида данных. Первые вписаны пользователем, вторые — получены автоматически на основе картографических данных. Например, расстояние до центра, аэропорта, ближайшего парка и водоёма. "
   ]
  },
  {
   "cell_type": "markdown",
   "metadata": {},
   "source": [
    "## 1. Общая информация о данных"
   ]
  },
  {
   "cell_type": "code",
   "execution_count": 1,
   "metadata": {},
   "outputs": [],
   "source": [
    "import pandas as pd\n",
    "\n",
    "df = pd.read_csv('https://code.s3.yandex.net/datasets/real_estate_data.csv', sep ='\\t')"
   ]
  },
  {
   "cell_type": "code",
   "execution_count": 2,
   "metadata": {},
   "outputs": [
    {
     "data": {
      "text/html": [
       "<div>\n",
       "<style scoped>\n",
       "    .dataframe tbody tr th:only-of-type {\n",
       "        vertical-align: middle;\n",
       "    }\n",
       "\n",
       "    .dataframe tbody tr th {\n",
       "        vertical-align: top;\n",
       "    }\n",
       "\n",
       "    .dataframe thead th {\n",
       "        text-align: right;\n",
       "    }\n",
       "</style>\n",
       "<table border=\"1\" class=\"dataframe\">\n",
       "  <thead>\n",
       "    <tr style=\"text-align: right;\">\n",
       "      <th></th>\n",
       "      <th>total_images</th>\n",
       "      <th>last_price</th>\n",
       "      <th>total_area</th>\n",
       "      <th>first_day_exposition</th>\n",
       "      <th>rooms</th>\n",
       "      <th>ceiling_height</th>\n",
       "      <th>floors_total</th>\n",
       "      <th>living_area</th>\n",
       "      <th>floor</th>\n",
       "      <th>is_apartment</th>\n",
       "      <th>...</th>\n",
       "      <th>kitchen_area</th>\n",
       "      <th>balcony</th>\n",
       "      <th>locality_name</th>\n",
       "      <th>airports_nearest</th>\n",
       "      <th>cityCenters_nearest</th>\n",
       "      <th>parks_around3000</th>\n",
       "      <th>parks_nearest</th>\n",
       "      <th>ponds_around3000</th>\n",
       "      <th>ponds_nearest</th>\n",
       "      <th>days_exposition</th>\n",
       "    </tr>\n",
       "  </thead>\n",
       "  <tbody>\n",
       "    <tr>\n",
       "      <th>0</th>\n",
       "      <td>20</td>\n",
       "      <td>13000000.0</td>\n",
       "      <td>108.00</td>\n",
       "      <td>2019-03-07T00:00:00</td>\n",
       "      <td>3</td>\n",
       "      <td>2.70</td>\n",
       "      <td>16.0</td>\n",
       "      <td>51.00</td>\n",
       "      <td>8</td>\n",
       "      <td>NaN</td>\n",
       "      <td>...</td>\n",
       "      <td>25.00</td>\n",
       "      <td>NaN</td>\n",
       "      <td>Санкт-Петербург</td>\n",
       "      <td>18863.0</td>\n",
       "      <td>16028.0</td>\n",
       "      <td>1.0</td>\n",
       "      <td>482.0</td>\n",
       "      <td>2.0</td>\n",
       "      <td>755.0</td>\n",
       "      <td>NaN</td>\n",
       "    </tr>\n",
       "    <tr>\n",
       "      <th>1</th>\n",
       "      <td>7</td>\n",
       "      <td>3350000.0</td>\n",
       "      <td>40.40</td>\n",
       "      <td>2018-12-04T00:00:00</td>\n",
       "      <td>1</td>\n",
       "      <td>NaN</td>\n",
       "      <td>11.0</td>\n",
       "      <td>18.60</td>\n",
       "      <td>1</td>\n",
       "      <td>NaN</td>\n",
       "      <td>...</td>\n",
       "      <td>11.00</td>\n",
       "      <td>2.0</td>\n",
       "      <td>посёлок Шушары</td>\n",
       "      <td>12817.0</td>\n",
       "      <td>18603.0</td>\n",
       "      <td>0.0</td>\n",
       "      <td>NaN</td>\n",
       "      <td>0.0</td>\n",
       "      <td>NaN</td>\n",
       "      <td>81.0</td>\n",
       "    </tr>\n",
       "    <tr>\n",
       "      <th>2</th>\n",
       "      <td>10</td>\n",
       "      <td>5196000.0</td>\n",
       "      <td>56.00</td>\n",
       "      <td>2015-08-20T00:00:00</td>\n",
       "      <td>2</td>\n",
       "      <td>NaN</td>\n",
       "      <td>5.0</td>\n",
       "      <td>34.30</td>\n",
       "      <td>4</td>\n",
       "      <td>NaN</td>\n",
       "      <td>...</td>\n",
       "      <td>8.30</td>\n",
       "      <td>0.0</td>\n",
       "      <td>Санкт-Петербург</td>\n",
       "      <td>21741.0</td>\n",
       "      <td>13933.0</td>\n",
       "      <td>1.0</td>\n",
       "      <td>90.0</td>\n",
       "      <td>2.0</td>\n",
       "      <td>574.0</td>\n",
       "      <td>558.0</td>\n",
       "    </tr>\n",
       "    <tr>\n",
       "      <th>3</th>\n",
       "      <td>0</td>\n",
       "      <td>64900000.0</td>\n",
       "      <td>159.00</td>\n",
       "      <td>2015-07-24T00:00:00</td>\n",
       "      <td>3</td>\n",
       "      <td>NaN</td>\n",
       "      <td>14.0</td>\n",
       "      <td>NaN</td>\n",
       "      <td>9</td>\n",
       "      <td>NaN</td>\n",
       "      <td>...</td>\n",
       "      <td>NaN</td>\n",
       "      <td>0.0</td>\n",
       "      <td>Санкт-Петербург</td>\n",
       "      <td>28098.0</td>\n",
       "      <td>6800.0</td>\n",
       "      <td>2.0</td>\n",
       "      <td>84.0</td>\n",
       "      <td>3.0</td>\n",
       "      <td>234.0</td>\n",
       "      <td>424.0</td>\n",
       "    </tr>\n",
       "    <tr>\n",
       "      <th>4</th>\n",
       "      <td>2</td>\n",
       "      <td>10000000.0</td>\n",
       "      <td>100.00</td>\n",
       "      <td>2018-06-19T00:00:00</td>\n",
       "      <td>2</td>\n",
       "      <td>3.03</td>\n",
       "      <td>14.0</td>\n",
       "      <td>32.00</td>\n",
       "      <td>13</td>\n",
       "      <td>NaN</td>\n",
       "      <td>...</td>\n",
       "      <td>41.00</td>\n",
       "      <td>NaN</td>\n",
       "      <td>Санкт-Петербург</td>\n",
       "      <td>31856.0</td>\n",
       "      <td>8098.0</td>\n",
       "      <td>2.0</td>\n",
       "      <td>112.0</td>\n",
       "      <td>1.0</td>\n",
       "      <td>48.0</td>\n",
       "      <td>121.0</td>\n",
       "    </tr>\n",
       "    <tr>\n",
       "      <th>5</th>\n",
       "      <td>10</td>\n",
       "      <td>2890000.0</td>\n",
       "      <td>30.40</td>\n",
       "      <td>2018-09-10T00:00:00</td>\n",
       "      <td>1</td>\n",
       "      <td>NaN</td>\n",
       "      <td>12.0</td>\n",
       "      <td>14.40</td>\n",
       "      <td>5</td>\n",
       "      <td>NaN</td>\n",
       "      <td>...</td>\n",
       "      <td>9.10</td>\n",
       "      <td>NaN</td>\n",
       "      <td>городской посёлок Янино-1</td>\n",
       "      <td>NaN</td>\n",
       "      <td>NaN</td>\n",
       "      <td>NaN</td>\n",
       "      <td>NaN</td>\n",
       "      <td>NaN</td>\n",
       "      <td>NaN</td>\n",
       "      <td>55.0</td>\n",
       "    </tr>\n",
       "    <tr>\n",
       "      <th>6</th>\n",
       "      <td>6</td>\n",
       "      <td>3700000.0</td>\n",
       "      <td>37.30</td>\n",
       "      <td>2017-11-02T00:00:00</td>\n",
       "      <td>1</td>\n",
       "      <td>NaN</td>\n",
       "      <td>26.0</td>\n",
       "      <td>10.60</td>\n",
       "      <td>6</td>\n",
       "      <td>NaN</td>\n",
       "      <td>...</td>\n",
       "      <td>14.40</td>\n",
       "      <td>1.0</td>\n",
       "      <td>посёлок Парголово</td>\n",
       "      <td>52996.0</td>\n",
       "      <td>19143.0</td>\n",
       "      <td>0.0</td>\n",
       "      <td>NaN</td>\n",
       "      <td>0.0</td>\n",
       "      <td>NaN</td>\n",
       "      <td>155.0</td>\n",
       "    </tr>\n",
       "    <tr>\n",
       "      <th>7</th>\n",
       "      <td>5</td>\n",
       "      <td>7915000.0</td>\n",
       "      <td>71.60</td>\n",
       "      <td>2019-04-18T00:00:00</td>\n",
       "      <td>2</td>\n",
       "      <td>NaN</td>\n",
       "      <td>24.0</td>\n",
       "      <td>NaN</td>\n",
       "      <td>22</td>\n",
       "      <td>NaN</td>\n",
       "      <td>...</td>\n",
       "      <td>18.90</td>\n",
       "      <td>2.0</td>\n",
       "      <td>Санкт-Петербург</td>\n",
       "      <td>23982.0</td>\n",
       "      <td>11634.0</td>\n",
       "      <td>0.0</td>\n",
       "      <td>NaN</td>\n",
       "      <td>0.0</td>\n",
       "      <td>NaN</td>\n",
       "      <td>NaN</td>\n",
       "    </tr>\n",
       "    <tr>\n",
       "      <th>8</th>\n",
       "      <td>20</td>\n",
       "      <td>2900000.0</td>\n",
       "      <td>33.16</td>\n",
       "      <td>2018-05-23T00:00:00</td>\n",
       "      <td>1</td>\n",
       "      <td>NaN</td>\n",
       "      <td>27.0</td>\n",
       "      <td>15.43</td>\n",
       "      <td>26</td>\n",
       "      <td>NaN</td>\n",
       "      <td>...</td>\n",
       "      <td>8.81</td>\n",
       "      <td>NaN</td>\n",
       "      <td>посёлок Мурино</td>\n",
       "      <td>NaN</td>\n",
       "      <td>NaN</td>\n",
       "      <td>NaN</td>\n",
       "      <td>NaN</td>\n",
       "      <td>NaN</td>\n",
       "      <td>NaN</td>\n",
       "      <td>189.0</td>\n",
       "    </tr>\n",
       "    <tr>\n",
       "      <th>9</th>\n",
       "      <td>18</td>\n",
       "      <td>5400000.0</td>\n",
       "      <td>61.00</td>\n",
       "      <td>2017-02-26T00:00:00</td>\n",
       "      <td>3</td>\n",
       "      <td>2.50</td>\n",
       "      <td>9.0</td>\n",
       "      <td>43.60</td>\n",
       "      <td>7</td>\n",
       "      <td>NaN</td>\n",
       "      <td>...</td>\n",
       "      <td>6.50</td>\n",
       "      <td>2.0</td>\n",
       "      <td>Санкт-Петербург</td>\n",
       "      <td>50898.0</td>\n",
       "      <td>15008.0</td>\n",
       "      <td>0.0</td>\n",
       "      <td>NaN</td>\n",
       "      <td>0.0</td>\n",
       "      <td>NaN</td>\n",
       "      <td>289.0</td>\n",
       "    </tr>\n",
       "    <tr>\n",
       "      <th>10</th>\n",
       "      <td>5</td>\n",
       "      <td>5050000.0</td>\n",
       "      <td>39.60</td>\n",
       "      <td>2017-11-16T00:00:00</td>\n",
       "      <td>1</td>\n",
       "      <td>2.67</td>\n",
       "      <td>12.0</td>\n",
       "      <td>20.30</td>\n",
       "      <td>3</td>\n",
       "      <td>NaN</td>\n",
       "      <td>...</td>\n",
       "      <td>8.50</td>\n",
       "      <td>NaN</td>\n",
       "      <td>Санкт-Петербург</td>\n",
       "      <td>38357.0</td>\n",
       "      <td>13878.0</td>\n",
       "      <td>1.0</td>\n",
       "      <td>310.0</td>\n",
       "      <td>2.0</td>\n",
       "      <td>553.0</td>\n",
       "      <td>137.0</td>\n",
       "    </tr>\n",
       "    <tr>\n",
       "      <th>11</th>\n",
       "      <td>9</td>\n",
       "      <td>3300000.0</td>\n",
       "      <td>44.00</td>\n",
       "      <td>2018-08-27T00:00:00</td>\n",
       "      <td>2</td>\n",
       "      <td>NaN</td>\n",
       "      <td>5.0</td>\n",
       "      <td>31.00</td>\n",
       "      <td>4</td>\n",
       "      <td>False</td>\n",
       "      <td>...</td>\n",
       "      <td>6.00</td>\n",
       "      <td>1.0</td>\n",
       "      <td>Ломоносов</td>\n",
       "      <td>48252.0</td>\n",
       "      <td>51677.0</td>\n",
       "      <td>0.0</td>\n",
       "      <td>NaN</td>\n",
       "      <td>0.0</td>\n",
       "      <td>NaN</td>\n",
       "      <td>7.0</td>\n",
       "    </tr>\n",
       "    <tr>\n",
       "      <th>12</th>\n",
       "      <td>10</td>\n",
       "      <td>3890000.0</td>\n",
       "      <td>54.00</td>\n",
       "      <td>2016-06-30T00:00:00</td>\n",
       "      <td>2</td>\n",
       "      <td>NaN</td>\n",
       "      <td>5.0</td>\n",
       "      <td>30.00</td>\n",
       "      <td>5</td>\n",
       "      <td>NaN</td>\n",
       "      <td>...</td>\n",
       "      <td>9.00</td>\n",
       "      <td>0.0</td>\n",
       "      <td>Сертолово</td>\n",
       "      <td>NaN</td>\n",
       "      <td>NaN</td>\n",
       "      <td>NaN</td>\n",
       "      <td>NaN</td>\n",
       "      <td>NaN</td>\n",
       "      <td>NaN</td>\n",
       "      <td>90.0</td>\n",
       "    </tr>\n",
       "    <tr>\n",
       "      <th>13</th>\n",
       "      <td>20</td>\n",
       "      <td>3550000.0</td>\n",
       "      <td>42.80</td>\n",
       "      <td>2017-07-01T00:00:00</td>\n",
       "      <td>2</td>\n",
       "      <td>2.56</td>\n",
       "      <td>5.0</td>\n",
       "      <td>27.00</td>\n",
       "      <td>5</td>\n",
       "      <td>NaN</td>\n",
       "      <td>...</td>\n",
       "      <td>5.20</td>\n",
       "      <td>1.0</td>\n",
       "      <td>Петергоф</td>\n",
       "      <td>37868.0</td>\n",
       "      <td>33058.0</td>\n",
       "      <td>1.0</td>\n",
       "      <td>294.0</td>\n",
       "      <td>3.0</td>\n",
       "      <td>298.0</td>\n",
       "      <td>366.0</td>\n",
       "    </tr>\n",
       "    <tr>\n",
       "      <th>14</th>\n",
       "      <td>1</td>\n",
       "      <td>4400000.0</td>\n",
       "      <td>36.00</td>\n",
       "      <td>2016-06-23T00:00:00</td>\n",
       "      <td>1</td>\n",
       "      <td>NaN</td>\n",
       "      <td>6.0</td>\n",
       "      <td>17.00</td>\n",
       "      <td>1</td>\n",
       "      <td>NaN</td>\n",
       "      <td>...</td>\n",
       "      <td>8.00</td>\n",
       "      <td>0.0</td>\n",
       "      <td>Пушкин</td>\n",
       "      <td>20782.0</td>\n",
       "      <td>30759.0</td>\n",
       "      <td>0.0</td>\n",
       "      <td>NaN</td>\n",
       "      <td>1.0</td>\n",
       "      <td>96.0</td>\n",
       "      <td>203.0</td>\n",
       "    </tr>\n",
       "  </tbody>\n",
       "</table>\n",
       "<p>15 rows × 22 columns</p>\n",
       "</div>"
      ],
      "text/plain": [
       "    total_images  last_price  total_area first_day_exposition  rooms  \\\n",
       "0             20  13000000.0      108.00  2019-03-07T00:00:00      3   \n",
       "1              7   3350000.0       40.40  2018-12-04T00:00:00      1   \n",
       "2             10   5196000.0       56.00  2015-08-20T00:00:00      2   \n",
       "3              0  64900000.0      159.00  2015-07-24T00:00:00      3   \n",
       "4              2  10000000.0      100.00  2018-06-19T00:00:00      2   \n",
       "5             10   2890000.0       30.40  2018-09-10T00:00:00      1   \n",
       "6              6   3700000.0       37.30  2017-11-02T00:00:00      1   \n",
       "7              5   7915000.0       71.60  2019-04-18T00:00:00      2   \n",
       "8             20   2900000.0       33.16  2018-05-23T00:00:00      1   \n",
       "9             18   5400000.0       61.00  2017-02-26T00:00:00      3   \n",
       "10             5   5050000.0       39.60  2017-11-16T00:00:00      1   \n",
       "11             9   3300000.0       44.00  2018-08-27T00:00:00      2   \n",
       "12            10   3890000.0       54.00  2016-06-30T00:00:00      2   \n",
       "13            20   3550000.0       42.80  2017-07-01T00:00:00      2   \n",
       "14             1   4400000.0       36.00  2016-06-23T00:00:00      1   \n",
       "\n",
       "    ceiling_height  floors_total  living_area  floor is_apartment  ...  \\\n",
       "0             2.70          16.0        51.00      8          NaN  ...   \n",
       "1              NaN          11.0        18.60      1          NaN  ...   \n",
       "2              NaN           5.0        34.30      4          NaN  ...   \n",
       "3              NaN          14.0          NaN      9          NaN  ...   \n",
       "4             3.03          14.0        32.00     13          NaN  ...   \n",
       "5              NaN          12.0        14.40      5          NaN  ...   \n",
       "6              NaN          26.0        10.60      6          NaN  ...   \n",
       "7              NaN          24.0          NaN     22          NaN  ...   \n",
       "8              NaN          27.0        15.43     26          NaN  ...   \n",
       "9             2.50           9.0        43.60      7          NaN  ...   \n",
       "10            2.67          12.0        20.30      3          NaN  ...   \n",
       "11             NaN           5.0        31.00      4        False  ...   \n",
       "12             NaN           5.0        30.00      5          NaN  ...   \n",
       "13            2.56           5.0        27.00      5          NaN  ...   \n",
       "14             NaN           6.0        17.00      1          NaN  ...   \n",
       "\n",
       "    kitchen_area  balcony              locality_name  airports_nearest  \\\n",
       "0          25.00      NaN            Санкт-Петербург           18863.0   \n",
       "1          11.00      2.0             посёлок Шушары           12817.0   \n",
       "2           8.30      0.0            Санкт-Петербург           21741.0   \n",
       "3            NaN      0.0            Санкт-Петербург           28098.0   \n",
       "4          41.00      NaN            Санкт-Петербург           31856.0   \n",
       "5           9.10      NaN  городской посёлок Янино-1               NaN   \n",
       "6          14.40      1.0          посёлок Парголово           52996.0   \n",
       "7          18.90      2.0            Санкт-Петербург           23982.0   \n",
       "8           8.81      NaN             посёлок Мурино               NaN   \n",
       "9           6.50      2.0            Санкт-Петербург           50898.0   \n",
       "10          8.50      NaN            Санкт-Петербург           38357.0   \n",
       "11          6.00      1.0                  Ломоносов           48252.0   \n",
       "12          9.00      0.0                  Сертолово               NaN   \n",
       "13          5.20      1.0                   Петергоф           37868.0   \n",
       "14          8.00      0.0                     Пушкин           20782.0   \n",
       "\n",
       "   cityCenters_nearest  parks_around3000  parks_nearest  ponds_around3000  \\\n",
       "0              16028.0               1.0          482.0               2.0   \n",
       "1              18603.0               0.0            NaN               0.0   \n",
       "2              13933.0               1.0           90.0               2.0   \n",
       "3               6800.0               2.0           84.0               3.0   \n",
       "4               8098.0               2.0          112.0               1.0   \n",
       "5                  NaN               NaN            NaN               NaN   \n",
       "6              19143.0               0.0            NaN               0.0   \n",
       "7              11634.0               0.0            NaN               0.0   \n",
       "8                  NaN               NaN            NaN               NaN   \n",
       "9              15008.0               0.0            NaN               0.0   \n",
       "10             13878.0               1.0          310.0               2.0   \n",
       "11             51677.0               0.0            NaN               0.0   \n",
       "12                 NaN               NaN            NaN               NaN   \n",
       "13             33058.0               1.0          294.0               3.0   \n",
       "14             30759.0               0.0            NaN               1.0   \n",
       "\n",
       "    ponds_nearest  days_exposition  \n",
       "0           755.0              NaN  \n",
       "1             NaN             81.0  \n",
       "2           574.0            558.0  \n",
       "3           234.0            424.0  \n",
       "4            48.0            121.0  \n",
       "5             NaN             55.0  \n",
       "6             NaN            155.0  \n",
       "7             NaN              NaN  \n",
       "8             NaN            189.0  \n",
       "9             NaN            289.0  \n",
       "10          553.0            137.0  \n",
       "11            NaN              7.0  \n",
       "12            NaN             90.0  \n",
       "13          298.0            366.0  \n",
       "14           96.0            203.0  \n",
       "\n",
       "[15 rows x 22 columns]"
      ]
     },
     "execution_count": 2,
     "metadata": {},
     "output_type": "execute_result"
    }
   ],
   "source": [
    "df.head(15)"
   ]
  },
  {
   "cell_type": "code",
   "execution_count": 3,
   "metadata": {},
   "outputs": [
    {
     "name": "stdout",
     "output_type": "stream",
     "text": [
      "<class 'pandas.core.frame.DataFrame'>\n",
      "RangeIndex: 23699 entries, 0 to 23698\n",
      "Data columns (total 22 columns):\n",
      " #   Column                Non-Null Count  Dtype  \n",
      "---  ------                --------------  -----  \n",
      " 0   total_images          23699 non-null  int64  \n",
      " 1   last_price            23699 non-null  float64\n",
      " 2   total_area            23699 non-null  float64\n",
      " 3   first_day_exposition  23699 non-null  object \n",
      " 4   rooms                 23699 non-null  int64  \n",
      " 5   ceiling_height        14504 non-null  float64\n",
      " 6   floors_total          23613 non-null  float64\n",
      " 7   living_area           21796 non-null  float64\n",
      " 8   floor                 23699 non-null  int64  \n",
      " 9   is_apartment          2775 non-null   object \n",
      " 10  studio                23699 non-null  bool   \n",
      " 11  open_plan             23699 non-null  bool   \n",
      " 12  kitchen_area          21421 non-null  float64\n",
      " 13  balcony               12180 non-null  float64\n",
      " 14  locality_name         23650 non-null  object \n",
      " 15  airports_nearest      18157 non-null  float64\n",
      " 16  cityCenters_nearest   18180 non-null  float64\n",
      " 17  parks_around3000      18181 non-null  float64\n",
      " 18  parks_nearest         8079 non-null   float64\n",
      " 19  ponds_around3000      18181 non-null  float64\n",
      " 20  ponds_nearest         9110 non-null   float64\n",
      " 21  days_exposition       20518 non-null  float64\n",
      "dtypes: bool(2), float64(14), int64(3), object(3)\n",
      "memory usage: 3.7+ MB\n"
     ]
    }
   ],
   "source": [
    "df.info()"
   ]
  },
  {
   "cell_type": "code",
   "execution_count": 4,
   "metadata": {
    "scrolled": true
   },
   "outputs": [
    {
     "data": {
      "text/html": [
       "<div>\n",
       "<style scoped>\n",
       "    .dataframe tbody tr th:only-of-type {\n",
       "        vertical-align: middle;\n",
       "    }\n",
       "\n",
       "    .dataframe tbody tr th {\n",
       "        vertical-align: top;\n",
       "    }\n",
       "\n",
       "    .dataframe thead th {\n",
       "        text-align: right;\n",
       "    }\n",
       "</style>\n",
       "<table border=\"1\" class=\"dataframe\">\n",
       "  <thead>\n",
       "    <tr style=\"text-align: right;\">\n",
       "      <th></th>\n",
       "      <th>total_images</th>\n",
       "      <th>last_price</th>\n",
       "      <th>total_area</th>\n",
       "      <th>rooms</th>\n",
       "      <th>ceiling_height</th>\n",
       "      <th>floors_total</th>\n",
       "      <th>living_area</th>\n",
       "      <th>floor</th>\n",
       "      <th>kitchen_area</th>\n",
       "      <th>balcony</th>\n",
       "      <th>airports_nearest</th>\n",
       "      <th>cityCenters_nearest</th>\n",
       "      <th>parks_around3000</th>\n",
       "      <th>parks_nearest</th>\n",
       "      <th>ponds_around3000</th>\n",
       "      <th>ponds_nearest</th>\n",
       "      <th>days_exposition</th>\n",
       "    </tr>\n",
       "  </thead>\n",
       "  <tbody>\n",
       "    <tr>\n",
       "      <th>count</th>\n",
       "      <td>23699.000000</td>\n",
       "      <td>2.369900e+04</td>\n",
       "      <td>23699.000000</td>\n",
       "      <td>23699.000000</td>\n",
       "      <td>14504.000000</td>\n",
       "      <td>23613.000000</td>\n",
       "      <td>21796.000000</td>\n",
       "      <td>23699.000000</td>\n",
       "      <td>21421.000000</td>\n",
       "      <td>12180.000000</td>\n",
       "      <td>18157.000000</td>\n",
       "      <td>18180.000000</td>\n",
       "      <td>18181.000000</td>\n",
       "      <td>8079.000000</td>\n",
       "      <td>18181.000000</td>\n",
       "      <td>9110.000000</td>\n",
       "      <td>20518.000000</td>\n",
       "    </tr>\n",
       "    <tr>\n",
       "      <th>mean</th>\n",
       "      <td>9.858475</td>\n",
       "      <td>6.541549e+06</td>\n",
       "      <td>60.348651</td>\n",
       "      <td>2.070636</td>\n",
       "      <td>2.771499</td>\n",
       "      <td>10.673824</td>\n",
       "      <td>34.457852</td>\n",
       "      <td>5.892358</td>\n",
       "      <td>10.569807</td>\n",
       "      <td>1.150082</td>\n",
       "      <td>28793.672193</td>\n",
       "      <td>14191.277833</td>\n",
       "      <td>0.611408</td>\n",
       "      <td>490.804555</td>\n",
       "      <td>0.770255</td>\n",
       "      <td>517.980900</td>\n",
       "      <td>180.888634</td>\n",
       "    </tr>\n",
       "    <tr>\n",
       "      <th>std</th>\n",
       "      <td>5.682529</td>\n",
       "      <td>1.088701e+07</td>\n",
       "      <td>35.654083</td>\n",
       "      <td>1.078405</td>\n",
       "      <td>1.261056</td>\n",
       "      <td>6.597173</td>\n",
       "      <td>22.030445</td>\n",
       "      <td>4.885249</td>\n",
       "      <td>5.905438</td>\n",
       "      <td>1.071300</td>\n",
       "      <td>12630.880622</td>\n",
       "      <td>8608.386210</td>\n",
       "      <td>0.802074</td>\n",
       "      <td>342.317995</td>\n",
       "      <td>0.938346</td>\n",
       "      <td>277.720643</td>\n",
       "      <td>219.727988</td>\n",
       "    </tr>\n",
       "    <tr>\n",
       "      <th>min</th>\n",
       "      <td>0.000000</td>\n",
       "      <td>1.219000e+04</td>\n",
       "      <td>12.000000</td>\n",
       "      <td>0.000000</td>\n",
       "      <td>1.000000</td>\n",
       "      <td>1.000000</td>\n",
       "      <td>2.000000</td>\n",
       "      <td>1.000000</td>\n",
       "      <td>1.300000</td>\n",
       "      <td>0.000000</td>\n",
       "      <td>0.000000</td>\n",
       "      <td>181.000000</td>\n",
       "      <td>0.000000</td>\n",
       "      <td>1.000000</td>\n",
       "      <td>0.000000</td>\n",
       "      <td>13.000000</td>\n",
       "      <td>1.000000</td>\n",
       "    </tr>\n",
       "    <tr>\n",
       "      <th>25%</th>\n",
       "      <td>6.000000</td>\n",
       "      <td>3.400000e+06</td>\n",
       "      <td>40.000000</td>\n",
       "      <td>1.000000</td>\n",
       "      <td>2.520000</td>\n",
       "      <td>5.000000</td>\n",
       "      <td>18.600000</td>\n",
       "      <td>2.000000</td>\n",
       "      <td>7.000000</td>\n",
       "      <td>0.000000</td>\n",
       "      <td>18585.000000</td>\n",
       "      <td>9238.000000</td>\n",
       "      <td>0.000000</td>\n",
       "      <td>288.000000</td>\n",
       "      <td>0.000000</td>\n",
       "      <td>294.000000</td>\n",
       "      <td>45.000000</td>\n",
       "    </tr>\n",
       "    <tr>\n",
       "      <th>50%</th>\n",
       "      <td>9.000000</td>\n",
       "      <td>4.650000e+06</td>\n",
       "      <td>52.000000</td>\n",
       "      <td>2.000000</td>\n",
       "      <td>2.650000</td>\n",
       "      <td>9.000000</td>\n",
       "      <td>30.000000</td>\n",
       "      <td>4.000000</td>\n",
       "      <td>9.100000</td>\n",
       "      <td>1.000000</td>\n",
       "      <td>26726.000000</td>\n",
       "      <td>13098.500000</td>\n",
       "      <td>0.000000</td>\n",
       "      <td>455.000000</td>\n",
       "      <td>1.000000</td>\n",
       "      <td>502.000000</td>\n",
       "      <td>95.000000</td>\n",
       "    </tr>\n",
       "    <tr>\n",
       "      <th>75%</th>\n",
       "      <td>14.000000</td>\n",
       "      <td>6.800000e+06</td>\n",
       "      <td>69.900000</td>\n",
       "      <td>3.000000</td>\n",
       "      <td>2.800000</td>\n",
       "      <td>16.000000</td>\n",
       "      <td>42.300000</td>\n",
       "      <td>8.000000</td>\n",
       "      <td>12.000000</td>\n",
       "      <td>2.000000</td>\n",
       "      <td>37273.000000</td>\n",
       "      <td>16293.000000</td>\n",
       "      <td>1.000000</td>\n",
       "      <td>612.000000</td>\n",
       "      <td>1.000000</td>\n",
       "      <td>729.000000</td>\n",
       "      <td>232.000000</td>\n",
       "    </tr>\n",
       "    <tr>\n",
       "      <th>max</th>\n",
       "      <td>50.000000</td>\n",
       "      <td>7.630000e+08</td>\n",
       "      <td>900.000000</td>\n",
       "      <td>19.000000</td>\n",
       "      <td>100.000000</td>\n",
       "      <td>60.000000</td>\n",
       "      <td>409.700000</td>\n",
       "      <td>33.000000</td>\n",
       "      <td>112.000000</td>\n",
       "      <td>5.000000</td>\n",
       "      <td>84869.000000</td>\n",
       "      <td>65968.000000</td>\n",
       "      <td>3.000000</td>\n",
       "      <td>3190.000000</td>\n",
       "      <td>3.000000</td>\n",
       "      <td>1344.000000</td>\n",
       "      <td>1580.000000</td>\n",
       "    </tr>\n",
       "  </tbody>\n",
       "</table>\n",
       "</div>"
      ],
      "text/plain": [
       "       total_images    last_price    total_area         rooms  ceiling_height  \\\n",
       "count  23699.000000  2.369900e+04  23699.000000  23699.000000    14504.000000   \n",
       "mean       9.858475  6.541549e+06     60.348651      2.070636        2.771499   \n",
       "std        5.682529  1.088701e+07     35.654083      1.078405        1.261056   \n",
       "min        0.000000  1.219000e+04     12.000000      0.000000        1.000000   \n",
       "25%        6.000000  3.400000e+06     40.000000      1.000000        2.520000   \n",
       "50%        9.000000  4.650000e+06     52.000000      2.000000        2.650000   \n",
       "75%       14.000000  6.800000e+06     69.900000      3.000000        2.800000   \n",
       "max       50.000000  7.630000e+08    900.000000     19.000000      100.000000   \n",
       "\n",
       "       floors_total   living_area         floor  kitchen_area       balcony  \\\n",
       "count  23613.000000  21796.000000  23699.000000  21421.000000  12180.000000   \n",
       "mean      10.673824     34.457852      5.892358     10.569807      1.150082   \n",
       "std        6.597173     22.030445      4.885249      5.905438      1.071300   \n",
       "min        1.000000      2.000000      1.000000      1.300000      0.000000   \n",
       "25%        5.000000     18.600000      2.000000      7.000000      0.000000   \n",
       "50%        9.000000     30.000000      4.000000      9.100000      1.000000   \n",
       "75%       16.000000     42.300000      8.000000     12.000000      2.000000   \n",
       "max       60.000000    409.700000     33.000000    112.000000      5.000000   \n",
       "\n",
       "       airports_nearest  cityCenters_nearest  parks_around3000  parks_nearest  \\\n",
       "count      18157.000000         18180.000000      18181.000000    8079.000000   \n",
       "mean       28793.672193         14191.277833          0.611408     490.804555   \n",
       "std        12630.880622          8608.386210          0.802074     342.317995   \n",
       "min            0.000000           181.000000          0.000000       1.000000   \n",
       "25%        18585.000000          9238.000000          0.000000     288.000000   \n",
       "50%        26726.000000         13098.500000          0.000000     455.000000   \n",
       "75%        37273.000000         16293.000000          1.000000     612.000000   \n",
       "max        84869.000000         65968.000000          3.000000    3190.000000   \n",
       "\n",
       "       ponds_around3000  ponds_nearest  days_exposition  \n",
       "count      18181.000000    9110.000000     20518.000000  \n",
       "mean           0.770255     517.980900       180.888634  \n",
       "std            0.938346     277.720643       219.727988  \n",
       "min            0.000000      13.000000         1.000000  \n",
       "25%            0.000000     294.000000        45.000000  \n",
       "50%            1.000000     502.000000        95.000000  \n",
       "75%            1.000000     729.000000       232.000000  \n",
       "max            3.000000    1344.000000      1580.000000  "
      ]
     },
     "execution_count": 4,
     "metadata": {},
     "output_type": "execute_result"
    }
   ],
   "source": [
    "df.describe()"
   ]
  },
  {
   "cell_type": "code",
   "execution_count": 5,
   "metadata": {},
   "outputs": [
    {
     "data": {
      "text/plain": [
       "array([[<AxesSubplot:title={'center':'total_images'}>,\n",
       "        <AxesSubplot:title={'center':'last_price'}>,\n",
       "        <AxesSubplot:title={'center':'total_area'}>,\n",
       "        <AxesSubplot:title={'center':'rooms'}>],\n",
       "       [<AxesSubplot:title={'center':'ceiling_height'}>,\n",
       "        <AxesSubplot:title={'center':'floors_total'}>,\n",
       "        <AxesSubplot:title={'center':'living_area'}>,\n",
       "        <AxesSubplot:title={'center':'floor'}>],\n",
       "       [<AxesSubplot:title={'center':'kitchen_area'}>,\n",
       "        <AxesSubplot:title={'center':'balcony'}>,\n",
       "        <AxesSubplot:title={'center':'airports_nearest'}>,\n",
       "        <AxesSubplot:title={'center':'cityCenters_nearest'}>],\n",
       "       [<AxesSubplot:title={'center':'parks_around3000'}>,\n",
       "        <AxesSubplot:title={'center':'parks_nearest'}>,\n",
       "        <AxesSubplot:title={'center':'ponds_around3000'}>,\n",
       "        <AxesSubplot:title={'center':'ponds_nearest'}>],\n",
       "       [<AxesSubplot:title={'center':'days_exposition'}>, <AxesSubplot:>,\n",
       "        <AxesSubplot:>, <AxesSubplot:>]], dtype=object)"
      ]
     },
     "execution_count": 5,
     "metadata": {},
     "output_type": "execute_result"
    },
    {
     "data": {
      "image/png": "[encoded data removed]",
      "text/plain": [
       "<Figure size 1080x1440 with 20 Axes>"
      ]
     },
     "metadata": {
      "needs_background": "light"
     },
     "output_type": "display_data"
    }
   ],
   "source": [
    "df.hist(figsize=(15, 20))"
   ]
  },
  {
   "cell_type": "markdown",
   "metadata": {},
   "source": [
    "<div class=\"alert alert-info\">\n",
    "Данные представляют собой информацию о 23699 объектах недвижимости в Санкт-Петербурге  пригородах. Есть информация по 22 параметрам.\n",
    " \n",
    "    \n",
    "В основном переменные количественные, несколько столбцов с категориальными данными. Есть пропуски, есть выбросы, которые необходимо обработать. Распределения величин чаще всего имеют \"ступенчатый\" вид  несколько пиков, что говорит о неоднородности данных внутри выборки и возможности анализа данных по группам.\n",
    "\n",
    "</div>"
   ]
  },
  {
   "cell_type": "markdown",
   "metadata": {},
   "source": [
    "## 2. Предобработка данных"
   ]
  },
  {
   "cell_type": "markdown",
   "metadata": {},
   "source": [
    "### 2.1. Удаление пропусков"
   ]
  },
  {
   "cell_type": "markdown",
   "metadata": {},
   "source": [
    "#### 2.1.1.  Поиск и анализ пропущенных значений"
   ]
  },
  {
   "cell_type": "markdown",
   "metadata": {},
   "source": [
    "Определим, в каких столбцах есть пропуски, попробуем их обработать"
   ]
  },
  {
   "cell_type": "code",
   "execution_count": 6,
   "metadata": {},
   "outputs": [
    {
     "data": {
      "text/plain": [
       "total_images                0\n",
       "last_price                  0\n",
       "total_area                  0\n",
       "first_day_exposition        0\n",
       "rooms                       0\n",
       "ceiling_height           9195\n",
       "floors_total               86\n",
       "living_area              1903\n",
       "floor                       0\n",
       "is_apartment            20924\n",
       "studio                      0\n",
       "open_plan                   0\n",
       "kitchen_area             2278\n",
       "balcony                 11519\n",
       "locality_name              49\n",
       "airports_nearest         5542\n",
       "cityCenters_nearest      5519\n",
       "parks_around3000         5518\n",
       "parks_nearest           15620\n",
       "ponds_around3000         5518\n",
       "ponds_nearest           14589\n",
       "days_exposition          3181\n",
       "dtype: int64"
      ]
     },
     "execution_count": 6,
     "metadata": {},
     "output_type": "execute_result"
    }
   ],
   "source": [
    "df.isna().sum()"
   ]
  },
  {
   "cell_type": "markdown",
   "metadata": {},
   "source": [
    "**Пропуски есть в  следующих столбцах:**\n",
    "    \n",
    "    1. Данные, добавленные пользователем\n",
    "    ceiling_height  - высота потолков (м)       \n",
    "    floors_total    -  всего этажей в доме\n",
    "    living_area     -  жилая площадь в квадратных метрах (м²)\n",
    "    is_apartment    - апартаменты (булев тип)\n",
    "    kitchen_area    - площадь кухни в квадратных метрах (м²)\n",
    "    balcony        - число балконов\n",
    "    locality_name  - название населённого пункта\n",
    "    \n",
    "    2. Данные, полученные автоматически\n",
    "    airports_nearest       расстояние до ближайшего аэропорта в метрах (м)\n",
    "    cityCenters_nearest   — расстояние до центра города (м)\n",
    "    parks_around3000       — число парков в радиусе 3 км \n",
    "    parks_nearest          — расстояние до ближайшего парка (м)\n",
    "    ponds_around3000      — число водоёмов в радиусе 3 км \n",
    "    ponds_nearest         — расстояние до ближайшего водоёма (м)\n",
    "    days_exposition     — сколько дней было размещено объявление (от публикации до снятия)\n",
    "    airports_nearest — расстояние до ближайшего аэропорта в метрах (м)\n"
   ]
  },
  {
   "cell_type": "markdown",
   "metadata": {},
   "source": [
    "#### 2.1.2. Причины появления пропусков"
   ]
  },
  {
   "cell_type": "markdown",
   "metadata": {},
   "source": [
    "Возможные причины появления пропуcков в данных:\n",
    "\n",
    "    1. Ошибки ввода данных продавцом:\n",
    "        - неверное заполнение (например, заполнение населенного пункта с ошибкой приведет к тому, \n",
    "        что автоматически не заполнятся картографические данные)\n",
    "        - случайный пропуск графы при размещении объявления\n",
    "        - пропуск при фактическом отсутствии чего-либо: например, нет балкона или недвижимость не является аппартаментами\n",
    "    \n",
    "    2. Недостаток информации или ее намеренное сокрытие при размещении объявления (например, объявление может быть размещено риэлтором, и у него может не быть информации о точном метраже жилой площади или высоте потолков)\n",
    "    \n",
    "    3. Потеря части информации при переносе данных из базы\n",
    "    \n",
    "    4. Сбой в автоопределении местоположения недвижимости для заполнения картографических данных \n",
    "    или данных о длительности размещения объявления"
   ]
  },
  {
   "cell_type": "markdown",
   "metadata": {},
   "source": [
    "#### 2.1.3. Заполнение пропусков"
   ]
  },
  {
   "cell_type": "markdown",
   "metadata": {},
   "source": [
    "Логичную замену пропускам можно предположить для столбцов balcony (число балконов)\n",
    "и is_appartment (аппартаменты или нет). Заполним пропуски на 0 (не проставлено пользователем, так как балкона нет) и False (не проставлено, так как недвижимость не является аппартаментами) в соответствующих столбцах.\n",
    "\n",
    "Пропуски в столбцe locality_name заменим на значение 'unknown'.\n",
    "Пропуски в количественных данных floors_total заменим на 0 (таких значений не может быть, поэтому поймем,что это характеризует пропуск).\n",
    "\n",
    "К обработке остальных пропусков в столбцах, заполненных пользователем, вернемся после обработки аномальных значений."
   ]
  },
  {
   "cell_type": "code",
   "execution_count": 7,
   "metadata": {},
   "outputs": [],
   "source": [
    "df['balcony'] = df['balcony'].fillna(0)"
   ]
  },
  {
   "cell_type": "code",
   "execution_count": 8,
   "metadata": {},
   "outputs": [],
   "source": [
    "df['is_apartment'] = df['is_apartment'].fillna(False)"
   ]
  },
  {
   "cell_type": "code",
   "execution_count": 9,
   "metadata": {},
   "outputs": [],
   "source": [
    "df['locality_name'] = df['locality_name'].fillna('unknown')"
   ]
  },
  {
   "cell_type": "code",
   "execution_count": 10,
   "metadata": {},
   "outputs": [],
   "source": [
    "df['floors_total'] = df['floors_total'].fillna(0)"
   ]
  },
  {
   "cell_type": "code",
   "execution_count": 11,
   "metadata": {},
   "outputs": [
    {
     "data": {
      "text/plain": [
       "total_images                0\n",
       "last_price                  0\n",
       "total_area                  0\n",
       "first_day_exposition        0\n",
       "rooms                       0\n",
       "ceiling_height           9195\n",
       "floors_total                0\n",
       "living_area              1903\n",
       "floor                       0\n",
       "is_apartment                0\n",
       "studio                      0\n",
       "open_plan                   0\n",
       "kitchen_area             2278\n",
       "balcony                     0\n",
       "locality_name               0\n",
       "airports_nearest         5542\n",
       "cityCenters_nearest      5519\n",
       "parks_around3000         5518\n",
       "parks_nearest           15620\n",
       "ponds_around3000         5518\n",
       "ponds_nearest           14589\n",
       "days_exposition          3181\n",
       "dtype: int64"
      ]
     },
     "execution_count": 11,
     "metadata": {},
     "output_type": "execute_result"
    }
   ],
   "source": [
    "df.isna().sum()"
   ]
  },
  {
   "cell_type": "markdown",
   "metadata": {},
   "source": [
    "Обработка пропусков картографических данных невозможна, так как нет точного адреса квартиры, а замена медианными или средними значениями в данном случае сильно исказит результаты исследования. Для Санкт-Петербурга большой разброс значений, а для пригородов скорее всего малые выборки.\n",
    "\n",
    "Сгруппируем квартиры по их по местоположению и выведем картографические данные, измеряющие расстояния."
   ]
  },
  {
   "cell_type": "code",
   "execution_count": 12,
   "metadata": {},
   "outputs": [
    {
     "data": {
      "text/html": [
       "<div>\n",
       "<style scoped>\n",
       "    .dataframe tbody tr th:only-of-type {\n",
       "        vertical-align: middle;\n",
       "    }\n",
       "\n",
       "    .dataframe tbody tr th {\n",
       "        vertical-align: top;\n",
       "    }\n",
       "\n",
       "    .dataframe thead th {\n",
       "        text-align: right;\n",
       "    }\n",
       "</style>\n",
       "<table border=\"1\" class=\"dataframe\">\n",
       "  <thead>\n",
       "    <tr style=\"text-align: right;\">\n",
       "      <th></th>\n",
       "      <th>airports_nearest</th>\n",
       "      <th>cityCenters_nearest</th>\n",
       "      <th>parks_nearest</th>\n",
       "      <th>ponds_nearest</th>\n",
       "    </tr>\n",
       "    <tr>\n",
       "      <th>locality_name</th>\n",
       "      <th></th>\n",
       "      <th></th>\n",
       "      <th></th>\n",
       "      <th></th>\n",
       "    </tr>\n",
       "  </thead>\n",
       "  <tbody>\n",
       "    <tr>\n",
       "      <th>unknown</th>\n",
       "      <td>22041.0</td>\n",
       "      <td>8943.0</td>\n",
       "      <td>472.0</td>\n",
       "      <td>374.0</td>\n",
       "    </tr>\n",
       "    <tr>\n",
       "      <th>Зеленогорск</th>\n",
       "      <td>72282.0</td>\n",
       "      <td>53381.0</td>\n",
       "      <td>147.5</td>\n",
       "      <td>507.0</td>\n",
       "    </tr>\n",
       "    <tr>\n",
       "      <th>Колпино</th>\n",
       "      <td>26232.0</td>\n",
       "      <td>32018.0</td>\n",
       "      <td>393.0</td>\n",
       "      <td>509.0</td>\n",
       "    </tr>\n",
       "    <tr>\n",
       "      <th>Красное Село</th>\n",
       "      <td>25715.5</td>\n",
       "      <td>29140.5</td>\n",
       "      <td>428.5</td>\n",
       "      <td>225.5</td>\n",
       "    </tr>\n",
       "    <tr>\n",
       "      <th>Кронштадт</th>\n",
       "      <td>67850.0</td>\n",
       "      <td>49575.0</td>\n",
       "      <td>293.0</td>\n",
       "      <td>312.0</td>\n",
       "    </tr>\n",
       "    <tr>\n",
       "      <th>Ломоносов</th>\n",
       "      <td>48415.5</td>\n",
       "      <td>51677.0</td>\n",
       "      <td>407.0</td>\n",
       "      <td>553.0</td>\n",
       "    </tr>\n",
       "    <tr>\n",
       "      <th>Павловск</th>\n",
       "      <td>20529.5</td>\n",
       "      <td>32683.0</td>\n",
       "      <td>312.0</td>\n",
       "      <td>458.0</td>\n",
       "    </tr>\n",
       "    <tr>\n",
       "      <th>Петергоф</th>\n",
       "      <td>39231.0</td>\n",
       "      <td>33771.0</td>\n",
       "      <td>294.0</td>\n",
       "      <td>474.0</td>\n",
       "    </tr>\n",
       "    <tr>\n",
       "      <th>Пушкин</th>\n",
       "      <td>15766.0</td>\n",
       "      <td>27930.5</td>\n",
       "      <td>399.5</td>\n",
       "      <td>444.0</td>\n",
       "    </tr>\n",
       "    <tr>\n",
       "      <th>Санкт-Петербург</th>\n",
       "      <td>26757.5</td>\n",
       "      <td>12244.5</td>\n",
       "      <td>460.0</td>\n",
       "      <td>503.0</td>\n",
       "    </tr>\n",
       "    <tr>\n",
       "      <th>Сестрорецк</th>\n",
       "      <td>56692.0</td>\n",
       "      <td>34821.0</td>\n",
       "      <td>367.0</td>\n",
       "      <td>372.0</td>\n",
       "    </tr>\n",
       "    <tr>\n",
       "      <th>поселок Лисий Нос</th>\n",
       "      <td>55930.0</td>\n",
       "      <td>28246.0</td>\n",
       "      <td>NaN</td>\n",
       "      <td>NaN</td>\n",
       "    </tr>\n",
       "    <tr>\n",
       "      <th>поселок Мурино</th>\n",
       "      <td>51553.0</td>\n",
       "      <td>21888.0</td>\n",
       "      <td>NaN</td>\n",
       "      <td>133.0</td>\n",
       "    </tr>\n",
       "    <tr>\n",
       "      <th>посёлок Александровская</th>\n",
       "      <td>12896.5</td>\n",
       "      <td>27468.0</td>\n",
       "      <td>NaN</td>\n",
       "      <td>711.5</td>\n",
       "    </tr>\n",
       "    <tr>\n",
       "      <th>посёлок Белоостров</th>\n",
       "      <td>57769.0</td>\n",
       "      <td>38868.0</td>\n",
       "      <td>NaN</td>\n",
       "      <td>320.0</td>\n",
       "    </tr>\n",
       "    <tr>\n",
       "      <th>посёлок Левашово</th>\n",
       "      <td>52693.0</td>\n",
       "      <td>25727.0</td>\n",
       "      <td>NaN</td>\n",
       "      <td>NaN</td>\n",
       "    </tr>\n",
       "    <tr>\n",
       "      <th>посёлок Лисий Нос</th>\n",
       "      <td>54988.5</td>\n",
       "      <td>27297.0</td>\n",
       "      <td>NaN</td>\n",
       "      <td>NaN</td>\n",
       "    </tr>\n",
       "    <tr>\n",
       "      <th>посёлок Металлострой</th>\n",
       "      <td>25758.0</td>\n",
       "      <td>27602.0</td>\n",
       "      <td>NaN</td>\n",
       "      <td>NaN</td>\n",
       "    </tr>\n",
       "    <tr>\n",
       "      <th>посёлок Молодёжное</th>\n",
       "      <td>84665.0</td>\n",
       "      <td>65764.0</td>\n",
       "      <td>NaN</td>\n",
       "      <td>NaN</td>\n",
       "    </tr>\n",
       "    <tr>\n",
       "      <th>посёлок Парголово</th>\n",
       "      <td>53426.0</td>\n",
       "      <td>19311.0</td>\n",
       "      <td>733.0</td>\n",
       "      <td>593.0</td>\n",
       "    </tr>\n",
       "    <tr>\n",
       "      <th>посёлок Песочный</th>\n",
       "      <td>54831.5</td>\n",
       "      <td>26099.5</td>\n",
       "      <td>NaN</td>\n",
       "      <td>NaN</td>\n",
       "    </tr>\n",
       "    <tr>\n",
       "      <th>посёлок Петро-Славянка</th>\n",
       "      <td>20605.0</td>\n",
       "      <td>27165.0</td>\n",
       "      <td>NaN</td>\n",
       "      <td>663.0</td>\n",
       "    </tr>\n",
       "    <tr>\n",
       "      <th>посёлок Понтонный</th>\n",
       "      <td>30642.0</td>\n",
       "      <td>32354.0</td>\n",
       "      <td>NaN</td>\n",
       "      <td>638.0</td>\n",
       "    </tr>\n",
       "    <tr>\n",
       "      <th>посёлок Репино</th>\n",
       "      <td>61797.5</td>\n",
       "      <td>42896.5</td>\n",
       "      <td>NaN</td>\n",
       "      <td>NaN</td>\n",
       "    </tr>\n",
       "    <tr>\n",
       "      <th>посёлок Сапёрный</th>\n",
       "      <td>34147.5</td>\n",
       "      <td>35859.5</td>\n",
       "      <td>NaN</td>\n",
       "      <td>419.5</td>\n",
       "    </tr>\n",
       "    <tr>\n",
       "      <th>посёлок Стрельна</th>\n",
       "      <td>28317.0</td>\n",
       "      <td>23506.0</td>\n",
       "      <td>700.0</td>\n",
       "      <td>859.0</td>\n",
       "    </tr>\n",
       "    <tr>\n",
       "      <th>посёлок Усть-Ижора</th>\n",
       "      <td>26510.5</td>\n",
       "      <td>28222.5</td>\n",
       "      <td>NaN</td>\n",
       "      <td>NaN</td>\n",
       "    </tr>\n",
       "    <tr>\n",
       "      <th>посёлок Шушары</th>\n",
       "      <td>17427.0</td>\n",
       "      <td>24212.0</td>\n",
       "      <td>NaN</td>\n",
       "      <td>584.5</td>\n",
       "    </tr>\n",
       "    <tr>\n",
       "      <th>посёлок Щеглово</th>\n",
       "      <td>61908.0</td>\n",
       "      <td>34085.0</td>\n",
       "      <td>NaN</td>\n",
       "      <td>NaN</td>\n",
       "    </tr>\n",
       "  </tbody>\n",
       "</table>\n",
       "</div>"
      ],
      "text/plain": [
       "                         airports_nearest  cityCenters_nearest  parks_nearest  \\\n",
       "locality_name                                                                   \n",
       "unknown                           22041.0               8943.0          472.0   \n",
       "Зеленогорск                       72282.0              53381.0          147.5   \n",
       "Колпино                           26232.0              32018.0          393.0   \n",
       "Красное Село                      25715.5              29140.5          428.5   \n",
       "Кронштадт                         67850.0              49575.0          293.0   \n",
       "Ломоносов                         48415.5              51677.0          407.0   \n",
       "Павловск                          20529.5              32683.0          312.0   \n",
       "Петергоф                          39231.0              33771.0          294.0   \n",
       "Пушкин                            15766.0              27930.5          399.5   \n",
       "Санкт-Петербург                   26757.5              12244.5          460.0   \n",
       "Сестрорецк                        56692.0              34821.0          367.0   \n",
       "поселок Лисий Нос                 55930.0              28246.0            NaN   \n",
       "поселок Мурино                    51553.0              21888.0            NaN   \n",
       "посёлок Александровская           12896.5              27468.0            NaN   \n",
       "посёлок Белоостров                57769.0              38868.0            NaN   \n",
       "посёлок Левашово                  52693.0              25727.0            NaN   \n",
       "посёлок Лисий Нос                 54988.5              27297.0            NaN   \n",
       "посёлок Металлострой              25758.0              27602.0            NaN   \n",
       "посёлок Молодёжное                84665.0              65764.0            NaN   \n",
       "посёлок Парголово                 53426.0              19311.0          733.0   \n",
       "посёлок Песочный                  54831.5              26099.5            NaN   \n",
       "посёлок Петро-Славянка            20605.0              27165.0            NaN   \n",
       "посёлок Понтонный                 30642.0              32354.0            NaN   \n",
       "посёлок Репино                    61797.5              42896.5            NaN   \n",
       "посёлок Сапёрный                  34147.5              35859.5            NaN   \n",
       "посёлок Стрельна                  28317.0              23506.0          700.0   \n",
       "посёлок Усть-Ижора                26510.5              28222.5            NaN   \n",
       "посёлок Шушары                    17427.0              24212.0            NaN   \n",
       "посёлок Щеглово                   61908.0              34085.0            NaN   \n",
       "\n",
       "                         ponds_nearest  \n",
       "locality_name                           \n",
       "unknown                          374.0  \n",
       "Зеленогорск                      507.0  \n",
       "Колпино                          509.0  \n",
       "Красное Село                     225.5  \n",
       "Кронштадт                        312.0  \n",
       "Ломоносов                        553.0  \n",
       "Павловск                         458.0  \n",
       "Петергоф                         474.0  \n",
       "Пушкин                           444.0  \n",
       "Санкт-Петербург                  503.0  \n",
       "Сестрорецк                       372.0  \n",
       "поселок Лисий Нос                  NaN  \n",
       "поселок Мурино                   133.0  \n",
       "посёлок Александровская          711.5  \n",
       "посёлок Белоостров               320.0  \n",
       "посёлок Левашово                   NaN  \n",
       "посёлок Лисий Нос                  NaN  \n",
       "посёлок Металлострой               NaN  \n",
       "посёлок Молодёжное                 NaN  \n",
       "посёлок Парголово                593.0  \n",
       "посёлок Песочный                   NaN  \n",
       "посёлок Петро-Славянка           663.0  \n",
       "посёлок Понтонный                638.0  \n",
       "посёлок Репино                     NaN  \n",
       "посёлок Сапёрный                 419.5  \n",
       "посёлок Стрельна                 859.0  \n",
       "посёлок Усть-Ижора                 NaN  \n",
       "посёлок Шушары                   584.5  \n",
       "посёлок Щеглово                    NaN  "
      ]
     },
     "execution_count": 12,
     "metadata": {},
     "output_type": "execute_result"
    }
   ],
   "source": [
    "pivot = df.pivot_table(index='locality_name', \n",
    "                       values=['airports_nearest','cityCenters_nearest','parks_nearest','ponds_nearest'],\n",
    "                       aggfunc='median')\n",
    "pivot"
   ]
  },
  {
   "cell_type": "code",
   "execution_count": 13,
   "metadata": {},
   "outputs": [
    {
     "data": {
      "text/plain": [
       "365"
      ]
     },
     "execution_count": 13,
     "metadata": {},
     "output_type": "execute_result"
    }
   ],
   "source": [
    "len(df['locality_name'].unique())"
   ]
  },
  {
   "cell_type": "code",
   "execution_count": 14,
   "metadata": {},
   "outputs": [
    {
     "data": {
      "text/plain": [
       "29"
      ]
     },
     "execution_count": 14,
     "metadata": {},
     "output_type": "execute_result"
    }
   ],
   "source": [
    "len(pivot['airports_nearest'])"
   ]
  },
  {
   "cell_type": "markdown",
   "metadata": {},
   "source": [
    "Из списка наименований менее чем для 10% местоположений есть заполненные данные в графах с расстояниями до аэропорта и до центра города, во всех остальных пропуски. Значимыми данными их заполнить не получится.\n",
    "\n",
    "Оставим эти данные без изменений.\n",
    "Большинство пропусков приходится на пригородные местоположения."
   ]
  },
  {
   "cell_type": "markdown",
   "metadata": {},
   "source": [
    "### 2.2. Преобразование типов данных"
   ]
  },
  {
   "cell_type": "markdown",
   "metadata": {},
   "source": [
    "Cудя по типам данных и форме их представления, преобразование требуется для столбцов first_day_exposition \n",
    "(в формат datetime), balcony(в формат целых чисел int), а также перевод в целочисленную форму столбцов airports_nearest, cityCenters_nearest, ponds_nearest, parks_around3000, ponds_around3000, floors_total и \n",
    "days_exposition. \n",
    "\n",
    "Однако в столбцах с картографическими данными есть пропуски, оставим их без изменения. Преобразуем формат для столбцов first_day_exposition, floors_total и balcony.\n",
    "Формат столбца days_exposition преобразуем после удаления пропусков (в исследовании далее).\n",
    "\n",
    "Преобразование формата требуется для корректного отображения данных,их визуализации, а также для возможности дальнейшего анализа (например, из формата datetime возможно получить обособленные данные о месяце, годе и дне подачи объявления).\n"
   ]
  },
  {
   "cell_type": "code",
   "execution_count": 15,
   "metadata": {},
   "outputs": [],
   "source": [
    "df['first_day_exposition'] = pd.to_datetime(df['first_day_exposition'], format='%Y-%m-%dT%H:%M:%S')"
   ]
  },
  {
   "cell_type": "code",
   "execution_count": 16,
   "metadata": {},
   "outputs": [],
   "source": [
    "df['balcony'] = df['balcony'].astype('int')"
   ]
  },
  {
   "cell_type": "code",
   "execution_count": 17,
   "metadata": {},
   "outputs": [],
   "source": [
    "df['floors_total'] = df['floors_total'].astype('int')"
   ]
  },
  {
   "cell_type": "code",
   "execution_count": 18,
   "metadata": {},
   "outputs": [],
   "source": [
    "df['last_price'] = df['last_price'].astype('int')"
   ]
  },
  {
   "cell_type": "code",
   "execution_count": 19,
   "metadata": {
    "scrolled": false
   },
   "outputs": [
    {
     "data": {
      "text/html": [
       "<div>\n",
       "<style scoped>\n",
       "    .dataframe tbody tr th:only-of-type {\n",
       "        vertical-align: middle;\n",
       "    }\n",
       "\n",
       "    .dataframe tbody tr th {\n",
       "        vertical-align: top;\n",
       "    }\n",
       "\n",
       "    .dataframe thead th {\n",
       "        text-align: right;\n",
       "    }\n",
       "</style>\n",
       "<table border=\"1\" class=\"dataframe\">\n",
       "  <thead>\n",
       "    <tr style=\"text-align: right;\">\n",
       "      <th></th>\n",
       "      <th>total_images</th>\n",
       "      <th>last_price</th>\n",
       "      <th>total_area</th>\n",
       "      <th>first_day_exposition</th>\n",
       "      <th>rooms</th>\n",
       "      <th>ceiling_height</th>\n",
       "      <th>floors_total</th>\n",
       "      <th>living_area</th>\n",
       "      <th>floor</th>\n",
       "      <th>is_apartment</th>\n",
       "      <th>...</th>\n",
       "      <th>kitchen_area</th>\n",
       "      <th>balcony</th>\n",
       "      <th>locality_name</th>\n",
       "      <th>airports_nearest</th>\n",
       "      <th>cityCenters_nearest</th>\n",
       "      <th>parks_around3000</th>\n",
       "      <th>parks_nearest</th>\n",
       "      <th>ponds_around3000</th>\n",
       "      <th>ponds_nearest</th>\n",
       "      <th>days_exposition</th>\n",
       "    </tr>\n",
       "  </thead>\n",
       "  <tbody>\n",
       "    <tr>\n",
       "      <th>0</th>\n",
       "      <td>20</td>\n",
       "      <td>13000000</td>\n",
       "      <td>108.0</td>\n",
       "      <td>2019-03-07</td>\n",
       "      <td>3</td>\n",
       "      <td>2.70</td>\n",
       "      <td>16</td>\n",
       "      <td>51.0</td>\n",
       "      <td>8</td>\n",
       "      <td>False</td>\n",
       "      <td>...</td>\n",
       "      <td>25.0</td>\n",
       "      <td>0</td>\n",
       "      <td>Санкт-Петербург</td>\n",
       "      <td>18863.0</td>\n",
       "      <td>16028.0</td>\n",
       "      <td>1.0</td>\n",
       "      <td>482.0</td>\n",
       "      <td>2.0</td>\n",
       "      <td>755.0</td>\n",
       "      <td>NaN</td>\n",
       "    </tr>\n",
       "    <tr>\n",
       "      <th>1</th>\n",
       "      <td>7</td>\n",
       "      <td>3350000</td>\n",
       "      <td>40.4</td>\n",
       "      <td>2018-12-04</td>\n",
       "      <td>1</td>\n",
       "      <td>NaN</td>\n",
       "      <td>11</td>\n",
       "      <td>18.6</td>\n",
       "      <td>1</td>\n",
       "      <td>False</td>\n",
       "      <td>...</td>\n",
       "      <td>11.0</td>\n",
       "      <td>2</td>\n",
       "      <td>посёлок Шушары</td>\n",
       "      <td>12817.0</td>\n",
       "      <td>18603.0</td>\n",
       "      <td>0.0</td>\n",
       "      <td>NaN</td>\n",
       "      <td>0.0</td>\n",
       "      <td>NaN</td>\n",
       "      <td>81.0</td>\n",
       "    </tr>\n",
       "    <tr>\n",
       "      <th>2</th>\n",
       "      <td>10</td>\n",
       "      <td>5196000</td>\n",
       "      <td>56.0</td>\n",
       "      <td>2015-08-20</td>\n",
       "      <td>2</td>\n",
       "      <td>NaN</td>\n",
       "      <td>5</td>\n",
       "      <td>34.3</td>\n",
       "      <td>4</td>\n",
       "      <td>False</td>\n",
       "      <td>...</td>\n",
       "      <td>8.3</td>\n",
       "      <td>0</td>\n",
       "      <td>Санкт-Петербург</td>\n",
       "      <td>21741.0</td>\n",
       "      <td>13933.0</td>\n",
       "      <td>1.0</td>\n",
       "      <td>90.0</td>\n",
       "      <td>2.0</td>\n",
       "      <td>574.0</td>\n",
       "      <td>558.0</td>\n",
       "    </tr>\n",
       "    <tr>\n",
       "      <th>3</th>\n",
       "      <td>0</td>\n",
       "      <td>64900000</td>\n",
       "      <td>159.0</td>\n",
       "      <td>2015-07-24</td>\n",
       "      <td>3</td>\n",
       "      <td>NaN</td>\n",
       "      <td>14</td>\n",
       "      <td>NaN</td>\n",
       "      <td>9</td>\n",
       "      <td>False</td>\n",
       "      <td>...</td>\n",
       "      <td>NaN</td>\n",
       "      <td>0</td>\n",
       "      <td>Санкт-Петербург</td>\n",
       "      <td>28098.0</td>\n",
       "      <td>6800.0</td>\n",
       "      <td>2.0</td>\n",
       "      <td>84.0</td>\n",
       "      <td>3.0</td>\n",
       "      <td>234.0</td>\n",
       "      <td>424.0</td>\n",
       "    </tr>\n",
       "    <tr>\n",
       "      <th>4</th>\n",
       "      <td>2</td>\n",
       "      <td>10000000</td>\n",
       "      <td>100.0</td>\n",
       "      <td>2018-06-19</td>\n",
       "      <td>2</td>\n",
       "      <td>3.03</td>\n",
       "      <td>14</td>\n",
       "      <td>32.0</td>\n",
       "      <td>13</td>\n",
       "      <td>False</td>\n",
       "      <td>...</td>\n",
       "      <td>41.0</td>\n",
       "      <td>0</td>\n",
       "      <td>Санкт-Петербург</td>\n",
       "      <td>31856.0</td>\n",
       "      <td>8098.0</td>\n",
       "      <td>2.0</td>\n",
       "      <td>112.0</td>\n",
       "      <td>1.0</td>\n",
       "      <td>48.0</td>\n",
       "      <td>121.0</td>\n",
       "    </tr>\n",
       "  </tbody>\n",
       "</table>\n",
       "<p>5 rows × 22 columns</p>\n",
       "</div>"
      ],
      "text/plain": [
       "   total_images  last_price  total_area first_day_exposition  rooms  \\\n",
       "0            20    13000000       108.0           2019-03-07      3   \n",
       "1             7     3350000        40.4           2018-12-04      1   \n",
       "2            10     5196000        56.0           2015-08-20      2   \n",
       "3             0    64900000       159.0           2015-07-24      3   \n",
       "4             2    10000000       100.0           2018-06-19      2   \n",
       "\n",
       "   ceiling_height  floors_total  living_area  floor  is_apartment  ...  \\\n",
       "0            2.70            16         51.0      8         False  ...   \n",
       "1             NaN            11         18.6      1         False  ...   \n",
       "2             NaN             5         34.3      4         False  ...   \n",
       "3             NaN            14          NaN      9         False  ...   \n",
       "4            3.03            14         32.0     13         False  ...   \n",
       "\n",
       "   kitchen_area  balcony    locality_name  airports_nearest  \\\n",
       "0          25.0        0  Санкт-Петербург           18863.0   \n",
       "1          11.0        2   посёлок Шушары           12817.0   \n",
       "2           8.3        0  Санкт-Петербург           21741.0   \n",
       "3           NaN        0  Санкт-Петербург           28098.0   \n",
       "4          41.0        0  Санкт-Петербург           31856.0   \n",
       "\n",
       "  cityCenters_nearest  parks_around3000  parks_nearest  ponds_around3000  \\\n",
       "0             16028.0               1.0          482.0               2.0   \n",
       "1             18603.0               0.0            NaN               0.0   \n",
       "2             13933.0               1.0           90.0               2.0   \n",
       "3              6800.0               2.0           84.0               3.0   \n",
       "4              8098.0               2.0          112.0               1.0   \n",
       "\n",
       "   ponds_nearest  days_exposition  \n",
       "0          755.0              NaN  \n",
       "1            NaN             81.0  \n",
       "2          574.0            558.0  \n",
       "3          234.0            424.0  \n",
       "4           48.0            121.0  \n",
       "\n",
       "[5 rows x 22 columns]"
      ]
     },
     "execution_count": 19,
     "metadata": {},
     "output_type": "execute_result"
    }
   ],
   "source": [
    "df.head()"
   ]
  },
  {
   "cell_type": "code",
   "execution_count": 20,
   "metadata": {},
   "outputs": [
    {
     "name": "stdout",
     "output_type": "stream",
     "text": [
      "<class 'pandas.core.frame.DataFrame'>\n",
      "RangeIndex: 23699 entries, 0 to 23698\n",
      "Data columns (total 22 columns):\n",
      " #   Column                Non-Null Count  Dtype         \n",
      "---  ------                --------------  -----         \n",
      " 0   total_images          23699 non-null  int64         \n",
      " 1   last_price            23699 non-null  int32         \n",
      " 2   total_area            23699 non-null  float64       \n",
      " 3   first_day_exposition  23699 non-null  datetime64[ns]\n",
      " 4   rooms                 23699 non-null  int64         \n",
      " 5   ceiling_height        14504 non-null  float64       \n",
      " 6   floors_total          23699 non-null  int32         \n",
      " 7   living_area           21796 non-null  float64       \n",
      " 8   floor                 23699 non-null  int64         \n",
      " 9   is_apartment          23699 non-null  bool          \n",
      " 10  studio                23699 non-null  bool          \n",
      " 11  open_plan             23699 non-null  bool          \n",
      " 12  kitchen_area          21421 non-null  float64       \n",
      " 13  balcony               23699 non-null  int32         \n",
      " 14  locality_name         23699 non-null  object        \n",
      " 15  airports_nearest      18157 non-null  float64       \n",
      " 16  cityCenters_nearest   18180 non-null  float64       \n",
      " 17  parks_around3000      18181 non-null  float64       \n",
      " 18  parks_nearest         8079 non-null   float64       \n",
      " 19  ponds_around3000      18181 non-null  float64       \n",
      " 20  ponds_nearest         9110 non-null   float64       \n",
      " 21  days_exposition       20518 non-null  float64       \n",
      "dtypes: bool(3), datetime64[ns](1), float64(11), int32(3), int64(3), object(1)\n",
      "memory usage: 3.2+ MB\n"
     ]
    }
   ],
   "source": [
    "df.info()"
   ]
  },
  {
   "cell_type": "markdown",
   "metadata": {},
   "source": [
    "### 2.3. Обработка дубликатов"
   ]
  },
  {
   "cell_type": "markdown",
   "metadata": {},
   "source": [
    "Устраним неявные дубликаты в столбце locality_name - название населённого пункта"
   ]
  },
  {
   "cell_type": "code",
   "execution_count": 21,
   "metadata": {},
   "outputs": [
    {
     "data": {
      "text/plain": [
       "array(['Санкт-Петербург', 'посёлок Шушары', 'городской посёлок Янино-1',\n",
       "       'посёлок Парголово', 'посёлок Мурино', 'Ломоносов', 'Сертолово',\n",
       "       'Петергоф', 'Пушкин', 'деревня Кудрово', 'Коммунар', 'Колпино',\n",
       "       'поселок городского типа Красный Бор', 'Гатчина', 'поселок Мурино',\n",
       "       'деревня Фёдоровское', 'Выборг', 'Кронштадт', 'Кировск',\n",
       "       'деревня Новое Девяткино', 'посёлок Металлострой',\n",
       "       'посёлок городского типа Лебяжье',\n",
       "       'посёлок городского типа Сиверский', 'поселок Молодцово',\n",
       "       'поселок городского типа Кузьмоловский',\n",
       "       'садовое товарищество Новая Ропша', 'Павловск',\n",
       "       'деревня Пикколово', 'Всеволожск', 'Волхов', 'Кингисепп',\n",
       "       'Приозерск', 'Сестрорецк', 'деревня Куттузи', 'посёлок Аннино',\n",
       "       'поселок городского типа Ефимовский', 'посёлок Плодовое',\n",
       "       'деревня Заклинье', 'поселок Торковичи', 'поселок Первомайское',\n",
       "       'Красное Село', 'посёлок Понтонный', 'Сясьстрой', 'деревня Старая',\n",
       "       'деревня Лесколово', 'посёлок Новый Свет', 'Сланцы',\n",
       "       'село Путилово', 'Ивангород', 'Мурино', 'Шлиссельбург',\n",
       "       'Никольское', 'Зеленогорск', 'Сосновый Бор', 'поселок Новый Свет',\n",
       "       'деревня Оржицы', 'деревня Кальтино', 'Кудрово',\n",
       "       'поселок Романовка', 'посёлок Бугры', 'поселок Бугры',\n",
       "       'поселок городского типа Рощино', 'Кириши', 'Луга', 'Волосово',\n",
       "       'Отрадное', 'село Павлово', 'поселок Оредеж', 'село Копорье',\n",
       "       'посёлок городского типа Красный Бор', 'посёлок Молодёжное',\n",
       "       'Тихвин', 'посёлок Победа', 'деревня Нурма',\n",
       "       'поселок городского типа Синявино', 'Тосно',\n",
       "       'посёлок городского типа Кузьмоловский', 'посёлок Стрельна',\n",
       "       'Бокситогорск', 'посёлок Александровская', 'деревня Лопухинка',\n",
       "       'Пикалёво', 'поселок Терволово',\n",
       "       'поселок городского типа Советский', 'Подпорожье',\n",
       "       'посёлок Петровское', 'посёлок городского типа Токсово',\n",
       "       'поселок Сельцо', 'посёлок городского типа Вырица',\n",
       "       'деревня Кипень', 'деревня Келози', 'деревня Вартемяги',\n",
       "       'посёлок Тельмана', 'поселок Севастьяново',\n",
       "       'городской поселок Большая Ижора', 'unknown',\n",
       "       'городской посёлок Павлово', 'деревня Агалатово',\n",
       "       'посёлок Новогорелово', 'городской посёлок Лесогорский',\n",
       "       'деревня Лаголово', 'поселок Цвелодубово',\n",
       "       'поселок городского типа Рахья', 'поселок городского типа Вырица',\n",
       "       'деревня Белогорка', 'поселок Заводской',\n",
       "       'городской посёлок Новоселье', 'деревня Большие Колпаны',\n",
       "       'деревня Горбунки', 'деревня Батово', 'деревня Заневка',\n",
       "       'деревня Иссад', 'Приморск', 'городской посёлок Фёдоровское',\n",
       "       'деревня Мистолово', 'Новая Ладога', 'поселок Зимитицы',\n",
       "       'поселок Барышево', 'деревня Разметелево',\n",
       "       'поселок городского типа имени Свердлова', 'деревня Пеники',\n",
       "       'поселок Рябово', 'деревня Пудомяги', 'поселок станции Корнево',\n",
       "       'деревня Низино', 'деревня Бегуницы', 'посёлок Поляны',\n",
       "       'городской посёлок Мга', 'поселок Елизаветино',\n",
       "       'посёлок городского типа Кузнечное', 'деревня Колтуши',\n",
       "       'поселок Запорожское', 'посёлок городского типа Рощино',\n",
       "       'деревня Гостилицы', 'деревня Малое Карлино',\n",
       "       'посёлок Мичуринское', 'посёлок городского типа имени Морозова',\n",
       "       'посёлок Песочный', 'посёлок Сосново', 'деревня Аро',\n",
       "       'поселок Ильичёво', 'посёлок городского типа Тайцы',\n",
       "       'деревня Малое Верево', 'деревня Извара', 'поселок станции Вещево',\n",
       "       'село Паша', 'деревня Калитино',\n",
       "       'посёлок городского типа Ульяновка', 'деревня Чудской Бор',\n",
       "       'поселок городского типа Дубровка', 'деревня Мины',\n",
       "       'поселок Войсковицы', 'посёлок городского типа имени Свердлова',\n",
       "       'деревня Коркино', 'посёлок Ропша',\n",
       "       'поселок городского типа Приладожский', 'посёлок Щеглово',\n",
       "       'посёлок Гаврилово', 'Лодейное Поле', 'деревня Рабитицы',\n",
       "       'поселок городского типа Никольский', 'деревня Кузьмолово',\n",
       "       'деревня Малые Колпаны', 'поселок Тельмана',\n",
       "       'посёлок Петро-Славянка', 'городской посёлок Назия',\n",
       "       'посёлок Репино', 'посёлок Ильичёво', 'поселок Углово',\n",
       "       'поселок Старая Малукса', 'садовое товарищество Рахья',\n",
       "       'поселок Аннино', 'поселок Победа', 'деревня Меньково',\n",
       "       'деревня Старые Бегуницы', 'посёлок Сапёрный', 'поселок Семрино',\n",
       "       'поселок Гаврилово', 'поселок Глажево', 'поселок Кобринское',\n",
       "       'деревня Гарболово', 'деревня Юкки',\n",
       "       'поселок станции Приветнинское', 'деревня Мануйлово',\n",
       "       'деревня Пчева', 'поселок Поляны', 'поселок Цвылёво',\n",
       "       'поселок Мельниково', 'посёлок Пудость', 'посёлок Усть-Луга',\n",
       "       'Светогорск', 'Любань', 'поселок Селезнёво',\n",
       "       'поселок городского типа Рябово', 'Каменногорск', 'деревня Кривко',\n",
       "       'поселок Глебычево', 'деревня Парицы', 'поселок Жилпосёлок',\n",
       "       'посёлок городского типа Мга', 'городской поселок Янино-1',\n",
       "       'посёлок Войскорово', 'село Никольское', 'посёлок Терволово',\n",
       "       'поселок Стеклянный', 'посёлок городского типа Важины',\n",
       "       'посёлок Мыза-Ивановка', 'село Русско-Высоцкое',\n",
       "       'поселок городского типа Лебяжье',\n",
       "       'поселок городского типа Форносово', 'село Старая Ладога',\n",
       "       'поселок Житково', 'городской посёлок Виллози', 'деревня Лампово',\n",
       "       'деревня Шпаньково', 'деревня Лаврики', 'посёлок Сумино',\n",
       "       'посёлок Возрождение', 'деревня Старосиверская',\n",
       "       'посёлок Кикерино', 'поселок Возрождение',\n",
       "       'деревня Старое Хинколово', 'посёлок Пригородный',\n",
       "       'посёлок Торфяное', 'городской посёлок Будогощь',\n",
       "       'поселок Суходолье', 'поселок Красная Долина', 'деревня Хапо-Ое',\n",
       "       'поселок городского типа Дружная Горка', 'поселок Лисий Нос',\n",
       "       'деревня Яльгелево', 'посёлок Стеклянный', 'село Рождествено',\n",
       "       'деревня Старополье', 'посёлок Левашово', 'деревня Сяськелево',\n",
       "       'деревня Камышовка',\n",
       "       'садоводческое некоммерческое товарищество Лесная Поляна',\n",
       "       'деревня Хязельки', 'поселок Жилгородок',\n",
       "       'посёлок городского типа Павлово', 'деревня Ялгино',\n",
       "       'поселок Новый Учхоз', 'городской посёлок Рощино',\n",
       "       'поселок Гончарово', 'поселок Почап', 'посёлок Сапёрное',\n",
       "       'посёлок Платформа 69-й километр', 'поселок Каложицы',\n",
       "       'деревня Фалилеево', 'деревня Пельгора',\n",
       "       'поселок городского типа Лесогорский', 'деревня Торошковичи',\n",
       "       'посёлок Белоостров', 'посёлок Алексеевка', 'поселок Серебрянский',\n",
       "       'поселок Лукаши', 'поселок Петровское', 'деревня Щеглово',\n",
       "       'поселок Мичуринское', 'деревня Тарасово', 'поселок Кингисеппский',\n",
       "       'посёлок при железнодорожной станции Вещево', 'поселок Ушаки',\n",
       "       'деревня Котлы', 'деревня Сижно', 'деревня Торосово',\n",
       "       'посёлок Форт Красная Горка', 'поселок городского типа Токсово',\n",
       "       'деревня Новолисино', 'посёлок станции Громово', 'деревня Глинка',\n",
       "       'посёлок Мельниково', 'поселок городского типа Назия',\n",
       "       'деревня Старая Пустошь', 'поселок Коммунары', 'поселок Починок',\n",
       "       'посёлок городского типа Вознесенье', 'деревня Разбегаево',\n",
       "       'посёлок городского типа Рябово', 'поселок Гладкое',\n",
       "       'посёлок при железнодорожной станции Приветнинское',\n",
       "       'поселок Тёсово-4', 'посёлок Жилгородок', 'деревня Бор',\n",
       "       'посёлок Коробицыно', 'деревня Большая Вруда', 'деревня Курковицы',\n",
       "       'посёлок Лисий Нос', 'городской посёлок Советский',\n",
       "       'посёлок Кобралово', 'деревня Суоранда', 'поселок Кобралово',\n",
       "       'поселок городского типа Кондратьево',\n",
       "       'коттеджный поселок Счастье', 'поселок Любань', 'деревня Реброво',\n",
       "       'деревня Зимитицы', 'деревня Тойворово', 'поселок Семиозерье',\n",
       "       'поселок Лесное', 'поселок Совхозный', 'поселок Усть-Луга',\n",
       "       'посёлок Ленинское', 'посёлок Суйда',\n",
       "       'посёлок городского типа Форносово', 'деревня Нижние Осельки',\n",
       "       'посёлок станции Свирь', 'поселок Перово', 'Высоцк',\n",
       "       'поселок Гарболово', 'село Шум', 'поселок Котельский',\n",
       "       'поселок станции Лужайка', 'деревня Большая Пустомержа',\n",
       "       'поселок Красносельское', 'деревня Вахнова Кара', 'деревня Пижма',\n",
       "       'коттеджный поселок Кивеннапа Север', 'поселок Коробицыно',\n",
       "       'поселок Ромашки', 'посёлок Перово', 'деревня Каськово',\n",
       "       'деревня Куровицы', 'посёлок Плоское', 'поселок Сумино',\n",
       "       'поселок городского типа Большая Ижора', 'поселок Кирпичное',\n",
       "       'деревня Ям-Тесово', 'деревня Раздолье', 'деревня Терпилицы',\n",
       "       'посёлок Шугозеро', 'деревня Ваганово', 'поселок Пушное',\n",
       "       'садовое товарищество Садко', 'посёлок Усть-Ижора',\n",
       "       'деревня Выскатка', 'городской посёлок Свирьстрой',\n",
       "       'поселок Громово', 'деревня Кисельня', 'посёлок Старая Малукса',\n",
       "       'деревня Трубников Бор', 'поселок Калитино',\n",
       "       'посёлок Высокоключевой', 'садовое товарищество Приладожский',\n",
       "       'посёлок Пансионат Зелёный Бор', 'деревня Ненимяки',\n",
       "       'поселок Пансионат Зелёный Бор', 'деревня Снегирёвка',\n",
       "       'деревня Рапполово', 'деревня Пустынка', 'поселок Рабитицы',\n",
       "       'деревня Большой Сабск', 'деревня Русско', 'деревня Лупполово',\n",
       "       'деревня Большое Рейзино', 'деревня Малая Романовка',\n",
       "       'поселок Дружноселье', 'поселок Пчевжа', 'поселок Володарское',\n",
       "       'деревня Нижняя', 'коттеджный посёлок Лесное', 'деревня Тихковицы',\n",
       "       'деревня Борисова Грива', 'посёлок Дзержинского'], dtype=object)"
      ]
     },
     "execution_count": 21,
     "metadata": {},
     "output_type": "execute_result"
    }
   ],
   "source": [
    "# выведем список и количество уникальных значений местоположения\n",
    "df['locality_name'].unique()"
   ]
  },
  {
   "cell_type": "code",
   "execution_count": 22,
   "metadata": {},
   "outputs": [
    {
     "data": {
      "text/plain": [
       "365"
      ]
     },
     "execution_count": 22,
     "metadata": {},
     "output_type": "execute_result"
    }
   ],
   "source": [
    "len(df['locality_name'].unique())"
   ]
  },
  {
   "cell_type": "code",
   "execution_count": 23,
   "metadata": {},
   "outputs": [],
   "source": [
    "#во всех названиях заменим ё на е\n",
    "df['locality_name'] = df['locality_name'].str.replace('ё','е')"
   ]
  },
  {
   "cell_type": "code",
   "execution_count": 24,
   "metadata": {},
   "outputs": [
    {
     "data": {
      "text/plain": [
       "array(['Санкт-Петербург', 'поселок Шушары', 'городской поселок Янино-1',\n",
       "       'поселок Парголово', 'поселок Мурино', 'Ломоносов', 'Сертолово',\n",
       "       'Петергоф', 'Пушкин', 'деревня Кудрово', 'Коммунар', 'Колпино',\n",
       "       'поселок городского типа Красный Бор', 'Гатчина',\n",
       "       'деревня Федоровское', 'Выборг', 'Кронштадт', 'Кировск',\n",
       "       'деревня Новое Девяткино', 'поселок Металлострой',\n",
       "       'поселок городского типа Лебяжье',\n",
       "       'поселок городского типа Сиверский', 'поселок Молодцово',\n",
       "       'поселок городского типа Кузьмоловский',\n",
       "       'садовое товарищество Новая Ропша', 'Павловск',\n",
       "       'деревня Пикколово', 'Всеволожск', 'Волхов', 'Кингисепп',\n",
       "       'Приозерск', 'Сестрорецк', 'деревня Куттузи', 'поселок Аннино',\n",
       "       'поселок городского типа Ефимовский', 'поселок Плодовое',\n",
       "       'деревня Заклинье', 'поселок Торковичи', 'поселок Первомайское',\n",
       "       'Красное Село', 'поселок Понтонный', 'Сясьстрой', 'деревня Старая',\n",
       "       'деревня Лесколово', 'поселок Новый Свет', 'Сланцы',\n",
       "       'село Путилово', 'Ивангород', 'Мурино', 'Шлиссельбург',\n",
       "       'Никольское', 'Зеленогорск', 'Сосновый Бор', 'деревня Оржицы',\n",
       "       'деревня Кальтино', 'Кудрово', 'поселок Романовка',\n",
       "       'поселок Бугры', 'поселок городского типа Рощино', 'Кириши',\n",
       "       'Луга', 'Волосово', 'Отрадное', 'село Павлово', 'поселок Оредеж',\n",
       "       'село Копорье', 'поселок Молодежное', 'Тихвин', 'поселок Победа',\n",
       "       'деревня Нурма', 'поселок городского типа Синявино', 'Тосно',\n",
       "       'поселок Стрельна', 'Бокситогорск', 'поселок Александровская',\n",
       "       'деревня Лопухинка', 'Пикалево', 'поселок Терволово',\n",
       "       'поселок городского типа Советский', 'Подпорожье',\n",
       "       'поселок Петровское', 'поселок городского типа Токсово',\n",
       "       'поселок Сельцо', 'поселок городского типа Вырица',\n",
       "       'деревня Кипень', 'деревня Келози', 'деревня Вартемяги',\n",
       "       'поселок Тельмана', 'поселок Севастьяново',\n",
       "       'городской поселок Большая Ижора', 'unknown',\n",
       "       'городской поселок Павлово', 'деревня Агалатово',\n",
       "       'поселок Новогорелово', 'городской поселок Лесогорский',\n",
       "       'деревня Лаголово', 'поселок Цвелодубово',\n",
       "       'поселок городского типа Рахья', 'деревня Белогорка',\n",
       "       'поселок Заводской', 'городской поселок Новоселье',\n",
       "       'деревня Большие Колпаны', 'деревня Горбунки', 'деревня Батово',\n",
       "       'деревня Заневка', 'деревня Иссад', 'Приморск',\n",
       "       'городской поселок Федоровское', 'деревня Мистолово',\n",
       "       'Новая Ладога', 'поселок Зимитицы', 'поселок Барышево',\n",
       "       'деревня Разметелево', 'поселок городского типа имени Свердлова',\n",
       "       'деревня Пеники', 'поселок Рябово', 'деревня Пудомяги',\n",
       "       'поселок станции Корнево', 'деревня Низино', 'деревня Бегуницы',\n",
       "       'поселок Поляны', 'городской поселок Мга', 'поселок Елизаветино',\n",
       "       'поселок городского типа Кузнечное', 'деревня Колтуши',\n",
       "       'поселок Запорожское', 'деревня Гостилицы',\n",
       "       'деревня Малое Карлино', 'поселок Мичуринское',\n",
       "       'поселок городского типа имени Морозова', 'поселок Песочный',\n",
       "       'поселок Сосново', 'деревня Аро', 'поселок Ильичево',\n",
       "       'поселок городского типа Тайцы', 'деревня Малое Верево',\n",
       "       'деревня Извара', 'поселок станции Вещево', 'село Паша',\n",
       "       'деревня Калитино', 'поселок городского типа Ульяновка',\n",
       "       'деревня Чудской Бор', 'поселок городского типа Дубровка',\n",
       "       'деревня Мины', 'поселок Войсковицы', 'деревня Коркино',\n",
       "       'поселок Ропша', 'поселок городского типа Приладожский',\n",
       "       'поселок Щеглово', 'поселок Гаврилово', 'Лодейное Поле',\n",
       "       'деревня Рабитицы', 'поселок городского типа Никольский',\n",
       "       'деревня Кузьмолово', 'деревня Малые Колпаны',\n",
       "       'поселок Петро-Славянка', 'городской поселок Назия',\n",
       "       'поселок Репино', 'поселок Углово', 'поселок Старая Малукса',\n",
       "       'садовое товарищество Рахья', 'деревня Меньково',\n",
       "       'деревня Старые Бегуницы', 'поселок Саперный', 'поселок Семрино',\n",
       "       'поселок Глажево', 'поселок Кобринское', 'деревня Гарболово',\n",
       "       'деревня Юкки', 'поселок станции Приветнинское',\n",
       "       'деревня Мануйлово', 'деревня Пчева', 'поселок Цвылево',\n",
       "       'поселок Мельниково', 'поселок Пудость', 'поселок Усть-Луга',\n",
       "       'Светогорск', 'Любань', 'поселок Селезнево',\n",
       "       'поселок городского типа Рябово', 'Каменногорск', 'деревня Кривко',\n",
       "       'поселок Глебычево', 'деревня Парицы', 'поселок Жилпоселок',\n",
       "       'поселок городского типа Мга', 'поселок Войскорово',\n",
       "       'село Никольское', 'поселок Стеклянный',\n",
       "       'поселок городского типа Важины', 'поселок Мыза-Ивановка',\n",
       "       'село Русско-Высоцкое', 'поселок городского типа Форносово',\n",
       "       'село Старая Ладога', 'поселок Житково',\n",
       "       'городской поселок Виллози', 'деревня Лампово',\n",
       "       'деревня Шпаньково', 'деревня Лаврики', 'поселок Сумино',\n",
       "       'поселок Возрождение', 'деревня Старосиверская',\n",
       "       'поселок Кикерино', 'деревня Старое Хинколово',\n",
       "       'поселок Пригородный', 'поселок Торфяное',\n",
       "       'городской поселок Будогощь', 'поселок Суходолье',\n",
       "       'поселок Красная Долина', 'деревня Хапо-Ое',\n",
       "       'поселок городского типа Дружная Горка', 'поселок Лисий Нос',\n",
       "       'деревня Яльгелево', 'село Рождествено', 'деревня Старополье',\n",
       "       'поселок Левашово', 'деревня Сяськелево', 'деревня Камышовка',\n",
       "       'садоводческое некоммерческое товарищество Лесная Поляна',\n",
       "       'деревня Хязельки', 'поселок Жилгородок',\n",
       "       'поселок городского типа Павлово', 'деревня Ялгино',\n",
       "       'поселок Новый Учхоз', 'городской поселок Рощино',\n",
       "       'поселок Гончарово', 'поселок Почап', 'поселок Саперное',\n",
       "       'поселок Платформа 69-й километр', 'поселок Каложицы',\n",
       "       'деревня Фалилеево', 'деревня Пельгора',\n",
       "       'поселок городского типа Лесогорский', 'деревня Торошковичи',\n",
       "       'поселок Белоостров', 'поселок Алексеевка', 'поселок Серебрянский',\n",
       "       'поселок Лукаши', 'деревня Щеглово', 'деревня Тарасово',\n",
       "       'поселок Кингисеппский',\n",
       "       'поселок при железнодорожной станции Вещево', 'поселок Ушаки',\n",
       "       'деревня Котлы', 'деревня Сижно', 'деревня Торосово',\n",
       "       'поселок Форт Красная Горка', 'деревня Новолисино',\n",
       "       'поселок станции Громово', 'деревня Глинка',\n",
       "       'поселок городского типа Назия', 'деревня Старая Пустошь',\n",
       "       'поселок Коммунары', 'поселок Починок',\n",
       "       'поселок городского типа Вознесенье', 'деревня Разбегаево',\n",
       "       'поселок Гладкое',\n",
       "       'поселок при железнодорожной станции Приветнинское',\n",
       "       'поселок Тесово-4', 'деревня Бор', 'поселок Коробицыно',\n",
       "       'деревня Большая Вруда', 'деревня Курковицы',\n",
       "       'городской поселок Советский', 'поселок Кобралово',\n",
       "       'деревня Суоранда', 'поселок городского типа Кондратьево',\n",
       "       'коттеджный поселок Счастье', 'поселок Любань', 'деревня Реброво',\n",
       "       'деревня Зимитицы', 'деревня Тойворово', 'поселок Семиозерье',\n",
       "       'поселок Лесное', 'поселок Совхозный', 'поселок Ленинское',\n",
       "       'поселок Суйда', 'деревня Нижние Осельки', 'поселок станции Свирь',\n",
       "       'поселок Перово', 'Высоцк', 'поселок Гарболово', 'село Шум',\n",
       "       'поселок Котельский', 'поселок станции Лужайка',\n",
       "       'деревня Большая Пустомержа', 'поселок Красносельское',\n",
       "       'деревня Вахнова Кара', 'деревня Пижма',\n",
       "       'коттеджный поселок Кивеннапа Север', 'поселок Ромашки',\n",
       "       'деревня Каськово', 'деревня Куровицы', 'поселок Плоское',\n",
       "       'поселок городского типа Большая Ижора', 'поселок Кирпичное',\n",
       "       'деревня Ям-Тесово', 'деревня Раздолье', 'деревня Терпилицы',\n",
       "       'поселок Шугозеро', 'деревня Ваганово', 'поселок Пушное',\n",
       "       'садовое товарищество Садко', 'поселок Усть-Ижора',\n",
       "       'деревня Выскатка', 'городской поселок Свирьстрой',\n",
       "       'поселок Громово', 'деревня Кисельня', 'деревня Трубников Бор',\n",
       "       'поселок Калитино', 'поселок Высокоключевой',\n",
       "       'садовое товарищество Приладожский',\n",
       "       'поселок Пансионат Зеленый Бор', 'деревня Ненимяки',\n",
       "       'деревня Снегиревка', 'деревня Рапполово', 'деревня Пустынка',\n",
       "       'поселок Рабитицы', 'деревня Большой Сабск', 'деревня Русско',\n",
       "       'деревня Лупполово', 'деревня Большое Рейзино',\n",
       "       'деревня Малая Романовка', 'поселок Дружноселье', 'поселок Пчевжа',\n",
       "       'поселок Володарское', 'деревня Нижняя',\n",
       "       'коттеджный поселок Лесное', 'деревня Тихковицы',\n",
       "       'деревня Борисова Грива', 'поселок Дзержинского'], dtype=object)"
      ]
     },
     "execution_count": 24,
     "metadata": {},
     "output_type": "execute_result"
    }
   ],
   "source": [
    "# выведем обновленный список уникальных значений\n",
    "df['locality_name'].unique()"
   ]
  },
  {
   "cell_type": "code",
   "execution_count": 25,
   "metadata": {},
   "outputs": [
    {
     "name": "stdout",
     "output_type": "stream",
     "text": [
      "Мурино\n",
      "Кудрово\n",
      "Коммунар\n",
      "Бор\n",
      "Федоровское\n",
      "Ропша\n",
      "Кингисепп\n",
      "Старая\n",
      "Свет\n",
      "Никольское\n",
      "Романовка\n",
      "Рощино\n",
      "Луга\n",
      "Павлово\n",
      "Советский\n",
      "Ижора\n",
      "Лесогорский\n",
      "Рахья\n",
      "Колпаны\n",
      "Ладога\n",
      "Зимитицы\n",
      "Рябово\n",
      "Бегуницы\n",
      "Мга\n",
      "Вещево\n",
      "Калитино\n",
      "Приладожский\n",
      "Щеглово\n",
      "Рабитицы\n",
      "Назия\n",
      "Гарболово\n",
      "Приветнинское\n",
      "Любань\n",
      "Горка\n",
      "Громово\n",
      "Лесное\n",
      "Свирь\n",
      "Высоцк\n",
      "Русско\n"
     ]
    }
   ],
   "source": [
    "#поскольку идентификатор местоположения чаще всего содержится в последнем слове строки locality_name, \n",
    "#в цикле переберем все последние слова в названии местоположения, если слово встречается несколько раз\n",
    "#в списке уникальных значений, то его нужно вывести и проверить наличие повтора\n",
    "\n",
    "for el in df['locality_name'].str.split().str[-1].unique():\n",
    "    number = 0\n",
    "    for elem in df['locality_name'].unique():\n",
    "        if str(el) in str(elem):\n",
    "            number +=1\n",
    "    if number >1:\n",
    "        print(el)"
   ]
  },
  {
   "cell_type": "code",
   "execution_count": 26,
   "metadata": {},
   "outputs": [],
   "source": [
    "#проверили полученный выше список и выявили повторяющиеся значения, \n",
    "#заменим их на единый формат написания, перезапишем столбец locality_name\n",
    "\n",
    "df['locality_name'] = df['locality_name'].replace(\n",
    "    {'поселок Мурино': 'Мурино',\n",
    "     'деревня Кудрово': 'Кудрово',\n",
    "     'деревня Федоровское': 'городской поселок Федоровское',\n",
    "     'Никольское': 'село Никольское',\n",
    "     'поселок городского типа Рощино':'городской поселок Рощино',\n",
    "     'село Павлово':'поселок городского типа Павлово',\n",
    "     'городской поселок Павлово':'поселок городского типа Павлово',\n",
    "     'поселок городского типа Советский': 'городской поселок Советский',\n",
    "     'городской поселок Большая Ижора': 'поселок городского типа Большая Ижора',\n",
    "     'городской поселок Лесогорский': 'поселок городского типа Лесогорский',\n",
    "     'поселок городского типа Рахья': 'садовое товарищество Рахья',\n",
    "     'поселок Зимитицы': 'деревня Зимитицы',\n",
    "     'поселок Рябово': 'поселок городского типа Рябово',\n",
    "     'городской поселок Мга': 'поселок городского типа Мга',\n",
    "     'поселок станции Вещево': 'поселок при железнодорожной станции Вещево',\n",
    "     'деревня Калитино': 'поселок Калитино',\n",
    "     'поселок городского типа Приладожский': 'садовое товарищество Приладожский',\n",
    "     'поселок Щеглово': 'деревня Щеглово',\n",
    "     'деревня Рабитицы':'поселок Рабитицы',\n",
    "     'городской поселок Назия': 'поселок городского типа Назия',\n",
    "     'деревня Гарболово': 'поселок Гарболово',\n",
    "     'поселок станции Приветнинское' :'поселок при железнодорожной станции Приветнинское',\n",
    "     'поселок Любань':'Любань',\n",
    "     'поселок станции Громово' :'поселок Громово', \n",
    "     'поселок Лесное' : 'коттеджный поселок Лесное'}\n",
    "       )\n"
   ]
  },
  {
   "cell_type": "code",
   "execution_count": 27,
   "metadata": {},
   "outputs": [
    {
     "data": {
      "text/plain": [
       "306"
      ]
     },
     "execution_count": 27,
     "metadata": {},
     "output_type": "execute_result"
    }
   ],
   "source": [
    "len(df['locality_name'].unique())\n"
   ]
  },
  {
   "cell_type": "markdown",
   "metadata": {},
   "source": [
    "Были выявлены и обработаны 59 названий-дубликатов."
   ]
  },
  {
   "cell_type": "markdown",
   "metadata": {},
   "source": [
    "### 2.4. Обработка аномальных значений"
   ]
  },
  {
   "cell_type": "markdown",
   "metadata": {},
   "source": [
    "#### 2.4.1. Обработка аномальных значений в столбце **ceiling_height**"
   ]
  },
  {
   "cell_type": "code",
   "execution_count": 28,
   "metadata": {},
   "outputs": [
    {
     "data": {
      "text/plain": [
       "array([[<AxesSubplot:title={'center':'ceiling_height'}>]], dtype=object)"
      ]
     },
     "execution_count": 28,
     "metadata": {},
     "output_type": "execute_result"
    },
    {
     "data": {
      "image/png": "[encoded data removed]",
      "text/plain": [
       "<Figure size 432x288 with 1 Axes>"
      ]
     },
     "metadata": {
      "needs_background": "light"
     },
     "output_type": "display_data"
    }
   ],
   "source": [
    "df.hist('ceiling_height', bins=10, range=(0,10), grid=True)"
   ]
  },
  {
   "cell_type": "code",
   "execution_count": 29,
   "metadata": {},
   "outputs": [
    {
     "data": {
      "text/plain": [
       "count    14504.000000\n",
       "mean         2.771499\n",
       "std          1.261056\n",
       "min          1.000000\n",
       "25%          2.520000\n",
       "50%          2.650000\n",
       "75%          2.800000\n",
       "max        100.000000\n",
       "Name: ceiling_height, dtype: float64"
      ]
     },
     "execution_count": 29,
     "metadata": {},
     "output_type": "execute_result"
    }
   ],
   "source": [
    "df['ceiling_height'].describe()"
   ]
  },
  {
   "cell_type": "markdown",
   "metadata": {},
   "source": [
    "У большинства объектов выборки высота потолков находится в интервале от 2 до 4 метров, \n",
    "очень мало значений в в промежутке от 4 до 6 метров"
   ]
  },
  {
   "cell_type": "code",
   "execution_count": 30,
   "metadata": {},
   "outputs": [
    {
     "data": {
      "text/plain": [
       "<AxesSubplot:>"
      ]
     },
     "execution_count": 30,
     "metadata": {},
     "output_type": "execute_result"
    },
    {
     "data": {
      "image/png": "[encoded data removed]",
      "text/plain": [
       "<Figure size 432x288 with 1 Axes>"
      ]
     },
     "metadata": {
      "needs_background": "light"
     },
     "output_type": "display_data"
    }
   ],
   "source": [
    "import matplotlib.pyplot as plt\n",
    "plt.ylim(-5,40)\n",
    "\n",
    "df.boxplot(column='ceiling_height', figsize=(6,12))"
   ]
  },
  {
   "cell_type": "markdown",
   "metadata": {},
   "source": [
    "Высоту потолков больше 6 метров и меньше 2 можно считать выбросами, избавимся от этих значений"
   ]
  },
  {
   "cell_type": "code",
   "execution_count": 31,
   "metadata": {},
   "outputs": [
    {
     "data": {
      "text/plain": [
       "1.00      1\n",
       "1.20      1\n",
       "1.75      1\n",
       "8.00      3\n",
       "8.30      1\n",
       "10.30     1\n",
       "14.00     1\n",
       "20.00     1\n",
       "22.60     1\n",
       "24.00     1\n",
       "25.00     7\n",
       "26.00     1\n",
       "27.00     8\n",
       "27.50     1\n",
       "32.00     2\n",
       "100.00    1\n",
       "Name: ceiling_height, dtype: int64"
      ]
     },
     "execution_count": 31,
     "metadata": {},
     "output_type": "execute_result"
    }
   ],
   "source": [
    "df[(df['ceiling_height']<2)|(df['ceiling_height']>6)]['ceiling_height'].value_counts().sort_index(ascending=True)"
   ]
  },
  {
   "cell_type": "markdown",
   "metadata": {},
   "source": [
    "Заменим значения с ошибкой ввода данных 27.00 на 2.7 и т.д., значения меньше 2 метров и больше 6 метров удалим из выборки.\n"
   ]
  },
  {
   "cell_type": "code",
   "execution_count": 32,
   "metadata": {},
   "outputs": [],
   "source": [
    "df.loc[df['ceiling_height']>20, 'ceiling_height']= df.loc[df['ceiling_height']>20, 'ceiling_height']/10"
   ]
  },
  {
   "cell_type": "code",
   "execution_count": 33,
   "metadata": {},
   "outputs": [],
   "source": [
    "df = df.query('(2 <= ceiling_height <= 6) |(ceiling_height.isna())').reset_index(drop=True)"
   ]
  },
  {
   "cell_type": "code",
   "execution_count": 34,
   "metadata": {
    "scrolled": true
   },
   "outputs": [
    {
     "data": {
      "text/plain": [
       "count    14493.000000\n",
       "mean         2.726674\n",
       "std          0.278646\n",
       "min          2.000000\n",
       "25%          2.510000\n",
       "50%          2.650000\n",
       "75%          2.800000\n",
       "max          6.000000\n",
       "Name: ceiling_height, dtype: float64"
      ]
     },
     "execution_count": 34,
     "metadata": {},
     "output_type": "execute_result"
    }
   ],
   "source": [
    "df['ceiling_height'].describe()"
   ]
  },
  {
   "cell_type": "markdown",
   "metadata": {},
   "source": [
    "#### 2.4.2. Обработка аномальных значений в столбце **rooms**"
   ]
  },
  {
   "cell_type": "code",
   "execution_count": 35,
   "metadata": {
    "scrolled": true
   },
   "outputs": [
    {
     "data": {
      "text/plain": [
       "<AxesSubplot:>"
      ]
     },
     "execution_count": 35,
     "metadata": {},
     "output_type": "execute_result"
    },
    {
     "data": {
      "image/png": "[encoded data removed]",
      "text/plain": [
       "<Figure size 432x288 with 1 Axes>"
      ]
     },
     "metadata": {
      "needs_background": "light"
     },
     "output_type": "display_data"
    }
   ],
   "source": [
    "df.boxplot(column='rooms')"
   ]
  },
  {
   "cell_type": "code",
   "execution_count": 36,
   "metadata": {},
   "outputs": [
    {
     "data": {
      "text/plain": [
       "array([[<AxesSubplot:title={'center':'rooms'}>]], dtype=object)"
      ]
     },
     "execution_count": 36,
     "metadata": {},
     "output_type": "execute_result"
    },
    {
     "data": {
      "image/png": "[encoded data removed]",
      "text/plain": [
       "<Figure size 432x288 with 1 Axes>"
      ]
     },
     "metadata": {
      "needs_background": "light"
     },
     "output_type": "display_data"
    }
   ],
   "source": [
    "df.hist('rooms')"
   ]
  },
  {
   "cell_type": "markdown",
   "metadata": {},
   "source": [
    "значения больше 7 (8-19 комнат) очень редки, их можно считать выбросами и удалить из выборки"
   ]
  },
  {
   "cell_type": "code",
   "execution_count": 37,
   "metadata": {},
   "outputs": [
    {
     "data": {
      "text/plain": [
       "0      197\n",
       "1     8042\n",
       "2     7936\n",
       "3     5812\n",
       "4     1180\n",
       "5      326\n",
       "6      105\n",
       "7       59\n",
       "8       12\n",
       "9        8\n",
       "10       3\n",
       "11       2\n",
       "12       1\n",
       "14       2\n",
       "15       1\n",
       "16       1\n",
       "19       1\n",
       "Name: rooms, dtype: int64"
      ]
     },
     "execution_count": 37,
     "metadata": {},
     "output_type": "execute_result"
    }
   ],
   "source": [
    "df['rooms'].value_counts().sort_index()"
   ]
  },
  {
   "cell_type": "code",
   "execution_count": 38,
   "metadata": {},
   "outputs": [],
   "source": [
    "df = df[df['rooms']<8].reset_index(drop=True)"
   ]
  },
  {
   "cell_type": "markdown",
   "metadata": {},
   "source": [
    "Отдельно рассмотрим выборку с квартирами с числом комнат равным 0"
   ]
  },
  {
   "cell_type": "code",
   "execution_count": 39,
   "metadata": {},
   "outputs": [
    {
     "data": {
      "text/html": [
       "<div>\n",
       "<style scoped>\n",
       "    .dataframe tbody tr th:only-of-type {\n",
       "        vertical-align: middle;\n",
       "    }\n",
       "\n",
       "    .dataframe tbody tr th {\n",
       "        vertical-align: top;\n",
       "    }\n",
       "\n",
       "    .dataframe thead th {\n",
       "        text-align: right;\n",
       "    }\n",
       "</style>\n",
       "<table border=\"1\" class=\"dataframe\">\n",
       "  <thead>\n",
       "    <tr style=\"text-align: right;\">\n",
       "      <th></th>\n",
       "      <th>total_images</th>\n",
       "      <th>last_price</th>\n",
       "      <th>total_area</th>\n",
       "      <th>first_day_exposition</th>\n",
       "      <th>rooms</th>\n",
       "      <th>ceiling_height</th>\n",
       "      <th>floors_total</th>\n",
       "      <th>living_area</th>\n",
       "      <th>floor</th>\n",
       "      <th>is_apartment</th>\n",
       "      <th>...</th>\n",
       "      <th>kitchen_area</th>\n",
       "      <th>balcony</th>\n",
       "      <th>locality_name</th>\n",
       "      <th>airports_nearest</th>\n",
       "      <th>cityCenters_nearest</th>\n",
       "      <th>parks_around3000</th>\n",
       "      <th>parks_nearest</th>\n",
       "      <th>ponds_around3000</th>\n",
       "      <th>ponds_nearest</th>\n",
       "      <th>days_exposition</th>\n",
       "    </tr>\n",
       "  </thead>\n",
       "  <tbody>\n",
       "    <tr>\n",
       "      <th>608</th>\n",
       "      <td>2</td>\n",
       "      <td>1850000</td>\n",
       "      <td>25.0</td>\n",
       "      <td>2019-02-20</td>\n",
       "      <td>0</td>\n",
       "      <td>NaN</td>\n",
       "      <td>10</td>\n",
       "      <td>NaN</td>\n",
       "      <td>7</td>\n",
       "      <td>False</td>\n",
       "      <td>...</td>\n",
       "      <td>NaN</td>\n",
       "      <td>0</td>\n",
       "      <td>поселок Шушары</td>\n",
       "      <td>NaN</td>\n",
       "      <td>NaN</td>\n",
       "      <td>NaN</td>\n",
       "      <td>NaN</td>\n",
       "      <td>NaN</td>\n",
       "      <td>NaN</td>\n",
       "      <td>29.0</td>\n",
       "    </tr>\n",
       "    <tr>\n",
       "      <th>779</th>\n",
       "      <td>9</td>\n",
       "      <td>2600000</td>\n",
       "      <td>26.1</td>\n",
       "      <td>2018-02-20</td>\n",
       "      <td>0</td>\n",
       "      <td>NaN</td>\n",
       "      <td>18</td>\n",
       "      <td>NaN</td>\n",
       "      <td>8</td>\n",
       "      <td>False</td>\n",
       "      <td>...</td>\n",
       "      <td>NaN</td>\n",
       "      <td>1</td>\n",
       "      <td>Мурино</td>\n",
       "      <td>NaN</td>\n",
       "      <td>NaN</td>\n",
       "      <td>NaN</td>\n",
       "      <td>NaN</td>\n",
       "      <td>NaN</td>\n",
       "      <td>NaN</td>\n",
       "      <td>45.0</td>\n",
       "    </tr>\n",
       "    <tr>\n",
       "      <th>2406</th>\n",
       "      <td>4</td>\n",
       "      <td>1980000</td>\n",
       "      <td>27.0</td>\n",
       "      <td>2018-03-23</td>\n",
       "      <td>0</td>\n",
       "      <td>NaN</td>\n",
       "      <td>18</td>\n",
       "      <td>NaN</td>\n",
       "      <td>4</td>\n",
       "      <td>False</td>\n",
       "      <td>...</td>\n",
       "      <td>NaN</td>\n",
       "      <td>0</td>\n",
       "      <td>поселок Петро-Славянка</td>\n",
       "      <td>20605.0</td>\n",
       "      <td>27165.0</td>\n",
       "      <td>0.0</td>\n",
       "      <td>NaN</td>\n",
       "      <td>2.0</td>\n",
       "      <td>663.0</td>\n",
       "      <td>75.0</td>\n",
       "    </tr>\n",
       "    <tr>\n",
       "      <th>3144</th>\n",
       "      <td>7</td>\n",
       "      <td>2170000</td>\n",
       "      <td>31.0</td>\n",
       "      <td>2017-12-30</td>\n",
       "      <td>0</td>\n",
       "      <td>2.60</td>\n",
       "      <td>12</td>\n",
       "      <td>NaN</td>\n",
       "      <td>12</td>\n",
       "      <td>False</td>\n",
       "      <td>...</td>\n",
       "      <td>NaN</td>\n",
       "      <td>0</td>\n",
       "      <td>Тосно</td>\n",
       "      <td>NaN</td>\n",
       "      <td>NaN</td>\n",
       "      <td>NaN</td>\n",
       "      <td>NaN</td>\n",
       "      <td>NaN</td>\n",
       "      <td>NaN</td>\n",
       "      <td>198.0</td>\n",
       "    </tr>\n",
       "    <tr>\n",
       "      <th>3870</th>\n",
       "      <td>13</td>\n",
       "      <td>1700000</td>\n",
       "      <td>21.4</td>\n",
       "      <td>2015-02-11</td>\n",
       "      <td>0</td>\n",
       "      <td>2.70</td>\n",
       "      <td>3</td>\n",
       "      <td>NaN</td>\n",
       "      <td>2</td>\n",
       "      <td>False</td>\n",
       "      <td>...</td>\n",
       "      <td>NaN</td>\n",
       "      <td>0</td>\n",
       "      <td>Всеволожск</td>\n",
       "      <td>NaN</td>\n",
       "      <td>NaN</td>\n",
       "      <td>NaN</td>\n",
       "      <td>NaN</td>\n",
       "      <td>NaN</td>\n",
       "      <td>NaN</td>\n",
       "      <td>NaN</td>\n",
       "    </tr>\n",
       "    <tr>\n",
       "      <th>4895</th>\n",
       "      <td>5</td>\n",
       "      <td>2200000</td>\n",
       "      <td>24.0</td>\n",
       "      <td>2018-10-22</td>\n",
       "      <td>0</td>\n",
       "      <td>NaN</td>\n",
       "      <td>0</td>\n",
       "      <td>NaN</td>\n",
       "      <td>6</td>\n",
       "      <td>False</td>\n",
       "      <td>...</td>\n",
       "      <td>NaN</td>\n",
       "      <td>0</td>\n",
       "      <td>поселок Бугры</td>\n",
       "      <td>NaN</td>\n",
       "      <td>NaN</td>\n",
       "      <td>NaN</td>\n",
       "      <td>NaN</td>\n",
       "      <td>NaN</td>\n",
       "      <td>NaN</td>\n",
       "      <td>51.0</td>\n",
       "    </tr>\n",
       "    <tr>\n",
       "      <th>5181</th>\n",
       "      <td>5</td>\n",
       "      <td>3300000</td>\n",
       "      <td>25.4</td>\n",
       "      <td>2018-11-02</td>\n",
       "      <td>0</td>\n",
       "      <td>NaN</td>\n",
       "      <td>0</td>\n",
       "      <td>NaN</td>\n",
       "      <td>15</td>\n",
       "      <td>False</td>\n",
       "      <td>...</td>\n",
       "      <td>NaN</td>\n",
       "      <td>0</td>\n",
       "      <td>Мурино</td>\n",
       "      <td>NaN</td>\n",
       "      <td>NaN</td>\n",
       "      <td>NaN</td>\n",
       "      <td>NaN</td>\n",
       "      <td>NaN</td>\n",
       "      <td>NaN</td>\n",
       "      <td>3.0</td>\n",
       "    </tr>\n",
       "    <tr>\n",
       "      <th>5741</th>\n",
       "      <td>20</td>\n",
       "      <td>3590000</td>\n",
       "      <td>25.0</td>\n",
       "      <td>2017-08-30</td>\n",
       "      <td>0</td>\n",
       "      <td>2.80</td>\n",
       "      <td>35</td>\n",
       "      <td>NaN</td>\n",
       "      <td>26</td>\n",
       "      <td>False</td>\n",
       "      <td>...</td>\n",
       "      <td>NaN</td>\n",
       "      <td>2</td>\n",
       "      <td>Санкт-Петербург</td>\n",
       "      <td>18732.0</td>\n",
       "      <td>20444.0</td>\n",
       "      <td>0.0</td>\n",
       "      <td>NaN</td>\n",
       "      <td>3.0</td>\n",
       "      <td>80.0</td>\n",
       "      <td>198.0</td>\n",
       "    </tr>\n",
       "    <tr>\n",
       "      <th>5949</th>\n",
       "      <td>1</td>\n",
       "      <td>3200000</td>\n",
       "      <td>30.3</td>\n",
       "      <td>2018-09-07</td>\n",
       "      <td>0</td>\n",
       "      <td>NaN</td>\n",
       "      <td>0</td>\n",
       "      <td>NaN</td>\n",
       "      <td>13</td>\n",
       "      <td>False</td>\n",
       "      <td>...</td>\n",
       "      <td>NaN</td>\n",
       "      <td>0</td>\n",
       "      <td>Санкт-Петербург</td>\n",
       "      <td>22735.0</td>\n",
       "      <td>11618.0</td>\n",
       "      <td>1.0</td>\n",
       "      <td>835.0</td>\n",
       "      <td>1.0</td>\n",
       "      <td>652.0</td>\n",
       "      <td>68.0</td>\n",
       "    </tr>\n",
       "    <tr>\n",
       "      <th>7809</th>\n",
       "      <td>11</td>\n",
       "      <td>3300000</td>\n",
       "      <td>27.3</td>\n",
       "      <td>2018-04-06</td>\n",
       "      <td>0</td>\n",
       "      <td>NaN</td>\n",
       "      <td>20</td>\n",
       "      <td>NaN</td>\n",
       "      <td>9</td>\n",
       "      <td>False</td>\n",
       "      <td>...</td>\n",
       "      <td>NaN</td>\n",
       "      <td>2</td>\n",
       "      <td>Санкт-Петербург</td>\n",
       "      <td>15990.0</td>\n",
       "      <td>13853.0</td>\n",
       "      <td>0.0</td>\n",
       "      <td>NaN</td>\n",
       "      <td>1.0</td>\n",
       "      <td>584.0</td>\n",
       "      <td>31.0</td>\n",
       "    </tr>\n",
       "    <tr>\n",
       "      <th>8444</th>\n",
       "      <td>7</td>\n",
       "      <td>2250000</td>\n",
       "      <td>19.0</td>\n",
       "      <td>2019-03-12</td>\n",
       "      <td>0</td>\n",
       "      <td>3.00</td>\n",
       "      <td>6</td>\n",
       "      <td>NaN</td>\n",
       "      <td>2</td>\n",
       "      <td>False</td>\n",
       "      <td>...</td>\n",
       "      <td>NaN</td>\n",
       "      <td>0</td>\n",
       "      <td>Санкт-Петербург</td>\n",
       "      <td>12430.0</td>\n",
       "      <td>7316.0</td>\n",
       "      <td>1.0</td>\n",
       "      <td>238.0</td>\n",
       "      <td>3.0</td>\n",
       "      <td>374.0</td>\n",
       "      <td>44.0</td>\n",
       "    </tr>\n",
       "    <tr>\n",
       "      <th>17999</th>\n",
       "      <td>11</td>\n",
       "      <td>3500000</td>\n",
       "      <td>31.0</td>\n",
       "      <td>2019-04-17</td>\n",
       "      <td>0</td>\n",
       "      <td>NaN</td>\n",
       "      <td>25</td>\n",
       "      <td>NaN</td>\n",
       "      <td>2</td>\n",
       "      <td>False</td>\n",
       "      <td>...</td>\n",
       "      <td>NaN</td>\n",
       "      <td>0</td>\n",
       "      <td>Санкт-Петербург</td>\n",
       "      <td>21460.0</td>\n",
       "      <td>16788.0</td>\n",
       "      <td>0.0</td>\n",
       "      <td>NaN</td>\n",
       "      <td>1.0</td>\n",
       "      <td>170.0</td>\n",
       "      <td>NaN</td>\n",
       "    </tr>\n",
       "    <tr>\n",
       "      <th>19359</th>\n",
       "      <td>5</td>\n",
       "      <td>71000000</td>\n",
       "      <td>371.0</td>\n",
       "      <td>2018-07-26</td>\n",
       "      <td>0</td>\n",
       "      <td>3.57</td>\n",
       "      <td>7</td>\n",
       "      <td>NaN</td>\n",
       "      <td>6</td>\n",
       "      <td>False</td>\n",
       "      <td>...</td>\n",
       "      <td>NaN</td>\n",
       "      <td>0</td>\n",
       "      <td>Санкт-Петербург</td>\n",
       "      <td>25257.0</td>\n",
       "      <td>6060.0</td>\n",
       "      <td>1.0</td>\n",
       "      <td>761.0</td>\n",
       "      <td>1.0</td>\n",
       "      <td>584.0</td>\n",
       "      <td>90.0</td>\n",
       "    </tr>\n",
       "    <tr>\n",
       "      <th>23512</th>\n",
       "      <td>15</td>\n",
       "      <td>3350000</td>\n",
       "      <td>26.0</td>\n",
       "      <td>2018-09-07</td>\n",
       "      <td>0</td>\n",
       "      <td>NaN</td>\n",
       "      <td>19</td>\n",
       "      <td>NaN</td>\n",
       "      <td>8</td>\n",
       "      <td>False</td>\n",
       "      <td>...</td>\n",
       "      <td>NaN</td>\n",
       "      <td>0</td>\n",
       "      <td>Санкт-Петербург</td>\n",
       "      <td>18090.0</td>\n",
       "      <td>17092.0</td>\n",
       "      <td>0.0</td>\n",
       "      <td>NaN</td>\n",
       "      <td>2.0</td>\n",
       "      <td>112.0</td>\n",
       "      <td>31.0</td>\n",
       "    </tr>\n",
       "  </tbody>\n",
       "</table>\n",
       "<p>14 rows × 22 columns</p>\n",
       "</div>"
      ],
      "text/plain": [
       "       total_images  last_price  total_area first_day_exposition  rooms  \\\n",
       "608               2     1850000        25.0           2019-02-20      0   \n",
       "779               9     2600000        26.1           2018-02-20      0   \n",
       "2406              4     1980000        27.0           2018-03-23      0   \n",
       "3144              7     2170000        31.0           2017-12-30      0   \n",
       "3870             13     1700000        21.4           2015-02-11      0   \n",
       "4895              5     2200000        24.0           2018-10-22      0   \n",
       "5181              5     3300000        25.4           2018-11-02      0   \n",
       "5741             20     3590000        25.0           2017-08-30      0   \n",
       "5949              1     3200000        30.3           2018-09-07      0   \n",
       "7809             11     3300000        27.3           2018-04-06      0   \n",
       "8444              7     2250000        19.0           2019-03-12      0   \n",
       "17999            11     3500000        31.0           2019-04-17      0   \n",
       "19359             5    71000000       371.0           2018-07-26      0   \n",
       "23512            15     3350000        26.0           2018-09-07      0   \n",
       "\n",
       "       ceiling_height  floors_total  living_area  floor  is_apartment  ...  \\\n",
       "608               NaN            10          NaN      7         False  ...   \n",
       "779               NaN            18          NaN      8         False  ...   \n",
       "2406              NaN            18          NaN      4         False  ...   \n",
       "3144             2.60            12          NaN     12         False  ...   \n",
       "3870             2.70             3          NaN      2         False  ...   \n",
       "4895              NaN             0          NaN      6         False  ...   \n",
       "5181              NaN             0          NaN     15         False  ...   \n",
       "5741             2.80            35          NaN     26         False  ...   \n",
       "5949              NaN             0          NaN     13         False  ...   \n",
       "7809              NaN            20          NaN      9         False  ...   \n",
       "8444             3.00             6          NaN      2         False  ...   \n",
       "17999             NaN            25          NaN      2         False  ...   \n",
       "19359            3.57             7          NaN      6         False  ...   \n",
       "23512             NaN            19          NaN      8         False  ...   \n",
       "\n",
       "       kitchen_area  balcony           locality_name  airports_nearest  \\\n",
       "608             NaN        0          поселок Шушары               NaN   \n",
       "779             NaN        1                  Мурино               NaN   \n",
       "2406            NaN        0  поселок Петро-Славянка           20605.0   \n",
       "3144            NaN        0                   Тосно               NaN   \n",
       "3870            NaN        0              Всеволожск               NaN   \n",
       "4895            NaN        0           поселок Бугры               NaN   \n",
       "5181            NaN        0                  Мурино               NaN   \n",
       "5741            NaN        2         Санкт-Петербург           18732.0   \n",
       "5949            NaN        0         Санкт-Петербург           22735.0   \n",
       "7809            NaN        2         Санкт-Петербург           15990.0   \n",
       "8444            NaN        0         Санкт-Петербург           12430.0   \n",
       "17999           NaN        0         Санкт-Петербург           21460.0   \n",
       "19359           NaN        0         Санкт-Петербург           25257.0   \n",
       "23512           NaN        0         Санкт-Петербург           18090.0   \n",
       "\n",
       "      cityCenters_nearest  parks_around3000  parks_nearest  ponds_around3000  \\\n",
       "608                   NaN               NaN            NaN               NaN   \n",
       "779                   NaN               NaN            NaN               NaN   \n",
       "2406              27165.0               0.0            NaN               2.0   \n",
       "3144                  NaN               NaN            NaN               NaN   \n",
       "3870                  NaN               NaN            NaN               NaN   \n",
       "4895                  NaN               NaN            NaN               NaN   \n",
       "5181                  NaN               NaN            NaN               NaN   \n",
       "5741              20444.0               0.0            NaN               3.0   \n",
       "5949              11618.0               1.0          835.0               1.0   \n",
       "7809              13853.0               0.0            NaN               1.0   \n",
       "8444               7316.0               1.0          238.0               3.0   \n",
       "17999             16788.0               0.0            NaN               1.0   \n",
       "19359              6060.0               1.0          761.0               1.0   \n",
       "23512             17092.0               0.0            NaN               2.0   \n",
       "\n",
       "       ponds_nearest  days_exposition  \n",
       "608              NaN             29.0  \n",
       "779              NaN             45.0  \n",
       "2406           663.0             75.0  \n",
       "3144             NaN            198.0  \n",
       "3870             NaN              NaN  \n",
       "4895             NaN             51.0  \n",
       "5181             NaN              3.0  \n",
       "5741            80.0            198.0  \n",
       "5949           652.0             68.0  \n",
       "7809           584.0             31.0  \n",
       "8444           374.0             44.0  \n",
       "17999          170.0              NaN  \n",
       "19359          584.0             90.0  \n",
       "23512          112.0             31.0  \n",
       "\n",
       "[14 rows x 22 columns]"
      ]
     },
     "execution_count": 39,
     "metadata": {},
     "output_type": "execute_result"
    }
   ],
   "source": [
    "# данные, в которых количество комнат равно 0 и жилая площадь не заполнена можно убрать из выборки\n",
    "# таких объявлений всего 14, возможно это не жилая недвижимость или пропуски возникли случайно,\n",
    "# в любом случае эти объявления не подойдут для анализа\n",
    "df.query('rooms==0 and living_area.isna()')"
   ]
  },
  {
   "cell_type": "code",
   "execution_count": 40,
   "metadata": {},
   "outputs": [],
   "source": [
    "df = df.query('not(rooms==0 and living_area.isna())').reset_index(drop=True)"
   ]
  },
  {
   "cell_type": "markdown",
   "metadata": {},
   "source": [
    "Посмотрим теперь на квартиры с нулевым числом комнат в разрезе категорий - студия это или нет"
   ]
  },
  {
   "cell_type": "code",
   "execution_count": 41,
   "metadata": {},
   "outputs": [
    {
     "data": {
      "text/plain": [
       "studio\n",
       "False     55\n",
       "True     128\n",
       "Name: rooms, dtype: int64"
      ]
     },
     "execution_count": 41,
     "metadata": {},
     "output_type": "execute_result"
    }
   ],
   "source": [
    "df.query('rooms==0').groupby('studio')['rooms'].count()"
   ]
  },
  {
   "cell_type": "code",
   "execution_count": 42,
   "metadata": {},
   "outputs": [
    {
     "data": {
      "text/plain": [
       "studio\n",
       "False    23504\n",
       "True       139\n",
       "Name: rooms, dtype: int64"
      ]
     },
     "execution_count": 42,
     "metadata": {},
     "output_type": "execute_result"
    }
   ],
   "source": [
    "df.groupby('studio')['rooms'].count()"
   ]
  },
  {
   "cell_type": "markdown",
   "metadata": {},
   "source": [
    "В некоторых объявлениях для студий указана 1 комната, а в некторых 0. \n",
    "Поскольку студия является однокомнатной квартирой с жилой площадью равной площади комнаты, \n",
    "изменим для всех студий rooms = 1"
   ]
  },
  {
   "cell_type": "code",
   "execution_count": 43,
   "metadata": {},
   "outputs": [],
   "source": [
    "df.loc[((df['rooms'] == 0)&(df['studio'] ==True)),'rooms'] = 1"
   ]
  },
  {
   "cell_type": "markdown",
   "metadata": {},
   "source": [
    "Все остальные квартиры с нулевым числом комнат являются квартирами со свободной планировкой (open_plan). \n",
    "Эти данные оставим без изменений, так как нельзя с точностью сказать, сколько в них комнат."
   ]
  },
  {
   "cell_type": "markdown",
   "metadata": {},
   "source": [
    "#### 2.4.3. Обработка аномальных значений в столбце **total_area**"
   ]
  },
  {
   "cell_type": "code",
   "execution_count": 44,
   "metadata": {},
   "outputs": [
    {
     "data": {
      "text/plain": [
       "<AxesSubplot:>"
      ]
     },
     "execution_count": 44,
     "metadata": {},
     "output_type": "execute_result"
    },
    {
     "data": {
      "image/png": "[encoded data removed]",
      "text/plain": [
       "<Figure size 432x288 with 1 Axes>"
      ]
     },
     "metadata": {
      "needs_background": "light"
     },
     "output_type": "display_data"
    }
   ],
   "source": [
    "df.boxplot(column='total_area')"
   ]
  },
  {
   "cell_type": "code",
   "execution_count": 45,
   "metadata": {},
   "outputs": [
    {
     "data": {
      "text/plain": [
       "(0.0, 350.0)"
      ]
     },
     "execution_count": 45,
     "metadata": {},
     "output_type": "execute_result"
    },
    {
     "data": {
      "image/png": "[encoded data removed]",
      "text/plain": [
       "<Figure size 432x288 with 1 Axes>"
      ]
     },
     "metadata": {
      "needs_background": "light"
     },
     "output_type": "display_data"
    }
   ],
   "source": [
    "df.hist('total_area', bins=40)\n",
    "plt.xlim(0, 350)"
   ]
  },
  {
   "cell_type": "markdown",
   "metadata": {},
   "source": [
    "Выбросим значения больше 300 кв. метров, они очень редки"
   ]
  },
  {
   "cell_type": "code",
   "execution_count": 46,
   "metadata": {},
   "outputs": [],
   "source": [
    "df= df.query('total_area<=300').reset_index(drop=True)"
   ]
  },
  {
   "cell_type": "markdown",
   "metadata": {},
   "source": [
    "#### 2.4.4. Обработка аномальных значений в столбце **living_area**"
   ]
  },
  {
   "cell_type": "code",
   "execution_count": 47,
   "metadata": {},
   "outputs": [
    {
     "data": {
      "text/plain": [
       "<AxesSubplot:>"
      ]
     },
     "execution_count": 47,
     "metadata": {},
     "output_type": "execute_result"
    },
    {
     "data": {
      "image/png": "[encoded data removed]",
      "text/plain": [
       "<Figure size 288x504 with 1 Axes>"
      ]
     },
     "metadata": {
      "needs_background": "light"
     },
     "output_type": "display_data"
    }
   ],
   "source": [
    "df.boxplot(column='living_area', figsize =(4,7), grid=True)"
   ]
  },
  {
   "cell_type": "code",
   "execution_count": 48,
   "metadata": {},
   "outputs": [
    {
     "data": {
      "text/plain": [
       "(0.0, 250.0)"
      ]
     },
     "execution_count": 48,
     "metadata": {},
     "output_type": "execute_result"
    },
    {
     "data": {
      "image/png": "[encoded data removed]",
      "text/plain": [
       "<Figure size 432x288 with 1 Axes>"
      ]
     },
     "metadata": {
      "needs_background": "light"
     },
     "output_type": "display_data"
    }
   ],
   "source": [
    "df.hist('living_area', bins=30)\n",
    "plt.xlim(0, 250)"
   ]
  },
  {
   "cell_type": "markdown",
   "metadata": {},
   "source": [
    "Значения жилой площади более 250 и менее 9 кв. м. единичны. Также уберем их из выборки"
   ]
  },
  {
   "cell_type": "code",
   "execution_count": 49,
   "metadata": {},
   "outputs": [],
   "source": [
    "df = df.query('living_area<=250 and living_area>=9').reset_index(drop=True)"
   ]
  },
  {
   "cell_type": "markdown",
   "metadata": {},
   "source": [
    "### 2.5. Обработка пропусков (продолжение)"
   ]
  },
  {
   "cell_type": "markdown",
   "metadata": {},
   "source": [
    "После того, как мы очистили выборку от аномалий, вернемся к обработке пропусков в столбцах, \n",
    "где содержатся данные, занесенные пользователем"
   ]
  },
  {
   "cell_type": "code",
   "execution_count": 50,
   "metadata": {},
   "outputs": [
    {
     "data": {
      "text/plain": [
       "21705"
      ]
     },
     "execution_count": 50,
     "metadata": {},
     "output_type": "execute_result"
    }
   ],
   "source": [
    "df.shape[0]"
   ]
  },
  {
   "cell_type": "markdown",
   "metadata": {},
   "source": [
    "После всех преобразований и удаления артефактов потеря составила около 8% данных от первоначальной выборки. Поскольку выборка достаточно большая, будем считать это необходимой потерей для корректных результатов исследования."
   ]
  },
  {
   "cell_type": "code",
   "execution_count": 51,
   "metadata": {},
   "outputs": [
    {
     "data": {
      "text/plain": [
       "total_images                0\n",
       "last_price                  0\n",
       "total_area                  0\n",
       "first_day_exposition        0\n",
       "rooms                       0\n",
       "ceiling_height           8064\n",
       "floors_total                0\n",
       "living_area                 0\n",
       "floor                       0\n",
       "is_apartment                0\n",
       "studio                      0\n",
       "open_plan                   0\n",
       "kitchen_area              804\n",
       "balcony                     0\n",
       "locality_name               0\n",
       "airports_nearest         4911\n",
       "cityCenters_nearest      4892\n",
       "parks_around3000         4891\n",
       "parks_nearest           14264\n",
       "ponds_around3000         4891\n",
       "ponds_nearest           13343\n",
       "days_exposition          2969\n",
       "dtype: int64"
      ]
     },
     "execution_count": 51,
     "metadata": {},
     "output_type": "execute_result"
    }
   ],
   "source": [
    "df.isna().sum()"
   ]
  },
  {
   "cell_type": "markdown",
   "metadata": {},
   "source": [
    "Заменим пропущенную высоту потолков на медианную величину по всей выборке."
   ]
  },
  {
   "cell_type": "code",
   "execution_count": 52,
   "metadata": {},
   "outputs": [],
   "source": [
    "df['ceiling_height'] = df['ceiling_height'].fillna(df['ceiling_height'].median())"
   ]
  },
  {
   "cell_type": "markdown",
   "metadata": {},
   "source": [
    "Заменим пропуски в данных о площади кухни. \n"
   ]
  },
  {
   "cell_type": "code",
   "execution_count": 53,
   "metadata": {},
   "outputs": [
    {
     "data": {
      "text/plain": [
       "0.5914463703842114"
      ]
     },
     "execution_count": 53,
     "metadata": {},
     "output_type": "execute_result"
    }
   ],
   "source": [
    "#Логично преположить, что площадь кухни коррелирует с общей площадью, найдем корреляцию.\n",
    "\n",
    "df['kitchen_area'].corr(df['total_area'])"
   ]
  },
  {
   "cell_type": "code",
   "execution_count": 54,
   "metadata": {},
   "outputs": [
    {
     "data": {
      "text/plain": [
       "0.17213114754098363"
      ]
     },
     "execution_count": 54,
     "metadata": {},
     "output_type": "execute_result"
    }
   ],
   "source": [
    "#Корреляция средняя по величине и положительная\n",
    "#Подсчитаем соотношение площади кухонь к общей площади, найдем медианное значение показателя\n",
    "ratio = (df['kitchen_area']/df['total_area']).median()\n",
    "ratio"
   ]
  },
  {
   "cell_type": "code",
   "execution_count": 55,
   "metadata": {},
   "outputs": [],
   "source": [
    "#Заполним пропуски на рассчетное значение (ratio*total_area)\n",
    "\n",
    "df.loc[df['kitchen_area'].isna(),'kitchen_area'] = ratio* df.loc[df['kitchen_area'].isna(),'total_area']"
   ]
  },
  {
   "cell_type": "markdown",
   "metadata": {},
   "source": [
    "Попробуем обработать пропуски в столбце days_exposition, содержащем данные о том,\n",
    "сколько дней было размещено объявление (от публикации до снятия).\n",
    "\n",
    "Рассмотрим распределение пропусков по годам."
   ]
  },
  {
   "cell_type": "code",
   "execution_count": 56,
   "metadata": {},
   "outputs": [
    {
     "data": {
      "text/plain": [
       "first_day_exposition\n",
       "2014     130\n",
       "2015    1114\n",
       "2016    2655\n",
       "2017    7623\n",
       "2018    7503\n",
       "2019    2680\n",
       "Name: last_price, dtype: int64"
      ]
     },
     "execution_count": 56,
     "metadata": {},
     "output_type": "execute_result"
    }
   ],
   "source": [
    "#посмотрим распределение всех данных по годам\n",
    "df.groupby(df['first_day_exposition'].dt.year)['last_price'].count()"
   ]
  },
  {
   "cell_type": "code",
   "execution_count": 57,
   "metadata": {},
   "outputs": [
    {
     "data": {
      "text/plain": [
       "first_day_exposition\n",
       "2014      18\n",
       "2015      65\n",
       "2016      65\n",
       "2017     250\n",
       "2018     898\n",
       "2019    1673\n",
       "Name: last_price, dtype: int64"
      ]
     },
     "execution_count": 57,
     "metadata": {},
     "output_type": "execute_result"
    }
   ],
   "source": [
    "#посмотрим распределение пропусков в days_exposition по годам\n",
    "df.query('days_exposition.isna()').groupby(df['first_day_exposition'].dt.year)['last_price'].count()"
   ]
  },
  {
   "cell_type": "code",
   "execution_count": 58,
   "metadata": {},
   "outputs": [
    {
     "data": {
      "text/plain": [
       "<AxesSubplot:title={'center':'Распределение пропусков данных days exposition'}, xlabel='first_day_exposition'>"
      ]
     },
     "execution_count": 58,
     "metadata": {},
     "output_type": "execute_result"
    },
    {
     "data": {
      "image/png": "[encoded data removed]",
      "text/plain": [
       "<Figure size 432x288 with 1 Axes>"
      ]
     },
     "metadata": {
      "needs_background": "light"
     },
     "output_type": "display_data"
    }
   ],
   "source": [
    "df.query('days_exposition.isna()').groupby(df['first_day_exposition'].dt.year)['last_price']\\\n",
    "                                  .count().plot(title= 'Распределение пропусков данных days exposition', style='o-')"
   ]
  },
  {
   "cell_type": "markdown",
   "metadata": {},
   "source": [
    "Более половины всех пропущенных данных приходятся на 2019 год, резкий скачок пропусков наблюдается с 2017 года. \n",
    "Вероятно, в данном случае причина пропусков - технический сбой (сбой при выгрузке данных или их переносе, либо сбой при автоподсчете дней в системе).\n",
    "Такие пропуски оставим незаполненными, однако будем учитывать что для выборки 2019 года анализ данных о скорости продаж не является в полной мере валидным, так как более 62% данных имеют пропуски в рассматриваемом параметре."
   ]
  },
  {
   "cell_type": "code",
   "execution_count": 59,
   "metadata": {},
   "outputs": [
    {
     "data": {
      "text/plain": [
       "total_images                0\n",
       "last_price                  0\n",
       "total_area                  0\n",
       "first_day_exposition        0\n",
       "rooms                       0\n",
       "ceiling_height              0\n",
       "floors_total                0\n",
       "living_area                 0\n",
       "floor                       0\n",
       "is_apartment                0\n",
       "studio                      0\n",
       "open_plan                   0\n",
       "kitchen_area                0\n",
       "balcony                     0\n",
       "locality_name               0\n",
       "airports_nearest         4911\n",
       "cityCenters_nearest      4892\n",
       "parks_around3000         4891\n",
       "parks_nearest           14264\n",
       "ponds_around3000         4891\n",
       "ponds_nearest           13343\n",
       "days_exposition          2969\n",
       "dtype: int64"
      ]
     },
     "execution_count": 59,
     "metadata": {},
     "output_type": "execute_result"
    }
   ],
   "source": [
    "#все пропуски, кроме картографических данных и days_exposition, заполнены\n",
    "df.isna().sum()"
   ]
  },
  {
   "cell_type": "markdown",
   "metadata": {},
   "source": [
    "<div class=\"alert alert-info\">\n",
    "    \n",
    " Выявлены пропуски в данных,  указаны возможные причины их появления. \n",
    "\n",
    " Пропуски заполнены логически предполагаемыми данными, идентификаторами пропуска (типа \"unknown\" и 0), медианными значениями выборке.\n",
    " Пропуски в картографических данных оставлены в выборке, поскольку иx заполнение может сильно исказить результаты исследования.\n",
    "    \n",
    " Преобразованы типы данных для переменных без пропусков, где это возможно.\n",
    "    \n",
    " В названиях местоположений объектов обнаружены неявные дубликаты, возникшие из-за различного написания. Обнаружены и обработаны 59 названий-дубликатов, наименования местоположений приведены к единому виду.\n",
    "    \n",
    " Изучены данные основных количественных переменных, заполненных пользователем. Выборка очищена от выбросов.\n",
    "На этапе предобработки выборка очищена от 8% данных.\n",
    "\n",
    "\n",
    "</div>"
   ]
  },
  {
   "cell_type": "markdown",
   "metadata": {},
   "source": [
    "## 3. Добавление новых столбцов"
   ]
  },
  {
   "cell_type": "markdown",
   "metadata": {},
   "source": [
    "Добавим столбец с ценой квадратного метра - sqm_price"
   ]
  },
  {
   "cell_type": "code",
   "execution_count": 60,
   "metadata": {},
   "outputs": [],
   "source": [
    "df['sqm_price'] = df['last_price']/df['total_area']"
   ]
  },
  {
   "cell_type": "markdown",
   "metadata": {},
   "source": [
    "Добавим столбцы:\n",
    "\n",
    " - weekday_exposition - день недели публикации объявления (0 — понедельник, 1 — вторник и так далее)\n",
    " - month_exposition - месяц публикации объявления\n",
    " - year_exposition - год публикации объявления"
   ]
  },
  {
   "cell_type": "code",
   "execution_count": 61,
   "metadata": {},
   "outputs": [],
   "source": [
    "df['weekday_exposition'] = df['first_day_exposition'].dt.weekday"
   ]
  },
  {
   "cell_type": "code",
   "execution_count": 62,
   "metadata": {},
   "outputs": [],
   "source": [
    "df['month_exposition'] = df['first_day_exposition'].dt.month"
   ]
  },
  {
   "cell_type": "code",
   "execution_count": 63,
   "metadata": {},
   "outputs": [],
   "source": [
    "df['year_exposition'] = df['first_day_exposition'].dt.year"
   ]
  },
  {
   "cell_type": "markdown",
   "metadata": {},
   "source": [
    "Добавим столбец city_сenter_km - расстояние до центра города в километрах (округлим до ближайшего целого значения)"
   ]
  },
  {
   "cell_type": "code",
   "execution_count": 64,
   "metadata": {},
   "outputs": [],
   "source": [
    "df['city_сenter_km'] = (df['cityCenters_nearest']/1000).round()"
   ]
  },
  {
   "cell_type": "code",
   "execution_count": 65,
   "metadata": {},
   "outputs": [
    {
     "data": {
      "text/html": [
       "<div>\n",
       "<style scoped>\n",
       "    .dataframe tbody tr th:only-of-type {\n",
       "        vertical-align: middle;\n",
       "    }\n",
       "\n",
       "    .dataframe tbody tr th {\n",
       "        vertical-align: top;\n",
       "    }\n",
       "\n",
       "    .dataframe thead th {\n",
       "        text-align: right;\n",
       "    }\n",
       "</style>\n",
       "<table border=\"1\" class=\"dataframe\">\n",
       "  <thead>\n",
       "    <tr style=\"text-align: right;\">\n",
       "      <th></th>\n",
       "      <th>total_images</th>\n",
       "      <th>last_price</th>\n",
       "      <th>total_area</th>\n",
       "      <th>first_day_exposition</th>\n",
       "      <th>rooms</th>\n",
       "      <th>ceiling_height</th>\n",
       "      <th>floors_total</th>\n",
       "      <th>living_area</th>\n",
       "      <th>floor</th>\n",
       "      <th>is_apartment</th>\n",
       "      <th>...</th>\n",
       "      <th>parks_around3000</th>\n",
       "      <th>parks_nearest</th>\n",
       "      <th>ponds_around3000</th>\n",
       "      <th>ponds_nearest</th>\n",
       "      <th>days_exposition</th>\n",
       "      <th>sqm_price</th>\n",
       "      <th>weekday_exposition</th>\n",
       "      <th>month_exposition</th>\n",
       "      <th>year_exposition</th>\n",
       "      <th>city_сenter_km</th>\n",
       "    </tr>\n",
       "  </thead>\n",
       "  <tbody>\n",
       "    <tr>\n",
       "      <th>0</th>\n",
       "      <td>20</td>\n",
       "      <td>13000000</td>\n",
       "      <td>108.0</td>\n",
       "      <td>2019-03-07</td>\n",
       "      <td>3</td>\n",
       "      <td>2.70</td>\n",
       "      <td>16</td>\n",
       "      <td>51.0</td>\n",
       "      <td>8</td>\n",
       "      <td>False</td>\n",
       "      <td>...</td>\n",
       "      <td>1.0</td>\n",
       "      <td>482.0</td>\n",
       "      <td>2.0</td>\n",
       "      <td>755.0</td>\n",
       "      <td>NaN</td>\n",
       "      <td>120370.370370</td>\n",
       "      <td>3</td>\n",
       "      <td>3</td>\n",
       "      <td>2019</td>\n",
       "      <td>16.0</td>\n",
       "    </tr>\n",
       "    <tr>\n",
       "      <th>1</th>\n",
       "      <td>7</td>\n",
       "      <td>3350000</td>\n",
       "      <td>40.4</td>\n",
       "      <td>2018-12-04</td>\n",
       "      <td>1</td>\n",
       "      <td>2.65</td>\n",
       "      <td>11</td>\n",
       "      <td>18.6</td>\n",
       "      <td>1</td>\n",
       "      <td>False</td>\n",
       "      <td>...</td>\n",
       "      <td>0.0</td>\n",
       "      <td>NaN</td>\n",
       "      <td>0.0</td>\n",
       "      <td>NaN</td>\n",
       "      <td>81.0</td>\n",
       "      <td>82920.792079</td>\n",
       "      <td>1</td>\n",
       "      <td>12</td>\n",
       "      <td>2018</td>\n",
       "      <td>19.0</td>\n",
       "    </tr>\n",
       "    <tr>\n",
       "      <th>2</th>\n",
       "      <td>10</td>\n",
       "      <td>5196000</td>\n",
       "      <td>56.0</td>\n",
       "      <td>2015-08-20</td>\n",
       "      <td>2</td>\n",
       "      <td>2.65</td>\n",
       "      <td>5</td>\n",
       "      <td>34.3</td>\n",
       "      <td>4</td>\n",
       "      <td>False</td>\n",
       "      <td>...</td>\n",
       "      <td>1.0</td>\n",
       "      <td>90.0</td>\n",
       "      <td>2.0</td>\n",
       "      <td>574.0</td>\n",
       "      <td>558.0</td>\n",
       "      <td>92785.714286</td>\n",
       "      <td>3</td>\n",
       "      <td>8</td>\n",
       "      <td>2015</td>\n",
       "      <td>14.0</td>\n",
       "    </tr>\n",
       "    <tr>\n",
       "      <th>3</th>\n",
       "      <td>2</td>\n",
       "      <td>10000000</td>\n",
       "      <td>100.0</td>\n",
       "      <td>2018-06-19</td>\n",
       "      <td>2</td>\n",
       "      <td>3.03</td>\n",
       "      <td>14</td>\n",
       "      <td>32.0</td>\n",
       "      <td>13</td>\n",
       "      <td>False</td>\n",
       "      <td>...</td>\n",
       "      <td>2.0</td>\n",
       "      <td>112.0</td>\n",
       "      <td>1.0</td>\n",
       "      <td>48.0</td>\n",
       "      <td>121.0</td>\n",
       "      <td>100000.000000</td>\n",
       "      <td>1</td>\n",
       "      <td>6</td>\n",
       "      <td>2018</td>\n",
       "      <td>8.0</td>\n",
       "    </tr>\n",
       "    <tr>\n",
       "      <th>4</th>\n",
       "      <td>10</td>\n",
       "      <td>2890000</td>\n",
       "      <td>30.4</td>\n",
       "      <td>2018-09-10</td>\n",
       "      <td>1</td>\n",
       "      <td>2.65</td>\n",
       "      <td>12</td>\n",
       "      <td>14.4</td>\n",
       "      <td>5</td>\n",
       "      <td>False</td>\n",
       "      <td>...</td>\n",
       "      <td>NaN</td>\n",
       "      <td>NaN</td>\n",
       "      <td>NaN</td>\n",
       "      <td>NaN</td>\n",
       "      <td>55.0</td>\n",
       "      <td>95065.789474</td>\n",
       "      <td>0</td>\n",
       "      <td>9</td>\n",
       "      <td>2018</td>\n",
       "      <td>NaN</td>\n",
       "    </tr>\n",
       "  </tbody>\n",
       "</table>\n",
       "<p>5 rows × 27 columns</p>\n",
       "</div>"
      ],
      "text/plain": [
       "   total_images  last_price  total_area first_day_exposition  rooms  \\\n",
       "0            20    13000000       108.0           2019-03-07      3   \n",
       "1             7     3350000        40.4           2018-12-04      1   \n",
       "2            10     5196000        56.0           2015-08-20      2   \n",
       "3             2    10000000       100.0           2018-06-19      2   \n",
       "4            10     2890000        30.4           2018-09-10      1   \n",
       "\n",
       "   ceiling_height  floors_total  living_area  floor  is_apartment  ...  \\\n",
       "0            2.70            16         51.0      8         False  ...   \n",
       "1            2.65            11         18.6      1         False  ...   \n",
       "2            2.65             5         34.3      4         False  ...   \n",
       "3            3.03            14         32.0     13         False  ...   \n",
       "4            2.65            12         14.4      5         False  ...   \n",
       "\n",
       "   parks_around3000  parks_nearest  ponds_around3000  ponds_nearest  \\\n",
       "0               1.0          482.0               2.0          755.0   \n",
       "1               0.0            NaN               0.0            NaN   \n",
       "2               1.0           90.0               2.0          574.0   \n",
       "3               2.0          112.0               1.0           48.0   \n",
       "4               NaN            NaN               NaN            NaN   \n",
       "\n",
       "  days_exposition      sqm_price  weekday_exposition  month_exposition  \\\n",
       "0             NaN  120370.370370                   3                 3   \n",
       "1            81.0   82920.792079                   1                12   \n",
       "2           558.0   92785.714286                   3                 8   \n",
       "3           121.0  100000.000000                   1                 6   \n",
       "4            55.0   95065.789474                   0                 9   \n",
       "\n",
       "   year_exposition  city_сenter_km  \n",
       "0             2019            16.0  \n",
       "1             2018            19.0  \n",
       "2             2015            14.0  \n",
       "3             2018             8.0  \n",
       "4             2018             NaN  \n",
       "\n",
       "[5 rows x 27 columns]"
      ]
     },
     "execution_count": 65,
     "metadata": {},
     "output_type": "execute_result"
    }
   ],
   "source": [
    "df.head()"
   ]
  },
  {
   "cell_type": "markdown",
   "metadata": {},
   "source": [
    "Добавим столбец floor_type cо значениями категорий («первый», «последний», «другой»)"
   ]
  },
  {
   "cell_type": "code",
   "execution_count": 66,
   "metadata": {},
   "outputs": [],
   "source": [
    "# функция возвращает тип этажа \"первый\", если floor=1\n",
    "# 'последний', если этаж и общее количество этажей совпадают floor = total_floors\n",
    "# 'другой', если этаж не первый и этаж не совпадает с общим количеством этажей в доме\n",
    "# 'не определено' для тех квартир, в которых пропущено общее количество этажей\n",
    "\n",
    "def type(df):\n",
    "    floor = df['floor']\n",
    "    floors_total = df['floors_total']\n",
    "    if floor ==1:\n",
    "        return 'первый'\n",
    "    if floor == floors_total:\n",
    "        return 'последний'\n",
    "    if floors_total==0:\n",
    "        return 'не определено'\n",
    "    return 'другой'\n",
    "\n",
    "df['floor_type'] = df.apply(type, axis=1)"
   ]
  },
  {
   "cell_type": "code",
   "execution_count": 67,
   "metadata": {},
   "outputs": [
    {
     "data": {
      "text/plain": [
       "другой           15945\n",
       "последний         3054\n",
       "первый            2654\n",
       "не определено       52\n",
       "Name: floor_type, dtype: int64"
      ]
     },
     "execution_count": 67,
     "metadata": {},
     "output_type": "execute_result"
    }
   ],
   "source": [
    "df['floor_type'].value_counts()"
   ]
  },
  {
   "cell_type": "markdown",
   "metadata": {},
   "source": [
    "<div class=\"alert alert-info\">\n",
    "В выборку добавлены новые столбцы, которые позволят проанализировать дополнительные факторы, влияющие на цену недвижимости.\n",
    "\n",
    "</div>"
   ]
  },
  {
   "cell_type": "markdown",
   "metadata": {},
   "source": [
    "## 4. Исследовательский анализ данных"
   ]
  },
  {
   "cell_type": "markdown",
   "metadata": {},
   "source": [
    "### 4.1. Изучим данные об общей площади (total_area)"
   ]
  },
  {
   "cell_type": "code",
   "execution_count": 68,
   "metadata": {},
   "outputs": [
    {
     "data": {
      "text/plain": [
       "(0.0, 350.0)"
      ]
     },
     "execution_count": 68,
     "metadata": {},
     "output_type": "execute_result"
    },
    {
     "data": {
      "image/png": "[encoded data removed]",
      "text/plain": [
       "<Figure size 432x288 with 1 Axes>"
      ]
     },
     "metadata": {
      "needs_background": "light"
     },
     "output_type": "display_data"
    }
   ],
   "source": [
    "df.hist('total_area', bins=40)\n",
    "plt.xlim(0, 350)"
   ]
  },
  {
   "cell_type": "code",
   "execution_count": 69,
   "metadata": {},
   "outputs": [
    {
     "data": {
      "text/plain": [
       "count    21705.000000\n",
       "mean        59.201079\n",
       "std         29.911496\n",
       "min         12.000000\n",
       "25%         40.000000\n",
       "50%         52.000000\n",
       "75%         69.100000\n",
       "max        300.000000\n",
       "Name: total_area, dtype: float64"
      ]
     },
     "execution_count": 69,
     "metadata": {},
     "output_type": "execute_result"
    }
   ],
   "source": [
    "df['total_area'].describe()"
   ]
  },
  {
   "cell_type": "markdown",
   "metadata": {},
   "source": [
    "Распределение смещенное вправо, имеет несколько пиков. Большинство квартир имеют площадь от 25 до 100 кв. метров. Характерный пик около 50 кв.м. Очень мало объектов с площадью менее 20 и более 150 кв.м."
   ]
  },
  {
   "cell_type": "markdown",
   "metadata": {},
   "source": [
    "### 4.2. Изучим данные о жилой площади (living_area)"
   ]
  },
  {
   "cell_type": "code",
   "execution_count": 70,
   "metadata": {},
   "outputs": [
    {
     "data": {
      "text/plain": [
       "(0.0, 200.0)"
      ]
     },
     "execution_count": 70,
     "metadata": {},
     "output_type": "execute_result"
    },
    {
     "data": {
      "image/png": "[encoded data removed]",
      "text/plain": [
       "<Figure size 432x288 with 1 Axes>"
      ]
     },
     "metadata": {
      "needs_background": "light"
     },
     "output_type": "display_data"
    }
   ],
   "source": [
    "df.hist('living_area', bins=40)\n",
    "plt.xlim(0, 200)"
   ]
  },
  {
   "cell_type": "code",
   "execution_count": 71,
   "metadata": {},
   "outputs": [
    {
     "data": {
      "text/plain": [
       "count    21705.000000\n",
       "mean        33.951668\n",
       "std         19.505753\n",
       "min          9.000000\n",
       "25%         18.600000\n",
       "50%         30.000000\n",
       "75%         42.200000\n",
       "max        250.000000\n",
       "Name: living_area, dtype: float64"
      ]
     },
     "execution_count": 71,
     "metadata": {},
     "output_type": "execute_result"
    }
   ],
   "source": [
    "df['living_area'].describe()"
   ]
  },
  {
   "cell_type": "markdown",
   "metadata": {},
   "source": [
    "Распределение, смещенное вправо. Распределение имеет несколько пиков. Самый высокий из них около 20 кв.м., второй пик примерно соответствует медианному значению в 30 кв.м. \n",
    "Мало квартир с жилой площадью более 75 кв.метров. В выборке большую часть занимают 1 и 2комнатные квартиры с жилой площадью от 15 до 50 кв.м."
   ]
  },
  {
   "cell_type": "markdown",
   "metadata": {},
   "source": [
    "### 4.3. Изучим данные о площади кухни (kitchen_area)"
   ]
  },
  {
   "cell_type": "code",
   "execution_count": 72,
   "metadata": {},
   "outputs": [
    {
     "data": {
      "text/plain": [
       "(0.0, 75.0)"
      ]
     },
     "execution_count": 72,
     "metadata": {},
     "output_type": "execute_result"
    },
    {
     "data": {
      "image/png": "[encoded data removed]",
      "text/plain": [
       "<Figure size 432x288 with 1 Axes>"
      ]
     },
     "metadata": {
      "needs_background": "light"
     },
     "output_type": "display_data"
    }
   ],
   "source": [
    "df.hist('kitchen_area', bins=50)\n",
    "plt.xlim(0, 75)"
   ]
  },
  {
   "cell_type": "code",
   "execution_count": 73,
   "metadata": {},
   "outputs": [
    {
     "data": {
      "text/plain": [
       "count    21705.000000\n",
       "mean        10.357120\n",
       "std          5.610438\n",
       "min          1.300000\n",
       "25%          7.000000\n",
       "50%          9.000000\n",
       "75%         11.900000\n",
       "max        107.000000\n",
       "Name: kitchen_area, dtype: float64"
      ]
     },
     "execution_count": 73,
     "metadata": {},
     "output_type": "execute_result"
    }
   ],
   "source": [
    "df['kitchen_area'].describe()"
   ]
  },
  {
   "cell_type": "markdown",
   "metadata": {},
   "source": [
    "Распределение величины является смещенным вправо. Среднее значение распределения площадей кухни по выборке близко к медианному и составляет 10.4 кв.м. \n",
    "Пик распределения приходится примерно на 9.5 кв.м. Мало квартир с площадью кухни менее 3 и более 30 кв.м."
   ]
  },
  {
   "cell_type": "markdown",
   "metadata": {},
   "source": [
    "### 4.4. Изучим данные о цене объекта (last_price)"
   ]
  },
  {
   "cell_type": "code",
   "execution_count": 74,
   "metadata": {},
   "outputs": [
    {
     "data": {
      "text/plain": [
       "(1000000.0, 40000000.0)"
      ]
     },
     "execution_count": 74,
     "metadata": {},
     "output_type": "execute_result"
    },
    {
     "data": {
      "image/png": "[encoded data removed]",
      "text/plain": [
       "<Figure size 432x288 with 1 Axes>"
      ]
     },
     "metadata": {
      "needs_background": "light"
     },
     "output_type": "display_data"
    }
   ],
   "source": [
    "df.hist('last_price', bins=300)\n",
    "plt.xlim(1000000, 40000000)"
   ]
  },
  {
   "cell_type": "code",
   "execution_count": 75,
   "metadata": {},
   "outputs": [
    {
     "data": {
      "text/plain": [
       "count    2.170500e+04\n",
       "mean     6.270530e+06\n",
       "std      7.696401e+06\n",
       "min      1.219000e+04\n",
       "25%      3.450000e+06\n",
       "50%      4.650000e+06\n",
       "75%      6.700000e+06\n",
       "max      3.300000e+08\n",
       "Name: last_price, dtype: float64"
      ]
     },
     "execution_count": 75,
     "metadata": {},
     "output_type": "execute_result"
    }
   ],
   "source": [
    "df['last_price'].describe()"
   ]
  },
  {
   "cell_type": "markdown",
   "metadata": {},
   "source": [
    "Распреление Пуассона (величина является дискретной). Стоимость большей части квартир выборки находится в диапазоне от 1,5 до 8 млн., \n",
    "самый высокий пик распределения находится на отметке около 4,5 млн. Распределение имеет ступенчатый вид, \n",
    "характеризуется резкими скачками цены объектов."
   ]
  },
  {
   "cell_type": "markdown",
   "metadata": {},
   "source": [
    "### 4.5. Изучим данные о количестве комнат (rooms)"
   ]
  },
  {
   "cell_type": "code",
   "execution_count": 76,
   "metadata": {
    "scrolled": true
   },
   "outputs": [
    {
     "data": {
      "text/plain": [
       "array([[<AxesSubplot:title={'center':'rooms'}>]], dtype=object)"
      ]
     },
     "execution_count": 76,
     "metadata": {},
     "output_type": "execute_result"
    },
    {
     "data": {
      "image/png": "[encoded data removed]",
      "text/plain": [
       "<Figure size 432x288 with 1 Axes>"
      ]
     },
     "metadata": {
      "needs_background": "light"
     },
     "output_type": "display_data"
    }
   ],
   "source": [
    "df.hist('rooms', bins=15)"
   ]
  },
  {
   "cell_type": "code",
   "execution_count": 77,
   "metadata": {},
   "outputs": [
    {
     "data": {
      "text/plain": [
       "count    21705.000000\n",
       "mean         2.061138\n",
       "std          1.014452\n",
       "min          0.000000\n",
       "25%          1.000000\n",
       "50%          2.000000\n",
       "75%          3.000000\n",
       "max          7.000000\n",
       "Name: rooms, dtype: float64"
      ]
     },
     "execution_count": 77,
     "metadata": {},
     "output_type": "execute_result"
    }
   ],
   "source": [
    "df['rooms'].describe()"
   ]
  },
  {
   "cell_type": "markdown",
   "metadata": {},
   "source": [
    "Распределение Пуассона. Большую часть выборки занимают 1, 2 и 3хкомнатные квартиры. Мало квартир с 5-7 комнатами \n",
    "и с 0 комнатами (квартиры свободной планировки, судя по их жилой площади это чаще всего \"переделанные\" 1комнатные квартиры )"
   ]
  },
  {
   "cell_type": "markdown",
   "metadata": {},
   "source": [
    "### 4.6. Изучим данные о высоте потолков (ceiling_height)"
   ]
  },
  {
   "cell_type": "code",
   "execution_count": 78,
   "metadata": {},
   "outputs": [
    {
     "data": {
      "text/plain": [
       "(1.0, 6.0)"
      ]
     },
     "execution_count": 78,
     "metadata": {},
     "output_type": "execute_result"
    },
    {
     "data": {
      "image/png": "[encoded data removed]",
      "text/plain": [
       "<Figure size 432x288 with 1 Axes>"
      ]
     },
     "metadata": {
      "needs_background": "light"
     },
     "output_type": "display_data"
    }
   ],
   "source": [
    "df.hist('ceiling_height', bins=20)\n",
    "plt.xlim(1,6)"
   ]
  },
  {
   "cell_type": "code",
   "execution_count": 79,
   "metadata": {},
   "outputs": [
    {
     "data": {
      "text/plain": [
       "count    21705.000000\n",
       "mean         2.696164\n",
       "std          0.218497\n",
       "min          2.000000\n",
       "25%          2.600000\n",
       "50%          2.650000\n",
       "75%          2.700000\n",
       "max          6.000000\n",
       "Name: ceiling_height, dtype: float64"
      ]
     },
     "execution_count": 79,
     "metadata": {},
     "output_type": "execute_result"
    }
   ],
   "source": [
    "df['ceiling_height'].describe()"
   ]
  },
  {
   "cell_type": "markdown",
   "metadata": {},
   "source": [
    "Распределение Пуассона. Средняя высота потолков близка к медианной и составляет 2,7 м. Есть несколько пиков на распределении: \n",
    "примерно на 2,5 м., затем самый высокий на 2.7 м и еще один значимый высокий пик чуть больше 3 метров. \n",
    "При этом очень мало объектов с высотой потолков ниже 2.5 и выше 4 метров."
   ]
  },
  {
   "cell_type": "markdown",
   "metadata": {},
   "source": [
    "### 4.7. Изучим данные об этаже (floor)"
   ]
  },
  {
   "cell_type": "code",
   "execution_count": 80,
   "metadata": {},
   "outputs": [
    {
     "data": {
      "text/plain": [
       "(1.0, 33.0)"
      ]
     },
     "execution_count": 80,
     "metadata": {},
     "output_type": "execute_result"
    },
    {
     "data": {
      "image/png": "[encoded data removed]",
      "text/plain": [
       "<Figure size 432x288 with 1 Axes>"
      ]
     },
     "metadata": {
      "needs_background": "light"
     },
     "output_type": "display_data"
    }
   ],
   "source": [
    "df.hist('floor', bins=10)\n",
    "plt.xlim(1,33)"
   ]
  },
  {
   "cell_type": "code",
   "execution_count": 81,
   "metadata": {},
   "outputs": [
    {
     "data": {
      "text/plain": [
       "count    21705.000000\n",
       "mean         5.890993\n",
       "std          4.868091\n",
       "min          1.000000\n",
       "25%          2.000000\n",
       "50%          4.000000\n",
       "75%          8.000000\n",
       "max         33.000000\n",
       "Name: floor, dtype: float64"
      ]
     },
     "execution_count": 81,
     "metadata": {},
     "output_type": "execute_result"
    }
   ],
   "source": [
    "df['floor'].describe()"
   ]
  },
  {
   "cell_type": "markdown",
   "metadata": {},
   "source": [
    "Рапределение Пуассона. Большая часть квартир располагается на этажах с 1 по 4ый, распределение имеет характерный \"ступенчатый\" вид: \n",
    "чем выше номер этажа, тем меньше квартир продается. Очень малая часть выборки имеет этаж выше 27."
   ]
  },
  {
   "cell_type": "markdown",
   "metadata": {},
   "source": [
    "### 4.8. Изучим данные о типе этажа (floor_type)"
   ]
  },
  {
   "cell_type": "code",
   "execution_count": 82,
   "metadata": {},
   "outputs": [
    {
     "data": {
      "text/plain": [
       "<AxesSubplot:>"
      ]
     },
     "execution_count": 82,
     "metadata": {},
     "output_type": "execute_result"
    },
    {
     "data": {
      "image/png": "[encoded data removed]",
      "text/plain": [
       "<Figure size 432x288 with 1 Axes>"
      ]
     },
     "metadata": {
      "needs_background": "light"
     },
     "output_type": "display_data"
    }
   ],
   "source": [
    "df['floor_type'].hist(bins=8)"
   ]
  },
  {
   "cell_type": "code",
   "execution_count": 83,
   "metadata": {},
   "outputs": [
    {
     "data": {
      "text/plain": [
       "другой           15945\n",
       "последний         3054\n",
       "первый            2654\n",
       "не определено       52\n",
       "Name: floor_type, dtype: int64"
      ]
     },
     "execution_count": 83,
     "metadata": {},
     "output_type": "execute_result"
    }
   ],
   "source": [
    "df['floor_type'].value_counts()"
   ]
  },
  {
   "cell_type": "markdown",
   "metadata": {},
   "source": [
    "Распределение Пуассона. Количество квартир, расположенных на первом и последнем этажах составляет большую часть выборки - 12% и 14% соответственно. \n",
    "Остальные квартиры расположены на других этажах \n",
    "(либо нельзя с уверенностью сказать, последний ли это этаж, так как в доме не указана этажность)"
   ]
  },
  {
   "cell_type": "markdown",
   "metadata": {},
   "source": [
    "### 4.9. Изучим данные об общем количестве этажей (floors_total)"
   ]
  },
  {
   "cell_type": "code",
   "execution_count": 84,
   "metadata": {},
   "outputs": [
    {
     "data": {
      "text/plain": [
       "(0.0, 40.0)"
      ]
     },
     "execution_count": 84,
     "metadata": {},
     "output_type": "execute_result"
    },
    {
     "data": {
      "image/png": "[encoded data removed]",
      "text/plain": [
       "<Figure size 432x288 with 1 Axes>"
      ]
     },
     "metadata": {
      "needs_background": "light"
     },
     "output_type": "display_data"
    }
   ],
   "source": [
    "df.hist('floors_total', bins=40)\n",
    "plt.xlim(0,40)"
   ]
  },
  {
   "cell_type": "code",
   "execution_count": 85,
   "metadata": {},
   "outputs": [
    {
     "data": {
      "text/plain": [
       "count    21705.000000\n",
       "mean        10.631237\n",
       "std          6.580901\n",
       "min          0.000000\n",
       "25%          5.000000\n",
       "50%          9.000000\n",
       "75%         16.000000\n",
       "max         60.000000\n",
       "Name: floors_total, dtype: float64"
      ]
     },
     "execution_count": 85,
     "metadata": {},
     "output_type": "execute_result"
    }
   ],
   "source": [
    "df['floors_total'].describe()"
   ]
  },
  {
   "cell_type": "markdown",
   "metadata": {},
   "source": [
    "Распределение Пуассона.Распределение имеет несколько пиков: больше всего 4-5этажных домов, чуть меньше 9-10этажек, \n",
    "также есть пик на 12этажках, на  16-17 этажах и последний значимый пик на 25этажных домах. \n",
    "Очень мало квартир располагаются в домах выше 30 этажей."
   ]
  },
  {
   "cell_type": "markdown",
   "metadata": {},
   "source": [
    "### 4.10. Изучим данные о расстоянии до центра города в метрах (cityCenters_nearest)"
   ]
  },
  {
   "cell_type": "code",
   "execution_count": 86,
   "metadata": {},
   "outputs": [
    {
     "data": {
      "text/plain": [
       "4892"
      ]
     },
     "execution_count": 86,
     "metadata": {},
     "output_type": "execute_result"
    }
   ],
   "source": [
    "df['cityCenters_nearest'].isna().sum()"
   ]
  },
  {
   "cell_type": "code",
   "execution_count": 87,
   "metadata": {},
   "outputs": [
    {
     "data": {
      "text/plain": [
       "44"
      ]
     },
     "execution_count": 87,
     "metadata": {},
     "output_type": "execute_result"
    }
   ],
   "source": [
    "df.loc[(df['locality_name']==\"Санкт-Петербург\"),'cityCenters_nearest'].isna().sum()"
   ]
  },
  {
   "cell_type": "code",
   "execution_count": 88,
   "metadata": {},
   "outputs": [
    {
     "data": {
      "text/plain": [
       "(0.0, 60000.0)"
      ]
     },
     "execution_count": 88,
     "metadata": {},
     "output_type": "execute_result"
    },
    {
     "data": {
      "image/png": "[encoded data removed]",
      "text/plain": [
       "<Figure size 432x288 with 1 Axes>"
      ]
     },
     "metadata": {
      "needs_background": "light"
     },
     "output_type": "display_data"
    }
   ],
   "source": [
    "df.hist('cityCenters_nearest', bins=40)\n",
    "plt.xlim(0,60000)"
   ]
  },
  {
   "cell_type": "code",
   "execution_count": 89,
   "metadata": {},
   "outputs": [
    {
     "data": {
      "text/plain": [
       "count    16813.000000\n",
       "mean     14263.594302\n",
       "std       8663.252677\n",
       "min        181.000000\n",
       "25%       9365.000000\n",
       "50%      13138.000000\n",
       "75%      16285.000000\n",
       "max      65968.000000\n",
       "Name: cityCenters_nearest, dtype: float64"
      ]
     },
     "execution_count": 89,
     "metadata": {},
     "output_type": "execute_result"
    }
   ],
   "source": [
    "df['cityCenters_nearest'].describe()"
   ]
  },
  {
   "cell_type": "markdown",
   "metadata": {},
   "source": [
    "Большая часть объектов находится на расстоянии от 5 до 20 км от центра города, пик распределения на 13-14 км. \n",
    "В выборке много пропусков, данные характеризуют по большей части объекты, которые находятся в городе Санкт-Петербург."
   ]
  },
  {
   "cell_type": "markdown",
   "metadata": {},
   "source": [
    "### 4.11. Изучим данные о расстоянии до ближайшего аэропорта в метрах (airports_nearest)"
   ]
  },
  {
   "cell_type": "code",
   "execution_count": 90,
   "metadata": {},
   "outputs": [
    {
     "data": {
      "text/plain": [
       "4911"
      ]
     },
     "execution_count": 90,
     "metadata": {},
     "output_type": "execute_result"
    }
   ],
   "source": [
    "df['airports_nearest'].isna().sum()"
   ]
  },
  {
   "cell_type": "code",
   "execution_count": 91,
   "metadata": {},
   "outputs": [
    {
     "data": {
      "text/plain": [
       "64"
      ]
     },
     "execution_count": 91,
     "metadata": {},
     "output_type": "execute_result"
    }
   ],
   "source": [
    "df.loc[(df['locality_name']==\"Санкт-Петербург\"),'airports_nearest'].isna().sum()"
   ]
  },
  {
   "cell_type": "code",
   "execution_count": 92,
   "metadata": {},
   "outputs": [
    {
     "data": {
      "text/plain": [
       "(0.0, 80000.0)"
      ]
     },
     "execution_count": 92,
     "metadata": {},
     "output_type": "execute_result"
    },
    {
     "data": {
      "image/png": "[encoded data removed]",
      "text/plain": [
       "<Figure size 432x288 with 1 Axes>"
      ]
     },
     "metadata": {
      "needs_background": "light"
     },
     "output_type": "display_data"
    }
   ],
   "source": [
    "df.hist('airports_nearest', bins=40)\n",
    "plt.xlim(0,80000)"
   ]
  },
  {
   "cell_type": "code",
   "execution_count": 93,
   "metadata": {},
   "outputs": [
    {
     "data": {
      "text/plain": [
       "count    16794.000000\n",
       "mean     28783.456353\n",
       "std      12667.489031\n",
       "min          0.000000\n",
       "25%      18522.000000\n",
       "50%      26710.000000\n",
       "75%      37271.750000\n",
       "max      84869.000000\n",
       "Name: airports_nearest, dtype: float64"
      ]
     },
     "execution_count": 93,
     "metadata": {},
     "output_type": "execute_result"
    }
   ],
   "source": [
    "df['airports_nearest'].describe()"
   ]
  },
  {
   "cell_type": "markdown",
   "metadata": {},
   "source": [
    "Распределение смещено вправо, имеет много пиков, данные по объектам очень варьируют, высокое стандартное отклонение. \n",
    "Большая часть объектов находится на расстоянии от 11 до 40 км от аэропорта, пик распределения на 26 км. \n",
    "В выборке много пропусков, данные характеризуют по большей части объекты, которые находятся в городе Санкт-Петербург."
   ]
  },
  {
   "cell_type": "markdown",
   "metadata": {},
   "source": [
    "### 4.12. Изучим данные о расстоянии до ближайшего парка в метрах (parks_nearest)"
   ]
  },
  {
   "cell_type": "code",
   "execution_count": 94,
   "metadata": {},
   "outputs": [
    {
     "data": {
      "text/plain": [
       "14264"
      ]
     },
     "execution_count": 94,
     "metadata": {},
     "output_type": "execute_result"
    }
   ],
   "source": [
    "df['parks_nearest'].isna().sum()"
   ]
  },
  {
   "cell_type": "code",
   "execution_count": 95,
   "metadata": {},
   "outputs": [
    {
     "data": {
      "text/plain": [
       "7807"
      ]
     },
     "execution_count": 95,
     "metadata": {},
     "output_type": "execute_result"
    }
   ],
   "source": [
    "df.loc[(df['locality_name']==\"Санкт-Петербург\"),'parks_nearest'].isna().sum()"
   ]
  },
  {
   "cell_type": "code",
   "execution_count": 96,
   "metadata": {},
   "outputs": [
    {
     "data": {
      "text/plain": [
       "(0.0, 3000.0)"
      ]
     },
     "execution_count": 96,
     "metadata": {},
     "output_type": "execute_result"
    },
    {
     "data": {
      "image/png": "[encoded data removed]",
      "text/plain": [
       "<Figure size 432x288 with 1 Axes>"
      ]
     },
     "metadata": {
      "needs_background": "light"
     },
     "output_type": "display_data"
    }
   ],
   "source": [
    "df.hist('parks_nearest', bins=40)\n",
    "plt.xlim(0,3000)"
   ]
  },
  {
   "cell_type": "code",
   "execution_count": 97,
   "metadata": {},
   "outputs": [
    {
     "data": {
      "text/plain": [
       "count    7441.000000\n",
       "mean      488.086682\n",
       "std       338.070104\n",
       "min         1.000000\n",
       "25%       287.000000\n",
       "50%       451.000000\n",
       "75%       610.000000\n",
       "max      3190.000000\n",
       "Name: parks_nearest, dtype: float64"
      ]
     },
     "execution_count": 97,
     "metadata": {},
     "output_type": "execute_result"
    }
   ],
   "source": [
    "df['parks_nearest'].describe()"
   ]
  },
  {
   "cell_type": "code",
   "execution_count": 98,
   "metadata": {},
   "outputs": [
    {
     "data": {
      "text/plain": [
       "0    441.0\n",
       "Name: parks_nearest, dtype: float64"
      ]
     },
     "execution_count": 98,
     "metadata": {},
     "output_type": "execute_result"
    }
   ],
   "source": [
    "df['parks_nearest'].mode()"
   ]
  },
  {
   "cell_type": "markdown",
   "metadata": {},
   "source": [
    "Распределение, смещенное вправо. Для более чем половины объектов данные о расстоянии до ближайшего парка отсутствуют \n",
    "(половина пропусков приходится на Спб, половина на пригороды).\n",
    "Для большинства оставшихся объектов ближайший парк находится на расстоянии 450-600 м.\n",
    "Мало квартир, для которых парк находится дальше 1.5 км."
   ]
  },
  {
   "cell_type": "markdown",
   "metadata": {},
   "source": [
    "### 4.13. Изучим данные о дне (weekday_exposition) и месяце публикации объявления (month_exposition)"
   ]
  },
  {
   "cell_type": "code",
   "execution_count": 99,
   "metadata": {},
   "outputs": [
    {
     "data": {
      "text/plain": [
       "(0.0, 6.0)"
      ]
     },
     "execution_count": 99,
     "metadata": {},
     "output_type": "execute_result"
    },
    {
     "data": {
      "image/png": "[encoded data removed]",
      "text/plain": [
       "<Figure size 432x288 with 1 Axes>"
      ]
     },
     "metadata": {
      "needs_background": "light"
     },
     "output_type": "display_data"
    }
   ],
   "source": [
    "df.hist('weekday_exposition', bins=20)\n",
    "plt.xlim(0,6)"
   ]
  },
  {
   "cell_type": "code",
   "execution_count": 100,
   "metadata": {},
   "outputs": [
    {
     "data": {
      "text/plain": [
       "0    3339\n",
       "1    3879\n",
       "2    3625\n",
       "3    3955\n",
       "4    3672\n",
       "5    1721\n",
       "6    1514\n",
       "Name: weekday_exposition, dtype: int64"
      ]
     },
     "execution_count": 100,
     "metadata": {},
     "output_type": "execute_result"
    }
   ],
   "source": [
    "df['weekday_exposition'].value_counts().sort_index()"
   ]
  },
  {
   "cell_type": "markdown",
   "metadata": {},
   "source": [
    "Распределение Пуассона. Почти с одинаковой частотой объявления публиковали по будним дням, и в 2.5 раза реже по выходным.\n",
    "Чаще всего объявления размещались в четверг."
   ]
  },
  {
   "cell_type": "code",
   "execution_count": 101,
   "metadata": {},
   "outputs": [
    {
     "data": {
      "text/plain": [
       "(1.0, 12.0)"
      ]
     },
     "execution_count": 101,
     "metadata": {},
     "output_type": "execute_result"
    },
    {
     "data": {
      "image/png": "[encoded data removed]",
      "text/plain": [
       "<Figure size 432x288 with 1 Axes>"
      ]
     },
     "metadata": {
      "needs_background": "light"
     },
     "output_type": "display_data"
    }
   ],
   "source": [
    "df.hist('month_exposition', bins=24)\n",
    "plt.xlim(1,12)"
   ]
  },
  {
   "cell_type": "code",
   "execution_count": 102,
   "metadata": {},
   "outputs": [
    {
     "data": {
      "text/plain": [
       "1     1319\n",
       "2     2365\n",
       "3     2352\n",
       "4     2210\n",
       "5     1193\n",
       "6     1611\n",
       "7     1536\n",
       "8     1607\n",
       "9     1880\n",
       "10    2015\n",
       "11    2249\n",
       "12    1368\n",
       "Name: month_exposition, dtype: int64"
      ]
     },
     "execution_count": 102,
     "metadata": {},
     "output_type": "execute_result"
    }
   ],
   "source": [
    "df['month_exposition'].value_counts().sort_index()"
   ]
  },
  {
   "cell_type": "markdown",
   "metadata": {},
   "source": [
    "Распределение Пуассона.\n",
    "Чаще всего объявления размещались с февраля по апрель и с сентября по ноябрь. \n",
    "Меньше публикаций в мае, в летние месяцы и в декабре, январе."
   ]
  },
  {
   "cell_type": "markdown",
   "metadata": {},
   "source": [
    "### 4.14. Изучим сколько дней были размещены объявления (от публикации до снятия)  - столбец days_exposition"
   ]
  },
  {
   "cell_type": "code",
   "execution_count": 103,
   "metadata": {},
   "outputs": [
    {
     "data": {
      "text/plain": [
       "2969"
      ]
     },
     "execution_count": 103,
     "metadata": {},
     "output_type": "execute_result"
    }
   ],
   "source": [
    "df['days_exposition'].isna().sum()"
   ]
  },
  {
   "cell_type": "code",
   "execution_count": 104,
   "metadata": {},
   "outputs": [
    {
     "data": {
      "text/plain": [
       "(0.0, 1000.0)"
      ]
     },
     "execution_count": 104,
     "metadata": {},
     "output_type": "execute_result"
    },
    {
     "data": {
      "image/png": "[encoded data removed]",
      "text/plain": [
       "<Figure size 432x288 with 1 Axes>"
      ]
     },
     "metadata": {
      "needs_background": "light"
     },
     "output_type": "display_data"
    }
   ],
   "source": [
    "df.hist('days_exposition', bins=30)\n",
    "plt.xlim(0,1000)"
   ]
  },
  {
   "cell_type": "code",
   "execution_count": 105,
   "metadata": {},
   "outputs": [
    {
     "data": {
      "text/plain": [
       "(0.0, 100.0)"
      ]
     },
     "execution_count": 105,
     "metadata": {},
     "output_type": "execute_result"
    },
    {
     "data": {
      "image/png": "[encoded data removed]",
      "text/plain": [
       "<Figure size 432x288 with 1 Axes>"
      ]
     },
     "metadata": {
      "needs_background": "light"
     },
     "output_type": "display_data"
    }
   ],
   "source": [
    "#Посмотрим на распределение величины на малых величинах\n",
    "df.hist('days_exposition', bins=100)\n",
    "plt.xlim(0,100)"
   ]
  },
  {
   "cell_type": "code",
   "execution_count": 106,
   "metadata": {},
   "outputs": [
    {
     "data": {
      "text/plain": [
       "<AxesSubplot:>"
      ]
     },
     "execution_count": 106,
     "metadata": {},
     "output_type": "execute_result"
    },
    {
     "data": {
      "image/png": "[encoded data removed]",
      "text/plain": [
       "<Figure size 432x864 with 1 Axes>"
      ]
     },
     "metadata": {
      "needs_background": "light"
     },
     "output_type": "display_data"
    }
   ],
   "source": [
    "df.boxplot('days_exposition', figsize=(6,12))"
   ]
  },
  {
   "cell_type": "code",
   "execution_count": 107,
   "metadata": {},
   "outputs": [
    {
     "data": {
      "text/plain": [
       "count    18736.000000\n",
       "mean       184.547075\n",
       "std        220.788850\n",
       "min          1.000000\n",
       "25%         44.000000\n",
       "50%        101.000000\n",
       "75%        238.000000\n",
       "max       1580.000000\n",
       "Name: days_exposition, dtype: float64"
      ]
     },
     "execution_count": 107,
     "metadata": {},
     "output_type": "execute_result"
    }
   ],
   "source": [
    "df['days_exposition'].describe()"
   ]
  },
  {
   "cell_type": "markdown",
   "metadata": {},
   "source": [
    "Распределение Пуассона.\n",
    "Судя по распределению быстрыми можно считать продажи в течение 44 дней,\n",
    "а все продажи дольше 430 дней можно считать необычно долгими.\n",
    "\n",
    "В среднем объявление было активно 184 дня (однако на среднее значение сильно влияют длительные продажи), \n",
    "в данном случае лучше выборку характеризует медиана - 101 день (или 3 месяца), половина квартир была продана за это время."
   ]
  },
  {
   "cell_type": "markdown",
   "metadata": {},
   "source": [
    "<div class=\"alert alert-info\">\n",
    "В ходе исследовательского анализа данных изучены переменные и выявлены следующие закономерности:\n",
    "    \n",
    "- большинство квартир имеют общую площадь в интервале 25-100 кв.м., при этом 48 кв.м. самая часто встречающаяся площадь.\n",
    "    \n",
    "- большую часть выборки занимают 1 и 2хкомнатные квартиры с жилой площадью до 50 кв.м.\n",
    "    \n",
    "- средняя площадь кухни около 10 кв.м., при этом объектов с кухней менее 3 кв.м. и более 30 кв.м. очень мало\n",
    "    \n",
    "- цены квартир сильно варьируют, большинство объектов стоят менее 8 млн.\n",
    "    \n",
    "- выборка содержит мало объектов с числом комнат от 5 до 7, в основном это 1-3комнатные квартиры.\n",
    "    \n",
    "- высота потолков чаще всего 2.5 - 2.7 м\n",
    "    \n",
    "- чаще всего квартиры расположены с 1 по 4 этаж, чуть реже с 5 по 10. \n",
    "    \n",
    "- на первом и последнем этажах расположены 12% и 14% квартир соответственно\n",
    "    \n",
    "- чаще всего продают квартиры в 4-5этажных домах, чуть меньше в -10этажках.\n",
    "    \n",
    "- большинство квартир к продаже в Санкт-Петербурге расположены на расстоянии 10-15 км от центра города\n",
    "    \n",
    "- удаленность объектов от аэропорта в Санкт-Петербурге чаще всего от 11 до 40 км\n",
    "    \n",
    "- для половины выборки можем оценить расстояние до ближайшего парка, обычно оно не более 600 м.\n",
    "    \n",
    "- объявления о продаже квартир в 2,5 чаще размещают по будним дням\n",
    "    \n",
    "- реже продают квартиры летом и в декабре-январе, пик подачи объявлений о продаже приходится на февраль и ноябрь\n",
    "    \n",
    "- продажи в  течение 44 дней со дня подачи объявления,можно считать быстрыми, а продажи более чем за 430 дней со дня подачи - аномально долгими\n",
    "\n",
    "</div>"
   ]
  },
  {
   "cell_type": "markdown",
   "metadata": {},
   "source": [
    "## 5. Какие факторы больше всего влияют на общую (полную) стоимость объекта"
   ]
  },
  {
   "cell_type": "markdown",
   "metadata": {},
   "source": [
    "Изучим зависимость цены квартиры от:\n",
    "\n",
    "        - общей площади;\n",
    "        - жилой площади;\n",
    "        - площади кухни;\n",
    "        - количество комнат;\n",
    "        - типа этажа, на котором расположена квартира (первый, последний, другой);\n",
    "        - даты размещения (день недели, месяц, год);"
   ]
  },
  {
   "cell_type": "code",
   "execution_count": 108,
   "metadata": {},
   "outputs": [
    {
     "name": "stdout",
     "output_type": "stream",
     "text": [
      "корреляция last price и total_area 0.6742252023248265\n",
      "корреляция last price и living_area 0.5860518651959901\n",
      "корреляция last price и kitchen_area 0.5204087591036116\n"
     ]
    },
    {
     "data": {
      "image/png": "[encoded data removed]",
      "text/plain": [
       "<Figure size 432x288 with 1 Axes>"
      ]
     },
     "metadata": {
      "needs_background": "light"
     },
     "output_type": "display_data"
    },
    {
     "data": {
      "image/png": "[encoded data removed]",
      "text/plain": [
       "<Figure size 432x288 with 1 Axes>"
      ]
     },
     "metadata": {
      "needs_background": "light"
     },
     "output_type": "display_data"
    },
    {
     "data": {
      "image/png": "[encoded data removed]",
      "text/plain": [
       "<Figure size 432x288 with 1 Axes>"
      ]
     },
     "metadata": {
      "needs_background": "light"
     },
     "output_type": "display_data"
    }
   ],
   "source": [
    "# подсчитаем корреляцию площадей квартиры и ее цены, построим диаграммы размаха\n",
    "list = ['total_area', 'living_area', 'kitchen_area']\n",
    "\n",
    "for elem in list:\n",
    "    df.plot(y='last_price', x=elem, kind='scatter', alpha=0.7) \n",
    "    co = df['last_price'].corr(df[elem])\n",
    "    print('корреляция last price и',elem, co)\n",
    "   "
   ]
  },
  {
   "cell_type": "markdown",
   "metadata": {},
   "source": [
    "Коэффициенты корреляции говорят о наличии средней положительной взаимозависимости величин. \n",
    "Наибольшая взаимосвязь цены квартиры и ее общей площади, \n",
    "в меньшей степени наблюдаем взаимосвязь цены и жилой площади, цены и площади кухни.\n",
    "\n",
    "Судя по диаграммам рассеяния для больших величин площадей разброс цены гораздо больше, чем для малых и средних.\n",
    "вероятно, цена больших по площади квартир (более 200 кв.м. общей площади, более 150 кв.м. жилой площади) \n",
    "зависит от не только напрямую от площадей, для них усиливается влияние ряда других факторов."
   ]
  },
  {
   "cell_type": "code",
   "execution_count": 109,
   "metadata": {},
   "outputs": [
    {
     "name": "stdout",
     "output_type": "stream",
     "text": [
      "корреляция last price и rooms 0.3917926344091006\n",
      "Невозможно подсчитать\n",
      "корреляция last price и weekday_exposition -0.009102879243193035\n",
      "корреляция last price и month_exposition -0.00430487632345991\n",
      "корреляция last price и year_exposition -0.04308645168223398\n"
     ]
    }
   ],
   "source": [
    "#рассчитаем коррелияцию количества комнат, типа этажа, дня, месяца и года подачи объявления\n",
    "list2 = ['rooms', 'floor_type', 'weekday_exposition', 'month_exposition', 'year_exposition']\n",
    "\n",
    "for elem2 in list2:\n",
    "    try:\n",
    "        co = df['last_price'].corr(df[elem2])\n",
    "        print('корреляция last price и',elem2, co)\n",
    "    except:\n",
    "        print('Невозможно подсчитать')   "
   ]
  },
  {
   "cell_type": "markdown",
   "metadata": {},
   "source": [
    "Наблюдается слабая корреляция между ценой квартиры и числом комнат. \n",
    "Между временными данными и ценой квартиры практически нет взаимосвязи."
   ]
  },
  {
   "cell_type": "code",
   "execution_count": 110,
   "metadata": {},
   "outputs": [
    {
     "data": {
      "text/html": [
       "<div>\n",
       "<style scoped>\n",
       "    .dataframe tbody tr th:only-of-type {\n",
       "        vertical-align: middle;\n",
       "    }\n",
       "\n",
       "    .dataframe tbody tr th {\n",
       "        vertical-align: top;\n",
       "    }\n",
       "\n",
       "    .dataframe thead th {\n",
       "        text-align: right;\n",
       "    }\n",
       "</style>\n",
       "<table border=\"1\" class=\"dataframe\">\n",
       "  <thead>\n",
       "    <tr style=\"text-align: right;\">\n",
       "      <th></th>\n",
       "      <th>last_price</th>\n",
       "    </tr>\n",
       "    <tr>\n",
       "      <th>rooms</th>\n",
       "      <th></th>\n",
       "    </tr>\n",
       "  </thead>\n",
       "  <tbody>\n",
       "    <tr>\n",
       "      <th>0</th>\n",
       "      <td>2600000</td>\n",
       "    </tr>\n",
       "    <tr>\n",
       "      <th>1</th>\n",
       "      <td>3590000</td>\n",
       "    </tr>\n",
       "    <tr>\n",
       "      <th>2</th>\n",
       "      <td>4800000</td>\n",
       "    </tr>\n",
       "    <tr>\n",
       "      <th>3</th>\n",
       "      <td>6200000</td>\n",
       "    </tr>\n",
       "    <tr>\n",
       "      <th>4</th>\n",
       "      <td>9000000</td>\n",
       "    </tr>\n",
       "    <tr>\n",
       "      <th>5</th>\n",
       "      <td>13800000</td>\n",
       "    </tr>\n",
       "    <tr>\n",
       "      <th>6</th>\n",
       "      <td>17900000</td>\n",
       "    </tr>\n",
       "    <tr>\n",
       "      <th>7</th>\n",
       "      <td>22160000</td>\n",
       "    </tr>\n",
       "  </tbody>\n",
       "</table>\n",
       "</div>"
      ],
      "text/plain": [
       "       last_price\n",
       "rooms            \n",
       "0         2600000\n",
       "1         3590000\n",
       "2         4800000\n",
       "3         6200000\n",
       "4         9000000\n",
       "5        13800000\n",
       "6        17900000\n",
       "7        22160000"
      ]
     },
     "execution_count": 110,
     "metadata": {},
     "output_type": "execute_result"
    }
   ],
   "source": [
    "#построим сводные таблицы для каждого фактора, исследуя медианные значения групп\n",
    "# визуализируем данные при помощи столбчатых диаграмм\n",
    "pivot_rooms = df.pivot_table(index ='rooms', values='last_price', aggfunc ='median')\n",
    "pivot_rooms"
   ]
  },
  {
   "cell_type": "code",
   "execution_count": 111,
   "metadata": {},
   "outputs": [
    {
     "data": {
      "text/plain": [
       "<AxesSubplot:xlabel='rooms'>"
      ]
     },
     "execution_count": 111,
     "metadata": {},
     "output_type": "execute_result"
    },
    {
     "data": {
      "image/png": "[encoded data removed]",
      "text/plain": [
       "<Figure size 432x288 with 1 Axes>"
      ]
     },
     "metadata": {
      "needs_background": "light"
     },
     "output_type": "display_data"
    }
   ],
   "source": [
    "pivot_rooms.plot(y='last_price', kind='bar')"
   ]
  },
  {
   "cell_type": "markdown",
   "metadata": {},
   "source": [
    "На графике для медианных значений цены по квартирам с различным числом комнат видна зависимость:\n",
    "рост числа комнат сопровождается ростом цены объекта. Корреляция же показывает слабую положительную взаимосвязь. \n",
    "Вероятно, сказывается также влияние других факторов (например, площади комнат, тип планировки и т.д.)"
   ]
  },
  {
   "cell_type": "code",
   "execution_count": 112,
   "metadata": {},
   "outputs": [
    {
     "data": {
      "text/html": [
       "<div>\n",
       "<style scoped>\n",
       "    .dataframe tbody tr th:only-of-type {\n",
       "        vertical-align: middle;\n",
       "    }\n",
       "\n",
       "    .dataframe tbody tr th {\n",
       "        vertical-align: top;\n",
       "    }\n",
       "\n",
       "    .dataframe thead th {\n",
       "        text-align: right;\n",
       "    }\n",
       "</style>\n",
       "<table border=\"1\" class=\"dataframe\">\n",
       "  <thead>\n",
       "    <tr style=\"text-align: right;\">\n",
       "      <th></th>\n",
       "      <th>last_price</th>\n",
       "    </tr>\n",
       "    <tr>\n",
       "      <th>floor_type</th>\n",
       "      <th></th>\n",
       "    </tr>\n",
       "  </thead>\n",
       "  <tbody>\n",
       "    <tr>\n",
       "      <th>другой</th>\n",
       "      <td>4838050</td>\n",
       "    </tr>\n",
       "    <tr>\n",
       "      <th>не определено</th>\n",
       "      <td>5315235</td>\n",
       "    </tr>\n",
       "    <tr>\n",
       "      <th>первый</th>\n",
       "      <td>3920000</td>\n",
       "    </tr>\n",
       "    <tr>\n",
       "      <th>последний</th>\n",
       "      <td>4300000</td>\n",
       "    </tr>\n",
       "  </tbody>\n",
       "</table>\n",
       "</div>"
      ],
      "text/plain": [
       "               last_price\n",
       "floor_type               \n",
       "другой            4838050\n",
       "не определено     5315235\n",
       "первый            3920000\n",
       "последний         4300000"
      ]
     },
     "execution_count": 112,
     "metadata": {},
     "output_type": "execute_result"
    }
   ],
   "source": [
    "pivot_floor_type = df.pivot_table(index ='floor_type', values='last_price', aggfunc ='median')\n",
    "pivot_floor_type"
   ]
  },
  {
   "cell_type": "code",
   "execution_count": 113,
   "metadata": {},
   "outputs": [
    {
     "data": {
      "text/plain": [
       "<AxesSubplot:ylabel='floor_type'>"
      ]
     },
     "execution_count": 113,
     "metadata": {},
     "output_type": "execute_result"
    },
    {
     "data": {
      "image/png": "[encoded data removed]",
      "text/plain": [
       "<Figure size 432x288 with 1 Axes>"
      ]
     },
     "metadata": {
      "needs_background": "light"
     },
     "output_type": "display_data"
    }
   ],
   "source": [
    "pivot_floor_type.plot(y='last_price', kind='barh')"
   ]
  },
  {
   "cell_type": "markdown",
   "metadata": {},
   "source": [
    "Квартиры на первом и последнем этаже обычно стоили дешевле остальных квартир. \n",
    "\n",
    "Квартиры, для которых не указан этаж (тип \"не определено\", \n",
    "это не первый этаж, но нельзя с уверенностью сказать, что не последний) были дороже остальных, \n",
    "однако выборка данных для них мала, результат можно не учитывать.\n",
    "\n",
    "Дороже остальных были квартиры с типом этажа \"другой\" (не первый и не последний)."
   ]
  },
  {
   "cell_type": "code",
   "execution_count": 114,
   "metadata": {},
   "outputs": [
    {
     "data": {
      "text/html": [
       "<div>\n",
       "<style scoped>\n",
       "    .dataframe tbody tr th:only-of-type {\n",
       "        vertical-align: middle;\n",
       "    }\n",
       "\n",
       "    .dataframe tbody tr th {\n",
       "        vertical-align: top;\n",
       "    }\n",
       "\n",
       "    .dataframe thead th {\n",
       "        text-align: right;\n",
       "    }\n",
       "</style>\n",
       "<table border=\"1\" class=\"dataframe\">\n",
       "  <thead>\n",
       "    <tr style=\"text-align: right;\">\n",
       "      <th></th>\n",
       "      <th>last_price</th>\n",
       "    </tr>\n",
       "    <tr>\n",
       "      <th>weekday_exposition</th>\n",
       "      <th></th>\n",
       "    </tr>\n",
       "  </thead>\n",
       "  <tbody>\n",
       "    <tr>\n",
       "      <th>0</th>\n",
       "      <td>4650000</td>\n",
       "    </tr>\n",
       "    <tr>\n",
       "      <th>1</th>\n",
       "      <td>4700000</td>\n",
       "    </tr>\n",
       "    <tr>\n",
       "      <th>2</th>\n",
       "      <td>4700000</td>\n",
       "    </tr>\n",
       "    <tr>\n",
       "      <th>3</th>\n",
       "      <td>4650000</td>\n",
       "    </tr>\n",
       "    <tr>\n",
       "      <th>4</th>\n",
       "      <td>4577500</td>\n",
       "    </tr>\n",
       "    <tr>\n",
       "      <th>5</th>\n",
       "      <td>4550000</td>\n",
       "    </tr>\n",
       "    <tr>\n",
       "      <th>6</th>\n",
       "      <td>4550000</td>\n",
       "    </tr>\n",
       "  </tbody>\n",
       "</table>\n",
       "</div>"
      ],
      "text/plain": [
       "                    last_price\n",
       "weekday_exposition            \n",
       "0                      4650000\n",
       "1                      4700000\n",
       "2                      4700000\n",
       "3                      4650000\n",
       "4                      4577500\n",
       "5                      4550000\n",
       "6                      4550000"
      ]
     },
     "execution_count": 114,
     "metadata": {},
     "output_type": "execute_result"
    }
   ],
   "source": [
    "pivot_weekday_exposition = df.pivot_table(index ='weekday_exposition', values='last_price', aggfunc ='median')\n",
    "pivot_weekday_exposition"
   ]
  },
  {
   "cell_type": "code",
   "execution_count": 115,
   "metadata": {},
   "outputs": [
    {
     "data": {
      "text/plain": [
       "<AxesSubplot:xlabel='weekday_exposition'>"
      ]
     },
     "execution_count": 115,
     "metadata": {},
     "output_type": "execute_result"
    },
    {
     "data": {
      "image/png": "[encoded data removed]",
      "text/plain": [
       "<Figure size 432x288 with 1 Axes>"
      ]
     },
     "metadata": {
      "needs_background": "light"
     },
     "output_type": "display_data"
    }
   ],
   "source": [
    "pivot_weekday_exposition.plot(y='last_price', kind='bar', grid=True)"
   ]
  },
  {
   "cell_type": "markdown",
   "metadata": {},
   "source": [
    "Взаимосвязи между ценой объекта и днем недели, когда было размещено объявление не обнаружено. "
   ]
  },
  {
   "cell_type": "code",
   "execution_count": 116,
   "metadata": {},
   "outputs": [
    {
     "data": {
      "text/html": [
       "<div>\n",
       "<style scoped>\n",
       "    .dataframe tbody tr th:only-of-type {\n",
       "        vertical-align: middle;\n",
       "    }\n",
       "\n",
       "    .dataframe tbody tr th {\n",
       "        vertical-align: top;\n",
       "    }\n",
       "\n",
       "    .dataframe thead th {\n",
       "        text-align: right;\n",
       "    }\n",
       "</style>\n",
       "<table border=\"1\" class=\"dataframe\">\n",
       "  <thead>\n",
       "    <tr style=\"text-align: right;\">\n",
       "      <th></th>\n",
       "      <th>last_price</th>\n",
       "    </tr>\n",
       "    <tr>\n",
       "      <th>month_exposition</th>\n",
       "      <th></th>\n",
       "    </tr>\n",
       "  </thead>\n",
       "  <tbody>\n",
       "    <tr>\n",
       "      <th>1</th>\n",
       "      <td>4650000</td>\n",
       "    </tr>\n",
       "    <tr>\n",
       "      <th>2</th>\n",
       "      <td>4670000</td>\n",
       "    </tr>\n",
       "    <tr>\n",
       "      <th>3</th>\n",
       "      <td>4690000</td>\n",
       "    </tr>\n",
       "    <tr>\n",
       "      <th>4</th>\n",
       "      <td>4800000</td>\n",
       "    </tr>\n",
       "    <tr>\n",
       "      <th>5</th>\n",
       "      <td>4500000</td>\n",
       "    </tr>\n",
       "    <tr>\n",
       "      <th>6</th>\n",
       "      <td>4400000</td>\n",
       "    </tr>\n",
       "    <tr>\n",
       "      <th>7</th>\n",
       "      <td>4600000</td>\n",
       "    </tr>\n",
       "    <tr>\n",
       "      <th>8</th>\n",
       "      <td>4550000</td>\n",
       "    </tr>\n",
       "    <tr>\n",
       "      <th>9</th>\n",
       "      <td>4690000</td>\n",
       "    </tr>\n",
       "    <tr>\n",
       "      <th>10</th>\n",
       "      <td>4530000</td>\n",
       "    </tr>\n",
       "    <tr>\n",
       "      <th>11</th>\n",
       "      <td>4680000</td>\n",
       "    </tr>\n",
       "    <tr>\n",
       "      <th>12</th>\n",
       "      <td>4800000</td>\n",
       "    </tr>\n",
       "  </tbody>\n",
       "</table>\n",
       "</div>"
      ],
      "text/plain": [
       "                  last_price\n",
       "month_exposition            \n",
       "1                    4650000\n",
       "2                    4670000\n",
       "3                    4690000\n",
       "4                    4800000\n",
       "5                    4500000\n",
       "6                    4400000\n",
       "7                    4600000\n",
       "8                    4550000\n",
       "9                    4690000\n",
       "10                   4530000\n",
       "11                   4680000\n",
       "12                   4800000"
      ]
     },
     "execution_count": 116,
     "metadata": {},
     "output_type": "execute_result"
    }
   ],
   "source": [
    "pivot_month_exposition = df.pivot_table(index ='month_exposition', values='last_price', aggfunc ='median')\n",
    "pivot_month_exposition"
   ]
  },
  {
   "cell_type": "code",
   "execution_count": 117,
   "metadata": {},
   "outputs": [
    {
     "data": {
      "text/plain": [
       "<AxesSubplot:xlabel='month_exposition'>"
      ]
     },
     "execution_count": 117,
     "metadata": {},
     "output_type": "execute_result"
    },
    {
     "data": {
      "image/png": "[encoded data removed]",
      "text/plain": [
       "<Figure size 432x288 with 1 Axes>"
      ]
     },
     "metadata": {
      "needs_background": "light"
     },
     "output_type": "display_data"
    }
   ],
   "source": [
    "pivot_month_exposition.plot(y='last_price', kind='bar', grid=True)"
   ]
  },
  {
   "cell_type": "markdown",
   "metadata": {},
   "source": [
    "Взаимосвязи между ценой объекта и месяцем, когда было размещено объявление, не обнаружено. \n",
    "Есть небольшая просадка по цене в мае и в летние месяцы."
   ]
  },
  {
   "cell_type": "code",
   "execution_count": 118,
   "metadata": {},
   "outputs": [
    {
     "data": {
      "text/html": [
       "<div>\n",
       "<style scoped>\n",
       "    .dataframe tbody tr th:only-of-type {\n",
       "        vertical-align: middle;\n",
       "    }\n",
       "\n",
       "    .dataframe tbody tr th {\n",
       "        vertical-align: top;\n",
       "    }\n",
       "\n",
       "    .dataframe thead th {\n",
       "        text-align: right;\n",
       "    }\n",
       "</style>\n",
       "<table border=\"1\" class=\"dataframe\">\n",
       "  <thead>\n",
       "    <tr style=\"text-align: right;\">\n",
       "      <th></th>\n",
       "      <th>last_price</th>\n",
       "    </tr>\n",
       "    <tr>\n",
       "      <th>year_exposition</th>\n",
       "      <th></th>\n",
       "    </tr>\n",
       "  </thead>\n",
       "  <tbody>\n",
       "    <tr>\n",
       "      <th>2014</th>\n",
       "      <td>7540000</td>\n",
       "    </tr>\n",
       "    <tr>\n",
       "      <th>2015</th>\n",
       "      <td>5285000</td>\n",
       "    </tr>\n",
       "    <tr>\n",
       "      <th>2016</th>\n",
       "      <td>4500000</td>\n",
       "    </tr>\n",
       "    <tr>\n",
       "      <th>2017</th>\n",
       "      <td>4500000</td>\n",
       "    </tr>\n",
       "    <tr>\n",
       "      <th>2018</th>\n",
       "      <td>4600000</td>\n",
       "    </tr>\n",
       "    <tr>\n",
       "      <th>2019</th>\n",
       "      <td>5042500</td>\n",
       "    </tr>\n",
       "  </tbody>\n",
       "</table>\n",
       "</div>"
      ],
      "text/plain": [
       "                 last_price\n",
       "year_exposition            \n",
       "2014                7540000\n",
       "2015                5285000\n",
       "2016                4500000\n",
       "2017                4500000\n",
       "2018                4600000\n",
       "2019                5042500"
      ]
     },
     "execution_count": 118,
     "metadata": {},
     "output_type": "execute_result"
    }
   ],
   "source": [
    "pivot_year_exposition = df.pivot_table(index ='year_exposition', values='last_price', aggfunc ='median')\n",
    "pivot_year_exposition"
   ]
  },
  {
   "cell_type": "code",
   "execution_count": 119,
   "metadata": {},
   "outputs": [
    {
     "data": {
      "text/plain": [
       "<AxesSubplot:xlabel='year_exposition'>"
      ]
     },
     "execution_count": 119,
     "metadata": {},
     "output_type": "execute_result"
    },
    {
     "data": {
      "image/png": "[encoded data removed]",
      "text/plain": [
       "<Figure size 864x288 with 1 Axes>"
      ]
     },
     "metadata": {
      "needs_background": "light"
     },
     "output_type": "display_data"
    }
   ],
   "source": [
    "pivot_year_exposition.plot(y='last_price', kind='bar', figsize=(12,4))"
   ]
  },
  {
   "cell_type": "markdown",
   "metadata": {},
   "source": [
    "проверим, с чем связан пик цены в 2014 году. Сгруппируем данные по количеству комнат дополнительно."
   ]
  },
  {
   "cell_type": "code",
   "execution_count": 120,
   "metadata": {},
   "outputs": [
    {
     "data": {
      "text/html": [
       "<div>\n",
       "<style scoped>\n",
       "    .dataframe tbody tr th:only-of-type {\n",
       "        vertical-align: middle;\n",
       "    }\n",
       "\n",
       "    .dataframe tbody tr th {\n",
       "        vertical-align: top;\n",
       "    }\n",
       "\n",
       "    .dataframe thead th {\n",
       "        text-align: right;\n",
       "    }\n",
       "</style>\n",
       "<table border=\"1\" class=\"dataframe\">\n",
       "  <thead>\n",
       "    <tr style=\"text-align: right;\">\n",
       "      <th></th>\n",
       "      <th></th>\n",
       "      <th>last_price</th>\n",
       "    </tr>\n",
       "    <tr>\n",
       "      <th>year_exposition</th>\n",
       "      <th>rooms</th>\n",
       "      <th></th>\n",
       "    </tr>\n",
       "  </thead>\n",
       "  <tbody>\n",
       "    <tr>\n",
       "      <th rowspan=\"6\" valign=\"top\">2014</th>\n",
       "      <th>1</th>\n",
       "      <td>4410825</td>\n",
       "    </tr>\n",
       "    <tr>\n",
       "      <th>2</th>\n",
       "      <td>7100000</td>\n",
       "    </tr>\n",
       "    <tr>\n",
       "      <th>3</th>\n",
       "      <td>9890000</td>\n",
       "    </tr>\n",
       "    <tr>\n",
       "      <th>4</th>\n",
       "      <td>17000000</td>\n",
       "    </tr>\n",
       "    <tr>\n",
       "      <th>5</th>\n",
       "      <td>17875000</td>\n",
       "    </tr>\n",
       "    <tr>\n",
       "      <th>6</th>\n",
       "      <td>79339000</td>\n",
       "    </tr>\n",
       "    <tr>\n",
       "      <th rowspan=\"7\" valign=\"top\">2015</th>\n",
       "      <th>1</th>\n",
       "      <td>3600000</td>\n",
       "    </tr>\n",
       "    <tr>\n",
       "      <th>2</th>\n",
       "      <td>4980000</td>\n",
       "    </tr>\n",
       "    <tr>\n",
       "      <th>3</th>\n",
       "      <td>6300000</td>\n",
       "    </tr>\n",
       "    <tr>\n",
       "      <th>4</th>\n",
       "      <td>10150000</td>\n",
       "    </tr>\n",
       "    <tr>\n",
       "      <th>5</th>\n",
       "      <td>15000000</td>\n",
       "    </tr>\n",
       "    <tr>\n",
       "      <th>6</th>\n",
       "      <td>19000000</td>\n",
       "    </tr>\n",
       "    <tr>\n",
       "      <th>7</th>\n",
       "      <td>24900000</td>\n",
       "    </tr>\n",
       "    <tr>\n",
       "      <th rowspan=\"8\" valign=\"top\">2016</th>\n",
       "      <th>0</th>\n",
       "      <td>2200000</td>\n",
       "    </tr>\n",
       "    <tr>\n",
       "      <th>1</th>\n",
       "      <td>3500000</td>\n",
       "    </tr>\n",
       "    <tr>\n",
       "      <th>2</th>\n",
       "      <td>4490000</td>\n",
       "    </tr>\n",
       "    <tr>\n",
       "      <th>3</th>\n",
       "      <td>5950000</td>\n",
       "    </tr>\n",
       "    <tr>\n",
       "      <th>4</th>\n",
       "      <td>9700000</td>\n",
       "    </tr>\n",
       "    <tr>\n",
       "      <th>5</th>\n",
       "      <td>10850000</td>\n",
       "    </tr>\n",
       "    <tr>\n",
       "      <th>6</th>\n",
       "      <td>12500000</td>\n",
       "    </tr>\n",
       "    <tr>\n",
       "      <th>7</th>\n",
       "      <td>25000000</td>\n",
       "    </tr>\n",
       "    <tr>\n",
       "      <th rowspan=\"8\" valign=\"top\">2017</th>\n",
       "      <th>0</th>\n",
       "      <td>2575000</td>\n",
       "    </tr>\n",
       "    <tr>\n",
       "      <th>1</th>\n",
       "      <td>3500000</td>\n",
       "    </tr>\n",
       "    <tr>\n",
       "      <th>2</th>\n",
       "      <td>4600000</td>\n",
       "    </tr>\n",
       "    <tr>\n",
       "      <th>3</th>\n",
       "      <td>6200000</td>\n",
       "    </tr>\n",
       "    <tr>\n",
       "      <th>4</th>\n",
       "      <td>9000000</td>\n",
       "    </tr>\n",
       "    <tr>\n",
       "      <th>5</th>\n",
       "      <td>12800000</td>\n",
       "    </tr>\n",
       "    <tr>\n",
       "      <th>6</th>\n",
       "      <td>16825000</td>\n",
       "    </tr>\n",
       "    <tr>\n",
       "      <th>7</th>\n",
       "      <td>18750000</td>\n",
       "    </tr>\n",
       "    <tr>\n",
       "      <th rowspan=\"8\" valign=\"top\">2018</th>\n",
       "      <th>0</th>\n",
       "      <td>2990000</td>\n",
       "    </tr>\n",
       "    <tr>\n",
       "      <th>1</th>\n",
       "      <td>3599000</td>\n",
       "    </tr>\n",
       "    <tr>\n",
       "      <th>2</th>\n",
       "      <td>4850000</td>\n",
       "    </tr>\n",
       "    <tr>\n",
       "      <th>3</th>\n",
       "      <td>6065000</td>\n",
       "    </tr>\n",
       "    <tr>\n",
       "      <th>4</th>\n",
       "      <td>8400000</td>\n",
       "    </tr>\n",
       "    <tr>\n",
       "      <th>5</th>\n",
       "      <td>13650000</td>\n",
       "    </tr>\n",
       "    <tr>\n",
       "      <th>6</th>\n",
       "      <td>18250000</td>\n",
       "    </tr>\n",
       "    <tr>\n",
       "      <th>7</th>\n",
       "      <td>26000000</td>\n",
       "    </tr>\n",
       "    <tr>\n",
       "      <th rowspan=\"7\" valign=\"top\">2019</th>\n",
       "      <th>1</th>\n",
       "      <td>3895000</td>\n",
       "    </tr>\n",
       "    <tr>\n",
       "      <th>2</th>\n",
       "      <td>5200000</td>\n",
       "    </tr>\n",
       "    <tr>\n",
       "      <th>3</th>\n",
       "      <td>6500000</td>\n",
       "    </tr>\n",
       "    <tr>\n",
       "      <th>4</th>\n",
       "      <td>9000000</td>\n",
       "    </tr>\n",
       "    <tr>\n",
       "      <th>5</th>\n",
       "      <td>15000000</td>\n",
       "    </tr>\n",
       "    <tr>\n",
       "      <th>6</th>\n",
       "      <td>18450000</td>\n",
       "    </tr>\n",
       "    <tr>\n",
       "      <th>7</th>\n",
       "      <td>17025000</td>\n",
       "    </tr>\n",
       "  </tbody>\n",
       "</table>\n",
       "</div>"
      ],
      "text/plain": [
       "                       last_price\n",
       "year_exposition rooms            \n",
       "2014            1         4410825\n",
       "                2         7100000\n",
       "                3         9890000\n",
       "                4        17000000\n",
       "                5        17875000\n",
       "                6        79339000\n",
       "2015            1         3600000\n",
       "                2         4980000\n",
       "                3         6300000\n",
       "                4        10150000\n",
       "                5        15000000\n",
       "                6        19000000\n",
       "                7        24900000\n",
       "2016            0         2200000\n",
       "                1         3500000\n",
       "                2         4490000\n",
       "                3         5950000\n",
       "                4         9700000\n",
       "                5        10850000\n",
       "                6        12500000\n",
       "                7        25000000\n",
       "2017            0         2575000\n",
       "                1         3500000\n",
       "                2         4600000\n",
       "                3         6200000\n",
       "                4         9000000\n",
       "                5        12800000\n",
       "                6        16825000\n",
       "                7        18750000\n",
       "2018            0         2990000\n",
       "                1         3599000\n",
       "                2         4850000\n",
       "                3         6065000\n",
       "                4         8400000\n",
       "                5        13650000\n",
       "                6        18250000\n",
       "                7        26000000\n",
       "2019            1         3895000\n",
       "                2         5200000\n",
       "                3         6500000\n",
       "                4         9000000\n",
       "                5        15000000\n",
       "                6        18450000\n",
       "                7        17025000"
      ]
     },
     "execution_count": 120,
     "metadata": {},
     "output_type": "execute_result"
    }
   ],
   "source": [
    "pivot_year_rooms_exposition = df.pivot_table(index =['year_exposition', 'rooms'], values='last_price', aggfunc ='median')\n",
    "pivot_year_rooms_exposition "
   ]
  },
  {
   "cell_type": "code",
   "execution_count": 121,
   "metadata": {},
   "outputs": [
    {
     "data": {
      "text/plain": [
       "<AxesSubplot:xlabel='year_exposition,rooms'>"
      ]
     },
     "execution_count": 121,
     "metadata": {},
     "output_type": "execute_result"
    },
    {
     "data": {
      "image/png": "[encoded data removed]",
      "text/plain": [
       "<Figure size 1080x288 with 1 Axes>"
      ]
     },
     "metadata": {
      "needs_background": "light"
     },
     "output_type": "display_data"
    }
   ],
   "source": [
    "pivot_year_rooms_exposition.plot(y='last_price', kind='bar', figsize=(15,4))"
   ]
  },
  {
   "cell_type": "code",
   "execution_count": 122,
   "metadata": {},
   "outputs": [
    {
     "data": {
      "text/html": [
       "<div>\n",
       "<style scoped>\n",
       "    .dataframe tbody tr th:only-of-type {\n",
       "        vertical-align: middle;\n",
       "    }\n",
       "\n",
       "    .dataframe tbody tr th {\n",
       "        vertical-align: top;\n",
       "    }\n",
       "\n",
       "    .dataframe thead th {\n",
       "        text-align: right;\n",
       "    }\n",
       "</style>\n",
       "<table border=\"1\" class=\"dataframe\">\n",
       "  <thead>\n",
       "    <tr style=\"text-align: right;\">\n",
       "      <th></th>\n",
       "      <th>total_images</th>\n",
       "      <th>last_price</th>\n",
       "      <th>total_area</th>\n",
       "      <th>first_day_exposition</th>\n",
       "      <th>rooms</th>\n",
       "      <th>ceiling_height</th>\n",
       "      <th>floors_total</th>\n",
       "      <th>living_area</th>\n",
       "      <th>floor</th>\n",
       "      <th>is_apartment</th>\n",
       "      <th>...</th>\n",
       "      <th>parks_nearest</th>\n",
       "      <th>ponds_around3000</th>\n",
       "      <th>ponds_nearest</th>\n",
       "      <th>days_exposition</th>\n",
       "      <th>sqm_price</th>\n",
       "      <th>weekday_exposition</th>\n",
       "      <th>month_exposition</th>\n",
       "      <th>year_exposition</th>\n",
       "      <th>city_сenter_km</th>\n",
       "      <th>floor_type</th>\n",
       "    </tr>\n",
       "  </thead>\n",
       "  <tbody>\n",
       "    <tr>\n",
       "      <th>10612</th>\n",
       "      <td>9</td>\n",
       "      <td>79339000</td>\n",
       "      <td>218.0</td>\n",
       "      <td>2014-12-11</td>\n",
       "      <td>6</td>\n",
       "      <td>2.65</td>\n",
       "      <td>6</td>\n",
       "      <td>123.27</td>\n",
       "      <td>6</td>\n",
       "      <td>False</td>\n",
       "      <td>...</td>\n",
       "      <td>NaN</td>\n",
       "      <td>1.0</td>\n",
       "      <td>323.0</td>\n",
       "      <td>760.0</td>\n",
       "      <td>363940.366972</td>\n",
       "      <td>3</td>\n",
       "      <td>12</td>\n",
       "      <td>2014</td>\n",
       "      <td>2.0</td>\n",
       "      <td>последний</td>\n",
       "    </tr>\n",
       "  </tbody>\n",
       "</table>\n",
       "<p>1 rows × 28 columns</p>\n",
       "</div>"
      ],
      "text/plain": [
       "       total_images  last_price  total_area first_day_exposition  rooms  \\\n",
       "10612             9    79339000       218.0           2014-12-11      6   \n",
       "\n",
       "       ceiling_height  floors_total  living_area  floor  is_apartment  ...  \\\n",
       "10612            2.65             6       123.27      6         False  ...   \n",
       "\n",
       "       parks_nearest  ponds_around3000  ponds_nearest  days_exposition  \\\n",
       "10612            NaN               1.0          323.0            760.0   \n",
       "\n",
       "           sqm_price  weekday_exposition  month_exposition  year_exposition  \\\n",
       "10612  363940.366972                   3                12             2014   \n",
       "\n",
       "       city_сenter_km  floor_type  \n",
       "10612             2.0   последний  \n",
       "\n",
       "[1 rows x 28 columns]"
      ]
     },
     "execution_count": 122,
     "metadata": {},
     "output_type": "execute_result"
    }
   ],
   "source": [
    "df.query('rooms==6 and year_exposition==2014')"
   ]
  },
  {
   "cell_type": "code",
   "execution_count": 123,
   "metadata": {},
   "outputs": [
    {
     "data": {
      "text/plain": [
       "<AxesSubplot:xlabel='year_exposition'>"
      ]
     },
     "execution_count": 123,
     "metadata": {},
     "output_type": "execute_result"
    },
    {
     "data": {
      "image/png": "[encoded data removed]",
      "text/plain": [
       "<Figure size 1080x288 with 1 Axes>"
      ]
     },
     "metadata": {
      "needs_background": "light"
     },
     "output_type": "display_data"
    }
   ],
   "source": [
    "#На данные 2014 года сильно повлияла одна квартира с 6 комнатами и высокой ценой. Построим график без учета.\n",
    "df1 = df.query('not(rooms==6 and year_exposition==2014)')\n",
    "df1.pivot_table(index =['year_exposition'], values='last_price', aggfunc ='median').plot(y='last_price', kind='bar', figsize=(15,4))"
   ]
  },
  {
   "cell_type": "markdown",
   "metadata": {},
   "source": [
    "Рынок \"просел\" по цене квартир сильнее всего в 2016-2018 годах, потом снова начал расти к уровню 2014-2015 годов.\n",
    "Связь цены объекта и года подачи объявления очень слабая, судя по коэфиициенту корреляции. Можно предположить, что большее влияние имеют другие факторы (например, внешние факторы, влиящие на стабильность рынка в целом, а также количество объектов недвижимости в продаже на рынке и т.д.)."
   ]
  },
  {
   "cell_type": "markdown",
   "metadata": {},
   "source": [
    "<div class=\"alert alert-info\">\n",
    "Изучена зависимость цены квартиры от ряда факторов. Выявлены следующие закономерности:\n",
    "    \n",
    "- есть средняя положительная корреляция между ценой объектов и общей, жилой площадью, площадью кухни\n",
    "    \n",
    "- для больших по площади квартир разброс цен гораздо больше, чем для остальных. Для данных объектов усиливается влияние других факторов, кроме площади\n",
    "    \n",
    "- наблюдается слабая положительная взаимосвязь между ценой квартиры и числом комнат\n",
    "    \n",
    "- между днем, месяцем, годом подачи объявления и ценой объекта корреляции практически нет\n",
    "    \n",
    "- незначительное снижение цен на квартиры можно наблюдать в мае-августе\n",
    "    \n",
    "- динамика рынка недвижимости по годам нестабильная, наблюдаем рост в 2014 году, падение в 2016-2018 г., рост в 2019 г., сказывается влияние внешних факторов\n",
    "    \n",
    "- квартиры на первом и последнем этажах стоили дешевле остальных, однако силу взаимосвязи величин оценить не предоставляется возможным\n",
    "\n",
    "</div>"
   ]
  },
  {
   "cell_type": "markdown",
   "metadata": {},
   "source": [
    "## 6. Расчет средней цены одного квадратного метра в 10 населённых пунктах с наибольшим числом объявлений. Населённые пункты с самой высокой и низкой стоимостью квадратного метра. "
   ]
  },
  {
   "cell_type": "code",
   "execution_count": 124,
   "metadata": {},
   "outputs": [
    {
     "data": {
      "text/html": [
       "<div>\n",
       "<style scoped>\n",
       "    .dataframe tbody tr th:only-of-type {\n",
       "        vertical-align: middle;\n",
       "    }\n",
       "\n",
       "    .dataframe tbody tr th {\n",
       "        vertical-align: top;\n",
       "    }\n",
       "\n",
       "    .dataframe thead th {\n",
       "        text-align: right;\n",
       "    }\n",
       "</style>\n",
       "<table border=\"1\" class=\"dataframe\">\n",
       "  <thead>\n",
       "    <tr style=\"text-align: right;\">\n",
       "      <th></th>\n",
       "      <th>number</th>\n",
       "      <th>mean_sqm_price</th>\n",
       "    </tr>\n",
       "    <tr>\n",
       "      <th>locality_name</th>\n",
       "      <th></th>\n",
       "      <th></th>\n",
       "    </tr>\n",
       "  </thead>\n",
       "  <tbody>\n",
       "    <tr>\n",
       "      <th>Санкт-Петербург</th>\n",
       "      <td>14499</td>\n",
       "      <td>113682.776393</td>\n",
       "    </tr>\n",
       "    <tr>\n",
       "      <th>Мурино</th>\n",
       "      <td>523</td>\n",
       "      <td>86636.724517</td>\n",
       "    </tr>\n",
       "    <tr>\n",
       "      <th>Кудрово</th>\n",
       "      <td>424</td>\n",
       "      <td>95716.021094</td>\n",
       "    </tr>\n",
       "    <tr>\n",
       "      <th>поселок Шушары</th>\n",
       "      <td>403</td>\n",
       "      <td>78915.130175</td>\n",
       "    </tr>\n",
       "    <tr>\n",
       "      <th>Всеволожск</th>\n",
       "      <td>371</td>\n",
       "      <td>68880.131023</td>\n",
       "    </tr>\n",
       "    <tr>\n",
       "      <th>Пушкин</th>\n",
       "      <td>343</td>\n",
       "      <td>103435.633271</td>\n",
       "    </tr>\n",
       "    <tr>\n",
       "      <th>Колпино</th>\n",
       "      <td>327</td>\n",
       "      <td>75249.775385</td>\n",
       "    </tr>\n",
       "    <tr>\n",
       "      <th>поселок Парголово</th>\n",
       "      <td>301</td>\n",
       "      <td>90442.587023</td>\n",
       "    </tr>\n",
       "    <tr>\n",
       "      <th>Гатчина</th>\n",
       "      <td>292</td>\n",
       "      <td>68627.363919</td>\n",
       "    </tr>\n",
       "    <tr>\n",
       "      <th>Петергоф</th>\n",
       "      <td>197</td>\n",
       "      <td>84480.969944</td>\n",
       "    </tr>\n",
       "  </tbody>\n",
       "</table>\n",
       "</div>"
      ],
      "text/plain": [
       "                   number  mean_sqm_price\n",
       "locality_name                            \n",
       "Санкт-Петербург     14499   113682.776393\n",
       "Мурино                523    86636.724517\n",
       "Кудрово               424    95716.021094\n",
       "поселок Шушары        403    78915.130175\n",
       "Всеволожск            371    68880.131023\n",
       "Пушкин                343   103435.633271\n",
       "Колпино               327    75249.775385\n",
       "поселок Парголово     301    90442.587023\n",
       "Гатчина               292    68627.363919\n",
       "Петергоф              197    84480.969944"
      ]
     },
     "execution_count": 124,
     "metadata": {},
     "output_type": "execute_result"
    }
   ],
   "source": [
    "pivot_locality = df.pivot_table(index='locality_name', values='sqm_price', aggfunc=['count', 'mean'])\n",
    "pivot_locality.columns = ['number', 'mean_sqm_price']\n",
    "pivot_locality.sort_values(by='number', ascending =False).head(10)\n"
   ]
  },
  {
   "cell_type": "code",
   "execution_count": 125,
   "metadata": {},
   "outputs": [
    {
     "data": {
      "text/html": [
       "<div>\n",
       "<style scoped>\n",
       "    .dataframe tbody tr th:only-of-type {\n",
       "        vertical-align: middle;\n",
       "    }\n",
       "\n",
       "    .dataframe tbody tr th {\n",
       "        vertical-align: top;\n",
       "    }\n",
       "\n",
       "    .dataframe thead th {\n",
       "        text-align: right;\n",
       "    }\n",
       "</style>\n",
       "<table border=\"1\" class=\"dataframe\">\n",
       "  <thead>\n",
       "    <tr style=\"text-align: right;\">\n",
       "      <th></th>\n",
       "      <th>number</th>\n",
       "      <th>mean_sqm_price</th>\n",
       "    </tr>\n",
       "    <tr>\n",
       "      <th>locality_name</th>\n",
       "      <th></th>\n",
       "      <th></th>\n",
       "    </tr>\n",
       "  </thead>\n",
       "  <tbody>\n",
       "    <tr>\n",
       "      <th>деревня Старополье</th>\n",
       "      <td>1</td>\n",
       "      <td>10368.663594</td>\n",
       "    </tr>\n",
       "  </tbody>\n",
       "</table>\n",
       "</div>"
      ],
      "text/plain": [
       "                    number  mean_sqm_price\n",
       "locality_name                             \n",
       "деревня Старополье       1    10368.663594"
      ]
     },
     "execution_count": 125,
     "metadata": {},
     "output_type": "execute_result"
    }
   ],
   "source": [
    "min = pivot_locality['mean_sqm_price'].min()\n",
    "max = pivot_locality['mean_sqm_price'].max()\n",
    "pivot_locality[pivot_locality['mean_sqm_price']==min]"
   ]
  },
  {
   "cell_type": "code",
   "execution_count": 126,
   "metadata": {},
   "outputs": [
    {
     "data": {
      "text/html": [
       "<div>\n",
       "<style scoped>\n",
       "    .dataframe tbody tr th:only-of-type {\n",
       "        vertical-align: middle;\n",
       "    }\n",
       "\n",
       "    .dataframe tbody tr th {\n",
       "        vertical-align: top;\n",
       "    }\n",
       "\n",
       "    .dataframe thead th {\n",
       "        text-align: right;\n",
       "    }\n",
       "</style>\n",
       "<table border=\"1\" class=\"dataframe\">\n",
       "  <thead>\n",
       "    <tr style=\"text-align: right;\">\n",
       "      <th></th>\n",
       "      <th>number</th>\n",
       "      <th>mean_sqm_price</th>\n",
       "    </tr>\n",
       "    <tr>\n",
       "      <th>locality_name</th>\n",
       "      <th></th>\n",
       "      <th></th>\n",
       "    </tr>\n",
       "  </thead>\n",
       "  <tbody>\n",
       "    <tr>\n",
       "      <th>поселок Репино</th>\n",
       "      <td>2</td>\n",
       "      <td>127678.571429</td>\n",
       "    </tr>\n",
       "  </tbody>\n",
       "</table>\n",
       "</div>"
      ],
      "text/plain": [
       "                number  mean_sqm_price\n",
       "locality_name                         \n",
       "поселок Репино       2   127678.571429"
      ]
     },
     "execution_count": 126,
     "metadata": {},
     "output_type": "execute_result"
    }
   ],
   "source": [
    "pivot_locality[pivot_locality['mean_sqm_price']==max]"
   ]
  },
  {
   "cell_type": "markdown",
   "metadata": {},
   "source": [
    "<div class=\"alert alert-info\">\n",
    "Больше всего объявлений по продаже квартир в Санкт-Петербурге, цена одного квадратного метра в среднем 113679.\n",
    "Также достаточно много продается квартир в ближайщих пригородах. Цена одного кв. метра варьирует от 68 тыс. до 103 тыс.\n",
    "    \n",
    "    \n",
    "    \n",
    "Самая низкая стоимость квадратного метра по выборке зафиксирована в деревне Ставрополье, она составила 10368.\n",
    "Самая высокая стоимость квадратного метра - в поселке Репино, она составила 127678.    \n",
    "</div>"
   ]
  },
  {
   "cell_type": "markdown",
   "metadata": {},
   "source": [
    "## 7. Расчет средней стоимости километра для расстояния от центра города для квартир Санкт-Петербурга. "
   ]
  },
  {
   "cell_type": "code",
   "execution_count": 127,
   "metadata": {},
   "outputs": [
    {
     "data": {
      "text/plain": [
       "14475"
      ]
     },
     "execution_count": 127,
     "metadata": {},
     "output_type": "execute_result"
    }
   ],
   "source": [
    "df1 = df.query('locality_name==\"Санкт-Петербург\" and city_сenter_km!=0')\n",
    "df1.shape[0]"
   ]
  },
  {
   "cell_type": "code",
   "execution_count": 128,
   "metadata": {},
   "outputs": [
    {
     "data": {
      "text/plain": [
       "15512.731841492317"
      ]
     },
     "execution_count": 128,
     "metadata": {},
     "output_type": "execute_result"
    }
   ],
   "source": [
    "(df1['sqm_price']/df1['city_сenter_km']).mean()"
   ]
  },
  {
   "cell_type": "code",
   "execution_count": 129,
   "metadata": {},
   "outputs": [
    {
     "data": {
      "text/plain": [
       "-0.31710089103081596"
      ]
     },
     "execution_count": 129,
     "metadata": {},
     "output_type": "execute_result"
    }
   ],
   "source": [
    "df1['sqm_price'].corr(df1['city_сenter_km'])"
   ]
  },
  {
   "cell_type": "code",
   "execution_count": 130,
   "metadata": {},
   "outputs": [
    {
     "data": {
      "text/plain": [
       "<AxesSubplot:xlabel='city_сenter_km', ylabel='sqm_price'>"
      ]
     },
     "execution_count": 130,
     "metadata": {},
     "output_type": "execute_result"
    },
    {
     "data": {
      "image/png": "[encoded data removed]",
      "text/plain": [
       "<Figure size 576x360 with 1 Axes>"
      ]
     },
     "metadata": {
      "needs_background": "light"
     },
     "output_type": "display_data"
    }
   ],
   "source": [
    "df1.plot(x='city_сenter_km', y='sqm_price', kind='scatter', figsize=(8,5))"
   ]
  },
  {
   "cell_type": "markdown",
   "metadata": {},
   "source": [
    "<div class=\"alert alert-info\">\n",
    "Для квартир в Санкт-Петербурге (для которых есть данные об удаленности от центра города - это выборка в 14476 квартир) \n",
    "средняя стоимость одного км удаленности от центра города составляет 15511. \n",
    "\n",
    "Корреляция слабо отрицательная, \n",
    "то есть с увеличением удаленности от центра снижается стоимость квадратного метра квартиры. \n",
    "\n",
    "На диаграмме рассеяния мы видим характерный нисходящий тренд стоимости с увеличением расстояния. \n",
    "Есть выбросы по цене для квартир, находящихся близко от центра.\n",
    "\n",
    "Судя по корреляции есть ряд других факторов, также влияющих на стоимость квадратного метра квартиры.\n",
    "\n",
    "</div>\n"
   ]
  },
  {
   "cell_type": "markdown",
   "metadata": {},
   "source": [
    "## Общий вывод"
   ]
  },
  {
   "cell_type": "markdown",
   "metadata": {},
   "source": [
    "<div class=\"alert alert-info\">\n",
    "<b> Проведен исследовательский анализ данных о продаже квартир в Санкт-Петербурге и соседних населённых пунктов за 6 лет. \n",
    "Выявлен ряд закономерностей, которые можно учитывать для определения рыночной стоимости объекта недвижимости для выявления мошенничества и аномалий:</b>\n",
    "\n",
    "    - есть ряд аномалий в параметрах квартир, указанных пользователем, их необходимо учесть и верифицировать\n",
    "    - картографические данные как правило можно проанализировать для квартир в Санкт-Петербурге и сложно анализировать \n",
    "    для регионов\n",
    "    - можно отследить аномально долгие продажи и проверить такие объекты\n",
    "    - наибольшая взаимосвязь наблюдается между ценой и площадями (общей,жилой, площадью кухни), но для больших \n",
    "    величин взаимосвязь слабеет\n",
    "    - временные данные слабо взаимосвязаны с ценой квартиры, но можно отслеживать динамику количества объявлений на \n",
    "    рынке по дням недели и месяцам\n",
    "    - можно оценить среднюю стоимость квадратного метра квартир по местоположению и использовать ее как ориентир \n",
    "    для сравнения при выявлении мошенничества и аномалий\n",
    "    -нужно учитывать сразу совокупность факторов при анализе цены объекта недвижимости\n",
    "</div>"
   ]
  }
 ],
 "metadata": {
  "ExecuteTimeLog": [
   {
    "duration": 665,
    "start_time": "2022-09-30T08:20:33.261Z"
   },
   {
    "duration": 50,
    "start_time": "2022-09-30T08:20:33.928Z"
   },
   {
    "duration": 38,
    "start_time": "2022-09-30T08:20:33.980Z"
   },
   {
    "duration": 123,
    "start_time": "2022-09-30T08:20:34.021Z"
   },
   {
    "duration": 2773,
    "start_time": "2022-09-30T08:20:34.146Z"
   },
   {
    "duration": 10,
    "start_time": "2022-09-30T08:20:36.921Z"
   },
   {
    "duration": 36,
    "start_time": "2022-09-30T08:20:36.933Z"
   },
   {
    "duration": 41,
    "start_time": "2022-09-30T08:20:36.971Z"
   },
   {
    "duration": 33,
    "start_time": "2022-09-30T08:20:37.014Z"
   },
   {
    "duration": 34,
    "start_time": "2022-09-30T08:20:37.050Z"
   },
   {
    "duration": 43,
    "start_time": "2022-09-30T08:20:37.086Z"
   },
   {
    "duration": 58,
    "start_time": "2022-09-30T08:20:37.131Z"
   },
   {
    "duration": 16,
    "start_time": "2022-09-30T08:20:37.191Z"
   },
   {
    "duration": 28,
    "start_time": "2022-09-30T08:20:37.209Z"
   },
   {
    "duration": 34,
    "start_time": "2022-09-30T08:20:37.239Z"
   },
   {
    "duration": 41,
    "start_time": "2022-09-30T08:20:37.275Z"
   },
   {
    "duration": 24,
    "start_time": "2022-09-30T08:20:37.318Z"
   },
   {
    "duration": 50,
    "start_time": "2022-09-30T08:20:37.344Z"
   },
   {
    "duration": 37,
    "start_time": "2022-09-30T08:20:37.396Z"
   },
   {
    "duration": 26,
    "start_time": "2022-09-30T08:20:37.435Z"
   },
   {
    "duration": 11,
    "start_time": "2022-09-30T08:20:37.464Z"
   },
   {
    "duration": 32,
    "start_time": "2022-09-30T08:20:37.477Z"
   },
   {
    "duration": 30,
    "start_time": "2022-09-30T08:20:37.511Z"
   },
   {
    "duration": 641,
    "start_time": "2022-09-30T08:20:37.543Z"
   },
   {
    "duration": 18,
    "start_time": "2022-09-30T08:20:38.186Z"
   },
   {
    "duration": 37,
    "start_time": "2022-09-30T08:20:38.206Z"
   },
   {
    "duration": 178,
    "start_time": "2022-09-30T08:20:38.245Z"
   },
   {
    "duration": 10,
    "start_time": "2022-09-30T08:20:38.427Z"
   },
   {
    "duration": 154,
    "start_time": "2022-09-30T08:20:38.439Z"
   },
   {
    "duration": 9,
    "start_time": "2022-09-30T08:20:38.595Z"
   },
   {
    "duration": 28,
    "start_time": "2022-09-30T08:20:38.605Z"
   },
   {
    "duration": 120,
    "start_time": "2022-09-30T08:20:38.634Z"
   },
   {
    "duration": 27,
    "start_time": "2022-09-30T08:20:38.756Z"
   },
   {
    "duration": 170,
    "start_time": "2022-09-30T08:20:38.784Z"
   },
   {
    "duration": 226,
    "start_time": "2022-09-30T08:20:38.956Z"
   },
   {
    "duration": 7,
    "start_time": "2022-09-30T08:20:39.184Z"
   },
   {
    "duration": 42,
    "start_time": "2022-09-30T08:20:39.193Z"
   },
   {
    "duration": 58,
    "start_time": "2022-09-30T08:20:39.237Z"
   },
   {
    "duration": 11,
    "start_time": "2022-09-30T08:20:39.296Z"
   },
   {
    "duration": 37,
    "start_time": "2022-09-30T08:20:39.309Z"
   },
   {
    "duration": 17,
    "start_time": "2022-09-30T08:20:39.348Z"
   },
   {
    "duration": 29,
    "start_time": "2022-09-30T08:20:39.367Z"
   },
   {
    "duration": 153,
    "start_time": "2022-09-30T08:20:39.398Z"
   },
   {
    "duration": 207,
    "start_time": "2022-09-30T08:20:39.552Z"
   },
   {
    "duration": 10,
    "start_time": "2022-09-30T08:20:39.761Z"
   },
   {
    "duration": 132,
    "start_time": "2022-09-30T08:20:39.773Z"
   },
   {
    "duration": 187,
    "start_time": "2022-09-30T08:20:39.907Z"
   },
   {
    "duration": 11,
    "start_time": "2022-09-30T08:20:40.096Z"
   },
   {
    "duration": 6,
    "start_time": "2022-09-30T08:20:40.120Z"
   },
   {
    "duration": 24,
    "start_time": "2022-09-30T08:20:40.128Z"
   },
   {
    "duration": 25,
    "start_time": "2022-09-30T08:20:40.154Z"
   },
   {
    "duration": 27,
    "start_time": "2022-09-30T08:20:40.181Z"
   },
   {
    "duration": 36,
    "start_time": "2022-09-30T08:20:40.210Z"
   },
   {
    "duration": 12,
    "start_time": "2022-09-30T08:20:40.248Z"
   },
   {
    "duration": 39,
    "start_time": "2022-09-30T08:20:40.262Z"
   },
   {
    "duration": 23,
    "start_time": "2022-09-30T08:20:40.302Z"
   },
   {
    "duration": 234,
    "start_time": "2022-09-30T08:20:40.326Z"
   },
   {
    "duration": 6,
    "start_time": "2022-09-30T08:20:40.562Z"
   },
   {
    "duration": 35,
    "start_time": "2022-09-30T08:20:40.570Z"
   },
   {
    "duration": 30,
    "start_time": "2022-09-30T08:20:40.607Z"
   },
   {
    "duration": 7,
    "start_time": "2022-09-30T08:20:40.639Z"
   },
   {
    "duration": 30,
    "start_time": "2022-09-30T08:20:40.648Z"
   },
   {
    "duration": 25,
    "start_time": "2022-09-30T08:20:40.680Z"
   },
   {
    "duration": 31,
    "start_time": "2022-09-30T08:20:40.706Z"
   },
   {
    "duration": 36,
    "start_time": "2022-09-30T08:20:40.738Z"
   },
   {
    "duration": 9,
    "start_time": "2022-09-30T08:20:40.776Z"
   },
   {
    "duration": 21,
    "start_time": "2022-09-30T08:20:40.787Z"
   },
   {
    "duration": 71,
    "start_time": "2022-09-30T08:20:40.810Z"
   },
   {
    "duration": 391,
    "start_time": "2022-09-30T08:20:40.883Z"
   },
   {
    "duration": 7,
    "start_time": "2022-09-30T08:20:41.276Z"
   },
   {
    "duration": 218,
    "start_time": "2022-09-30T08:20:41.284Z"
   },
   {
    "duration": 18,
    "start_time": "2022-09-30T08:20:41.503Z"
   },
   {
    "duration": 223,
    "start_time": "2022-09-30T08:20:41.523Z"
   },
   {
    "duration": 9,
    "start_time": "2022-09-30T08:20:41.748Z"
   },
   {
    "duration": 222,
    "start_time": "2022-09-30T08:20:41.759Z"
   },
   {
    "duration": 9,
    "start_time": "2022-09-30T08:20:41.983Z"
   },
   {
    "duration": 505,
    "start_time": "2022-09-30T08:20:41.993Z"
   },
   {
    "duration": 9,
    "start_time": "2022-09-30T08:20:42.500Z"
   },
   {
    "duration": 182,
    "start_time": "2022-09-30T08:20:42.510Z"
   },
   {
    "duration": 8,
    "start_time": "2022-09-30T08:20:42.694Z"
   },
   {
    "duration": 171,
    "start_time": "2022-09-30T08:20:42.704Z"
   },
   {
    "duration": 8,
    "start_time": "2022-09-30T08:20:42.881Z"
   },
   {
    "duration": 152,
    "start_time": "2022-09-30T08:20:42.891Z"
   },
   {
    "duration": 10,
    "start_time": "2022-09-30T08:20:43.045Z"
   },
   {
    "duration": 256,
    "start_time": "2022-09-30T08:20:43.057Z"
   },
   {
    "duration": 8,
    "start_time": "2022-09-30T08:20:43.321Z"
   },
   {
    "duration": 206,
    "start_time": "2022-09-30T08:20:43.331Z"
   },
   {
    "duration": 9,
    "start_time": "2022-09-30T08:20:43.539Z"
   },
   {
    "duration": 30,
    "start_time": "2022-09-30T08:20:43.550Z"
   },
   {
    "duration": 30,
    "start_time": "2022-09-30T08:20:43.582Z"
   },
   {
    "duration": 203,
    "start_time": "2022-09-30T08:20:43.613Z"
   },
   {
    "duration": 10,
    "start_time": "2022-09-30T08:20:43.818Z"
   },
   {
    "duration": 21,
    "start_time": "2022-09-30T08:20:43.830Z"
   },
   {
    "duration": 19,
    "start_time": "2022-09-30T08:20:43.853Z"
   },
   {
    "duration": 211,
    "start_time": "2022-09-30T08:20:43.874Z"
   },
   {
    "duration": 10,
    "start_time": "2022-09-30T08:20:44.087Z"
   },
   {
    "duration": 35,
    "start_time": "2022-09-30T08:20:44.099Z"
   },
   {
    "duration": 26,
    "start_time": "2022-09-30T08:20:44.136Z"
   },
   {
    "duration": 187,
    "start_time": "2022-09-30T08:20:44.164Z"
   },
   {
    "duration": 11,
    "start_time": "2022-09-30T08:20:44.353Z"
   },
   {
    "duration": 194,
    "start_time": "2022-09-30T08:20:44.366Z"
   },
   {
    "duration": 6,
    "start_time": "2022-09-30T08:20:44.562Z"
   },
   {
    "duration": 182,
    "start_time": "2022-09-30T08:20:44.570Z"
   },
   {
    "duration": 7,
    "start_time": "2022-09-30T08:20:44.754Z"
   },
   {
    "duration": 25,
    "start_time": "2022-09-30T08:20:44.763Z"
   },
   {
    "duration": 176,
    "start_time": "2022-09-30T08:20:44.790Z"
   },
   {
    "duration": 283,
    "start_time": "2022-09-30T08:20:44.968Z"
   },
   {
    "duration": 170,
    "start_time": "2022-09-30T08:20:45.253Z"
   },
   {
    "duration": 10,
    "start_time": "2022-09-30T08:20:45.424Z"
   },
   {
    "duration": 723,
    "start_time": "2022-09-30T08:20:45.435Z"
   },
   {
    "duration": 139,
    "start_time": "2022-09-30T08:20:46.160Z"
   },
   {
    "duration": 25,
    "start_time": "2022-09-30T08:20:46.301Z"
   },
   {
    "duration": 160,
    "start_time": "2022-09-30T08:20:46.328Z"
   },
   {
    "duration": 15,
    "start_time": "2022-09-30T08:20:46.490Z"
   },
   {
    "duration": 155,
    "start_time": "2022-09-30T08:20:46.507Z"
   },
   {
    "duration": 15,
    "start_time": "2022-09-30T08:20:46.664Z"
   },
   {
    "duration": 181,
    "start_time": "2022-09-30T08:20:46.681Z"
   },
   {
    "duration": 15,
    "start_time": "2022-09-30T08:20:46.865Z"
   },
   {
    "duration": 204,
    "start_time": "2022-09-30T08:20:46.883Z"
   },
   {
    "duration": 15,
    "start_time": "2022-09-30T08:20:47.089Z"
   },
   {
    "duration": 180,
    "start_time": "2022-09-30T08:20:47.120Z"
   },
   {
    "duration": 32,
    "start_time": "2022-09-30T08:20:47.302Z"
   },
   {
    "duration": 598,
    "start_time": "2022-09-30T08:20:47.336Z"
   },
   {
    "duration": 30,
    "start_time": "2022-09-30T08:20:47.936Z"
   },
   {
    "duration": 218,
    "start_time": "2022-09-30T08:20:47.969Z"
   },
   {
    "duration": 32,
    "start_time": "2022-09-30T08:20:48.189Z"
   },
   {
    "duration": 9,
    "start_time": "2022-09-30T08:20:48.224Z"
   },
   {
    "duration": 32,
    "start_time": "2022-09-30T08:20:48.235Z"
   },
   {
    "duration": 34,
    "start_time": "2022-09-30T08:20:48.269Z"
   },
   {
    "duration": 14,
    "start_time": "2022-09-30T08:20:48.305Z"
   },
   {
    "duration": 44,
    "start_time": "2022-09-30T08:20:48.321Z"
   },
   {
    "duration": 204,
    "start_time": "2022-09-30T08:20:48.366Z"
   },
   {
    "duration": 10,
    "start_time": "2022-09-30T08:29:22.824Z"
   },
   {
    "duration": 9,
    "start_time": "2022-09-30T08:29:27.923Z"
   },
   {
    "duration": 8,
    "start_time": "2022-09-30T08:29:37.221Z"
   },
   {
    "duration": 133,
    "start_time": "2022-10-02T12:38:04.026Z"
   },
   {
    "duration": 70,
    "start_time": "2022-10-02T12:39:28.183Z"
   },
   {
    "duration": 44,
    "start_time": "2022-10-02T12:42:35.309Z"
   },
   {
    "duration": 592,
    "start_time": "2022-10-02T12:42:50.467Z"
   },
   {
    "duration": 59,
    "start_time": "2022-10-02T12:42:51.060Z"
   },
   {
    "duration": 13,
    "start_time": "2022-10-02T12:42:51.120Z"
   },
   {
    "duration": 92,
    "start_time": "2022-10-02T12:42:51.135Z"
   },
   {
    "duration": 2106,
    "start_time": "2022-10-02T12:42:51.229Z"
   },
   {
    "duration": 8,
    "start_time": "2022-10-02T12:42:53.337Z"
   },
   {
    "duration": 7,
    "start_time": "2022-10-02T12:42:53.347Z"
   },
   {
    "duration": 16,
    "start_time": "2022-10-02T12:42:53.356Z"
   },
   {
    "duration": 9,
    "start_time": "2022-10-02T12:42:53.374Z"
   },
   {
    "duration": 7,
    "start_time": "2022-10-02T12:42:53.385Z"
   },
   {
    "duration": 19,
    "start_time": "2022-10-02T12:42:53.393Z"
   },
   {
    "duration": 48,
    "start_time": "2022-10-02T12:42:53.415Z"
   },
   {
    "duration": 7,
    "start_time": "2022-10-02T12:42:53.465Z"
   },
   {
    "duration": 32,
    "start_time": "2022-10-02T12:42:53.473Z"
   },
   {
    "duration": 24,
    "start_time": "2022-10-02T12:42:53.507Z"
   },
   {
    "duration": 8,
    "start_time": "2022-10-02T12:42:53.533Z"
   },
   {
    "duration": 11,
    "start_time": "2022-10-02T12:42:53.543Z"
   },
   {
    "duration": 13,
    "start_time": "2022-10-02T12:42:53.556Z"
   },
   {
    "duration": 32,
    "start_time": "2022-10-02T12:42:53.570Z"
   },
   {
    "duration": 21,
    "start_time": "2022-10-02T12:42:53.604Z"
   },
   {
    "duration": 7,
    "start_time": "2022-10-02T12:42:53.627Z"
   },
   {
    "duration": 7,
    "start_time": "2022-10-02T12:42:53.636Z"
   },
   {
    "duration": 21,
    "start_time": "2022-10-02T12:42:53.645Z"
   },
   {
    "duration": 8,
    "start_time": "2022-10-02T12:42:53.668Z"
   },
   {
    "duration": 586,
    "start_time": "2022-10-02T12:42:53.678Z"
   },
   {
    "duration": 23,
    "start_time": "2022-10-02T12:42:54.266Z"
   },
   {
    "duration": 6,
    "start_time": "2022-10-02T12:42:54.300Z"
   },
   {
    "duration": 169,
    "start_time": "2022-10-02T12:42:54.313Z"
   },
   {
    "duration": 22,
    "start_time": "2022-10-02T12:42:54.484Z"
   },
   {
    "duration": 162,
    "start_time": "2022-10-02T12:42:54.508Z"
   },
   {
    "duration": 9,
    "start_time": "2022-10-02T12:42:54.671Z"
   },
   {
    "duration": 18,
    "start_time": "2022-10-02T12:42:54.682Z"
   },
   {
    "duration": 96,
    "start_time": "2022-10-02T12:42:54.702Z"
   },
   {
    "duration": 9,
    "start_time": "2022-10-02T12:42:54.800Z"
   },
   {
    "duration": 112,
    "start_time": "2022-10-02T12:42:54.811Z"
   },
   {
    "duration": 148,
    "start_time": "2022-10-02T12:42:54.925Z"
   },
   {
    "duration": 7,
    "start_time": "2022-10-02T12:42:55.075Z"
   },
   {
    "duration": 28,
    "start_time": "2022-10-02T12:42:55.083Z"
   },
   {
    "duration": 31,
    "start_time": "2022-10-02T12:42:55.113Z"
   },
   {
    "duration": 8,
    "start_time": "2022-10-02T12:42:55.146Z"
   },
   {
    "duration": 25,
    "start_time": "2022-10-02T12:42:55.156Z"
   },
   {
    "duration": 16,
    "start_time": "2022-10-02T12:42:55.183Z"
   },
   {
    "duration": 12,
    "start_time": "2022-10-02T12:42:55.201Z"
   },
   {
    "duration": 125,
    "start_time": "2022-10-02T12:42:55.214Z"
   },
   {
    "duration": 195,
    "start_time": "2022-10-02T12:42:55.341Z"
   },
   {
    "duration": 10,
    "start_time": "2022-10-02T12:42:55.538Z"
   },
   {
    "duration": 116,
    "start_time": "2022-10-02T12:42:55.549Z"
   },
   {
    "duration": 166,
    "start_time": "2022-10-02T12:42:55.666Z"
   },
   {
    "duration": 9,
    "start_time": "2022-10-02T12:42:55.834Z"
   },
   {
    "duration": 4,
    "start_time": "2022-10-02T12:42:55.845Z"
   },
   {
    "duration": 11,
    "start_time": "2022-10-02T12:42:55.850Z"
   },
   {
    "duration": 4,
    "start_time": "2022-10-02T12:42:55.862Z"
   },
   {
    "duration": 10,
    "start_time": "2022-10-02T12:42:55.867Z"
   },
   {
    "duration": 5,
    "start_time": "2022-10-02T12:42:55.901Z"
   },
   {
    "duration": 12,
    "start_time": "2022-10-02T12:42:55.907Z"
   },
   {
    "duration": 9,
    "start_time": "2022-10-02T12:42:55.921Z"
   },
   {
    "duration": 195,
    "start_time": "2022-10-02T12:42:55.932Z"
   },
   {
    "duration": 6,
    "start_time": "2022-10-02T12:42:56.128Z"
   },
   {
    "duration": 7,
    "start_time": "2022-10-02T12:42:56.135Z"
   },
   {
    "duration": 14,
    "start_time": "2022-10-02T12:42:56.143Z"
   },
   {
    "duration": 4,
    "start_time": "2022-10-02T12:42:56.159Z"
   },
   {
    "duration": 35,
    "start_time": "2022-10-02T12:42:56.165Z"
   },
   {
    "duration": 6,
    "start_time": "2022-10-02T12:42:56.202Z"
   },
   {
    "duration": 19,
    "start_time": "2022-10-02T12:42:56.209Z"
   },
   {
    "duration": 8,
    "start_time": "2022-10-02T12:42:56.229Z"
   },
   {
    "duration": 13,
    "start_time": "2022-10-02T12:42:56.239Z"
   },
   {
    "duration": 6,
    "start_time": "2022-10-02T12:42:56.254Z"
   },
   {
    "duration": 27,
    "start_time": "2022-10-02T12:42:56.261Z"
   },
   {
    "duration": 314,
    "start_time": "2022-10-02T12:42:56.290Z"
   },
   {
    "duration": 6,
    "start_time": "2022-10-02T12:42:56.606Z"
   },
   {
    "duration": 214,
    "start_time": "2022-10-02T12:42:56.614Z"
   },
   {
    "duration": 8,
    "start_time": "2022-10-02T12:42:56.830Z"
   },
   {
    "duration": 216,
    "start_time": "2022-10-02T12:42:56.840Z"
   },
   {
    "duration": 8,
    "start_time": "2022-10-02T12:42:57.058Z"
   },
   {
    "duration": 188,
    "start_time": "2022-10-02T12:42:57.068Z"
   },
   {
    "duration": 8,
    "start_time": "2022-10-02T12:42:57.257Z"
   },
   {
    "duration": 460,
    "start_time": "2022-10-02T12:42:57.267Z"
   },
   {
    "duration": 8,
    "start_time": "2022-10-02T12:42:57.728Z"
   },
   {
    "duration": 149,
    "start_time": "2022-10-02T12:42:57.737Z"
   },
   {
    "duration": 14,
    "start_time": "2022-10-02T12:42:57.887Z"
   },
   {
    "duration": 137,
    "start_time": "2022-10-02T12:42:57.903Z"
   },
   {
    "duration": 8,
    "start_time": "2022-10-02T12:42:58.046Z"
   },
   {
    "duration": 135,
    "start_time": "2022-10-02T12:42:58.055Z"
   },
   {
    "duration": 10,
    "start_time": "2022-10-02T12:42:58.191Z"
   },
   {
    "duration": 227,
    "start_time": "2022-10-02T12:42:58.203Z"
   },
   {
    "duration": 7,
    "start_time": "2022-10-02T12:42:58.431Z"
   },
   {
    "duration": 176,
    "start_time": "2022-10-02T12:42:58.439Z"
   },
   {
    "duration": 8,
    "start_time": "2022-10-02T12:42:58.617Z"
   },
   {
    "duration": 4,
    "start_time": "2022-10-02T12:42:58.627Z"
   },
   {
    "duration": 10,
    "start_time": "2022-10-02T12:42:58.633Z"
   },
   {
    "duration": 181,
    "start_time": "2022-10-02T12:42:58.644Z"
   },
   {
    "duration": 9,
    "start_time": "2022-10-02T12:42:58.827Z"
   },
   {
    "duration": 4,
    "start_time": "2022-10-02T12:42:58.838Z"
   },
   {
    "duration": 7,
    "start_time": "2022-10-02T12:42:58.844Z"
   },
   {
    "duration": 208,
    "start_time": "2022-10-02T12:42:58.853Z"
   },
   {
    "duration": 12,
    "start_time": "2022-10-02T12:42:59.071Z"
   },
   {
    "duration": 5,
    "start_time": "2022-10-02T12:42:59.086Z"
   },
   {
    "duration": 12,
    "start_time": "2022-10-02T12:42:59.093Z"
   },
   {
    "duration": 164,
    "start_time": "2022-10-02T12:42:59.106Z"
   },
   {
    "duration": 8,
    "start_time": "2022-10-02T12:42:59.272Z"
   },
   {
    "duration": 163,
    "start_time": "2022-10-02T12:42:59.281Z"
   },
   {
    "duration": 6,
    "start_time": "2022-10-02T12:42:59.446Z"
   },
   {
    "duration": 138,
    "start_time": "2022-10-02T12:42:59.454Z"
   },
   {
    "duration": 10,
    "start_time": "2022-10-02T12:42:59.594Z"
   },
   {
    "duration": 7,
    "start_time": "2022-10-02T12:42:59.605Z"
   },
   {
    "duration": 146,
    "start_time": "2022-10-02T12:42:59.613Z"
   },
   {
    "duration": 229,
    "start_time": "2022-10-02T12:42:59.761Z"
   },
   {
    "duration": 141,
    "start_time": "2022-10-02T12:42:59.992Z"
   },
   {
    "duration": 7,
    "start_time": "2022-10-02T12:43:00.134Z"
   },
   {
    "duration": 625,
    "start_time": "2022-10-02T12:43:00.142Z"
   },
   {
    "duration": 111,
    "start_time": "2022-10-02T12:43:00.769Z"
   },
   {
    "duration": 19,
    "start_time": "2022-10-02T12:43:00.882Z"
   },
   {
    "duration": 146,
    "start_time": "2022-10-02T12:43:00.903Z"
   },
   {
    "duration": 13,
    "start_time": "2022-10-02T12:43:01.051Z"
   },
   {
    "duration": 150,
    "start_time": "2022-10-02T12:43:01.066Z"
   },
   {
    "duration": 12,
    "start_time": "2022-10-02T12:43:01.217Z"
   },
   {
    "duration": 148,
    "start_time": "2022-10-02T12:43:01.230Z"
   },
   {
    "duration": 21,
    "start_time": "2022-10-02T12:43:01.380Z"
   },
   {
    "duration": 173,
    "start_time": "2022-10-02T12:43:01.403Z"
   },
   {
    "duration": 12,
    "start_time": "2022-10-02T12:43:01.577Z"
   },
   {
    "duration": 150,
    "start_time": "2022-10-02T12:43:01.590Z"
   },
   {
    "duration": 14,
    "start_time": "2022-10-02T12:43:01.742Z"
   },
   {
    "duration": 498,
    "start_time": "2022-10-02T12:43:01.758Z"
   },
   {
    "duration": 25,
    "start_time": "2022-10-02T12:43:02.257Z"
   },
   {
    "duration": 165,
    "start_time": "2022-10-02T12:43:02.300Z"
   },
   {
    "duration": 22,
    "start_time": "2022-10-02T12:43:02.466Z"
   },
   {
    "duration": 11,
    "start_time": "2022-10-02T12:43:02.489Z"
   },
   {
    "duration": 7,
    "start_time": "2022-10-02T12:43:02.502Z"
   },
   {
    "duration": 9,
    "start_time": "2022-10-02T12:43:02.511Z"
   },
   {
    "duration": 5,
    "start_time": "2022-10-02T12:43:02.522Z"
   },
   {
    "duration": 5,
    "start_time": "2022-10-02T12:43:02.528Z"
   },
   {
    "duration": 165,
    "start_time": "2022-10-02T12:43:02.534Z"
   },
   {
    "duration": 6,
    "start_time": "2022-10-02T12:51:00.113Z"
   },
   {
    "duration": 26,
    "start_time": "2022-10-02T12:51:18.610Z"
   },
   {
    "duration": 6,
    "start_time": "2022-10-02T12:51:53.915Z"
   },
   {
    "duration": 24,
    "start_time": "2022-10-02T12:51:56.795Z"
   },
   {
    "duration": 579,
    "start_time": "2022-10-02T12:52:09.106Z"
   },
   {
    "duration": 44,
    "start_time": "2022-10-02T12:52:09.687Z"
   },
   {
    "duration": 12,
    "start_time": "2022-10-02T12:52:09.733Z"
   },
   {
    "duration": 85,
    "start_time": "2022-10-02T12:52:09.747Z"
   },
   {
    "duration": 2061,
    "start_time": "2022-10-02T12:52:09.834Z"
   },
   {
    "duration": 12,
    "start_time": "2022-10-02T12:52:11.897Z"
   },
   {
    "duration": 21,
    "start_time": "2022-10-02T12:52:11.910Z"
   },
   {
    "duration": 8,
    "start_time": "2022-10-02T12:52:11.932Z"
   },
   {
    "duration": 8,
    "start_time": "2022-10-02T12:52:11.941Z"
   },
   {
    "duration": 13,
    "start_time": "2022-10-02T12:52:11.951Z"
   },
   {
    "duration": 13,
    "start_time": "2022-10-02T12:52:11.965Z"
   },
   {
    "duration": 30,
    "start_time": "2022-10-02T12:52:11.979Z"
   },
   {
    "duration": 9,
    "start_time": "2022-10-02T12:52:12.014Z"
   },
   {
    "duration": 10,
    "start_time": "2022-10-02T12:52:12.024Z"
   },
   {
    "duration": 15,
    "start_time": "2022-10-02T12:52:12.036Z"
   },
   {
    "duration": 10,
    "start_time": "2022-10-02T12:52:12.053Z"
   },
   {
    "duration": 13,
    "start_time": "2022-10-02T12:52:12.065Z"
   },
   {
    "duration": 12,
    "start_time": "2022-10-02T12:52:12.080Z"
   },
   {
    "duration": 14,
    "start_time": "2022-10-02T12:52:12.093Z"
   },
   {
    "duration": 50,
    "start_time": "2022-10-02T12:52:12.108Z"
   },
   {
    "duration": 11,
    "start_time": "2022-10-02T12:52:12.160Z"
   },
   {
    "duration": 6,
    "start_time": "2022-10-02T12:52:12.173Z"
   },
   {
    "duration": 8,
    "start_time": "2022-10-02T12:52:12.180Z"
   },
   {
    "duration": 17,
    "start_time": "2022-10-02T12:52:12.189Z"
   },
   {
    "duration": 19,
    "start_time": "2022-10-02T12:52:12.207Z"
   },
   {
    "duration": 578,
    "start_time": "2022-10-02T12:52:12.227Z"
   },
   {
    "duration": 22,
    "start_time": "2022-10-02T12:52:12.807Z"
   },
   {
    "duration": 6,
    "start_time": "2022-10-02T12:52:12.834Z"
   },
   {
    "duration": 140,
    "start_time": "2022-10-02T12:52:12.842Z"
   },
   {
    "duration": 17,
    "start_time": "2022-10-02T12:52:12.984Z"
   },
   {
    "duration": 130,
    "start_time": "2022-10-02T12:52:13.012Z"
   },
   {
    "duration": 7,
    "start_time": "2022-10-02T12:52:13.144Z"
   },
   {
    "duration": 5,
    "start_time": "2022-10-02T12:52:13.152Z"
   },
   {
    "duration": 23,
    "start_time": "2022-10-02T12:52:13.158Z"
   },
   {
    "duration": 22,
    "start_time": "2022-10-02T12:52:13.183Z"
   },
   {
    "duration": 126,
    "start_time": "2022-10-02T12:52:13.210Z"
   },
   {
    "duration": 233,
    "start_time": "2022-10-02T12:52:13.338Z"
   },
   {
    "duration": 7,
    "start_time": "2022-10-02T12:52:13.573Z"
   },
   {
    "duration": 26,
    "start_time": "2022-10-02T12:52:13.581Z"
   },
   {
    "duration": 30,
    "start_time": "2022-10-02T12:52:13.615Z"
   },
   {
    "duration": 9,
    "start_time": "2022-10-02T12:52:13.647Z"
   },
   {
    "duration": 10,
    "start_time": "2022-10-02T12:52:13.657Z"
   },
   {
    "duration": 5,
    "start_time": "2022-10-02T12:52:13.668Z"
   },
   {
    "duration": 28,
    "start_time": "2022-10-02T12:52:13.675Z"
   },
   {
    "duration": 110,
    "start_time": "2022-10-02T12:52:13.710Z"
   },
   {
    "duration": 169,
    "start_time": "2022-10-02T12:52:13.821Z"
   },
   {
    "duration": 23,
    "start_time": "2022-10-02T12:52:13.992Z"
   },
   {
    "duration": 112,
    "start_time": "2022-10-02T12:52:14.017Z"
   },
   {
    "duration": 163,
    "start_time": "2022-10-02T12:52:14.131Z"
   },
   {
    "duration": 19,
    "start_time": "2022-10-02T12:52:14.296Z"
   },
   {
    "duration": 7,
    "start_time": "2022-10-02T12:52:14.318Z"
   },
   {
    "duration": 10,
    "start_time": "2022-10-02T12:52:14.327Z"
   },
   {
    "duration": 5,
    "start_time": "2022-10-02T12:52:14.338Z"
   },
   {
    "duration": 9,
    "start_time": "2022-10-02T12:52:14.344Z"
   },
   {
    "duration": 15,
    "start_time": "2022-10-02T12:52:14.355Z"
   },
   {
    "duration": 6,
    "start_time": "2022-10-02T12:52:14.371Z"
   },
   {
    "duration": 11,
    "start_time": "2022-10-02T12:52:14.378Z"
   },
   {
    "duration": 282,
    "start_time": "2022-10-02T12:52:14.391Z"
   },
   {
    "duration": 7,
    "start_time": "2022-10-02T12:52:14.675Z"
   },
   {
    "duration": 22,
    "start_time": "2022-10-02T12:52:14.684Z"
   },
   {
    "duration": 22,
    "start_time": "2022-10-02T12:52:14.708Z"
   },
   {
    "duration": 4,
    "start_time": "2022-10-02T12:52:14.731Z"
   },
   {
    "duration": 9,
    "start_time": "2022-10-02T12:52:14.736Z"
   },
   {
    "duration": 4,
    "start_time": "2022-10-02T12:52:14.746Z"
   },
   {
    "duration": 9,
    "start_time": "2022-10-02T12:52:14.751Z"
   },
   {
    "duration": 7,
    "start_time": "2022-10-02T12:52:14.761Z"
   },
   {
    "duration": 6,
    "start_time": "2022-10-02T12:52:14.769Z"
   },
   {
    "duration": 3,
    "start_time": "2022-10-02T12:52:14.777Z"
   },
   {
    "duration": 42,
    "start_time": "2022-10-02T12:52:14.782Z"
   },
   {
    "duration": 255,
    "start_time": "2022-10-02T12:52:14.826Z"
   },
   {
    "duration": 6,
    "start_time": "2022-10-02T12:52:15.083Z"
   },
   {
    "duration": 253,
    "start_time": "2022-10-02T12:52:15.090Z"
   },
   {
    "duration": 8,
    "start_time": "2022-10-02T12:52:15.344Z"
   },
   {
    "duration": 191,
    "start_time": "2022-10-02T12:52:15.354Z"
   },
   {
    "duration": 10,
    "start_time": "2022-10-02T12:52:15.546Z"
   },
   {
    "duration": 175,
    "start_time": "2022-10-02T12:52:15.557Z"
   },
   {
    "duration": 8,
    "start_time": "2022-10-02T12:52:15.733Z"
   },
   {
    "duration": 447,
    "start_time": "2022-10-02T12:52:15.742Z"
   },
   {
    "duration": 14,
    "start_time": "2022-10-02T12:52:16.191Z"
   },
   {
    "duration": 139,
    "start_time": "2022-10-02T12:52:16.209Z"
   },
   {
    "duration": 7,
    "start_time": "2022-10-02T12:52:16.350Z"
   },
   {
    "duration": 153,
    "start_time": "2022-10-02T12:52:16.362Z"
   },
   {
    "duration": 8,
    "start_time": "2022-10-02T12:52:16.517Z"
   },
   {
    "duration": 134,
    "start_time": "2022-10-02T12:52:16.527Z"
   },
   {
    "duration": 9,
    "start_time": "2022-10-02T12:52:16.662Z"
   },
   {
    "duration": 148,
    "start_time": "2022-10-02T12:52:16.672Z"
   },
   {
    "duration": 7,
    "start_time": "2022-10-02T12:52:16.821Z"
   },
   {
    "duration": 301,
    "start_time": "2022-10-02T12:52:16.830Z"
   },
   {
    "duration": 8,
    "start_time": "2022-10-02T12:52:17.133Z"
   },
   {
    "duration": 9,
    "start_time": "2022-10-02T12:52:17.142Z"
   },
   {
    "duration": 14,
    "start_time": "2022-10-02T12:52:17.152Z"
   },
   {
    "duration": 176,
    "start_time": "2022-10-02T12:52:17.167Z"
   },
   {
    "duration": 21,
    "start_time": "2022-10-02T12:52:17.345Z"
   },
   {
    "duration": 7,
    "start_time": "2022-10-02T12:52:17.367Z"
   },
   {
    "duration": 10,
    "start_time": "2022-10-02T12:52:17.375Z"
   },
   {
    "duration": 184,
    "start_time": "2022-10-02T12:52:17.387Z"
   },
   {
    "duration": 7,
    "start_time": "2022-10-02T12:52:17.573Z"
   },
   {
    "duration": 4,
    "start_time": "2022-10-02T12:52:17.582Z"
   },
   {
    "duration": 32,
    "start_time": "2022-10-02T12:52:17.587Z"
   },
   {
    "duration": 151,
    "start_time": "2022-10-02T12:52:17.620Z"
   },
   {
    "duration": 8,
    "start_time": "2022-10-02T12:52:17.773Z"
   },
   {
    "duration": 151,
    "start_time": "2022-10-02T12:52:17.782Z"
   },
   {
    "duration": 6,
    "start_time": "2022-10-02T12:52:17.935Z"
   },
   {
    "duration": 143,
    "start_time": "2022-10-02T12:52:17.943Z"
   },
   {
    "duration": 27,
    "start_time": "2022-10-02T12:52:18.088Z"
   },
   {
    "duration": 5,
    "start_time": "2022-10-02T12:52:18.116Z"
   },
   {
    "duration": 144,
    "start_time": "2022-10-02T12:52:18.122Z"
   },
   {
    "duration": 244,
    "start_time": "2022-10-02T12:52:18.268Z"
   },
   {
    "duration": 128,
    "start_time": "2022-10-02T12:52:18.517Z"
   },
   {
    "duration": 9,
    "start_time": "2022-10-02T12:52:18.646Z"
   },
   {
    "duration": 1061,
    "start_time": "2022-10-02T12:52:18.656Z"
   },
   {
    "duration": 216,
    "start_time": "2022-10-02T12:52:19.719Z"
   },
   {
    "duration": 73,
    "start_time": "2022-10-02T12:52:19.936Z"
   },
   {
    "duration": 292,
    "start_time": "2022-10-02T12:52:20.011Z"
   },
   {
    "duration": 15,
    "start_time": "2022-10-02T12:52:20.310Z"
   },
   {
    "duration": 313,
    "start_time": "2022-10-02T12:52:20.327Z"
   },
   {
    "duration": 65,
    "start_time": "2022-10-02T12:52:20.642Z"
   },
   {
    "duration": 320,
    "start_time": "2022-10-02T12:52:20.712Z"
   },
   {
    "duration": 72,
    "start_time": "2022-10-02T12:52:21.034Z"
   },
   {
    "duration": 163,
    "start_time": "2022-10-02T12:52:21.114Z"
   },
   {
    "duration": 12,
    "start_time": "2022-10-02T12:52:21.279Z"
   },
   {
    "duration": 156,
    "start_time": "2022-10-02T12:52:21.301Z"
   },
   {
    "duration": 18,
    "start_time": "2022-10-02T12:52:21.459Z"
   },
   {
    "duration": 562,
    "start_time": "2022-10-02T12:52:21.479Z"
   },
   {
    "duration": 25,
    "start_time": "2022-10-02T12:52:22.043Z"
   },
   {
    "duration": 188,
    "start_time": "2022-10-02T12:52:22.070Z"
   },
   {
    "duration": 23,
    "start_time": "2022-10-02T12:52:22.259Z"
   },
   {
    "duration": 20,
    "start_time": "2022-10-02T12:52:22.283Z"
   },
   {
    "duration": 14,
    "start_time": "2022-10-02T12:52:22.305Z"
   },
   {
    "duration": 23,
    "start_time": "2022-10-02T12:52:22.321Z"
   },
   {
    "duration": 7,
    "start_time": "2022-10-02T12:52:22.346Z"
   },
   {
    "duration": 17,
    "start_time": "2022-10-02T12:52:22.355Z"
   },
   {
    "duration": 183,
    "start_time": "2022-10-02T12:52:22.374Z"
   },
   {
    "duration": 82,
    "start_time": "2022-10-02T12:54:35.435Z"
   },
   {
    "duration": 4,
    "start_time": "2022-10-02T12:54:45.865Z"
   },
   {
    "duration": 24,
    "start_time": "2022-10-02T12:54:52.651Z"
   },
   {
    "duration": 64,
    "start_time": "2022-10-02T12:57:54.111Z"
   },
   {
    "duration": 658,
    "start_time": "2022-10-02T13:04:06.528Z"
   },
   {
    "duration": 70,
    "start_time": "2022-10-02T13:04:07.188Z"
   },
   {
    "duration": 16,
    "start_time": "2022-10-02T13:04:07.260Z"
   },
   {
    "duration": 93,
    "start_time": "2022-10-02T13:04:07.277Z"
   },
   {
    "duration": 2258,
    "start_time": "2022-10-02T13:04:07.372Z"
   },
   {
    "duration": 8,
    "start_time": "2022-10-02T13:04:09.632Z"
   },
   {
    "duration": 3,
    "start_time": "2022-10-02T13:04:09.642Z"
   },
   {
    "duration": 7,
    "start_time": "2022-10-02T13:04:09.646Z"
   },
   {
    "duration": 6,
    "start_time": "2022-10-02T13:04:09.654Z"
   },
   {
    "duration": 6,
    "start_time": "2022-10-02T13:04:09.661Z"
   },
   {
    "duration": 9,
    "start_time": "2022-10-02T13:04:09.668Z"
   },
   {
    "duration": 31,
    "start_time": "2022-10-02T13:04:09.679Z"
   },
   {
    "duration": 18,
    "start_time": "2022-10-02T13:04:09.717Z"
   },
   {
    "duration": 11,
    "start_time": "2022-10-02T13:04:09.738Z"
   },
   {
    "duration": 9,
    "start_time": "2022-10-02T13:04:09.750Z"
   },
   {
    "duration": 6,
    "start_time": "2022-10-02T13:04:09.761Z"
   },
   {
    "duration": 8,
    "start_time": "2022-10-02T13:04:09.768Z"
   },
   {
    "duration": 4,
    "start_time": "2022-10-02T13:04:09.777Z"
   },
   {
    "duration": 28,
    "start_time": "2022-10-02T13:04:09.783Z"
   },
   {
    "duration": 32,
    "start_time": "2022-10-02T13:04:09.813Z"
   },
   {
    "duration": 11,
    "start_time": "2022-10-02T13:04:09.846Z"
   },
   {
    "duration": 5,
    "start_time": "2022-10-02T13:04:09.858Z"
   },
   {
    "duration": 11,
    "start_time": "2022-10-02T13:04:09.865Z"
   },
   {
    "duration": 8,
    "start_time": "2022-10-02T13:04:09.878Z"
   },
   {
    "duration": 594,
    "start_time": "2022-10-02T13:04:09.887Z"
   },
   {
    "duration": 39,
    "start_time": "2022-10-02T13:04:10.482Z"
   },
   {
    "duration": 22,
    "start_time": "2022-10-02T13:04:10.523Z"
   },
   {
    "duration": 132,
    "start_time": "2022-10-02T13:04:10.546Z"
   },
   {
    "duration": 8,
    "start_time": "2022-10-02T13:04:10.679Z"
   },
   {
    "duration": 136,
    "start_time": "2022-10-02T13:04:10.689Z"
   },
   {
    "duration": 9,
    "start_time": "2022-10-02T13:04:10.831Z"
   },
   {
    "duration": 5,
    "start_time": "2022-10-02T13:04:10.842Z"
   },
   {
    "duration": 684,
    "start_time": "2022-10-02T13:04:10.848Z"
   },
   {
    "duration": 0,
    "start_time": "2022-10-02T13:04:11.539Z"
   },
   {
    "duration": 0,
    "start_time": "2022-10-02T13:04:11.541Z"
   },
   {
    "duration": 0,
    "start_time": "2022-10-02T13:04:11.542Z"
   },
   {
    "duration": 0,
    "start_time": "2022-10-02T13:04:11.543Z"
   },
   {
    "duration": 0,
    "start_time": "2022-10-02T13:04:11.544Z"
   },
   {
    "duration": 0,
    "start_time": "2022-10-02T13:04:11.545Z"
   },
   {
    "duration": 0,
    "start_time": "2022-10-02T13:04:11.547Z"
   },
   {
    "duration": 0,
    "start_time": "2022-10-02T13:04:11.548Z"
   },
   {
    "duration": 0,
    "start_time": "2022-10-02T13:04:11.550Z"
   },
   {
    "duration": 0,
    "start_time": "2022-10-02T13:04:11.551Z"
   },
   {
    "duration": 0,
    "start_time": "2022-10-02T13:04:11.553Z"
   },
   {
    "duration": 0,
    "start_time": "2022-10-02T13:04:11.554Z"
   },
   {
    "duration": 0,
    "start_time": "2022-10-02T13:04:11.555Z"
   },
   {
    "duration": 0,
    "start_time": "2022-10-02T13:04:11.556Z"
   },
   {
    "duration": 0,
    "start_time": "2022-10-02T13:04:11.557Z"
   },
   {
    "duration": 0,
    "start_time": "2022-10-02T13:04:11.559Z"
   },
   {
    "duration": 0,
    "start_time": "2022-10-02T13:04:11.560Z"
   },
   {
    "duration": 0,
    "start_time": "2022-10-02T13:04:11.561Z"
   },
   {
    "duration": 0,
    "start_time": "2022-10-02T13:04:11.562Z"
   },
   {
    "duration": 0,
    "start_time": "2022-10-02T13:04:11.563Z"
   },
   {
    "duration": 0,
    "start_time": "2022-10-02T13:04:11.565Z"
   },
   {
    "duration": 0,
    "start_time": "2022-10-02T13:04:11.566Z"
   },
   {
    "duration": 0,
    "start_time": "2022-10-02T13:04:11.567Z"
   },
   {
    "duration": 0,
    "start_time": "2022-10-02T13:04:11.568Z"
   },
   {
    "duration": 0,
    "start_time": "2022-10-02T13:04:11.570Z"
   },
   {
    "duration": 0,
    "start_time": "2022-10-02T13:04:11.571Z"
   },
   {
    "duration": 0,
    "start_time": "2022-10-02T13:04:11.572Z"
   },
   {
    "duration": 0,
    "start_time": "2022-10-02T13:04:11.573Z"
   },
   {
    "duration": 0,
    "start_time": "2022-10-02T13:04:11.574Z"
   },
   {
    "duration": 0,
    "start_time": "2022-10-02T13:04:11.575Z"
   },
   {
    "duration": 0,
    "start_time": "2022-10-02T13:04:11.576Z"
   },
   {
    "duration": 0,
    "start_time": "2022-10-02T13:04:11.577Z"
   },
   {
    "duration": 0,
    "start_time": "2022-10-02T13:04:11.578Z"
   },
   {
    "duration": 0,
    "start_time": "2022-10-02T13:04:11.578Z"
   },
   {
    "duration": 0,
    "start_time": "2022-10-02T13:04:11.579Z"
   },
   {
    "duration": 0,
    "start_time": "2022-10-02T13:04:11.579Z"
   },
   {
    "duration": 0,
    "start_time": "2022-10-02T13:04:11.580Z"
   },
   {
    "duration": 0,
    "start_time": "2022-10-02T13:04:11.581Z"
   },
   {
    "duration": 0,
    "start_time": "2022-10-02T13:04:11.581Z"
   },
   {
    "duration": 0,
    "start_time": "2022-10-02T13:04:11.611Z"
   },
   {
    "duration": 0,
    "start_time": "2022-10-02T13:04:11.612Z"
   },
   {
    "duration": 0,
    "start_time": "2022-10-02T13:04:11.613Z"
   },
   {
    "duration": 0,
    "start_time": "2022-10-02T13:04:11.614Z"
   },
   {
    "duration": 0,
    "start_time": "2022-10-02T13:04:11.614Z"
   },
   {
    "duration": 0,
    "start_time": "2022-10-02T13:04:11.615Z"
   },
   {
    "duration": 0,
    "start_time": "2022-10-02T13:04:11.615Z"
   },
   {
    "duration": 0,
    "start_time": "2022-10-02T13:04:11.616Z"
   },
   {
    "duration": 0,
    "start_time": "2022-10-02T13:04:11.616Z"
   },
   {
    "duration": 0,
    "start_time": "2022-10-02T13:04:11.617Z"
   },
   {
    "duration": 0,
    "start_time": "2022-10-02T13:04:11.619Z"
   },
   {
    "duration": 0,
    "start_time": "2022-10-02T13:04:11.620Z"
   },
   {
    "duration": 0,
    "start_time": "2022-10-02T13:04:11.621Z"
   },
   {
    "duration": 0,
    "start_time": "2022-10-02T13:04:11.622Z"
   },
   {
    "duration": 0,
    "start_time": "2022-10-02T13:04:11.623Z"
   },
   {
    "duration": 0,
    "start_time": "2022-10-02T13:04:11.626Z"
   },
   {
    "duration": 0,
    "start_time": "2022-10-02T13:04:11.627Z"
   },
   {
    "duration": 0,
    "start_time": "2022-10-02T13:04:11.628Z"
   },
   {
    "duration": 0,
    "start_time": "2022-10-02T13:04:11.629Z"
   },
   {
    "duration": 0,
    "start_time": "2022-10-02T13:04:11.630Z"
   },
   {
    "duration": 0,
    "start_time": "2022-10-02T13:04:11.631Z"
   },
   {
    "duration": 0,
    "start_time": "2022-10-02T13:04:11.631Z"
   },
   {
    "duration": 0,
    "start_time": "2022-10-02T13:04:11.632Z"
   },
   {
    "duration": 0,
    "start_time": "2022-10-02T13:04:11.633Z"
   },
   {
    "duration": 0,
    "start_time": "2022-10-02T13:04:11.634Z"
   },
   {
    "duration": 0,
    "start_time": "2022-10-02T13:04:11.635Z"
   },
   {
    "duration": 0,
    "start_time": "2022-10-02T13:04:11.639Z"
   },
   {
    "duration": 0,
    "start_time": "2022-10-02T13:04:11.640Z"
   },
   {
    "duration": 0,
    "start_time": "2022-10-02T13:04:11.641Z"
   },
   {
    "duration": 0,
    "start_time": "2022-10-02T13:04:11.643Z"
   },
   {
    "duration": 0,
    "start_time": "2022-10-02T13:04:11.644Z"
   },
   {
    "duration": 0,
    "start_time": "2022-10-02T13:04:11.644Z"
   },
   {
    "duration": 0,
    "start_time": "2022-10-02T13:04:11.645Z"
   },
   {
    "duration": 0,
    "start_time": "2022-10-02T13:04:11.647Z"
   },
   {
    "duration": 0,
    "start_time": "2022-10-02T13:04:11.648Z"
   },
   {
    "duration": 0,
    "start_time": "2022-10-02T13:04:11.650Z"
   },
   {
    "duration": 0,
    "start_time": "2022-10-02T13:04:11.702Z"
   },
   {
    "duration": 0,
    "start_time": "2022-10-02T13:04:11.703Z"
   },
   {
    "duration": 0,
    "start_time": "2022-10-02T13:04:11.704Z"
   },
   {
    "duration": 1,
    "start_time": "2022-10-02T13:04:11.704Z"
   },
   {
    "duration": 0,
    "start_time": "2022-10-02T13:04:11.705Z"
   },
   {
    "duration": 0,
    "start_time": "2022-10-02T13:04:11.706Z"
   },
   {
    "duration": 0,
    "start_time": "2022-10-02T13:04:11.707Z"
   },
   {
    "duration": 0,
    "start_time": "2022-10-02T13:04:11.708Z"
   },
   {
    "duration": 0,
    "start_time": "2022-10-02T13:04:11.709Z"
   },
   {
    "duration": 0,
    "start_time": "2022-10-02T13:04:11.710Z"
   },
   {
    "duration": 0,
    "start_time": "2022-10-02T13:04:11.710Z"
   },
   {
    "duration": 0,
    "start_time": "2022-10-02T13:04:11.711Z"
   },
   {
    "duration": 0,
    "start_time": "2022-10-02T13:04:11.712Z"
   },
   {
    "duration": 0,
    "start_time": "2022-10-02T13:04:11.713Z"
   },
   {
    "duration": 0,
    "start_time": "2022-10-02T13:04:11.714Z"
   },
   {
    "duration": 0,
    "start_time": "2022-10-02T13:04:11.715Z"
   },
   {
    "duration": 0,
    "start_time": "2022-10-02T13:04:11.717Z"
   },
   {
    "duration": 0,
    "start_time": "2022-10-02T13:04:11.718Z"
   },
   {
    "duration": 0,
    "start_time": "2022-10-02T13:04:11.719Z"
   },
   {
    "duration": 0,
    "start_time": "2022-10-02T13:04:11.720Z"
   },
   {
    "duration": 0,
    "start_time": "2022-10-02T13:04:11.721Z"
   },
   {
    "duration": 0,
    "start_time": "2022-10-02T13:04:11.722Z"
   },
   {
    "duration": 0,
    "start_time": "2022-10-02T13:04:11.723Z"
   },
   {
    "duration": 0,
    "start_time": "2022-10-02T13:04:11.724Z"
   },
   {
    "duration": 0,
    "start_time": "2022-10-02T13:04:11.725Z"
   },
   {
    "duration": 0,
    "start_time": "2022-10-02T13:04:11.727Z"
   },
   {
    "duration": 5,
    "start_time": "2022-10-02T13:07:59.925Z"
   },
   {
    "duration": 34,
    "start_time": "2022-10-02T13:08:04.537Z"
   },
   {
    "duration": 566,
    "start_time": "2022-10-02T13:09:45.079Z"
   },
   {
    "duration": 55,
    "start_time": "2022-10-02T13:09:45.647Z"
   },
   {
    "duration": 14,
    "start_time": "2022-10-02T13:09:45.704Z"
   },
   {
    "duration": 100,
    "start_time": "2022-10-02T13:09:45.720Z"
   },
   {
    "duration": 2077,
    "start_time": "2022-10-02T13:09:45.822Z"
   },
   {
    "duration": 10,
    "start_time": "2022-10-02T13:09:47.902Z"
   },
   {
    "duration": 21,
    "start_time": "2022-10-02T13:09:47.914Z"
   },
   {
    "duration": 25,
    "start_time": "2022-10-02T13:09:47.937Z"
   },
   {
    "duration": 7,
    "start_time": "2022-10-02T13:09:47.964Z"
   },
   {
    "duration": 9,
    "start_time": "2022-10-02T13:09:47.974Z"
   },
   {
    "duration": 21,
    "start_time": "2022-10-02T13:09:47.984Z"
   },
   {
    "duration": 28,
    "start_time": "2022-10-02T13:09:48.007Z"
   },
   {
    "duration": 6,
    "start_time": "2022-10-02T13:09:48.037Z"
   },
   {
    "duration": 12,
    "start_time": "2022-10-02T13:09:48.046Z"
   },
   {
    "duration": 14,
    "start_time": "2022-10-02T13:09:48.060Z"
   },
   {
    "duration": 8,
    "start_time": "2022-10-02T13:09:48.075Z"
   },
   {
    "duration": 6,
    "start_time": "2022-10-02T13:09:48.100Z"
   },
   {
    "duration": 8,
    "start_time": "2022-10-02T13:09:48.107Z"
   },
   {
    "duration": 28,
    "start_time": "2022-10-02T13:09:48.116Z"
   },
   {
    "duration": 14,
    "start_time": "2022-10-02T13:09:48.147Z"
   },
   {
    "duration": 7,
    "start_time": "2022-10-02T13:09:48.163Z"
   },
   {
    "duration": 29,
    "start_time": "2022-10-02T13:09:48.172Z"
   },
   {
    "duration": 20,
    "start_time": "2022-10-02T13:09:48.203Z"
   },
   {
    "duration": 9,
    "start_time": "2022-10-02T13:09:48.225Z"
   },
   {
    "duration": 566,
    "start_time": "2022-10-02T13:09:48.236Z"
   },
   {
    "duration": 17,
    "start_time": "2022-10-02T13:09:48.804Z"
   },
   {
    "duration": 6,
    "start_time": "2022-10-02T13:09:48.823Z"
   },
   {
    "duration": 138,
    "start_time": "2022-10-02T13:09:48.835Z"
   },
   {
    "duration": 9,
    "start_time": "2022-10-02T13:09:48.974Z"
   },
   {
    "duration": 132,
    "start_time": "2022-10-02T13:09:48.985Z"
   },
   {
    "duration": 8,
    "start_time": "2022-10-02T13:09:49.119Z"
   },
   {
    "duration": 5,
    "start_time": "2022-10-02T13:09:49.128Z"
   },
   {
    "duration": 9,
    "start_time": "2022-10-02T13:09:49.135Z"
   },
   {
    "duration": 27,
    "start_time": "2022-10-02T13:09:49.145Z"
   },
   {
    "duration": 34,
    "start_time": "2022-10-02T13:09:49.174Z"
   },
   {
    "duration": 9,
    "start_time": "2022-10-02T13:09:49.210Z"
   },
   {
    "duration": 121,
    "start_time": "2022-10-02T13:09:49.220Z"
   },
   {
    "duration": 228,
    "start_time": "2022-10-02T13:09:49.342Z"
   },
   {
    "duration": 6,
    "start_time": "2022-10-02T13:09:49.572Z"
   },
   {
    "duration": 21,
    "start_time": "2022-10-02T13:09:49.579Z"
   },
   {
    "duration": 33,
    "start_time": "2022-10-02T13:09:49.602Z"
   },
   {
    "duration": 9,
    "start_time": "2022-10-02T13:09:49.636Z"
   },
   {
    "duration": 8,
    "start_time": "2022-10-02T13:09:49.647Z"
   },
   {
    "duration": 6,
    "start_time": "2022-10-02T13:09:49.656Z"
   },
   {
    "duration": 5,
    "start_time": "2022-10-02T13:09:49.663Z"
   },
   {
    "duration": 139,
    "start_time": "2022-10-02T13:09:49.669Z"
   },
   {
    "duration": 177,
    "start_time": "2022-10-02T13:09:49.809Z"
   },
   {
    "duration": 17,
    "start_time": "2022-10-02T13:09:49.987Z"
   },
   {
    "duration": 120,
    "start_time": "2022-10-02T13:09:50.005Z"
   },
   {
    "duration": 154,
    "start_time": "2022-10-02T13:09:50.128Z"
   },
   {
    "duration": 16,
    "start_time": "2022-10-02T13:09:50.284Z"
   },
   {
    "duration": 7,
    "start_time": "2022-10-02T13:09:50.302Z"
   },
   {
    "duration": 10,
    "start_time": "2022-10-02T13:09:50.311Z"
   },
   {
    "duration": 4,
    "start_time": "2022-10-02T13:09:50.323Z"
   },
   {
    "duration": 8,
    "start_time": "2022-10-02T13:09:50.329Z"
   },
   {
    "duration": 5,
    "start_time": "2022-10-02T13:09:50.339Z"
   },
   {
    "duration": 5,
    "start_time": "2022-10-02T13:09:50.345Z"
   },
   {
    "duration": 6,
    "start_time": "2022-10-02T13:09:50.351Z"
   },
   {
    "duration": 225,
    "start_time": "2022-10-02T13:09:50.359Z"
   },
   {
    "duration": 6,
    "start_time": "2022-10-02T13:09:50.586Z"
   },
   {
    "duration": 12,
    "start_time": "2022-10-02T13:09:50.593Z"
   },
   {
    "duration": 14,
    "start_time": "2022-10-02T13:09:50.607Z"
   },
   {
    "duration": 5,
    "start_time": "2022-10-02T13:09:50.624Z"
   },
   {
    "duration": 11,
    "start_time": "2022-10-02T13:09:50.631Z"
   },
   {
    "duration": 4,
    "start_time": "2022-10-02T13:09:50.644Z"
   },
   {
    "duration": 9,
    "start_time": "2022-10-02T13:09:50.650Z"
   },
   {
    "duration": 39,
    "start_time": "2022-10-02T13:09:50.661Z"
   },
   {
    "duration": 5,
    "start_time": "2022-10-02T13:09:50.702Z"
   },
   {
    "duration": 4,
    "start_time": "2022-10-02T13:09:50.708Z"
   },
   {
    "duration": 24,
    "start_time": "2022-10-02T13:09:50.714Z"
   },
   {
    "duration": 260,
    "start_time": "2022-10-02T13:09:50.740Z"
   },
   {
    "duration": 6,
    "start_time": "2022-10-02T13:09:51.002Z"
   },
   {
    "duration": 277,
    "start_time": "2022-10-02T13:09:51.010Z"
   },
   {
    "duration": 14,
    "start_time": "2022-10-02T13:09:51.289Z"
   },
   {
    "duration": 197,
    "start_time": "2022-10-02T13:09:51.304Z"
   },
   {
    "duration": 8,
    "start_time": "2022-10-02T13:09:51.503Z"
   },
   {
    "duration": 177,
    "start_time": "2022-10-02T13:09:51.512Z"
   },
   {
    "duration": 15,
    "start_time": "2022-10-02T13:09:51.691Z"
   },
   {
    "duration": 451,
    "start_time": "2022-10-02T13:09:51.707Z"
   },
   {
    "duration": 8,
    "start_time": "2022-10-02T13:09:52.160Z"
   },
   {
    "duration": 152,
    "start_time": "2022-10-02T13:09:52.169Z"
   },
   {
    "duration": 7,
    "start_time": "2022-10-02T13:09:52.327Z"
   },
   {
    "duration": 141,
    "start_time": "2022-10-02T13:09:52.336Z"
   },
   {
    "duration": 8,
    "start_time": "2022-10-02T13:09:52.478Z"
   },
   {
    "duration": 145,
    "start_time": "2022-10-02T13:09:52.487Z"
   },
   {
    "duration": 8,
    "start_time": "2022-10-02T13:09:52.634Z"
   },
   {
    "duration": 277,
    "start_time": "2022-10-02T13:09:52.643Z"
   },
   {
    "duration": 6,
    "start_time": "2022-10-02T13:09:52.921Z"
   },
   {
    "duration": 592,
    "start_time": "2022-10-02T13:09:52.929Z"
   },
   {
    "duration": 8,
    "start_time": "2022-10-02T13:09:53.522Z"
   },
   {
    "duration": 8,
    "start_time": "2022-10-02T13:09:53.532Z"
   },
   {
    "duration": 8,
    "start_time": "2022-10-02T13:09:53.541Z"
   },
   {
    "duration": 382,
    "start_time": "2022-10-02T13:09:53.550Z"
   },
   {
    "duration": 67,
    "start_time": "2022-10-02T13:09:53.934Z"
   },
   {
    "duration": 4,
    "start_time": "2022-10-02T13:09:54.003Z"
   },
   {
    "duration": 13,
    "start_time": "2022-10-02T13:09:54.009Z"
   },
   {
    "duration": 340,
    "start_time": "2022-10-02T13:09:54.024Z"
   },
   {
    "duration": 8,
    "start_time": "2022-10-02T13:09:54.366Z"
   },
   {
    "duration": 5,
    "start_time": "2022-10-02T13:09:54.401Z"
   },
   {
    "duration": 16,
    "start_time": "2022-10-02T13:09:54.408Z"
   },
   {
    "duration": 206,
    "start_time": "2022-10-02T13:09:54.426Z"
   },
   {
    "duration": 9,
    "start_time": "2022-10-02T13:09:54.634Z"
   },
   {
    "duration": 172,
    "start_time": "2022-10-02T13:09:54.645Z"
   },
   {
    "duration": 6,
    "start_time": "2022-10-02T13:09:54.818Z"
   },
   {
    "duration": 139,
    "start_time": "2022-10-02T13:09:54.826Z"
   },
   {
    "duration": 6,
    "start_time": "2022-10-02T13:09:54.967Z"
   },
   {
    "duration": 7,
    "start_time": "2022-10-02T13:09:54.974Z"
   },
   {
    "duration": 169,
    "start_time": "2022-10-02T13:09:54.983Z"
   },
   {
    "duration": 256,
    "start_time": "2022-10-02T13:09:55.154Z"
   },
   {
    "duration": 148,
    "start_time": "2022-10-02T13:09:55.412Z"
   },
   {
    "duration": 9,
    "start_time": "2022-10-02T13:09:55.562Z"
   },
   {
    "duration": 630,
    "start_time": "2022-10-02T13:09:55.572Z"
   },
   {
    "duration": 110,
    "start_time": "2022-10-02T13:09:56.204Z"
   },
   {
    "duration": 11,
    "start_time": "2022-10-02T13:09:56.316Z"
   },
   {
    "duration": 138,
    "start_time": "2022-10-02T13:09:56.329Z"
   },
   {
    "duration": 12,
    "start_time": "2022-10-02T13:09:56.468Z"
   },
   {
    "duration": 131,
    "start_time": "2022-10-02T13:09:56.482Z"
   },
   {
    "duration": 11,
    "start_time": "2022-10-02T13:09:56.614Z"
   },
   {
    "duration": 139,
    "start_time": "2022-10-02T13:09:56.627Z"
   },
   {
    "duration": 13,
    "start_time": "2022-10-02T13:09:56.768Z"
   },
   {
    "duration": 174,
    "start_time": "2022-10-02T13:09:56.782Z"
   },
   {
    "duration": 11,
    "start_time": "2022-10-02T13:09:56.957Z"
   },
   {
    "duration": 152,
    "start_time": "2022-10-02T13:09:56.970Z"
   },
   {
    "duration": 16,
    "start_time": "2022-10-02T13:09:57.124Z"
   },
   {
    "duration": 483,
    "start_time": "2022-10-02T13:09:57.142Z"
   },
   {
    "duration": 22,
    "start_time": "2022-10-02T13:09:57.626Z"
   },
   {
    "duration": 157,
    "start_time": "2022-10-02T13:09:57.650Z"
   },
   {
    "duration": 21,
    "start_time": "2022-10-02T13:09:57.809Z"
   },
   {
    "duration": 7,
    "start_time": "2022-10-02T13:09:57.832Z"
   },
   {
    "duration": 9,
    "start_time": "2022-10-02T13:09:57.840Z"
   },
   {
    "duration": 13,
    "start_time": "2022-10-02T13:09:57.851Z"
   },
   {
    "duration": 5,
    "start_time": "2022-10-02T13:09:57.866Z"
   },
   {
    "duration": 29,
    "start_time": "2022-10-02T13:09:57.873Z"
   },
   {
    "duration": 180,
    "start_time": "2022-10-02T13:09:57.904Z"
   },
   {
    "duration": 27,
    "start_time": "2022-10-02T13:10:18.541Z"
   },
   {
    "duration": 756,
    "start_time": "2022-10-02T13:10:45.514Z"
   },
   {
    "duration": 5,
    "start_time": "2022-10-02T13:11:12.653Z"
   },
   {
    "duration": 607,
    "start_time": "2022-10-02T13:11:30.077Z"
   },
   {
    "duration": 57,
    "start_time": "2022-10-02T13:11:30.686Z"
   },
   {
    "duration": 14,
    "start_time": "2022-10-02T13:11:30.744Z"
   },
   {
    "duration": 99,
    "start_time": "2022-10-02T13:11:30.761Z"
   },
   {
    "duration": 2101,
    "start_time": "2022-10-02T13:11:30.862Z"
   },
   {
    "duration": 9,
    "start_time": "2022-10-02T13:11:32.965Z"
   },
   {
    "duration": 4,
    "start_time": "2022-10-02T13:11:32.975Z"
   },
   {
    "duration": 11,
    "start_time": "2022-10-02T13:11:32.980Z"
   },
   {
    "duration": 7,
    "start_time": "2022-10-02T13:11:32.993Z"
   },
   {
    "duration": 8,
    "start_time": "2022-10-02T13:11:33.003Z"
   },
   {
    "duration": 10,
    "start_time": "2022-10-02T13:11:33.013Z"
   },
   {
    "duration": 27,
    "start_time": "2022-10-02T13:11:33.025Z"
   },
   {
    "duration": 5,
    "start_time": "2022-10-02T13:11:33.054Z"
   },
   {
    "duration": 6,
    "start_time": "2022-10-02T13:11:33.061Z"
   },
   {
    "duration": 36,
    "start_time": "2022-10-02T13:11:33.068Z"
   },
   {
    "duration": 6,
    "start_time": "2022-10-02T13:11:33.106Z"
   },
   {
    "duration": 6,
    "start_time": "2022-10-02T13:11:33.114Z"
   },
   {
    "duration": 6,
    "start_time": "2022-10-02T13:11:33.121Z"
   },
   {
    "duration": 34,
    "start_time": "2022-10-02T13:11:33.128Z"
   },
   {
    "duration": 36,
    "start_time": "2022-10-02T13:11:33.164Z"
   },
   {
    "duration": 6,
    "start_time": "2022-10-02T13:11:33.202Z"
   },
   {
    "duration": 5,
    "start_time": "2022-10-02T13:11:33.210Z"
   },
   {
    "duration": 10,
    "start_time": "2022-10-02T13:11:33.217Z"
   },
   {
    "duration": 13,
    "start_time": "2022-10-02T13:11:33.229Z"
   },
   {
    "duration": 575,
    "start_time": "2022-10-02T13:11:33.244Z"
   },
   {
    "duration": 18,
    "start_time": "2022-10-02T13:11:33.821Z"
   },
   {
    "duration": 6,
    "start_time": "2022-10-02T13:11:33.840Z"
   },
   {
    "duration": 150,
    "start_time": "2022-10-02T13:11:33.852Z"
   },
   {
    "duration": 9,
    "start_time": "2022-10-02T13:11:34.003Z"
   },
   {
    "duration": 136,
    "start_time": "2022-10-02T13:11:34.014Z"
   },
   {
    "duration": 11,
    "start_time": "2022-10-02T13:11:34.152Z"
   },
   {
    "duration": 26,
    "start_time": "2022-10-02T13:11:34.164Z"
   },
   {
    "duration": 7,
    "start_time": "2022-10-02T13:11:34.192Z"
   },
   {
    "duration": 9,
    "start_time": "2022-10-02T13:11:34.201Z"
   },
   {
    "duration": 24,
    "start_time": "2022-10-02T13:11:34.211Z"
   },
   {
    "duration": 12,
    "start_time": "2022-10-02T13:11:34.236Z"
   },
   {
    "duration": 117,
    "start_time": "2022-10-02T13:11:34.250Z"
   },
   {
    "duration": 298,
    "start_time": "2022-10-02T13:11:34.369Z"
   },
   {
    "duration": 8,
    "start_time": "2022-10-02T13:11:34.669Z"
   },
   {
    "duration": 22,
    "start_time": "2022-10-02T13:11:34.678Z"
   },
   {
    "duration": 30,
    "start_time": "2022-10-02T13:11:34.702Z"
   },
   {
    "duration": 9,
    "start_time": "2022-10-02T13:11:34.734Z"
   },
   {
    "duration": 11,
    "start_time": "2022-10-02T13:11:34.744Z"
   },
   {
    "duration": 5,
    "start_time": "2022-10-02T13:11:34.756Z"
   },
   {
    "duration": 4,
    "start_time": "2022-10-02T13:11:34.763Z"
   },
   {
    "duration": 145,
    "start_time": "2022-10-02T13:11:34.768Z"
   },
   {
    "duration": 183,
    "start_time": "2022-10-02T13:11:34.914Z"
   },
   {
    "duration": 10,
    "start_time": "2022-10-02T13:11:35.098Z"
   },
   {
    "duration": 129,
    "start_time": "2022-10-02T13:11:35.110Z"
   },
   {
    "duration": 155,
    "start_time": "2022-10-02T13:11:35.242Z"
   },
   {
    "duration": 10,
    "start_time": "2022-10-02T13:11:35.402Z"
   },
   {
    "duration": 4,
    "start_time": "2022-10-02T13:11:35.414Z"
   },
   {
    "duration": 19,
    "start_time": "2022-10-02T13:11:35.419Z"
   },
   {
    "duration": 6,
    "start_time": "2022-10-02T13:11:35.440Z"
   },
   {
    "duration": 6,
    "start_time": "2022-10-02T13:11:35.448Z"
   },
   {
    "duration": 19,
    "start_time": "2022-10-02T13:11:35.456Z"
   },
   {
    "duration": 24,
    "start_time": "2022-10-02T13:11:35.477Z"
   },
   {
    "duration": 6,
    "start_time": "2022-10-02T13:11:35.503Z"
   },
   {
    "duration": 186,
    "start_time": "2022-10-02T13:11:35.511Z"
   },
   {
    "duration": 6,
    "start_time": "2022-10-02T13:11:35.700Z"
   },
   {
    "duration": 7,
    "start_time": "2022-10-02T13:11:35.709Z"
   },
   {
    "duration": 13,
    "start_time": "2022-10-02T13:11:35.717Z"
   },
   {
    "duration": 4,
    "start_time": "2022-10-02T13:11:35.732Z"
   },
   {
    "duration": 15,
    "start_time": "2022-10-02T13:11:35.737Z"
   },
   {
    "duration": 4,
    "start_time": "2022-10-02T13:11:35.754Z"
   },
   {
    "duration": 14,
    "start_time": "2022-10-02T13:11:35.759Z"
   },
   {
    "duration": 28,
    "start_time": "2022-10-02T13:11:35.774Z"
   },
   {
    "duration": 6,
    "start_time": "2022-10-02T13:11:35.803Z"
   },
   {
    "duration": 4,
    "start_time": "2022-10-02T13:11:35.810Z"
   },
   {
    "duration": 24,
    "start_time": "2022-10-02T13:11:35.815Z"
   },
   {
    "duration": 262,
    "start_time": "2022-10-02T13:11:35.840Z"
   },
   {
    "duration": 6,
    "start_time": "2022-10-02T13:11:36.103Z"
   },
   {
    "duration": 268,
    "start_time": "2022-10-02T13:11:36.111Z"
   },
   {
    "duration": 8,
    "start_time": "2022-10-02T13:11:36.381Z"
   },
   {
    "duration": 172,
    "start_time": "2022-10-02T13:11:36.391Z"
   },
   {
    "duration": 8,
    "start_time": "2022-10-02T13:11:36.565Z"
   },
   {
    "duration": 190,
    "start_time": "2022-10-02T13:11:36.575Z"
   },
   {
    "duration": 8,
    "start_time": "2022-10-02T13:11:36.767Z"
   },
   {
    "duration": 467,
    "start_time": "2022-10-02T13:11:36.777Z"
   },
   {
    "duration": 9,
    "start_time": "2022-10-02T13:11:37.245Z"
   },
   {
    "duration": 158,
    "start_time": "2022-10-02T13:11:37.255Z"
   },
   {
    "duration": 9,
    "start_time": "2022-10-02T13:11:37.420Z"
   },
   {
    "duration": 165,
    "start_time": "2022-10-02T13:11:37.431Z"
   },
   {
    "duration": 8,
    "start_time": "2022-10-02T13:11:37.601Z"
   },
   {
    "duration": 136,
    "start_time": "2022-10-02T13:11:37.611Z"
   },
   {
    "duration": 9,
    "start_time": "2022-10-02T13:11:37.749Z"
   },
   {
    "duration": 140,
    "start_time": "2022-10-02T13:11:37.760Z"
   },
   {
    "duration": 8,
    "start_time": "2022-10-02T13:11:37.902Z"
   },
   {
    "duration": 301,
    "start_time": "2022-10-02T13:11:37.912Z"
   },
   {
    "duration": 9,
    "start_time": "2022-10-02T13:11:38.215Z"
   },
   {
    "duration": 5,
    "start_time": "2022-10-02T13:11:38.226Z"
   },
   {
    "duration": 9,
    "start_time": "2022-10-02T13:11:38.232Z"
   },
   {
    "duration": 199,
    "start_time": "2022-10-02T13:11:38.242Z"
   },
   {
    "duration": 9,
    "start_time": "2022-10-02T13:11:38.443Z"
   },
   {
    "duration": 6,
    "start_time": "2022-10-02T13:11:38.453Z"
   },
   {
    "duration": 8,
    "start_time": "2022-10-02T13:11:38.460Z"
   },
   {
    "duration": 210,
    "start_time": "2022-10-02T13:11:38.469Z"
   },
   {
    "duration": 10,
    "start_time": "2022-10-02T13:11:38.680Z"
   },
   {
    "duration": 13,
    "start_time": "2022-10-02T13:11:38.691Z"
   },
   {
    "duration": 8,
    "start_time": "2022-10-02T13:11:38.705Z"
   },
   {
    "duration": 175,
    "start_time": "2022-10-02T13:11:38.714Z"
   },
   {
    "duration": 16,
    "start_time": "2022-10-02T13:11:38.891Z"
   },
   {
    "duration": 170,
    "start_time": "2022-10-02T13:11:38.909Z"
   },
   {
    "duration": 6,
    "start_time": "2022-10-02T13:11:39.081Z"
   },
   {
    "duration": 157,
    "start_time": "2022-10-02T13:11:39.089Z"
   },
   {
    "duration": 7,
    "start_time": "2022-10-02T13:11:39.247Z"
   },
   {
    "duration": 7,
    "start_time": "2022-10-02T13:11:39.256Z"
   },
   {
    "duration": 175,
    "start_time": "2022-10-02T13:11:39.265Z"
   },
   {
    "duration": 251,
    "start_time": "2022-10-02T13:11:39.442Z"
   },
   {
    "duration": 142,
    "start_time": "2022-10-02T13:11:39.694Z"
   },
   {
    "duration": 8,
    "start_time": "2022-10-02T13:11:39.837Z"
   },
   {
    "duration": 667,
    "start_time": "2022-10-02T13:11:39.847Z"
   },
   {
    "duration": 211,
    "start_time": "2022-10-02T13:11:40.516Z"
   },
   {
    "duration": 12,
    "start_time": "2022-10-02T13:11:40.729Z"
   },
   {
    "duration": 295,
    "start_time": "2022-10-02T13:11:40.743Z"
   },
   {
    "duration": 69,
    "start_time": "2022-10-02T13:11:41.040Z"
   },
   {
    "duration": 233,
    "start_time": "2022-10-02T13:11:41.110Z"
   },
   {
    "duration": 65,
    "start_time": "2022-10-02T13:11:41.345Z"
   },
   {
    "duration": 324,
    "start_time": "2022-10-02T13:11:41.412Z"
   },
   {
    "duration": 68,
    "start_time": "2022-10-02T13:11:41.737Z"
   },
   {
    "duration": 312,
    "start_time": "2022-10-02T13:11:41.806Z"
   },
   {
    "duration": 11,
    "start_time": "2022-10-02T13:11:42.120Z"
   },
   {
    "duration": 270,
    "start_time": "2022-10-02T13:11:42.132Z"
   },
   {
    "duration": 16,
    "start_time": "2022-10-02T13:11:42.404Z"
   },
   {
    "duration": 479,
    "start_time": "2022-10-02T13:11:42.421Z"
   },
   {
    "duration": 21,
    "start_time": "2022-10-02T13:11:42.902Z"
   },
   {
    "duration": 154,
    "start_time": "2022-10-02T13:11:42.925Z"
   },
   {
    "duration": 28,
    "start_time": "2022-10-02T13:11:43.081Z"
   },
   {
    "duration": 7,
    "start_time": "2022-10-02T13:11:43.111Z"
   },
   {
    "duration": 10,
    "start_time": "2022-10-02T13:11:43.119Z"
   },
   {
    "duration": 12,
    "start_time": "2022-10-02T13:11:43.131Z"
   },
   {
    "duration": 5,
    "start_time": "2022-10-02T13:11:43.144Z"
   },
   {
    "duration": 6,
    "start_time": "2022-10-02T13:11:43.150Z"
   },
   {
    "duration": 193,
    "start_time": "2022-10-02T13:11:43.158Z"
   },
   {
    "duration": 13,
    "start_time": "2022-10-02T13:13:43.852Z"
   },
   {
    "duration": 137,
    "start_time": "2022-10-02T13:13:55.017Z"
   },
   {
    "duration": 32,
    "start_time": "2022-10-02T13:13:55.156Z"
   },
   {
    "duration": 14,
    "start_time": "2022-10-02T13:13:55.200Z"
   },
   {
    "duration": 67,
    "start_time": "2022-10-02T13:13:55.216Z"
   },
   {
    "duration": 1760,
    "start_time": "2022-10-02T13:13:55.300Z"
   },
   {
    "duration": 9,
    "start_time": "2022-10-02T13:13:57.061Z"
   },
   {
    "duration": 7,
    "start_time": "2022-10-02T13:13:57.072Z"
   },
   {
    "duration": 8,
    "start_time": "2022-10-02T13:13:57.081Z"
   },
   {
    "duration": 4,
    "start_time": "2022-10-02T13:13:57.101Z"
   },
   {
    "duration": 5,
    "start_time": "2022-10-02T13:13:57.107Z"
   },
   {
    "duration": 12,
    "start_time": "2022-10-02T13:13:57.113Z"
   },
   {
    "duration": 22,
    "start_time": "2022-10-02T13:13:57.127Z"
   },
   {
    "duration": 5,
    "start_time": "2022-10-02T13:13:57.150Z"
   },
   {
    "duration": 7,
    "start_time": "2022-10-02T13:13:57.156Z"
   },
   {
    "duration": 10,
    "start_time": "2022-10-02T13:13:57.164Z"
   },
   {
    "duration": 30,
    "start_time": "2022-10-02T13:13:57.175Z"
   },
   {
    "duration": 9,
    "start_time": "2022-10-02T13:13:57.206Z"
   },
   {
    "duration": 4,
    "start_time": "2022-10-02T13:13:57.217Z"
   },
   {
    "duration": 25,
    "start_time": "2022-10-02T13:13:57.223Z"
   },
   {
    "duration": 12,
    "start_time": "2022-10-02T13:13:57.249Z"
   },
   {
    "duration": 7,
    "start_time": "2022-10-02T13:13:57.263Z"
   },
   {
    "duration": 30,
    "start_time": "2022-10-02T13:13:57.272Z"
   },
   {
    "duration": 11,
    "start_time": "2022-10-02T13:13:57.304Z"
   },
   {
    "duration": 9,
    "start_time": "2022-10-02T13:13:57.317Z"
   },
   {
    "duration": 560,
    "start_time": "2022-10-02T13:13:57.327Z"
   },
   {
    "duration": 24,
    "start_time": "2022-10-02T13:13:57.889Z"
   },
   {
    "duration": 5,
    "start_time": "2022-10-02T13:13:57.915Z"
   },
   {
    "duration": 149,
    "start_time": "2022-10-02T13:13:57.923Z"
   },
   {
    "duration": 9,
    "start_time": "2022-10-02T13:13:58.074Z"
   },
   {
    "duration": 124,
    "start_time": "2022-10-02T13:13:58.084Z"
   },
   {
    "duration": 8,
    "start_time": "2022-10-02T13:13:58.210Z"
   },
   {
    "duration": 5,
    "start_time": "2022-10-02T13:13:58.219Z"
   },
   {
    "duration": 486,
    "start_time": "2022-10-02T13:14:13.248Z"
   },
   {
    "duration": 37,
    "start_time": "2022-10-02T13:14:13.736Z"
   },
   {
    "duration": 30,
    "start_time": "2022-10-02T13:14:13.775Z"
   },
   {
    "duration": 65,
    "start_time": "2022-10-02T13:14:13.807Z"
   },
   {
    "duration": 2170,
    "start_time": "2022-10-02T13:14:13.873Z"
   },
   {
    "duration": 10,
    "start_time": "2022-10-02T13:14:16.045Z"
   },
   {
    "duration": 3,
    "start_time": "2022-10-02T13:14:16.056Z"
   },
   {
    "duration": 10,
    "start_time": "2022-10-02T13:14:16.061Z"
   },
   {
    "duration": 7,
    "start_time": "2022-10-02T13:14:16.072Z"
   },
   {
    "duration": 7,
    "start_time": "2022-10-02T13:14:16.082Z"
   },
   {
    "duration": 14,
    "start_time": "2022-10-02T13:14:16.090Z"
   },
   {
    "duration": 25,
    "start_time": "2022-10-02T13:14:16.105Z"
   },
   {
    "duration": 6,
    "start_time": "2022-10-02T13:14:16.131Z"
   },
   {
    "duration": 5,
    "start_time": "2022-10-02T13:14:16.138Z"
   },
   {
    "duration": 10,
    "start_time": "2022-10-02T13:14:16.144Z"
   },
   {
    "duration": 7,
    "start_time": "2022-10-02T13:14:16.156Z"
   },
   {
    "duration": 6,
    "start_time": "2022-10-02T13:14:16.165Z"
   },
   {
    "duration": 28,
    "start_time": "2022-10-02T13:14:16.172Z"
   },
   {
    "duration": 25,
    "start_time": "2022-10-02T13:14:16.202Z"
   },
   {
    "duration": 12,
    "start_time": "2022-10-02T13:14:16.228Z"
   },
   {
    "duration": 6,
    "start_time": "2022-10-02T13:14:16.241Z"
   },
   {
    "duration": 5,
    "start_time": "2022-10-02T13:14:16.248Z"
   },
   {
    "duration": 10,
    "start_time": "2022-10-02T13:14:16.255Z"
   },
   {
    "duration": 6,
    "start_time": "2022-10-02T13:14:16.266Z"
   },
   {
    "duration": 517,
    "start_time": "2022-10-02T13:14:16.300Z"
   },
   {
    "duration": 18,
    "start_time": "2022-10-02T13:14:16.819Z"
   },
   {
    "duration": 5,
    "start_time": "2022-10-02T13:14:16.839Z"
   },
   {
    "duration": 144,
    "start_time": "2022-10-02T13:14:16.851Z"
   },
   {
    "duration": 9,
    "start_time": "2022-10-02T13:14:16.999Z"
   },
   {
    "duration": 122,
    "start_time": "2022-10-02T13:14:17.010Z"
   },
   {
    "duration": 8,
    "start_time": "2022-10-02T13:14:17.134Z"
   },
   {
    "duration": 6,
    "start_time": "2022-10-02T13:14:17.143Z"
   },
   {
    "duration": 50,
    "start_time": "2022-10-02T13:14:17.150Z"
   },
   {
    "duration": 5,
    "start_time": "2022-10-02T13:14:17.202Z"
   },
   {
    "duration": 18,
    "start_time": "2022-10-02T13:14:17.208Z"
   },
   {
    "duration": 9,
    "start_time": "2022-10-02T13:14:17.228Z"
   },
   {
    "duration": 124,
    "start_time": "2022-10-02T13:14:17.239Z"
   },
   {
    "duration": 228,
    "start_time": "2022-10-02T13:14:17.365Z"
   },
   {
    "duration": 7,
    "start_time": "2022-10-02T13:14:17.600Z"
   },
   {
    "duration": 12,
    "start_time": "2022-10-02T13:14:17.608Z"
   },
   {
    "duration": 32,
    "start_time": "2022-10-02T13:14:17.622Z"
   },
   {
    "duration": 9,
    "start_time": "2022-10-02T13:14:17.656Z"
   },
   {
    "duration": 9,
    "start_time": "2022-10-02T13:14:17.666Z"
   },
   {
    "duration": 5,
    "start_time": "2022-10-02T13:14:17.700Z"
   },
   {
    "duration": 9,
    "start_time": "2022-10-02T13:14:17.707Z"
   },
   {
    "duration": 116,
    "start_time": "2022-10-02T13:14:17.718Z"
   },
   {
    "duration": 183,
    "start_time": "2022-10-02T13:14:17.835Z"
   },
   {
    "duration": 10,
    "start_time": "2022-10-02T13:14:18.019Z"
   },
   {
    "duration": 117,
    "start_time": "2022-10-02T13:14:18.030Z"
   },
   {
    "duration": 152,
    "start_time": "2022-10-02T13:14:18.148Z"
   },
   {
    "duration": 9,
    "start_time": "2022-10-02T13:14:18.302Z"
   },
   {
    "duration": 10,
    "start_time": "2022-10-02T13:14:18.313Z"
   },
   {
    "duration": 8,
    "start_time": "2022-10-02T13:14:18.325Z"
   },
   {
    "duration": 5,
    "start_time": "2022-10-02T13:14:18.335Z"
   },
   {
    "duration": 19,
    "start_time": "2022-10-02T13:14:18.342Z"
   },
   {
    "duration": 5,
    "start_time": "2022-10-02T13:14:18.363Z"
   },
   {
    "duration": 6,
    "start_time": "2022-10-02T13:14:18.370Z"
   },
   {
    "duration": 25,
    "start_time": "2022-10-02T13:14:18.377Z"
   },
   {
    "duration": 188,
    "start_time": "2022-10-02T13:14:18.403Z"
   },
   {
    "duration": 9,
    "start_time": "2022-10-02T13:14:18.593Z"
   },
   {
    "duration": 6,
    "start_time": "2022-10-02T13:14:18.604Z"
   },
   {
    "duration": 12,
    "start_time": "2022-10-02T13:14:18.612Z"
   },
   {
    "duration": 4,
    "start_time": "2022-10-02T13:14:18.626Z"
   },
   {
    "duration": 8,
    "start_time": "2022-10-02T13:14:18.632Z"
   },
   {
    "duration": 3,
    "start_time": "2022-10-02T13:14:18.642Z"
   },
   {
    "duration": 10,
    "start_time": "2022-10-02T13:14:18.647Z"
   },
   {
    "duration": 42,
    "start_time": "2022-10-02T13:14:18.658Z"
   },
   {
    "duration": 4,
    "start_time": "2022-10-02T13:14:18.702Z"
   },
   {
    "duration": 6,
    "start_time": "2022-10-02T13:14:18.708Z"
   },
   {
    "duration": 27,
    "start_time": "2022-10-02T13:14:18.715Z"
   },
   {
    "duration": 239,
    "start_time": "2022-10-02T13:14:18.744Z"
   },
   {
    "duration": 5,
    "start_time": "2022-10-02T13:14:18.985Z"
   },
   {
    "duration": 244,
    "start_time": "2022-10-02T13:14:18.992Z"
   },
   {
    "duration": 8,
    "start_time": "2022-10-02T13:14:19.237Z"
   },
   {
    "duration": 171,
    "start_time": "2022-10-02T13:14:19.247Z"
   },
   {
    "duration": 8,
    "start_time": "2022-10-02T13:14:19.420Z"
   },
   {
    "duration": 188,
    "start_time": "2022-10-02T13:14:19.429Z"
   },
   {
    "duration": 8,
    "start_time": "2022-10-02T13:14:19.619Z"
   },
   {
    "duration": 437,
    "start_time": "2022-10-02T13:14:19.628Z"
   },
   {
    "duration": 8,
    "start_time": "2022-10-02T13:14:20.067Z"
   },
   {
    "duration": 170,
    "start_time": "2022-10-02T13:14:20.076Z"
   },
   {
    "duration": 9,
    "start_time": "2022-10-02T13:14:20.254Z"
   },
   {
    "duration": 148,
    "start_time": "2022-10-02T13:14:20.264Z"
   },
   {
    "duration": 7,
    "start_time": "2022-10-02T13:14:20.414Z"
   },
   {
    "duration": 128,
    "start_time": "2022-10-02T13:14:20.423Z"
   },
   {
    "duration": 8,
    "start_time": "2022-10-02T13:14:20.552Z"
   },
   {
    "duration": 132,
    "start_time": "2022-10-02T13:14:20.561Z"
   },
   {
    "duration": 7,
    "start_time": "2022-10-02T13:14:20.699Z"
   },
   {
    "duration": 283,
    "start_time": "2022-10-02T13:14:20.707Z"
   },
   {
    "duration": 14,
    "start_time": "2022-10-02T13:14:20.992Z"
   },
   {
    "duration": 24,
    "start_time": "2022-10-02T13:14:21.007Z"
   },
   {
    "duration": 18,
    "start_time": "2022-10-02T13:14:21.032Z"
   },
   {
    "duration": 185,
    "start_time": "2022-10-02T13:14:21.052Z"
   },
   {
    "duration": 9,
    "start_time": "2022-10-02T13:14:21.239Z"
   },
   {
    "duration": 25,
    "start_time": "2022-10-02T13:14:21.250Z"
   },
   {
    "duration": 40,
    "start_time": "2022-10-02T13:14:21.277Z"
   },
   {
    "duration": 186,
    "start_time": "2022-10-02T13:14:21.319Z"
   },
   {
    "duration": 8,
    "start_time": "2022-10-02T13:14:21.507Z"
   },
   {
    "duration": 8,
    "start_time": "2022-10-02T13:14:21.517Z"
   },
   {
    "duration": 28,
    "start_time": "2022-10-02T13:14:21.527Z"
   },
   {
    "duration": 167,
    "start_time": "2022-10-02T13:14:21.557Z"
   },
   {
    "duration": 9,
    "start_time": "2022-10-02T13:14:21.725Z"
   },
   {
    "duration": 155,
    "start_time": "2022-10-02T13:14:21.735Z"
   },
   {
    "duration": 8,
    "start_time": "2022-10-02T13:14:21.892Z"
   },
   {
    "duration": 145,
    "start_time": "2022-10-02T13:14:21.902Z"
   },
   {
    "duration": 6,
    "start_time": "2022-10-02T13:14:22.049Z"
   },
   {
    "duration": 19,
    "start_time": "2022-10-02T13:14:22.056Z"
   },
   {
    "duration": 185,
    "start_time": "2022-10-02T13:14:22.077Z"
   },
   {
    "duration": 254,
    "start_time": "2022-10-02T13:14:22.264Z"
   },
   {
    "duration": 144,
    "start_time": "2022-10-02T13:14:22.519Z"
   },
   {
    "duration": 7,
    "start_time": "2022-10-02T13:14:22.665Z"
   },
   {
    "duration": 630,
    "start_time": "2022-10-02T13:14:22.674Z"
   },
   {
    "duration": 113,
    "start_time": "2022-10-02T13:14:23.306Z"
   },
   {
    "duration": 11,
    "start_time": "2022-10-02T13:14:23.421Z"
   },
   {
    "duration": 160,
    "start_time": "2022-10-02T13:14:23.434Z"
   },
   {
    "duration": 13,
    "start_time": "2022-10-02T13:14:23.599Z"
   },
   {
    "duration": 132,
    "start_time": "2022-10-02T13:14:23.613Z"
   },
   {
    "duration": 12,
    "start_time": "2022-10-02T13:14:23.747Z"
   },
   {
    "duration": 141,
    "start_time": "2022-10-02T13:14:23.760Z"
   },
   {
    "duration": 11,
    "start_time": "2022-10-02T13:14:23.903Z"
   },
   {
    "duration": 158,
    "start_time": "2022-10-02T13:14:23.915Z"
   },
   {
    "duration": 25,
    "start_time": "2022-10-02T13:14:24.075Z"
   },
   {
    "duration": 168,
    "start_time": "2022-10-02T13:14:24.101Z"
   },
   {
    "duration": 14,
    "start_time": "2022-10-02T13:14:24.271Z"
   },
   {
    "duration": 959,
    "start_time": "2022-10-02T13:14:24.287Z"
   },
   {
    "duration": 28,
    "start_time": "2022-10-02T13:14:25.299Z"
   },
   {
    "duration": 317,
    "start_time": "2022-10-02T13:14:25.328Z"
   },
   {
    "duration": 72,
    "start_time": "2022-10-02T13:14:25.647Z"
   },
   {
    "duration": 83,
    "start_time": "2022-10-02T13:14:25.720Z"
   },
   {
    "duration": 9,
    "start_time": "2022-10-02T13:14:25.805Z"
   },
   {
    "duration": 12,
    "start_time": "2022-10-02T13:14:25.815Z"
   },
   {
    "duration": 4,
    "start_time": "2022-10-02T13:14:25.828Z"
   },
   {
    "duration": 5,
    "start_time": "2022-10-02T13:14:25.834Z"
   },
   {
    "duration": 311,
    "start_time": "2022-10-02T13:14:25.840Z"
   },
   {
    "duration": 532,
    "start_time": "2022-10-02T13:15:39.551Z"
   },
   {
    "duration": 38,
    "start_time": "2022-10-02T13:15:40.084Z"
   },
   {
    "duration": 14,
    "start_time": "2022-10-02T13:15:40.123Z"
   },
   {
    "duration": 89,
    "start_time": "2022-10-02T13:15:40.139Z"
   },
   {
    "duration": 2037,
    "start_time": "2022-10-02T13:15:40.230Z"
   },
   {
    "duration": 9,
    "start_time": "2022-10-02T13:15:42.270Z"
   },
   {
    "duration": 4,
    "start_time": "2022-10-02T13:15:42.280Z"
   },
   {
    "duration": 6,
    "start_time": "2022-10-02T13:15:42.286Z"
   },
   {
    "duration": 7,
    "start_time": "2022-10-02T13:15:42.293Z"
   },
   {
    "duration": 4,
    "start_time": "2022-10-02T13:15:42.302Z"
   },
   {
    "duration": 10,
    "start_time": "2022-10-02T13:15:42.307Z"
   },
   {
    "duration": 26,
    "start_time": "2022-10-02T13:15:42.318Z"
   },
   {
    "duration": 5,
    "start_time": "2022-10-02T13:15:42.345Z"
   },
   {
    "duration": 7,
    "start_time": "2022-10-02T13:15:42.351Z"
   },
   {
    "duration": 10,
    "start_time": "2022-10-02T13:15:42.360Z"
   },
   {
    "duration": 7,
    "start_time": "2022-10-02T13:15:42.371Z"
   },
   {
    "duration": 21,
    "start_time": "2022-10-02T13:15:42.379Z"
   },
   {
    "duration": 3,
    "start_time": "2022-10-02T13:15:42.402Z"
   },
   {
    "duration": 27,
    "start_time": "2022-10-02T13:15:42.407Z"
   },
   {
    "duration": 12,
    "start_time": "2022-10-02T13:15:42.436Z"
   },
   {
    "duration": 6,
    "start_time": "2022-10-02T13:15:42.450Z"
   },
   {
    "duration": 9,
    "start_time": "2022-10-02T13:15:42.458Z"
   },
   {
    "duration": 40,
    "start_time": "2022-10-02T13:15:42.468Z"
   },
   {
    "duration": 12,
    "start_time": "2022-10-02T13:15:42.510Z"
   },
   {
    "duration": 578,
    "start_time": "2022-10-02T13:15:42.523Z"
   },
   {
    "duration": 18,
    "start_time": "2022-10-02T13:15:43.103Z"
   },
   {
    "duration": 5,
    "start_time": "2022-10-02T13:15:43.122Z"
   },
   {
    "duration": 144,
    "start_time": "2022-10-02T13:15:43.133Z"
   },
   {
    "duration": 21,
    "start_time": "2022-10-02T13:15:43.279Z"
   },
   {
    "duration": 116,
    "start_time": "2022-10-02T13:15:43.301Z"
   },
   {
    "duration": 9,
    "start_time": "2022-10-02T13:15:43.418Z"
   },
   {
    "duration": 6,
    "start_time": "2022-10-02T13:15:43.428Z"
   },
   {
    "duration": 40,
    "start_time": "2022-10-02T13:15:43.436Z"
   },
   {
    "duration": 27,
    "start_time": "2022-10-02T13:15:43.477Z"
   },
   {
    "duration": 7,
    "start_time": "2022-10-02T13:15:43.505Z"
   },
   {
    "duration": 21,
    "start_time": "2022-10-02T13:15:43.513Z"
   },
   {
    "duration": 9,
    "start_time": "2022-10-02T13:15:43.536Z"
   },
   {
    "duration": 113,
    "start_time": "2022-10-02T13:15:43.546Z"
   },
   {
    "duration": 219,
    "start_time": "2022-10-02T13:15:43.661Z"
   },
   {
    "duration": 6,
    "start_time": "2022-10-02T13:15:43.882Z"
   },
   {
    "duration": 18,
    "start_time": "2022-10-02T13:15:43.889Z"
   },
   {
    "duration": 30,
    "start_time": "2022-10-02T13:15:43.908Z"
   },
   {
    "duration": 9,
    "start_time": "2022-10-02T13:15:43.940Z"
   },
   {
    "duration": 8,
    "start_time": "2022-10-02T13:15:43.951Z"
   },
   {
    "duration": 6,
    "start_time": "2022-10-02T13:15:43.960Z"
   },
   {
    "duration": 35,
    "start_time": "2022-10-02T13:15:43.968Z"
   },
   {
    "duration": 123,
    "start_time": "2022-10-02T13:15:44.005Z"
   },
   {
    "duration": 193,
    "start_time": "2022-10-02T13:15:44.130Z"
   },
   {
    "duration": 9,
    "start_time": "2022-10-02T13:15:44.325Z"
   },
   {
    "duration": 130,
    "start_time": "2022-10-02T13:15:44.336Z"
   },
   {
    "duration": 186,
    "start_time": "2022-10-02T13:15:44.468Z"
   },
   {
    "duration": 10,
    "start_time": "2022-10-02T13:15:44.655Z"
   },
   {
    "duration": 4,
    "start_time": "2022-10-02T13:15:44.666Z"
   },
   {
    "duration": 9,
    "start_time": "2022-10-02T13:15:44.672Z"
   },
   {
    "duration": 20,
    "start_time": "2022-10-02T13:15:44.682Z"
   },
   {
    "duration": 5,
    "start_time": "2022-10-02T13:15:44.703Z"
   },
   {
    "duration": 5,
    "start_time": "2022-10-02T13:15:44.710Z"
   },
   {
    "duration": 4,
    "start_time": "2022-10-02T13:15:44.716Z"
   },
   {
    "duration": 7,
    "start_time": "2022-10-02T13:15:44.721Z"
   },
   {
    "duration": 222,
    "start_time": "2022-10-02T13:15:44.730Z"
   },
   {
    "duration": 6,
    "start_time": "2022-10-02T13:15:44.954Z"
   },
   {
    "duration": 6,
    "start_time": "2022-10-02T13:15:44.961Z"
   },
   {
    "duration": 11,
    "start_time": "2022-10-02T13:15:44.968Z"
   },
   {
    "duration": 20,
    "start_time": "2022-10-02T13:15:44.981Z"
   },
   {
    "duration": 10,
    "start_time": "2022-10-02T13:15:45.003Z"
   },
   {
    "duration": 16,
    "start_time": "2022-10-02T13:15:45.015Z"
   },
   {
    "duration": 8,
    "start_time": "2022-10-02T13:15:45.032Z"
   },
   {
    "duration": 7,
    "start_time": "2022-10-02T13:15:45.041Z"
   },
   {
    "duration": 4,
    "start_time": "2022-10-02T13:15:45.050Z"
   },
   {
    "duration": 4,
    "start_time": "2022-10-02T13:15:45.055Z"
   },
   {
    "duration": 22,
    "start_time": "2022-10-02T13:15:45.061Z"
   },
   {
    "duration": 251,
    "start_time": "2022-10-02T13:15:45.085Z"
   },
   {
    "duration": 6,
    "start_time": "2022-10-02T13:15:45.338Z"
   },
   {
    "duration": 279,
    "start_time": "2022-10-02T13:15:45.346Z"
   },
   {
    "duration": 8,
    "start_time": "2022-10-02T13:15:45.626Z"
   },
   {
    "duration": 180,
    "start_time": "2022-10-02T13:15:45.636Z"
   },
   {
    "duration": 9,
    "start_time": "2022-10-02T13:15:45.817Z"
   },
   {
    "duration": 191,
    "start_time": "2022-10-02T13:15:45.827Z"
   },
   {
    "duration": 9,
    "start_time": "2022-10-02T13:15:46.019Z"
   },
   {
    "duration": 448,
    "start_time": "2022-10-02T13:15:46.030Z"
   },
   {
    "duration": 8,
    "start_time": "2022-10-02T13:15:46.479Z"
   },
   {
    "duration": 141,
    "start_time": "2022-10-02T13:15:46.499Z"
   },
   {
    "duration": 7,
    "start_time": "2022-10-02T13:15:46.642Z"
   },
   {
    "duration": 132,
    "start_time": "2022-10-02T13:15:46.650Z"
   },
   {
    "duration": 18,
    "start_time": "2022-10-02T13:15:46.783Z"
   },
   {
    "duration": 121,
    "start_time": "2022-10-02T13:15:46.803Z"
   },
   {
    "duration": 7,
    "start_time": "2022-10-02T13:15:46.925Z"
   },
   {
    "duration": 128,
    "start_time": "2022-10-02T13:15:46.934Z"
   },
   {
    "duration": 6,
    "start_time": "2022-10-02T13:15:47.064Z"
   },
   {
    "duration": 307,
    "start_time": "2022-10-02T13:15:47.072Z"
   },
   {
    "duration": 10,
    "start_time": "2022-10-02T13:15:47.381Z"
   },
   {
    "duration": 7,
    "start_time": "2022-10-02T13:15:47.401Z"
   },
   {
    "duration": 8,
    "start_time": "2022-10-02T13:15:47.410Z"
   },
   {
    "duration": 176,
    "start_time": "2022-10-02T13:15:47.430Z"
   },
   {
    "duration": 9,
    "start_time": "2022-10-02T13:15:47.607Z"
   },
   {
    "duration": 5,
    "start_time": "2022-10-02T13:15:47.618Z"
   },
   {
    "duration": 7,
    "start_time": "2022-10-02T13:15:47.625Z"
   },
   {
    "duration": 188,
    "start_time": "2022-10-02T13:15:47.633Z"
   },
   {
    "duration": 9,
    "start_time": "2022-10-02T13:15:47.823Z"
   },
   {
    "duration": 4,
    "start_time": "2022-10-02T13:15:47.834Z"
   },
   {
    "duration": 6,
    "start_time": "2022-10-02T13:15:47.840Z"
   },
   {
    "duration": 171,
    "start_time": "2022-10-02T13:15:47.848Z"
   },
   {
    "duration": 8,
    "start_time": "2022-10-02T13:15:48.021Z"
   },
   {
    "duration": 154,
    "start_time": "2022-10-02T13:15:48.030Z"
   },
   {
    "duration": 6,
    "start_time": "2022-10-02T13:15:48.185Z"
   },
   {
    "duration": 133,
    "start_time": "2022-10-02T13:15:48.200Z"
   },
   {
    "duration": 6,
    "start_time": "2022-10-02T13:15:48.334Z"
   },
   {
    "duration": 10,
    "start_time": "2022-10-02T13:15:48.342Z"
   },
   {
    "duration": 155,
    "start_time": "2022-10-02T13:15:48.354Z"
   },
   {
    "duration": 229,
    "start_time": "2022-10-02T13:15:48.510Z"
   },
   {
    "duration": 132,
    "start_time": "2022-10-02T13:15:48.740Z"
   },
   {
    "duration": 7,
    "start_time": "2022-10-02T13:15:48.874Z"
   },
   {
    "duration": 603,
    "start_time": "2022-10-02T13:15:48.883Z"
   },
   {
    "duration": 108,
    "start_time": "2022-10-02T13:15:49.488Z"
   },
   {
    "duration": 18,
    "start_time": "2022-10-02T13:15:49.601Z"
   },
   {
    "duration": 139,
    "start_time": "2022-10-02T13:15:49.621Z"
   },
   {
    "duration": 13,
    "start_time": "2022-10-02T13:15:49.762Z"
   },
   {
    "duration": 146,
    "start_time": "2022-10-02T13:15:49.776Z"
   },
   {
    "duration": 11,
    "start_time": "2022-10-02T13:15:49.923Z"
   },
   {
    "duration": 146,
    "start_time": "2022-10-02T13:15:49.936Z"
   },
   {
    "duration": 20,
    "start_time": "2022-10-02T13:15:50.084Z"
   },
   {
    "duration": 177,
    "start_time": "2022-10-02T13:15:50.106Z"
   },
   {
    "duration": 17,
    "start_time": "2022-10-02T13:15:50.285Z"
   },
   {
    "duration": 149,
    "start_time": "2022-10-02T13:15:50.304Z"
   },
   {
    "duration": 16,
    "start_time": "2022-10-02T13:15:50.454Z"
   },
   {
    "duration": 497,
    "start_time": "2022-10-02T13:15:50.471Z"
   },
   {
    "duration": 60,
    "start_time": "2022-10-02T13:15:50.970Z"
   },
   {
    "duration": 307,
    "start_time": "2022-10-02T13:15:51.032Z"
   },
   {
    "duration": 72,
    "start_time": "2022-10-02T13:15:51.340Z"
   },
   {
    "duration": 7,
    "start_time": "2022-10-02T13:15:51.413Z"
   },
   {
    "duration": 18,
    "start_time": "2022-10-02T13:15:51.422Z"
   },
   {
    "duration": 59,
    "start_time": "2022-10-02T13:15:51.442Z"
   },
   {
    "duration": 5,
    "start_time": "2022-10-02T13:15:51.502Z"
   },
   {
    "duration": 10,
    "start_time": "2022-10-02T13:15:51.508Z"
   },
   {
    "duration": 308,
    "start_time": "2022-10-02T13:15:51.519Z"
   },
   {
    "duration": 54,
    "start_time": "2022-10-02T13:18:47.444Z"
   },
   {
    "duration": 568,
    "start_time": "2022-10-02T13:21:25.709Z"
   },
   {
    "duration": 51,
    "start_time": "2022-10-02T13:21:26.279Z"
   },
   {
    "duration": 16,
    "start_time": "2022-10-02T13:21:26.332Z"
   },
   {
    "duration": 108,
    "start_time": "2022-10-02T13:21:26.351Z"
   },
   {
    "duration": 1999,
    "start_time": "2022-10-02T13:21:26.460Z"
   },
   {
    "duration": 10,
    "start_time": "2022-10-02T13:21:28.461Z"
   },
   {
    "duration": 3,
    "start_time": "2022-10-02T13:21:28.473Z"
   },
   {
    "duration": 12,
    "start_time": "2022-10-02T13:21:28.478Z"
   },
   {
    "duration": 21,
    "start_time": "2022-10-02T13:21:28.491Z"
   },
   {
    "duration": 6,
    "start_time": "2022-10-02T13:21:28.514Z"
   },
   {
    "duration": 9,
    "start_time": "2022-10-02T13:21:28.521Z"
   },
   {
    "duration": 26,
    "start_time": "2022-10-02T13:21:28.531Z"
   },
   {
    "duration": 5,
    "start_time": "2022-10-02T13:21:28.558Z"
   },
   {
    "duration": 8,
    "start_time": "2022-10-02T13:21:28.564Z"
   },
   {
    "duration": 9,
    "start_time": "2022-10-02T13:21:28.573Z"
   },
   {
    "duration": 17,
    "start_time": "2022-10-02T13:21:28.583Z"
   },
   {
    "duration": 12,
    "start_time": "2022-10-02T13:21:28.602Z"
   },
   {
    "duration": 10,
    "start_time": "2022-10-02T13:21:28.615Z"
   },
   {
    "duration": 29,
    "start_time": "2022-10-02T13:21:28.628Z"
   },
   {
    "duration": 14,
    "start_time": "2022-10-02T13:21:28.659Z"
   },
   {
    "duration": 7,
    "start_time": "2022-10-02T13:21:28.675Z"
   },
   {
    "duration": 7,
    "start_time": "2022-10-02T13:21:28.683Z"
   },
   {
    "duration": 10,
    "start_time": "2022-10-02T13:21:28.701Z"
   },
   {
    "duration": 11,
    "start_time": "2022-10-02T13:21:28.712Z"
   },
   {
    "duration": 535,
    "start_time": "2022-10-02T13:21:28.724Z"
   },
   {
    "duration": 27,
    "start_time": "2022-10-02T13:21:29.261Z"
   },
   {
    "duration": 13,
    "start_time": "2022-10-02T13:21:29.289Z"
   },
   {
    "duration": 151,
    "start_time": "2022-10-02T13:21:29.310Z"
   },
   {
    "duration": 10,
    "start_time": "2022-10-02T13:21:29.463Z"
   },
   {
    "duration": 126,
    "start_time": "2022-10-02T13:21:29.475Z"
   },
   {
    "duration": 8,
    "start_time": "2022-10-02T13:21:29.603Z"
   },
   {
    "duration": 10,
    "start_time": "2022-10-02T13:21:29.612Z"
   },
   {
    "duration": 14,
    "start_time": "2022-10-02T13:21:29.624Z"
   },
   {
    "duration": 18,
    "start_time": "2022-10-02T13:21:29.639Z"
   },
   {
    "duration": 8,
    "start_time": "2022-10-02T13:21:29.659Z"
   },
   {
    "duration": 112,
    "start_time": "2022-10-02T13:21:29.668Z"
   },
   {
    "duration": 209,
    "start_time": "2022-10-02T13:21:29.782Z"
   },
   {
    "duration": 12,
    "start_time": "2022-10-02T13:21:29.992Z"
   },
   {
    "duration": 8,
    "start_time": "2022-10-02T13:21:30.005Z"
   },
   {
    "duration": 31,
    "start_time": "2022-10-02T13:21:30.015Z"
   },
   {
    "duration": 9,
    "start_time": "2022-10-02T13:21:30.048Z"
   },
   {
    "duration": 8,
    "start_time": "2022-10-02T13:21:30.058Z"
   },
   {
    "duration": 36,
    "start_time": "2022-10-02T13:21:30.068Z"
   },
   {
    "duration": 4,
    "start_time": "2022-10-02T13:21:30.105Z"
   },
   {
    "duration": 121,
    "start_time": "2022-10-02T13:21:30.111Z"
   },
   {
    "duration": 177,
    "start_time": "2022-10-02T13:21:30.234Z"
   },
   {
    "duration": 11,
    "start_time": "2022-10-02T13:21:30.413Z"
   },
   {
    "duration": 120,
    "start_time": "2022-10-02T13:21:30.425Z"
   },
   {
    "duration": 148,
    "start_time": "2022-10-02T13:21:30.547Z"
   },
   {
    "duration": 10,
    "start_time": "2022-10-02T13:21:30.699Z"
   },
   {
    "duration": 32,
    "start_time": "2022-10-02T13:21:30.711Z"
   },
   {
    "duration": 38,
    "start_time": "2022-10-02T13:21:30.745Z"
   },
   {
    "duration": 14,
    "start_time": "2022-10-02T13:21:30.785Z"
   },
   {
    "duration": 23,
    "start_time": "2022-10-02T13:21:30.800Z"
   },
   {
    "duration": 21,
    "start_time": "2022-10-02T13:21:30.824Z"
   },
   {
    "duration": 46,
    "start_time": "2022-10-02T13:21:30.846Z"
   },
   {
    "duration": 31,
    "start_time": "2022-10-02T13:21:30.894Z"
   },
   {
    "duration": 41,
    "start_time": "2022-10-02T13:21:30.927Z"
   },
   {
    "duration": 15,
    "start_time": "2022-10-02T13:21:30.970Z"
   },
   {
    "duration": 42,
    "start_time": "2022-10-02T13:21:30.987Z"
   },
   {
    "duration": 23,
    "start_time": "2022-10-02T13:21:31.031Z"
   },
   {
    "duration": 26,
    "start_time": "2022-10-02T13:21:31.056Z"
   },
   {
    "duration": 28,
    "start_time": "2022-10-02T13:21:31.084Z"
   },
   {
    "duration": 16,
    "start_time": "2022-10-02T13:21:31.113Z"
   },
   {
    "duration": 20,
    "start_time": "2022-10-02T13:21:31.131Z"
   },
   {
    "duration": 17,
    "start_time": "2022-10-02T13:21:31.153Z"
   },
   {
    "duration": 11,
    "start_time": "2022-10-02T13:21:31.172Z"
   },
   {
    "duration": 14,
    "start_time": "2022-10-02T13:21:31.185Z"
   },
   {
    "duration": 49,
    "start_time": "2022-10-02T13:21:31.200Z"
   },
   {
    "duration": 262,
    "start_time": "2022-10-02T13:21:31.252Z"
   },
   {
    "duration": 8,
    "start_time": "2022-10-02T13:21:31.515Z"
   },
   {
    "duration": 193,
    "start_time": "2022-10-02T13:21:31.524Z"
   },
   {
    "duration": 10,
    "start_time": "2022-10-02T13:21:31.719Z"
   },
   {
    "duration": 189,
    "start_time": "2022-10-02T13:21:31.731Z"
   },
   {
    "duration": 9,
    "start_time": "2022-10-02T13:21:31.921Z"
   },
   {
    "duration": 172,
    "start_time": "2022-10-02T13:21:31.932Z"
   },
   {
    "duration": 8,
    "start_time": "2022-10-02T13:21:32.105Z"
   },
   {
    "duration": 525,
    "start_time": "2022-10-02T13:21:32.115Z"
   },
   {
    "duration": 9,
    "start_time": "2022-10-02T13:21:32.642Z"
   },
   {
    "duration": 155,
    "start_time": "2022-10-02T13:21:32.652Z"
   },
   {
    "duration": 8,
    "start_time": "2022-10-02T13:21:32.808Z"
   },
   {
    "duration": 165,
    "start_time": "2022-10-02T13:21:32.825Z"
   },
   {
    "duration": 12,
    "start_time": "2022-10-02T13:21:32.991Z"
   },
   {
    "duration": 160,
    "start_time": "2022-10-02T13:21:33.004Z"
   },
   {
    "duration": 10,
    "start_time": "2022-10-02T13:21:33.166Z"
   },
   {
    "duration": 146,
    "start_time": "2022-10-02T13:21:33.178Z"
   },
   {
    "duration": 7,
    "start_time": "2022-10-02T13:21:33.325Z"
   },
   {
    "duration": 251,
    "start_time": "2022-10-02T13:21:33.333Z"
   },
   {
    "duration": 18,
    "start_time": "2022-10-02T13:21:33.586Z"
   },
   {
    "duration": 4,
    "start_time": "2022-10-02T13:21:33.605Z"
   },
   {
    "duration": 9,
    "start_time": "2022-10-02T13:21:33.611Z"
   },
   {
    "duration": 181,
    "start_time": "2022-10-02T13:21:33.621Z"
   },
   {
    "duration": 9,
    "start_time": "2022-10-02T13:21:33.804Z"
   },
   {
    "duration": 4,
    "start_time": "2022-10-02T13:21:33.814Z"
   },
   {
    "duration": 10,
    "start_time": "2022-10-02T13:21:33.819Z"
   },
   {
    "duration": 183,
    "start_time": "2022-10-02T13:21:33.831Z"
   },
   {
    "duration": 9,
    "start_time": "2022-10-02T13:21:34.016Z"
   },
   {
    "duration": 4,
    "start_time": "2022-10-02T13:21:34.027Z"
   },
   {
    "duration": 14,
    "start_time": "2022-10-02T13:21:34.032Z"
   },
   {
    "duration": 297,
    "start_time": "2022-10-02T13:21:34.048Z"
   },
   {
    "duration": 9,
    "start_time": "2022-10-02T13:21:34.347Z"
   },
   {
    "duration": 210,
    "start_time": "2022-10-02T13:21:34.357Z"
   },
   {
    "duration": 9,
    "start_time": "2022-10-02T13:21:34.569Z"
   },
   {
    "duration": 172,
    "start_time": "2022-10-02T13:21:34.580Z"
   },
   {
    "duration": 6,
    "start_time": "2022-10-02T13:21:34.753Z"
   },
   {
    "duration": 6,
    "start_time": "2022-10-02T13:21:34.760Z"
   },
   {
    "duration": 167,
    "start_time": "2022-10-02T13:21:34.767Z"
   },
   {
    "duration": 230,
    "start_time": "2022-10-02T13:21:34.936Z"
   },
   {
    "duration": 134,
    "start_time": "2022-10-02T13:21:35.168Z"
   },
   {
    "duration": 9,
    "start_time": "2022-10-02T13:21:35.303Z"
   },
   {
    "duration": 545,
    "start_time": "2022-10-02T13:21:35.313Z"
   },
   {
    "duration": 121,
    "start_time": "2022-10-02T13:21:35.860Z"
   },
   {
    "duration": 19,
    "start_time": "2022-10-02T13:21:35.983Z"
   },
   {
    "duration": 142,
    "start_time": "2022-10-02T13:21:36.004Z"
   },
   {
    "duration": 12,
    "start_time": "2022-10-02T13:21:36.148Z"
   },
   {
    "duration": 140,
    "start_time": "2022-10-02T13:21:36.162Z"
   },
   {
    "duration": 12,
    "start_time": "2022-10-02T13:21:36.303Z"
   },
   {
    "duration": 248,
    "start_time": "2022-10-02T13:21:36.317Z"
   },
   {
    "duration": 12,
    "start_time": "2022-10-02T13:21:36.567Z"
   },
   {
    "duration": 179,
    "start_time": "2022-10-02T13:21:36.580Z"
   },
   {
    "duration": 12,
    "start_time": "2022-10-02T13:21:36.761Z"
   },
   {
    "duration": 164,
    "start_time": "2022-10-02T13:21:36.774Z"
   },
   {
    "duration": 16,
    "start_time": "2022-10-02T13:21:36.940Z"
   },
   {
    "duration": 511,
    "start_time": "2022-10-02T13:21:36.957Z"
   },
   {
    "duration": 23,
    "start_time": "2022-10-02T13:21:37.469Z"
   },
   {
    "duration": 164,
    "start_time": "2022-10-02T13:21:37.500Z"
   },
   {
    "duration": 36,
    "start_time": "2022-10-02T13:21:37.666Z"
   },
   {
    "duration": 7,
    "start_time": "2022-10-02T13:21:37.703Z"
   },
   {
    "duration": 13,
    "start_time": "2022-10-02T13:21:37.712Z"
   },
   {
    "duration": 12,
    "start_time": "2022-10-02T13:21:37.727Z"
   },
   {
    "duration": 6,
    "start_time": "2022-10-02T13:21:37.740Z"
   },
   {
    "duration": 5,
    "start_time": "2022-10-02T13:21:37.747Z"
   },
   {
    "duration": 195,
    "start_time": "2022-10-02T13:21:37.754Z"
   },
   {
    "duration": 77,
    "start_time": "2022-10-02T13:25:05.253Z"
   },
   {
    "duration": 29,
    "start_time": "2022-10-02T13:27:09.820Z"
   },
   {
    "duration": 13,
    "start_time": "2022-10-02T13:27:35.647Z"
   },
   {
    "duration": 21,
    "start_time": "2022-10-02T13:28:12.726Z"
   },
   {
    "duration": 40,
    "start_time": "2022-10-02T13:30:45.095Z"
   },
   {
    "duration": 17,
    "start_time": "2022-10-02T13:30:55.782Z"
   },
   {
    "duration": 14,
    "start_time": "2022-10-02T13:31:32.246Z"
   },
   {
    "duration": 49,
    "start_time": "2022-10-02T13:38:32.339Z"
   },
   {
    "duration": 119,
    "start_time": "2022-10-02T13:39:47.060Z"
   },
   {
    "duration": 127,
    "start_time": "2022-10-02T13:43:08.181Z"
   },
   {
    "duration": 121,
    "start_time": "2022-10-02T13:43:21.907Z"
   },
   {
    "duration": 109,
    "start_time": "2022-10-02T13:43:44.116Z"
   },
   {
    "duration": 62,
    "start_time": "2022-10-02T13:44:02.314Z"
   },
   {
    "duration": 126,
    "start_time": "2022-10-02T13:44:08.904Z"
   },
   {
    "duration": 55,
    "start_time": "2022-10-02T13:44:25.611Z"
   },
   {
    "duration": 134,
    "start_time": "2022-10-02T13:44:40.547Z"
   },
   {
    "duration": 67,
    "start_time": "2022-10-02T13:49:35.309Z"
   },
   {
    "duration": 34,
    "start_time": "2022-10-02T13:49:50.009Z"
   },
   {
    "duration": 9,
    "start_time": "2022-10-02T13:50:15.913Z"
   },
   {
    "duration": 8,
    "start_time": "2022-10-02T13:51:03.511Z"
   },
   {
    "duration": 12,
    "start_time": "2022-10-02T13:51:25.941Z"
   },
   {
    "duration": 9,
    "start_time": "2022-10-02T13:52:32.906Z"
   },
   {
    "duration": 4,
    "start_time": "2022-10-02T13:54:18.593Z"
   },
   {
    "duration": 124,
    "start_time": "2022-10-02T14:10:09.168Z"
   },
   {
    "duration": 240,
    "start_time": "2022-10-02T14:40:42.911Z"
   },
   {
    "duration": 5,
    "start_time": "2022-10-02T14:49:28.162Z"
   },
   {
    "duration": 578,
    "start_time": "2022-10-02T15:00:03.750Z"
   },
   {
    "duration": 37,
    "start_time": "2022-10-02T15:00:04.330Z"
   },
   {
    "duration": 14,
    "start_time": "2022-10-02T15:00:04.369Z"
   },
   {
    "duration": 102,
    "start_time": "2022-10-02T15:00:04.401Z"
   },
   {
    "duration": 2219,
    "start_time": "2022-10-02T15:00:04.504Z"
   },
   {
    "duration": 9,
    "start_time": "2022-10-02T15:00:06.725Z"
   },
   {
    "duration": 11,
    "start_time": "2022-10-02T15:00:06.736Z"
   },
   {
    "duration": 8,
    "start_time": "2022-10-02T15:00:06.748Z"
   },
   {
    "duration": 8,
    "start_time": "2022-10-02T15:00:06.757Z"
   },
   {
    "duration": 14,
    "start_time": "2022-10-02T15:00:06.767Z"
   },
   {
    "duration": 27,
    "start_time": "2022-10-02T15:00:06.783Z"
   },
   {
    "duration": 33,
    "start_time": "2022-10-02T15:00:06.812Z"
   },
   {
    "duration": 5,
    "start_time": "2022-10-02T15:00:06.846Z"
   },
   {
    "duration": 8,
    "start_time": "2022-10-02T15:00:06.852Z"
   },
   {
    "duration": 11,
    "start_time": "2022-10-02T15:00:06.862Z"
   },
   {
    "duration": 13,
    "start_time": "2022-10-02T15:00:06.874Z"
   },
   {
    "duration": 18,
    "start_time": "2022-10-02T15:00:06.889Z"
   },
   {
    "duration": 10,
    "start_time": "2022-10-02T15:00:06.908Z"
   },
   {
    "duration": 28,
    "start_time": "2022-10-02T15:00:06.920Z"
   },
   {
    "duration": 33,
    "start_time": "2022-10-02T15:00:06.950Z"
   },
   {
    "duration": 12,
    "start_time": "2022-10-02T15:00:06.984Z"
   },
   {
    "duration": 6,
    "start_time": "2022-10-02T15:00:06.998Z"
   },
   {
    "duration": 17,
    "start_time": "2022-10-02T15:00:07.006Z"
   },
   {
    "duration": 19,
    "start_time": "2022-10-02T15:00:07.025Z"
   },
   {
    "duration": 598,
    "start_time": "2022-10-02T15:00:07.046Z"
   },
   {
    "duration": 18,
    "start_time": "2022-10-02T15:00:07.645Z"
   },
   {
    "duration": 6,
    "start_time": "2022-10-02T15:00:07.664Z"
   },
   {
    "duration": 145,
    "start_time": "2022-10-02T15:00:07.675Z"
   },
   {
    "duration": 9,
    "start_time": "2022-10-02T15:00:07.822Z"
   },
   {
    "duration": 127,
    "start_time": "2022-10-02T15:00:07.832Z"
   },
   {
    "duration": 8,
    "start_time": "2022-10-02T15:00:07.960Z"
   },
   {
    "duration": 21,
    "start_time": "2022-10-02T15:00:07.969Z"
   },
   {
    "duration": 16,
    "start_time": "2022-10-02T15:00:07.991Z"
   },
   {
    "duration": 19,
    "start_time": "2022-10-02T15:00:08.009Z"
   },
   {
    "duration": 31,
    "start_time": "2022-10-02T15:00:08.029Z"
   },
   {
    "duration": 106,
    "start_time": "2022-10-02T15:00:08.061Z"
   },
   {
    "duration": 207,
    "start_time": "2022-10-02T15:00:08.169Z"
   },
   {
    "duration": 5,
    "start_time": "2022-10-02T15:00:08.378Z"
   },
   {
    "duration": 24,
    "start_time": "2022-10-02T15:00:08.385Z"
   },
   {
    "duration": 36,
    "start_time": "2022-10-02T15:00:08.411Z"
   },
   {
    "duration": 8,
    "start_time": "2022-10-02T15:00:08.448Z"
   },
   {
    "duration": 10,
    "start_time": "2022-10-02T15:00:08.457Z"
   },
   {
    "duration": 5,
    "start_time": "2022-10-02T15:00:08.468Z"
   },
   {
    "duration": 6,
    "start_time": "2022-10-02T15:00:08.475Z"
   },
   {
    "duration": 136,
    "start_time": "2022-10-02T15:00:08.482Z"
   },
   {
    "duration": 182,
    "start_time": "2022-10-02T15:00:08.620Z"
   },
   {
    "duration": 10,
    "start_time": "2022-10-02T15:00:08.804Z"
   },
   {
    "duration": 116,
    "start_time": "2022-10-02T15:00:08.816Z"
   },
   {
    "duration": 153,
    "start_time": "2022-10-02T15:00:08.934Z"
   },
   {
    "duration": 11,
    "start_time": "2022-10-02T15:00:09.089Z"
   },
   {
    "duration": 7,
    "start_time": "2022-10-02T15:00:09.102Z"
   },
   {
    "duration": 18,
    "start_time": "2022-10-02T15:00:09.111Z"
   },
   {
    "duration": 5,
    "start_time": "2022-10-02T15:00:09.131Z"
   },
   {
    "duration": 10,
    "start_time": "2022-10-02T15:00:09.138Z"
   },
   {
    "duration": 7,
    "start_time": "2022-10-02T15:00:09.150Z"
   },
   {
    "duration": 6,
    "start_time": "2022-10-02T15:00:09.159Z"
   },
   {
    "duration": 4,
    "start_time": "2022-10-02T15:00:09.167Z"
   },
   {
    "duration": 5,
    "start_time": "2022-10-02T15:00:09.173Z"
   },
   {
    "duration": 5,
    "start_time": "2022-10-02T15:00:09.180Z"
   },
   {
    "duration": 16,
    "start_time": "2022-10-02T15:00:09.186Z"
   },
   {
    "duration": 6,
    "start_time": "2022-10-02T15:00:09.205Z"
   },
   {
    "duration": 13,
    "start_time": "2022-10-02T15:00:09.213Z"
   },
   {
    "duration": 13,
    "start_time": "2022-10-02T15:00:09.228Z"
   },
   {
    "duration": 157,
    "start_time": "2022-10-02T15:00:09.242Z"
   },
   {
    "duration": 10,
    "start_time": "2022-10-02T15:00:09.401Z"
   },
   {
    "duration": 7,
    "start_time": "2022-10-02T15:00:09.413Z"
   },
   {
    "duration": 24,
    "start_time": "2022-10-02T15:00:09.421Z"
   },
   {
    "duration": 8,
    "start_time": "2022-10-02T15:00:09.447Z"
   },
   {
    "duration": 4,
    "start_time": "2022-10-02T15:00:09.457Z"
   },
   {
    "duration": 3,
    "start_time": "2022-10-02T15:00:09.463Z"
   },
   {
    "duration": 34,
    "start_time": "2022-10-02T15:00:09.468Z"
   },
   {
    "duration": 271,
    "start_time": "2022-10-02T15:00:09.503Z"
   },
   {
    "duration": 6,
    "start_time": "2022-10-02T15:00:09.776Z"
   },
   {
    "duration": 195,
    "start_time": "2022-10-02T15:00:09.784Z"
   },
   {
    "duration": 8,
    "start_time": "2022-10-02T15:00:09.981Z"
   },
   {
    "duration": 194,
    "start_time": "2022-10-02T15:00:10.001Z"
   },
   {
    "duration": 16,
    "start_time": "2022-10-02T15:00:10.196Z"
   },
   {
    "duration": 270,
    "start_time": "2022-10-02T15:00:10.214Z"
   },
   {
    "duration": 19,
    "start_time": "2022-10-02T15:00:10.486Z"
   },
   {
    "duration": 517,
    "start_time": "2022-10-02T15:00:10.507Z"
   },
   {
    "duration": 8,
    "start_time": "2022-10-02T15:00:11.026Z"
   },
   {
    "duration": 167,
    "start_time": "2022-10-02T15:00:11.040Z"
   },
   {
    "duration": 11,
    "start_time": "2022-10-02T15:00:11.209Z"
   },
   {
    "duration": 153,
    "start_time": "2022-10-02T15:00:11.222Z"
   },
   {
    "duration": 8,
    "start_time": "2022-10-02T15:00:11.376Z"
   },
   {
    "duration": 184,
    "start_time": "2022-10-02T15:00:11.385Z"
   },
   {
    "duration": 9,
    "start_time": "2022-10-02T15:00:11.571Z"
   },
   {
    "duration": 176,
    "start_time": "2022-10-02T15:00:11.582Z"
   },
   {
    "duration": 8,
    "start_time": "2022-10-02T15:00:11.760Z"
   },
   {
    "duration": 174,
    "start_time": "2022-10-02T15:00:11.769Z"
   },
   {
    "duration": 7,
    "start_time": "2022-10-02T15:00:11.944Z"
   },
   {
    "duration": 11,
    "start_time": "2022-10-02T15:00:11.953Z"
   },
   {
    "duration": 10,
    "start_time": "2022-10-02T15:00:11.965Z"
   },
   {
    "duration": 170,
    "start_time": "2022-10-02T15:00:11.976Z"
   },
   {
    "duration": 8,
    "start_time": "2022-10-02T15:00:12.148Z"
   },
   {
    "duration": 7,
    "start_time": "2022-10-02T15:00:12.157Z"
   },
   {
    "duration": 11,
    "start_time": "2022-10-02T15:00:12.165Z"
   },
   {
    "duration": 290,
    "start_time": "2022-10-02T15:00:12.178Z"
   },
   {
    "duration": 9,
    "start_time": "2022-10-02T15:00:12.470Z"
   },
   {
    "duration": 4,
    "start_time": "2022-10-02T15:00:12.481Z"
   },
   {
    "duration": 8,
    "start_time": "2022-10-02T15:00:12.501Z"
   },
   {
    "duration": 172,
    "start_time": "2022-10-02T15:00:12.510Z"
   },
   {
    "duration": 16,
    "start_time": "2022-10-02T15:00:12.684Z"
   },
   {
    "duration": 6,
    "start_time": "2022-10-02T15:00:12.702Z"
   },
   {
    "duration": 173,
    "start_time": "2022-10-02T15:00:12.710Z"
   },
   {
    "duration": 16,
    "start_time": "2022-10-02T15:00:12.884Z"
   },
   {
    "duration": 144,
    "start_time": "2022-10-02T15:00:12.902Z"
   },
   {
    "duration": 5,
    "start_time": "2022-10-02T15:00:13.047Z"
   },
   {
    "duration": 6,
    "start_time": "2022-10-02T15:00:13.054Z"
   },
   {
    "duration": 168,
    "start_time": "2022-10-02T15:00:13.061Z"
   },
   {
    "duration": 260,
    "start_time": "2022-10-02T15:00:13.231Z"
   },
   {
    "duration": 160,
    "start_time": "2022-10-02T15:00:13.493Z"
   },
   {
    "duration": 9,
    "start_time": "2022-10-02T15:00:13.655Z"
   },
   {
    "duration": 563,
    "start_time": "2022-10-02T15:00:13.665Z"
   },
   {
    "duration": 116,
    "start_time": "2022-10-02T15:00:14.231Z"
   },
   {
    "duration": 12,
    "start_time": "2022-10-02T15:00:14.348Z"
   },
   {
    "duration": 200,
    "start_time": "2022-10-02T15:00:14.362Z"
   },
   {
    "duration": 17,
    "start_time": "2022-10-02T15:00:14.564Z"
   },
   {
    "duration": 250,
    "start_time": "2022-10-02T15:00:14.583Z"
   },
   {
    "duration": 12,
    "start_time": "2022-10-02T15:00:14.835Z"
   },
   {
    "duration": 137,
    "start_time": "2022-10-02T15:00:14.849Z"
   },
   {
    "duration": 21,
    "start_time": "2022-10-02T15:00:14.988Z"
   },
   {
    "duration": 166,
    "start_time": "2022-10-02T15:00:15.011Z"
   },
   {
    "duration": 12,
    "start_time": "2022-10-02T15:00:15.179Z"
   },
   {
    "duration": 148,
    "start_time": "2022-10-02T15:00:15.200Z"
   },
   {
    "duration": 16,
    "start_time": "2022-10-02T15:00:15.350Z"
   },
   {
    "duration": 500,
    "start_time": "2022-10-02T15:00:15.367Z"
   },
   {
    "duration": 39,
    "start_time": "2022-10-02T15:00:15.869Z"
   },
   {
    "duration": 173,
    "start_time": "2022-10-02T15:00:15.910Z"
   },
   {
    "duration": 28,
    "start_time": "2022-10-02T15:00:16.085Z"
   },
   {
    "duration": 41,
    "start_time": "2022-10-02T15:00:16.115Z"
   },
   {
    "duration": 11,
    "start_time": "2022-10-02T15:00:16.158Z"
   },
   {
    "duration": 13,
    "start_time": "2022-10-02T15:00:16.170Z"
   },
   {
    "duration": 6,
    "start_time": "2022-10-02T15:00:16.184Z"
   },
   {
    "duration": 12,
    "start_time": "2022-10-02T15:00:16.191Z"
   },
   {
    "duration": 187,
    "start_time": "2022-10-02T15:00:16.205Z"
   },
   {
    "duration": 104,
    "start_time": "2022-10-02T15:07:27.249Z"
   }
  ],
  "kernelspec": {
   "display_name": "Python 3 (ipykernel)",
   "language": "python",
   "name": "python3"
  },
  "language_info": {
   "codemirror_mode": {
    "name": "ipython",
    "version": 3
   },
   "file_extension": ".py",
   "mimetype": "text/x-python",
   "name": "python",
   "nbconvert_exporter": "python",
   "pygments_lexer": "ipython3",
   "version": "3.9.12"
  },
  "toc": {
   "base_numbering": 1,
   "nav_menu": {},
   "number_sections": true,
   "sideBar": true,
   "skip_h1_title": true,
   "title_cell": "Table of Contents",
   "title_sidebar": "Contents",
   "toc_cell": false,
   "toc_position": {},
   "toc_section_display": true,
   "toc_window_display": true
  }
 },
 "nbformat": 4,
 "nbformat_minor": 2
}
